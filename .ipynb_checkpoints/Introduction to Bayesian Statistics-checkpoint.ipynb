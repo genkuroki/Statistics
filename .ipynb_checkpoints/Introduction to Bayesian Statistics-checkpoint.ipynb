{
 "cells": [
  {
   "cell_type": "markdown",
   "metadata": {
    "slideshow": {
     "slide_type": "slide"
    }
   },
   "source": [
    "# ベイズ統計の枠組みと解釈について\n",
    "\n",
    "黒木玄\n",
    "\n",
    "2019-09-16\n",
    "\n",
    "東北大学大学院理学研究科・理学部 青葉山キャンパス 合同棟B棟10階1023号室 午後\n",
    "\n",
    "$\n",
    "\\newcommand\\eps{\\varepsilon}\n",
    "\\newcommand\\ds{\\displaystyle}\n",
    "\\newcommand\\Z{{\\mathbb Z}}\n",
    "\\newcommand\\R{{\\mathbb R}}\n",
    "\\newcommand\\C{{\\mathbb C}}\n",
    "\\newcommand\\QED{\\text{□}}\n",
    "\\newcommand\\root{\\sqrt}\n",
    "\\newcommand\\bra{\\langle}\n",
    "\\newcommand\\ket{\\rangle}\n",
    "\\newcommand\\d{\\partial}\n",
    "\\newcommand\\sech{\\operatorname{sech}}\n",
    "\\newcommand\\cosec{\\operatorname{cosec}}\n",
    "\\newcommand\\sign{\\operatorname{sign}}\n",
    "\\newcommand\\sinc{\\operatorname{sinc}}\n",
    "\\newcommand\\real{\\operatorname{Re}}\n",
    "\\newcommand\\imag{\\operatorname{Im}}\n",
    "\\newcommand\\Li{\\operatorname{Li}}\n",
    "\\newcommand\\PROD{\\mathop{\\coprod\\kern-1.35em\\prod}}\n",
    "$"
   ]
  },
  {
   "cell_type": "markdown",
   "metadata": {
    "slideshow": {
     "slide_type": "-"
    }
   },
   "source": [
    "**要約:**\n",
    "\n",
    "(1) ベイズ統計の数学的枠組みは統計力学と極めて似ている. 分配函数とその対数(の $-1/\\beta$ 倍)の自由エネルギーはベイズ統計でも本質的な役割を果たす.  ベイズ統計に逆温度を導入することもできて, 物理的直観がそのまま適用可能である.\n",
    "\n",
    "(2) 統計学としてのベイズ統計の解釈には混乱の歴史がある. 確率概念に関する混乱があったと言ってもよい.  その混乱は, 数学的モデル内部での確率と現実での確率を明瞭に区別すれば取り除かれる.\n",
    "\n",
    "初歩的な確率論と統計学の復習から始めて丁寧に議論を進めたい.\n",
    "\n",
    "確率密度函数のことを確率分布と呼ぶ用語の濫用を行うので注意せよ."
   ]
  },
  {
   "cell_type": "markdown",
   "metadata": {
    "slideshow": {
     "slide_type": "-"
    },
    "toc": true
   },
   "source": [
    "<h1>目次<span class=\"tocSkip\"></span></h1>\n",
    "<div class=\"toc\"><ul class=\"toc-item\"><li><span><a href=\"#確率論の三種の神器\" data-toc-modified-id=\"確率論の三種の神器-1\"><span class=\"toc-item-num\">1&nbsp;&nbsp;</span>確率論の三種の神器</a></span><ul class=\"toc-item\"><li><span><a href=\"#有限集合上の確率分布に関するSanovの定理の証明\" data-toc-modified-id=\"有限集合上の確率分布に関するSanovの定理の証明-1.1\"><span class=\"toc-item-num\">1.1&nbsp;&nbsp;</span>有限集合上の確率分布に関するSanovの定理の証明</a></span></li></ul></li></ul></div>"
   ]
  },
  {
   "cell_type": "markdown",
   "metadata": {
    "slideshow": {
     "slide_type": "slide"
    }
   },
   "source": [
    "## 確率論の三種の神器\n",
    "\n",
    "平均と有限の分散を持つ確率分布 $p(x)$ が任意に与えられていて, $X_1,X_2,X_3,\\ldots$ は各々の確率分布が $p(x)$ であるような独立同分布確率変数列であるとする(例: サイコロの目の列). \n",
    "\n",
    "このとき, $X_1,X_2,\\ldots,X_n$ を**母集団分布** $p(x)$ のサイズ $n$ の**サンプル**と呼ぶ.\n",
    "\n",
    "$\\mu = E[X_k]$, $\\sigma^2 = E[(X_k - \\mu)^2]$ とおく. \n",
    "\n",
    "(1) 大数の法則: $\\ds \\frac{X_1+\\cdots+X_n}{n} \\to \\mu$.\n",
    "\n",
    "(2) 中心極限定理: $\\mu=0$, $\\sigma=1$ と仮定する. このとき,\n",
    "\n",
    "$$\n",
    "E\\left[f\\left(\\frac{(X_1-\\mu)+\\cdots+(X_n-\\mu)}{\\sqrt{n\\sigma^2}}\\right)\\right] \\to \\int_\\R f(x)\\frac{e^{-x^2/2}}{\\sqrt{2\\pi}}\\,dx\n",
    "$$\n",
    "\n",
    "**(3) Sanovの定理:** 確率分布 $q(x)$ について, \n",
    "\n",
    "($X_1,X_2,\\ldots,X_n$ が確率分布 $q(x)$ のサンプルに見える確率) $= \\exp(-nD(q||p)+o(n))$.\n",
    "\n",
    "ただし, $D(q||p)$ は**Kullback-Leibler情報量**である:\n",
    "\n",
    "$$\n",
    "D(q||p) = \\int q(x)\\log\\frac{q(x)}{p(x)}\\,dx = G(q||p) - S(q).\n",
    "$$\n",
    "\n",
    "ここで\n",
    "\n",
    "$$\n",
    "G(q||p) = \\int q(x)(-\\log p(x))\\,dx, \\quad S(q) = G(q||q)\n",
    "$$\n",
    "\n",
    "はそれぞれ予測分布 $p(x)$ による分布 $q(x)$ の予測の**汎化誤差** (generalization error)と呼ばれ, $S(q)$ は分布 $q$ の**Shannon情報量**と呼ばれる.\n",
    "\n",
    "Sanovの定理は\n",
    "\n",
    "* 確率分布 $p(x)$ に従う乱数列 $X_1,X_2,\\ldots,X_n$ で確率分布 $q(x)$ のシミュレーションを行うとき, そのシミュレーションが $q(x)$ からずれていることが明瞭にならずに済む確率が $n$ について指数函数的に減少し, その減少の速さがKullback-Leibler情報量になっていること\n",
    "\n",
    "を意味している.  このことから, KL情報量 $D(q||p)$ は分布 $p$ による分布 $q$ の予測(シミュレーション)の**予測誤差**とみなせることを意味している."
   ]
  },
  {
   "cell_type": "markdown",
   "metadata": {
    "slideshow": {
     "slide_type": "subslide"
    }
   },
   "source": [
    "### 有限集合上の確率分布に関するSanovの定理の証明\n",
    "\n",
    "確率 $p_i$ で $i=1,2,\\ldots,r$ の目が出るサイコロを考える.  $q_i$ は集合 $\\{1,2,\\ldots,r\\}$ 上の任意の確率分布であるとする($0$ 以上で総和が $1$).\n",
    "\n",
    "このとき, $n$ 回サイコロをふって $i=1,2,\\ldots,n$ の目が $k_i$ 回出る確率は多項分布の確率\n",
    "\n",
    "$$\n",
    "\\frac{n!}{k_1!\\cdots k_r!}p_1^{k_1}\\cdots p_r^{k_r}\n",
    "$$\n",
    "\n",
    "になる. そのような出目がまるで確率分布 $q_i$ に従っているように見えることは $k_i \\approx nq_i$ が成立することだと解釈される. そこで, 多項分布の確率の式の $k_i$ に $nq_i$ を代入して, さらに階乗にStirlingの近似公式を適用すると, 上の確率は次のように書き直される:\n",
    "\n",
    "$$\n",
    "\\frac{1}{\\sqrt{(2\\pi)^{r-1}q_1\\cdots q_r}}\\exp\\left(-n\\sum_{i=1}^r q_i\\log\\frac{p_i}{q_i}\\right) =\n",
    "\\exp\\left(-n\\sum_{i=1}^r q_i\\log\\frac{p_i}{q_i} + o(n)\\right).\n",
    "$$\n",
    "\n",
    "これで有限集合上の確率分布に関するSanovの定理を証明できたことになる. \n",
    "\n",
    "一般の場合はこれの「連続極限」として得られると考えてもよい.\n",
    "\n",
    "より詳しい説明が以下のリンク先にある:\n",
    "\n",
    "* https://nbviewer.jupyter.org/gist/genkuroki/71a3e6006740c43065a23f1675a48d60\n",
    "* https://genkuroki.github.io/documents/20160616KullbackLeibler.pdf"
   ]
  }
 ],
 "metadata": {
  "celltoolbar": "Slideshow",
  "kernelspec": {
   "display_name": "Julia 1.1.1",
   "language": "julia",
   "name": "julia-1.1"
  },
  "language_info": {
   "file_extension": ".jl",
   "mimetype": "application/julia",
   "name": "julia",
   "version": "1.1.1"
  },
  "toc": {
   "base_numbering": 1,
   "nav_menu": {},
   "number_sections": true,
   "sideBar": true,
   "skip_h1_title": true,
   "title_cell": "目次",
   "title_sidebar": "目次",
   "toc_cell": true,
   "toc_position": {
    "height": "calc(100% - 180px)",
    "left": "10px",
    "top": "150px",
    "width": "219.195px"
   },
   "toc_section_display": true,
   "toc_window_display": false
  }
 },
 "nbformat": 4,
 "nbformat_minor": 2
}
