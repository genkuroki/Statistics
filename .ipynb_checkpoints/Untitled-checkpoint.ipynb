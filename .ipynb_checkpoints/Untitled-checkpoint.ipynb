{
 "cells": [
  {
   "cell_type": "code",
   "execution_count": 26,
   "metadata": {},
   "outputs": [],
   "source": [
    "using Base64\n",
    "displayfile(mime, file; tag=\"img\") = open(file) do f\n",
    "    display(\"text/html\", \"\"\"<$tag src=\"data:$mime;base64,$(base64encode(f))\">\"\"\")\n",
    "end\n",
    "\n",
    "using Plots\n",
    "gr()\n",
    "default(titlefontsize=10, size=(400, 250))\n",
    "\n",
    "using Distributions"
   ]
  },
  {
   "cell_type": "code",
   "execution_count": 7,
   "metadata": {},
   "outputs": [
    {
     "data": {
      "text/plain": [
       "p_val (generic function with 1 method)"
      ]
     },
     "execution_count": 7,
     "metadata": {},
     "output_type": "execute_result"
    }
   ],
   "source": [
    "# 尤度函数 (p + q > 1 では値を NaN に設定)\n",
    "likelihood_func(p, q; x=[34, 32, 34]) = if p + q ≤ 1\n",
    "    pdf(Multinomial(sum(x), [p, q, max(0, 1-p-q)]), x)\n",
    "else\n",
    "    NaN\n",
    "end\n",
    "\n",
    "# カイ2乗統計量\n",
    "chisq_statistic(n, p, q, phat, qhat) = let r = 1-p-q, rhat = 1-phat-qhat\n",
    "    n*((p-phat)^2/phat + (q-qhat)^2/qhat + (r-rhat)^2/rhat)\n",
    "end\n",
    "\n",
    "# p値\n",
    "p_val(n, p, q, phat, qhat) = ccdf(Chisq(2), chisq_statistic(n, p, q, phat, qhat))"
   ]
  },
  {
   "cell_type": "code",
   "execution_count": 15,
   "metadata": {},
   "outputs": [
    {
     "data": {
      "image/svg+xml": [
       "<?xml version=\"1.0\" encoding=\"utf-8\"?>\n",
       "<svg xmlns=\"http://www.w3.org/2000/svg\" xmlns:xlink=\"http://www.w3.org/1999/xlink\" width=\"400\" height=\"250\" viewBox=\"0 0 1600 1000\">\n",
       "<defs>\n",
       "  <clipPath id=\"clip8000\">\n",
       "    <rect x=\"0\" y=\"0\" width=\"1600\" height=\"1000\"/>\n",
       "  </clipPath>\n",
       "</defs>\n",
       "<polygon clip-path=\"url(#clip8000)\" points=\"\n",
       "0,1000 1600,1000 1600,0 0,0 \n",
       "  \" fill=\"#ffffff\" fill-rule=\"evenodd\" fill-opacity=\"1\"/>\n",
       "<defs>\n",
       "  <clipPath id=\"clip8001\">\n",
       "    <rect x=\"320\" y=\"0\" width=\"1121\" height=\"1000\"/>\n",
       "  </clipPath>\n",
       "</defs>\n",
       "<polygon clip-path=\"url(#clip8000)\" points=\"\n",
       "145.898,895.571 1552.76,895.571 1552.76,47.2441 145.898,47.2441 \n",
       "  \" fill=\"#ffffff\" fill-rule=\"evenodd\" fill-opacity=\"1\"/>\n",
       "<defs>\n",
       "  <clipPath id=\"clip8002\">\n",
       "    <rect x=\"145\" y=\"47\" width=\"1408\" height=\"849\"/>\n",
       "  </clipPath>\n",
       "</defs>\n",
       "<polyline clip-path=\"url(#clip8002)\" style=\"stroke:#000000; stroke-width:2; stroke-opacity:0.1; fill:none\" points=\"\n",
       "  185.715,895.571 185.715,47.2441 \n",
       "  \"/>\n",
       "<polyline clip-path=\"url(#clip8002)\" style=\"stroke:#000000; stroke-width:2; stroke-opacity:0.1; fill:none\" points=\"\n",
       "  451.16,895.571 451.16,47.2441 \n",
       "  \"/>\n",
       "<polyline clip-path=\"url(#clip8002)\" style=\"stroke:#000000; stroke-width:2; stroke-opacity:0.1; fill:none\" points=\"\n",
       "  716.604,895.571 716.604,47.2441 \n",
       "  \"/>\n",
       "<polyline clip-path=\"url(#clip8002)\" style=\"stroke:#000000; stroke-width:2; stroke-opacity:0.1; fill:none\" points=\"\n",
       "  982.049,895.571 982.049,47.2441 \n",
       "  \"/>\n",
       "<polyline clip-path=\"url(#clip8002)\" style=\"stroke:#000000; stroke-width:2; stroke-opacity:0.1; fill:none\" points=\"\n",
       "  1247.49,895.571 1247.49,47.2441 \n",
       "  \"/>\n",
       "<polyline clip-path=\"url(#clip8002)\" style=\"stroke:#000000; stroke-width:2; stroke-opacity:0.1; fill:none\" points=\"\n",
       "  1512.94,895.571 1512.94,47.2441 \n",
       "  \"/>\n",
       "<polyline clip-path=\"url(#clip8002)\" style=\"stroke:#000000; stroke-width:2; stroke-opacity:0.1; fill:none\" points=\"\n",
       "  145.898,768.754 1552.76,768.754 \n",
       "  \"/>\n",
       "<polyline clip-path=\"url(#clip8002)\" style=\"stroke:#000000; stroke-width:2; stroke-opacity:0.1; fill:none\" points=\"\n",
       "  145.898,594.379 1552.76,594.379 \n",
       "  \"/>\n",
       "<polyline clip-path=\"url(#clip8002)\" style=\"stroke:#000000; stroke-width:2; stroke-opacity:0.1; fill:none\" points=\"\n",
       "  145.898,420.004 1552.76,420.004 \n",
       "  \"/>\n",
       "<polyline clip-path=\"url(#clip8002)\" style=\"stroke:#000000; stroke-width:2; stroke-opacity:0.1; fill:none\" points=\"\n",
       "  145.898,245.629 1552.76,245.629 \n",
       "  \"/>\n",
       "<polyline clip-path=\"url(#clip8002)\" style=\"stroke:#000000; stroke-width:2; stroke-opacity:0.1; fill:none\" points=\"\n",
       "  145.898,71.2533 1552.76,71.2533 \n",
       "  \"/>\n",
       "<polyline clip-path=\"url(#clip8000)\" style=\"stroke:#000000; stroke-width:4; stroke-opacity:1; fill:none\" points=\"\n",
       "  145.898,895.571 1552.76,895.571 \n",
       "  \"/>\n",
       "<polyline clip-path=\"url(#clip8000)\" style=\"stroke:#000000; stroke-width:4; stroke-opacity:1; fill:none\" points=\"\n",
       "  145.898,895.571 145.898,47.2441 \n",
       "  \"/>\n",
       "<polyline clip-path=\"url(#clip8000)\" style=\"stroke:#000000; stroke-width:4; stroke-opacity:1; fill:none\" points=\"\n",
       "  185.715,895.571 185.715,882.846 \n",
       "  \"/>\n",
       "<polyline clip-path=\"url(#clip8000)\" style=\"stroke:#000000; stroke-width:4; stroke-opacity:1; fill:none\" points=\"\n",
       "  451.16,895.571 451.16,882.846 \n",
       "  \"/>\n",
       "<polyline clip-path=\"url(#clip8000)\" style=\"stroke:#000000; stroke-width:4; stroke-opacity:1; fill:none\" points=\"\n",
       "  716.604,895.571 716.604,882.846 \n",
       "  \"/>\n",
       "<polyline clip-path=\"url(#clip8000)\" style=\"stroke:#000000; stroke-width:4; stroke-opacity:1; fill:none\" points=\"\n",
       "  982.049,895.571 982.049,882.846 \n",
       "  \"/>\n",
       "<polyline clip-path=\"url(#clip8000)\" style=\"stroke:#000000; stroke-width:4; stroke-opacity:1; fill:none\" points=\"\n",
       "  1247.49,895.571 1247.49,882.846 \n",
       "  \"/>\n",
       "<polyline clip-path=\"url(#clip8000)\" style=\"stroke:#000000; stroke-width:4; stroke-opacity:1; fill:none\" points=\"\n",
       "  1512.94,895.571 1512.94,882.846 \n",
       "  \"/>\n",
       "<polyline clip-path=\"url(#clip8000)\" style=\"stroke:#000000; stroke-width:4; stroke-opacity:1; fill:none\" points=\"\n",
       "  145.898,768.754 167.001,768.754 \n",
       "  \"/>\n",
       "<polyline clip-path=\"url(#clip8000)\" style=\"stroke:#000000; stroke-width:4; stroke-opacity:1; fill:none\" points=\"\n",
       "  145.898,594.379 167.001,594.379 \n",
       "  \"/>\n",
       "<polyline clip-path=\"url(#clip8000)\" style=\"stroke:#000000; stroke-width:4; stroke-opacity:1; fill:none\" points=\"\n",
       "  145.898,420.004 167.001,420.004 \n",
       "  \"/>\n",
       "<polyline clip-path=\"url(#clip8000)\" style=\"stroke:#000000; stroke-width:4; stroke-opacity:1; fill:none\" points=\"\n",
       "  145.898,245.629 167.001,245.629 \n",
       "  \"/>\n",
       "<polyline clip-path=\"url(#clip8000)\" style=\"stroke:#000000; stroke-width:4; stroke-opacity:1; fill:none\" points=\"\n",
       "  145.898,71.2533 167.001,71.2533 \n",
       "  \"/>\n",
       "<g clip-path=\"url(#clip8000)\">\n",
       "<text style=\"fill:#000000; fill-opacity:1; font-family:Arial,Helvetica Neue,Helvetica,sans-serif; font-size:48px; text-anchor:middle;\" transform=\"rotate(0, 185.715, 945.571)\" x=\"185.715\" y=\"945.571\">0</text>\n",
       "</g>\n",
       "<g clip-path=\"url(#clip8000)\">\n",
       "<text style=\"fill:#000000; fill-opacity:1; font-family:Arial,Helvetica Neue,Helvetica,sans-serif; font-size:48px; text-anchor:middle;\" transform=\"rotate(0, 451.16, 945.571)\" x=\"451.16\" y=\"945.571\">1</text>\n",
       "</g>\n",
       "<g clip-path=\"url(#clip8000)\">\n",
       "<text style=\"fill:#000000; fill-opacity:1; font-family:Arial,Helvetica Neue,Helvetica,sans-serif; font-size:48px; text-anchor:middle;\" transform=\"rotate(0, 716.604, 945.571)\" x=\"716.604\" y=\"945.571\">2</text>\n",
       "</g>\n",
       "<g clip-path=\"url(#clip8000)\">\n",
       "<text style=\"fill:#000000; fill-opacity:1; font-family:Arial,Helvetica Neue,Helvetica,sans-serif; font-size:48px; text-anchor:middle;\" transform=\"rotate(0, 982.049, 945.571)\" x=\"982.049\" y=\"945.571\">3</text>\n",
       "</g>\n",
       "<g clip-path=\"url(#clip8000)\">\n",
       "<text style=\"fill:#000000; fill-opacity:1; font-family:Arial,Helvetica Neue,Helvetica,sans-serif; font-size:48px; text-anchor:middle;\" transform=\"rotate(0, 1247.49, 945.571)\" x=\"1247.49\" y=\"945.571\">4</text>\n",
       "</g>\n",
       "<g clip-path=\"url(#clip8000)\">\n",
       "<text style=\"fill:#000000; fill-opacity:1; font-family:Arial,Helvetica Neue,Helvetica,sans-serif; font-size:48px; text-anchor:middle;\" transform=\"rotate(0, 1512.94, 945.571)\" x=\"1512.94\" y=\"945.571\">5</text>\n",
       "</g>\n",
       "<g clip-path=\"url(#clip8000)\">\n",
       "<text style=\"fill:#000000; fill-opacity:1; font-family:Arial,Helvetica Neue,Helvetica,sans-serif; font-size:48px; text-anchor:end;\" transform=\"rotate(0, 129.898, 786.254)\" x=\"129.898\" y=\"786.254\">0.1</text>\n",
       "</g>\n",
       "<g clip-path=\"url(#clip8000)\">\n",
       "<text style=\"fill:#000000; fill-opacity:1; font-family:Arial,Helvetica Neue,Helvetica,sans-serif; font-size:48px; text-anchor:end;\" transform=\"rotate(0, 129.898, 611.879)\" x=\"129.898\" y=\"611.879\">0.2</text>\n",
       "</g>\n",
       "<g clip-path=\"url(#clip8000)\">\n",
       "<text style=\"fill:#000000; fill-opacity:1; font-family:Arial,Helvetica Neue,Helvetica,sans-serif; font-size:48px; text-anchor:end;\" transform=\"rotate(0, 129.898, 437.504)\" x=\"129.898\" y=\"437.504\">0.3</text>\n",
       "</g>\n",
       "<g clip-path=\"url(#clip8000)\">\n",
       "<text style=\"fill:#000000; fill-opacity:1; font-family:Arial,Helvetica Neue,Helvetica,sans-serif; font-size:48px; text-anchor:end;\" transform=\"rotate(0, 129.898, 263.129)\" x=\"129.898\" y=\"263.129\">0.4</text>\n",
       "</g>\n",
       "<g clip-path=\"url(#clip8000)\">\n",
       "<text style=\"fill:#000000; fill-opacity:1; font-family:Arial,Helvetica Neue,Helvetica,sans-serif; font-size:48px; text-anchor:end;\" transform=\"rotate(0, 129.898, 88.7533)\" x=\"129.898\" y=\"88.7533\">0.5</text>\n",
       "</g>\n",
       "<polyline clip-path=\"url(#clip8002)\" style=\"stroke:#009af9; stroke-width:4; stroke-opacity:1; fill:none\" points=\"\n",
       "  185.715,71.2533 199.121,92.9947 212.527,114.194 225.934,134.865 239.34,155.02 252.746,174.672 266.153,193.835 279.559,212.52 292.965,230.738 306.371,248.503 \n",
       "  319.778,265.824 333.184,282.714 346.59,299.182 359.997,315.24 373.403,330.897 386.809,346.164 400.216,361.05 413.622,375.565 427.028,389.718 440.435,403.518 \n",
       "  453.841,416.974 467.247,430.094 480.653,442.887 494.06,455.362 507.466,467.525 520.872,479.385 534.279,490.949 547.685,502.224 561.091,513.219 574.498,523.939 \n",
       "  587.904,534.392 601.31,544.585 614.717,554.523 628.123,564.214 641.529,573.662 654.935,582.875 668.342,591.859 681.748,600.618 695.154,609.159 708.561,617.487 \n",
       "  721.967,625.608 735.373,633.525 748.78,641.246 762.186,648.774 775.592,656.114 788.999,663.271 802.405,670.25 815.811,677.054 829.217,683.689 842.624,690.159 \n",
       "  856.03,696.467 869.436,702.618 882.843,708.615 896.249,714.463 909.655,720.165 923.062,725.725 936.468,731.146 949.874,736.432 963.281,741.587 976.687,746.612 \n",
       "  990.093,751.513 1003.5,756.291 1016.91,760.95 1030.31,765.493 1043.72,769.923 1057.12,774.242 1070.53,778.453 1083.94,782.56 1097.34,786.564 1110.75,790.468 \n",
       "  1124.16,794.275 1137.56,797.986 1150.97,801.606 1164.38,805.135 1177.78,808.576 1191.19,811.931 1204.59,815.203 1218,818.393 1231.41,821.503 1244.81,824.536 \n",
       "  1258.22,827.494 1271.63,830.377 1285.03,833.189 1298.44,835.93 1311.84,838.603 1325.25,841.21 1338.66,843.751 1352.06,846.229 1365.47,848.646 1378.88,851.002 \n",
       "  1392.28,853.299 1405.69,855.539 1419.1,857.723 1432.5,859.853 1445.91,861.93 1459.31,863.955 1472.72,865.929 1486.13,867.854 1499.53,869.731 1512.94,871.561 \n",
       "  \n",
       "  \"/>\n",
       "<polygon clip-path=\"url(#clip8000)\" points=\"\n",
       "1162.91,203.724 1504.76,203.724 1504.76,82.7641 1162.91,82.7641 \n",
       "  \" fill=\"#ffffff\" fill-rule=\"evenodd\" fill-opacity=\"1\"/>\n",
       "<polyline clip-path=\"url(#clip8000)\" style=\"stroke:#000000; stroke-width:4; stroke-opacity:1; fill:none\" points=\"\n",
       "  1162.91,203.724 1504.76,203.724 1504.76,82.7641 1162.91,82.7641 1162.91,203.724 \n",
       "  \"/>\n",
       "<polyline clip-path=\"url(#clip8000)\" style=\"stroke:#009af9; stroke-width:4; stroke-opacity:1; fill:none\" points=\"\n",
       "  1178.91,143.244 1274.91,143.244 \n",
       "  \"/>\n",
       "<g clip-path=\"url(#clip8000)\">\n",
       "<text style=\"fill:#000000; fill-opacity:1; font-family:Arial,Helvetica Neue,Helvetica,sans-serif; font-size:48px; text-anchor:start;\" transform=\"rotate(0, 1290.91, 160.744)\" x=\"1290.91\" y=\"160.744\">Chisq(2)</text>\n",
       "</g>\n",
       "</svg>\n"
      ]
     },
     "execution_count": 15,
     "metadata": {},
     "output_type": "execute_result"
    }
   ],
   "source": [
    "x = range(0, 5, length=100)\n",
    "plot(x, pdf.(Chisq(2), x), label=\"Chisq(2)\")"
   ]
  },
  {
   "cell_type": "code",
   "execution_count": 12,
   "metadata": {},
   "outputs": [
    {
     "data": {
      "text/plain": [
       "2.0"
      ]
     },
     "execution_count": 12,
     "metadata": {},
     "output_type": "execute_result"
    }
   ],
   "source": [
    "mean(Chisq(2))"
   ]
  },
  {
   "cell_type": "code",
   "execution_count": 43,
   "metadata": {},
   "outputs": [
    {
     "data": {
      "text/plain": [
       "5.991464547107979"
      ]
     },
     "execution_count": 43,
     "metadata": {},
     "output_type": "execute_result"
    }
   ],
   "source": [
    "tau = cquantile(Chisq(2), 0.05)"
   ]
  },
  {
   "cell_type": "code",
   "execution_count": 38,
   "metadata": {},
   "outputs": [
    {
     "data": {
      "text/plain": [
       "0.0485578212700101"
      ]
     },
     "execution_count": 38,
     "metadata": {},
     "output_type": "execute_result"
    }
   ],
   "source": [
    "n = 30\n",
    "phat, qhat = 0.3, 0.3\n",
    "p, q = 0.41, 0.41\n",
    "chisq_statistic(n, p, q, phat, qhat)\n",
    "p_val(n, p, q, phat, qhat)"
   ]
  },
  {
   "cell_type": "code",
   "execution_count": 115,
   "metadata": {},
   "outputs": [
    {
     "data": {
      "image/svg+xml": [
       "<?xml version=\"1.0\" encoding=\"utf-8\"?>\n",
       "<svg xmlns=\"http://www.w3.org/2000/svg\" xmlns:xlink=\"http://www.w3.org/1999/xlink\" width=\"400\" height=\"400\" viewBox=\"0 0 1600 1600\">\n",
       "<defs>\n",
       "  <clipPath id=\"clip4400\">\n",
       "    <rect x=\"0\" y=\"0\" width=\"1600\" height=\"1600\"/>\n",
       "  </clipPath>\n",
       "</defs>\n",
       "<polygon clip-path=\"url(#clip4400)\" points=\"\n",
       "0,1600 1600,1600 1600,0 0,0 \n",
       "  \" fill=\"#ffffff\" fill-rule=\"evenodd\" fill-opacity=\"1\"/>\n",
       "<defs>\n",
       "  <clipPath id=\"clip4401\">\n",
       "    <rect x=\"320\" y=\"160\" width=\"1121\" height=\"1121\"/>\n",
       "  </clipPath>\n",
       "</defs>\n",
       "<polygon clip-path=\"url(#clip4400)\" points=\"\n",
       "172.66,1470.71 1552.76,1470.71 1552.76,47.2441 172.66,47.2441 \n",
       "  \" fill=\"#ffffff\" fill-rule=\"evenodd\" fill-opacity=\"1\"/>\n",
       "<defs>\n",
       "  <clipPath id=\"clip4402\">\n",
       "    <rect x=\"172\" y=\"47\" width=\"1381\" height=\"1424\"/>\n",
       "  </clipPath>\n",
       "</defs>\n",
       "<polyline clip-path=\"url(#clip4402)\" style=\"stroke:#000000; stroke-width:2; stroke-opacity:0.1; fill:none\" points=\"\n",
       "  211.72,1470.71 211.72,47.2441 \n",
       "  \"/>\n",
       "<polyline clip-path=\"url(#clip4402)\" style=\"stroke:#000000; stroke-width:2; stroke-opacity:0.1; fill:none\" points=\"\n",
       "  537.214,1470.71 537.214,47.2441 \n",
       "  \"/>\n",
       "<polyline clip-path=\"url(#clip4402)\" style=\"stroke:#000000; stroke-width:2; stroke-opacity:0.1; fill:none\" points=\"\n",
       "  862.708,1470.71 862.708,47.2441 \n",
       "  \"/>\n",
       "<polyline clip-path=\"url(#clip4402)\" style=\"stroke:#000000; stroke-width:2; stroke-opacity:0.1; fill:none\" points=\"\n",
       "  1188.2,1470.71 1188.2,47.2441 \n",
       "  \"/>\n",
       "<polyline clip-path=\"url(#clip4402)\" style=\"stroke:#000000; stroke-width:2; stroke-opacity:0.1; fill:none\" points=\"\n",
       "  1513.7,1470.71 1513.7,47.2441 \n",
       "  \"/>\n",
       "<polyline clip-path=\"url(#clip4402)\" style=\"stroke:#000000; stroke-width:2; stroke-opacity:0.1; fill:none\" points=\"\n",
       "  172.66,1430.42 1552.76,1430.42 \n",
       "  \"/>\n",
       "<polyline clip-path=\"url(#clip4402)\" style=\"stroke:#000000; stroke-width:2; stroke-opacity:0.1; fill:none\" points=\"\n",
       "  172.66,1094.7 1552.76,1094.7 \n",
       "  \"/>\n",
       "<polyline clip-path=\"url(#clip4402)\" style=\"stroke:#000000; stroke-width:2; stroke-opacity:0.1; fill:none\" points=\"\n",
       "  172.66,758.976 1552.76,758.976 \n",
       "  \"/>\n",
       "<polyline clip-path=\"url(#clip4402)\" style=\"stroke:#000000; stroke-width:2; stroke-opacity:0.1; fill:none\" points=\"\n",
       "  172.66,423.253 1552.76,423.253 \n",
       "  \"/>\n",
       "<polyline clip-path=\"url(#clip4402)\" style=\"stroke:#000000; stroke-width:2; stroke-opacity:0.1; fill:none\" points=\"\n",
       "  172.66,87.5308 1552.76,87.5308 \n",
       "  \"/>\n",
       "<polyline clip-path=\"url(#clip4400)\" style=\"stroke:#000000; stroke-width:4; stroke-opacity:1; fill:none\" points=\"\n",
       "  172.66,1470.71 1552.76,1470.71 \n",
       "  \"/>\n",
       "<polyline clip-path=\"url(#clip4400)\" style=\"stroke:#000000; stroke-width:4; stroke-opacity:1; fill:none\" points=\"\n",
       "  172.66,1470.71 172.66,47.2441 \n",
       "  \"/>\n",
       "<polyline clip-path=\"url(#clip4400)\" style=\"stroke:#000000; stroke-width:4; stroke-opacity:1; fill:none\" points=\"\n",
       "  211.72,1470.71 211.72,1449.36 \n",
       "  \"/>\n",
       "<polyline clip-path=\"url(#clip4400)\" style=\"stroke:#000000; stroke-width:4; stroke-opacity:1; fill:none\" points=\"\n",
       "  537.214,1470.71 537.214,1449.36 \n",
       "  \"/>\n",
       "<polyline clip-path=\"url(#clip4400)\" style=\"stroke:#000000; stroke-width:4; stroke-opacity:1; fill:none\" points=\"\n",
       "  862.708,1470.71 862.708,1449.36 \n",
       "  \"/>\n",
       "<polyline clip-path=\"url(#clip4400)\" style=\"stroke:#000000; stroke-width:4; stroke-opacity:1; fill:none\" points=\"\n",
       "  1188.2,1470.71 1188.2,1449.36 \n",
       "  \"/>\n",
       "<polyline clip-path=\"url(#clip4400)\" style=\"stroke:#000000; stroke-width:4; stroke-opacity:1; fill:none\" points=\"\n",
       "  1513.7,1470.71 1513.7,1449.36 \n",
       "  \"/>\n",
       "<polyline clip-path=\"url(#clip4400)\" style=\"stroke:#000000; stroke-width:4; stroke-opacity:1; fill:none\" points=\"\n",
       "  172.66,1430.42 193.362,1430.42 \n",
       "  \"/>\n",
       "<polyline clip-path=\"url(#clip4400)\" style=\"stroke:#000000; stroke-width:4; stroke-opacity:1; fill:none\" points=\"\n",
       "  172.66,1094.7 193.362,1094.7 \n",
       "  \"/>\n",
       "<polyline clip-path=\"url(#clip4400)\" style=\"stroke:#000000; stroke-width:4; stroke-opacity:1; fill:none\" points=\"\n",
       "  172.66,758.976 193.362,758.976 \n",
       "  \"/>\n",
       "<polyline clip-path=\"url(#clip4400)\" style=\"stroke:#000000; stroke-width:4; stroke-opacity:1; fill:none\" points=\"\n",
       "  172.66,423.253 193.362,423.253 \n",
       "  \"/>\n",
       "<polyline clip-path=\"url(#clip4400)\" style=\"stroke:#000000; stroke-width:4; stroke-opacity:1; fill:none\" points=\"\n",
       "  172.66,87.5308 193.362,87.5308 \n",
       "  \"/>\n",
       "<g clip-path=\"url(#clip4400)\">\n",
       "<text style=\"fill:#000000; fill-opacity:1; font-family:Arial,Helvetica Neue,Helvetica,sans-serif; font-size:48px; text-anchor:middle;\" transform=\"rotate(0, 211.72, 1520.71)\" x=\"211.72\" y=\"1520.71\">0.00</text>\n",
       "</g>\n",
       "<g clip-path=\"url(#clip4400)\">\n",
       "<text style=\"fill:#000000; fill-opacity:1; font-family:Arial,Helvetica Neue,Helvetica,sans-serif; font-size:48px; text-anchor:middle;\" transform=\"rotate(0, 537.214, 1520.71)\" x=\"537.214\" y=\"1520.71\">0.25</text>\n",
       "</g>\n",
       "<g clip-path=\"url(#clip4400)\">\n",
       "<text style=\"fill:#000000; fill-opacity:1; font-family:Arial,Helvetica Neue,Helvetica,sans-serif; font-size:48px; text-anchor:middle;\" transform=\"rotate(0, 862.708, 1520.71)\" x=\"862.708\" y=\"1520.71\">0.50</text>\n",
       "</g>\n",
       "<g clip-path=\"url(#clip4400)\">\n",
       "<text style=\"fill:#000000; fill-opacity:1; font-family:Arial,Helvetica Neue,Helvetica,sans-serif; font-size:48px; text-anchor:middle;\" transform=\"rotate(0, 1188.2, 1520.71)\" x=\"1188.2\" y=\"1520.71\">0.75</text>\n",
       "</g>\n",
       "<g clip-path=\"url(#clip4400)\">\n",
       "<text style=\"fill:#000000; fill-opacity:1; font-family:Arial,Helvetica Neue,Helvetica,sans-serif; font-size:48px; text-anchor:middle;\" transform=\"rotate(0, 1513.7, 1520.71)\" x=\"1513.7\" y=\"1520.71\">1.00</text>\n",
       "</g>\n",
       "<g clip-path=\"url(#clip4400)\">\n",
       "<text style=\"fill:#000000; fill-opacity:1; font-family:Arial,Helvetica Neue,Helvetica,sans-serif; font-size:48px; text-anchor:end;\" transform=\"rotate(0, 156.66, 1447.92)\" x=\"156.66\" y=\"1447.92\">0.00</text>\n",
       "</g>\n",
       "<g clip-path=\"url(#clip4400)\">\n",
       "<text style=\"fill:#000000; fill-opacity:1; font-family:Arial,Helvetica Neue,Helvetica,sans-serif; font-size:48px; text-anchor:end;\" transform=\"rotate(0, 156.66, 1112.2)\" x=\"156.66\" y=\"1112.2\">0.25</text>\n",
       "</g>\n",
       "<g clip-path=\"url(#clip4400)\">\n",
       "<text style=\"fill:#000000; fill-opacity:1; font-family:Arial,Helvetica Neue,Helvetica,sans-serif; font-size:48px; text-anchor:end;\" transform=\"rotate(0, 156.66, 776.476)\" x=\"156.66\" y=\"776.476\">0.50</text>\n",
       "</g>\n",
       "<g clip-path=\"url(#clip4400)\">\n",
       "<text style=\"fill:#000000; fill-opacity:1; font-family:Arial,Helvetica Neue,Helvetica,sans-serif; font-size:48px; text-anchor:end;\" transform=\"rotate(0, 156.66, 440.753)\" x=\"156.66\" y=\"440.753\">0.75</text>\n",
       "</g>\n",
       "<g clip-path=\"url(#clip4400)\">\n",
       "<text style=\"fill:#000000; fill-opacity:1; font-family:Arial,Helvetica Neue,Helvetica,sans-serif; font-size:48px; text-anchor:end;\" transform=\"rotate(0, 156.66, 105.031)\" x=\"156.66\" y=\"105.031\">1.00</text>\n",
       "</g>\n",
       "<polyline clip-path=\"url(#clip4402)\" style=\"stroke:#000005; stroke-width:4; stroke-opacity:1; fill:none\" points=\"\n",
       "  529.459,1113.26 532.307,1116 536.598,1120 538.85,1122.04 544.264,1126.75 545.392,1127.71 551.935,1133.02 552.558,1133.5 558.477,1137.96 561.647,1140.25 \n",
       "  565.02,1142.62 571.547,1147 571.563,1147.01 578.105,1151.03 582.755,1153.75 584.648,1154.82 591.19,1158.3 595.58,1160.49 597.733,1161.54 604.275,1164.47 \n",
       "  610.818,1167.18 610.989,1167.24 617.361,1169.54 623.903,1171.66 630.446,1173.53 632.376,1173.99 636.988,1175.06 643.531,1176.3 650.074,1177.24 656.616,1177.85 \n",
       "  663.159,1178.13 669.701,1178.04 676.244,1177.56 682.787,1176.65 689.329,1175.29 693.942,1173.99 695.872,1173.4 702.414,1170.84 708.957,1167.66 709.689,1167.24 \n",
       "  715.5,1163.53 719.516,1160.49 722.042,1158.35 726.74,1153.75 728.585,1151.68 732.274,1147 735.127,1142.77 736.649,1140.25 740.09,1133.5 741.67,1129.72 \n",
       "  742.798,1126.75 744.851,1120 746.396,1113.26 747.473,1106.51 748.115,1099.76 748.213,1097.07 748.348,1093.01 748.223,1086.26 748.213,1086.12 747.743,1079.52 \n",
       "  746.939,1072.77 745.833,1066.02 744.443,1059.27 742.789,1052.52 741.67,1048.59 740.847,1045.77 738.606,1039.03 736.14,1032.28 735.127,1029.76 733.378,1025.53 \n",
       "  730.362,1018.78 728.585,1015.08 727.083,1012.03 723.531,1005.29 722.042,1002.62 719.697,998.537 715.626,991.789 715.5,991.591 711.196,985.041 708.957,981.774 \n",
       "  706.498,978.292 702.414,972.739 701.509,971.544 696.181,964.796 695.872,964.42 690.469,958.048 689.329,956.75 684.387,951.3 682.787,949.594 677.898,944.551 \n",
       "  676.244,942.901 670.959,937.803 669.701,936.628 663.523,931.055 663.159,930.736 656.616,925.241 655.458,924.307 650.074,920.095 646.698,917.559 643.531,915.25 \n",
       "  637.18,910.81 636.988,910.68 630.446,906.481 626.489,904.062 623.903,902.526 617.361,898.863 614.41,897.314 610.818,895.481 604.275,892.37 600.175,890.566 \n",
       "  597.733,889.522 591.19,886.978 584.648,884.666 581.922,883.818 578.105,882.663 571.563,880.957 565.02,879.524 558.477,878.383 551.935,877.554 545.535,877.07 \n",
       "  545.392,877.059 538.85,876.929 534.912,877.07 532.307,877.17 525.764,877.833 519.222,878.943 512.679,880.537 506.137,882.654 503.257,883.818 499.594,885.448 \n",
       "  493.051,888.997 490.609,890.566 486.509,893.509 481.971,897.314 479.966,899.217 475.505,904.062 473.424,906.668 470.484,910.81 466.881,916.804 466.473,917.559 \n",
       "  463.389,924.307 460.915,931.055 460.338,933.046 459.08,937.803 457.76,944.551 456.881,951.3 456.412,958.048 456.325,964.796 456.593,971.544 457.192,978.292 \n",
       "  458.1,985.041 459.297,991.789 460.338,996.546 460.787,998.537 462.596,1005.29 464.652,1012.03 466.881,1018.61 466.942,1018.78 469.572,1025.53 472.411,1032.28 \n",
       "  473.424,1034.5 475.548,1039.03 478.924,1045.77 479.966,1047.73 482.602,1052.52 486.499,1059.27 486.509,1059.29 490.757,1066.02 493.051,1069.5 495.271,1072.77 \n",
       "  499.594,1078.87 500.063,1079.52 505.213,1086.26 506.137,1087.43 510.708,1093.01 512.679,1095.33 516.557,1099.76 519.222,1102.7 522.794,1106.51 525.764,1109.57 \n",
       "  529.459,1113.26 \n",
       "  \"/>\n",
       "<polyline clip-path=\"url(#clip4402)\" style=\"stroke:#000000; stroke-width:4; stroke-opacity:1; fill:none\" points=\"\n",
       "  211.72,87.5308 1513.7,1430.42 \n",
       "  \"/>\n",
       "</svg>\n"
      ]
     },
     "execution_count": 115,
     "metadata": {},
     "output_type": "execute_result"
    }
   ],
   "source": [
    "tau = cquantile(Chisq(2), 0.05)\n",
    "n = 100\n",
    "phat, qhat = 0.3, 0.3\n",
    "p = q = range(0, 1, length=200)\n",
    "f(p, q) = chisq_statistic(n, p, q, phat, qhat)\n",
    "z = f.(p', q)\n",
    "contour(p, q, z; levels=[tau], colorbar=false, size=(400, 400))\n",
    "plot!([0,1], [1,0]; label=\"\", color=:black)"
   ]
  },
  {
   "cell_type": "code",
   "execution_count": 116,
   "metadata": {},
   "outputs": [
    {
     "data": {
      "text/plain": [
       "sim_confidence_domain (generic function with 1 method)"
      ]
     },
     "execution_count": 116,
     "metadata": {},
     "output_type": "execute_result"
    }
   ],
   "source": [
    "function sim_confidence_domain(n; α=0.05, p₀=0.3, q₀=0.3, niters=10^6)\n",
    "    true_dist = Multinomial(n, [p₀, q₀, 1-p₀-q₀])\n",
    "    tau = cquantile(Chisq(2), 0.05)\n",
    "    c = 0\n",
    "    for i in 1:niters\n",
    "        X = rand(true_dist)\n",
    "        k, l = X[1], X[2]\n",
    "        phat, qhat = k/n, l/n\n",
    "        c += ifelse(chisq_statistic(n, p₀, q₀, phat, qhat) ≤ tau, 1, 0)\n",
    "    end\n",
    "    c/niters\n",
    "end"
   ]
  },
  {
   "cell_type": "code",
   "execution_count": 117,
   "metadata": {},
   "outputs": [
    {
     "name": "stdout",
     "output_type": "stream",
     "text": [
      "  0.444970 seconds (1.13 M allocations: 114.029 MiB, 5.10% gc time)\n"
     ]
    },
    {
     "data": {
      "text/plain": [
       "0.938361"
      ]
     },
     "execution_count": 117,
     "metadata": {},
     "output_type": "execute_result"
    }
   ],
   "source": [
    "@time sim_confidence_domain(100)"
   ]
  },
  {
   "cell_type": "code",
   "execution_count": null,
   "metadata": {},
   "outputs": [],
   "source": []
  }
 ],
 "metadata": {
  "kernelspec": {
   "display_name": "Julia 1.1.1",
   "language": "julia",
   "name": "julia-1.1"
  },
  "language_info": {
   "file_extension": ".jl",
   "mimetype": "application/julia",
   "name": "julia",
   "version": "1.1.1"
  },
  "toc": {
   "base_numbering": 1,
   "nav_menu": {},
   "number_sections": true,
   "sideBar": true,
   "skip_h1_title": false,
   "title_cell": "Table of Contents",
   "title_sidebar": "Contents",
   "toc_cell": false,
   "toc_position": {},
   "toc_section_display": true,
   "toc_window_display": false
  }
 },
 "nbformat": 4,
 "nbformat_minor": 2
}
