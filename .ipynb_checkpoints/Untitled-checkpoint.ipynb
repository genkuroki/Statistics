{
 "cells": [
  {
   "cell_type": "code",
   "execution_count": 1,
   "metadata": {},
   "outputs": [],
   "source": [
    "using Base64\n",
    "displayfile(mime, file; tag=\"img\") = open(file) do f\n",
    "    display(\"text/html\", \"\"\"<$tag src=\"data:$mime;base64,$(base64encode(f))\">\"\"\")\n",
    "end\n",
    "\n",
    "using Plots\n",
    "gr()\n",
    "default(titlefontsize=10, size=(400, 250))\n",
    "\n",
    "using Distributions"
   ]
  },
  {
   "cell_type": "code",
   "execution_count": 2,
   "metadata": {},
   "outputs": [
    {
     "data": {
      "text/plain": [
       "p_val (generic function with 1 method)"
      ]
     },
     "execution_count": 2,
     "metadata": {},
     "output_type": "execute_result"
    }
   ],
   "source": [
    "# 尤度函数 (p + q > 1 では値を NaN に設定)\n",
    "likelihood_func(p, q; x=[34, 32, 34]) = if p + q ≤ 1\n",
    "    pdf(Multinomial(sum(x), [p, q, max(0, 1-p-q)]), x)\n",
    "else\n",
    "    NaN\n",
    "end\n",
    "\n",
    "# カイ2乗統計量\n",
    "chisq_statistic(n, p, q, phat, qhat) = let r = 1-p-q, rhat = 1-phat-qhat\n",
    "    n*((p-phat)^2/phat + (q-qhat)^2/qhat + (r-rhat)^2/rhat)\n",
    "end\n",
    "\n",
    "# p値\n",
    "p_val(n, p, q, phat, qhat) = ccdf(Chisq(2), chisq_statistic(n, p, q, phat, qhat))"
   ]
  },
  {
   "cell_type": "code",
   "execution_count": 3,
   "metadata": {},
   "outputs": [
    {
     "data": {
      "image/svg+xml": [
       "<?xml version=\"1.0\" encoding=\"utf-8\"?>\n",
       "<svg xmlns=\"http://www.w3.org/2000/svg\" xmlns:xlink=\"http://www.w3.org/1999/xlink\" width=\"400\" height=\"250\" viewBox=\"0 0 1600 1000\">\n",
       "<defs>\n",
       "  <clipPath id=\"clip0600\">\n",
       "    <rect x=\"0\" y=\"0\" width=\"1600\" height=\"1000\"/>\n",
       "  </clipPath>\n",
       "</defs>\n",
       "<polygon clip-path=\"url(#clip0600)\" points=\"\n",
       "0,1000 1600,1000 1600,0 0,0 \n",
       "  \" fill=\"#ffffff\" fill-rule=\"evenodd\" fill-opacity=\"1\"/>\n",
       "<defs>\n",
       "  <clipPath id=\"clip0601\">\n",
       "    <rect x=\"320\" y=\"0\" width=\"1121\" height=\"1000\"/>\n",
       "  </clipPath>\n",
       "</defs>\n",
       "<polygon clip-path=\"url(#clip0600)\" points=\"\n",
       "153.898,887.475 1552.76,887.475 1552.76,47.2441 153.898,47.2441 \n",
       "  \" fill=\"#ffffff\" fill-rule=\"evenodd\" fill-opacity=\"1\"/>\n",
       "<defs>\n",
       "  <clipPath id=\"clip0602\">\n",
       "    <rect x=\"153\" y=\"47\" width=\"1400\" height=\"841\"/>\n",
       "  </clipPath>\n",
       "</defs>\n",
       "<polyline clip-path=\"url(#clip0602)\" style=\"stroke:#000000; stroke-width:2; stroke-opacity:0.1; fill:none\" points=\"\n",
       "  193.488,887.475 193.488,47.2441 \n",
       "  \"/>\n",
       "<polyline clip-path=\"url(#clip0602)\" style=\"stroke:#000000; stroke-width:2; stroke-opacity:0.1; fill:none\" points=\"\n",
       "  457.424,887.475 457.424,47.2441 \n",
       "  \"/>\n",
       "<polyline clip-path=\"url(#clip0602)\" style=\"stroke:#000000; stroke-width:2; stroke-opacity:0.1; fill:none\" points=\"\n",
       "  721.359,887.475 721.359,47.2441 \n",
       "  \"/>\n",
       "<polyline clip-path=\"url(#clip0602)\" style=\"stroke:#000000; stroke-width:2; stroke-opacity:0.1; fill:none\" points=\"\n",
       "  985.295,887.475 985.295,47.2441 \n",
       "  \"/>\n",
       "<polyline clip-path=\"url(#clip0602)\" style=\"stroke:#000000; stroke-width:2; stroke-opacity:0.1; fill:none\" points=\"\n",
       "  1249.23,887.475 1249.23,47.2441 \n",
       "  \"/>\n",
       "<polyline clip-path=\"url(#clip0602)\" style=\"stroke:#000000; stroke-width:2; stroke-opacity:0.1; fill:none\" points=\"\n",
       "  1513.17,887.475 1513.17,47.2441 \n",
       "  \"/>\n",
       "<polyline clip-path=\"url(#clip0602)\" style=\"stroke:#000000; stroke-width:2; stroke-opacity:0.1; fill:none\" points=\"\n",
       "  153.898,761.868 1552.76,761.868 \n",
       "  \"/>\n",
       "<polyline clip-path=\"url(#clip0602)\" style=\"stroke:#000000; stroke-width:2; stroke-opacity:0.1; fill:none\" points=\"\n",
       "  153.898,589.157 1552.76,589.157 \n",
       "  \"/>\n",
       "<polyline clip-path=\"url(#clip0602)\" style=\"stroke:#000000; stroke-width:2; stroke-opacity:0.1; fill:none\" points=\"\n",
       "  153.898,416.446 1552.76,416.446 \n",
       "  \"/>\n",
       "<polyline clip-path=\"url(#clip0602)\" style=\"stroke:#000000; stroke-width:2; stroke-opacity:0.1; fill:none\" points=\"\n",
       "  153.898,243.735 1552.76,243.735 \n",
       "  \"/>\n",
       "<polyline clip-path=\"url(#clip0602)\" style=\"stroke:#000000; stroke-width:2; stroke-opacity:0.1; fill:none\" points=\"\n",
       "  153.898,71.0242 1552.76,71.0242 \n",
       "  \"/>\n",
       "<polyline clip-path=\"url(#clip0600)\" style=\"stroke:#000000; stroke-width:4; stroke-opacity:1; fill:none\" points=\"\n",
       "  153.898,887.475 1552.76,887.475 \n",
       "  \"/>\n",
       "<polyline clip-path=\"url(#clip0600)\" style=\"stroke:#000000; stroke-width:4; stroke-opacity:1; fill:none\" points=\"\n",
       "  153.898,887.475 153.898,47.2441 \n",
       "  \"/>\n",
       "<polyline clip-path=\"url(#clip0600)\" style=\"stroke:#000000; stroke-width:4; stroke-opacity:1; fill:none\" points=\"\n",
       "  193.488,887.475 193.488,874.871 \n",
       "  \"/>\n",
       "<polyline clip-path=\"url(#clip0600)\" style=\"stroke:#000000; stroke-width:4; stroke-opacity:1; fill:none\" points=\"\n",
       "  457.424,887.475 457.424,874.871 \n",
       "  \"/>\n",
       "<polyline clip-path=\"url(#clip0600)\" style=\"stroke:#000000; stroke-width:4; stroke-opacity:1; fill:none\" points=\"\n",
       "  721.359,887.475 721.359,874.871 \n",
       "  \"/>\n",
       "<polyline clip-path=\"url(#clip0600)\" style=\"stroke:#000000; stroke-width:4; stroke-opacity:1; fill:none\" points=\"\n",
       "  985.295,887.475 985.295,874.871 \n",
       "  \"/>\n",
       "<polyline clip-path=\"url(#clip0600)\" style=\"stroke:#000000; stroke-width:4; stroke-opacity:1; fill:none\" points=\"\n",
       "  1249.23,887.475 1249.23,874.871 \n",
       "  \"/>\n",
       "<polyline clip-path=\"url(#clip0600)\" style=\"stroke:#000000; stroke-width:4; stroke-opacity:1; fill:none\" points=\"\n",
       "  1513.17,887.475 1513.17,874.871 \n",
       "  \"/>\n",
       "<polyline clip-path=\"url(#clip0600)\" style=\"stroke:#000000; stroke-width:4; stroke-opacity:1; fill:none\" points=\"\n",
       "  153.898,761.868 174.881,761.868 \n",
       "  \"/>\n",
       "<polyline clip-path=\"url(#clip0600)\" style=\"stroke:#000000; stroke-width:4; stroke-opacity:1; fill:none\" points=\"\n",
       "  153.898,589.157 174.881,589.157 \n",
       "  \"/>\n",
       "<polyline clip-path=\"url(#clip0600)\" style=\"stroke:#000000; stroke-width:4; stroke-opacity:1; fill:none\" points=\"\n",
       "  153.898,416.446 174.881,416.446 \n",
       "  \"/>\n",
       "<polyline clip-path=\"url(#clip0600)\" style=\"stroke:#000000; stroke-width:4; stroke-opacity:1; fill:none\" points=\"\n",
       "  153.898,243.735 174.881,243.735 \n",
       "  \"/>\n",
       "<polyline clip-path=\"url(#clip0600)\" style=\"stroke:#000000; stroke-width:4; stroke-opacity:1; fill:none\" points=\"\n",
       "  153.898,71.0242 174.881,71.0242 \n",
       "  \"/>\n",
       "<g clip-path=\"url(#clip0600)\">\n",
       "<text style=\"fill:#000000; fill-opacity:1; font-family:Arial,Helvetica Neue,Helvetica,sans-serif; font-size:48px; text-anchor:middle;\" transform=\"rotate(0, 193.488, 937.475)\" x=\"193.488\" y=\"937.475\">0</text>\n",
       "</g>\n",
       "<g clip-path=\"url(#clip0600)\">\n",
       "<text style=\"fill:#000000; fill-opacity:1; font-family:Arial,Helvetica Neue,Helvetica,sans-serif; font-size:48px; text-anchor:middle;\" transform=\"rotate(0, 457.424, 937.475)\" x=\"457.424\" y=\"937.475\">1</text>\n",
       "</g>\n",
       "<g clip-path=\"url(#clip0600)\">\n",
       "<text style=\"fill:#000000; fill-opacity:1; font-family:Arial,Helvetica Neue,Helvetica,sans-serif; font-size:48px; text-anchor:middle;\" transform=\"rotate(0, 721.359, 937.475)\" x=\"721.359\" y=\"937.475\">2</text>\n",
       "</g>\n",
       "<g clip-path=\"url(#clip0600)\">\n",
       "<text style=\"fill:#000000; fill-opacity:1; font-family:Arial,Helvetica Neue,Helvetica,sans-serif; font-size:48px; text-anchor:middle;\" transform=\"rotate(0, 985.295, 937.475)\" x=\"985.295\" y=\"937.475\">3</text>\n",
       "</g>\n",
       "<g clip-path=\"url(#clip0600)\">\n",
       "<text style=\"fill:#000000; fill-opacity:1; font-family:Arial,Helvetica Neue,Helvetica,sans-serif; font-size:48px; text-anchor:middle;\" transform=\"rotate(0, 1249.23, 937.475)\" x=\"1249.23\" y=\"937.475\">4</text>\n",
       "</g>\n",
       "<g clip-path=\"url(#clip0600)\">\n",
       "<text style=\"fill:#000000; fill-opacity:1; font-family:Arial,Helvetica Neue,Helvetica,sans-serif; font-size:48px; text-anchor:middle;\" transform=\"rotate(0, 1513.17, 937.475)\" x=\"1513.17\" y=\"937.475\">5</text>\n",
       "</g>\n",
       "<g clip-path=\"url(#clip0600)\">\n",
       "<text style=\"fill:#000000; fill-opacity:1; font-family:Arial,Helvetica Neue,Helvetica,sans-serif; font-size:48px; text-anchor:end;\" transform=\"rotate(0, 137.898, 779.368)\" x=\"137.898\" y=\"779.368\">0.1</text>\n",
       "</g>\n",
       "<g clip-path=\"url(#clip0600)\">\n",
       "<text style=\"fill:#000000; fill-opacity:1; font-family:Arial,Helvetica Neue,Helvetica,sans-serif; font-size:48px; text-anchor:end;\" transform=\"rotate(0, 137.898, 606.657)\" x=\"137.898\" y=\"606.657\">0.2</text>\n",
       "</g>\n",
       "<g clip-path=\"url(#clip0600)\">\n",
       "<text style=\"fill:#000000; fill-opacity:1; font-family:Arial,Helvetica Neue,Helvetica,sans-serif; font-size:48px; text-anchor:end;\" transform=\"rotate(0, 137.898, 433.946)\" x=\"137.898\" y=\"433.946\">0.3</text>\n",
       "</g>\n",
       "<g clip-path=\"url(#clip0600)\">\n",
       "<text style=\"fill:#000000; fill-opacity:1; font-family:Arial,Helvetica Neue,Helvetica,sans-serif; font-size:48px; text-anchor:end;\" transform=\"rotate(0, 137.898, 261.235)\" x=\"137.898\" y=\"261.235\">0.4</text>\n",
       "</g>\n",
       "<g clip-path=\"url(#clip0600)\">\n",
       "<text style=\"fill:#000000; fill-opacity:1; font-family:Arial,Helvetica Neue,Helvetica,sans-serif; font-size:48px; text-anchor:end;\" transform=\"rotate(0, 137.898, 88.5242)\" x=\"137.898\" y=\"88.5242\">0.5</text>\n",
       "</g>\n",
       "<polyline clip-path=\"url(#clip0602)\" style=\"stroke:#009af9; stroke-width:4; stroke-opacity:1; fill:none\" points=\"\n",
       "  193.488,71.0242 206.818,92.5581 220.148,113.555 233.479,134.028 246.809,153.991 260.139,173.456 273.469,192.436 286.799,210.942 300.129,228.987 313.459,246.582 \n",
       "  326.789,263.738 340.119,280.466 353.449,296.778 366.779,312.682 380.109,328.19 393.439,343.311 406.769,358.055 420.1,372.432 433.43,386.45 446.76,400.118 \n",
       "  460.09,413.445 473.42,426.441 486.75,439.112 500.08,451.467 513.41,463.514 526.74,475.261 540.07,486.714 553.4,497.882 566.73,508.772 580.06,519.39 \n",
       "  593.391,529.743 606.721,539.839 620.051,549.682 633.381,559.28 646.711,568.639 660.041,577.764 673.371,586.661 686.701,595.337 700.031,603.797 713.361,612.045 \n",
       "  726.691,620.088 740.021,627.93 753.351,635.577 766.681,643.033 780.012,650.303 793.342,657.392 806.672,664.304 820.002,671.044 833.332,677.615 846.662,684.023 \n",
       "  859.992,690.271 873.322,696.363 886.652,702.303 899.982,708.096 913.312,713.743 926.642,719.25 939.972,724.62 953.302,729.855 966.633,734.96 979.963,739.938 \n",
       "  993.293,744.792 1006.62,749.524 1019.95,754.139 1033.28,758.639 1046.61,763.026 1059.94,767.304 1073.27,771.475 1086.6,775.542 1099.93,779.508 1113.26,783.375 \n",
       "  1126.59,787.145 1139.92,790.822 1153.25,794.407 1166.58,797.902 1179.91,801.31 1193.24,804.634 1206.57,807.874 1219.9,811.034 1233.23,814.114 1246.56,817.118 \n",
       "  1259.89,820.047 1273.22,822.903 1286.55,825.688 1299.88,828.404 1313.21,831.051 1326.54,833.633 1339.87,836.15 1353.2,838.605 1366.53,840.998 1379.86,843.331 \n",
       "  1393.19,845.607 1406.52,847.825 1419.86,849.989 1433.19,852.098 1446.52,854.155 1459.85,856.16 1473.18,858.116 1486.51,860.023 1499.84,861.882 1513.17,863.695 \n",
       "  \n",
       "  \"/>\n",
       "<polygon clip-path=\"url(#clip0600)\" points=\"\n",
       "1162.91,203.724 1504.76,203.724 1504.76,82.7641 1162.91,82.7641 \n",
       "  \" fill=\"#ffffff\" fill-rule=\"evenodd\" fill-opacity=\"1\"/>\n",
       "<polyline clip-path=\"url(#clip0600)\" style=\"stroke:#000000; stroke-width:4; stroke-opacity:1; fill:none\" points=\"\n",
       "  1162.91,203.724 1504.76,203.724 1504.76,82.7641 1162.91,82.7641 1162.91,203.724 \n",
       "  \"/>\n",
       "<polyline clip-path=\"url(#clip0600)\" style=\"stroke:#009af9; stroke-width:4; stroke-opacity:1; fill:none\" points=\"\n",
       "  1178.91,143.244 1274.91,143.244 \n",
       "  \"/>\n",
       "<g clip-path=\"url(#clip0600)\">\n",
       "<text style=\"fill:#000000; fill-opacity:1; font-family:Arial,Helvetica Neue,Helvetica,sans-serif; font-size:48px; text-anchor:start;\" transform=\"rotate(0, 1290.91, 160.744)\" x=\"1290.91\" y=\"160.744\">Chisq(2)</text>\n",
       "</g>\n",
       "</svg>\n"
      ]
     },
     "execution_count": 3,
     "metadata": {},
     "output_type": "execute_result"
    }
   ],
   "source": [
    "x = range(0, 5, length=100)\n",
    "plot(x, pdf.(Chisq(2), x), label=\"Chisq(2)\")"
   ]
  },
  {
   "cell_type": "code",
   "execution_count": 4,
   "metadata": {},
   "outputs": [
    {
     "data": {
      "text/plain": [
       "2.0"
      ]
     },
     "execution_count": 4,
     "metadata": {},
     "output_type": "execute_result"
    }
   ],
   "source": [
    "mean(Chisq(2))"
   ]
  },
  {
   "cell_type": "code",
   "execution_count": 5,
   "metadata": {},
   "outputs": [
    {
     "data": {
      "text/plain": [
       "5.991464547107979"
      ]
     },
     "execution_count": 5,
     "metadata": {},
     "output_type": "execute_result"
    }
   ],
   "source": [
    "tau = cquantile(Chisq(2), 0.05)"
   ]
  },
  {
   "cell_type": "code",
   "execution_count": 6,
   "metadata": {},
   "outputs": [
    {
     "data": {
      "text/plain": [
       "0.0485578212700101"
      ]
     },
     "execution_count": 6,
     "metadata": {},
     "output_type": "execute_result"
    }
   ],
   "source": [
    "n = 30\n",
    "phat, qhat = 0.3, 0.3\n",
    "p, q = 0.41, 0.41\n",
    "chisq_statistic(n, p, q, phat, qhat)\n",
    "p_val(n, p, q, phat, qhat)"
   ]
  },
  {
   "cell_type": "code",
   "execution_count": 7,
   "metadata": {},
   "outputs": [
    {
     "data": {
      "image/svg+xml": [
       "<?xml version=\"1.0\" encoding=\"utf-8\"?>\n",
       "<svg xmlns=\"http://www.w3.org/2000/svg\" xmlns:xlink=\"http://www.w3.org/1999/xlink\" width=\"400\" height=\"400\" viewBox=\"0 0 1600 1600\">\n",
       "<defs>\n",
       "  <clipPath id=\"clip1000\">\n",
       "    <rect x=\"0\" y=\"0\" width=\"1600\" height=\"1600\"/>\n",
       "  </clipPath>\n",
       "</defs>\n",
       "<polygon clip-path=\"url(#clip1000)\" points=\"\n",
       "0,1600 1600,1600 1600,0 0,0 \n",
       "  \" fill=\"#ffffff\" fill-rule=\"evenodd\" fill-opacity=\"1\"/>\n",
       "<defs>\n",
       "  <clipPath id=\"clip1001\">\n",
       "    <rect x=\"320\" y=\"160\" width=\"1121\" height=\"1121\"/>\n",
       "  </clipPath>\n",
       "</defs>\n",
       "<polygon clip-path=\"url(#clip1000)\" points=\"\n",
       "172.66,1495.57 1552.76,1495.57 1552.76,47.2441 172.66,47.2441 \n",
       "  \" fill=\"#ffffff\" fill-rule=\"evenodd\" fill-opacity=\"1\"/>\n",
       "<defs>\n",
       "  <clipPath id=\"clip1002\">\n",
       "    <rect x=\"172\" y=\"47\" width=\"1381\" height=\"1449\"/>\n",
       "  </clipPath>\n",
       "</defs>\n",
       "<polyline clip-path=\"url(#clip1002)\" style=\"stroke:#000000; stroke-width:2; stroke-opacity:0.1; fill:none\" points=\"\n",
       "  211.72,1495.57 211.72,47.2441 \n",
       "  \"/>\n",
       "<polyline clip-path=\"url(#clip1002)\" style=\"stroke:#000000; stroke-width:2; stroke-opacity:0.1; fill:none\" points=\"\n",
       "  537.214,1495.57 537.214,47.2441 \n",
       "  \"/>\n",
       "<polyline clip-path=\"url(#clip1002)\" style=\"stroke:#000000; stroke-width:2; stroke-opacity:0.1; fill:none\" points=\"\n",
       "  862.708,1495.57 862.708,47.2441 \n",
       "  \"/>\n",
       "<polyline clip-path=\"url(#clip1002)\" style=\"stroke:#000000; stroke-width:2; stroke-opacity:0.1; fill:none\" points=\"\n",
       "  1188.2,1495.57 1188.2,47.2441 \n",
       "  \"/>\n",
       "<polyline clip-path=\"url(#clip1002)\" style=\"stroke:#000000; stroke-width:2; stroke-opacity:0.1; fill:none\" points=\"\n",
       "  1513.7,1495.57 1513.7,47.2441 \n",
       "  \"/>\n",
       "<polyline clip-path=\"url(#clip1002)\" style=\"stroke:#000000; stroke-width:2; stroke-opacity:0.1; fill:none\" points=\"\n",
       "  172.66,1454.58 1552.76,1454.58 \n",
       "  \"/>\n",
       "<polyline clip-path=\"url(#clip1002)\" style=\"stroke:#000000; stroke-width:2; stroke-opacity:0.1; fill:none\" points=\"\n",
       "  172.66,1112.99 1552.76,1112.99 \n",
       "  \"/>\n",
       "<polyline clip-path=\"url(#clip1002)\" style=\"stroke:#000000; stroke-width:2; stroke-opacity:0.1; fill:none\" points=\"\n",
       "  172.66,771.407 1552.76,771.407 \n",
       "  \"/>\n",
       "<polyline clip-path=\"url(#clip1002)\" style=\"stroke:#000000; stroke-width:2; stroke-opacity:0.1; fill:none\" points=\"\n",
       "  172.66,429.821 1552.76,429.821 \n",
       "  \"/>\n",
       "<polyline clip-path=\"url(#clip1002)\" style=\"stroke:#000000; stroke-width:2; stroke-opacity:0.1; fill:none\" points=\"\n",
       "  172.66,88.2345 1552.76,88.2345 \n",
       "  \"/>\n",
       "<polyline clip-path=\"url(#clip1000)\" style=\"stroke:#000000; stroke-width:4; stroke-opacity:1; fill:none\" points=\"\n",
       "  172.66,1495.57 1552.76,1495.57 \n",
       "  \"/>\n",
       "<polyline clip-path=\"url(#clip1000)\" style=\"stroke:#000000; stroke-width:4; stroke-opacity:1; fill:none\" points=\"\n",
       "  172.66,1495.57 172.66,47.2441 \n",
       "  \"/>\n",
       "<polyline clip-path=\"url(#clip1000)\" style=\"stroke:#000000; stroke-width:4; stroke-opacity:1; fill:none\" points=\"\n",
       "  211.72,1495.57 211.72,1473.85 \n",
       "  \"/>\n",
       "<polyline clip-path=\"url(#clip1000)\" style=\"stroke:#000000; stroke-width:4; stroke-opacity:1; fill:none\" points=\"\n",
       "  537.214,1495.57 537.214,1473.85 \n",
       "  \"/>\n",
       "<polyline clip-path=\"url(#clip1000)\" style=\"stroke:#000000; stroke-width:4; stroke-opacity:1; fill:none\" points=\"\n",
       "  862.708,1495.57 862.708,1473.85 \n",
       "  \"/>\n",
       "<polyline clip-path=\"url(#clip1000)\" style=\"stroke:#000000; stroke-width:4; stroke-opacity:1; fill:none\" points=\"\n",
       "  1188.2,1495.57 1188.2,1473.85 \n",
       "  \"/>\n",
       "<polyline clip-path=\"url(#clip1000)\" style=\"stroke:#000000; stroke-width:4; stroke-opacity:1; fill:none\" points=\"\n",
       "  1513.7,1495.57 1513.7,1473.85 \n",
       "  \"/>\n",
       "<polyline clip-path=\"url(#clip1000)\" style=\"stroke:#000000; stroke-width:4; stroke-opacity:1; fill:none\" points=\"\n",
       "  172.66,1454.58 193.362,1454.58 \n",
       "  \"/>\n",
       "<polyline clip-path=\"url(#clip1000)\" style=\"stroke:#000000; stroke-width:4; stroke-opacity:1; fill:none\" points=\"\n",
       "  172.66,1112.99 193.362,1112.99 \n",
       "  \"/>\n",
       "<polyline clip-path=\"url(#clip1000)\" style=\"stroke:#000000; stroke-width:4; stroke-opacity:1; fill:none\" points=\"\n",
       "  172.66,771.407 193.362,771.407 \n",
       "  \"/>\n",
       "<polyline clip-path=\"url(#clip1000)\" style=\"stroke:#000000; stroke-width:4; stroke-opacity:1; fill:none\" points=\"\n",
       "  172.66,429.821 193.362,429.821 \n",
       "  \"/>\n",
       "<polyline clip-path=\"url(#clip1000)\" style=\"stroke:#000000; stroke-width:4; stroke-opacity:1; fill:none\" points=\"\n",
       "  172.66,88.2345 193.362,88.2345 \n",
       "  \"/>\n",
       "<g clip-path=\"url(#clip1000)\">\n",
       "<text style=\"fill:#000000; fill-opacity:1; font-family:Arial,Helvetica Neue,Helvetica,sans-serif; font-size:48px; text-anchor:middle;\" transform=\"rotate(0, 211.72, 1545.57)\" x=\"211.72\" y=\"1545.57\">0.00</text>\n",
       "</g>\n",
       "<g clip-path=\"url(#clip1000)\">\n",
       "<text style=\"fill:#000000; fill-opacity:1; font-family:Arial,Helvetica Neue,Helvetica,sans-serif; font-size:48px; text-anchor:middle;\" transform=\"rotate(0, 537.214, 1545.57)\" x=\"537.214\" y=\"1545.57\">0.25</text>\n",
       "</g>\n",
       "<g clip-path=\"url(#clip1000)\">\n",
       "<text style=\"fill:#000000; fill-opacity:1; font-family:Arial,Helvetica Neue,Helvetica,sans-serif; font-size:48px; text-anchor:middle;\" transform=\"rotate(0, 862.708, 1545.57)\" x=\"862.708\" y=\"1545.57\">0.50</text>\n",
       "</g>\n",
       "<g clip-path=\"url(#clip1000)\">\n",
       "<text style=\"fill:#000000; fill-opacity:1; font-family:Arial,Helvetica Neue,Helvetica,sans-serif; font-size:48px; text-anchor:middle;\" transform=\"rotate(0, 1188.2, 1545.57)\" x=\"1188.2\" y=\"1545.57\">0.75</text>\n",
       "</g>\n",
       "<g clip-path=\"url(#clip1000)\">\n",
       "<text style=\"fill:#000000; fill-opacity:1; font-family:Arial,Helvetica Neue,Helvetica,sans-serif; font-size:48px; text-anchor:middle;\" transform=\"rotate(0, 1513.7, 1545.57)\" x=\"1513.7\" y=\"1545.57\">1.00</text>\n",
       "</g>\n",
       "<g clip-path=\"url(#clip1000)\">\n",
       "<text style=\"fill:#000000; fill-opacity:1; font-family:Arial,Helvetica Neue,Helvetica,sans-serif; font-size:48px; text-anchor:end;\" transform=\"rotate(0, 156.66, 1472.08)\" x=\"156.66\" y=\"1472.08\">0.00</text>\n",
       "</g>\n",
       "<g clip-path=\"url(#clip1000)\">\n",
       "<text style=\"fill:#000000; fill-opacity:1; font-family:Arial,Helvetica Neue,Helvetica,sans-serif; font-size:48px; text-anchor:end;\" transform=\"rotate(0, 156.66, 1130.49)\" x=\"156.66\" y=\"1130.49\">0.25</text>\n",
       "</g>\n",
       "<g clip-path=\"url(#clip1000)\">\n",
       "<text style=\"fill:#000000; fill-opacity:1; font-family:Arial,Helvetica Neue,Helvetica,sans-serif; font-size:48px; text-anchor:end;\" transform=\"rotate(0, 156.66, 788.907)\" x=\"156.66\" y=\"788.907\">0.50</text>\n",
       "</g>\n",
       "<g clip-path=\"url(#clip1000)\">\n",
       "<text style=\"fill:#000000; fill-opacity:1; font-family:Arial,Helvetica Neue,Helvetica,sans-serif; font-size:48px; text-anchor:end;\" transform=\"rotate(0, 156.66, 447.321)\" x=\"156.66\" y=\"447.321\">0.75</text>\n",
       "</g>\n",
       "<g clip-path=\"url(#clip1000)\">\n",
       "<text style=\"fill:#000000; fill-opacity:1; font-family:Arial,Helvetica Neue,Helvetica,sans-serif; font-size:48px; text-anchor:end;\" transform=\"rotate(0, 156.66, 105.734)\" x=\"156.66\" y=\"105.734\">1.00</text>\n",
       "</g>\n",
       "<polyline clip-path=\"url(#clip1002)\" style=\"stroke:#000005; stroke-width:4; stroke-opacity:1; fill:none\" points=\"\n",
       "  529.459,1131.88 532.307,1134.67 536.598,1138.74 538.85,1140.81 544.264,1145.61 545.392,1146.58 551.935,1151.98 552.558,1152.47 558.477,1157.01 561.647,1159.34 \n",
       "  565.02,1161.75 571.547,1166.21 571.563,1166.22 578.105,1170.31 582.755,1173.07 584.648,1174.17 591.19,1177.71 595.58,1179.94 597.733,1181 604.275,1183.98 \n",
       "  610.818,1186.74 610.989,1186.8 617.361,1189.14 623.903,1191.3 630.446,1193.2 632.376,1193.67 636.988,1194.76 643.531,1196.02 650.074,1196.97 656.616,1197.6 \n",
       "  663.159,1197.88 669.701,1197.79 676.244,1197.3 682.787,1196.38 689.329,1194.99 693.942,1193.67 695.872,1193.07 702.414,1190.47 708.957,1187.23 709.689,1186.8 \n",
       "  715.5,1183.02 719.516,1179.94 722.042,1177.75 726.74,1173.07 728.585,1170.97 732.274,1166.21 735.127,1161.9 736.649,1159.34 740.09,1152.47 741.67,1148.63 \n",
       "  742.798,1145.61 744.851,1138.74 746.396,1131.88 747.473,1125.01 748.115,1118.14 748.213,1115.41 748.348,1111.28 748.223,1104.41 748.213,1104.26 747.743,1097.55 \n",
       "  746.939,1090.68 745.833,1083.81 744.443,1076.95 742.789,1070.08 741.67,1066.08 740.847,1063.21 738.606,1056.35 736.14,1049.48 735.127,1046.92 733.378,1042.62 \n",
       "  730.362,1035.75 728.585,1031.98 727.083,1028.88 723.531,1022.02 722.042,1019.31 719.697,1015.15 715.626,1008.29 715.5,1008.09 711.196,1001.42 708.957,998.097 \n",
       "  706.498,994.554 702.414,988.904 701.509,987.688 696.181,980.822 695.872,980.44 690.469,973.956 689.329,972.636 684.387,967.09 682.787,965.354 677.898,960.224 \n",
       "  676.244,958.545 670.959,953.358 669.701,952.162 663.523,946.492 663.159,946.168 656.616,940.576 655.458,939.626 650.074,935.34 646.698,932.76 643.531,930.41 \n",
       "  637.18,925.894 636.988,925.761 630.446,921.489 626.489,919.028 623.903,917.465 617.361,913.738 614.41,912.162 610.818,910.296 604.275,907.131 600.175,905.295 \n",
       "  597.733,904.233 591.19,901.645 584.648,899.293 581.922,898.429 578.105,897.255 571.563,895.519 565.02,894.061 558.477,892.9 551.935,892.056 545.535,891.563 \n",
       "  545.392,891.553 538.85,891.421 534.912,891.563 532.307,891.665 525.764,892.34 519.222,893.47 512.679,895.091 506.137,897.246 503.257,898.429 499.594,900.088 \n",
       "  493.051,903.699 490.609,905.295 486.509,908.29 481.971,912.162 479.966,914.098 475.505,919.028 473.424,921.679 470.484,925.894 466.881,931.992 466.473,932.76 \n",
       "  463.389,939.626 460.915,946.492 460.338,948.517 459.08,953.358 457.76,960.224 456.881,967.09 456.412,973.956 456.325,980.822 456.593,987.688 457.192,994.554 \n",
       "  458.1,1001.42 459.297,1008.29 460.338,1013.13 460.787,1015.15 462.596,1022.02 464.652,1028.88 466.881,1035.57 466.942,1035.75 469.572,1042.62 472.411,1049.48 \n",
       "  473.424,1051.74 475.548,1056.35 478.924,1063.21 479.966,1065.2 482.602,1070.08 486.499,1076.95 486.509,1076.96 490.757,1083.81 493.051,1087.35 495.271,1090.68 \n",
       "  499.594,1096.89 500.063,1097.55 505.213,1104.41 506.137,1105.6 510.708,1111.28 512.679,1113.64 516.557,1118.14 519.222,1121.13 522.794,1125.01 525.764,1128.13 \n",
       "  529.459,1131.88 \n",
       "  \"/>\n",
       "<polyline clip-path=\"url(#clip1002)\" style=\"stroke:#000000; stroke-width:4; stroke-opacity:1; fill:none\" points=\"\n",
       "  211.72,88.2345 1513.7,1454.58 \n",
       "  \"/>\n",
       "</svg>\n"
      ]
     },
     "execution_count": 7,
     "metadata": {},
     "output_type": "execute_result"
    }
   ],
   "source": [
    "tau = cquantile(Chisq(2), 0.05)\n",
    "n = 100\n",
    "phat, qhat = 0.3, 0.3\n",
    "p = q = range(0, 1, length=200)\n",
    "f(p, q) = chisq_statistic(n, p, q, phat, qhat)\n",
    "z = f.(p', q)\n",
    "contour(p, q, z; levels=[tau], colorbar=false, size=(400, 400))\n",
    "plot!([0,1], [1,0]; label=\"\", color=:black)"
   ]
  },
  {
   "cell_type": "code",
   "execution_count": 8,
   "metadata": {},
   "outputs": [
    {
     "data": {
      "text/plain": [
       "sim_confidence_domain (generic function with 1 method)"
      ]
     },
     "execution_count": 8,
     "metadata": {},
     "output_type": "execute_result"
    }
   ],
   "source": [
    "function sim_confidence_domain(n; α=0.05, p₀=0.3, q₀=0.3, niters=10^6)\n",
    "    true_dist = Multinomial(n, [p₀, q₀, 1-p₀-q₀])\n",
    "    tau = cquantile(Chisq(2), 0.05)\n",
    "    c = 0\n",
    "    for i in 1:niters\n",
    "        X = rand(true_dist)\n",
    "        k, l = X[1], X[2]\n",
    "        phat, qhat = k/n, l/n\n",
    "        c += ifelse(chisq_statistic(n, p₀, q₀, phat, qhat) ≤ tau, 1, 0)\n",
    "    end\n",
    "    c/niters\n",
    "end"
   ]
  },
  {
   "cell_type": "code",
   "execution_count": 9,
   "metadata": {},
   "outputs": [
    {
     "name": "stdout",
     "output_type": "stream",
     "text": [
      "  0.738533 seconds (1.67 M allocations: 141.013 MiB, 5.66% gc time)\n"
     ]
    },
    {
     "data": {
      "text/plain": [
       "0.938248"
      ]
     },
     "execution_count": 9,
     "metadata": {},
     "output_type": "execute_result"
    }
   ],
   "source": [
    "@time sim_confidence_domain(100)"
   ]
  },
  {
   "cell_type": "code",
   "execution_count": 10,
   "metadata": {},
   "outputs": [
    {
     "ename": "UndefVarError",
     "evalue": "UndefVarError: nparams not defined",
     "output_type": "error",
     "traceback": [
      "UndefVarError: nparams not defined",
      "",
      "Stacktrace:",
      " [1] top-level scope at In[10]:1"
     ]
    }
   ],
   "source": [
    "nparams"
   ]
  },
  {
   "cell_type": "code",
   "execution_count": null,
   "metadata": {},
   "outputs": [],
   "source": []
  }
 ],
 "metadata": {
  "@webio": {
   "lastCommId": null,
   "lastKernelId": null
  },
  "kernelspec": {
   "display_name": "Julia 1.1.1",
   "language": "julia",
   "name": "julia-1.1"
  },
  "language_info": {
   "file_extension": ".jl",
   "mimetype": "application/julia",
   "name": "julia",
   "version": "1.1.1"
  },
  "toc": {
   "base_numbering": 1,
   "nav_menu": {},
   "number_sections": true,
   "sideBar": true,
   "skip_h1_title": false,
   "title_cell": "Table of Contents",
   "title_sidebar": "Contents",
   "toc_cell": false,
   "toc_position": {},
   "toc_section_display": true,
   "toc_window_display": false
  }
 },
 "nbformat": 4,
 "nbformat_minor": 2
}
