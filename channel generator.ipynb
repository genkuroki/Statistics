{
 "cells": [
  {
   "cell_type": "markdown",
   "id": "27d84cee-f63d-46d5-98ba-bf7e5ed150f1",
   "metadata": {},
   "source": [
    "https://twitter.com/julia_kizi/status/1461371219069091845"
   ]
  },
  {
   "cell_type": "code",
   "execution_count": 1,
   "id": "7e6ade8d-8cd1-4c2d-9a3e-510def2cf02e",
   "metadata": {},
   "outputs": [
    {
     "name": "stdout",
     "output_type": "stream",
     "text": [
      "1\n",
      "2\n",
      "3\n",
      "4\n",
      "5\n"
     ]
    }
   ],
   "source": [
    "function gen_channel(n)\n",
    "    ch = Channel()\n",
    "    @async begin \n",
    "        for i in 1:n\n",
    "            put!(ch, i)\n",
    "        end\n",
    "        close(ch)\n",
    "    end\n",
    "    ch\n",
    "end\n",
    "\n",
    "for x in gen_channel(5)\n",
    "    println(x)\n",
    "end"
   ]
  },
  {
   "cell_type": "code",
   "execution_count": 2,
   "id": "61983184-53a1-44bb-892a-00f078932a19",
   "metadata": {},
   "outputs": [
    {
     "name": "stdout",
     "output_type": "stream",
     "text": [
      "1\n",
      "2\n",
      "3\n",
      "4\n",
      "5\n"
     ]
    }
   ],
   "source": [
    "gen(n) = (i for i in 1:n)\n",
    "\n",
    "for x in gen(5)\n",
    "    println(x)\n",
    "end"
   ]
  },
  {
   "cell_type": "code",
   "execution_count": 3,
   "id": "2feaf8cd-0c31-49da-9862-6a6fc78419f9",
   "metadata": {},
   "outputs": [
    {
     "data": {
      "text/plain": [
       "Base.Generator{UnitRange{Int64}, typeof(identity)}(identity, 1:5)"
      ]
     },
     "execution_count": 3,
     "metadata": {},
     "output_type": "execute_result"
    }
   ],
   "source": [
    "gen(5)"
   ]
  },
  {
   "cell_type": "code",
   "execution_count": 13,
   "id": "b2ca1732-ce5f-4891-83d7-5f2a9c8744a2",
   "metadata": {},
   "outputs": [
    {
     "name": "stdout",
     "output_type": "stream",
     "text": [
      "1\n",
      "4\n",
      "9\n",
      "16\n",
      "25\n"
     ]
    }
   ],
   "source": [
    "squares(n) = (i * i for i in 1:n)\n",
    "\n",
    "for x in squares(5)\n",
    "    println(x)\n",
    "end"
   ]
  },
  {
   "cell_type": "code",
   "execution_count": 24,
   "id": "53ffe628-92ef-4ee0-883c-7d3670dffe98",
   "metadata": {},
   "outputs": [
    {
     "name": "stdout",
     "output_type": "stream",
     "text": [
      "1\n",
      "4\n",
      "9\n",
      "16\n",
      "25\n"
     ]
    }
   ],
   "source": [
    "infinite_sequence_of_squares = (i * i for i in Iterators.countfrom(1))\n",
    "\n",
    "for x in Iterators.take(infinite_sequence_of_squares, 5)\n",
    "    println(x)\n",
    "end"
   ]
  },
  {
   "cell_type": "code",
   "execution_count": null,
   "id": "88550b9e-8936-4bf8-ba36-e1972bf4b8a3",
   "metadata": {},
   "outputs": [],
   "source": []
  }
 ],
 "metadata": {
  "kernelspec": {
   "display_name": "Julia 1.6.3",
   "language": "julia",
   "name": "julia-1.6"
  },
  "language_info": {
   "file_extension": ".jl",
   "mimetype": "application/julia",
   "name": "julia",
   "version": "1.6.3"
  }
 },
 "nbformat": 4,
 "nbformat_minor": 5
}
