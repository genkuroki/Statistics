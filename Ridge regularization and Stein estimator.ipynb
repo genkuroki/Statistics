{
 "cells": [
  {
   "cell_type": "markdown",
   "metadata": {},
   "source": [
    "# Ridge正則化とStein推定量\n",
    "\n",
    "黒木玄\n",
    "\n",
    "2019-09-30\n",
    "\n",
    "* [ipynb版](https://nbviewer.jupyter.org/github/genkuroki/Statistics/blob/master/Ridge%20regularization%20and%20Stein%20estimator.ipynb)\n",
    "* [pdf版](https://genkuroki.github.io/documents/Statistics/Ridge%20regularization%20and%20Stein%20estimator.pdf)\n",
    "\n",
    "$\n",
    "\\newcommand\\eps{\\varepsilon}\n",
    "\\newcommand\\ds{\\displaystyle}\n",
    "\\newcommand\\Z{{\\mathbb Z}}\n",
    "\\newcommand\\R{{\\mathbb R}}\n",
    "\\newcommand\\C{{\\mathbb C}}\n",
    "\\newcommand\\QED{\\text{□}}\n",
    "\\newcommand\\root{\\sqrt}\n",
    "\\newcommand\\bra{\\langle}\n",
    "\\newcommand\\ket{\\rangle}\n",
    "\\newcommand\\d{\\partial}\n",
    "\\newcommand\\sech{\\operatorname{sech}}\n",
    "\\newcommand\\cosec{\\operatorname{cosec}}\n",
    "\\newcommand\\sign{\\operatorname{sign}}\n",
    "\\newcommand\\sinc{\\operatorname{sinc}}\n",
    "\\newcommand\\real{\\operatorname{Re}}\n",
    "\\newcommand\\imag{\\operatorname{Im}}\n",
    "\\newcommand\\Li{\\operatorname{Li}}\n",
    "\\newcommand\\PROD{\\mathop{\\coprod\\kern-1.35em\\prod}}\n",
    "$\n",
    "\n",
    "Ridge正則化とはパラメーター $w$ の対数尤度函数の $-1$ 倍 $L(w)$ そのものを最小化する最尤法を実行するのではなく, パラメーターの $\\ell^2$ ノルムの2乗に比例する罰則項 $\\lambda\\|w\\|^2$ を加えた $L(w) + \\lambda\\|w\\|^2$ の最小化によってパラメーターの推定値を決定する方法である.\n",
    "\n",
    "Ridge正則化を非常にシンプルな場合に適用することによって, 最尤推定量よりも平均二乗誤差が小さいStein推定量が得られることを示す."
   ]
  },
  {
   "cell_type": "markdown",
   "metadata": {
    "toc": true
   },
   "source": [
    "<h1>目次<span class=\"tocSkip\"></span></h1>\n",
    "<div class=\"toc\"><ul class=\"toc-item\"><li><span><a href=\"#設定\" data-toc-modified-id=\"設定-1\"><span class=\"toc-item-num\">1&nbsp;&nbsp;</span>設定</a></span><ul class=\"toc-item\"><li><span><a href=\"#平均汎化誤差と平均二乗誤差の関係\" data-toc-modified-id=\"平均汎化誤差と平均二乗誤差の関係-1.1\"><span class=\"toc-item-num\">1.1&nbsp;&nbsp;</span>平均汎化誤差と平均二乗誤差の関係</a></span></li></ul></li><li><span><a href=\"#最尤推定量\" data-toc-modified-id=\"最尤推定量-2\"><span class=\"toc-item-num\">2&nbsp;&nbsp;</span>最尤推定量</a></span></li><li><span><a href=\"#Ridge正則化とStein推定量\" data-toc-modified-id=\"Ridge正則化とStein推定量-3\"><span class=\"toc-item-num\">3&nbsp;&nbsp;</span>Ridge正則化とStein推定量</a></span><ul class=\"toc-item\"><li><span><a href=\"#$n\\geqq-3$-という仮定からの帰結\" data-toc-modified-id=\"$n\\geqq-3$-という仮定からの帰結-3.1\"><span class=\"toc-item-num\">3.1&nbsp;&nbsp;</span>$n\\geqq 3$ という仮定からの帰結</a></span></li><li><span><a href=\"#第1項\" data-toc-modified-id=\"第1項-3.2\"><span class=\"toc-item-num\">3.2&nbsp;&nbsp;</span>第1項</a></span></li><li><span><a href=\"#第2項\" data-toc-modified-id=\"第2項-3.3\"><span class=\"toc-item-num\">3.3&nbsp;&nbsp;</span>第2項</a></span></li><li><span><a href=\"#第3項\" data-toc-modified-id=\"第3項-3.4\"><span class=\"toc-item-num\">3.4&nbsp;&nbsp;</span>第3項</a></span></li><li><span><a href=\"#Stein推定量\" data-toc-modified-id=\"Stein推定量-3.5\"><span class=\"toc-item-num\">3.5&nbsp;&nbsp;</span>Stein推定量</a></span></li><li><span><a href=\"#すべての-$\\mu_{i0}$-が0の場合の平均二乗誤差\" data-toc-modified-id=\"すべての-$\\mu_{i0}$-が0の場合の平均二乗誤差-3.6\"><span class=\"toc-item-num\">3.6&nbsp;&nbsp;</span>すべての $\\mu_{i0}$ が0の場合の平均二乗誤差</a></span></li><li><span><a href=\"#正則化と事前分布の関係\" data-toc-modified-id=\"正則化と事前分布の関係-3.7\"><span class=\"toc-item-num\">3.7&nbsp;&nbsp;</span>正則化と事前分布の関係</a></span></li></ul></li><li><span><a href=\"#数値的検証\" data-toc-modified-id=\"数値的検証-4\"><span class=\"toc-item-num\">4&nbsp;&nbsp;</span>数値的検証</a></span><ul class=\"toc-item\"><li><span><a href=\"#すべての-$\\mu_{i0}$-が0の場合\" data-toc-modified-id=\"すべての-$\\mu_{i0}$-が0の場合-4.1\"><span class=\"toc-item-num\">4.1&nbsp;&nbsp;</span>すべての $\\mu_{i0}$ が0の場合</a></span></li><li><span><a href=\"#雑多な場合\" data-toc-modified-id=\"雑多な場合-4.2\"><span class=\"toc-item-num\">4.2&nbsp;&nbsp;</span>雑多な場合</a></span></li></ul></li></ul></div>"
   ]
  },
  {
   "cell_type": "markdown",
   "metadata": {},
   "source": [
    "## 設定\n",
    "\n",
    "以下では, 平均 $a\\in\\R$, 分散 $1$ の正規分布の確率密度函数を\n",
    "\n",
    "$$\n",
    "N(x|a) = \\frac{1}{\\mu}e^{-(x-a)^2/2}\n",
    "$$\n",
    "\n",
    "と書くことにし, $\\mu_{i0}\\in\\R$ ($i=1,\\ldots,n$) を任意に取って固定する. $X=(X_1,\\ldots,X_n)$ は確率密度函数\n",
    "\n",
    "$$\n",
    "q(x) = \\prod_{i=1}^n N(x|\\mu_{i0})\n",
    "$$\n",
    "\n",
    "で定義される確率分布に従うベクトル値確率変数であるとする.  (これは, $X_i$ は平均 $\\mu_{i0}$, 分散 $1$ の正規分布に従う確率変数であり, $X_i$ 達は独立であると仮定したのと同じことである.)\n",
    "\n",
    "以下 $X$ をサンプルと呼ぶ.\n",
    "\n",
    "このサンプルが従う分布の推定を, パラメーター $\\mu=(\\mu_1,\\ldots,\\mu_n)$ を持つ $x=(x_1,\\ldots,x_n)$ に関する確率密度函数\n",
    "\n",
    "$$\n",
    "p(x|\\mu) = \\prod_{i=1}^n N(x_i|\\mu_i)\n",
    "$$\n",
    "\n",
    "をモデルとして採用して行いたい.  以上が基本的な設定である."
   ]
  },
  {
   "cell_type": "markdown",
   "metadata": {},
   "source": [
    "### 平均汎化誤差と平均二乗誤差の関係\n",
    "\n",
    "このとき $p(x|\\mu)$ による $q(x)$ の予測の汎化誤差の2倍は\n",
    "\n",
    "$$\n",
    "\\begin{aligned}\n",
    "&\n",
    "\\int_{\\R^n} q(x)(-2\\log p(x|\\mu))\\,dx = \n",
    "\\int_{\\R^2}q(x)\\left(n\\log(2\\pi)+\\sum_{i=1}^n(x_i-\\mu_i)^2\\right)\\,dx\n",
    "\\\\ & =\n",
    "\\int_{\\R^2}q(x)\\left(n\\log(2\\pi)+\\sum_{i=1}^n((x_i-\\mu_{i0})-(\\mu_i-\\mu_{i0}))^2\\right)\\,dx\n",
    "\\\\ & =\n",
    "\\int_{\\R^2}q(x)\\left(n\\log(2\\pi)+\n",
    "\\sum_{i=1}^n((x_i-\\mu_{i0})^2-2(\\mu_i-\\mu_{i0})(x_i-\\mu_{i0})+(\\mu_i-\\mu_{i0})^2)\\right)\\,dx\n",
    "\\\\ & =\n",
    "n\\log(2\\pi) + n + \\sum_{i=1}^n (\\mu_i - \\mu_{i0})^2.\n",
    "\\end{aligned}\n",
    "$$\n",
    "\n",
    "ゆえに, もしも $\\mu_i$ が $X=(X_1,\\ldots,X_n)$ の函数 $\\mu_i(X)$ ならば, サンプル $X$ を動かす汎化誤差の平均の2倍は $\\mu(X)=(\\mu_1(X),\\ldots,\\mu_n(X))$ の二乗誤差の平均と定数の和\n",
    "\n",
    "$$\n",
    "n\\log(2\\pi) + n + E\\left[\\sum_{i=1}^n(\\mu_i(X)-\\mu_{i0})^2\\right]\n",
    "$$\n",
    "\n",
    "になる. ゆえに, 平均汎化誤差を小さくすること(平均予測誤差を小さくすること)と,  平均二乗誤差を小さくすることは同じことになる.\n",
    "\n",
    "平均二乗誤差の小さな推定量の方が平均予測誤差も小さくなり, より優れた推定量だということになる."
   ]
  },
  {
   "cell_type": "markdown",
   "metadata": {},
   "source": [
    "## 最尤推定量\n",
    "\n",
    "まず, 最尤法を実行してみよう. 尤度函数の対数の $-2$ 倍は\n",
    "\n",
    "$$\n",
    "-2\\log p(X|\\mu) = -2\\sum_{i=1}^n \\log N(X_i|\\mu_i) = \n",
    "n\\log(2\\pi) + \\sum_{i=1}^n (X_i - \\mu_i)^2\n",
    "$$\n",
    "\n",
    "となるので, これの最小化は損失函数\n",
    "\n",
    "$$\n",
    "L(\\mu) = \\sum_{i=1}^n (X_i - \\mu_i)^2\n",
    "$$\n",
    "\n",
    "の最小化と同じになる. これを最小化する $\\mu_i$ 達は $\\hat\\mu_i = X_i$ となる.  これが最尤法の解である. 最尤法の解の平均二乗誤差は, $X_i$ が平均 $\\mu_{i0}$, 分散 $1$ の正規分布に従う確率変数なので, \n",
    "\n",
    "$$\n",
    "E\\left[\\sum_{i=1}^n(\\hat\\mu_i - \\mu_{i0})^2\\right] = \n",
    "\\sum_{i=1}^nE\\left[(X_i - \\mu_{i0})^2\\right] = n\n",
    "$$\n",
    "\n",
    "となる. "
   ]
  },
  {
   "cell_type": "markdown",
   "metadata": {},
   "source": [
    "## Ridge正則化とStein推定量\n",
    "\n",
    "以下では $n\\geqq 3$ であると仮定する.\n",
    "\n",
    "Ridge正則化された損失函数 $R(\\mu|\\lambda)$ を\n",
    "\n",
    "$$\n",
    "R(\\mu|\\lambda) = L(\\mu) + \\lambda\\|\\mu\\|^2 =\n",
    "\\sum_{i=1}^n (X_i - \\mu_i)^2 + \\lambda\\sum_{i=1}^n \\mu_i^2\n",
    "$$\n",
    "\n",
    "と定める. $\\lambda > 0$ には後でサンプル $X_i$ から決まるある正の実数を代入することになる.\n",
    "\n",
    "$R(\\mu|\\lambda)$ を最小化する $\\mu_i=\\tilde\\mu_i$ は, 簡単な計算で\n",
    "\n",
    "$$\n",
    "\\tilde\\mu_i = \\frac{1}{1+\\lambda} X_i = (1 - \\alpha)X_i, \\quad\n",
    "\\alpha = \\frac{\\lambda}{1+\\lambda}\n",
    "$$\n",
    "\n",
    "と書けることがわかる. \n",
    "\n",
    "定数 $c$ を用いて, \n",
    "\n",
    "$$\n",
    "\\alpha = \\alpha(X) = \\frac{c}{X^2}, \\quad X^2 = \\sum_{i=1}^n X_i^2\n",
    "$$\n",
    "\n",
    "とおき, 推定量 \n",
    "\n",
    "$$\n",
    "\\tilde\\mu_i = \n",
    "\\left(1 - \\alpha(X)\\right)X_i =\n",
    "\\left(1 - \\frac{c}{X^2}\\right)X_i\n",
    "$$\n",
    "    \n",
    "の平均二乗誤差\n",
    "\n",
    "$$\n",
    "E\\left[\\sum_{i=1}^n(\\tilde\\mu_i - \\mu_{i0})^2\\right] = \n",
    "\\sum_{i=1}^n E[(X_i-\\mu_{i0})^2] - \n",
    "2\\sum_{i=1}^n E[\\alpha(X)X_i(X_i-\\mu_{i0})] + \n",
    "\\sum_{i=1}^n E[\\alpha(X)^2 X_i^2]\n",
    "$$\n",
    "\n",
    "を最小化する $c$ を求めよう."
   ]
  },
  {
   "cell_type": "markdown",
   "metadata": {},
   "source": [
    "### $n\\geqq 3$ という仮定からの帰結\n",
    "\n",
    "$n\\geqq 3$ と仮定したことより, $E[1/X^2]$ が有限の値になることを示そう.\n",
    "\n",
    "$$\n",
    "E\\left[\\frac{1}{X^2}\\right] = \n",
    "\\frac{1}{(2\\pi)^{n/2}}\\int_{\\R^n} e^{-(x-\\mu_0)^2/2} \\frac{1}{x^2}\\,dx.\n",
    "$$\n",
    "\n",
    "ここで $(x-\\mu_0)^2 = \\sum_{i=1}^n (x_i-\\mu_{i0})^2$, $x^2=\\sum_{i=1}^n x_i^2$ である. \n",
    "\n",
    "原点を中心とする $n-1$ 次元単位球面を $S^{n-1}$ と書き, その面積を $A_n = 2\\pi^{n/2}/\\Gamma(n/2)$ と書き, $S^{n-1}$ 上の一様分布を $d\\omega$ と書くことにする.  このとき, 極座標変換\n",
    "\n",
    "$$\n",
    "x = r\\omega, \\quad (r > 0,\\ \\omega\\in S^{n-1})\n",
    "$$\n",
    "\n",
    "によって,\n",
    "\n",
    "$$\n",
    "E\\left[\\frac{1}{X^2}\\right] = \n",
    "\\frac{1}{(2\\pi)^{n/2}}\\iint_{\\R^n} e^{-(r\\omega-\\mu_0)^2/2} \\frac{1}{r^2}A_n r^{n-1}\\,dr\\,d\\omega =\n",
    "\\frac{A_n}{(2\\pi)^{n/2}}\\iint_{\\R^n} e^{-(r\\omega-\\mu_0)^2/2} r^{n-3}\\,dr\\,d\\omega.\n",
    "$$\n",
    "\n",
    "これは $n-3>-1$ すなわち $n>2$ ならば絶対収束している."
   ]
  },
  {
   "cell_type": "markdown",
   "metadata": {},
   "source": [
    "### 第1項\n",
    "\n",
    "$X_i$ は平均 $\\mu_{i0}$, 分散 $1$ の正規分布に従うので\n",
    "\n",
    "$$\n",
    "\\sum_{i=1}^n E[(X_i-\\mu_{i0})^2] = n.\n",
    "$$"
   ]
  },
  {
   "cell_type": "markdown",
   "metadata": {},
   "source": [
    "### 第2項\n",
    "\n",
    "正規分布に関する部分積分の公式\n",
    "\n",
    "$$\n",
    "E[\\alpha(X)X_i(X_i-\\mu_{i0})] = E\\left[\\frac{\\d}{\\d X_i}(\\alpha(X)X_i)\\right]\n",
    "$$\n",
    "\n",
    "を使う. \n",
    "\n",
    "$$\n",
    "\\frac{\\d}{\\d X_i}(\\alpha(X)X_i) = \n",
    "c\\frac{\\d}{\\d X_i}\\frac{X_i}{X^2} =\n",
    "c\\left(\\frac{1}{X^2}-\\frac{2X_i^2}{X^4}\\right)\n",
    "$$\n",
    "\n",
    "より,\n",
    "\n",
    "$$\n",
    "\\sum_{i=1}^n E[\\alpha(X)X_i(X_i-\\mu_{i0})] =\n",
    "c\\left(\\sum_{i=1}^nE\\left[\\frac{1}{X^2}\\right] - E\\left[\\frac{2X^2}{X^4}\\right]\\right) =\n",
    "c(n-2)E\\left[\\frac{1}{X^2}\\right].\n",
    "$$"
   ]
  },
  {
   "cell_type": "markdown",
   "metadata": {},
   "source": [
    "### 第3項\n",
    "\n",
    "$\\alpha(X)^2 = c^2/X^4$, $\\sum_{i=1}^n X_i^2 = X^2$ なので\n",
    "\n",
    "$$\n",
    "\\sum_{i=1}^n E[\\alpha(X)^2 X_i^2] = \n",
    "E[\\alpha(X)^2 X^2] =\n",
    "E\\left[\\frac{c^2}{X^2}\\right] = \n",
    "c^2 E\\left[\\frac{1}{X^2}\\right].\n",
    "$$"
   ]
  },
  {
   "cell_type": "markdown",
   "metadata": {},
   "source": [
    "### Stein推定量\n",
    "\n",
    "ゆえに, $\\tilde\\mu_i$ の平均二乗誤差は\n",
    "\n",
    "$$\n",
    "\\begin{aligned}\n",
    "E\\left[\\sum_{i=1}^n(\\tilde\\mu_i - \\mu_{i0})^2\\right] &=\n",
    "n - 2c(n-2)E\\left[\\frac{1}{X^2}\\right] + c^2 E\\left[\\frac{1}{X^2}\\right] \n",
    "\\\\ &=\n",
    "n + (c^2 -2(n-2)c)E\\left[\\frac{1}{X^2}\\right].\n",
    "\\end{aligned}\n",
    "$$\n",
    "\n",
    "これを最小にする $c$ は\n",
    "\n",
    "$$\n",
    "c = n-2\n",
    "$$\n",
    "\n",
    "になる.  このときの, 推定値\n",
    "\n",
    "$$\n",
    "\\tilde\\mu_i = \n",
    "(1 - \\alpha(X))X_i =\n",
    "\\left(1 - \\frac{n-2}{X^2}\\right)X_i\n",
    "$$\n",
    "\n",
    "を[**Stein推定量**](https://www.google.com/search?q=Stein%E6%8E%A8%E5%AE%9A%E9%87%8F)と呼ぶことにする.\n",
    "\n",
    "そのとき得られる $\\tilde\\mu_i$ の平均二乗誤差の最小値は\n",
    "\n",
    "$$\n",
    "E\\left[\\sum_{i=1}^n(\\tilde\\mu_i - \\mu_{i0})^2\\right] =\n",
    "n - (n-2)^2 E\\left[\\frac{1}{X^2}\\right] < \n",
    "n = \n",
    "E\\left[\\sum_{i=1}^n(\\hat\\mu_i - \\mu_{i0})^2\\right]\n",
    "$$\n",
    "\n",
    "となる. \n",
    "\n",
    "このようにRidge正則化によって得られたStein推定量 $\\tilde\\mu_i$ の平均二乗誤差は最尤推定量 $\\hat\\mu_i=X_i$ の平均二乗誤差より小さい."
   ]
  },
  {
   "cell_type": "markdown",
   "metadata": {},
   "source": [
    "### すべての $\\mu_{i0}$ が0の場合の平均二乗誤差\n",
    "\n",
    "$\\mu_0 = (\\mu_{10},\\ldots,\\mu_{n0})=(0,\\ldots,0)$ のとき, \n",
    "\n",
    "$$\n",
    "E\\left[\\frac{1}{X^2}\\right] = \n",
    "\\frac{1}{(2\\pi)^{n/2}}\\int_{\\R^n} e^{-x^2/2} \\frac{1}{x^2}\\,dx.\n",
    "$$\n",
    "\n",
    "これは, $x_i$ の分散を $1/t>0$ にした場合より,\n",
    "\n",
    "$$\n",
    "\\frac{1}{(2\\pi)^{n/2}} \\int_{\\R^n} e^{-t x^2/2}\\,dx = t^{-n/2}.\n",
    "$$\n",
    "\n",
    "両辺を $t$ について $1$ から $\\infty$ まで積分すると, \n",
    "\n",
    "$$\n",
    "\\frac{1}{(2\\pi)^{n/2}} \\int_{\\R^n} e^{-x^2/2}\\frac{2}{x^2}\\,dx = \\frac{1}{n/2-1}.\n",
    "$$\n",
    "\n",
    "ゆえに\n",
    "\n",
    "$$\n",
    "E\\left[\\frac{1}{X^2}\\right] = \\frac{1}{n-2}.\n",
    "$$\n",
    "\n",
    "したがって, この場合には, Stein推定量の平均二乗誤差は\n",
    "\n",
    "$$\n",
    "E\\left[\\sum_{i=1}^n(\\tilde\\mu_i - \\mu_{i0})^2\\right] =\n",
    "n - (n-2)^2 E\\left[\\frac{1}{X^2}\\right] = 2\n",
    "$$\n",
    "\n",
    "となる.  これは $n\\geqq 3$ が大きいとき, 最尤推定量の平均二乗誤差の $n$ より相当に小さくなる."
   ]
  },
  {
   "cell_type": "markdown",
   "metadata": {},
   "source": [
    "### 正則化と事前分布の関係\n",
    "\n",
    "最尤法では, 確率モデル $p(x|w)$ のサンプル $X$ に関する対数尤度の $-1$ 倍\n",
    "\n",
    "$$\n",
    "L(w) = -\\log p(X|w)\n",
    "$$\n",
    "\n",
    "を最小化するパラメーター $w=\\hat w$ を求め, $p(x|\\hat w)$ を予測分布として採用する.\n",
    "\n",
    "事前分布 $\\varphi(w)$ と尤度函数の積の対数の $-1$ 倍\n",
    "\n",
    "$$\n",
    "R(w) = -\\log p(X|w) - \\log\\varphi(w)\n",
    "$$\n",
    "\n",
    "を最小化するパラメーター $w=\\tilde w$ を求めて $p(x|\\tilde w)$ を予測分布として採用する推定法を**MAP法 (最大事後確率法)** と呼ぶ.  $-\\log\\varphi(w)$ の項を罰則項とみなすとき, この方法は**正則化 (regularization)** とも呼ばれる.\n",
    "\n",
    "事前分布 $\\varphi(w)$ が正規分布の積の場合の正則化は**Ridge正則化**と呼ばれている.  事前分布がLaplace分布の積の場合の正則化は**LASSO正則化**と呼ばれている.\n",
    "\n",
    "以上で示したStein推定量の例は, 最尤法が必ずしも最良の推定量を与えるとは限らず, 正則化によって平均二乗誤差がより小さな得られる場合があることを示している.\n",
    "\n",
    "すなわち, 最尤法の代わりに事前分布を与えたMAP法を使った方が平均予測誤差が小さくなることがありえる.\n",
    "\n",
    "このような事実は「事前分布は主観や確信や信念を表す」と信じ込んで疑わない人達には思いもよらないことだと思われる.  事前分布は予測誤差を小さくするためにも有効に利用可能である."
   ]
  },
  {
   "cell_type": "markdown",
   "metadata": {},
   "source": [
    "## 数値的検証\n",
    "\n",
    "$n\\geqq 3$ であると仮定する.  Stein推定量 $\\tilde\\mu_i = (1-(n-2)/X^2)X_i$ を少しモディファイした推定量\n",
    "\n",
    "$$\n",
    "\\check\\mu_i = \\max\\left(0, 1-\\frac{n-2}{X^2}\\right)X_i\n",
    "$$\n",
    "\n",
    "も定義しておこう. さらに, $X^2$ を $X_i$ 達の平均との差の二乗和で置き換えた以下の推定量も考える:\n",
    "\n",
    "$$\n",
    "\\begin{aligned}\n",
    "&\n",
    "\\overline{\\tilde{\\mu}}_i = \n",
    "\\overline{X} + \\left(1 - \\frac{n-3}{(X - \\overline{X})^2}\\right)\n",
    "(X_i - \\overline{X}),\n",
    "\\\\ &\n",
    "\\overline{\\check{\\mu}}_i = \n",
    "\\overline{X} + \\max\\left(0, 1 - \\frac{n-3}{(X - \\overline{X})^2}\\right)\n",
    "(X_i - \\overline{X})\n",
    "\\end{aligned}\n",
    "$$\n",
    "\n",
    "ここで,\n",
    "\n",
    "$$\n",
    "\\overline{X} = \\frac{1}{n}\\sum_{i=1}^n X_i, \\quad\n",
    "(X - \\overline{X})^2 = \\sum_{i=1}^n (X_i - \\overline{X})^2.\n",
    "$$\n",
    "\n",
    "以下では最尤推定量 $\\hat\\mu_i=X_i$ とこれらの推定量を比較する."
   ]
  },
  {
   "cell_type": "code",
   "execution_count": 1,
   "metadata": {},
   "outputs": [
    {
     "data": {
      "text/plain": [
       "comparison (generic function with 1 method)"
      ]
     },
     "execution_count": 1,
     "metadata": {},
     "output_type": "execute_result"
    }
   ],
   "source": [
    "using Distributions\n",
    "using LinearAlgebra\n",
    "using Printf\n",
    "\n",
    "mu_hat(X) = X\n",
    "norm2(X) = dot(X,X)\n",
    "alpha(X) = (length(X) - 2)/norm2(X)\n",
    "mu_tilde(X) = (1 - alpha(X))*X\n",
    "mu_check(X) = max(0, 1 - alpha(X))*X\n",
    "alpha(X, c) = c/norm2(X)\n",
    "mu_tilde_bar(X) = let M = mean(X), Y = X .- M; M .+ (1 - alpha(Y,length(X)-3))*Y end\n",
    "mu_check_bar(X) = let M = mean(X), Y = X .- M; M .+ max(0, 1 - alpha(Y,length(X)-3))*Y end\n",
    "square_error(mu, mu0) = sum((mu[i] - mu0[i])^2 for i in 1:length(mu))\n",
    "\n",
    "function sim_stein(;\n",
    "        mu0 = rand(Normal(), 10),\n",
    "        niters = 10^5,\n",
    "    )\n",
    "    n = length(mu0)\n",
    "    square_error_mu_hat   = Array{Float64, 1}(undef, niters)\n",
    "    square_error_mu_tilde = Array{Float64, 1}(undef, niters)\n",
    "    square_error_mu_check = Array{Float64, 1}(undef, niters)\n",
    "    square_error_mu_tilde_bar = Array{Float64, 1}(undef, niters)\n",
    "    square_error_mu_check_bar = Array{Float64, 1}(undef, niters)\n",
    "    for l in 1:niters\n",
    "        X = rand(MvNormal(mu0, I))\n",
    "        square_error_mu_hat[l]   = square_error(mu_hat(X),   mu0)\n",
    "        square_error_mu_tilde[l] = square_error(mu_tilde(X), mu0)\n",
    "        square_error_mu_check[l] = square_error(mu_check(X), mu0)\n",
    "        square_error_mu_tilde_bar[l] = square_error(mu_tilde_bar(X), mu0)\n",
    "        square_error_mu_check_bar[l] = square_error(mu_check_bar(X), mu0)\n",
    "    end\n",
    "    \n",
    "    @show mean(square_error_mu_hat)\n",
    "    @show mean(square_error_mu_tilde)\n",
    "    @show mean(square_error_mu_check)\n",
    "    @show mean(square_error_mu_tilde_bar)\n",
    "    @show mean(square_error_mu_check_bar)\n",
    "    println()\n",
    "   \n",
    "    s = (\n",
    "        square_error_mu_hat, \n",
    "        square_error_mu_tilde, \n",
    "        square_error_mu_check, \n",
    "        square_error_mu_tilde_bar, \n",
    "        square_error_mu_check_bar\n",
    "    )\n",
    "    \n",
    "    c = comparison(s)\n",
    "    @printf(\"%-12s | %-12s | %-12s | %-12s | %-12s | %-12s |\\n\", \"count(<)/n\", \"mu_hat\", \"mu_tilde\", \"mu_check\", \"mu_tilde_bar\", \"mu_check_bar\")\n",
    "    println(\"-\"^13 * (\"+\"*\"-\"^14)^5 * \"|\")\n",
    "    @printf(\"%-12s | %12s | %12.5f | %12.5f | %12.5f | %12.5f |\\n\", \"mu_hat\", \"  ---  \", c[1,2], c[1,3], c[1,4], c[1,5])\n",
    "    @printf(\"%-12s | %12.5f | %12s | %12.5f | %12.5f | %12.5f |\\n\", \"mu_tilde\", c[2,1], \"  ---  \", c[2,3], c[2,4], c[2,5])\n",
    "    @printf(\"%-12s | %12.5f | %12.5f | %12s | %12.5f | %12.5f |\\n\", \"mu_check\", c[3,1], c[3,2], \"  ---  \", c[3,4], c[3,5])\n",
    "    @printf(\"%-12s | %12.5f | %12.5f | %12.5f | %12s | %12.5f |\\n\", \"mu_tilde_bar\", c[4,1], c[4,2], c[4,3], \"  ---  \", c[4,5])\n",
    "    @printf(\"%-12s | %12.5f | %12.5f | %12.5f | %12.5f | %12s |\\n\", \"mu_check_bar\", c[5,1], c[5,2], c[5,3], c[5,4], \"  ---  \")\n",
    "    \n",
    "    s\n",
    "end\n",
    "\n",
    "function comparison(s)\n",
    "    n = length(s)\n",
    "    c = zeros(n, n)\n",
    "    for i in 1:n, j in 1:n\n",
    "        if i != j\n",
    "            c[i,j] = mean(s[i] .< s[j])\n",
    "        end\n",
    "    end\n",
    "    c\n",
    "end"
   ]
  },
  {
   "cell_type": "code",
   "execution_count": 2,
   "metadata": {},
   "outputs": [
    {
     "name": "stdout",
     "output_type": "stream",
     "text": [
      "mean(square_error_mu_hat) = 10.00562220516786\n",
      "mean(square_error_mu_tilde) = 5.094083326620445\n",
      "mean(square_error_mu_check) = 4.824902607322814\n",
      "mean(square_error_mu_tilde_bar) = 5.70912460546358\n",
      "mean(square_error_mu_check_bar) = 5.426119847208289\n",
      "\n",
      "count(<)/n   | mu_hat       | mu_tilde     | mu_check     | mu_tilde_bar | mu_check_bar |\n",
      "-------------+--------------+--------------+--------------+--------------+--------------|\n",
      "mu_hat       |        ---   |      0.09260 |      0.07364 |      0.10089 |      0.08038 |\n",
      "mu_tilde     |      0.90740 |        ---   |      0.00140 |      0.73422 |      0.71645 |\n",
      "mu_check     |      0.92636 |      0.09395 |        ---   |      0.77860 |      0.73553 |\n",
      "mu_tilde_bar |      0.89911 |      0.26578 |      0.22140 |        ---   |      0.00174 |\n",
      "mu_check_bar |      0.91962 |      0.28355 |      0.26447 |      0.09921 |        ---   |\n"
     ]
    }
   ],
   "source": [
    "s = sim_stein();"
   ]
  },
  {
   "cell_type": "markdown",
   "metadata": {},
   "source": [
    "例えば, 以上の表の mu_hat の行の数値(muhat の右側の数値)は, 最尤推定量 $\\hat\\mu$ の方が他の推定量よりも二乗誤差が小さい場合の割合である.  その割合は大きいほどよい.  この場合には(サンプルが標準正規分布のサイズ $10$ ), 最尤推定量 $\\hat\\mu$ は他の推定量よりも二乗誤差が大きな場合の割合がどれも88%を超えている.\n",
    "\n",
    "* mu_hat = $\\hat\\mu$ = 最尤推定量\n",
    "* mu_tilde = $\\tilde\\mu$ = Stein推定量\n",
    "* mu_check = $\\check\\mu$ = $1-\\alpha$ を $\\max(0, 1-\\alpha)$ に置き換えたStein推定量\n",
    "* mu_tilde_bar = $\\overline{\\tilde\\mu}$ = 平均の方向に縮小するStein推定量\n",
    "* mu_check_bar = $\\overline{\\hat\\mu}$ = 平均の方法に縮小するStein推定量で$1-\\alpha$ を $\\max(0, 1-\\alpha)$ に置き換えたもの"
   ]
  },
  {
   "cell_type": "markdown",
   "metadata": {},
   "source": [
    "### すべての $\\mu_{i0}$ が0の場合\n",
    "\n",
    "この場合には, 最尤推定量 $\\hat\\mu_i = X_i$ の平均二乗誤差は $n$ になり, Stein推定量 $\\tilde\\mu_i = (1-(n-2)/X^2)X_i$ の平均二乗誤差は $2$ になる.  以下の計算でも実際にそうなっていることを確認できる."
   ]
  },
  {
   "cell_type": "code",
   "execution_count": 3,
   "metadata": {},
   "outputs": [
    {
     "name": "stdout",
     "output_type": "stream",
     "text": [
      "mean(square_error_mu_hat) = 2.9964192223421287\n",
      "mean(square_error_mu_tilde) = 1.9507781500665806\n",
      "mean(square_error_mu_check) = 1.5975855109278558\n",
      "mean(square_error_mu_tilde_bar) = 2.9964192223421287\n",
      "mean(square_error_mu_check_bar) = 2.9964192223421287\n",
      "\n",
      "count(<)/n   | mu_hat       | mu_tilde     | mu_check     | mu_tilde_bar | mu_check_bar |\n",
      "-------------+--------------+--------------+--------------+--------------+--------------|\n",
      "mu_hat       |        ---   |      0.07999 |      0.00000 |      0.04411 |      0.04411 |\n",
      "mu_tilde     |      0.92001 |        ---   |      0.00000 |      0.92001 |      0.92001 |\n",
      "mu_check     |      1.00000 |      0.19768 |        ---   |      1.00000 |      1.00000 |\n",
      "mu_tilde_bar |      0.04452 |      0.07999 |      0.00000 |        ---   |      0.00000 |\n",
      "mu_check_bar |      0.04452 |      0.07999 |      0.00000 |      0.00000 |        ---   |\n"
     ]
    }
   ],
   "source": [
    "n = 3\n",
    "sim_stein(mu0 = zeros(n));"
   ]
  },
  {
   "cell_type": "code",
   "execution_count": 4,
   "metadata": {},
   "outputs": [
    {
     "name": "stdout",
     "output_type": "stream",
     "text": [
      "mean(square_error_mu_hat) = 3.998888372097366\n",
      "mean(square_error_mu_tilde) = 1.982670514709086\n",
      "mean(square_error_mu_check) = 1.4682042682255385\n",
      "mean(square_error_mu_tilde_bar) = 2.9829946148228994\n",
      "mean(square_error_mu_check_bar) = 2.6014811205752197\n",
      "\n",
      "count(<)/n   | mu_hat       | mu_tilde     | mu_check     | mu_tilde_bar | mu_check_bar |\n",
      "-------------+--------------+--------------+--------------+--------------+--------------|\n",
      "mu_hat       |        ---   |      0.08939 |      0.00000 |      0.08080 |      0.00000 |\n",
      "mu_tilde     |      0.91061 |        ---   |      0.00000 |      0.86996 |      0.85533 |\n",
      "mu_check     |      1.00000 |      0.26220 |        ---   |      1.00000 |      1.00000 |\n",
      "mu_tilde_bar |      0.91920 |      0.13004 |      0.00000 |        ---   |      0.00000 |\n",
      "mu_check_bar |      1.00000 |      0.14467 |      0.00000 |      0.19996 |        ---   |\n"
     ]
    }
   ],
   "source": [
    "n = 4\n",
    "sim_stein(mu0 = zeros(n));"
   ]
  },
  {
   "cell_type": "code",
   "execution_count": 5,
   "metadata": {},
   "outputs": [
    {
     "name": "stdout",
     "output_type": "stream",
     "text": [
      "mean(square_error_mu_hat) = 9.98431026164017\n",
      "mean(square_error_mu_tilde) = 1.9991432760068886\n",
      "mean(square_error_mu_check) = 1.250841943899265\n",
      "mean(square_error_mu_tilde_bar) = 3.005396855462041\n",
      "mean(square_error_mu_check_bar) = 2.2692593852165808\n",
      "\n",
      "count(<)/n   | mu_hat       | mu_tilde     | mu_check     | mu_tilde_bar | mu_check_bar |\n",
      "-------------+--------------+--------------+--------------+--------------+--------------|\n",
      "mu_hat       |        ---   |      0.05322 |      0.00000 |      0.05953 |      0.00000 |\n",
      "mu_tilde     |      0.94678 |        ---   |      0.00000 |      0.82848 |      0.77330 |\n",
      "mu_check     |      1.00000 |      0.37263 |        ---   |      1.00000 |      1.00000 |\n",
      "mu_tilde_bar |      0.94047 |      0.17152 |      0.00000 |        ---   |      0.00000 |\n",
      "mu_check_bar |      1.00000 |      0.22670 |      0.00000 |      0.36450 |        ---   |\n"
     ]
    }
   ],
   "source": [
    "n = 10\n",
    "sim_stein(mu0 = zeros(n));"
   ]
  },
  {
   "cell_type": "code",
   "execution_count": 6,
   "metadata": {},
   "outputs": [
    {
     "name": "stdout",
     "output_type": "stream",
     "text": [
      "mean(square_error_mu_hat) = 100.03974192322661\n",
      "mean(square_error_mu_tilde) = 2.0105287987588234\n",
      "mean(square_error_mu_check) = 1.084531187322945\n",
      "mean(square_error_mu_tilde_bar) = 3.0041206218235916\n",
      "mean(square_error_mu_check_bar) = 2.079647042605977\n",
      "\n",
      "count(<)/n   | mu_hat       | mu_tilde     | mu_check     | mu_tilde_bar | mu_check_bar |\n",
      "-------------+--------------+--------------+--------------+--------------+--------------|\n",
      "mu_hat       |        ---   |      0.00000 |      0.00000 |      0.00000 |      0.00000 |\n",
      "mu_tilde     |      1.00000 |        ---   |      0.00000 |      0.85608 |      0.71710 |\n",
      "mu_check     |      1.00000 |      0.46143 |        ---   |      1.00000 |      1.00000 |\n",
      "mu_tilde_bar |      1.00000 |      0.14392 |      0.00000 |        ---   |      0.00000 |\n",
      "mu_check_bar |      1.00000 |      0.28290 |      0.00000 |      0.46073 |        ---   |\n"
     ]
    }
   ],
   "source": [
    "n = 100\n",
    "sim_stein(mu0 = zeros(n));"
   ]
  },
  {
   "cell_type": "code",
   "execution_count": 7,
   "metadata": {},
   "outputs": [
    {
     "name": "stdout",
     "output_type": "stream",
     "text": [
      "mean(square_error_mu_hat) = 999.9810016048416\n",
      "mean(square_error_mu_tilde) = 2.0128327921327833\n",
      "mean(square_error_mu_check) = 1.032927681852483\n",
      "mean(square_error_mu_tilde_bar) = 3.005309957186467\n",
      "mean(square_error_mu_check_bar) = 2.0254574530613483\n",
      "\n",
      "count(<)/n   | mu_hat       | mu_tilde     | mu_check     | mu_tilde_bar | mu_check_bar |\n",
      "-------------+--------------+--------------+--------------+--------------+--------------|\n",
      "mu_hat       |        ---   |      0.00000 |      0.00000 |      0.00000 |      0.00000 |\n",
      "mu_tilde     |      1.00000 |        ---   |      0.00000 |      0.90721 |      0.70046 |\n",
      "mu_check     |      1.00000 |      0.48863 |        ---   |      1.00000 |      1.00000 |\n",
      "mu_tilde_bar |      1.00000 |      0.09279 |      0.00000 |        ---   |      0.00000 |\n",
      "mu_check_bar |      1.00000 |      0.29954 |      0.00000 |      0.48842 |        ---   |\n"
     ]
    }
   ],
   "source": [
    "n = 1000\n",
    "sim_stein(mu0 = zeros(n));"
   ]
  },
  {
   "cell_type": "markdown",
   "metadata": {},
   "source": [
    "### 雑多な場合"
   ]
  },
  {
   "cell_type": "code",
   "execution_count": 8,
   "metadata": {},
   "outputs": [
    {
     "name": "stdout",
     "output_type": "stream",
     "text": [
      "mean(square_error_mu_hat) = 99.95041187453639\n",
      "mean(square_error_mu_tilde) = 90.32844721388072\n",
      "mean(square_error_mu_check) = 90.32844721388072\n",
      "mean(square_error_mu_tilde_bar) = 3.0004723663092308\n",
      "mean(square_error_mu_check_bar) = 2.0666125673906586\n",
      "\n",
      "count(<)/n   | mu_hat       | mu_tilde     | mu_check     | mu_tilde_bar | mu_check_bar |\n",
      "-------------+--------------+--------------+--------------+--------------+--------------|\n",
      "mu_hat       |        ---   |      0.05759 |      0.05759 |      0.00003 |      0.00000 |\n",
      "mu_tilde     |      0.94241 |        ---   |      0.00000 |      0.00002 |      0.00000 |\n",
      "mu_check     |      0.94241 |      0.00000 |        ---   |      0.00002 |      0.00000 |\n",
      "mu_tilde_bar |      0.99997 |      0.99998 |      0.99998 |        ---   |      0.00000 |\n",
      "mu_check_bar |      1.00000 |      1.00000 |      1.00000 |      0.46312 |        ---   |\n"
     ]
    }
   ],
   "source": [
    "mu0 = 3ones(100)\n",
    "sim_stein(mu0 = mu0);"
   ]
  },
  {
   "cell_type": "code",
   "execution_count": 9,
   "metadata": {},
   "outputs": [
    {
     "name": "stdout",
     "output_type": "stream",
     "text": [
      "mean(square_error_mu_hat) = 100.11651084558751\n",
      "mean(square_error_mu_tilde) = 91.7159715579375\n",
      "mean(square_error_mu_check) = 91.7159715579375\n",
      "mean(square_error_mu_tilde_bar) = 50.30816320333466\n",
      "mean(square_error_mu_check_bar) = 50.30816320333466\n",
      "\n",
      "count(<)/n   | mu_hat       | mu_tilde     | mu_check     | mu_tilde_bar | mu_check_bar |\n",
      "-------------+--------------+--------------+--------------+--------------+--------------|\n",
      "mu_hat       |        ---   |      0.07013 |      0.07013 |      0.00021 |      0.00021 |\n",
      "mu_tilde     |      0.92987 |        ---   |      0.00000 |      0.00049 |      0.00049 |\n",
      "mu_check     |      0.92987 |      0.00000 |        ---   |      0.00049 |      0.00049 |\n",
      "mu_tilde_bar |      0.99979 |      0.99951 |      0.99951 |        ---   |      0.00000 |\n",
      "mu_check_bar |      0.99979 |      0.99951 |      0.99951 |      0.00000 |        ---   |\n"
     ]
    }
   ],
   "source": [
    "mu0 = 3 .+ randn(100)\n",
    "sim_stein(mu0 = mu0);"
   ]
  },
  {
   "cell_type": "code",
   "execution_count": 10,
   "metadata": {},
   "outputs": [
    {
     "name": "stdout",
     "output_type": "stream",
     "text": [
      "mean(square_error_mu_hat) = 99.94891364099948\n",
      "mean(square_error_mu_tilde) = 92.56479110294975\n",
      "mean(square_error_mu_check) = 92.56479110294975\n",
      "mean(square_error_mu_tilde_bar) = 76.53385099001721\n",
      "mean(square_error_mu_check_bar) = 76.53385099001721\n",
      "\n",
      "count(<)/n   | mu_hat       | mu_tilde     | mu_check     | mu_tilde_bar | mu_check_bar |\n",
      "-------------+--------------+--------------+--------------+--------------+--------------|\n",
      "mu_hat       |        ---   |      0.08371 |      0.08371 |      0.00742 |      0.00742 |\n",
      "mu_tilde     |      0.91629 |        ---   |      0.00000 |      0.01700 |      0.01700 |\n",
      "mu_check     |      0.91629 |      0.00000 |        ---   |      0.01700 |      0.01700 |\n",
      "mu_tilde_bar |      0.99258 |      0.98300 |      0.98300 |        ---   |      0.00000 |\n",
      "mu_check_bar |      0.99258 |      0.98300 |      0.98300 |      0.00000 |        ---   |\n"
     ]
    }
   ],
   "source": [
    "mu0 = collect(range(0, 6, length=100))\n",
    "sim_stein(mu0 = mu0);"
   ]
  },
  {
   "cell_type": "code",
   "execution_count": 11,
   "metadata": {},
   "outputs": [
    {
     "name": "stdout",
     "output_type": "stream",
     "text": [
      "mean(square_error_mu_hat) = 100.00158149925917\n",
      "mean(square_error_mu_tilde) = 76.10606441738278\n",
      "mean(square_error_mu_check) = 76.10606441738278\n",
      "mean(square_error_mu_tilde_bar) = 76.5316653863651\n",
      "mean(square_error_mu_check_bar) = 76.5316653863651\n",
      "\n",
      "count(<)/n   | mu_hat       | mu_tilde     | mu_check     | mu_tilde_bar | mu_check_bar |\n",
      "-------------+--------------+--------------+--------------+--------------+--------------|\n",
      "mu_hat       |        ---   |      0.00681 |      0.00681 |      0.00712 |      0.00712 |\n",
      "mu_tilde     |      0.99319 |        ---   |      0.00000 |      0.85182 |      0.85182 |\n",
      "mu_check     |      0.99319 |      0.00000 |        ---   |      0.85182 |      0.85182 |\n",
      "mu_tilde_bar |      0.99288 |      0.14818 |      0.14818 |        ---   |      0.00000 |\n",
      "mu_check_bar |      0.99288 |      0.14818 |      0.14818 |      0.00000 |        ---   |\n"
     ]
    }
   ],
   "source": [
    "mu0 = collect(range(-3, 3, length=100))\n",
    "sim_stein(mu0 = mu0);"
   ]
  },
  {
   "cell_type": "code",
   "execution_count": 12,
   "metadata": {},
   "outputs": [
    {
     "name": "stdout",
     "output_type": "stream",
     "text": [
      "mean(square_error_mu_hat) = 10.024476567375109\n",
      "mean(square_error_mu_tilde) = 5.764361664139967\n",
      "mean(square_error_mu_check) = 5.602475289096201\n",
      "mean(square_error_mu_tilde_bar) = 6.500022804278585\n",
      "mean(square_error_mu_check_bar) = 6.355826292896643\n",
      "\n",
      "count(<)/n   | mu_hat       | mu_tilde     | mu_check     | mu_tilde_bar | mu_check_bar |\n",
      "-------------+--------------+--------------+--------------+--------------+--------------|\n",
      "mu_hat       |        ---   |      0.10522 |      0.09916 |      0.11958 |      0.11491 |\n",
      "mu_tilde     |      0.89478 |        ---   |      0.00043 |      0.81218 |      0.80361 |\n",
      "mu_check     |      0.90084 |      0.05276 |        ---   |      0.83899 |      0.83175 |\n",
      "mu_tilde_bar |      0.88042 |      0.18782 |      0.16101 |        ---   |      0.00045 |\n",
      "mu_check_bar |      0.88509 |      0.19639 |      0.16825 |      0.04676 |        ---   |\n"
     ]
    }
   ],
   "source": [
    "mu0 = randn(10)\n",
    "sim_stein(mu0 = mu0);"
   ]
  },
  {
   "cell_type": "code",
   "execution_count": 13,
   "metadata": {},
   "outputs": [
    {
     "name": "stdout",
     "output_type": "stream",
     "text": [
      "mean(square_error_mu_hat) = 100.0088851052276\n",
      "mean(square_error_mu_tilde) = 45.38828408302389\n",
      "mean(square_error_mu_check) = 45.38822288947407\n",
      "mean(square_error_mu_tilde_bar) = 46.15080448522736\n",
      "mean(square_error_mu_check_bar) = 46.150761849515575\n",
      "\n",
      "count(<)/n   | mu_hat       | mu_tilde     | mu_check     | mu_tilde_bar | mu_check_bar |\n",
      "-------------+--------------+--------------+--------------+--------------+--------------|\n",
      "mu_hat       |        ---   |      0.00020 |      0.00020 |      0.00020 |      0.00020 |\n",
      "mu_tilde     |      0.99980 |        ---   |      0.00000 |      0.82302 |      0.82302 |\n",
      "mu_check     |      0.99980 |      0.00002 |        ---   |      0.82304 |      0.82302 |\n",
      "mu_tilde_bar |      0.99980 |      0.17698 |      0.17696 |        ---   |      0.00000 |\n",
      "mu_check_bar |      0.99980 |      0.17698 |      0.17698 |      0.00002 |        ---   |\n"
     ]
    }
   ],
   "source": [
    "mu0 = randn(100)\n",
    "sim_stein(mu0 = mu0);"
   ]
  },
  {
   "cell_type": "code",
   "execution_count": 14,
   "metadata": {},
   "outputs": [
    {
     "name": "stdout",
     "output_type": "stream",
     "text": [
      "mean(square_error_mu_hat) = 999.859979346132\n",
      "mean(square_error_mu_tilde) = 498.74623501265467\n",
      "mean(square_error_mu_check) = 498.74623501265467\n",
      "mean(square_error_mu_tilde_bar) = 499.15179545651836\n",
      "mean(square_error_mu_check_bar) = 499.15179545651836\n",
      "\n",
      "count(<)/n   | mu_hat       | mu_tilde     | mu_check     | mu_tilde_bar | mu_check_bar |\n",
      "-------------+--------------+--------------+--------------+--------------+--------------|\n",
      "mu_hat       |        ---   |      0.00000 |      0.00000 |      0.00000 |      0.00000 |\n",
      "mu_tilde     |      1.00000 |        ---   |      0.00000 |      0.46880 |      0.46880 |\n",
      "mu_check     |      1.00000 |      0.00000 |        ---   |      0.46880 |      0.46880 |\n",
      "mu_tilde_bar |      1.00000 |      0.53120 |      0.53120 |        ---   |      0.00000 |\n",
      "mu_check_bar |      1.00000 |      0.53120 |      0.53120 |      0.00000 |        ---   |\n"
     ]
    }
   ],
   "source": [
    "mu0 = randn(1000)\n",
    "sim_stein(mu0 = mu0);"
   ]
  },
  {
   "cell_type": "code",
   "execution_count": 15,
   "metadata": {},
   "outputs": [
    {
     "name": "stdout",
     "output_type": "stream",
     "text": [
      "mean(square_error_mu_hat) = 9.984404426266675\n",
      "mean(square_error_mu_tilde) = 9.913816529372525\n",
      "mean(square_error_mu_check) = 9.913816529372525\n",
      "mean(square_error_mu_tilde_bar) = 7.366883646073828\n",
      "mean(square_error_mu_check_bar) = 7.328793661647324\n",
      "\n",
      "count(<)/n   | mu_hat       | mu_tilde     | mu_check     | mu_tilde_bar | mu_check_bar |\n",
      "-------------+--------------+--------------+--------------+--------------+--------------|\n",
      "mu_hat       |        ---   |      0.43387 |      0.43387 |      0.15308 |      0.15271 |\n",
      "mu_tilde     |      0.56613 |        ---   |      0.00000 |      0.15575 |      0.15533 |\n",
      "mu_check     |      0.56613 |      0.00000 |        ---   |      0.15575 |      0.15533 |\n",
      "mu_tilde_bar |      0.84692 |      0.84425 |      0.84425 |        ---   |      0.00002 |\n",
      "mu_check_bar |      0.84729 |      0.84467 |      0.84467 |      0.01173 |        ---   |\n"
     ]
    }
   ],
   "source": [
    "mu0 = 10 .+ randn(10)\n",
    "sim_stein(mu0 = mu0);"
   ]
  },
  {
   "cell_type": "code",
   "execution_count": 16,
   "metadata": {},
   "outputs": [
    {
     "name": "stdout",
     "output_type": "stream",
     "text": [
      "mean(square_error_mu_hat) = 100.03789466205295\n",
      "mean(square_error_mu_tilde) = 99.08892362895115\n",
      "mean(square_error_mu_check) = 99.08892362895115\n",
      "mean(square_error_mu_tilde_bar) = 55.08856937797487\n",
      "mean(square_error_mu_check_bar) = 55.08856937797487\n",
      "\n",
      "count(<)/n   | mu_hat       | mu_tilde     | mu_check     | mu_tilde_bar | mu_check_bar |\n",
      "-------------+--------------+--------------+--------------+--------------+--------------|\n",
      "mu_hat       |        ---   |      0.30941 |      0.30941 |      0.00054 |      0.00054 |\n",
      "mu_tilde     |      0.69059 |        ---   |      0.00000 |      0.00056 |      0.00056 |\n",
      "mu_check     |      0.69059 |      0.00000 |        ---   |      0.00056 |      0.00056 |\n",
      "mu_tilde_bar |      0.99946 |      0.99944 |      0.99944 |        ---   |      0.00000 |\n",
      "mu_check_bar |      0.99946 |      0.99944 |      0.99944 |      0.00000 |        ---   |\n"
     ]
    }
   ],
   "source": [
    "mu0 = 10 .+ randn(100)\n",
    "sim_stein(mu0 = mu0);"
   ]
  },
  {
   "cell_type": "code",
   "execution_count": 17,
   "metadata": {},
   "outputs": [
    {
     "name": "stdout",
     "output_type": "stream",
     "text": [
      "mean(square_error_mu_hat) = 1000.0622201963936\n",
      "mean(square_error_mu_tilde) = 990.2926723598086\n",
      "mean(square_error_mu_check) = 990.2926723598086\n",
      "mean(square_error_mu_tilde_bar) = 480.65459565551816\n",
      "mean(square_error_mu_check_bar) = 480.65459565551816\n",
      "\n",
      "count(<)/n   | mu_hat       | mu_tilde     | mu_check     | mu_tilde_bar | mu_check_bar |\n",
      "-------------+--------------+--------------+--------------+--------------+--------------|\n",
      "mu_hat       |        ---   |      0.06023 |      0.06023 |      0.00000 |      0.00000 |\n",
      "mu_tilde     |      0.93977 |        ---   |      0.00000 |      0.00000 |      0.00000 |\n",
      "mu_check     |      0.93977 |      0.00000 |        ---   |      0.00000 |      0.00000 |\n",
      "mu_tilde_bar |      1.00000 |      1.00000 |      1.00000 |        ---   |      0.00000 |\n",
      "mu_check_bar |      1.00000 |      1.00000 |      1.00000 |      0.00000 |        ---   |\n"
     ]
    }
   ],
   "source": [
    "mu0 = 10 .+ randn(1000)\n",
    "sim_stein(mu0 = mu0);"
   ]
  },
  {
   "cell_type": "code",
   "execution_count": null,
   "metadata": {},
   "outputs": [],
   "source": []
  }
 ],
 "metadata": {
  "@webio": {
   "lastCommId": null,
   "lastKernelId": null
  },
  "_draft": {
   "nbviewer_url": "https://gist.github.com/99e1f853282131f0d2b302bd55ab09e8"
  },
  "gist": {
   "data": {
    "description": "Ridge正則化とStein推定量",
    "public": true
   },
   "id": "99e1f853282131f0d2b302bd55ab09e8"
  },
  "jupytext": {
   "formats": "ipynb,md"
  },
  "kernelspec": {
   "display_name": "Julia 1.1.1",
   "language": "julia",
   "name": "julia-1.1"
  },
  "language_info": {
   "file_extension": ".jl",
   "mimetype": "application/julia",
   "name": "julia",
   "version": "1.1.1"
  },
  "toc": {
   "base_numbering": 1,
   "nav_menu": {},
   "number_sections": true,
   "sideBar": true,
   "skip_h1_title": true,
   "title_cell": "目次",
   "title_sidebar": "目次",
   "toc_cell": true,
   "toc_position": {},
   "toc_section_display": true,
   "toc_window_display": false
  }
 },
 "nbformat": 4,
 "nbformat_minor": 2
}
