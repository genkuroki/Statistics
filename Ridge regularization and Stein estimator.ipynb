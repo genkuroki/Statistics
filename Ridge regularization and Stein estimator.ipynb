{
 "cells": [
  {
   "cell_type": "markdown",
   "metadata": {},
   "source": [
    "# Ridge正則化とStein推定量\n",
    "\n",
    "黒木玄\n",
    "\n",
    "2019-09-30\n",
    "\n",
    "* [ipynb版](https://nbviewer.jupyter.org/github/genkuroki/Statistics/blob/master/Ridge%20regularization%20and%20Stein%20estimator.ipynb)\n",
    "* [pdf版](https://genkuroki.github.io/documents/Statistics/Ridge%20regularization%20and%20Stein%20estimator.pdf)\n",
    "\n",
    "$\n",
    "\\newcommand\\eps{\\varepsilon}\n",
    "\\newcommand\\ds{\\displaystyle}\n",
    "\\newcommand\\Z{{\\mathbb Z}}\n",
    "\\newcommand\\R{{\\mathbb R}}\n",
    "\\newcommand\\C{{\\mathbb C}}\n",
    "\\newcommand\\QED{\\text{□}}\n",
    "\\newcommand\\root{\\sqrt}\n",
    "\\newcommand\\bra{\\langle}\n",
    "\\newcommand\\ket{\\rangle}\n",
    "\\newcommand\\d{\\partial}\n",
    "\\newcommand\\sech{\\operatorname{sech}}\n",
    "\\newcommand\\cosec{\\operatorname{cosec}}\n",
    "\\newcommand\\sign{\\operatorname{sign}}\n",
    "\\newcommand\\sinc{\\operatorname{sinc}}\n",
    "\\newcommand\\real{\\operatorname{Re}}\n",
    "\\newcommand\\imag{\\operatorname{Im}}\n",
    "\\newcommand\\Li{\\operatorname{Li}}\n",
    "\\newcommand\\PROD{\\mathop{\\coprod\\kern-1.35em\\prod}}\n",
    "$\n",
    "\n",
    "Ridge正則化とはパラメーター $w$ の対数尤度函数の $-1$ 倍 $L(w)$ そのものを最小化する最尤法を実行するのではなく, パラメーターの $\\ell^2$ ノルムの2乗に比例する罰則項 $\\lambda\\|w\\|^2$ を加えた $L(w) + \\lambda\\|w\\|^2$ の最小化によってパラメーターの推定値を決定する方法である.\n",
    "\n",
    "Ridge正則化を非常にシンプルな場合に適用することによって, 最尤推定量よりも平均二乗誤差が小さいStein推定量が得られることを示す."
   ]
  },
  {
   "cell_type": "markdown",
   "metadata": {
    "toc": true
   },
   "source": [
    "<h1>目次<span class=\"tocSkip\"></span></h1>\n",
    "<div class=\"toc\"><ul class=\"toc-item\"><li><span><a href=\"#設定\" data-toc-modified-id=\"設定-1\"><span class=\"toc-item-num\">1&nbsp;&nbsp;</span>設定</a></span><ul class=\"toc-item\"><li><span><a href=\"#平均汎化誤差と平均二乗誤差の関係\" data-toc-modified-id=\"平均汎化誤差と平均二乗誤差の関係-1.1\"><span class=\"toc-item-num\">1.1&nbsp;&nbsp;</span>平均汎化誤差と平均二乗誤差の関係</a></span></li></ul></li><li><span><a href=\"#最尤推定量\" data-toc-modified-id=\"最尤推定量-2\"><span class=\"toc-item-num\">2&nbsp;&nbsp;</span>最尤推定量</a></span></li><li><span><a href=\"#Ridge正則化とStein推定量\" data-toc-modified-id=\"Ridge正則化とStein推定量-3\"><span class=\"toc-item-num\">3&nbsp;&nbsp;</span>Ridge正則化とStein推定量</a></span><ul class=\"toc-item\"><li><span><a href=\"#$n\\geqq-3$-という仮定からの帰結\" data-toc-modified-id=\"$n\\geqq-3$-という仮定からの帰結-3.1\"><span class=\"toc-item-num\">3.1&nbsp;&nbsp;</span>$n\\geqq 3$ という仮定からの帰結</a></span></li><li><span><a href=\"#第1項\" data-toc-modified-id=\"第1項-3.2\"><span class=\"toc-item-num\">3.2&nbsp;&nbsp;</span>第1項</a></span></li><li><span><a href=\"#第2項\" data-toc-modified-id=\"第2項-3.3\"><span class=\"toc-item-num\">3.3&nbsp;&nbsp;</span>第2項</a></span></li><li><span><a href=\"#第3項\" data-toc-modified-id=\"第3項-3.4\"><span class=\"toc-item-num\">3.4&nbsp;&nbsp;</span>第3項</a></span></li><li><span><a href=\"#Stein推定量\" data-toc-modified-id=\"Stein推定量-3.5\"><span class=\"toc-item-num\">3.5&nbsp;&nbsp;</span>Stein推定量</a></span></li><li><span><a href=\"#すべての-$\\mu_{i0}$-が0の場合の平均二乗誤差\" data-toc-modified-id=\"すべての-$\\mu_{i0}$-が0の場合の平均二乗誤差-3.6\"><span class=\"toc-item-num\">3.6&nbsp;&nbsp;</span>すべての $\\mu_{i0}$ が0の場合の平均二乗誤差</a></span></li><li><span><a href=\"#正則化と事前分布の関係\" data-toc-modified-id=\"正則化と事前分布の関係-3.7\"><span class=\"toc-item-num\">3.7&nbsp;&nbsp;</span>正則化と事前分布の関係</a></span></li><li><span><a href=\"#平均に向けて縮小するタイプのStein推定量\" data-toc-modified-id=\"平均に向けて縮小するタイプのStein推定量-3.8\"><span class=\"toc-item-num\">3.8&nbsp;&nbsp;</span>平均に向けて縮小するタイプのStein推定量</a></span></li></ul></li><li><span><a href=\"#数値的検証\" data-toc-modified-id=\"数値的検証-4\"><span class=\"toc-item-num\">4&nbsp;&nbsp;</span>数値的検証</a></span><ul class=\"toc-item\"><li><span><a href=\"#すべての-$\\mu_{i0}$-が0の場合\" data-toc-modified-id=\"すべての-$\\mu_{i0}$-が0の場合-4.1\"><span class=\"toc-item-num\">4.1&nbsp;&nbsp;</span>すべての $\\mu_{i0}$ が0の場合</a></span></li><li><span><a href=\"#雑多な場合\" data-toc-modified-id=\"雑多な場合-4.2\"><span class=\"toc-item-num\">4.2&nbsp;&nbsp;</span>雑多な場合</a></span></li></ul></li></ul></div>"
   ]
  },
  {
   "cell_type": "markdown",
   "metadata": {},
   "source": [
    "## 設定\n",
    "\n",
    "以下では, 平均 $a\\in\\R$, 分散 $1$ の正規分布の確率密度函数を\n",
    "\n",
    "$$\n",
    "N(x|a) = \\frac{1}{\\mu}e^{-(x-a)^2/2}\n",
    "$$\n",
    "\n",
    "と書くことにし, $\\mu_{i0}\\in\\R$ ($i=1,\\ldots,n$) を任意に取って固定する. $X=(X_1,\\ldots,X_n)$ は確率密度函数\n",
    "\n",
    "$$\n",
    "q(x) = \\prod_{i=1}^n N(x|\\mu_{i0})\n",
    "$$\n",
    "\n",
    "で定義される確率分布に従うベクトル値確率変数であるとする.  (これは, $X_i$ は平均 $\\mu_{i0}$, 分散 $1$ の正規分布に従う確率変数であり, $X_i$ 達は独立であると仮定したのと同じことである.)\n",
    "\n",
    "以下 $X$ をサンプルと呼ぶ.\n",
    "\n",
    "このサンプルが従う分布の推定を, パラメーター $\\mu=(\\mu_1,\\ldots,\\mu_n)$ を持つ $x=(x_1,\\ldots,x_n)$ に関する確率密度函数\n",
    "\n",
    "$$\n",
    "p(x|\\mu) = \\prod_{i=1}^n N(x_i|\\mu_i)\n",
    "$$\n",
    "\n",
    "をモデルとして採用して行いたい.  以上が基本的な設定である."
   ]
  },
  {
   "cell_type": "markdown",
   "metadata": {},
   "source": [
    "### 平均汎化誤差と平均二乗誤差の関係\n",
    "\n",
    "このとき $p(x|\\mu)$ による $q(x)$ の予測の汎化誤差の2倍は\n",
    "\n",
    "$$\n",
    "\\begin{aligned}\n",
    "&\n",
    "\\int_{\\R^n} q(x)(-2\\log p(x|\\mu))\\,dx = \n",
    "\\int_{\\R^2}q(x)\\left(n\\log(2\\pi)+\\sum_{i=1}^n(x_i-\\mu_i)^2\\right)\\,dx\n",
    "\\\\ & =\n",
    "\\int_{\\R^2}q(x)\\left(n\\log(2\\pi)+\\sum_{i=1}^n((x_i-\\mu_{i0})-(\\mu_i-\\mu_{i0}))^2\\right)\\,dx\n",
    "\\\\ & =\n",
    "\\int_{\\R^2}q(x)\\left(n\\log(2\\pi)+\n",
    "\\sum_{i=1}^n((x_i-\\mu_{i0})^2-2(\\mu_i-\\mu_{i0})(x_i-\\mu_{i0})+(\\mu_i-\\mu_{i0})^2)\\right)\\,dx\n",
    "\\\\ & =\n",
    "n\\log(2\\pi) + n + \\sum_{i=1}^n (\\mu_i - \\mu_{i0})^2.\n",
    "\\end{aligned}\n",
    "$$\n",
    "\n",
    "ゆえに, もしも $\\mu_i$ が $X=(X_1,\\ldots,X_n)$ の函数 $\\mu_i(X)$ ならば, サンプル $X$ を動かす汎化誤差の平均の2倍は $\\mu(X)=(\\mu_1(X),\\ldots,\\mu_n(X))$ の二乗誤差の平均と定数の和\n",
    "\n",
    "$$\n",
    "n\\log(2\\pi) + n + E\\left[\\sum_{i=1}^n(\\mu_i(X)-\\mu_{i0})^2\\right]\n",
    "$$\n",
    "\n",
    "になる. ゆえに, 平均汎化誤差を小さくすること(平均予測誤差を小さくすること)と,  平均二乗誤差を小さくすることは同じことになる.\n",
    "\n",
    "平均二乗誤差の小さな推定量の方が平均予測誤差も小さくなり, より優れた推定量だということになる."
   ]
  },
  {
   "cell_type": "markdown",
   "metadata": {},
   "source": [
    "## 最尤推定量\n",
    "\n",
    "まず, 最尤法を実行してみよう. 尤度函数の対数の $-2$ 倍は\n",
    "\n",
    "$$\n",
    "-2\\log p(X|\\mu) = -2\\sum_{i=1}^n \\log N(X_i|\\mu_i) = \n",
    "n\\log(2\\pi) + \\sum_{i=1}^n (X_i - \\mu_i)^2\n",
    "$$\n",
    "\n",
    "となるので, これの最小化は損失函数\n",
    "\n",
    "$$\n",
    "L(\\mu) = \\sum_{i=1}^n (X_i - \\mu_i)^2\n",
    "$$\n",
    "\n",
    "の最小化と同じになる. これを最小化する $\\mu_i$ 達は $\\hat\\mu_i = X_i$ となる.  これが最尤法の解である. 最尤法の解の平均二乗誤差は, $X_i$ が平均 $\\mu_{i0}$, 分散 $1$ の正規分布に従う確率変数なので, \n",
    "\n",
    "$$\n",
    "E\\left[\\sum_{i=1}^n(\\hat\\mu_i - \\mu_{i0})^2\\right] = \n",
    "\\sum_{i=1}^nE\\left[(X_i - \\mu_{i0})^2\\right] = n\n",
    "$$\n",
    "\n",
    "となる. "
   ]
  },
  {
   "cell_type": "markdown",
   "metadata": {},
   "source": [
    "## Ridge正則化とStein推定量\n",
    "\n",
    "以下では $n\\geqq 3$ であると仮定する.\n",
    "\n",
    "Ridge正則化された損失函数 $R(\\mu|\\lambda)$ を\n",
    "\n",
    "$$\n",
    "R(\\mu|\\lambda) = L(\\mu) + \\lambda\\|\\mu\\|^2 =\n",
    "\\sum_{i=1}^n (X_i - \\mu_i)^2 + \\lambda\\sum_{i=1}^n \\mu_i^2\n",
    "$$\n",
    "\n",
    "と定める. $\\lambda > 0$ には後でサンプル $X_i$ から決まるある正の実数を代入することになる.\n",
    "\n",
    "$R(\\mu|\\lambda)$ を最小化する $\\mu_i=\\tilde\\mu_i$ は, 簡単な計算で\n",
    "\n",
    "$$\n",
    "\\tilde\\mu_i = \\frac{1}{1+\\lambda} X_i = (1 - \\alpha)X_i, \\quad\n",
    "\\alpha = \\frac{\\lambda}{1+\\lambda}\n",
    "$$\n",
    "\n",
    "と書けることがわかる. \n",
    "\n",
    "定数 $c$ を用いて, \n",
    "\n",
    "$$\n",
    "\\alpha = \\alpha(X) = \\frac{c}{X^2}, \\quad X^2 = \\sum_{i=1}^n X_i^2\n",
    "$$\n",
    "\n",
    "とおき, 推定量 \n",
    "\n",
    "$$\n",
    "\\tilde\\mu_i = \n",
    "\\left(1 - \\alpha(X)\\right)X_i =\n",
    "\\left(1 - \\frac{c}{X^2}\\right)X_i\n",
    "$$\n",
    "    \n",
    "の平均二乗誤差\n",
    "\n",
    "$$\n",
    "E\\left[\\sum_{i=1}^n(\\tilde\\mu_i - \\mu_{i0})^2\\right] = \n",
    "\\sum_{i=1}^n E[(X_i-\\mu_{i0})^2] - \n",
    "2\\sum_{i=1}^n E[\\alpha(X)X_i(X_i-\\mu_{i0})] + \n",
    "\\sum_{i=1}^n E[\\alpha(X)^2 X_i^2]\n",
    "$$\n",
    "\n",
    "を最小化する $c$ を求めよう."
   ]
  },
  {
   "cell_type": "markdown",
   "metadata": {},
   "source": [
    "### $n\\geqq 3$ という仮定からの帰結\n",
    "\n",
    "$n\\geqq 3$ と仮定したことより, $E[1/X^2]$ が有限の値になることを示そう.\n",
    "\n",
    "$$\n",
    "E\\left[\\frac{1}{X^2}\\right] = \n",
    "\\frac{1}{(2\\pi)^{n/2}}\\int_{\\R^n} e^{-(x-\\mu_0)^2/2} \\frac{1}{x^2}\\,dx.\n",
    "$$\n",
    "\n",
    "ここで $(x-\\mu_0)^2 = \\sum_{i=1}^n (x_i-\\mu_{i0})^2$, $x^2=\\sum_{i=1}^n x_i^2$ である. \n",
    "\n",
    "原点を中心とする $n-1$ 次元単位球面を $S^{n-1}$ と書き, その面積を $A_n = 2\\pi^{n/2}/\\Gamma(n/2)$ と書き, $S^{n-1}$ 上の一様分布を $d\\omega$ と書くことにする.  このとき, 極座標変換\n",
    "\n",
    "$$\n",
    "x = r\\omega, \\quad (r > 0,\\ \\omega\\in S^{n-1})\n",
    "$$\n",
    "\n",
    "によって,\n",
    "\n",
    "$$\n",
    "E\\left[\\frac{1}{X^2}\\right] = \n",
    "\\frac{1}{(2\\pi)^{n/2}}\\iint_{\\R^n} e^{-(r\\omega-\\mu_0)^2/2} \\frac{1}{r^2}A_n r^{n-1}\\,dr\\,d\\omega =\n",
    "\\frac{A_n}{(2\\pi)^{n/2}}\\iint_{\\R^n} e^{-(r\\omega-\\mu_0)^2/2} r^{n-3}\\,dr\\,d\\omega.\n",
    "$$\n",
    "\n",
    "これは $n-3>-1$ すなわち $n>2$ ならば絶対収束している."
   ]
  },
  {
   "cell_type": "markdown",
   "metadata": {},
   "source": [
    "### 第1項\n",
    "\n",
    "$X_i$ は平均 $\\mu_{i0}$, 分散 $1$ の正規分布に従うので\n",
    "\n",
    "$$\n",
    "\\sum_{i=1}^n E[(X_i-\\mu_{i0})^2] = n.\n",
    "$$"
   ]
  },
  {
   "cell_type": "markdown",
   "metadata": {},
   "source": [
    "### 第2項\n",
    "\n",
    "正規分布に関する部分積分の公式\n",
    "\n",
    "$$\n",
    "E[\\alpha(X)X_i(X_i-\\mu_{i0})] = E\\left[\\frac{\\d}{\\d X_i}(\\alpha(X)X_i)\\right]\n",
    "$$\n",
    "\n",
    "を使う. \n",
    "\n",
    "$$\n",
    "\\frac{\\d}{\\d X_i}(\\alpha(X)X_i) = \n",
    "c\\frac{\\d}{\\d X_i}\\frac{X_i}{X^2} =\n",
    "c\\left(\\frac{1}{X^2}-\\frac{2X_i^2}{X^4}\\right)\n",
    "$$\n",
    "\n",
    "より,\n",
    "\n",
    "$$\n",
    "\\sum_{i=1}^n E[\\alpha(X)X_i(X_i-\\mu_{i0})] =\n",
    "c\\left(\\sum_{i=1}^nE\\left[\\frac{1}{X^2}\\right] - E\\left[\\frac{2X^2}{X^4}\\right]\\right) =\n",
    "c(n-2)E\\left[\\frac{1}{X^2}\\right].\n",
    "$$"
   ]
  },
  {
   "cell_type": "markdown",
   "metadata": {},
   "source": [
    "### 第3項\n",
    "\n",
    "$\\alpha(X)^2 = c^2/X^4$, $\\sum_{i=1}^n X_i^2 = X^2$ なので\n",
    "\n",
    "$$\n",
    "\\sum_{i=1}^n E[\\alpha(X)^2 X_i^2] = \n",
    "E[\\alpha(X)^2 X^2] =\n",
    "E\\left[\\frac{c^2}{X^2}\\right] = \n",
    "c^2 E\\left[\\frac{1}{X^2}\\right].\n",
    "$$"
   ]
  },
  {
   "cell_type": "markdown",
   "metadata": {},
   "source": [
    "### Stein推定量\n",
    "\n",
    "ゆえに, $\\tilde\\mu_i$ の平均二乗誤差は\n",
    "\n",
    "$$\n",
    "\\begin{aligned}\n",
    "E\\left[\\sum_{i=1}^n(\\tilde\\mu_i - \\mu_{i0})^2\\right] &=\n",
    "n - 2c(n-2)E\\left[\\frac{1}{X^2}\\right] + c^2 E\\left[\\frac{1}{X^2}\\right] \n",
    "\\\\ &=\n",
    "n + (c^2 -2(n-2)c)E\\left[\\frac{1}{X^2}\\right].\n",
    "\\end{aligned}\n",
    "$$\n",
    "\n",
    "これを最小にする $c$ は\n",
    "\n",
    "$$\n",
    "c = n-2\n",
    "$$\n",
    "\n",
    "になる.  このときの, 推定値\n",
    "\n",
    "$$\n",
    "\\tilde\\mu_i = \n",
    "(1 - \\alpha(X))X_i =\n",
    "\\left(1 - \\frac{n-2}{X^2}\\right)X_i\n",
    "$$\n",
    "\n",
    "を[**Stein推定量**](https://www.google.com/search?q=Stein%E6%8E%A8%E5%AE%9A%E9%87%8F)と呼ぶことにする.\n",
    "\n",
    "そのとき得られる $\\tilde\\mu_i$ の平均二乗誤差の最小値は\n",
    "\n",
    "$$\n",
    "E\\left[\\sum_{i=1}^n(\\tilde\\mu_i - \\mu_{i0})^2\\right] =\n",
    "n - (n-2)^2 E\\left[\\frac{1}{X^2}\\right] < \n",
    "n = \n",
    "E\\left[\\sum_{i=1}^n(\\hat\\mu_i - \\mu_{i0})^2\\right]\n",
    "$$\n",
    "\n",
    "となる. \n",
    "\n",
    "このようにRidge正則化によって得られたStein推定量 $\\tilde\\mu_i$ の平均二乗誤差は最尤推定量 $\\hat\\mu_i=X_i$ の平均二乗誤差より小さい."
   ]
  },
  {
   "cell_type": "markdown",
   "metadata": {},
   "source": [
    "### すべての $\\mu_{i0}$ が0の場合の平均二乗誤差\n",
    "\n",
    "$\\mu_0 = (\\mu_{10},\\ldots,\\mu_{n0})=(0,\\ldots,0)$ のとき, \n",
    "\n",
    "$$\n",
    "E\\left[\\frac{1}{X^2}\\right] = \n",
    "\\frac{1}{(2\\pi)^{n/2}}\\int_{\\R^n} e^{-x^2/2} \\frac{1}{x^2}\\,dx.\n",
    "$$\n",
    "\n",
    "これは, $x_i$ の分散を $1/t>0$ にした場合より,\n",
    "\n",
    "$$\n",
    "\\frac{1}{(2\\pi)^{n/2}} \\int_{\\R^n} e^{-t x^2/2}\\,dx = t^{-n/2}.\n",
    "$$\n",
    "\n",
    "両辺を $t$ について $1$ から $\\infty$ まで積分すると, \n",
    "\n",
    "$$\n",
    "\\frac{1}{(2\\pi)^{n/2}} \\int_{\\R^n} e^{-x^2/2}\\frac{2}{x^2}\\,dx = \\frac{1}{n/2-1}.\n",
    "$$\n",
    "\n",
    "ゆえに\n",
    "\n",
    "$$\n",
    "E\\left[\\frac{1}{X^2}\\right] = \\frac{1}{n-2}.\n",
    "$$\n",
    "\n",
    "したがって, この場合には, Stein推定量の平均二乗誤差は\n",
    "\n",
    "$$\n",
    "E\\left[\\sum_{i=1}^n(\\tilde\\mu_i - \\mu_{i0})^2\\right] =\n",
    "n - (n-2)^2 E\\left[\\frac{1}{X^2}\\right] = 2\n",
    "$$\n",
    "\n",
    "となる.  これは $n\\geqq 3$ が大きいとき, 最尤推定量の平均二乗誤差の $n$ より相当に小さくなる."
   ]
  },
  {
   "cell_type": "markdown",
   "metadata": {},
   "source": [
    "### 正則化と事前分布の関係\n",
    "\n",
    "最尤法では, 確率モデル $p(x|w)$ のサンプル $X$ に関する対数尤度の $-1$ 倍\n",
    "\n",
    "$$\n",
    "L(w) = -\\log p(X|w)\n",
    "$$\n",
    "\n",
    "を最小化するパラメーター $w=\\hat w$ を求め, $p(x|\\hat w)$ を予測分布として採用する.\n",
    "\n",
    "事前分布 $\\varphi(w)$ と尤度函数の積の対数の $-1$ 倍\n",
    "\n",
    "$$\n",
    "R(w) = -\\log p(X|w) - \\log\\varphi(w)\n",
    "$$\n",
    "\n",
    "を最小化するパラメーター $w=\\tilde w$ を求めて $p(x|\\tilde w)$ を予測分布として採用する推定法を**MAP法 (最大事後確率法)** と呼ぶ.  $-\\log\\varphi(w)$ の項を罰則項とみなすとき, この方法は**正則化 (regularization)** とも呼ばれる.\n",
    "\n",
    "事前分布 $\\varphi(w)$ が正規分布の積の場合の正則化は**Ridge正則化**と呼ばれている.  事前分布がLaplace分布の積の場合の正則化は**LASSO正則化**と呼ばれている.\n",
    "\n",
    "以上で示したStein推定量の例は, 最尤法が必ずしも最良の推定量を与えるとは限らず, 正則化によって平均二乗誤差がより小さな得られる場合があることを示している.\n",
    "\n",
    "すなわち, 最尤法の代わりに事前分布を与えたMAP法を使った方が平均予測誤差が小さくなることがありえる.\n",
    "\n",
    "このような事実は「事前分布は主観や確信や信念を表す」と信じ込んで疑わない人達には思いもよらないことだと思われる.  事前分布は予測誤差を小さくするためにも有効に利用可能である."
   ]
  },
  {
   "cell_type": "markdown",
   "metadata": {},
   "source": [
    "### 平均に向けて縮小するタイプのStein推定量\n",
    "\n",
    "以上においては, 原点 $0$ に寄せて縮小するタイプのStein推定量\n",
    "\n",
    "$$\n",
    "\\tilde\\mu_i = \\left(1 - \\frac{n-2}{X^2}\\right)X_i, \\quad X^2 = \\sum_{i=1}^n X_i^2\n",
    "$$\n",
    "\n",
    "を扱った.  これは $0$ に向けて縮小するタイプの推定量である.  $X_1,\\ldots,X_n$ の平均と平均との差の二乗和を\n",
    "\n",
    "$$\n",
    "\\overline{X} = \\frac{1}{n}\\sum_{i=1}^n X_i, \\quad\n",
    "(X - \\overline{X})^2 = \\sum_{i=1}^n (X_i - \\overline{X})^2.\n",
    "$$\n",
    "\n",
    "と書くことにする.  $0$ ではなく, 平均 $\\overline{X}$ に向けて縮小するタイプのStein推定量が\n",
    "\n",
    "$$\n",
    "\\overline{\\tilde{\\mu}}_i = \n",
    "\\overline{X} + \\left(1 - \\frac{n-3}{(X - \\overline{X})^2}\\right)\n",
    "(X_i - \\overline{X})\n",
    "$$\n",
    "\n",
    "と定義される. 以下ではこれが上の $0$ に向けて寄せるタイプのStein推定量から導かれることを説明しよう.  ポイントは二乗和分母に対する分子が $n-2$ から $n-3$ に下がる理由が「自由度が1減ったこと」によって説明できることである.\n",
    "\n",
    "$A=[a_{ij}]$ は任意の $n\\times n$ の直交行列であるとし, $Y_j = \\sum_{i=1}^n X_i a_{ij}$ とおく. このとき, 直交行列の定義とサンプルの分散と二乗和の関係より, \n",
    "\n",
    "$$\n",
    "\\sum_{i=1}^n Y_i^2 = \\sum_{i=1}^n X_i^2 = \n",
    "\\sum_{i=1}^n (X_i - \\overline{X})^2 + n\\overline{X}^2 =\n",
    "(X - \\overline{X})^2 + n\\overline{X}^2.\n",
    "$$\n",
    "\n",
    "さらに, $Y_j$ 達は独立な確率変数になり, 各 $Y_j$ は平均 $\\sum_{i=1}^n \\mu_{i0}a_{ij}$, 分散 $1$ の正規分布に従う. \n",
    "\n",
    "直交行列 $A$ の第 $n$ 列のすべての成分を $1/\\sqrt{n}$ にする.  このとき, $Y_n = \\sqrt{n}\\;\\overline{X}$ となるので, 上の計算結果より,\n",
    "\n",
    "$$\n",
    "(X - \\overline{X})^2 = \\sum_{i=1}^{n-1} Y_i^2.\n",
    "$$\n",
    "\n",
    "$Y_1,\\ldots,Y_{n-1}$ 達の平均に関する $0$ に向けて縮小するタイプのStein推定量は\n",
    "\n",
    "$$\n",
    "\\left(1 - \\frac{n-3}{\\sum_{i=1}^{n-2} Y_i^2}\\right) Y_i = \n",
    "\\left(1 - \\frac{n-3}{(X - \\overline{X})^2}\\right) Y_i\n",
    "\\quad (i=1,\\ldots,n-1).\n",
    "$$\n",
    "\n",
    "分子が $n-3$ になる理由は $Y_1,\\ldots,Y_{n-1}$ が $n-1$ 個しかないからである.  $Y_n$ の平均の推定量としては $Y_n$ 自身を採用しよう. このとき,  $\\alpha=1-(n-3)/(X - \\overline{X})^2$ とおくと, $j=1,\\ldots,n-1$ のとき, $\\sum_{i=1}^n a_{ij}=0$ より, \n",
    "\n",
    "$$\n",
    "\\sum_{i=1}^n\\left(\\overline{X}+(1-\\alpha(X_i-\\overline{X})\\right)a_{ij} =\n",
    "\\sum_{i=1}^n\\left((1-\\alpha)X_i + \\alpha\\overline{X}\\right)a_{ij} = (1-\\alpha)Y_j.\n",
    "$$\n",
    "\n",
    "そして, $a_{in}=1/\\sqrt{n}$ より, \n",
    "\n",
    "$$\n",
    "\\sum_{i=1}^n \\left((1-\\alpha)X_i + \\alpha\\overline{X}\\right)a_{in} =\n",
    "(1-\\alpha)\\sqrt{n}\\,\\overline{X} + \\alpha\\overline{X}\\sqrt{n} = \\sqrt{n}\\,\\overline{X} = Y_n.\n",
    "$$\n",
    "\n",
    "これで, $Y_1,\\ldots,Y_{n-1},Y_n$ の平均のStein推定量にちょうど上の $\\overline{\\tilde\\mu}_i$ が対応していることがわかる."
   ]
  },
  {
   "cell_type": "markdown",
   "metadata": {},
   "source": [
    "## 数値的検証\n",
    "\n",
    "$n\\geqq 3$ であると仮定する. 以上で扱ったStein推定量\n",
    "\n",
    "$$\n",
    "\\begin{aligned}\n",
    "&\n",
    "\\tilde\\mu_i = \\left(1-\\frac{n-2}{X^2}\\right)X_i,\n",
    "\\\\ &\n",
    "\\overline{\\tilde{\\mu}}_i = \n",
    "\\overline{X} + \\left(1 - \\frac{n-3}{(X - \\overline{X})^2}\\right)\n",
    "(X_i - \\overline{X})\n",
    "\\end{aligned}\n",
    "$$\n",
    "\n",
    "を少しモディファイした推定量\n",
    "\n",
    "$$\n",
    "\\begin{aligned}\n",
    "&\n",
    "\\check\\mu_i = \\max\\left(0, 1-\\frac{n-2}{X^2}\\right)X_i,\n",
    "\\\\ &\n",
    "\\overline{\\check{\\mu}}_i = \n",
    "\\overline{X} + \\max\\left(0, 1 - \\frac{n-3}{(X - \\overline{X})^2}\\right)\n",
    "(X_i - \\overline{X})\n",
    "\\end{aligned}\n",
    "$$\n",
    "\n",
    "も定義しておこう. \n",
    "\n",
    "以下では最尤推定量 $\\hat\\mu_i=X_i$ とこれらの推定量を比較する."
   ]
  },
  {
   "cell_type": "code",
   "execution_count": 1,
   "metadata": {},
   "outputs": [],
   "source": [
    "using Distributions\n",
    "using LinearAlgebra\n",
    "using Printf"
   ]
  },
  {
   "cell_type": "code",
   "execution_count": 2,
   "metadata": {},
   "outputs": [
    {
     "data": {
      "text/plain": [
       "square_error (generic function with 1 method)"
      ]
     },
     "execution_count": 2,
     "metadata": {},
     "output_type": "execute_result"
    }
   ],
   "source": [
    "mu_hat(X) = X\n",
    "norm2(X) = dot(X,X)\n",
    "alpha(X) = (length(X) - 2)/norm2(X)\n",
    "mu_tilde(X) = (1 - alpha(X))*X\n",
    "mu_check(X) = max(0, 1 - alpha(X))*X\n",
    "alpha(X, c) = c/norm2(X)\n",
    "mu_tilde_bar(X) = let M = mean(X), Y = X .- M; M .+ (1 - alpha(Y,length(X)-3))*Y end\n",
    "mu_check_bar(X) = let M = mean(X), Y = X .- M; M .+ max(0, 1 - alpha(Y,length(X)-3))*Y end\n",
    "square_error(mu, mu0) = sum((mu[i] - mu0[i])^2 for i in 1:length(mu))"
   ]
  },
  {
   "cell_type": "code",
   "execution_count": 3,
   "metadata": {},
   "outputs": [
    {
     "data": {
      "text/plain": [
       "sim_stein (generic function with 1 method)"
      ]
     },
     "execution_count": 3,
     "metadata": {},
     "output_type": "execute_result"
    }
   ],
   "source": [
    "function sim_stein(;\n",
    "        mu0 = rand(Normal(), 10),\n",
    "        niters = 10^5,\n",
    "    )\n",
    "    n = length(mu0)\n",
    "    square_error_mu_hat   = Array{Float64, 1}(undef, niters)\n",
    "    square_error_mu_tilde = Array{Float64, 1}(undef, niters)\n",
    "    square_error_mu_check = Array{Float64, 1}(undef, niters)\n",
    "    square_error_mu_tilde_bar = Array{Float64, 1}(undef, niters)\n",
    "    square_error_mu_check_bar = Array{Float64, 1}(undef, niters)\n",
    "    for l in 1:niters\n",
    "        X = rand(MvNormal(mu0, I))\n",
    "        square_error_mu_hat[l]   = square_error(mu_hat(X),   mu0)\n",
    "        square_error_mu_tilde[l] = square_error(mu_tilde(X), mu0)\n",
    "        square_error_mu_check[l] = square_error(mu_check(X), mu0)\n",
    "        square_error_mu_tilde_bar[l] = square_error(mu_tilde_bar(X), mu0)\n",
    "        square_error_mu_check_bar[l] = square_error(mu_check_bar(X), mu0)\n",
    "    end\n",
    "    \n",
    "    s = (\n",
    "        square_error_mu_hat, \n",
    "        square_error_mu_tilde, \n",
    "        square_error_mu_check, \n",
    "        square_error_mu_tilde_bar, \n",
    "        square_error_mu_check_bar\n",
    "    )\n",
    "\n",
    "    print_estimator(s)\n",
    "    println()\n",
    "    print_comparison(s)\n",
    "    s\n",
    "end"
   ]
  },
  {
   "cell_type": "code",
   "execution_count": 4,
   "metadata": {},
   "outputs": [
    {
     "data": {
      "text/plain": [
       "print_estimator (generic function with 1 method)"
      ]
     },
     "execution_count": 4,
     "metadata": {},
     "output_type": "execute_result"
    }
   ],
   "source": [
    "function print_estimator(s)\n",
    "    @printf(\"average of square errors of mu_hat       = %10.3f\\n\", mean(s[1]))\n",
    "    @printf(\"average of square errors of mu_tilde     = %10.3f\\n\", mean(s[2]))\n",
    "    @printf(\"average of square errors of mu_check     = %10.3f\\n\", mean(s[3]))\n",
    "    @printf(\"average of square errors of mu_tilde_bar = %10.3f\\n\", mean(s[4]))\n",
    "    @printf(\"average of square errors of mu_check_bar = %10.3f\\n\", mean(s[5]))\n",
    "end"
   ]
  },
  {
   "cell_type": "code",
   "execution_count": 5,
   "metadata": {},
   "outputs": [
    {
     "data": {
      "text/plain": [
       "comparison (generic function with 1 method)"
      ]
     },
     "execution_count": 5,
     "metadata": {},
     "output_type": "execute_result"
    }
   ],
   "source": [
    "function comparison(s)\n",
    "    n = length(s)\n",
    "    c = zeros(n, n)\n",
    "    for i in 1:n, j in 1:n\n",
    "        if i != j\n",
    "            c[i,j] = mean(s[i] .< s[j])\n",
    "        end\n",
    "    end\n",
    "    c\n",
    "end"
   ]
  },
  {
   "cell_type": "code",
   "execution_count": 6,
   "metadata": {},
   "outputs": [
    {
     "data": {
      "text/plain": [
       "print_comparison (generic function with 1 method)"
      ]
     },
     "execution_count": 6,
     "metadata": {},
     "output_type": "execute_result"
    }
   ],
   "source": [
    "function print_comparison(s)\n",
    "    c = comparison(s)\n",
    "    @printf(\"%-12s | %-12s | %-12s | %-12s | %-12s | %-12s |\\n\", \"count(<)/n\", \"mu_hat\", \"mu_tilde\", \"mu_check\", \"mu_tilde_bar\", \"mu_check_bar\")\n",
    "    println(\"-\"^13 * (\"+\"*\"-\"^14)^5 * \"|\")\n",
    "    @printf(\"%-12s | %12s | %12.5f | %12.5f | %12.5f | %12.5f |\\n\", \"mu_hat\", \"  ---  \", c[1,2], c[1,3], c[1,4], c[1,5])\n",
    "    @printf(\"%-12s | %12.5f | %12s | %12.5f | %12.5f | %12.5f |\\n\", \"mu_tilde\", c[2,1], \"  ---  \", c[2,3], c[2,4], c[2,5])\n",
    "    @printf(\"%-12s | %12.5f | %12.5f | %12s | %12.5f | %12.5f |\\n\", \"mu_check\", c[3,1], c[3,2], \"  ---  \", c[3,4], c[3,5])\n",
    "    @printf(\"%-12s | %12.5f | %12.5f | %12.5f | %12s | %12.5f |\\n\", \"mu_tilde_bar\", c[4,1], c[4,2], c[4,3], \"  ---  \", c[4,5])\n",
    "    @printf(\"%-12s | %12.5f | %12.5f | %12.5f | %12.5f | %12s |\\n\", \"mu_check_bar\", c[5,1], c[5,2], c[5,3], c[5,4], \"  ---  \")\n",
    "end"
   ]
  },
  {
   "cell_type": "code",
   "execution_count": 7,
   "metadata": {},
   "outputs": [
    {
     "name": "stdout",
     "output_type": "stream",
     "text": [
      "average of square errors of mu_hat       =     10.001\n",
      "average of square errors of mu_tilde     =      6.033\n",
      "average of square errors of mu_check     =      5.915\n",
      "average of square errors of mu_tilde_bar =      6.747\n",
      "average of square errors of mu_check_bar =      6.644\n",
      "\n",
      "count(<)/n   | mu_hat       | mu_tilde     | mu_check     | mu_tilde_bar | mu_check_bar |\n",
      "-------------+--------------+--------------+--------------+--------------+--------------|\n",
      "mu_hat       |        ---   |      0.11221 |      0.10871 |      0.12912 |      0.12677 |\n",
      "mu_tilde     |      0.88779 |        ---   |      0.00019 |      0.81243 |      0.80570 |\n",
      "mu_check     |      0.89129 |      0.03864 |        ---   |      0.83169 |      0.83037 |\n",
      "mu_tilde_bar |      0.87088 |      0.18757 |      0.16831 |        ---   |      0.00018 |\n",
      "mu_check_bar |      0.87323 |      0.19430 |      0.16963 |      0.03386 |        ---   |\n"
     ]
    }
   ],
   "source": [
    "s = sim_stein();"
   ]
  },
  {
   "cell_type": "markdown",
   "metadata": {},
   "source": [
    "例えば, 以上の表の mu_hat の行の数値(muhat の右側の数値)は, 最尤推定量 $\\hat\\mu$ の方が他の推定量よりも二乗誤差が小さい場合の割合である.  その割合は大きいほどよい.  この場合には(サンプルが標準正規分布のサイズ $10$ ), 最尤推定量 $\\hat\\mu$ は他の推定量よりも二乗誤差が大きな場合の割合がどれも88%を超えている.\n",
    "\n",
    "* mu_hat = $\\hat\\mu$ = 最尤推定量\n",
    "* mu_tilde = $\\tilde\\mu$ = Stein推定量\n",
    "* mu_check = $\\check\\mu$ = $1-\\alpha$ を $\\max(0, 1-\\alpha)$ に置き換えたStein推定量\n",
    "* mu_tilde_bar = $\\overline{\\tilde\\mu}$ = 平均の方向に縮小するStein推定量\n",
    "* mu_check_bar = $\\overline{\\hat\\mu}$ = 平均の方法に縮小するStein推定量で$1-\\alpha$ を $\\max(0, 1-\\alpha)$ に置き換えたもの"
   ]
  },
  {
   "cell_type": "markdown",
   "metadata": {},
   "source": [
    "### すべての $\\mu_{i0}$ が0の場合\n",
    "\n",
    "この場合には, 最尤推定量 $\\hat\\mu_i = X_i$ の平均二乗誤差は $n$ になり, Stein推定量 $\\tilde\\mu_i = (1-(n-2)/X^2)X_i$ の平均二乗誤差は $2$ になる.  以下の計算でも実際にそうなっていることを確認できる."
   ]
  },
  {
   "cell_type": "code",
   "execution_count": 8,
   "metadata": {},
   "outputs": [
    {
     "name": "stdout",
     "output_type": "stream",
     "text": [
      "average of square errors of mu_hat       =      2.991\n",
      "average of square errors of mu_tilde     =      2.000\n",
      "average of square errors of mu_check     =      1.595\n",
      "average of square errors of mu_tilde_bar =      2.991\n",
      "average of square errors of mu_check_bar =      2.991\n",
      "\n",
      "count(<)/n   | mu_hat       | mu_tilde     | mu_check     | mu_tilde_bar | mu_check_bar |\n",
      "-------------+--------------+--------------+--------------+--------------+--------------|\n",
      "mu_hat       |        ---   |      0.08172 |      0.00000 |      0.04344 |      0.04344 |\n",
      "mu_tilde     |      0.91828 |        ---   |      0.00000 |      0.91828 |      0.91828 |\n",
      "mu_check     |      1.00000 |      0.19871 |        ---   |      1.00000 |      1.00000 |\n",
      "mu_tilde_bar |      0.04402 |      0.08172 |      0.00000 |        ---   |      0.00000 |\n",
      "mu_check_bar |      0.04402 |      0.08172 |      0.00000 |      0.00000 |        ---   |\n"
     ]
    }
   ],
   "source": [
    "n = 3\n",
    "sim_stein(mu0 = zeros(n));"
   ]
  },
  {
   "cell_type": "code",
   "execution_count": 9,
   "metadata": {},
   "outputs": [
    {
     "name": "stdout",
     "output_type": "stream",
     "text": [
      "average of square errors of mu_hat       =      4.006\n",
      "average of square errors of mu_tilde     =      1.986\n",
      "average of square errors of mu_check     =      1.477\n",
      "average of square errors of mu_tilde_bar =      2.989\n",
      "average of square errors of mu_check_bar =      2.608\n",
      "\n",
      "count(<)/n   | mu_hat       | mu_tilde     | mu_check     | mu_tilde_bar | mu_check_bar |\n",
      "-------------+--------------+--------------+--------------+--------------+--------------|\n",
      "mu_hat       |        ---   |      0.08954 |      0.00000 |      0.08104 |      0.00000 |\n",
      "mu_tilde     |      0.91046 |        ---   |      0.00000 |      0.86904 |      0.85374 |\n",
      "mu_check     |      1.00000 |      0.26480 |        ---   |      1.00000 |      1.00000 |\n",
      "mu_tilde_bar |      0.91896 |      0.13096 |      0.00000 |        ---   |      0.00000 |\n",
      "mu_check_bar |      1.00000 |      0.14626 |      0.00000 |      0.19774 |        ---   |\n"
     ]
    }
   ],
   "source": [
    "n = 4\n",
    "sim_stein(mu0 = zeros(n));"
   ]
  },
  {
   "cell_type": "code",
   "execution_count": 10,
   "metadata": {},
   "outputs": [
    {
     "name": "stdout",
     "output_type": "stream",
     "text": [
      "average of square errors of mu_hat       =      9.992\n",
      "average of square errors of mu_tilde     =      1.985\n",
      "average of square errors of mu_check     =      1.252\n",
      "average of square errors of mu_tilde_bar =      2.991\n",
      "average of square errors of mu_check_bar =      2.270\n",
      "\n",
      "count(<)/n   | mu_hat       | mu_tilde     | mu_check     | mu_tilde_bar | mu_check_bar |\n",
      "-------------+--------------+--------------+--------------+--------------+--------------|\n",
      "mu_hat       |        ---   |      0.05237 |      0.00000 |      0.05836 |      0.00000 |\n",
      "mu_tilde     |      0.94763 |        ---   |      0.00000 |      0.82910 |      0.77475 |\n",
      "mu_check     |      1.00000 |      0.37208 |        ---   |      1.00000 |      1.00000 |\n",
      "mu_tilde_bar |      0.94164 |      0.17090 |      0.00000 |        ---   |      0.00000 |\n",
      "mu_check_bar |      1.00000 |      0.22525 |      0.00000 |      0.36343 |        ---   |\n"
     ]
    }
   ],
   "source": [
    "n = 10\n",
    "sim_stein(mu0 = zeros(n));"
   ]
  },
  {
   "cell_type": "code",
   "execution_count": 11,
   "metadata": {},
   "outputs": [
    {
     "name": "stdout",
     "output_type": "stream",
     "text": [
      "average of square errors of mu_hat       =    100.060\n",
      "average of square errors of mu_tilde     =      2.012\n",
      "average of square errors of mu_check     =      1.094\n",
      "average of square errors of mu_tilde_bar =      3.007\n",
      "average of square errors of mu_check_bar =      2.090\n",
      "\n",
      "count(<)/n   | mu_hat       | mu_tilde     | mu_check     | mu_tilde_bar | mu_check_bar |\n",
      "-------------+--------------+--------------+--------------+--------------+--------------|\n",
      "mu_hat       |        ---   |      0.00003 |      0.00000 |      0.00003 |      0.00000 |\n",
      "mu_tilde     |      0.99997 |        ---   |      0.00000 |      0.85675 |      0.71665 |\n",
      "mu_check     |      1.00000 |      0.46319 |        ---   |      1.00000 |      1.00000 |\n",
      "mu_tilde_bar |      0.99997 |      0.14325 |      0.00000 |        ---   |      0.00000 |\n",
      "mu_check_bar |      1.00000 |      0.28335 |      0.00000 |      0.46285 |        ---   |\n"
     ]
    }
   ],
   "source": [
    "n = 100\n",
    "sim_stein(mu0 = zeros(n));"
   ]
  },
  {
   "cell_type": "code",
   "execution_count": 12,
   "metadata": {},
   "outputs": [
    {
     "name": "stdout",
     "output_type": "stream",
     "text": [
      "average of square errors of mu_hat       =   1000.011\n",
      "average of square errors of mu_tilde     =      2.000\n",
      "average of square errors of mu_check     =      1.025\n",
      "average of square errors of mu_tilde_bar =      3.007\n",
      "average of square errors of mu_check_bar =      2.031\n",
      "\n",
      "count(<)/n   | mu_hat       | mu_tilde     | mu_check     | mu_tilde_bar | mu_check_bar |\n",
      "-------------+--------------+--------------+--------------+--------------+--------------|\n",
      "mu_hat       |        ---   |      0.00000 |      0.00000 |      0.00000 |      0.00000 |\n",
      "mu_tilde     |      1.00000 |        ---   |      0.00000 |      0.90802 |      0.70213 |\n",
      "mu_check     |      1.00000 |      0.48835 |        ---   |      1.00000 |      1.00000 |\n",
      "mu_tilde_bar |      1.00000 |      0.09198 |      0.00000 |        ---   |      0.00000 |\n",
      "mu_check_bar |      1.00000 |      0.29787 |      0.00000 |      0.48855 |        ---   |\n"
     ]
    }
   ],
   "source": [
    "n = 1000\n",
    "sim_stein(mu0 = zeros(n));"
   ]
  },
  {
   "cell_type": "markdown",
   "metadata": {},
   "source": [
    "### 雑多な場合"
   ]
  },
  {
   "cell_type": "code",
   "execution_count": 13,
   "metadata": {},
   "outputs": [
    {
     "name": "stdout",
     "output_type": "stream",
     "text": [
      "average of square errors of mu_hat       =    100.056\n",
      "average of square errors of mu_tilde     =     90.423\n",
      "average of square errors of mu_check     =     90.423\n",
      "average of square errors of mu_tilde_bar =      3.012\n",
      "average of square errors of mu_check_bar =      2.088\n",
      "\n",
      "count(<)/n   | mu_hat       | mu_tilde     | mu_check     | mu_tilde_bar | mu_check_bar |\n",
      "-------------+--------------+--------------+--------------+--------------+--------------|\n",
      "mu_hat       |        ---   |      0.05751 |      0.05751 |      0.00000 |      0.00000 |\n",
      "mu_tilde     |      0.94249 |        ---   |      0.00000 |      0.00000 |      0.00000 |\n",
      "mu_check     |      0.94249 |      0.00000 |        ---   |      0.00000 |      0.00000 |\n",
      "mu_tilde_bar |      1.00000 |      1.00000 |      1.00000 |        ---   |      0.00000 |\n",
      "mu_check_bar |      1.00000 |      1.00000 |      1.00000 |      0.45818 |        ---   |\n"
     ]
    }
   ],
   "source": [
    "mu0 = 3ones(100)\n",
    "sim_stein(mu0 = mu0);"
   ]
  },
  {
   "cell_type": "code",
   "execution_count": 14,
   "metadata": {},
   "outputs": [
    {
     "name": "stdout",
     "output_type": "stream",
     "text": [
      "average of square errors of mu_hat       =    100.042\n",
      "average of square errors of mu_tilde     =     91.155\n",
      "average of square errors of mu_check     =     91.155\n",
      "average of square errors of mu_tilde_bar =     46.518\n",
      "average of square errors of mu_check_bar =     46.518\n",
      "\n",
      "count(<)/n   | mu_hat       | mu_tilde     | mu_check     | mu_tilde_bar | mu_check_bar |\n",
      "-------------+--------------+--------------+--------------+--------------+--------------|\n",
      "mu_hat       |        ---   |      0.06500 |      0.06500 |      0.00019 |      0.00019 |\n",
      "mu_tilde     |      0.93500 |        ---   |      0.00000 |      0.00030 |      0.00030 |\n",
      "mu_check     |      0.93500 |      0.00000 |        ---   |      0.00030 |      0.00030 |\n",
      "mu_tilde_bar |      0.99981 |      0.99970 |      0.99970 |        ---   |      0.00000 |\n",
      "mu_check_bar |      0.99981 |      0.99970 |      0.99970 |      0.00001 |        ---   |\n"
     ]
    }
   ],
   "source": [
    "mu0 = 3 .+ randn(100)\n",
    "sim_stein(mu0 = mu0);"
   ]
  },
  {
   "cell_type": "code",
   "execution_count": 15,
   "metadata": {},
   "outputs": [
    {
     "name": "stdout",
     "output_type": "stream",
     "text": [
      "average of square errors of mu_hat       =     99.995\n",
      "average of square errors of mu_tilde     =     92.611\n",
      "average of square errors of mu_check     =     92.611\n",
      "average of square errors of mu_tilde_bar =     76.569\n",
      "average of square errors of mu_check_bar =     76.569\n",
      "\n",
      "count(<)/n   | mu_hat       | mu_tilde     | mu_check     | mu_tilde_bar | mu_check_bar |\n",
      "-------------+--------------+--------------+--------------+--------------+--------------|\n",
      "mu_hat       |        ---   |      0.08330 |      0.08330 |      0.00713 |      0.00713 |\n",
      "mu_tilde     |      0.91670 |        ---   |      0.00000 |      0.01783 |      0.01783 |\n",
      "mu_check     |      0.91670 |      0.00000 |        ---   |      0.01783 |      0.01783 |\n",
      "mu_tilde_bar |      0.99287 |      0.98217 |      0.98217 |        ---   |      0.00000 |\n",
      "mu_check_bar |      0.99287 |      0.98217 |      0.98217 |      0.00000 |        ---   |\n"
     ]
    }
   ],
   "source": [
    "mu0 = collect(range(0, 6, length=100))\n",
    "sim_stein(mu0 = mu0);"
   ]
  },
  {
   "cell_type": "code",
   "execution_count": 16,
   "metadata": {},
   "outputs": [
    {
     "name": "stdout",
     "output_type": "stream",
     "text": [
      "average of square errors of mu_hat       =     99.953\n",
      "average of square errors of mu_tilde     =     76.137\n",
      "average of square errors of mu_check     =     76.137\n",
      "average of square errors of mu_tilde_bar =     76.562\n",
      "average of square errors of mu_check_bar =     76.562\n",
      "\n",
      "count(<)/n   | mu_hat       | mu_tilde     | mu_check     | mu_tilde_bar | mu_check_bar |\n",
      "-------------+--------------+--------------+--------------+--------------+--------------|\n",
      "mu_hat       |        ---   |      0.00708 |      0.00708 |      0.00752 |      0.00752 |\n",
      "mu_tilde     |      0.99292 |        ---   |      0.00000 |      0.84951 |      0.84951 |\n",
      "mu_check     |      0.99292 |      0.00000 |        ---   |      0.84951 |      0.84951 |\n",
      "mu_tilde_bar |      0.99248 |      0.15049 |      0.15049 |        ---   |      0.00000 |\n",
      "mu_check_bar |      0.99248 |      0.15049 |      0.15049 |      0.00000 |        ---   |\n"
     ]
    }
   ],
   "source": [
    "mu0 = collect(range(-3, 3, length=100))\n",
    "sim_stein(mu0 = mu0);"
   ]
  },
  {
   "cell_type": "code",
   "execution_count": 17,
   "metadata": {},
   "outputs": [
    {
     "name": "stdout",
     "output_type": "stream",
     "text": [
      "average of square errors of mu_hat       =      9.999\n",
      "average of square errors of mu_tilde     =      5.237\n",
      "average of square errors of mu_check     =      4.987\n",
      "average of square errors of mu_tilde_bar =      5.994\n",
      "average of square errors of mu_check_bar =      5.765\n",
      "\n",
      "count(<)/n   | mu_hat       | mu_tilde     | mu_check     | mu_tilde_bar | mu_check_bar |\n",
      "-------------+--------------+--------------+--------------+--------------+--------------|\n",
      "mu_hat       |        ---   |      0.09480 |      0.07974 |      0.10659 |      0.09411 |\n",
      "mu_tilde     |      0.90520 |        ---   |      0.00099 |      0.80349 |      0.78930 |\n",
      "mu_check     |      0.92026 |      0.08388 |        ---   |      0.84623 |      0.82581 |\n",
      "mu_tilde_bar |      0.89341 |      0.19651 |      0.15377 |        ---   |      0.00118 |\n",
      "mu_check_bar |      0.90589 |      0.21070 |      0.17419 |      0.07799 |        ---   |\n"
     ]
    }
   ],
   "source": [
    "mu0 = randn(10)\n",
    "sim_stein(mu0 = mu0);"
   ]
  },
  {
   "cell_type": "code",
   "execution_count": 18,
   "metadata": {},
   "outputs": [
    {
     "name": "stdout",
     "output_type": "stream",
     "text": [
      "average of square errors of mu_hat       =     99.981\n",
      "average of square errors of mu_tilde     =     54.670\n",
      "average of square errors of mu_check     =     54.670\n",
      "average of square errors of mu_tilde_bar =     55.288\n",
      "average of square errors of mu_check_bar =     55.288\n",
      "\n",
      "count(<)/n   | mu_hat       | mu_tilde     | mu_check     | mu_tilde_bar | mu_check_bar |\n",
      "-------------+--------------+--------------+--------------+--------------+--------------|\n",
      "mu_hat       |        ---   |      0.00045 |      0.00045 |      0.00049 |      0.00049 |\n",
      "mu_tilde     |      0.99955 |        ---   |      0.00000 |      0.73767 |      0.73767 |\n",
      "mu_check     |      0.99955 |      0.00000 |        ---   |      0.73767 |      0.73767 |\n",
      "mu_tilde_bar |      0.99951 |      0.26233 |      0.26233 |        ---   |      0.00000 |\n",
      "mu_check_bar |      0.99951 |      0.26233 |      0.26233 |      0.00000 |        ---   |\n"
     ]
    }
   ],
   "source": [
    "mu0 = randn(100)\n",
    "sim_stein(mu0 = mu0);"
   ]
  },
  {
   "cell_type": "code",
   "execution_count": 19,
   "metadata": {},
   "outputs": [
    {
     "name": "stdout",
     "output_type": "stream",
     "text": [
      "average of square errors of mu_hat       =   1000.082\n",
      "average of square errors of mu_tilde     =    501.837\n",
      "average of square errors of mu_check     =    501.837\n",
      "average of square errors of mu_tilde_bar =    502.579\n",
      "average of square errors of mu_check_bar =    502.579\n",
      "\n",
      "count(<)/n   | mu_hat       | mu_tilde     | mu_check     | mu_tilde_bar | mu_check_bar |\n",
      "-------------+--------------+--------------+--------------+--------------+--------------|\n",
      "mu_hat       |        ---   |      0.00000 |      0.00000 |      0.00000 |      0.00000 |\n",
      "mu_tilde     |      1.00000 |        ---   |      0.00000 |      0.89765 |      0.89765 |\n",
      "mu_check     |      1.00000 |      0.00000 |        ---   |      0.89765 |      0.89765 |\n",
      "mu_tilde_bar |      1.00000 |      0.10235 |      0.10235 |        ---   |      0.00000 |\n",
      "mu_check_bar |      1.00000 |      0.10235 |      0.10235 |      0.00000 |        ---   |\n"
     ]
    }
   ],
   "source": [
    "mu0 = randn(1000)\n",
    "sim_stein(mu0 = mu0);"
   ]
  },
  {
   "cell_type": "code",
   "execution_count": 20,
   "metadata": {},
   "outputs": [
    {
     "name": "stdout",
     "output_type": "stream",
     "text": [
      "average of square errors of mu_hat       =      9.996\n",
      "average of square errors of mu_tilde     =      9.925\n",
      "average of square errors of mu_check     =      9.925\n",
      "average of square errors of mu_tilde_bar =      7.098\n",
      "average of square errors of mu_check_bar =      7.038\n",
      "\n",
      "count(<)/n   | mu_hat       | mu_tilde     | mu_check     | mu_tilde_bar | mu_check_bar |\n",
      "-------------+--------------+--------------+--------------+--------------+--------------|\n",
      "mu_hat       |        ---   |      0.43457 |      0.43457 |      0.14198 |      0.14111 |\n",
      "mu_tilde     |      0.56543 |        ---   |      0.00000 |      0.14404 |      0.14315 |\n",
      "mu_check     |      0.56543 |      0.00000 |        ---   |      0.14404 |      0.14315 |\n",
      "mu_tilde_bar |      0.85802 |      0.85596 |      0.85596 |        ---   |      0.00008 |\n",
      "mu_check_bar |      0.85889 |      0.85685 |      0.85685 |      0.01939 |        ---   |\n"
     ]
    }
   ],
   "source": [
    "mu0 = 10 .+ randn(10)\n",
    "sim_stein(mu0 = mu0);"
   ]
  },
  {
   "cell_type": "code",
   "execution_count": 21,
   "metadata": {},
   "outputs": [
    {
     "name": "stdout",
     "output_type": "stream",
     "text": [
      "average of square errors of mu_hat       =    100.088\n",
      "average of square errors of mu_tilde     =     99.145\n",
      "average of square errors of mu_check     =     99.145\n",
      "average of square errors of mu_tilde_bar =     54.798\n",
      "average of square errors of mu_check_bar =     54.798\n",
      "\n",
      "count(<)/n   | mu_hat       | mu_tilde     | mu_check     | mu_tilde_bar | mu_check_bar |\n",
      "-------------+--------------+--------------+--------------+--------------+--------------|\n",
      "mu_hat       |        ---   |      0.30972 |      0.30972 |      0.00043 |      0.00043 |\n",
      "mu_tilde     |      0.69028 |        ---   |      0.00000 |      0.00047 |      0.00047 |\n",
      "mu_check     |      0.69028 |      0.00000 |        ---   |      0.00047 |      0.00047 |\n",
      "mu_tilde_bar |      0.99957 |      0.99953 |      0.99953 |        ---   |      0.00000 |\n",
      "mu_check_bar |      0.99957 |      0.99953 |      0.99953 |      0.00000 |        ---   |\n"
     ]
    }
   ],
   "source": [
    "mu0 = 10 .+ randn(100)\n",
    "sim_stein(mu0 = mu0);"
   ]
  },
  {
   "cell_type": "code",
   "execution_count": 22,
   "metadata": {},
   "outputs": [
    {
     "name": "stdout",
     "output_type": "stream",
     "text": [
      "average of square errors of mu_hat       =    999.873\n",
      "average of square errors of mu_tilde     =    990.044\n",
      "average of square errors of mu_check     =    990.044\n",
      "average of square errors of mu_tilde_bar =    514.212\n",
      "average of square errors of mu_check_bar =    514.212\n",
      "\n",
      "count(<)/n   | mu_hat       | mu_tilde     | mu_check     | mu_tilde_bar | mu_check_bar |\n",
      "-------------+--------------+--------------+--------------+--------------+--------------|\n",
      "mu_hat       |        ---   |      0.05757 |      0.05757 |      0.00000 |      0.00000 |\n",
      "mu_tilde     |      0.94243 |        ---   |      0.00000 |      0.00000 |      0.00000 |\n",
      "mu_check     |      0.94243 |      0.00000 |        ---   |      0.00000 |      0.00000 |\n",
      "mu_tilde_bar |      1.00000 |      1.00000 |      1.00000 |        ---   |      0.00000 |\n",
      "mu_check_bar |      1.00000 |      1.00000 |      1.00000 |      0.00000 |        ---   |\n"
     ]
    }
   ],
   "source": [
    "mu0 = 10 .+ randn(1000)\n",
    "sim_stein(mu0 = mu0);"
   ]
  },
  {
   "cell_type": "code",
   "execution_count": null,
   "metadata": {},
   "outputs": [],
   "source": []
  }
 ],
 "metadata": {
  "@webio": {
   "lastCommId": null,
   "lastKernelId": null
  },
  "_draft": {
   "nbviewer_url": "https://gist.github.com/99e1f853282131f0d2b302bd55ab09e8"
  },
  "gist": {
   "data": {
    "description": "Ridge正則化とStein推定量",
    "public": true
   },
   "id": "99e1f853282131f0d2b302bd55ab09e8"
  },
  "jupytext": {
   "formats": "ipynb,md"
  },
  "kernelspec": {
   "display_name": "Julia 1.1.1",
   "language": "julia",
   "name": "julia-1.1"
  },
  "language_info": {
   "file_extension": ".jl",
   "mimetype": "application/julia",
   "name": "julia",
   "version": "1.1.1"
  },
  "toc": {
   "base_numbering": 1,
   "nav_menu": {},
   "number_sections": true,
   "sideBar": true,
   "skip_h1_title": true,
   "title_cell": "目次",
   "title_sidebar": "目次",
   "toc_cell": true,
   "toc_position": {},
   "toc_section_display": true,
   "toc_window_display": false
  }
 },
 "nbformat": 4,
 "nbformat_minor": 2
}
