{
 "cells": [
  {
   "cell_type": "markdown",
   "id": "85635362-dd30-473e-9107-0dd1a3e908d1",
   "metadata": {},
   "source": [
    "https://twitter.com/julia_kizi/status/1461371219069091845"
   ]
  },
  {
   "cell_type": "code",
   "execution_count": 1,
   "id": "be66c373-81c7-479a-b78b-20c78ab83fa8",
   "metadata": {},
   "outputs": [
    {
     "name": "stdout",
     "output_type": "stream",
     "text": [
      "0\n",
      "1\n",
      "2\n",
      "3\n",
      "4\n"
     ]
    }
   ],
   "source": [
    "def gen_yield(n):\n",
    "    for i in range(n):\n",
    "        yield i\n",
    "\n",
    "for x in gen_yield(5):\n",
    "    print(x)"
   ]
  },
  {
   "cell_type": "code",
   "execution_count": null,
   "id": "3289ccdb-335e-47cd-b646-88084d5d9dcf",
   "metadata": {},
   "outputs": [],
   "source": []
  }
 ],
 "metadata": {
  "kernelspec": {
   "display_name": "Python 3 (ipykernel)",
   "language": "python",
   "name": "python3"
  },
  "language_info": {
   "codemirror_mode": {
    "name": "ipython",
    "version": 3
   },
   "file_extension": ".py",
   "mimetype": "text/x-python",
   "name": "python",
   "nbconvert_exporter": "python",
   "pygments_lexer": "ipython3",
   "version": "3.8.5"
  }
 },
 "nbformat": 4,
 "nbformat_minor": 5
}
