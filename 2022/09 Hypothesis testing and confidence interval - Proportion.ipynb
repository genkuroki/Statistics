{
 "cells": [
  {
   "cell_type": "markdown",
   "id": "f6011bdc",
   "metadata": {},
   "source": [
    "数値の値\n",
    "\n",
    "$\\text{数値の値}$"
   ]
  },
  {
   "cell_type": "markdown",
   "id": "943fecb2",
   "metadata": {},
   "source": [
    "# 検定と信頼区間: 一般論\n",
    "\n",
    "* 黒木玄\n",
    "* 2022-05-31～2022-05-31\n",
    "\n",
    "$\n",
    "\\newcommand\\op{\\operatorname}\n",
    "\\newcommand\\R{{\\mathbb R}}\n",
    "\\newcommand\\Z{{\\mathbb Z}}\n",
    "\\newcommand\\var{\\op{var}}\n",
    "\\newcommand\\std{\\op{std}}\n",
    "\\newcommand\\eps{\\varepsilon}\n",
    "\\newcommand\\T[1]{T_{(#1)}}\n",
    "\\newcommand\\bk{\\bar\\kappa}\n",
    "\\newcommand\\X{{\\mathscr X}}\n",
    "$\n",
    "\n",
    "このノートでは[Julia言語](https://julialang.org/)を使用している: \n",
    "\n",
    "* [Julia言語のインストールの仕方の一例](https://nbviewer.org/github/genkuroki/msfd28/blob/master/install.ipynb)\n",
    "\n",
    "自明な誤りを見つけたら, 自分で訂正して読んで欲しい.  大文字と小文字の混同や書き直しが不完全な場合や符号のミスは非常によくある.\n",
    "\n",
    "このノートに書いてある式を文字通りにそのまま読んで正しいと思ってしまうとひどい目に会う可能性が高い. しかし, 数が使われている文献には大抵の場合に文字通りに読むと間違っている式や主張が書いてあるので, 内容を理解した上で訂正しながら読んで利用しなければいけない. 実践的に数学を使う状況では他人が書いた式をそのまま信じていけない.\n",
    "\n",
    "このノートの内容よりもさらに詳しいノートを自分で作ると勉強になるだろう.  膨大な時間を取られることになるが, このノートの内容に関係することで飯を食っていく可能性がある人にはそのためにかけた時間は無駄にならないと思われる."
   ]
  },
  {
   "cell_type": "markdown",
   "id": "b17e5251",
   "metadata": {
    "toc": true
   },
   "source": [
    "<h1>目次<span class=\"tocSkip\"></span></h1>\n",
    "<div class=\"toc\"><ul class=\"toc-item\"><li><span><a href=\"#二項分布モデルの場合\" data-toc-modified-id=\"二項分布モデルの場合-1\"><span class=\"toc-item-num\">1&nbsp;&nbsp;</span>二項分布モデルの場合</a></span><ul class=\"toc-item\"><li><span><a href=\"#Clopper-Pearsonの信頼区間\" data-toc-modified-id=\"Clopper-Pearsonの信頼区間-1.1\"><span class=\"toc-item-num\">1.1&nbsp;&nbsp;</span>Clopper-Pearsonの信頼区間</a></span></li><li><span><a href=\"#Sterneの信頼区間\" data-toc-modified-id=\"Sterneの信頼区間-1.2\"><span class=\"toc-item-num\">1.2&nbsp;&nbsp;</span>Sterneの信頼区間</a></span></li><li><span><a href=\"#Waldの信頼区間\" data-toc-modified-id=\"Waldの信頼区間-1.3\"><span class=\"toc-item-num\">1.3&nbsp;&nbsp;</span>Waldの信頼区間</a></span></li><li><span><a href=\"#Wilsonの信頼区間とPearsonのχ²検定\" data-toc-modified-id=\"Wilsonの信頼区間とPearsonのχ²検定-1.4\"><span class=\"toc-item-num\">1.4&nbsp;&nbsp;</span>Wilsonの信頼区間とPearsonのχ²検定</a></span></li><li><span><a href=\"#対数尤度比検定\" data-toc-modified-id=\"対数尤度比検定-1.5\"><span class=\"toc-item-num\">1.5&nbsp;&nbsp;</span>対数尤度比検定</a></span></li></ul></li></ul></div>"
   ]
  },
  {
   "cell_type": "code",
   "execution_count": 1,
   "id": "9db4102b",
   "metadata": {},
   "outputs": [],
   "source": [
    "ENV[\"LINES\"], ENV[\"COLUMNS\"] = 100, 100\n",
    "using BenchmarkTools\n",
    "using Distributions\n",
    "using LinearAlgebra\n",
    "using Printf\n",
    "using QuadGK\n",
    "using Random\n",
    "Random.seed!(4649373)\n",
    "using Roots\n",
    "using SpecialFunctions\n",
    "using StaticArrays\n",
    "using StatsBase\n",
    "using StatsFuns\n",
    "using StatsPlots\n",
    "default(fmt = :png, titlefontsize = 10, size = (400, 250))\n",
    "using SymPy"
   ]
  },
  {
   "cell_type": "code",
   "execution_count": 2,
   "id": "57775da2",
   "metadata": {},
   "outputs": [],
   "source": [
    "# Override the Base.show definition of SymPy.jl:\n",
    "# https://github.com/JuliaPy/SymPy.jl/blob/29c5bfd1d10ac53014fa7fef468bc8deccadc2fc/src/types.jl#L87-L105\n",
    "\n",
    "@eval SymPy function Base.show(io::IO, ::MIME\"text/latex\", x::SymbolicObject)\n",
    "    print(io, as_markdown(\"\\\\displaystyle \" * sympy.latex(x, mode=\"plain\", fold_short_frac=false)))\n",
    "end\n",
    "@eval SymPy function Base.show(io::IO, ::MIME\"text/latex\", x::AbstractArray{Sym})\n",
    "    function toeqnarray(x::Vector{Sym})\n",
    "        a = join([\"\\\\displaystyle \" * sympy.latex(x[i]) for i in 1:length(x)], \"\\\\\\\\\")\n",
    "        \"\"\"\\\\left[ \\\\begin{array}{r}$a\\\\end{array} \\\\right]\"\"\"\n",
    "    end\n",
    "    function toeqnarray(x::AbstractArray{Sym,2})\n",
    "        sz = size(x)\n",
    "        a = join([join(\"\\\\displaystyle \" .* map(sympy.latex, x[i,:]), \"&\") for i in 1:sz[1]], \"\\\\\\\\\")\n",
    "        \"\\\\left[ \\\\begin{array}{\" * repeat(\"r\",sz[2]) * \"}\" * a * \"\\\\end{array}\\\\right]\"\n",
    "    end\n",
    "    print(io, as_markdown(toeqnarray(x)))\n",
    "end"
   ]
  },
  {
   "cell_type": "code",
   "execution_count": 3,
   "id": "c6dd5134",
   "metadata": {},
   "outputs": [
    {
     "data": {
      "text/plain": [
       "mykurtosis (generic function with 2 methods)"
      ]
     },
     "execution_count": 3,
     "metadata": {},
     "output_type": "execute_result"
    }
   ],
   "source": [
    "safemul(x, y) = x == 0 ? x : x*y\n",
    "safediv(x, y) = x == 0 ? x : x/y\n",
    "\n",
    "x ⪅ y = x < y || x ≈ y\n",
    "\n",
    "mypdf(dist, x) = pdf(dist, x)\n",
    "mypdf(dist::DiscreteUnivariateDistribution, x) = pdf(dist, round(Int, x))\n",
    "\n",
    "distname(dist::Distribution) = replace(string(dist), r\"{.*}\" => \"\")\n",
    "myskewness(dist) = skewness(dist)\n",
    "mykurtosis(dist) = kurtosis(dist)\n",
    "function standardized_moment(dist::ContinuousUnivariateDistribution, m)\n",
    "    μ, σ = mean(dist), std(dist)\n",
    "    quadgk(x -> (x - μ)^m * pdf(dist, x), extrema(dist)...)[1] / σ^m\n",
    "end\n",
    "myskewness(dist::MixtureModel{Univariate, Continuous}) = standardized_moment(dist, 3)\n",
    "mykurtosis(dist::MixtureModel{Univariate, Continuous}) = standardized_moment(dist, 4) - 3"
   ]
  },
  {
   "cell_type": "markdown",
   "id": "ed920132",
   "metadata": {},
   "source": [
    "## 二項分布モデルの場合"
   ]
  },
  {
   "cell_type": "markdown",
   "id": "2bebfab9",
   "metadata": {},
   "source": [
    "### Clopper-Pearsonの信頼区間\n",
    "\n",
    "データ「$n$ 回中 $k$ 回成功」について, 「データの数値以上に極端な」の意味を「$k$ 以上または $k$ 以下の」とした場合."
   ]
  },
  {
   "cell_type": "markdown",
   "id": "68f497f9",
   "metadata": {},
   "source": [
    "### Sterneの信頼区間\n",
    "\n",
    "「データの数値以上に極端な」の意味を「生成される確率がデータの数値以下の」とした場合."
   ]
  },
  {
   "cell_type": "markdown",
   "id": "6c463d9b",
   "metadata": {},
   "source": [
    "### Waldの信頼区間\n",
    "\n",
    "データ「$n$ 回中 $k$ 回成功」について, 「データの数値以上に極端な」の意味を「$k$ 以上または $k$ 以下の」とした場合.  ただし, 二項分布の中心極限定理(正規分布近似)と分散が少しことなる正規分布による近似を使う."
   ]
  },
  {
   "cell_type": "markdown",
   "id": "c21c2783",
   "metadata": {},
   "source": [
    "### Wilsonの信頼区間とPearsonのχ²検定\n",
    "\n",
    "データ「$n$ 回中 $k$ 回成功」について, 「データの数値以上に極端な」の意味を「$k$ 以上または $k$ 以下の」とした場合.  ただし, 二項分布の中心極限定理(正規分布近似)のみを使う."
   ]
  },
  {
   "cell_type": "markdown",
   "id": "a8cbbe40",
   "metadata": {},
   "source": [
    "### 対数尤度比検定"
   ]
  },
  {
   "cell_type": "code",
   "execution_count": null,
   "id": "6f4f19c8",
   "metadata": {},
   "outputs": [],
   "source": []
  }
 ],
 "metadata": {
  "@webio": {
   "lastCommId": null,
   "lastKernelId": null
  },
  "jupytext": {
   "formats": "ipynb,md"
  },
  "kernelspec": {
   "display_name": "Julia 1.7.3",
   "language": "julia",
   "name": "julia-1.7"
  },
  "language_info": {
   "file_extension": ".jl",
   "mimetype": "application/julia",
   "name": "julia",
   "version": "1.7.3"
  },
  "toc": {
   "base_numbering": 1,
   "nav_menu": {},
   "number_sections": true,
   "sideBar": true,
   "skip_h1_title": true,
   "title_cell": "目次",
   "title_sidebar": "目次",
   "toc_cell": true,
   "toc_position": {},
   "toc_section_display": true,
   "toc_window_display": false
  }
 },
 "nbformat": 4,
 "nbformat_minor": 5
}
