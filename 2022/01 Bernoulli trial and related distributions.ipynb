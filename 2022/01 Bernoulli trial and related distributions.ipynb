{
 "cells": [
  {
   "cell_type": "markdown",
   "id": "71fae49e",
   "metadata": {},
   "source": [
    "# Bernoulli試行と関連確率分布\n",
    "\n",
    "* 黒木玄\n",
    "* 2022-04-09～2022-05-21\n",
    "$\n",
    "\\newcommand\\op{\\operatorname}\n",
    "\\newcommand\\R{{\\mathbb R}}\n",
    "\\newcommand\\Z{{\\mathbb Z}}\n",
    "\\newcommand\\var{\\op{var}}\n",
    "\\newcommand\\std{\\op{std}}\n",
    "\\newcommand\\eps{\\varepsilon}\n",
    "\\newcommand\\T[1]{T_{(#1)}}\n",
    "\\newcommand\\bk{\\bar\\kappa}\n",
    "$\n",
    "\n",
    "このノートでは[Julia言語](https://julialang.org/)を使用している: \n",
    "\n",
    "* [Julia言語のインストールの仕方の一例](https://nbviewer.org/github/genkuroki/msfd28/blob/master/install.ipynb)\n",
    "\n",
    "自明な誤りを見つけたら, 自分で訂正して読んで欲しい.  大文字と小文字の混同や書き直しが不完全な場合や符号のミスは非常によくある.\n",
    "\n",
    "このノートに書いてある式を文字通りにそのまま読んで正しいと思ってしまうとひどい目に会う可能性が高い. しかし, 数が使われている文献には大抵の場合に文字通りに読むと間違っている式や主張が書いてあるので, 内容を理解した上で訂正しながら読んで利用しなければいけない. 実践的に数学を使う状況では他人が書いた式をそのまま信じていけない.\n",
    "\n",
    "このノートの内容よりもさらに詳しいノートを自分で作ると勉強になるだろう.  膨大な時間を取られることになるが, このノートの内容に関係することで飯を食っていく可能性がある人にはそのためにかけた時間は無駄にならないと思われる."
   ]
  },
  {
   "cell_type": "markdown",
   "id": "31eb8aff",
   "metadata": {
    "toc": true
   },
   "source": [
    "<h1>目次<span class=\"tocSkip\"></span></h1>\n",
    "<div class=\"toc\"><ul class=\"toc-item\"><li><span><a href=\"#WolframAlphaの使い方\" data-toc-modified-id=\"WolframAlphaの使い方-1\"><span class=\"toc-item-num\">1&nbsp;&nbsp;</span>WolframAlphaの使い方</a></span></li><li><span><a href=\"#一様乱数の生成の繰り返し\" data-toc-modified-id=\"一様乱数の生成の繰り返し-2\"><span class=\"toc-item-num\">2&nbsp;&nbsp;</span>一様乱数の生成の繰り返し</a></span></li><li><span><a href=\"#Bernoulli試行\" data-toc-modified-id=\"Bernoulli試行-3\"><span class=\"toc-item-num\">3&nbsp;&nbsp;</span>Bernoulli試行</a></span></li><li><span><a href=\"#離散分布\" data-toc-modified-id=\"離散分布-4\"><span class=\"toc-item-num\">4&nbsp;&nbsp;</span>離散分布</a></span><ul class=\"toc-item\"><li><span><a href=\"#離散分布と確率質量函数\" data-toc-modified-id=\"離散分布と確率質量函数-4.1\"><span class=\"toc-item-num\">4.1&nbsp;&nbsp;</span>離散分布と確率質量函数</a></span></li><li><span><a href=\"#離散確率変数\" data-toc-modified-id=\"離散確率変数-4.2\"><span class=\"toc-item-num\">4.2&nbsp;&nbsp;</span>離散確率変数</a></span></li><li><span><a href=\"#離散確率変数の期待値\" data-toc-modified-id=\"離散確率変数の期待値-4.3\"><span class=\"toc-item-num\">4.3&nbsp;&nbsp;</span>離散確率変数の期待値</a></span></li><li><span><a href=\"#離散確率変数の期待値を取る操作の基本性質\" data-toc-modified-id=\"離散確率変数の期待値を取る操作の基本性質-4.4\"><span class=\"toc-item-num\">4.4&nbsp;&nbsp;</span>離散確率変数の期待値を取る操作の基本性質</a></span></li><li><span><a href=\"#確率変数の一般的な定義\" data-toc-modified-id=\"確率変数の一般的な定義-4.5\"><span class=\"toc-item-num\">4.5&nbsp;&nbsp;</span>確率変数の一般的な定義</a></span></li><li><span><a href=\"#離散確率変数に関する確率\" data-toc-modified-id=\"離散確率変数に関する確率-4.6\"><span class=\"toc-item-num\">4.6&nbsp;&nbsp;</span>離散確率変数に関する確率</a></span></li><li><span><a href=\"#離散確率変数の分散と標準偏差\" data-toc-modified-id=\"離散確率変数の分散と標準偏差-4.7\"><span class=\"toc-item-num\">4.7&nbsp;&nbsp;</span>離散確率変数の分散と標準偏差</a></span></li><li><span><a href=\"#問題:-期待値と分散の特徴付け\" data-toc-modified-id=\"問題:-期待値と分散の特徴付け-4.8\"><span class=\"toc-item-num\">4.8&nbsp;&nbsp;</span>問題: 期待値と分散の特徴付け</a></span></li><li><span><a href=\"#問題:-平均二乗誤差のバイアス・バリアンス分解\" data-toc-modified-id=\"問題:-平均二乗誤差のバイアス・バリアンス分解-4.9\"><span class=\"toc-item-num\">4.9&nbsp;&nbsp;</span>問題: 平均二乗誤差のバイアス・バリアンス分解</a></span></li><li><span><a href=\"#カテゴリカル分布の定義\" data-toc-modified-id=\"カテゴリカル分布の定義-4.10\"><span class=\"toc-item-num\">4.10&nbsp;&nbsp;</span>カテゴリカル分布の定義</a></span></li><li><span><a href=\"#問題:-ルーレットの例の賞金の期待値と分散\" data-toc-modified-id=\"問題:-ルーレットの例の賞金の期待値と分散-4.11\"><span class=\"toc-item-num\">4.11&nbsp;&nbsp;</span>問題: ルーレットの例の賞金の期待値と分散</a></span></li><li><span><a href=\"#Bernoulli分布の定義\" data-toc-modified-id=\"Bernoulli分布の定義-4.12\"><span class=\"toc-item-num\">4.12&nbsp;&nbsp;</span>Bernoulli分布の定義</a></span></li><li><span><a href=\"#問題:-Bernoulli分布の期待値と分散\" data-toc-modified-id=\"問題:-Bernoulli分布の期待値と分散-4.13\"><span class=\"toc-item-num\">4.13&nbsp;&nbsp;</span>問題: Bernoulli分布の期待値と分散</a></span></li><li><span><a href=\"#オッズの定義と例\" data-toc-modified-id=\"オッズの定義と例-4.14\"><span class=\"toc-item-num\">4.14&nbsp;&nbsp;</span>オッズの定義と例</a></span></li><li><span><a href=\"#オッズとロジットおよびロジスティック変換\" data-toc-modified-id=\"オッズとロジットおよびロジスティック変換-4.15\"><span class=\"toc-item-num\">4.15&nbsp;&nbsp;</span>オッズとロジットおよびロジスティック変換</a></span></li><li><span><a href=\"#Bernoulli試行の確率分布\" data-toc-modified-id=\"Bernoulli試行の確率分布-4.16\"><span class=\"toc-item-num\">4.16&nbsp;&nbsp;</span>Bernoulli試行の確率分布</a></span></li><li><span><a href=\"#問題:-n=3,-p=0.3-の場合のBernoulli試行の確率分布\" data-toc-modified-id=\"問題:-n=3,-p=0.3-の場合のBernoulli試行の確率分布-4.17\"><span class=\"toc-item-num\">4.17&nbsp;&nbsp;</span>問題: n=3, p=0.3 の場合のBernoulli試行の確率分布</a></span></li><li><span><a href=\"#Bernoulli試行から応用上基本的かつ重要な確率分布が大量に得られること\" data-toc-modified-id=\"Bernoulli試行から応用上基本的かつ重要な確率分布が大量に得られること-4.18\"><span class=\"toc-item-num\">4.18&nbsp;&nbsp;</span>Bernoulli試行から応用上基本的かつ重要な確率分布が大量に得られること</a></span></li><li><span><a href=\"#二項定理\" data-toc-modified-id=\"二項定理-4.19\"><span class=\"toc-item-num\">4.19&nbsp;&nbsp;</span>二項定理</a></span></li><li><span><a href=\"#二項分布の定義\" data-toc-modified-id=\"二項分布の定義-4.20\"><span class=\"toc-item-num\">4.20&nbsp;&nbsp;</span>二項分布の定義</a></span></li><li><span><a href=\"#問題:-二項分布の期待値と分散\" data-toc-modified-id=\"問題:-二項分布の期待値と分散-4.21\"><span class=\"toc-item-num\">4.21&nbsp;&nbsp;</span>問題: 二項分布の期待値と分散</a></span></li><li><span><a href=\"#問題:-当たりが30%の確率で出るくじを100回引いた場合\" data-toc-modified-id=\"問題:-当たりが30%の確率で出るくじを100回引いた場合-4.22\"><span class=\"toc-item-num\">4.22&nbsp;&nbsp;</span>問題: 当たりが30%の確率で出るくじを100回引いた場合</a></span></li><li><span><a href=\"#幾何分布の定義\" data-toc-modified-id=\"幾何分布の定義-4.23\"><span class=\"toc-item-num\">4.23&nbsp;&nbsp;</span>幾何分布の定義</a></span></li><li><span><a href=\"#幾何分布の期待値と分散\" data-toc-modified-id=\"幾何分布の期待値と分散-4.24\"><span class=\"toc-item-num\">4.24&nbsp;&nbsp;</span>幾何分布の期待値と分散</a></span></li><li><span><a href=\"#問題:-当たりが出る確率が1%のガチャを当たりが出るまで回す場合\" data-toc-modified-id=\"問題:-当たりが出る確率が1%のガチャを当たりが出るまで回す場合-4.25\"><span class=\"toc-item-num\">4.25&nbsp;&nbsp;</span>問題: 当たりが出る確率が1%のガチャを当たりが出るまで回す場合</a></span></li><li><span><a href=\"#負の二項展開\" data-toc-modified-id=\"負の二項展開-4.26\"><span class=\"toc-item-num\">4.26&nbsp;&nbsp;</span>負の二項展開</a></span></li><li><span><a href=\"#負の二項分布の定義\" data-toc-modified-id=\"負の二項分布の定義-4.27\"><span class=\"toc-item-num\">4.27&nbsp;&nbsp;</span>負の二項分布の定義</a></span></li><li><span><a href=\"#負の二項分布の期待値と分散\" data-toc-modified-id=\"負の二項分布の期待値と分散-4.28\"><span class=\"toc-item-num\">4.28&nbsp;&nbsp;</span>負の二項分布の期待値と分散</a></span></li><li><span><a href=\"#問題:-当たりが出る確率が5%のガチャを当たりが5回出るまで回す場合\" data-toc-modified-id=\"問題:-当たりが出る確率が5%のガチャを当たりが5回出るまで回す場合-4.29\"><span class=\"toc-item-num\">4.29&nbsp;&nbsp;</span>問題: 当たりが出る確率が5%のガチャを当たりが5回出るまで回す場合</a></span></li><li><span><a href=\"#多項分布の定義\" data-toc-modified-id=\"多項分布の定義-4.30\"><span class=\"toc-item-num\">4.30&nbsp;&nbsp;</span>多項分布の定義</a></span></li></ul></li><li><span><a href=\"#連続分布など\" data-toc-modified-id=\"連続分布など-5\"><span class=\"toc-item-num\">5&nbsp;&nbsp;</span>連続分布など</a></span><ul class=\"toc-item\"><li><span><a href=\"#連続分布と確率密度函数\" data-toc-modified-id=\"連続分布と確率密度函数-5.1\"><span class=\"toc-item-num\">5.1&nbsp;&nbsp;</span>連続分布と確率密度函数</a></span></li><li><span><a href=\"#一様分布の定義\" data-toc-modified-id=\"一様分布の定義-5.2\"><span class=\"toc-item-num\">5.2&nbsp;&nbsp;</span>一様分布の定義</a></span></li><li><span><a href=\"#正規分布の定義\" data-toc-modified-id=\"正規分布の定義-5.3\"><span class=\"toc-item-num\">5.3&nbsp;&nbsp;</span>正規分布の定義</a></span></li><li><span><a href=\"#連続確率変数\" data-toc-modified-id=\"連続確率変数-5.4\"><span class=\"toc-item-num\">5.4&nbsp;&nbsp;</span>連続確率変数</a></span></li><li><span><a href=\"#連続確率変数に関する確率とその期待値\" data-toc-modified-id=\"連続確率変数に関する確率とその期待値-5.5\"><span class=\"toc-item-num\">5.5&nbsp;&nbsp;</span>連続確率変数に関する確率とその期待値</a></span></li><li><span><a href=\"#確率変数の確率密度函数\" data-toc-modified-id=\"確率変数の確率密度函数-5.6\"><span class=\"toc-item-num\">5.6&nbsp;&nbsp;</span>確率変数の確率密度函数</a></span></li><li><span><a href=\"#確率変数の確率質量函数\" data-toc-modified-id=\"確率変数の確率質量函数-5.7\"><span class=\"toc-item-num\">5.7&nbsp;&nbsp;</span>確率変数の確率質量函数</a></span></li><li><span><a href=\"#連続分布における確率変数の期待値を取る操作の基本性質\" data-toc-modified-id=\"連続分布における確率変数の期待値を取る操作の基本性質-5.8\"><span class=\"toc-item-num\">5.8&nbsp;&nbsp;</span>連続分布における確率変数の期待値を取る操作の基本性質</a></span></li><li><span><a href=\"#問題:-Markovの不等式とChebyshevの不等式\" data-toc-modified-id=\"問題:-Markovの不等式とChebyshevの不等式-5.9\"><span class=\"toc-item-num\">5.9&nbsp;&nbsp;</span>問題: Markovの不等式とChebyshevの不等式</a></span></li><li><span><a href=\"#問題:-Jensenの不等式\" data-toc-modified-id=\"問題:-Jensenの不等式-5.10\"><span class=\"toc-item-num\">5.10&nbsp;&nbsp;</span>問題: Jensenの不等式</a></span></li><li><span><a href=\"#問題:-相加相乗平均の不等式\" data-toc-modified-id=\"問題:-相加相乗平均の不等式-5.11\"><span class=\"toc-item-num\">5.11&nbsp;&nbsp;</span>問題: 相加相乗平均の不等式</a></span></li><li><span><a href=\"#問題:-Kullback-Leibler情報量とGibbsの情報不等式\" data-toc-modified-id=\"問題:-Kullback-Leibler情報量とGibbsの情報不等式-5.12\"><span class=\"toc-item-num\">5.12&nbsp;&nbsp;</span>問題: Kullback-Leibler情報量とGibbsの情報不等式</a></span></li><li><span><a href=\"#連続分布における確率変数の分散\" data-toc-modified-id=\"連続分布における確率変数の分散-5.13\"><span class=\"toc-item-num\">5.13&nbsp;&nbsp;</span>連続分布における確率変数の分散</a></span></li><li><span><a href=\"#問題:-正規分布モデルによる他の分布の最良近似\" data-toc-modified-id=\"問題:-正規分布モデルによる他の分布の最良近似-5.14\"><span class=\"toc-item-num\">5.14&nbsp;&nbsp;</span>問題: 正規分布モデルによる他の分布の最良近似</a></span></li><li><span><a href=\"#確率変数の一次函数による変換(アフィン変換)の期待値と分散\" data-toc-modified-id=\"確率変数の一次函数による変換(アフィン変換)の期待値と分散-5.15\"><span class=\"toc-item-num\">5.15&nbsp;&nbsp;</span>確率変数の一次函数による変換(アフィン変換)の期待値と分散</a></span></li><li><span><a href=\"#分布のアフィン変換,-スケール変換,-平行移動,-逆数の定義\" data-toc-modified-id=\"分布のアフィン変換,-スケール変換,-平行移動,-逆数の定義-5.16\"><span class=\"toc-item-num\">5.16&nbsp;&nbsp;</span>分布のアフィン変換, スケール変換, 平行移動, 逆数の定義</a></span></li><li><span><a href=\"#確率変数の累積分布函数\" data-toc-modified-id=\"確率変数の累積分布函数-5.17\"><span class=\"toc-item-num\">5.17&nbsp;&nbsp;</span>確率変数の累積分布函数</a></span></li><li><span><a href=\"#分位点函数-(quantile-function)\" data-toc-modified-id=\"分位点函数-(quantile-function)-5.18\"><span class=\"toc-item-num\">5.18&nbsp;&nbsp;</span>分位点函数 (quantile function)</a></span></li><li><span><a href=\"#Bernoulli分布の累積分布函数\" data-toc-modified-id=\"Bernoulli分布の累積分布函数-5.19\"><span class=\"toc-item-num\">5.19&nbsp;&nbsp;</span>Bernoulli分布の累積分布函数</a></span></li><li><span><a href=\"#カテゴリカル分布の累積分布函数\" data-toc-modified-id=\"カテゴリカル分布の累積分布函数-5.20\"><span class=\"toc-item-num\">5.20&nbsp;&nbsp;</span>カテゴリカル分布の累積分布函数</a></span></li><li><span><a href=\"#二項分布の累積分布函数のグラフ\" data-toc-modified-id=\"二項分布の累積分布函数のグラフ-5.21\"><span class=\"toc-item-num\">5.21&nbsp;&nbsp;</span>二項分布の累積分布函数のグラフ</a></span></li><li><span><a href=\"#負の二項分布の累積分布函数のグラフ\" data-toc-modified-id=\"負の二項分布の累積分布函数のグラフ-5.22\"><span class=\"toc-item-num\">5.22&nbsp;&nbsp;</span>負の二項分布の累積分布函数のグラフ</a></span></li><li><span><a href=\"#一様分布の累積分布函数\" data-toc-modified-id=\"一様分布の累積分布函数-5.23\"><span class=\"toc-item-num\">5.23&nbsp;&nbsp;</span>一様分布の累積分布函数</a></span></li><li><span><a href=\"#標準正規分布の累積分布函数と分位点函数\" data-toc-modified-id=\"標準正規分布の累積分布函数と分位点函数-5.24\"><span class=\"toc-item-num\">5.24&nbsp;&nbsp;</span>標準正規分布の累積分布函数と分位点函数</a></span></li><li><span><a href=\"#問題:-標準正規分布の四分位数\" data-toc-modified-id=\"問題:-標準正規分布の四分位数-5.25\"><span class=\"toc-item-num\">5.25&nbsp;&nbsp;</span>問題: 標準正規分布の四分位数</a></span></li><li><span><a href=\"#問題:-連続分布の累積分布函数は一様分布に従う.\" data-toc-modified-id=\"問題:-連続分布の累積分布函数は一様分布に従う.-5.26\"><span class=\"toc-item-num\">5.26&nbsp;&nbsp;</span>問題: 連続分布の累積分布函数は一様分布に従う.</a></span></li><li><span><a href=\"#分位点函数への一様乱数の代入で元の分布の乱数を作れること\" data-toc-modified-id=\"分位点函数への一様乱数の代入で元の分布の乱数を作れること-5.27\"><span class=\"toc-item-num\">5.27&nbsp;&nbsp;</span>分位点函数への一様乱数の代入で元の分布の乱数を作れること</a></span></li><li><span><a href=\"#一様分布の期待値と分散\" data-toc-modified-id=\"一様分布の期待値と分散-5.28\"><span class=\"toc-item-num\">5.28&nbsp;&nbsp;</span>一様分布の期待値と分散</a></span></li><li><span><a href=\"#標準正規分布の期待値と分散\" data-toc-modified-id=\"標準正規分布の期待値と分散-5.29\"><span class=\"toc-item-num\">5.29&nbsp;&nbsp;</span>標準正規分布の期待値と分散</a></span></li><li><span><a href=\"#一様乱数の生成の繰り返しの分布\" data-toc-modified-id=\"一様乱数の生成の繰り返しの分布-5.30\"><span class=\"toc-item-num\">5.30&nbsp;&nbsp;</span>一様乱数の生成の繰り返しの分布</a></span></li></ul></li></ul></div>"
   ]
  },
  {
   "cell_type": "markdown",
   "id": "d14a88a9",
   "metadata": {},
   "source": [
    "## WolframAlphaの使い方\n",
    "\n",
    "[WolframAlpha](https://www.wolframalpha.com/)を利用すれば以下のような計算が可能である.  例えば,\n",
    "\n",
    "$$\n",
    "(10000 - 2020)^2 \\cdot 0.1 + (3000 - 2020)^2 \\cdot 0.2 + (1000 - 2020)^2 \\cdot 0.3 + (300 - 2020)^2 \\cdot 0.4\n",
    "$$\n",
    "\n",
    "は次のように入力すれば計算できる:\n",
    "\n",
    "* [(10000 - 2020)^2 0.1 + (3000 - 2020)^2 0.2 + (1000 - 2020)^2 0.3 + (300 - 2020)^2 0.4](https://www.wolframalpha.com/input?i=%2810000+-+2020%29%5E2+0.1+%2B+%283000+-+2020%29%5E2+0.2+%2B+%281000+-+2020%29%5E2+0.3+%2B+%28300+-+2020%29%5E2+0.4)\n",
    "\n",
    "二項係数を含む式\n",
    "\n",
    "$$\n",
    "\\sum_{k=5}^{300} \\binom{300}{k} 0.01^k (1 - 0.01)^{300-k}\n",
    "$$\n",
    "\n",
    "は次のように入力すれば計算できる:\n",
    "\n",
    "* [sum_{k=5}^{300} binom(300, k) 0.01^k (1 - 0.01)^(300-k)](https://www.wolframalpha.com/input?i=sum_%7Bk%3D5%7D%5E%7B300%7D+binom%28300%2C+k%29+0.01%5Ek+%281+-+0.01%29%5E%28300-k%29)\n",
    "\n",
    "これは当たりが出る確率が1%のガチャを300回まわしたときに幸運にも当たりが5回以上出る確率になっている.\n",
    "\n",
    "積分\n",
    "\n",
    "$$\n",
    "2\\int_{1.96}^\\infty \\frac{\\exp(-x^2/2)}{\\sqrt{2\\pi}}\\,dx\n",
    "$$\n",
    "\n",
    "は次のように入力すれば計算できる:\n",
    "\n",
    "* [2 int_{1.96}^{infty} exp(-x^2/2)/sqrt(2π) dx](https://www.wolframalpha.com/input?i=2+int_%7B1.96%7D%5E%7Binfty%7D+exp%28-x%5E2%2F2%29%2Fsqrt%282%CF%80%29+dx)\n",
    "\n",
    "これはほぼ $5\\% = 0.05$ になる.\n",
    "\n",
    "統計学での練習問題を解くためにはこの手の計算を何らかの手段でできるようになっておく必要がある."
   ]
  },
  {
   "cell_type": "code",
   "execution_count": 1,
   "id": "e4bbfb9a",
   "metadata": {},
   "outputs": [],
   "source": [
    "ENV[\"LINES\"], ENV[\"COLUMNS\"] = 100, 100\n",
    "using BenchmarkTools\n",
    "using Distributions\n",
    "using Printf\n",
    "using QuadGK\n",
    "using Random\n",
    "Random.seed!(4649373)\n",
    "using Roots\n",
    "using SpecialFunctions\n",
    "using StaticArrays\n",
    "using StatsBase\n",
    "using StatsFuns\n",
    "using StatsPlots\n",
    "default(fmt = :png, titlefontsize = 10, size = (400, 250))\n",
    "using SymPy"
   ]
  },
  {
   "cell_type": "code",
   "execution_count": 2,
   "id": "75d4fda2",
   "metadata": {},
   "outputs": [],
   "source": [
    "# Override the Base.show definition of SymPy.jl:\n",
    "# https://github.com/JuliaPy/SymPy.jl/blob/29c5bfd1d10ac53014fa7fef468bc8deccadc2fc/src/types.jl#L87-L105\n",
    "\n",
    "@eval SymPy function Base.show(io::IO, ::MIME\"text/latex\", x::SymbolicObject)\n",
    "    print(io, as_markdown(\"\\\\displaystyle \" * sympy.latex(x, mode=\"plain\", fold_short_frac=false)))\n",
    "end\n",
    "@eval SymPy function Base.show(io::IO, ::MIME\"text/latex\", x::AbstractArray{Sym})\n",
    "    function toeqnarray(x::Vector{Sym})\n",
    "        a = join([\"\\\\displaystyle \" * sympy.latex(x[i]) for i in 1:length(x)], \"\\\\\\\\\")\n",
    "        \"\"\"\\\\left[ \\\\begin{array}{r}$a\\\\end{array} \\\\right]\"\"\"\n",
    "    end\n",
    "    function toeqnarray(x::AbstractArray{Sym,2})\n",
    "        sz = size(x)\n",
    "        a = join([join(\"\\\\displaystyle \" .* map(sympy.latex, x[i,:]), \"&\") for i in 1:sz[1]], \"\\\\\\\\\")\n",
    "        \"\\\\left[ \\\\begin{array}{\" * repeat(\"r\",sz[2]) * \"}\" * a * \"\\\\end{array}\\\\right]\"\n",
    "    end\n",
    "    print(io, as_markdown(toeqnarray(x)))\n",
    "end"
   ]
  },
  {
   "cell_type": "markdown",
   "id": "0bcb954b",
   "metadata": {},
   "source": [
    "## 一様乱数の生成の繰り返し"
   ]
  },
  {
   "cell_type": "markdown",
   "id": "16ae8ef8",
   "metadata": {},
   "source": [
    "__確率変数__ の理解に向けて, コンピュータでの `rand()` 函数について説明する.\n",
    "\n",
    "0以上1未満の区間上の一様分布の(擬似)乱数(以下ではこれを __一様乱数__ と短く呼ぶことにする)を10個生成すると以下のようになる."
   ]
  },
  {
   "cell_type": "code",
   "execution_count": 3,
   "id": "6f6eadfa",
   "metadata": {},
   "outputs": [
    {
     "data": {
      "text/plain": [
       "10-element Vector{Float64}:\n",
       " 0.5105030210947423\n",
       " 0.13229885279256504\n",
       " 0.05873542170272006\n",
       " 0.742812017444488\n",
       " 0.8417141593154808\n",
       " 0.44238748406950934\n",
       " 0.5002487759410339\n",
       " 0.7049642022880609\n",
       " 0.6687158029467306\n",
       " 0.7672724745322447"
      ]
     },
     "execution_count": 3,
     "metadata": {},
     "output_type": "execute_result"
    }
   ],
   "source": [
    "[rand() for _ in 1:10]"
   ]
  },
  {
   "cell_type": "markdown",
   "id": "77ced0c8",
   "metadata": {},
   "source": [
    "コンピュータでの `rand()` は __値がランダムに決まる量という意味での確率変数__ のわかりやすい例になっていると思える.　"
   ]
  },
  {
   "cell_type": "markdown",
   "id": "0c343d67",
   "metadata": {},
   "source": [
    "上と同じ結果を与えるコードは次のようにもっとシンプルに書ける."
   ]
  },
  {
   "cell_type": "code",
   "execution_count": 4,
   "id": "e9757626",
   "metadata": {},
   "outputs": [
    {
     "data": {
      "text/plain": [
       "10-element Vector{Float64}:\n",
       " 0.7702439301833676\n",
       " 0.6263555234233755\n",
       " 0.4983977148383013\n",
       " 0.6011722501239075\n",
       " 0.18013689329541094\n",
       " 0.37632266071643605\n",
       " 0.13414398433355734\n",
       " 0.9652043335626921\n",
       " 0.7352525630207614\n",
       " 0.23381276022709152"
      ]
     },
     "execution_count": 4,
     "metadata": {},
     "output_type": "execute_result"
    }
   ],
   "source": [
    "rand(10)"
   ]
  },
  {
   "cell_type": "markdown",
   "id": "e332e78b",
   "metadata": {},
   "source": [
    "## Bernoulli試行\n",
    "\n",
    "確率 $p$ で $1$ を, 確率 $1-p$ で $0$ をランダムに毎回独立に生成することの繰り返しを __Bernoulli試行__ (ベルヌーイ試行, ベルヌイ試行)と呼ぶ.\n",
    "\n",
    "Bernoulli試行は上で説明した `rand()` の繰り返しに似ており, 乱数の値が $1$ と $0$ しかない場合の乱数列生成だとみなされる."
   ]
  },
  {
   "cell_type": "code",
   "execution_count": 5,
   "id": "cd5e7721",
   "metadata": {},
   "outputs": [
    {
     "name": "stdout",
     "output_type": "stream",
     "text": [
      "rand(Bernoulli(0.3), 20) = Bool[0, 0, 1, 0, 1, 0, 0, 1, 0, 0, 0, 0, 1, 0, 0, 0, 0, 0, 0, 1]\n"
     ]
    }
   ],
   "source": [
    "@show rand(Bernoulli(0.3), 20);"
   ]
  },
  {
   "cell_type": "markdown",
   "id": "6551402f",
   "metadata": {},
   "source": [
    "これは $1$ が生成される確率が $p = 0.3$ で試行回数が $n = 20$ のBernoulli試行の例であり, この場合には生成された $1$ の個数の方が $0$ の個数より少なくなっている.\n",
    "\n",
    "乱数の出目が大幅に偏っていれば $1$ の個数の方が多くなることもありえる.  $1$ が生成される確率が $p = 0.3$ で試行回数が $n = 20$ のBernoulli試行で生成された $1$ の個数が $10$ より大きくなる確率は約 $1.7\\%$ になる."
   ]
  },
  {
   "cell_type": "code",
   "execution_count": 6,
   "id": "d285120f",
   "metadata": {},
   "outputs": [
    {
     "data": {
      "text/plain": [
       "0.017144816431258425"
      ]
     },
     "execution_count": 6,
     "metadata": {},
     "output_type": "execute_result"
    }
   ],
   "source": [
    "ccdf(Binomial(20, 0.3), 10)"
   ]
  },
  {
   "cell_type": "markdown",
   "id": "db6d89ab",
   "metadata": {},
   "source": [
    "0以上1未満の乱数生成を繰り返して, 乱数の値が $p$ 未満(以下でもよい)ならば $1$ を生成し, $p$ 以上(より大きいでもよい)のとき $0$ を生成することにしてもBernoulli試行が得られる."
   ]
  },
  {
   "cell_type": "code",
   "execution_count": 7,
   "id": "5f5e6e21",
   "metadata": {},
   "outputs": [
    {
     "name": "stdout",
     "output_type": "stream",
     "text": [
      "0.7086835170539888\n",
      "0.3129878077458778\n",
      "0.4432299124211534\n",
      "0.6380100590067396\n",
      "0.7457553759007464\n",
      "0.0042479988608554\n",
      "0.4282692167397828\n",
      "0.2591080281694401\n",
      "0.6056891396222264\n",
      "0.4718831513039459\n",
      "0.2359750577106341\n",
      "0.3658417371594386\n",
      "0.4169159761488047\n",
      "0.2234702295437706\n",
      "0.2267949185649013\n",
      "0.1054052960574101\n",
      "0.5401955636162634\n",
      "0.3620455865151407\n",
      "0.9332297268604005\n",
      "0.1009962782059489\n"
     ]
    }
   ],
   "source": [
    "T = rand(20)\n",
    "for i in eachindex(T) @printf \"%.16f\\n\" T[i] end"
   ]
  },
  {
   "cell_type": "markdown",
   "id": "aad8708b",
   "metadata": {},
   "source": [
    "以下の計算では $T$ の成分が $p = 0.3$ 未満のときに $1$ に, それ以外のときに $0$ に変換している.  これによって, 一様乱数列からBernoulli試行が得られる."
   ]
  },
  {
   "cell_type": "code",
   "execution_count": 8,
   "id": "522f3c9d",
   "metadata": {},
   "outputs": [
    {
     "name": "stdout",
     "output_type": "stream",
     "text": [
      "0.7086835170539888 → 0\n",
      "0.3129878077458778 → 0\n",
      "0.4432299124211534 → 0\n",
      "0.6380100590067396 → 0\n",
      "0.7457553759007464 → 0\n",
      "0.0042479988608554 → 1\n",
      "0.4282692167397828 → 0\n",
      "0.2591080281694401 → 1\n",
      "0.6056891396222264 → 0\n",
      "0.4718831513039459 → 0\n",
      "0.2359750577106341 → 1\n",
      "0.3658417371594386 → 0\n",
      "0.4169159761488047 → 0\n",
      "0.2234702295437706 → 1\n",
      "0.2267949185649013 → 1\n",
      "0.1054052960574101 → 1\n",
      "0.5401955636162634 → 0\n",
      "0.3620455865151407 → 0\n",
      "0.9332297268604005 → 0\n",
      "0.1009962782059489 → 1\n"
     ]
    }
   ],
   "source": [
    "X = [t < 0.3 ? 1 : 0 for t in T]\n",
    "for i in eachindex(T) @printf \"%.16f → %d\\n\" T[i] X[i] end"
   ]
  },
  {
   "cell_type": "markdown",
   "id": "7be60c19",
   "metadata": {},
   "source": [
    "Bernoulli試行に限らず, 何らかの確率分布に従う乱数の生成の独立試行は, 0以上1未満の一様乱数の生成を経由して作ることができる.  その意味でコンピュータでのプログラミングでおなじみの `rand()` 函数は基本的である."
   ]
  },
  {
   "cell_type": "markdown",
   "id": "a747748c",
   "metadata": {},
   "source": [
    "毎回同確率で当たりが出るくじを繰り返し引くことは, 当たりのときに $1$, 外れのときに0とすれば, Bernoulli試行モデルで記述できることの例になっている. "
   ]
  },
  {
   "cell_type": "code",
   "execution_count": 9,
   "id": "38af5376",
   "metadata": {},
   "outputs": [
    {
     "name": "stdout",
     "output_type": "stream",
     "text": [
      "0.7086835170539888 → 0 → 外れ\n",
      "0.3129878077458778 → 0 → 外れ\n",
      "0.4432299124211534 → 0 → 外れ\n",
      "0.6380100590067396 → 0 → 外れ\n",
      "0.7457553759007464 → 0 → 外れ\n",
      "0.0042479988608554 → 1 → 当たり\n",
      "0.4282692167397828 → 0 → 外れ\n",
      "0.2591080281694401 → 1 → 当たり\n",
      "0.6056891396222264 → 0 → 外れ\n",
      "0.4718831513039459 → 0 → 外れ\n",
      "0.2359750577106341 → 1 → 当たり\n",
      "0.3658417371594386 → 0 → 外れ\n",
      "0.4169159761488047 → 0 → 外れ\n",
      "0.2234702295437706 → 1 → 当たり\n",
      "0.2267949185649013 → 1 → 当たり\n",
      "0.1054052960574101 → 1 → 当たり\n",
      "0.5401955636162634 → 0 → 外れ\n",
      "0.3620455865151407 → 0 → 外れ\n",
      "0.9332297268604005 → 0 → 外れ\n",
      "0.1009962782059489 → 1 → 当たり\n"
     ]
    }
   ],
   "source": [
    "AH = [x == 1 ? \"当たり\" : \"外れ\" for x in X]\n",
    "for i in eachindex(T) @printf \"%.16f → %d → %s\\n\" T[i] X[i] AH[i] end"
   ]
  },
  {
   "cell_type": "markdown",
   "id": "a67b8946",
   "metadata": {},
   "source": [
    "ビジネス分野では, 「広告を見てくれる」「リンクをクリックしてくれる」「商品を購入してくれる」などが「当たり」の例として扱われたりする.\n",
    "\n",
    "現実の統計分析でBernoulli試行モデルを使う場合には, 「当たり」がよいことばかりとは限らない.  たとえば, 「病気になる」「死ぬ」「事故が起きる」「機器が壊れる」などもBernoulli試行モデルで扱われる場合がある. \n",
    "\n",
    "現実への応用において, Bernoulli試行モデルはある処置によって生じる「当たり」が出る確率の変化を推定するために使われることが多い.\n",
    "\n",
    "例えば, 「薬を飲むと病気になる確率が減るか？」とか「ウェブサイトの構成を変えると商品を買ってもらえる確率が上がるか？」などが問題になる.\n",
    "\n",
    "しかし, Bernoulli試行モデルにおける「すべての場合に同じ確率で独立に当たりまたは外れが生成される」という条件は相当に強い仮定になっており, 多くの場合には非現実的であり, 現実への応用では様々な工夫が必要になる.\n",
    "\n",
    "統計分析のために用いられる __統計モデルは現実にはぴったり一致していない__ と考えた方がよい. 以下ではこの点について誤解を招きかねない単純化を行う場合が多いので注意して欲しい.  多くの入門的教科書では __統計モデルは現実にはぴったり一致していない__ という実践的に非常に重要なことが強調されていないことが多いので注意が必要である."
   ]
  },
  {
   "cell_type": "markdown",
   "id": "3b44875e",
   "metadata": {},
   "source": [
    "## 離散分布"
   ]
  },
  {
   "cell_type": "markdown",
   "id": "dc089331",
   "metadata": {},
   "source": [
    "### 離散分布と確率質量函数\n",
    "\n",
    "以下, $a_i$ 達は互いに異なると仮定する.\n",
    "\n",
    "有限集合 $\\{a_1, a_2, \\ldots, a_r\\}$ もしくは可算集合 $\\{a_1, a_2, a_3, \\ldots\\}$ 上の __離散確率分布__ (discrete probability distribution)もしくは __離散分布__ (discrete distribution)とは, 0以上の有限個の実数達 $p_1, p_2, \\ldots, p_r$ もしくは0以上の可算個の実数達 $p_1, p_2, p_3, \\ldots$ で総和が $1$ になるものであると定める:\n",
    "\n",
    "$$\n",
    "p_i \\ge 0, \\quad \\sum_i p_i = 1.\n",
    "$$\n",
    "\n",
    "確率分布を単に分布と呼ぶことがよくある.\n",
    "\n",
    "そのとき, $a_i$ を $p_i$ に対応させる函数 $P(a)$ をその離散分布の __確率質量函数__ (probability mass function, pmf)と呼ぶ:\n",
    "\n",
    "$$\n",
    "P(a_1) = p_1, \\;\n",
    "P(a_2) = p_3, \\;\n",
    "P(a_3) = p_3, \\;\n",
    "\\ldots\n",
    "$$\n",
    "\n",
    "このとき,\n",
    "\n",
    "$$\n",
    "P(a_i) \\ge 0, \\quad \\sum_i P(a_i) = 1.\n",
    "$$\n",
    "\n",
    "離散分布を与えることは確率質量函数を与えることに等しい.  以下では主に確率質量函数を与えることによって離散分布を構成する.\n",
    "\n",
    "直観的には各 $P(a_i) = p_i$ はこの離散分布に従う乱数において値 $a_i$ が確率 $P(a_i) = p_i$ で生成されることを意味すると考える.\n",
    "\n",
    "しかし, 実際の数学的取り扱いでは乱数の「ランダム性」には触れずに単なる「確率の値の表」として\n",
    "\n",
    "$$\n",
    "\\begin{array}{|c|cccc|}\n",
    "\\hline\n",
    "x & a_1 & a_2 & a_3 & \\cdots \\\\\n",
    "\\hline\n",
    "P(x) & P(a_1) & P(a_2) & P(a_3) & \\cdots \\\\\n",
    "\\hline\n",
    "\\end{array}\n",
    "$$\n",
    "\n",
    "を扱うことになる.\n",
    "\n",
    "__以下で使いまわすルーレットの例:__ 例えば, $1,2,3,4$ の値が確率それぞれ $0.1, 0.2, 0.3, 0.4$ で出るルーレットは,\n",
    "\n",
    "$$\n",
    "\\begin{array}{|c|cccc|}\n",
    "\\hline\n",
    "x & 1 & 2 & 3 & 4 \\\\\n",
    "\\hline\n",
    "P(x) & 0.1 & 0.2 & 0.3 & 0.4 \\\\\n",
    "\\hline\n",
    "\\end{array}\n",
    "$$\n",
    "\n",
    "という確率の値の表で定まる離散分布で自然にモデル化される."
   ]
  },
  {
   "cell_type": "markdown",
   "id": "855bbd17",
   "metadata": {},
   "source": [
    "### 離散確率変数\n",
    "\n",
    "__離散確率変数__ (discrete random variable)とは, 確率質量函数 $P(x)$ が与えられた有限集合 $\\{a_1, a_2, \\ldots, a_r\\}$ または可算集合 $\\{a_1, a_2, a_3, \\ldots\\}$ 上の __実数値函数__ のことであると定める. (後で, 有限集合や可算集合上の函数でなくても, 取り得る値全体の集合が有限集合や離散的な可算集合になるような確率変数も離散確率変数と呼ぶことになるが, 現時点ではそういう細かいことを気にする必要はない.)\n",
    "\n",
    "実際には, 複素数値の確率変数やベクトルや行列に値を持つ確率変数も考えることがある. そのような場合には, __複素数値確率変数__, __ベクトル値確率変数__, __行列値確率変数__ などと呼ぶことにする.\n",
    "\n",
    "函数のことを「変数」と呼ぶことに違和感を覚える人がいるかもしれないが, 直観的には確率変数を「ランダムに値が決まる変数」とみなしたい場合も多いので「変数」という呼び方もそう悪くない.\n",
    "\n",
    "以下では, 有限集合 $\\{a_1, a_2, \\ldots, a_r\\}$ または可算集合 $\\{a_1, a_2, a_3, \\ldots\\}$ は $\\R$ の部分集合である場合について考える.\n",
    "\n",
    "確率質量函数 $P(x)$ が与えられていると仮定する. このとき, $x=a_i$ に実数の $x=a_i$ 自身を対応させる函数として定義される確率変数を $X$ と書き, __確率質量函数 P(x) を持つ離散確率変数__ と呼ぶ:\n",
    "\n",
    "$$\n",
    "X : x = a_i \\mapsto x = a_i.\n",
    "$$\n",
    "\n",
    "このとき,\n",
    "\n",
    "$$\n",
    "X \\sim P(x)\n",
    "$$\n",
    "\n",
    "という書き方をすることがある.  さらに, その確率質量函数で与えられる離散分布に $\\op{Dist}$ という名前が付けられているとき, $X$ は __分布 $\\op{Dist}$ に従う確率変数__ であるともいい,\n",
    "\n",
    "$$\n",
    "X \\sim \\op{Dist}\n",
    "$$\n",
    "\n",
    "という書き方をすることがある.  「分布～に従う確率変数」は \"random variable following distribution ～\" の翻訳になっている.  $X \\sim \\op{Dist}$ のような表記は確率分布による統計モデルをコンピュータで実装するために使われている確率プログラミング言語での採用されている記号法でもある.\n",
    "\n",
    "__確率変数は大文字で表すことが多く, 大文字で書かれた確率変数に対応する通常の変数を対応する小文字で表すことが多い.__ この対応は絶対ではないが, ある程度守っておくと, 記号を読み易くなる場合がある.\n",
    "\n",
    "例えば, $1,2,3,4$ の値が確率それぞれ $0.1, 0.2, 0.3, 0.4$ で出るルーレットのモデル化の離散分布において, 集合 $\\{1,2,3,4\\}$ 上の任意の実数値函数は離散確率変数になる. \n",
    "\n",
    "$x = 1,2,3,4$ のそれぞれにその値自身 $x\\in\\R$ を対応させる函数が定める確率変数を $X$ と書くことにする. この $X$ は確率質量函数 $P(x) = 0.1x$ ($x=1,2,3,4$) を持つ離散確率変数である. \n",
    "\n",
    "直観的には, この確率変数 $X$ の値はランダムに決まり, その値は確率 $0.1,0.2,0.3,0.4$ でそれぞれ $1,2,3,4$ になると考える.  (これはあくまでも直観的な解釈であり, 確率変数は数学的には単なる函数に過ぎない.)\n",
    "\n",
    "$x\\in\\{1,2,3,4\\}$ を実数 $f(x)\\in\\R$ に対応させる函数も離散確率変数になる. その確率変数を $f(X)$ と表す.\n",
    "\n",
    "直観的には, 確率変数 $f(X)$ の値はランダムに決まり, その値は確率 $0.1,0.2,0.3,0.4$ でそれぞれ $f(1), f(2), f(3), f(4)$ になると考える.  \n",
    "\n",
    "一般に確率変数 $X$ の函数 $f(X)$ も確率変数になると考えてよい.  (変数の値がランダムに決まるとき, その変数の函数の値もランダムに決まる.  値がランダムに決まると考えたくなるものを確率変数と呼ぶ習慣になっている.)"
   ]
  },
  {
   "cell_type": "markdown",
   "id": "da7666b8",
   "metadata": {},
   "source": [
    "### 離散確率変数の期待値\n",
    "\n",
    "確率変数の最も重要な性質はその期待値が定義されることである.  __確率変数の定義を期待値が定義されている変数(のようなもの)のことだと思ってもよい.__  それくらい期待値の概念は確率変数の理解において基本的である.\n",
    "\n",
    "確率質量函数 $P(x)$ が定められた有限集合 $\\{a_1, a_2, \\ldots, a_r\\}$ または可算集合 $\\{a_1, a_2, a_3, \\ldots\\}$ 上の函数 $f(x)$ が定める離散確率変数を $f(X)$ と書くのであった.  このとき, 離散確率変数 $f(X)$ の __期待値__(expectation value) $E[f(X)]$ が次のように定義される:\n",
    "\n",
    "$$\n",
    "E[f(X)] = \\sum_i f(a_i)P(a_i).\n",
    "$$\n",
    "\n",
    "この和が無限和になる場合には絶対値の期待値 $E[|f(X)|] = \\sum_i |f(a_i)|P(a_i)$ が有限の値に収束するとき(すなわち絶対収束するとき)にのみ, 期待値 $E[f(X)] = \\sum_i f(a_i)P(a_i)$ が定義されていると考える. (これ以後, こういう細かい話は略す.)\n",
    "\n",
    "$X$ の従う分布の名前が $\\op{Dist}$ のとき $E[X]$ を __分布 $\\op{Dist}$ の期待値__ と呼ぶ.\n",
    "\n",
    "確率変数の期待値を __平均__ または __平均値__ と呼ぶこともあるが, あとで定義する標本の平均値とは区別する必要がある.  混乱しないためには常に「確率変数の平均(期待値)」「標本の平均」のように「～の平均」という言い方をすればよいだろう.\n",
    "\n",
    "例えば, 上のルーレットの例では,\n",
    "\n",
    "$$\n",
    "\\begin{aligned}\n",
    "& E[X] = 1\\cdot 0.1 + 2\\cdot 0.2 + 3\\cdot 0.3 + 4\\cdot 0.4 = 3, \\\\\n",
    "& E[f(X)] = f(1)\\cdot 0.1 + f(2)\\cdot 0.2 + f(3)\\cdot 0.3 + f(4)\\cdot 0.4\n",
    "\\end{aligned}\n",
    "$$\n",
    "\n",
    "上のルーレットの例で, $1,2,3,4$ の値が出たときに得られる賞金の額がそれぞれ10000円, 3000円, 1000円, 300円のとき, 賞金は次の確率変数 $g(X)$ でモデル化される:\n",
    "\n",
    "$$\n",
    "g(1) = 10000, \\quad\n",
    "g(2) = 3000, \\quad\n",
    "g(3) = 1000, \\quad\n",
    "g(4) = 300.\n",
    "$$\n",
    "\n",
    "このとき, 賞金 $g(X)$ の期待値は次のように2020円だと計算される:\n",
    "\n",
    "$$\n",
    "\\begin{aligned}\n",
    "E[g(X)] &=\n",
    "g(1)P(1) + g(2)P(2) + g(3)P(3) + g(4)P(4)\n",
    "\\\\ & =\n",
    "10000\\cdot 0.1 + 3000\\cdot 0.2 + 1000\\cdot 0.3 + 300\\cdot 0.4\n",
    "\\\\ & =\n",
    "1000 + 600 + 300 + 120 = 2020.\n",
    "\\end{aligned}\n",
    "$$"
   ]
  },
  {
   "cell_type": "markdown",
   "id": "1c287bda",
   "metadata": {},
   "source": [
    "### 離散確率変数の期待値を取る操作の基本性質\n",
    "\n",
    "確率変数の期待値を取る操作(__期待値汎函数__) $f(X) \\mapsto E[f(X)]$ は以下の性質を満たしている.\n",
    "\n",
    "* 線形性: $E[\\alpha f(X) + \\beta g(X)] = \\alpha E[f(X)] + \\beta E[g(X)]$.\n",
    "* 単調性: 任意の $x = a_i$ について $f(x)\\le g(x)$ が成立しているならば, $E[f(X)]\\le E[g(X)]$.\n",
    "* 規格化条件: $E[\\alpha] = \\alpha$.  (定数 $\\alpha$ の期待値は $\\alpha$. 特に $E[1]=1$).\n",
    "\n",
    "__証明:__ 確率変数 $f(X), g(X)$ と定数 $\\alpha,\\beta$ について,\n",
    "\n",
    "$$\n",
    "\\begin{aligned}\n",
    "E[\\alpha f(X) + \\beta g(X)] &=\n",
    "\\sum_i(\\alpha f(a_i) + \\beta g(a_i))P(a_i)\n",
    "\\\\ &= \n",
    "\\alpha \\sum_i f(a_i)P(a_i) + \\beta \\sum_i g(a_i)P(a_i) =\n",
    "\\alpha E[f(X)] + \\beta E[g(X)]\n",
    "\\end{aligned}\n",
    "$$\n",
    "\n",
    "任意の $x = a_i$ について $f(x)\\le g(x)$ が成立していると仮定すると, $P(a_i)\\ge 0$ なので,\n",
    "$$\n",
    "E[f(X)] = \\sum_i f(a_i)P(a_i) \\le \\sum_i g(a_i)P(a_i) = E[g(X)].\n",
    "$$\n",
    "\n",
    "定数 $\\alpha$ を定数確率変数とみなすと, $\\sum_i P(a_i) = 1$ なので,\n",
    "$$\n",
    "E[\\alpha] = \\sum_i \\alpha P(a_i) = \\alpha \\sum_i P(a_i) = \\alpha.\n",
    "$$\n",
    "\n",
    "__証明終.__\n",
    "\n",
    "__重要:__ 確率変数に関する多くの計算は上で説明した期待値を取る操作の基本性質のみを使って実行可能なことが多い.  統計学がらみの理論的計算に習熟したいならば, $E[\\;]$ を使った計算の習熟を最初の目標にして勉強するとよいだろう.  以下で説明するように確率変数に関する確率も $E[\\;]$ を使って計算可能である."
   ]
  },
  {
   "cell_type": "markdown",
   "id": "e8ea49a1",
   "metadata": {},
   "source": [
    "### 確率変数の一般的な定義\n",
    "\n",
    "ここで離散とは限らない一般の確率変数を少々大雑把なスタイルで定義しておこう.\n",
    "\n",
    "変数 $X$ が確率変数であるとは, $X$ の函数 $f(X)$ の期待値 $E[f(X)]$ を取る操作が定義されていて, 期待値を取る操作が前節の基本性質を満たしていることだと定める.\n",
    "\n",
    "ただし, $E[|f(X)|]=\\infty$ になる場合には $f(X)$ の期待値はうまく定義されないと考える.\n",
    "\n",
    "確率変数には他にも様々な解釈(定義)の仕方があるが, 統計学で必要な様々な理論的な計算をするときには確率変数とは「その函数の期待値が定義されている変数」のことであると了解しておくと, 様々な議論を楽に理解できることが多い."
   ]
  },
  {
   "cell_type": "markdown",
   "id": "85d11ebd",
   "metadata": {},
   "source": [
    "### 離散確率変数に関する確率\n",
    "\n",
    "$f(X)$ は確率質量函数 $P(x)$ が定められた有限集合 $\\{a_1, a_2, \\ldots, a_r\\}$ または可算集合 $\\{a_1, a_2, a_3, \\ldots\\}$ 上の確率変数であるとする.\n",
    "\n",
    "このとき, 例えば, $c\\le f(X)\\le d$ となる確率 $P(c\\le f(X)\\le d)$ を次のように定める:\n",
    "\n",
    "$$\n",
    "P(c\\le f(X)\\le d) = \\sum_{c\\le f(a_i)\\le d} P(a_i).\n",
    "$$\n",
    "\n",
    "確率変数に関する $c\\le f(X)\\le d$ 以外の条件(例えば $f(X)\\ge c$ や $f(X) < d$ など)の確率も同様に定める.\n",
    "\n",
    "このような確率は, 確率変数 $1_{c\\le f(X)\\le d}(X)$ を, 条件 $c\\le f(x)\\le d$ が成立するときに $1$ になり, 成立していないとき $0$ になる函数として,\n",
    "\n",
    "$$\n",
    "1_{c\\le f(X)\\le d}(x) = \\begin{cases}\n",
    "1 & (c\\le f(x)\\le d) \\\\\n",
    "0 & (\\text{otherwise})\n",
    "\\end{cases}\n",
    "$$\n",
    "\n",
    "と定めると,\n",
    "\n",
    "$$\n",
    "P(c\\le f(X)\\le d) =\n",
    "\\sum_{c\\le f(a_i)\\le d} P(a_i) =\n",
    "\\sum_i 1_{c\\le f(X)\\le d}(a_i)P(a_i) =\n",
    "E[1_{c\\le f(X)\\le d}(X)]\n",
    "$$\n",
    "\n",
    "と期待値で書けるので, 期待値の概念は確率の概念を含んでいるといえる.\n",
    "\n",
    "例えば, 上のルーレットの例において, 賞金が500円以上5000円以下になる確率は $P(500\\le g(X)\\le 5000)$ と書け,\n",
    "\n",
    "$$\n",
    "P(500 \\le g(X) \\le 5000) = 0.2 + 0.3 = 0.5\n",
    "$$\n",
    "\n",
    "となる. さらに,\n",
    "\n",
    "$$\n",
    "1_{500\\le g(x)\\le 5000}(x) = \\begin{cases}\n",
    "1 & (x = 2, 3) \\\\\n",
    "0 & (\\text{otherwise})\n",
    "\\end{cases}\n",
    "$$\n",
    "\n",
    "となるので,\n",
    "\n",
    "$$\n",
    "E[1_{500\\le g(X)\\le 5000}(X)] =\n",
    "\\sum_{i=1}^4 1_{500\\le g(X)\\le 5000}(i)P(i) =\n",
    "0\\cdot 0.1 + 1\\cdot 0.2 + 1\\cdot 0.3 + 0\\cdot 0.4 = 0.5\n",
    "$$\n",
    "\n",
    "となって, 上の結果と一致する."
   ]
  },
  {
   "cell_type": "markdown",
   "id": "00cc72b5",
   "metadata": {},
   "source": [
    "### 離散確率変数の分散と標準偏差\n",
    "\n",
    "離散確率変数 $Y = f(X)$ の期待値を\n",
    "\n",
    "$$\n",
    "\\mu_{Y} = E[Y] = E[f(X)] = \\sum_i f(a_i)P(a_i)\n",
    "$$\n",
    "\n",
    "と書くとき, $Y = f(X)$ の __分散__ (variance) $\\var(Y) = \\var(f(X))$ が次のように定義される:\n",
    "\n",
    "$$\n",
    "\\sigma^2_Y = \\var(Y) = E\\left[(Y - \\mu_{Y})^2\\right] = \\sum_i (f(a_i) - \\mu_Y)^2\\,P(a_i).\n",
    "$$\n",
    "\n",
    "分散の平方根を __標準偏差__ (standard deviation) と呼ぶ.  確率変数 $Y$ の標準偏差を次のように表すことにする:\n",
    "\n",
    "$$\n",
    "\\sigma_Y = \\std(Y) = \\sqrt{\\var(Y)}.\n",
    "$$\n",
    "\n",
    "$a > 0$ のとき, $Y$ を $a$ 倍するとその分散は $a^2$ 倍になるが, 標準偏差ならば $Y$ と同じく $a$ 倍になる.  こういう性質を持っているので $Y$ と直接比較する場合には $Y$ の分散ではなく標準偏差を使った方が便利である.\n",
    "\n",
    "$X$ の従う分布の名前が $\\op{Dist}$ のとき $\\op{var}(X)$ を __分布 $\\op{Dist}$ の分散__ と呼ぶ. (標準偏差についも同様とする.)\n",
    "\n",
    "\n",
    "確率変数の分散や標準偏差は確率変数が従う分布の __広がりの大きさ__, __確率的揺らぎの大きさ__ の指標の1つになっている.  そのような指標の中で __分散と標準偏差は期待値と相性がよい__. \n",
    "\n",
    "__注意:__ 確率変数の期待値(平均)以外の分布の中心を表す値として, 中央値の確率変数版を定義することもでき, 分布の広がりの大きさの指標として, 四分位数の確率変数版を定義することもできる.  期待値(平均)と分散(と標準偏差)の組み合わせと中央値と四分位数の組み合わせは目的と状況に合わせて使い分けるとよいだろう.\n",
    "\n",
    "確率変数の分散については\n",
    "\n",
    "$$\n",
    "\\var(Y) = E[Y^2] - E[Y]^2\n",
    "$$ \n",
    "\n",
    "という公式もよく使われる.  この公式は以下のようにして証明される:\n",
    "\n",
    "$$\n",
    "\\begin{aligned}\n",
    "\\var(Y) &=\n",
    "E\\left[(Y - \\mu_{Y})^2\\right] =\n",
    "E\\left[Y^2 - 2\\mu_Y Y + \\mu_{Y}^2\\right] =\n",
    "E[Y^2] - 2\\mu_Y E[Y] + \\mu_{Y}^2\n",
    "\\\\ & =\n",
    "E[Y^2] - 2\\mu_Y \\mu_Y + \\mu_{Y}^2 =\n",
    "E[Y^2] - \\mu_Y^2 =\n",
    "E[Y^2] - E[Y]^2.\n",
    "\\end{aligned}\n",
    "$$\n",
    "\n",
    "この証明では期待値を取る操作の線形性と規格化条件しか使われていないので, この結果は非常に一般的に成立しており, 後で説明する連続確率変数の分散についても成立している.\n",
    "\n",
    "__注意:__ コンピュータによる浮動小数点演算で分散を実装するときには, $\\var(Y) = E[Y^2] - E[Y]^2$ という公式を使わずに, 分散の定義式 $E\\left[(Y - \\mu_{Y})^2\\right]$ を使って実装した方が良い場合がある.  なぜならば, 浮動小数点演算では大きな数値の差が小さな数値になるとき桁落ちが生じるからである.  同じ程度の大きさの数値の差の計算になり易い $Y - \\mu_Y$ と違って, $E[Y^2] - E[Y]^2$ は大きな数のあいだの差で計算結果が小さな数になる可能性が高いので注意が必要である."
   ]
  },
  {
   "cell_type": "markdown",
   "id": "7dcba37f",
   "metadata": {},
   "source": [
    "### 問題: 期待値と分散の特徴付け\n",
    "\n",
    "$X$ は有限離散分布に従う確率変数であるとし, 実数 $t$ について $f(t) = E[(X - t)^2]$ とおく.  このとき, $f(t)$ を最小化する $t$ の値は $X$ の期待値 $E[X]$ になり, 最小値 $f(E[X])$ は $X$ の分散 $\\var(X)$ になることを示せ.\n",
    "\n",
    "__解答例:__ 期待値を取る操作の基本性質のみを使って示せる.  $\\mu = E[X]$ とおく. このとき,\n",
    "\n",
    "$$\n",
    "(X - t)^2 = ((X - \\mu) - (t - \\mu))^2 = (X - \\mu)^2 - 2(t - \\mu)(X - \\mu) + (t - \\mu)^2\n",
    "$$\n",
    "\n",
    "なので, これに $E[\\;]$ を作用させ, $E[\\;]$ の線形性(足し算と引き算と定数倍を $E[\\;]$ の外に出せること)と規格化条件(定数の期待値はその定数そのものの値になること)および $E[X]=\\mu$, $E[(X-\\mu)^2]=\\var(X)$ を使うと,\n",
    "\n",
    "$$\n",
    "E[(X - t)^2] =\n",
    "E[(X - \\mu)^2] - 2(t - \\mu)(E[X] - \\mu) + (t - \\mu)^2 =\n",
    "\\var(X)  + (t - \\mu)^2.\n",
    "$$\n",
    "\n",
    "これより, $f(t)$ は $t = \\mu = E[X]$ で最小値 $\\var(X)$ になることがわかる.\n",
    "\n",
    "__解答終__\n",
    "\n",
    "__注意:__ 上の証明では期待値を取る操作の基本性質しか使っておらず, $X$ が有限離散分布に従う確率変数であることを使っていない.  上の問題の結果は $X$ が有限離散分布に限らないもっと一般の分布に従っている場合にも成立している.\n",
    "\n",
    "__注意:__ $g(t) = E[|X - t|]$ を最小化する $t$ として確率変数 $X$ の中央値を特徴付けることができる.  ただし, 確率変数の中央値は一般には一意(ただ一つ)には決まらない.  この結果は数学的にそれなりに非自明なので, 数学に自身がある人は確率変数の中央値を自分で適切に定義して, 中央値であることと $g(t)$ を最小化することが同値であることを証明してみよ.  (おそらく初学者にとってこれは難問である.)\n",
    "\n",
    "__注意:__ $a$ を確率変数 $X$ の中央値とするとき, $E[|X - a|]$ は中央値からの距離の期待値になる.  これも確率変数 $X$ の分布の広がりの大きさの指標の1つとして使える.  分散の定義について「どうして2乗するのか?」という質問は非常によくある質問だが, 分布の広がりの大きさの指標は無数にあるので, __分散に特権的な優位性があるわけではない__.  期待値の代わりに中央値を考え, 2乗せずに単なる絶対値を考えるのでもよい.  その他にも中央値と四分位数の組み合わせもよく使われている.  分散や四分位数について教えることが多いのは単によく使われるからである. しかし, 期待値と分散の組み合わせを頻繁に目にする数学的理由もあって, __中心極限定理__ によって正規分布で近似されると考えられる分布が応用上よく現れるという事情がある.\n",
    "\n",
    "__注意:__ 標本(サンプル, データ)の平均や分散や中央値と確率変数(もしくはそれが従う分布)の平均や分散や中央値の概念を統計学では厳密に区別する必要がある.  混乱しないように注意して欲しい.  混乱を防ぐためには単に「平均」「分散」などと言うことを少なめにして, できるだけ「確率変数の平均や分散」「標本の平均や分散」のように「○○の平均や分散」と言うようにすればよいと思う."
   ]
  },
  {
   "cell_type": "markdown",
   "id": "e4b2e3cd",
   "metadata": {},
   "source": [
    "### 問題: 平均二乗誤差のバイアス・バリアンス分解\n",
    "\n",
    "$X$ は確率変数であるとし, その期待値 $\\mu = E[X]$ と分散 $E[(X-\\mu)^2]$ がうまく定義されているとする.  定数 $\\theta$ に対して次が成立することを示せ:\n",
    "\n",
    "$$\n",
    "E[(X - \\theta)^2] = (E[X] - \\theta)^2 + E[(X - \\mu)^2].\n",
    "$$\n",
    "\n",
    "__注意:__ 確率変数 $X$ の実現値を定数 $\\theta$ の推定値とみなす状況において, 左辺の $E[(X - \\theta)^2]$ を推定の __平均二乗誤差__ と呼び, $E[X] - \\theta$ を推定の __バイアス__(bias)と呼び, $E[(X - \\mu)^2]$ を __バリアンス__ (variance, 分散)と呼び, この公式を __平均二乗誤差のバイアス・バリアンス分解__ と呼ぶ.\n",
    "\n",
    "__解答例:__ $(X - \\theta)^2$ の括弧の内側に $0 = -\\mu + E[X] $ を足すと,\n",
    "\n",
    "$$\n",
    "\\begin{aligned}\n",
    "(X - \\theta)^2 &= ((X - \\mu) - (E[X] - \\theta))^2 \n",
    "\\\\ &=\n",
    "(X - \\mu)^2 + 2(E[X] - \\theta)(X - \\mu) + (E[X] + \\theta)^2.\n",
    "\\end{aligned}\n",
    "$$\n",
    "\n",
    "$E[X] - \\theta$ と $(E[X] + \\theta)^2$ が確率変数ではなく, 定数であることに注意しながら, 期待値を取る操作の線形性と規格化条件を使うと,\n",
    "\n",
    "$$\n",
    "\\begin{aligned}\n",
    "(X - \\theta)^2 &=\n",
    "E[(X - \\mu)^2] + 2(E[X] - \\theta)(E[X] - \\mu) + (E[X] - \\theta)^2 \n",
    "\\\\ &=\n",
    "E[(X - \\mu)^2] + (E[X] - \\theta)^2.\n",
    "\\end{aligned}\n",
    "$$\n",
    "\n",
    "たし算の順序を交換すれば欲しい公式が得られる.\n",
    "\n",
    "__解答終__\n",
    "\n",
    "__注意:__ 上の解答例で用いた式の変形は統計学の文脈で数え切れないくらい登場する. 例えば, 前節の問題でもこの方法を用いた."
   ]
  },
  {
   "cell_type": "markdown",
   "id": "c07ddaca",
   "metadata": {},
   "source": [
    "### カテゴリカル分布の定義\n",
    "\n",
    "番号の集合 $\\{1,2,\\ldots,r\\}$ 上の確率質量函数\n",
    "\n",
    "$$\n",
    "P(i) = p_i \\quad (p_1,\\ldots,p_r \\ge 0,\\; p_1+\\cdots+p_r=1)\n",
    "$$\n",
    "\n",
    "が定める有限離散分布を __カテゴリカル分布__ と呼び, 次のように表す:\n",
    "\n",
    "$$\n",
    "\\op{Categorical}(p_1, p_2, \\ldots, p_r).\n",
    "$$\n",
    "\n",
    "確率の表は次のようになる:\n",
    "\n",
    "$$\n",
    "\\begin{array}{|c|cccc|}\n",
    "\\hline\n",
    "x & 1 & 2 & \\cdots & r \\\\\n",
    "\\hline\n",
    "P(x) & p_1 & p_2 & \\cdots & p_r \\\\\n",
    "\\hline\n",
    "\\end{array}\n",
    "$$\n",
    "\n",
    "多項分布の確率質量函数は次のようにも書ける:\n",
    "\n",
    "$$\n",
    "P(i) = p_1^{\\delta_{i1}}\\cdots p_r^{\\delta_{ir}}.\n",
    "$$\n",
    "\n",
    "ここで $\\delta_{ij}$ は $i=j$ のとき $1$ になり, それ以外のとき $0$ になるKroneckerのデルタである."
   ]
  },
  {
   "cell_type": "markdown",
   "id": "d5530d35",
   "metadata": {},
   "source": [
    "`categ = Categorical(0.1, 0.2, 0.3, 0.4)` のとき `rand(categ)` は値が $1,2,3,4$ にそれぞれ確率 $0.1, 0.2, 0.3, 0.4$ でなる確率変数だとみなされる.  (値がランダムに決まる量も確率変数と呼ぶ習慣がある.)  `categ` は上の方で繰り返し使ったルーレットの分布に等しい."
   ]
  },
  {
   "cell_type": "code",
   "execution_count": 10,
   "id": "16ef308c",
   "metadata": {},
   "outputs": [
    {
     "data": {
      "text/plain": [
       "Categorical{Float64, Vector{Float64}}(support=Base.OneTo(4), p=[0.1, 0.2, 0.3, 0.4])"
      ]
     },
     "execution_count": 10,
     "metadata": {},
     "output_type": "execute_result"
    }
   ],
   "source": [
    "categ = Categorical(0.1, 0.2, 0.3, 0.4)"
   ]
  },
  {
   "cell_type": "code",
   "execution_count": 11,
   "id": "4d0b7999",
   "metadata": {},
   "outputs": [
    {
     "name": "stdout",
     "output_type": "stream",
     "text": [
      "rand(categ, 20) = [4, 4, 4, 3, 4, 2, 3, 3, 4, 3, 2, 2, 1, 4, 2, 4, 4, 4, 4, 4]\n"
     ]
    }
   ],
   "source": [
    "@show rand(categ, 20);"
   ]
  },
  {
   "cell_type": "code",
   "execution_count": 12,
   "id": "9ab4519a",
   "metadata": {},
   "outputs": [
    {
     "data": {
      "image/png": "[encoded data removed]"
     },
     "execution_count": 12,
     "metadata": {},
     "output_type": "execute_result"
    }
   ],
   "source": [
    "bar(support(categ), a -> pdf(categ, a); label=\"\", title=\"Categorical(0.1, 0.2, 0.3, 0.4)\", alpha=0.5)"
   ]
  },
  {
   "cell_type": "markdown",
   "id": "fa73ab3d",
   "metadata": {},
   "source": [
    "### 問題: ルーレットの例の賞金の期待値と分散\n",
    "\n",
    "ルーレットの例の分布は $\\op{Categorical}(0.1, 0.2, 0.3, 0.4)$ に等しい.  この分布に従う確率変数を $X$ と書く.  賞金の確率変数 $g(X)$ は\n",
    "\n",
    "$$\n",
    "g(1) = 10000, \\quad\n",
    "g(2) = 3000, \\quad\n",
    "g(3) = 1000, \\quad\n",
    "g(4) = 300, \\quad\n",
    "$$\n",
    "\n",
    "で定義される.  $X$ と $g(X)$ の期待値と分散と標準偏差を求めよ. 整数にならない標準偏差は小数点以下第1桁目まで求めよ.\n",
    "\n",
    "__解答例:__ $X$ の期待値, 分散, 標準偏差はそれぞれ\n",
    "\n",
    "$$\n",
    "\\mu_X = 1, \\quad\n",
    "\\sigma^2_X = 1, \\quad\n",
    "\\sigma_X = 1.\n",
    "$$\n",
    "\n",
    "$g(X)$ の期待値, 分散, 標準偏差はそれぞれ\n",
    "\n",
    "$$\n",
    "\\mu_{g(X)} = 2020, \\quad\n",
    "\\sigma^2_{g(X)} = 8055600, \\quad\n",
    "\\sigma_{g(X)} \\approx 2838.2.\n",
    "$$\n",
    "\n",
    "詳しい計算法については以下を見よ.  以下と同じ数値が得られれば正解である. 浮動小数点計算では小数点以下3桁まで正しければ正解であるとする(四捨五入すること).\n",
    "\n",
    "__解答終__"
   ]
  },
  {
   "cell_type": "markdown",
   "id": "c98ef0c6",
   "metadata": {},
   "source": [
    "$X$ の期待値と分散と標準偏差:"
   ]
  },
  {
   "cell_type": "code",
   "execution_count": 13,
   "id": "b7ec9b3f",
   "metadata": {},
   "outputs": [
    {
     "name": "stdout",
     "output_type": "stream",
     "text": [
      "μ_X = 3.0\n"
     ]
    }
   ],
   "source": [
    "μ_X = 1 * 0.1 + 2 * 0.2 + 3 * 0.3 + 4 * 0.4\n",
    "@show μ_X;"
   ]
  },
  {
   "cell_type": "markdown",
   "id": "3128e37d",
   "metadata": {},
   "source": [
    "$X$ の分散と標準偏差:"
   ]
  },
  {
   "cell_type": "code",
   "execution_count": 14,
   "id": "57252054",
   "metadata": {},
   "outputs": [
    {
     "name": "stdout",
     "output_type": "stream",
     "text": [
      "σ²_X = 1.0\n",
      "σ_X = 1.0\n"
     ]
    }
   ],
   "source": [
    "σ²_X = (1 - 3)^2 * 0.1 + (2 - 3)^2 * 0.2 + (3 - 3)^2 * 0.3 + (4 - 3)^2 * 0.4\n",
    "σ_X = √σ²_X\n",
    "@show σ²_X σ_X;"
   ]
  },
  {
   "cell_type": "markdown",
   "id": "819079c3",
   "metadata": {},
   "source": [
    "$g(X)$ の期待値:"
   ]
  },
  {
   "cell_type": "code",
   "execution_count": 15,
   "id": "c0962721",
   "metadata": {},
   "outputs": [
    {
     "name": "stdout",
     "output_type": "stream",
     "text": [
      "μ_g = 2020\n"
     ]
    }
   ],
   "source": [
    "μ_g = 10000 * 0.1 + 3000 * 0.2 + 1000 * 0.3 + 300 * 0.4 |> Int\n",
    "@show μ_g;"
   ]
  },
  {
   "cell_type": "markdown",
   "id": "bb481efe",
   "metadata": {},
   "source": [
    "$g(X)$ の分散と標準偏差:"
   ]
  },
  {
   "cell_type": "code",
   "execution_count": 16,
   "id": "5e2fae71",
   "metadata": {},
   "outputs": [
    {
     "name": "stdout",
     "output_type": "stream",
     "text": [
      "σ²_g = 8055600\n",
      "round(σ_g; digits = 1) = 2838.2\n"
     ]
    }
   ],
   "source": [
    "σ²_g = (10000 - 2020)^2 * 0.1 + (3000 - 2020)^2 * 0.2 + (1000 - 2020)^2 * 0.3 + (300 - 2020)^2 * 0.4 |> Int\n",
    "σ_g = √σ²_g\n",
    "@show σ²_g round(σ_g; digits=1);"
   ]
  },
  {
   "cell_type": "markdown",
   "id": "9be0c1e1",
   "metadata": {},
   "source": [
    "以下はJulia言語のより高級な機能を使った計算法である."
   ]
  },
  {
   "cell_type": "code",
   "execution_count": 17,
   "id": "35a13cdc",
   "metadata": {},
   "outputs": [
    {
     "name": "stdout",
     "output_type": "stream",
     "text": [
      "μ_X = 3\n",
      "σ²_X = 1\n",
      "σ_X = 1\n"
     ]
    }
   ],
   "source": [
    "categ = Categorical(1//10, 2//10, 3//10, 4//10)\n",
    "μ_X = mean(categ) |> Int\n",
    "σ²_X = var(categ) |> Int\n",
    "σ_X = std(categ) |> Int\n",
    "@show μ_X σ²_X σ_X;"
   ]
  },
  {
   "cell_type": "markdown",
   "id": "11aa6077",
   "metadata": {},
   "source": [
    "期待値を取る操作は分布 $\\op{dist}$ と確率変数 $f$ に期待値を対応させる函数 $E(f, \\op{dist})$ として定義可能である."
   ]
  },
  {
   "cell_type": "code",
   "execution_count": 18,
   "id": "c1535779",
   "metadata": {},
   "outputs": [
    {
     "data": {
      "text/plain": [
       "E (generic function with 1 method)"
      ]
     },
     "execution_count": 18,
     "metadata": {},
     "output_type": "execute_result"
    }
   ],
   "source": [
    "E(f, dist::DiscreteUnivariateDistribution; imax = 10^6) =\n",
    "    sum(x -> f(x) * pdf(dist, x), support(dist)[1:min(end, imax)])"
   ]
  },
  {
   "cell_type": "markdown",
   "id": "c1c5d9a3",
   "metadata": {},
   "source": [
    "$E(f, \\op{dist})$ を使って $X$ の期待値と分散を計算すると以下のようになる."
   ]
  },
  {
   "cell_type": "code",
   "execution_count": 19,
   "id": "be33b767",
   "metadata": {},
   "outputs": [
    {
     "name": "stdout",
     "output_type": "stream",
     "text": [
      "μ_X = 3\n",
      "σ²_X = 1\n",
      "σ_X = 1\n"
     ]
    }
   ],
   "source": [
    "categ = Categorical(1//10, 2//10, 3//10, 4//10)\n",
    "μ_X = E(x -> x, categ) |> Int\n",
    "σ²_X = E(x -> (x - μ_X)^2, categ) |> Int\n",
    "σ_X = √σ²_X |> Int\n",
    "@show μ_X σ²_X σ_X;"
   ]
  },
  {
   "cell_type": "code",
   "execution_count": 20,
   "id": "3c0de851",
   "metadata": {},
   "outputs": [
    {
     "name": "stdout",
     "output_type": "stream",
     "text": [
      "μ_g = 2020\n",
      "σ²_g = 8055600\n",
      "round(σ_g; digits = 1) = 2838.2\n"
     ]
    }
   ],
   "source": [
    "g(x) = get((10000, 3000, 1000, 300), x, 0) # x = 1,2,3,4 のそれぞれを 10000, 3000, 1000, 300 に対応させる函数\n",
    "μ_g = E(g, categ) |> Int\n",
    "σ²_g = E(x -> (g(x) - μ_g)^2, categ) |> Int\n",
    "σ_g = √σ²_g\n",
    "@show μ_g σ²_g round(σ_g; digits=1);"
   ]
  },
  {
   "cell_type": "markdown",
   "id": "fa31adbc",
   "metadata": {},
   "source": [
    "### Bernoulli分布の定義\n",
    "\n",
    "$0 \\le p \\le 1$ と仮定する.  値が $1, 0$ になる確率をそれぞれ $p, 1-p$ とすることによって定まる離散分布を成功確率 $p$ の __Bernoulli分布__ (ベルヌーイ分布, ベルヌイ分布)と呼び, 次のように表す:\n",
    "\n",
    "$$\n",
    "\\op{Bernoulli}(p).\n",
    "$$\n",
    "\n",
    "この分布の確率質量函数は次のようになる:\n",
    "\n",
    "$$\n",
    "P(1) = p, \\quad P(0) = 1 - p.\n",
    "$$"
   ]
  },
  {
   "cell_type": "markdown",
   "id": "e36aded1",
   "metadata": {},
   "source": [
    "### 問題: Bernoulli分布の期待値と分散\n",
    "\n",
    "Bernoulli分布 $\\op{Bernoulli}(p)$ に従う確率変数 $X$ の期待値と分散を求めよ.  さらに分散の最大値とそれを与える $p$ を求めよ.\n",
    "\n",
    "__解答例:__ $X$ の期待値 $E[X]$ と分散 $\\var(X)$ は以下のように計算される:\n",
    "\n",
    "$$\n",
    "\\begin{aligned}\n",
    "&\n",
    "E[X] = \\sum_{x=1,0} x p(x) = 1p + 0(1-p) = p,\n",
    "\\\\ &\n",
    "E[X^2] = \\sum_{x=1,0} x^2 p(x) = 1^2 p + 0^2(1-p) = p,\n",
    "\\\\ &\n",
    "\\var(X) = E[X^2] - E[X]^2 = p - p^2 = p(1-p).\n",
    "\\end{aligned}\n",
    "$$\n",
    "\n",
    "$\\var(X) = -(p - 1/2)^2 + 1/4$ なので分散 $\\var(X)$ は $p = 1/2$ のとき最大値 $1/4$ になる.\n",
    "\n",
    "__解答終__"
   ]
  },
  {
   "cell_type": "code",
   "execution_count": 21,
   "id": "090be0bf",
   "metadata": {},
   "outputs": [
    {
     "data": {
      "text/plain": [
       "Bernoulli{Float64}(p=0.3)"
      ]
     },
     "execution_count": 21,
     "metadata": {},
     "output_type": "execute_result"
    }
   ],
   "source": [
    "p = 0.3\n",
    "bern = Bernoulli(p)"
   ]
  },
  {
   "cell_type": "code",
   "execution_count": 22,
   "id": "b7aadaf1",
   "metadata": {},
   "outputs": [
    {
     "name": "stdout",
     "output_type": "stream",
     "text": [
      "mean(bern) = 0.3\n",
      "var(bern) = 0.21\n"
     ]
    }
   ],
   "source": [
    "@show mean(bern) var(bern);"
   ]
  },
  {
   "cell_type": "code",
   "execution_count": 23,
   "id": "622f11e0",
   "metadata": {},
   "outputs": [
    {
     "name": "stdout",
     "output_type": "stream",
     "text": [
      "rand(bern, 20) = Bool[0, 1, 0, 0, 0, 0, 0, 0, 1, 0, 0, 0, 1, 0, 0, 0, 0, 0, 1, 1]\n"
     ]
    }
   ],
   "source": [
    "@show rand(bern, 20);"
   ]
  },
  {
   "cell_type": "code",
   "execution_count": 24,
   "id": "8b7aa509",
   "metadata": {},
   "outputs": [
    {
     "data": {
      "image/png": "[encoded data removed]"
     },
     "execution_count": 24,
     "metadata": {},
     "output_type": "execute_result"
    }
   ],
   "source": [
    "bar(0:1, x -> pdf(bern, 1 - x); label=\"\", title=\"Bernoulli(0.3)\", alpha=0.5)\n",
    "plot!(; xtick=(0:1, 1 .- (0:1)), ytick=0:0.1:1)"
   ]
  },
  {
   "cell_type": "markdown",
   "id": "9e428324",
   "metadata": {},
   "source": [
    "### オッズの定義と例\n",
    "\n",
    "成功確率 $p$ に対して, 失敗確率分の成功確率\n",
    "\n",
    "$$\n",
    "\\frac{p}{1-p} = \\frac{1}{1-p} - 1\n",
    "$$\n",
    "\n",
    "を __オッズ__ (odds)と呼ぶ. オッズは $0\\le p < 1$ について単調増加函数になり, $p=1$ のときオッズは $\\infty$ になると考えられる.\n",
    "\n",
    "オッズは賭け事の世界では普通によく使われる用語である. オッズは勝利確率 $p$ の単調増加函数になっているので, 勝利確率とは別の勝ち易さの指標になっている.\n",
    "\n",
    "例えば, 勝利確率が $p$ のギャンブルで勝利したときに賭けた金額の何倍の賞金をもらえることにすると公平になるだろうか?  勝利確率が $p$ の賭け事に1万円賭けたとき, 勝利したら賭けた1万円はそのままで賞金として $k$ 万円もらえ, 敗北したら賭けた1万円が全額没収されるとする. そのときの期待値は $pk - (1-p)$ 万円なので, 期待値が $0$ の公平なギャンブルにするためには $k$ をオッズの逆数にしなければいけない.  オッズの低い勝ち難いギャンブルではその分だけ勝利したときに沢山の賞金を獲得できないと損になる.\n",
    "\n",
    "例えば, 勝利確率が $1/2$ のギャンブルではオッズは $(1/2)/(1/2) = 1$ になる.\n",
    "\n",
    "例えば, 勝利確率が $1/3$ のギャンブルではオッズは $(1/3)/(2/3) = 1/2$ になり, 勝利したときに賭けた金額の2倍の賞金が得られるなら公平なギャンブルになる.  実際, そのとき, $1$ 万円を賭けると, $1/3$ の確率で $2$ 万円もらえ, $2/3$ の確率で $1$ 万円を失うので, 確かに期待値は $0$ になる. (これはBernoulli分布モデルにおける確率変数の期待値の例にもなっている.)"
   ]
  },
  {
   "cell_type": "markdown",
   "id": "d67714c9",
   "metadata": {},
   "source": [
    "### オッズとロジットおよびロジスティック変換\n",
    "\n",
    "確率 $p$ についてそのオッズを $u = p/(1 - p) = 1/(1 - p) - 1$ と書くと, 逆に確率はオッズで $p = u/(1 + u) = 1 - 1/(1 + u)$ と書ける.  これによって, $0 < p < 1$ と $0 < u < \\infty$ のあいだの一対一の対応が得られる.  さらに $x = \\log(u)$, $u = \\exp(x)$ とおくと, $0 < u < \\infty$ と $-\\infty < x < \\infty$ のあいだの一対一に対応も得られる.  $p$ と $x$ の関係を直接書き下すと, $p = \\exp(x)/(1 + \\exp(x)) = 1/(1 + \\exp(-x))$,  $x = \\log(p/(1-p))$ となる.  以上によって,\n",
    "\n",
    "$$\n",
    "p = \\frac{u}{1+u} = \\frac{e^x}{1 + e^x} = \\frac{1}{1 + e^{-x}}, \\quad\n",
    "u = \\frac{p}{1-p} = e^x, \\quad\n",
    "x = \\log(u) = \\log\\frac{p}{1-p}\n",
    "$$\n",
    "\n",
    "によって,\n",
    "\n",
    "$$\n",
    "0 < p < 1, \\quad\n",
    "0 < u < \\infty, \\quad\n",
    "-\\infty < x < \\infty\n",
    "$$\n",
    "\n",
    "のあいだの一対一対応が得られたことになる.  これらは賭け事とは無関係に非常によく使われる変数変換であり, 賭け事由来のオッズの概念はこのような形でも数学的に非常に役に立つことが知られている.\n",
    "\n",
    "以下の変数変換はそれぞれ __ロジット変換__ (logit変換), __ロジスティック変換__ (logistic変換)と呼ばれている:\n",
    "\n",
    "$$\n",
    "x = \\op{logit}(p) = \\log\\frac{p}{1-p}, \\quad\n",
    "p = \\op{logistic}(x) = \\frac{1}{1 + e^{-x}}.\n",
    "$$\n",
    "\n",
    "確率を意味するパラメータの $p$ を $-\\infty$ から $\\infty$ のあいだを自由に動ける変数 $x$ に変換してから様々な計算を行った方が都合が良い場合があるので, これらの変換はよく使われる.  (既存の統計ソフトが行ってくれる計算においてユーザーから見えない所でこのような変換が使われている場合もある.)"
   ]
  },
  {
   "cell_type": "markdown",
   "id": "ecd82e75",
   "metadata": {},
   "source": [
    "### Bernoulli試行の確率分布\n",
    "\n",
    "Bernoulli分布 $\\op{Bernoulli}(p)$ における $x=1,0$ の確率は\n",
    "\n",
    "$$\n",
    "P(x) = p^x (1-p)^{1-x}\n",
    "$$\n",
    "\n",
    "と書ける. 実際, $P(1) = p^1(1-p)^0 = p$ となり, $P(0) = p^x (1-p)^{1-x} = p^0(1-p)^1 = 1-p$ となる. これをBernoulli試行の場合に拡張しよう. \n",
    "\n",
    "試行回数 $n$ のBernoulli試行の結果は長さ $n$ の $1$ と $0$ からなる数列 $(x_1,\\ldots,x_n)$ になる. そのような列全体の個数は, 各々の $x_k$ が2通りでそれらが $n$ 個あるから, $2^n$ 個になる.  ($p=0.5$ の場合を除いて, すべての場合の確率が等しくなるわけではない.)\n",
    "\n",
    "Bernoulli試行が毎回確率 $p$ で $1$ が出て確率 $1-p$ で $0$ が出る独立な試行の繰り返しなので, 与えられた $x_1,\\ldots,x_n=1,0$ について, $n$ 回のBernoulli試行の結果が $(x_1,\\ldots,x_n)$ になる確率 $P(x_1,\\ldots,x_n)$ は, Bernoulli分布における確率\n",
    "\n",
    "$$\n",
    "P(x_i) = p^{x_i}(1 - p)^{1 - x_i}\n",
    "$$\n",
    "\n",
    "の積\n",
    "\n",
    "$$\n",
    "P(x_1,\\ldots,x_n) = P(x_1)\\cdots P(x_n) =\n",
    "\\prod_{i=1}^n \\left(p^{x_i} (1-p)^{1-x_i}\\right) =\n",
    "p^{x_1+\\cdots+x_n}(1 - p)^{n - (x_1 + \\cdots + x_n)}\n",
    "$$\n",
    "\n",
    "になると考えられる. (数学的にはこれによってBernoulli試行の確率分布を定める.) これは, $x_1,\\ldots,x_n$ の中の $1$ (=「当たり」)の個数を $k$ と書くと,\n",
    "\n",
    "$$\n",
    "p^k (1-p)^{n-k}\n",
    "$$\n",
    "\n",
    "とシンプルに書来直される.\n",
    "\n",
    "このようにして定まる集合 $\\{\\,(x_1,\\ldots,x_n)\\mid x_1,\\ldots,x_n=1,0\\,\\}$ 上の離散分布を試行回数 $n$, 成功確率 $p$ の __Bernoulli試行の確率分布__ と呼ぶことにする."
   ]
  },
  {
   "cell_type": "markdown",
   "id": "02785e9f",
   "metadata": {},
   "source": [
    "### 問題: n=3, p=0.3 の場合のBernoulli試行の確率分布\n",
    "\n",
    "$n=3$, $p=0.3$ のBernoulli試行の確率分布における確率質量函数を具体的に書き下し, 確率の総和がぴったり $1$ になることを確認せよ.\n",
    "\n",
    "__解答例:__ $n=3$, $p=0.3$ のBernoulli試行の確率分布を考える.  $(x_1,x_2,x_3)$ を単に並べて $x_1x_2x_3$ と書くと,\n",
    "\n",
    "$$\n",
    "\\{\\, (x_1,x_2,x_3)\\mid x_1,x_2,x_3=1,0\\,\\} = \\{111, 011, 101, 110, 100, 010, 001, 000\\}.\n",
    "$$\n",
    "\n",
    "確率質量函数の全体は以下のように記述される:\n",
    "\n",
    "$$\n",
    "\\begin{aligned}\n",
    "&\n",
    "P(111) = 0.3^3 = 0.027,\n",
    "\\\\ &\n",
    "P(011) = P(101) = P(110) = 0.3^2\\cdot 0.7 = 0.063,\n",
    "\\\\ &\n",
    "P(100) = P(010) = P(001) = 0.3\\cdot 0.7^2 = 0.147,\n",
    "\\\\ &\n",
    "P(000) = 0.7^3 = 0.343.\n",
    "\\end{aligned}\n",
    "$$\n",
    "\n",
    "これら8通りの確率の和は\n",
    "\n",
    "$$\n",
    "0.027 + 3\\cdot 0.063 + 3\\cdot 0.147 + 0.343 =\n",
    "0.027 + 0.189 + 0.441 + 0.343 = 1\n",
    "$$\n",
    "\n",
    "と確かにぴったり $1$ になっている.\n",
    "\n",
    "__解答終__"
   ]
  },
  {
   "cell_type": "code",
   "execution_count": 25,
   "id": "805f6615",
   "metadata": {},
   "outputs": [
    {
     "data": {
      "text/plain": [
       "1"
      ]
     },
     "execution_count": 25,
     "metadata": {},
     "output_type": "execute_result"
    }
   ],
   "source": [
    "27//1000 + 3*63//1000 + 3*147//1000 + 343//1000 |> Int"
   ]
  },
  {
   "cell_type": "markdown",
   "id": "33054f6c",
   "metadata": {},
   "source": [
    "### Bernoulli試行から応用上基本的かつ重要な確率分布が大量に得られること\n",
    "\n",
    "Bernoulli試行から以下の確率分布が得られる:\n",
    "\n",
    "* Bernoulli分布 (これは $n=1$ のBernoulli試行の確率分布と $n=1$ の二項分布に等しい)\n",
    "* 二項分布 ($n$ 回のBernoulli試行で出た $1$ の個数の分布)\n",
    "* 幾何分布 (これは $k=1$ の負の二項分布に等しい)\n",
    "* 負の二項分布 (Bernoulli試行を $k$ 回 $1$ が出るまで続けたときに出た $0$ の個数の分布)\n",
    "\n",
    "これらの連続極限として,\n",
    "\n",
    "* 正規分布 (二項分布の中心極限定理)\n",
    "* Poisson分布 (二項分布の時間連続極限)\n",
    "* ガンマ分布 (負の二項分布の時間連続極限)\n",
    "\n",
    "も得られる.  正規分布, ガンマ分布, Poisson分布は極めて基本的な確率分布であり, 非常に頻繁に使われる.\n",
    "\n",
    "__Bernoulli試行について十分に理解すれば, 他の重要かつ基本的な確率分布についても楽に理解できるようになるだろう!__"
   ]
  },
  {
   "cell_type": "markdown",
   "id": "7fac30f2",
   "metadata": {},
   "source": [
    "### 二項定理\n",
    "\n",
    "$n$ 個から $k$ 個を選ぶ組み合わせの数を\n",
    "\n",
    "$$\n",
    "\\binom{n}{k} = \\frac{n!}{k!(n-k)!} = \\frac{n(n-1)(n-2)\\cdots(n-k+1)}{k!}\n",
    "$$\n",
    "\n",
    "と書き, __二項係数__ と呼ぶ.\n",
    "\n",
    "互いに可換な文字 $x,y$ の和の $n$ 乗の展開したときの $x^k y^{n-k}$ の係数を $a_k$ と書く:\n",
    "\n",
    "$$\n",
    "(x + y)^n = \\sum_{k=0}^n a_k x^k y^{n-k}.\n",
    "$$\n",
    "\n",
    "このとき, $a_k$ は掛けられてる $n$ 個の $x + y$ の中から $x$ をピックアップする $k$ 個を選ぶ組み合わせの数に等しいので, $a_k = \\binom{n}{k}$ が成立する.  ゆえに\n",
    "\n",
    "$$\n",
    "(x + y) = \\sum_{k=0}^n \\binom{n}{k}x^k y^{n-k}.\n",
    "$$\n",
    "\n",
    "特に $y = 1$ のとき,\n",
    "\n",
    "$$\n",
    "(1 + x)^n = \\sum_{k=0}^n \\binom{n}{k}x^k.\n",
    "$$\n",
    "\n",
    "これらの結果を __二項定理__ と呼ぶ.\n",
    "\n",
    "__注意:__  高校の教科書のように二項係数を ${}_nC_k$ と書いてもよいが, このノートではこの書き方をしない. 後で二項係数 $\\binom{n}{k}$ の $n$ は整数でない場合にも拡張されることになる."
   ]
  },
  {
   "cell_type": "markdown",
   "id": "b606a912",
   "metadata": {},
   "source": [
    "### 二項分布の定義\n",
    "\n",
    "__二項分布__ は試行回数 $n$, 成功確率 $p$ のBernoulli試行で生じる $1$ と $0$ からなる長さ $n$ の列の中の $1$ の個数の分布として得られる.\n",
    "\n",
    "試行回数 $n$, 成功確率 $p$ のBernoulli試行において $1$ と $0$ からなる列 $(x_1, x_2, \\ldots, x_n)$ が生じる確率は\n",
    "\n",
    "$$\n",
    "p^{x_1+\\cdots+x_n}(1 - p)^{n - (x_1 + \\cdots + x_n)}\n",
    "$$\n",
    "\n",
    "と書けるのであった.  $1$ と $0$ からなる列 $(x_1, x_2, \\ldots, x_n)$ でそれが含む $1$ の個数 $x_1 + \\cdots + x_n$ が $k$ になるものの個数は, $n$ 個の $x_i$ 達から $k$ 個の $1$ になるものを選ぶ組み合わせの数\n",
    "\n",
    "$$\n",
    "\\binom{n}{k} = \\frac{n!}{k!(n-k)!}\n",
    "$$\n",
    "\n",
    "になるので, 試行回数 $n$, 成功確率 $p$ のBernoulli試行において, $1$ の個数 $x_1 + \\cdots + x_n$ が $k$ になる確率は\n",
    "\n",
    "$$\n",
    "P(k) = \\binom{n}{k} p^k (1 - p)^{n-k} = \\frac{n!}{k!(n-k)!} p^k (1 - p)^{n-k}\n",
    "$$\n",
    "\n",
    "になる. この確率質量函数で定義される集合 $\\{0,1,\\ldots,n\\}$ 上の有限離散分布を __二項分布__ と呼び, 次のように表す:\n",
    "\n",
    "$$\n",
    "\\op{Binomial}(n, p).\n",
    "$$\n",
    "\n",
    "二項分布における確率の総和が $1$ になることは二項定理を使えばただちに確認できる:\n",
    "\n",
    "$$\n",
    "\\sum_{k=0}^n P(k) =\n",
    "\\sum_{k=0}^n \\binom{n}{k} p^k (1 - p)^{n-k} =\n",
    "(p + (1-p))^n = 1.\n",
    "$$"
   ]
  },
  {
   "cell_type": "markdown",
   "id": "8c028c12",
   "metadata": {},
   "source": [
    "### 問題: 二項分布の期待値と分散\n",
    "\n",
    "$K$ は二項分布に従う確率変数であるとする:\n",
    "\n",
    "$$\n",
    "K \\sim \\op{Binomial}(n, p).\n",
    "$$\n",
    "\n",
    "$K$ の期待値と分散を求めよ.\n",
    "\n",
    "__解答例:__ 二項定理を使う. $K$ の期待値は次のようにして得られる:\n",
    "\n",
    "$$\n",
    "\\begin{aligned}\n",
    "E[K] &=\n",
    "\\sum_{k=0}^n k P(k) =\n",
    "\\sum_{k=0}^n k \\frac{n!}{k!(n-k)!} p^k (1 - p)^{n-k} =\n",
    "\\sum_{k=1}^n n \\frac{(n-1)!}{(k-1)!(n-k)!} p^k (1 - p)^{n-k}\n",
    "\\\\ & =\n",
    "np \\sum_{k=1}^n \\binom{n-1}{k-1} p^{k-1} (1 - p)^{n-k} =\n",
    "np (p + (1-p))^{n-1} =\n",
    "np,\n",
    "\\end{aligned}\n",
    "$$\n",
    "\n",
    "上の計算の5番目の統合で二項定理を使っている.  この計算法と同様のアイデアで以下のように計算することができる:\n",
    "\n",
    "$$\n",
    "\\begin{aligned}\n",
    "E[K(K-1)] &=\n",
    "\\sum_{k=0}^n k(k-1) P(k) =\n",
    "\\sum_{k=2}^n k(k-1) \\frac{n!}{k!(n-k)!} p^k (1 - p)^{n-k}\n",
    "\\\\ & =\n",
    "\\sum_{k=1}^n n(n-1)\\frac{(n-2)!}{(k-2)!(n-k)!} p^k (1 - p)^{n-k} =\n",
    "n(n-1)p^2 \\sum_{k=2}^n \\binom{n-2}{k-2} p^{k-2} (1 - p)^{n-k}\n",
    "\\\\ & =\n",
    "n(n-1)p^2 (p + (1-p))^{n-2} =\n",
    "n(n-1)p^2,\n",
    "\\end{aligned}\n",
    "$$\n",
    "\n",
    "この計算の5番目の統合でも上と同様に二項定理を使っている.  $\\var(K) = E[K^2] - E[K]^2$ を使って $K$ の分散を計算しよう:\n",
    "\n",
    "$$\n",
    "\\begin{aligned}\n",
    "&\n",
    "E[K(K-1)] = E[K^2] - E[K], \n",
    "\\\\ &\n",
    "E[K^2] = E[K(K-1)] + E[K] = n(n-1)p^2 + np = n^2 p^2 - n p^2 + np = np(1-p) + n^2 p^2,\n",
    "\\\\ &\n",
    "\\var(K) = E[K^2] - E[K]^2 = np(1-p) + n^2 p^2 - (np)^2 = np(1-p).\n",
    "\\end{aligned}\n",
    "$$\n",
    "\n",
    "__解答終__\n",
    "\n",
    "__注意:__ 二項分布 $\\op{Binomial}(n, p)$ に従う確率変数の期待値 $np$ と分散 $np(1-p)$ は $n=1$ の場合のBernoulli分布 $\\op{Bernoulli}(p)$ の期待値と $p$ と分散 $p(1-p)$ のちょうど $n$ 倍になっている. \n",
    "\n",
    "期待値についてこの事実は次のように説明される. Bernoulli試行における $1$ と $0$ の列 $(x_1,\\ldots,x_n)$ に $x_i$ を対応させる函数によって定まる確率変数を $X_i$ と書くと, $1$ と $0$ からなる列の中の $1$ の個数を意味する確率変数は $K = X_1 + \\cdots + X_n$ になる.  $K$ の期待値が二項分布の期待値になる.  各々の $X_i$ は成功確率 $p$ のBernoulii分布に従うので, その期待値は $E[X_i] = p$ になり, 期待値を取る操作の線形性(加法性)より,\n",
    "\n",
    "$$\n",
    "E[K] = E[X_1] + \\cdots + E[X_n] = p + \\cdots + p = np.\n",
    "$$\n",
    "\n",
    "分散についても\n",
    "\n",
    "$$\n",
    "\\var(K) = \\var(X_1) + \\cdots + \\var(X_n) = p(1-p) + \\cdots + p(1-p) = np(1-p)\n",
    "$$\n",
    "\n",
    "が成立することは偶然ではなく, 必然的にこうなる理由がある. この点については後で確率変数の独立性について説明してから詳しく説明する.  答えを先走って言うと, 独立な確率変数の和の分散はそれぞれの確率変数の分散の和に等しくなる."
   ]
  },
  {
   "cell_type": "markdown",
   "id": "587e9443",
   "metadata": {},
   "source": [
    "二項分布における確率質量函数のグラフは以下のようになる."
   ]
  },
  {
   "cell_type": "code",
   "execution_count": 26,
   "id": "8cb8e3a3",
   "metadata": {},
   "outputs": [
    {
     "data": {
      "image/png": "[encoded data removed]"
     },
     "execution_count": 26,
     "metadata": {},
     "output_type": "execute_result"
    }
   ],
   "source": [
    "bin = Binomial(16, 0.3)\n",
    "x = support(bin)\n",
    "bar(x, x -> pdf(bin, x); label=\"\", title=\"Binomial(20, 0.3)\", alpha=0.5)\n",
    "plot!(; xtick=x)"
   ]
  },
  {
   "cell_type": "markdown",
   "id": "76335a00",
   "metadata": {},
   "source": [
    "二項分布 $\\op{Binomial}(n, p)$ はその期待値 $np$ と反対側の期待値 $n(1-p)$ の両方が大きなとき, $\\op{Binomial}(n, p)$ と等しい平均 $\\mu=np$ と分散 $\\sigma^2 = np(1-p)$ を持つ正規分布で近似されること(__二項分布の中心極限定理__)がよく知られている. (実際には $np$ がそう大きくなくても悪くない近似になる. これは階乗のStirlingの公式による近似がそう悪くならないからだと考えられる.)\n",
    "\n",
    "二項分布の中心極限定理は階乗に関するStirlingの(近似)公式を使えば示せるが, そこそこ面倒な計算が必要になる.  そのような計算を避けたい人も避けなかった人も, コンピュータで二項分布と正規分布のグラフを重ねてプロットすれば二項分布が正規分布で近似されることをすぐに納得できると思う.  正規分布については後で詳しく説明する."
   ]
  },
  {
   "cell_type": "code",
   "execution_count": 27,
   "id": "87c6aee0",
   "metadata": {},
   "outputs": [
    {
     "data": {
      "image/png": "[encoded data removed]"
     },
     "execution_count": 27,
     "metadata": {},
     "output_type": "execute_result"
    }
   ],
   "source": [
    "bin = Binomial(16, 0.3)\n",
    "μ, σ = mean(bin), std(bin)\n",
    "x = support(bin)\n",
    "bar(x, x -> pdf(bin, x); label=\"Binomial(20, 0.3)\", alpha=0.5)\n",
    "plot!(; xtick=x)\n",
    "plot!(Normal(μ, σ); label=\"normal approx.\", lw=2, c=:red)"
   ]
  },
  {
   "cell_type": "markdown",
   "id": "bca74b41",
   "metadata": {},
   "source": [
    "次のセルを見ればわかるように, $p$ が小さな場合の二項分布は期待値 $np$ のPoisson分布で近似される.\n",
    "\n",
    "より正確に言うと, 固定された $\\lambda > 0$ について, $p = \\lambda/n$ とおくと, 二項分布 $\\op{Binomial}(n, p)$ は $n\\to\\infty$ でPoisson分布 $\\op{Poisson}(\\lambda)$ に近付く.  Poisson分布(ポアソン分布)の定義を知らない人はこれをPoisson分布の定義だと思ってもよい.  この点については後で説明する予定である."
   ]
  },
  {
   "cell_type": "code",
   "execution_count": 28,
   "id": "d69eb016",
   "metadata": {},
   "outputs": [
    {
     "data": {
      "image/png": "[encoded data removed]"
     },
     "execution_count": 28,
     "metadata": {},
     "output_type": "execute_result"
    }
   ],
   "source": [
    "λ, n = 3, 100\n",
    "p = λ/n\n",
    "bin = Binomial(n, p)\n",
    "μ, σ = mean(bin), std(bin)\n",
    "x = 0:5λ\n",
    "groupedbar(x, [pdf.(bin, x) pdf.(Poisson(n*p), x)];\n",
    "    label=[\"Binomial(300, 0.01)\" \"Poisson($(n*p))\"], alpha=0.5)\n",
    "plot!(; xtick=x, xlim=(-2, 16.5))\n",
    "plot!(Normal(μ, σ); label=\"normal approximation\", lw=1, c=:red, ls=:dash)"
   ]
  },
  {
   "cell_type": "code",
   "execution_count": 29,
   "id": "a25c0e1b",
   "metadata": {},
   "outputs": [
    {
     "data": {
      "image/png": "[encoded data removed]"
     },
     "execution_count": 29,
     "metadata": {},
     "output_type": "execute_result"
    }
   ],
   "source": [
    "λ, n = 3, 1000\n",
    "p = λ/n\n",
    "bin = Binomial(n, p)\n",
    "μ, σ = mean(bin), std(bin)\n",
    "x = 0:5λ\n",
    "groupedbar(x, [pdf.(bin, x) pdf.(Poisson(n*p), x)];\n",
    "    label=[\"Binomial(300, 0.01)\" \"Poisson($(n*p))\"], alpha=0.5)\n",
    "plot!(; xtick=x, xlim=(-2, 16.5))\n",
    "plot!(Normal(μ, σ); label=\"normal approximation\", lw=1, c=:red, ls=:dash)"
   ]
  },
  {
   "cell_type": "markdown",
   "id": "7d37c0a5",
   "metadata": {},
   "source": [
    "### 問題: 当たりが30%の確率で出るくじを100回引いた場合\n",
    "\n",
    "当たりが毎回 $p = 30\\% = 0.3$ の確率で出るくじを $n = 100$ 回引いたときに当たりが出た回数 $K$ は二項分布 $\\op{Binomial}(n, p)$ に従う確率変数とみなされる.\n",
    "\n",
    "(1) 当たりの回数 $K$ の期待値と分散と標準偏差を求めよ.\n",
    "\n",
    "(2) 当たりの回数 $K$ が25回以下になる確率と20回以下になる確率を求めよ.\n",
    "\n",
    "(3) 当たりの回数 $K$ が35回以上になる確率と40回以上になる確率を求めよ.\n",
    "\n",
    "有効桁3桁で求めよ.\n",
    "\n",
    "__解答例:__ $p = 0.3$, $n = 100$ とおく.\n",
    "\n",
    "(1) $K$ の期待値, 分散, 標準偏差:\n",
    "\n",
    "$$\n",
    "E[K] = np = 30, \\quad\n",
    "\\var(K) = np(1-p) = 21, \\quad\n",
    "\\std(K) = \\sqrt{\\var(K)} \\approx 4.58.\n",
    "$$\n",
    "\n",
    "(2) $K\\le 25$ となる確率:\n",
    "\n",
    "$$\n",
    "P(K\\le 25) = \\sum_{k=0}^{25} \\binom{n}{k}p^k(1-p)^{n-k} \\approx 0.163.\n",
    "$$\n",
    "\n",
    "$K\\le 30$ となる確率:\n",
    "\n",
    "$$\n",
    "P(K\\le 20) = \\sum_{k=0}^{20} \\binom{n}{k}p^k(1-p)^{n-k} \\approx 0.0165.\n",
    "$$\n",
    "\n",
    "(2) $K\\ge 35$ となる確率:\n",
    "\n",
    "$$\n",
    "P(K\\ge 35) = \\sum_{k=35}^{100} \\binom{n}{k}p^k(1-p)^{n-k} \\approx 0.163.\n",
    "$$\n",
    "\n",
    "$K\\ge 40$ となる確率:\n",
    "\n",
    "$$\n",
    "P(K\\ge 40) = \\sum_{k=40}^{100} \\binom{n}{k}p^k(1-p)^{n-k} \\approx 0.0210.\n",
    "$$\n",
    "\n",
    "__解答終__\n",
    "\n",
    "__注意:__ [WolframAlpha](https://www.wolframalpha.com/)では確率 $P(K \\le 25)$ を\n",
    "\n",
    "* [sum_{k=0}^{25} binom(100, k) 0.3^k (1 - 0.3)^{100-k}](https://www.wolframalpha.com/input?i=sum_%7Bk%3D0%7D%5E%7B25%7D+binom%28100%2C+k%29+0.3%5Ek+%281+-+0.3%29%5E%7B100-k%7D)\n",
    "\n",
    "と入力して求めることができる.  他の場合も試してみよ.  (もちろんJulia言語を導入して使ってもよい.)"
   ]
  },
  {
   "cell_type": "code",
   "execution_count": 30,
   "id": "8ef3b49f",
   "metadata": {},
   "outputs": [
    {
     "name": "stdout",
     "output_type": "stream",
     "text": [
      "n * p = 30.0\n",
      "n * p * (1 - p) = 21.0\n",
      "√(n * p * (1 - p)) = 4.58257569495584\n",
      "exp(logsumexp((logP(n, p, k) for k = 0:25))) = 0.16313010446635048\n",
      "exp(logsumexp((logP(n, p, k) for k = 0:20))) = 0.016462853241869316\n",
      "exp(logsumexp((logP(n, p, k) for k = 35:n))) = 0.16285828837178473\n",
      "exp(logsumexp((logP(n, p, k) for k = 40:n))) = 0.020988576003924307\n"
     ]
    }
   ],
   "source": [
    "logP(n, p, k) = logabsbinomial(n, k)[1] + k*log(p) + (n-k)*log(1-p)\n",
    "\n",
    "p = 0.3\n",
    "n = 100\n",
    "@show n*p\n",
    "@show n*p*(1-p)\n",
    "@show √(n*p*(1-p))\n",
    "for Kmax in (25, 20)\n",
    "    @eval @show exp(logsumexp(logP(n, p, k) for k in 0:$Kmax))\n",
    "end\n",
    "for Kmin in (35, 40)\n",
    "    @eval @show exp(logsumexp(logP(n, p, k) for k in $Kmin:n))\n",
    "end"
   ]
  },
  {
   "cell_type": "code",
   "execution_count": 31,
   "id": "0366279b",
   "metadata": {},
   "outputs": [
    {
     "name": "stdout",
     "output_type": "stream",
     "text": [
      "bin = Binomial(100, 0.3) = Binomial{Float64}(n=100, p=0.3)\n",
      "mean(bin) = 30.0\n",
      "var(bin) = 21.0\n",
      "std(bin) = 4.58257569495584\n",
      "cdf(bin, 25) = 0.16313010446635237\n",
      "cdf(bin, 20) = 0.0164628532418695\n",
      "ccdf(bin, 35 - 1) = 0.16285828837178704\n",
      "ccdf(bin, 40 - 1) = 0.020988576003924644\n"
     ]
    }
   ],
   "source": [
    "p = 0.3\n",
    "n = 100\n",
    "@eval @show bin = Binomial($n, $p)\n",
    "@show mean(bin)\n",
    "@show var(bin)\n",
    "@show std(bin)\n",
    "for Kmax in (25, 20)\n",
    "    @eval @show cdf(bin, $Kmax)\n",
    "end\n",
    "for Kmin in (35, 40)\n",
    "    @eval @show ccdf(bin, $Kmin - 1)\n",
    "end"
   ]
  },
  {
   "cell_type": "markdown",
   "id": "e74efc70",
   "metadata": {},
   "source": [
    "### 幾何分布の定義\n",
    "\n",
    "$0< p \\le 1$ であると仮定し, $m=0,1,2,\\ldots$ であるとする.\n",
    "\n",
    "確率 $p$ で $1$ が確率 $1-p$ で $0$ が生じるようなBernoulli試行を続けたとき, ちょうど $m+1$ 回目で $1$ が初めて出る確率は, \n",
    "$m$ 回 $0$ が続いて $m+1$ 回目に $1$ が出る確率\n",
    "\n",
    "$$\n",
    "(1-p)^m \\times p\n",
    "$$\n",
    "\n",
    "に等しいので,\n",
    "\n",
    "$$\n",
    "P(m) = p(1 - p)^m\n",
    "$$\n",
    "\n",
    "になる.  この確率質量函数で定義される可算集合 $\\{0,1,2,\\ldots\\}$ 上の無限離散分布を __幾何分布__ (geometric distribution)と呼び, 次のように表す:\n",
    "\n",
    "$$\n",
    "\\op{Geometric}(p).\n",
    "$$\n",
    "\n",
    "幾何分布における確率の総和が $1$ になることは, 等比級数の和を使って, 次のように証明される:\n",
    "\n",
    "$$\n",
    "\\sum_{m=0}^\\infty P(m) = \n",
    "p \\sum_{m=0}^\\infty (1 - p)^m =\n",
    "\\frac{p}{1 - (1 - p)} = 1.\n",
    "$$\n",
    "\n",
    "$1 - (1 - p)$ が $p$ になることがこれ以後頻繁に現れる."
   ]
  },
  {
   "cell_type": "markdown",
   "id": "e173649f",
   "metadata": {},
   "source": [
    "幾何分布の確率質量函数の形は次のようになる."
   ]
  },
  {
   "cell_type": "code",
   "execution_count": 32,
   "id": "426a8979",
   "metadata": {},
   "outputs": [
    {
     "data": {
      "image/png": "[encoded data removed]"
     },
     "execution_count": 32,
     "metadata": {},
     "output_type": "execute_result"
    }
   ],
   "source": [
    "geom = Geometric(0.3)\n",
    "x = 0:16\n",
    "bar(x, x -> pdf(geom, x); label=\"\", title=\"Geometric(0.3)\", alpha=0.5)\n",
    "plot!(; xtick = x)"
   ]
  },
  {
   "cell_type": "markdown",
   "id": "1928687e",
   "metadata": {},
   "source": [
    "$p$ が小さい場合の幾何分布は平均 $\\lambda = 1/p$ の指数分布で近似される: $\\lambda$ が大きなとき, \n",
    "\n",
    "$$\n",
    "p(1-p)^m =\n",
    "\\frac{1}{\\lambda}\\left(1 - \\frac{1}{\\lambda}\\right)^m \\approx\n",
    "\\frac{1}{\\lambda}\\exp\\left(-\\frac{m}{\\lambda}\\right).\n",
    "$$"
   ]
  },
  {
   "cell_type": "code",
   "execution_count": 33,
   "id": "c5bd3a74",
   "metadata": {},
   "outputs": [
    {
     "data": {
      "image/png": "[encoded data removed]"
     },
     "execution_count": 33,
     "metadata": {},
     "output_type": "execute_result"
    }
   ],
   "source": [
    "geom = Geometric(0.03)\n",
    "p = succprob(geom)\n",
    "x = 0:200\n",
    "plot(x, x -> pdf(geom, x); label=\"Geometric($p)\")\n",
    "plot!(Exponential(1/p), 0, 200; ls=:dash, label=\"Exponential(1/$p)\")"
   ]
  },
  {
   "cell_type": "markdown",
   "id": "c77ad5de",
   "metadata": {},
   "source": [
    "### 幾何分布の期待値と分散\n",
    "\n",
    "幾何分布に従う確率変数 $M$ の期待値と分散は次のようになる:\n",
    "\n",
    "$$\n",
    "E[M] = \\frac{1-p}{p}, \\quad\n",
    "\\var(M) = \\frac{1-p}{p^2}.\n",
    "$$\n",
    "\n",
    "詳しくは以下のように計算される. 上で経験した等比級数の和の計算から,\n",
    "\n",
    "$$\n",
    "\\sum_{m=0}^\\infty (1 - p)^m = \\frac{1}{p}\n",
    "$$\n",
    "\n",
    "となることもわかる.  両辺を $p$ で微分して $-1$ 倍する操作を2回施すと,\n",
    "\n",
    "$$\n",
    "\\sum_{m=1}^\\infty m(1-p)^{m-1} = \\frac{1}{p^2}, \\quad\n",
    "\\sum_{m=2}^\\infty m(m-1)(1-p)^{m-2} = \\frac{2}{p^3}.\n",
    "$$\n",
    "\n",
    "これらの公式を使うと,\n",
    "\n",
    "$$\n",
    "\\begin{aligned}\n",
    "&\n",
    "E[M] = \\sum_{m=0}^\\infty m P(m) =\n",
    "\\sum_{m=1}^\\infty m p (1-p)^m = \n",
    "p(1-p)\\sum_{m=1}^\\infty m(1-p)^{m-1} =\n",
    "p(1-p)\\frac{1}{p^2} =\n",
    "\\frac{1-p}{p},\n",
    "\\\\ &\n",
    "E[M(M-1)] =\n",
    "\\sum_{m=0}^\\infty m(m-1) P(m) =\n",
    "\\sum_{m=2}^\\infty m(m-1) p(1-p)^m\n",
    "\\\\ & \\quad =\n",
    "p(1-p)^2 \\sum_{m=2}^\\infty m(m-1)(1-p)^{m-2} =\n",
    "p(1-p)^2 \\frac{2}{p^3} =\n",
    "\\frac{2(1-p)^2}{p^2}\n",
    "\\\\ &\n",
    "E[M(M-1)] = E[M^2] - E[M],\n",
    "\\\\ &\n",
    "E[M^2] = E[M(M-1)] + E[M] = \\frac{2(1-p)^2}{p^2} + \\frac{1-p}{p},\n",
    "\\\\ &\n",
    "\\var(M) = E[M^2] - E[M]^2 =\n",
    "\\frac{2(1-p)^2}{p^2} + \\frac{1-p}{p} - \\frac{(1-p)^2}{p^2} =\n",
    "\\frac{(1-p)^2}{p^2} + \\frac{p(1-p)}{p^2} =\n",
    "\\frac{1-p}{p^2}.\n",
    "\\end{aligned}\n",
    "$$\n",
    "\n",
    "$N = M+1$ とおく.  $N$ は始めて $1$ が出るまでの試行回数を意味する確率変数になる. $N$ の確率質量函数は\n",
    "\n",
    "$$\n",
    "P(n-1) = p(1-p)^{n-1}\n",
    "$$\n",
    "\n",
    "になる. $N$ の期待値と分散は上の結果より, 次のようになる:\n",
    "\n",
    "$$\n",
    "E[N] = E[M] + 1 = \\frac{1}{p},\n",
    "\\quad\n",
    "\\var(N) = \\var(M) = \\frac{1-p}{p^2}.\n",
    "$$\n",
    "\n",
    "$E[N] = 1/p$ の意味: 当たりが確率 $p$ で出るガチャを回し続けるとき, 当たりが初めて出るまでに回す回数の期待値は $1/p$ になる.\n",
    "\n",
    "__注意・警告:__ 例えば, 当たりが $1\\% = 0.01$ の確率で出るガチャを回し続けたときに, 当たりが初めて出るまでに回す回数の期待値は $1/0.01=100$ 回になる.  これは「だいたい100回程度ガチャを回せばほぼ確実に当たりが出ること」を意味 __しない__.  以下の問題を解いてみよ."
   ]
  },
  {
   "cell_type": "markdown",
   "id": "10b5c350",
   "metadata": {},
   "source": [
    "### 問題: 当たりが出る確率が1%のガチャを当たりが出るまで回す場合\n",
    "\n",
    "当たりが1%の確率で出るガチャを引き続けて当たりが出るまで回す回数を $N$ と書く.\n",
    "\n",
    "(1) $N$ の期待値と分散と標準偏差を求めよ.\n",
    "\n",
    "(2) 当たりが初めて出るまでの回数が150回以上になる確率と200回以上になる確率と300回以上になる確率を求めよ.\n",
    "\n",
    "確率や標準偏差の値は有効桁3桁以上が合っていれば正解とする.\n",
    "\n",
    "__解答例:__ $p = 0.01$ とおく.\n",
    "\n",
    "(1) $N$ の期待値と分散と標準偏差:\n",
    "\n",
    "$$\n",
    "E[N] = \\frac{1}{p} = 100, \\quad\n",
    "\\var(N) = \\frac{1-p}{p^2} = 9900, \\quad\n",
    "\\std(N) = \\sqrt{\\var(N)} \\approx 99.5.\n",
    "$$\n",
    "\n",
    "(2) $N$ が150回以上になる確率 = 最初の149回分がすべて外れの確率:\n",
    "\n",
    "$$\n",
    "(1 - p)^{149} = 0.99^{149} \\approx 0.224.\n",
    "$$\n",
    "\n",
    "$N$ が200回以上になる確率 = 最初の199回分がすべて外れの確率:\n",
    "\n",
    "$$\n",
    "(1 - p)^{199} = 0.99^{199} \\approx 0.135.\n",
    "$$\n",
    "\n",
    "$N$ が300回以上になる確率 = 最初の199回分がすべて外れの確率:\n",
    "\n",
    "$$\n",
    "(1 - p)^{299} = 0.99^{299} \\approx 0.0495.\n",
    "$$\n",
    "\n",
    "__解答終__\n",
    "\n",
    "__注意・警告続き:__ 当たりが出る確率が1%のガチャを当たりが出るまで回し続ける人達が沢山いると, 300回以上回してしまう人が5%程度すなわち20人に1人程度生じるということになる.  このようなガチャを当たりが出るまで回し続ける場合にあなたは, その20人の1人になってしまうことを覚悟しておくべきだと思われる.\n",
    "\n",
    "__注意:__ $p$ が小さな幾何分布の標準偏差は\n",
    "\n",
    "$$\n",
    "\\sqrt{\\frac{1-p}{p^2}} \\approx \\sqrt{\\frac{1}{p^2}} = \\frac{1}{p}\n",
    "$$\n",
    "\n",
    "となる. 実際, 上の場合も $\\var(N)$ はほぼ $1/p = 100$ になっている."
   ]
  },
  {
   "cell_type": "code",
   "execution_count": 34,
   "id": "bc10013c",
   "metadata": {},
   "outputs": [
    {
     "name": "stdout",
     "output_type": "stream",
     "text": [
      "1 / p = 100.0\n",
      "(1 - p) / p ^ 2 = 9900.0\n",
      "√((1 - p) / p ^ 2) = 99.498743710662\n",
      "(1 - p) ^ (150 - 1) = 0.2236886739786474\n",
      "(1 - p) ^ (200 - 1) = 0.13533300490703204\n",
      "(1 - p) ^ (300 - 1) = 0.04953625663766235\n"
     ]
    }
   ],
   "source": [
    "p = 0.01\n",
    "@show 1/p\n",
    "@show (1 - p)/p^2\n",
    "@show √((1 - p)/p^2)\n",
    "for Nmin in (150, 200, 300)\n",
    "    @eval @show (1 - p)^($Nmin - 1)\n",
    "end"
   ]
  },
  {
   "cell_type": "code",
   "execution_count": 35,
   "id": "fe31af99",
   "metadata": {},
   "outputs": [
    {
     "name": "stdout",
     "output_type": "stream",
     "text": [
      "mean(Geometric(0.01)) + 1 = 100.0\n",
      "var(Geometric(0.01)) = 9900.0\n",
      "std(Geometric(0.01)) = 99.498743710662\n",
      "ccdf(Geometric(0.01), 149 - 1) = 0.22368867397864767\n",
      "ccdf(Geometric(0.01), 199 - 1) = 0.13533300490703226\n",
      "ccdf(Geometric(0.01), 299 - 1) = 0.049536256637662465\n"
     ]
    }
   ],
   "source": [
    "@show mean(Geometric(0.01)) + 1\n",
    "@show var(Geometric(0.01))\n",
    "@show std(Geometric(0.01))\n",
    "for Nmin in (150, 200, 300)\n",
    "    @eval @show ccdf(Geometric(0.01), $(Nmin - 1) - 1)\n",
    "end"
   ]
  },
  {
   "cell_type": "markdown",
   "id": "cfe9b978",
   "metadata": {},
   "source": [
    "Monte Carlo 法による近似計算:"
   ]
  },
  {
   "cell_type": "code",
   "execution_count": 36,
   "id": "18ff8c4f",
   "metadata": {},
   "outputs": [
    {
     "name": "stdout",
     "output_type": "stream",
     "text": [
      "mean(N) = 99.99065754\n",
      "var(N) = 9898.741484625854\n",
      "std(N) = 99.4924192319488\n",
      "mean((≥)(150), N) = 0.22367281\n",
      "mean((≥)(200), N) = 0.1352877\n",
      "mean((≥)(300), N) = 0.04951668\n"
     ]
    }
   ],
   "source": [
    "N = rand(Geometric(0.01), 10^8) .+ 1\n",
    "@show mean(N)\n",
    "@show var(N)\n",
    "@show std(N)\n",
    "@show mean(≥(150), N)\n",
    "@show mean(≥(200), N)\n",
    "@show mean(≥(300), N);"
   ]
  },
  {
   "cell_type": "markdown",
   "id": "0aba6d4d",
   "metadata": {},
   "source": [
    "### 負の二項展開\n",
    "\n",
    "任意の数 $a$ と0以上の整数 $m$ について, __二項係数__ (binomial coefficients)を\n",
    "\n",
    "$$\n",
    "\\binom{a}{m} = \\frac{a(a-1)(a-2)\\cdots(a-m+1)}{m!}\n",
    "$$\n",
    "\n",
    "と定める. たとえば, $m=0,1,2,3$ の場合には,\n",
    "\n",
    "$$\n",
    "\\binom{a}{0} = 1, \\;\n",
    "\\binom{a}{1} = a, \\;\n",
    "\\binom{a}{2} = \\frac{a(a-1)}{2}, \\;\n",
    "\\binom{a}{3} = \\frac{a(a-1)(a-2)}{3!}.\n",
    "$$\n",
    "\n",
    "$a = n$ も0以上の整数のとき, これは組み合わせの数と一致する:\n",
    "\n",
    "$$\n",
    "\\binom{n}{m} = \\frac{n!}{m!(n-m)!}.\n",
    "$$\n",
    "\n",
    "$f(x) = (1 + x)^a$ について,\n",
    "\n",
    "$$\n",
    "f'(x) = a(1+x)^{a-1}, \\;\n",
    "f''(x) = a(a-1)(1+x)^{a-2}, \\;\n",
    "\\ldots\\,\\;\n",
    "f^{(m)}(x) = a(a-1)\\cdots(a-m+1)(1+x)^{a-m}\n",
    "$$\n",
    "\n",
    "なので,\n",
    "\n",
    "$$\n",
    "f^{(m)}(0) = a(a-1)\\cdots(a-m+1), \\quad\n",
    "\\frac{1}{m!}f^{(m)}(0) = \\binom{a}{m}.\n",
    "$$\n",
    "\n",
    "ゆえに, $f(x)=(1+x)^a$ は $x=0$ で次のようにTaylor展開される:\n",
    "\n",
    "$$\n",
    "(1+x)^a = f(x) =\n",
    "\\sum_{m=0}^\\infty \\frac{1}{m!}f^{(m)}(0) x^m =\n",
    "\\sum_{m=0}^\\infty \\binom{a}{m} x^m =\n",
    "1 + ax + \\frac{a(a-1)}{2}x^2 + \\frac{a(a-1)(a-2)}{3!}x^3 + \\cdots\n",
    "$$\n",
    "\n",
    "このTaylor展開は $|x|<1$ で常に収束している. $a=n$ が0以上の整数の場合には $m=0,1,\\ldots,n$ に関する有限和になり, 通常の二項定理が得られる.  このTaylor展開を __二項展開__ (binomial expansion)と呼ぶ.\n",
    "\n",
    "次の形の二項係数を __負の二項係数__ と呼ぶことにする:\n",
    "\n",
    "$$\n",
    "(-1)^m\\binom{-a}{m} = (-1)^m\\frac{(-a)(-a-1)\\cdots(-a-m+1)}{m!} =\n",
    "\\frac{a(a+1)\\cdots(a+m-1)}{m!} = \\binom{a+m-1}{m}.\n",
    "$$\n",
    "\n",
    "上の二項展開の $x, a$ を $-x, -a$ で置き換えることによって, $|x|<1$ のとき,\n",
    "\n",
    "$$\n",
    "(1 - x)^{-a} = \\sum_{m=0}^\\infty (-1)^m\\binom{-a}{m}x^m =\n",
    "\\sum_{m=0}^\\infty \\binom{a+m-1}{m} x^m.\n",
    "$$\n",
    "\n",
    "この公式を __負の二項展開__ と呼ぶことにする."
   ]
  },
  {
   "cell_type": "markdown",
   "id": "e5fb5c59",
   "metadata": {},
   "source": [
    "### 負の二項分布の定義\n",
    "\n",
    "$0< p \\le 1$ であると仮定し, $k$ は正の整数であるとし, $m=0,1,2,\\ldots$ であるとする.\n",
    "\n",
    "確率 $p$ で $1$ が確率 $1-p$ で $0$ が生じるようなBernoulli試行を続けたとき, $1$ が合計でちょうど $k$ 個出たときの試行回数が $k + m$ になる確率は, 最初の $k+m-1$ 回中の $0$ の個数が $m$ 個で最後の $m+k$ 回目に $1$ が出る確率\n",
    "\n",
    "$$\n",
    "\\binom{k+m-1}{m} p^{k-1}(1-p)^m \\times p\n",
    "$$\n",
    "\n",
    "に等しいので,\n",
    "\n",
    "$$\n",
    "P(m) = \\binom{k+m-1}{m} p^k (1 - p)^m = (-1)^m\\binom{-k}{m} p^k (1 - p)^m\n",
    "$$\n",
    "\n",
    "になる.  この確率質量函数で定義される可算集合 $\\{0,1,2,3,\\ldots\\}$ 上の無限離散分布を __負の二項分布__ (negative binomial distribution)と呼び, 次のように表す:\n",
    "\n",
    "$$\n",
    "\\op{NegativeBinomial}(k, p).\n",
    "$$\n",
    "\n",
    "負の二項分布における確率の総和が $1$ になることは, 前節の負の二項展開からただちに得られる:\n",
    "\n",
    "$$\n",
    "\\sum_{m=0}^\\infty P(m) =\n",
    "p^k \\sum_{m=0}^\\infty \\binom{k+m-1}{m}(1 - p)^m =\n",
    "p^k (1 - (1 - p))^{-k} = p^k p^{-k} = 1.\n",
    "$$\n",
    "\n",
    "__注意:__ 以上および以下の計算は $k$ が正の整数でなくても,\n",
    "\n",
    "$$\n",
    "\\binom{k+m-1}{m} = \\frac{k(k+1)\\cdots(k+m-1)}{m!} > 0 \\quad (k > 0,\\; m = 0,1,2,3,\\ldots)\n",
    "$$\n",
    "\n",
    "なので, $k>0$ ならば確率質量函数\n",
    "\n",
    "$$\n",
    "P(m) = \\binom{k+m-1}{m} p^k (1 - p)^m = (-1)^m\\binom{-k}{m} p^k (1 - p)^m\n",
    "\\quad (m=0,1,2,3,\\ldots)\n",
    "$$\n",
    "\n",
    "は定義されている. 期待値と分散の計算も上で計算した結果と同じになる. このように拡張された離散分布も負の二項分布と呼ばれる."
   ]
  },
  {
   "cell_type": "markdown",
   "id": "5135d42a",
   "metadata": {},
   "source": [
    "### 負の二項分布の期待値と分散\n",
    "\n",
    "$M$ は負の二項分布 $\\op{NegativeBinomial}(k, p)$ に従う確率変数であるとし, $N = M + k$ とおく.\n",
    "\n",
    "$M$ は成功確率 $p$ のBernoulli試行をちょうど $k$ 回 $1$ が出るまで繰り返すときに出た $0$ の個数を意味する確率変数にになる.  \n",
    "\n",
    "$N$ はちょうど $k$ 回 $1$ が出たときの試行回数を意味する確率変数であり, その確率質量函数は\n",
    "\n",
    "$$\n",
    "P(n-k) = \\binom{n-1}{n-k} p^k (1 - p)^{n-k} = \\binom{n-1}{k-1} p^k (1 - p)^{n-k}\n",
    "$$\n",
    "\n",
    "になる(この式の形は二項分布の確率質量函数に近いが少しだけ違っている). \n",
    "\n",
    "それらの期待値と分散は次のようになる:\n",
    "\n",
    "$$\n",
    "E[M] = \\frac{k(1-p)}{p}, \\quad\n",
    "E[N] = E[M] + k = \\frac{k}{p}, \\quad\n",
    "\\var(M) = \\var(N) = \\frac{k(1-p)}{p^2}.\n",
    "$$\n",
    "\n",
    "これらは以下のようにして示される.  二項係数について\n",
    "\n",
    "$$\n",
    "\\begin{aligned}\n",
    "&\n",
    "m\\binom{a+m-1}{m} =\n",
    "m\\frac{a(a+1)\\cdots(a+m-1)}{m!}\n",
    "\\\\ & \\quad =\n",
    "a\\frac{(a+1)\\cdots(a-m+1)}{(m-1)!} =\n",
    "a\\binom{a+m-1}{m-1},\n",
    "\\\\ &\n",
    "m(m-1)\\binom{a+m-1}{m} =\n",
    "m(m-1)\\frac{a(a+1)(a+2)\\cdots(a+m-1)}{m!}\n",
    "\\\\ & \\quad =\n",
    "a(a+1)\\frac{(a+2)\\cdots(a+m-1)}{(m-2)!} =\n",
    "a(a+1)\\binom{a+m-1}{m-2}\n",
    "\\end{aligned}\n",
    "$$\n",
    "\n",
    "が成立することとと負の二項展開を使うと, 負の二項分布に従う確率変数 $M$ の期待値と分散は以下のように計算される:\n",
    "\n",
    "$$\n",
    "\\begin{aligned}\n",
    "&\n",
    "E[M] = \\sum_{m=0}^\\infty m P(m) =\n",
    "p^k \\sum_{m=1}^\\infty m\\binom{k+m-1}{m}(1 - p)^m =\n",
    "p^k \\sum_{m=1}^\\infty k\\binom{k+m-1}{m-1}(1 - p)^m \n",
    "\\\\ & \\quad =\n",
    "p^k k(1-p)\\sum_{m=1}^\\infty \\binom{(k+1)+(m-1)-1}{m-1}(1 - p)^{m-1} =\n",
    "p^k k(1-p) (1-(1-p))^{-(k+1)}\n",
    "\\\\ & \\quad =\n",
    "p^k k(1-p) p^{-(k+1)} =\n",
    "\\frac{k(1-p)}{p},\n",
    "\\\\ &\n",
    "E[M(M-1)] = \\sum_{m=0}^\\infty m(m-1) P(m) =\n",
    "p^k \\sum_{m=2}^\\infty m(m-1)\\binom{k+m-1}{m}(1 - p)^m =\n",
    "p^k \\sum_{m=2}^\\infty k(k+1)\\binom{k+m-1}{m-2}(1 - p)^m\n",
    "\\\\ & \\quad =\n",
    "p^k k(k+1)(1-p)^2\\sum_{m=1}^\\infty \\binom{(k+2)+(m-2)-1}{m-2}(1 - p)^{m-2} =\n",
    "p^k k(k+1)(1-p)^2 (1-(1-p))^{-(k+2)}\n",
    "\\\\ & \\quad =\n",
    "p^k k(k+1)(1-p)^2 p^{-(k+2)} =\n",
    "\\frac{k(k+1)(1-p)^2}{p^2},\n",
    "\\\\ &\n",
    "E[M(M-1)] = E[M^2] - E[M],\n",
    "\\\\ &\n",
    "E[M^2] = E[M(M-1)] + E[M] =\n",
    "\\frac{k(k+1)(1-p)^2}{p^2} + \\frac{k(1-p)}{p},\n",
    "\\\\ &\n",
    "\\var(M) = E[M^2] - E[M]^2 =\n",
    "\\frac{k(k+1)(1-p)^2}{p^2} + \\frac{k(1-p)}{p} - \\frac{k^2(1-p)^2}{p^2}\n",
    "\\\\ & \\quad =\n",
    "\\frac{-k(1-p)^2}{p^2} + \\frac{kp(1-p)}{p^2} =\n",
    "\\frac{k(1-p)}{p^2}.\n",
    "\\end{aligned}\n",
    "$$\n",
    "\n",
    "上の結果より, $N = M + k$ の期待値と分散は次のようになる:\n",
    "\n",
    "$$\n",
    "E[N] = E[M] + k = \\frac{k}{p}, \\quad\n",
    "\\var(N) = \\var(M) = \\frac{k(1-p)}{p^2}.\n",
    "$$\n",
    "\n",
    "__注意:__ 負の二項分布に従う確率変数の期待値と分散は $k=1$ の場合の幾何分布の期待値と分散のちょうど $k$ 倍になっている.  これは偶然ではなく, 必然的にこうなる理由がある. この点については後で確率変数の独立性について説明してから詳しく説明する. "
   ]
  },
  {
   "cell_type": "code",
   "execution_count": 37,
   "id": "caec6161",
   "metadata": {},
   "outputs": [
    {
     "data": {
      "text/latex": [
       "$\\displaystyle \\frac{k \\left(1 - p\\right)}{p^{2}}$\n"
      ],
      "text/plain": [
       "k*(1 - p)\n",
       "---------\n",
       "     2   \n",
       "    p    "
      ]
     },
     "execution_count": 37,
     "metadata": {},
     "output_type": "execute_result"
    }
   ],
   "source": [
    "@vars k p\n",
    "k*(k+1)*(1-p)^2/p^2 + k*(1-p)/p - k^2*(1-p)^2/p^2 |> simplify"
   ]
  },
  {
   "cell_type": "code",
   "execution_count": 38,
   "id": "07decf59",
   "metadata": {},
   "outputs": [
    {
     "name": "stdout",
     "output_type": "stream",
     "text": [
      "(mean(negbin), (k * (1 - p)) / p) = (12.0, 12.0)\n",
      "(mean(negbin) + k, k / p) = (16.0, 16.0)\n",
      "(var(negbin), (k * (1 - p)) / p ^ 2) = (48.0, 48.0)\n"
     ]
    }
   ],
   "source": [
    "k, p = 4, 0.25\n",
    "negbin = NegativeBinomial(k, p)\n",
    "@show mean(negbin), k*(1-p)/p\n",
    "@show mean(negbin) + k, k/p\n",
    "@show var(negbin), k*(1-p)/p^2;"
   ]
  },
  {
   "cell_type": "code",
   "execution_count": 39,
   "id": "b2781597",
   "metadata": {},
   "outputs": [
    {
     "data": {
      "image/png": "[encoded data removed]"
     },
     "execution_count": 39,
     "metadata": {},
     "output_type": "execute_result"
    }
   ],
   "source": [
    "negbin = NegativeBinomial(10, 0.5)\n",
    "μ, σ = mean(negbin), std(negbin)\n",
    "x = 0:round(Int, μ + 4σ)\n",
    "bar(x, x -> pdf(negbin, x); label=\"\",\n",
    "    title=\"NegativeBinomial(10, 0.5)\", alpha=0.5)\n",
    "plot!(; xtick=0:5:maximum(x)+5)"
   ]
  },
  {
   "cell_type": "markdown",
   "id": "6d7e9fdf",
   "metadata": {},
   "source": [
    "$M$ は負の二項分布 $\\op{NegativeBinomial}(k, p)$ に従う確率変数であるとし, $N=M+k$ とおく.  $L$ は正の整数であるとし, $\\theta = 1/(Lp)$, $T = N/L$ とおくと, $L$ を大きくしたとき, $T$ の分布はガンマ分布 $\\op{Gamma}(k, \\theta)$ で近似される."
   ]
  },
  {
   "cell_type": "code",
   "execution_count": 40,
   "id": "3dabb0fc",
   "metadata": {},
   "outputs": [
    {
     "data": {
      "image/png": "[encoded data removed]"
     },
     "execution_count": 40,
     "metadata": {},
     "output_type": "execute_result"
    }
   ],
   "source": [
    "k, θ = 5, 2\n",
    "L = 10\n",
    "p = 1/(L*θ)\n",
    "\n",
    "negbin = NegativeBinomial(k, p)\n",
    "μ, σ = mean(negbin), std(negbin)\n",
    "m = 0:round(Int, μ + 5σ)\n",
    "n = m .+ k\n",
    "t = n ./ L\n",
    "plot(t, pdf.(negbin, m)*L; label=\"(NegBin($k,$p)+$k)/$L\")\n",
    "plot!(t, pdf.(Gamma(k, θ), t); label=\"Gamma($k,$θ)\", ls=:dash)"
   ]
  },
  {
   "cell_type": "code",
   "execution_count": 41,
   "id": "cb0c7019",
   "metadata": {},
   "outputs": [
    {
     "data": {
      "image/png": "[encoded data removed]"
     },
     "execution_count": 41,
     "metadata": {},
     "output_type": "execute_result"
    }
   ],
   "source": [
    "k, θ = 5, 2\n",
    "L = 100\n",
    "p = 1/(L*θ)\n",
    "\n",
    "negbin = NegativeBinomial(k, p)\n",
    "μ, σ = mean(negbin), std(negbin)\n",
    "m = 0:round(Int, μ + 5σ)\n",
    "n = m .+ k\n",
    "t = n ./ L\n",
    "plot(t, pdf.(negbin, m)*L; label=\"(NegBin($k,$p)+$k)/$L\")\n",
    "plot!(t, pdf.(Gamma(k, θ), t); label=\"Gamma($k,$θ)\", ls=:dash)"
   ]
  },
  {
   "cell_type": "markdown",
   "id": "90daec36",
   "metadata": {},
   "source": [
    "$k$ が大きなとき, 負の二項分布 $\\op{NegativeBinomial}(k, p)$ は正規分布で近似される."
   ]
  },
  {
   "cell_type": "code",
   "execution_count": 42,
   "id": "47479716",
   "metadata": {},
   "outputs": [
    {
     "data": {
      "image/png": "[encoded data removed]"
     },
     "execution_count": 42,
     "metadata": {},
     "output_type": "execute_result"
    }
   ],
   "source": [
    "k, p = 100, 0.4\n",
    "\n",
    "negbin = NegativeBinomial(k, p)\n",
    "μ, σ = mean(negbin), std(negbin)\n",
    "m = round(Int, μ - 4σ):round(Int, μ + 4σ)\n",
    "n = m .+ k\n",
    "plot(n, pdf.(negbin, m); label=\"NegBin($k,$p)+$k\")\n",
    "plot!(Normal(μ+k, σ); label=\"normal approx.\", ls=:dash)\n",
    "plot!(; legend=:outertop)"
   ]
  },
  {
   "cell_type": "code",
   "execution_count": 43,
   "id": "2e6b73cc",
   "metadata": {},
   "outputs": [
    {
     "data": {
      "image/png": "[encoded data removed]"
     },
     "execution_count": 43,
     "metadata": {},
     "output_type": "execute_result"
    }
   ],
   "source": [
    "k, p = 1000, 0.4\n",
    "\n",
    "negbin = NegativeBinomial(k, p)\n",
    "μ, σ = mean(negbin), std(negbin)\n",
    "m = round(Int, μ - 4σ):round(Int, μ + 4σ)\n",
    "n = m .+ k\n",
    "plot(n, pdf.(negbin, m); label=\"NegBin($k,$p)+$k\")\n",
    "plot!(Normal(μ+k, σ); label=\"normal approx.\", ls=:dash)\n",
    "plot!(; legend=:outertop)"
   ]
  },
  {
   "cell_type": "markdown",
   "id": "f685f2b0",
   "metadata": {},
   "source": [
    "### 問題: 当たりが出る確率が5%のガチャを当たりが5回出るまで回す場合\n",
    "\n",
    "当たりが $p = 5\\% = 0.05$ で出るガチャを当たりがちょうど $k = 5$ 回出るまでに回した回数を $N$ と書くことにする.  $N$ は負の二項分布 $\\op{NegativeBinomial}(k, p)$ に従う確率変数 $M$ によって $N = M + k$ と書ける.\n",
    "\n",
    "(1) $N$ の期待値と分散と標準偏差を求めよ.\n",
    "\n",
    "(2) $N$ が150回以上, 200回以上になる確率を求めよ.\n",
    "\n",
    "確率や標準偏差の値は有効桁3桁以上が合っていれば正解とする.\n",
    "\n",
    "__解答例:__ $p = 0.05$, $k = 5$ とおく.\n",
    "\n",
    "(1) $N$ の期待値と分散と標準偏差:\n",
    "\n",
    "$$\n",
    "E[N] = \\frac{k}{p} = 100, \\quad\n",
    "\\var(N) = \\frac{k(1-p)}{p^2} = 1900, \\quad\n",
    "\\std(N) = \\sqrt{\\var(N)} \\approx 43.58.\n",
    "$$\n",
    "\n",
    "(2) ($N \\ge 150$ となる確率) = 1 $-$ ($N \\le 149$ となる確率):\n",
    "\n",
    "$$\n",
    "1 - \\sum_{n = 1}^{149} \\binom{n - 1}{k - 1} p^k (1 - p)^{n - k} \\approx 0.129.\n",
    "$$\n",
    "\n",
    "($N \\ge 200$ となる確率) = 1 $-$ ($N \\le 199$ となる確率):\n",
    "\n",
    "$$\n",
    "1 - \\sum_{n = 1}^{199} \\binom{n - 1}{k - 1} p^k (1 - p)^{n - k} \\approx 0.0273.\n",
    "$$\n",
    "\n",
    "__解答終__"
   ]
  },
  {
   "cell_type": "code",
   "execution_count": 44,
   "id": "422e8f6f",
   "metadata": {},
   "outputs": [
    {
     "name": "stdout",
     "output_type": "stream",
     "text": [
      "5 / p = 100//1\n",
      "(5 * (1 - p)) / p ^ 2 = 1900//1\n",
      "√((5 * (1 - p)) / p ^ 2) = 43.58898943540674\n"
     ]
    }
   ],
   "source": [
    "p = 5//100\n",
    "k = 5\n",
    "@show 5/p 5(1 - p)/p^2 √(5(1 - p)/p^2);"
   ]
  },
  {
   "cell_type": "code",
   "execution_count": 45,
   "id": "51247278",
   "metadata": {},
   "outputs": [
    {
     "name": "stdout",
     "output_type": "stream",
     "text": [
      "1 - sum((binomial(n - 1, k - 1) * p ^ k * (1 - p) ^ (n - k) for n = 1:Nmin - 1)) = 0.12922049010314218\n",
      "1 - sum((binomial(n - 1, k - 1) * p ^ k * (1 - p) ^ (n - k) for n = 1:Nmin - 1)) = 0.02734419238495378\n"
     ]
    }
   ],
   "source": [
    "p = 0.05\n",
    "k = 5\n",
    "for Nmin in (150, 200)\n",
    "    @show 1 - sum(binomial(n-1, k-1)*p^k*(1-p)^(n-k) for n in 1:Nmin-1)\n",
    "end"
   ]
  },
  {
   "cell_type": "code",
   "execution_count": 46,
   "id": "2a125cb7",
   "metadata": {},
   "outputs": [
    {
     "name": "stdout",
     "output_type": "stream",
     "text": [
      "negbin = NegativeBinomial(5, 0.05) = NegativeBinomial{Float64}(r=5.0, p=0.05)\n",
      "mean(negbin) + k = 100.0\n",
      "var(negbin) = 1899.9999999999995\n",
      "std(negbin) = 43.58898943540674\n",
      "ccdf(negbin, (Nmin - 1) - k) = 0.12922049010313866\n",
      "ccdf(negbin, (Nmin - 1) - k) = 0.027344192384949475\n"
     ]
    }
   ],
   "source": [
    "p = 0.05\n",
    "k = 5\n",
    "@eval @show negbin = NegativeBinomial($k, $p)\n",
    "@show mean(negbin) + k\n",
    "@show var(negbin)\n",
    "@show std(negbin)\n",
    "for Nmin in (150, 200)\n",
    "    @show ccdf(negbin, (Nmin - 1) - k)\n",
    "end"
   ]
  },
  {
   "cell_type": "markdown",
   "id": "62fe5fbf",
   "metadata": {},
   "source": [
    "Monte Carlo 法による近似計算:"
   ]
  },
  {
   "cell_type": "code",
   "execution_count": 47,
   "id": "6b8c66b3",
   "metadata": {},
   "outputs": [
    {
     "name": "stdout",
     "output_type": "stream",
     "text": [
      "mean(N) = 99.99065754\n",
      "var(N) = 9898.741484625854\n",
      "std(N) = 99.4924192319488\n",
      "mean((≥)(150), N) = 0.22367281\n",
      "mean((≥)(200), N) = 0.1352877\n"
     ]
    }
   ],
   "source": [
    "M = rand(negbin, 10^8) .+ k\n",
    "@show mean(N)\n",
    "@show var(N)\n",
    "@show std(N)\n",
    "@show mean(≥(150), N)\n",
    "@show mean(≥(200), N);"
   ]
  },
  {
   "cell_type": "markdown",
   "id": "e6cbe19c",
   "metadata": {},
   "source": [
    "### 多項分布の定義\n",
    "\n",
    "Bernoulli試行から二項分布が得られたのと同じように, カテゴリカル分布の同分布独立試行から多項分布が得られる.\n",
    "\n",
    "次のカテゴリカル分布を考える:\n",
    "\n",
    "$$\n",
    "\\op{Categorical}(p_1,\\ldots,p_r) = \n",
    "\\begin{array}{|c|cccc|}\n",
    "\\hline\n",
    "x & 1 & 2 & \\cdots & r \\\\\n",
    "\\hline\n",
    "P(x) & p_1 & p_2 & \\cdots & p_r \\\\\n",
    "\\hline\n",
    "\\end{array}\n",
    "$$\n",
    "\n",
    "このカテゴリカル分布にしたがって, 番号の $1,\\ldots,r$ のどれかをランダムに生成することを独立に $n$ 回繰り返すと, 番号 $1,\\ldots,r$ からなる長さ $n$ の数列ができる.  総和が $n$ になる0以上の整数達の組 $(k_1,\\ldots,k_r)$ が与えられたとき, その数列中に番号 $1,\\ldots,r$ がそれぞれ $k_1,\\ldots,k_r$ 個含まれている確率は\n",
    "\n",
    "$$\n",
    "P(k_1,\\dots,k_r) = \\frac{n!}{k_1!\\cdots k_r!} p_1^{k_1}\\cdots p_r^{k_r}\n",
    "$$\n",
    "\n",
    "になる.  この確率質量函数によって定義された有限集合\n",
    "\n",
    "$$\n",
    "\\{,(k_1,\\ldots,k_r)\\in\\Z_{\\ge 0}^r \\mid k_1+\\cdots+k_r \\,\\}\n",
    "$$\n",
    "\n",
    "上の多変量離散分布を多項分布と呼び,\n",
    "\n",
    "$$\n",
    "\\op{Multinomial}(n, p_1, \\ldots, p_r)\n",
    "$$\n",
    "\n",
    "と表す.  $r=2$ の場合の多項分布は本質的に二項分布に等しい."
   ]
  },
  {
   "cell_type": "markdown",
   "id": "c5d6a8aa",
   "metadata": {},
   "source": [
    "## 連続分布など"
   ]
  },
  {
   "cell_type": "markdown",
   "id": "083b25ca",
   "metadata": {},
   "source": [
    "### 連続分布と確率密度函数\n",
    "\n",
    "$a, b\\in \\R\\cup\\{\\pm\\infty\\}$, $a<b$ であるとし, 区間 $(a, b) = \\{\\,x\\in\\R\\mid a<x<b\\,\\}$ を考える. ($a=-\\infty$ や $b=\\infty$ となっている場合があるので注意せよ.) このとき, 実数 $x\\in (a, b)$ を0以上の実数に対応させる函数 $p(x)$ で\n",
    "\n",
    "$$\n",
    "\\int_a^b p(x)\\,dx = 1\n",
    "$$\n",
    "\n",
    "を満たすものを区間 $(a, b)$ 上の __確率密度函数__ (probability density function, pdf)もしくは単に __密度函数__ (density function)と呼ぶ. \n",
    "\n",
    "密度函数の定義域を実数全体に拡張する場合には区間 $(a, b)$ の外での値は $0$ にする.\n",
    "\n",
    "区間 $(a, b)$ 上の確率密度函数が与えられているとき, 区間 $(a, b)$ 上の __連続確率分布__ もしくは __連続分布__ が与えられているいう.　(区間の両端を区間に含めても含めなくてもよいが, 連続分布の場合にはその違いを気にする必要はない.  なぜならば, 連続分布において一点の確率は0だからである.)\n",
    "\n",
    "確率分布を単に分布と呼ぶことがよくある.\n",
    "\n",
    "1次元の区間を $n$ 次元の $\\R^n$ における領域に一般化して, $n$ 変量の連続分布を定義することもできる. その場合には上の積分は $n$ 重積分になる.  多変量連続分布については後で具体的な例を通して説明することにする."
   ]
  },
  {
   "cell_type": "markdown",
   "id": "31a2b132",
   "metadata": {},
   "source": [
    "### 一様分布の定義\n",
    "\n",
    "区間 $(a, b)$ 上の確率密度函数\n",
    "\n",
    "$$\n",
    "p(x) = \\frac{1}{b - a} \\quad (a < x < b)\n",
    "$$\n",
    "\n",
    "によって与えられる連続分布を区間 $(a, b)$ 上の一様分布と呼び, 次のように表す:\n",
    "\n",
    "$$\n",
    "\\op{Uniform}(a, b).\n",
    "$$\n",
    "\n",
    "半開区間 $[a, b)$, $(a, b]$ や閉区間 $[a, b]$ 上の一様分布も同様に定義されるが, 区間の両端を含めるか否かは本質的ではない.\n",
    "\n",
    "コンピュータでの `rand()` 函数は近似的に区間 $[0, 1)$ 上の一様分布に従う確率変数とみなされる."
   ]
  },
  {
   "cell_type": "markdown",
   "id": "175a2f37",
   "metadata": {},
   "source": [
    "一様分布 $\\op{Uniform}(0,1)$ の確率密度函数のグラフは以下のようになる."
   ]
  },
  {
   "cell_type": "code",
   "execution_count": 48,
   "id": "9f2911f8",
   "metadata": {},
   "outputs": [
    {
     "data": {
      "image/png": "[encoded data removed]"
     },
     "execution_count": 48,
     "metadata": {},
     "output_type": "execute_result"
    }
   ],
   "source": [
    "plot(Uniform(0, 1), -0.4, 1.4; label=\"\", title=\"Uniform(0, 1)\")"
   ]
  },
  {
   "cell_type": "markdown",
   "id": "4616ca20",
   "metadata": {},
   "source": [
    "### 正規分布の定義\n",
    "\n",
    "$\\mu \\in \\R$, $\\sigma \\in \\R$, $\\sigma > 0$ と仮定する.  実数直線 $\\R = (-\\infty, \\infty)$ 上の確率密度函数\n",
    "\n",
    "$$\n",
    "p(x) = \\frac{1}{\\sqrt{2\\pi\\sigma^2}}\\exp\\left(-\\frac{(x - \\mu)^2}{2\\sigma^2}\\right)\n",
    "$$\n",
    "\n",
    "によって与えられる連続分布を平均 $\\mu$, 分散 $\\sigma^2$ の __正規分布__ (normal distribution)と呼び, \n",
    "\n",
    "$$\n",
    "\\op{Normal}(\\mu, \\sigma)\n",
    "$$\n",
    "\n",
    "と表す.  パラメータ $\\sigma$ は標準偏差と呼ばれる.\n",
    "\n",
    "特に平均 $0$, 分散 $1$ の正規分布を __標準正規分布__ (standard normal distribution)と呼び, \n",
    "\n",
    "$$\n",
    "\\op{Normal}() = \\op{Normal}(0,1)\n",
    "$$\n",
    "\n",
    "と表すことにする.\n",
    "\n",
    "__分布のパラメータとしての平均 $\\mu$ や分散 $\\sigma^2$ と後で出て来る標本の平均や分散を概念的に厳密に区別する必要がある.__\n",
    "\n",
    "互いに密接に関係はしているが異なる概念を同じ用語で呼ぶことが原因で初学者は大抵の場合混乱する. \n",
    "\n",
    "__混乱せずに済ますためには__ 「平均」や「分散」という用語を使う場合には必ず「○○分布の平均と分散」や「確率変数○○の平均と分散」や「標本○○の平均と分散」のように __「～の平均と分散」という言い方をすればよいだろう.__"
   ]
  },
  {
   "cell_type": "markdown",
   "id": "35394299",
   "metadata": {},
   "source": [
    "正規分布の確率密度函数のグラフは以下の形になる.  この形は「釣鐘型」(bell-shaped)と表現されることが多い."
   ]
  },
  {
   "cell_type": "code",
   "execution_count": 49,
   "id": "b5a18fea",
   "metadata": {},
   "outputs": [
    {
     "data": {
      "image/png": "[encoded data removed]"
     },
     "execution_count": 49,
     "metadata": {},
     "output_type": "execute_result"
    }
   ],
   "source": [
    "plot(Normal(2, 3), 2-4*3, 2+4*3; label=\"\", title=\"Normal(2, 3)\", xtick=-100:2:100)"
   ]
  },
  {
   "cell_type": "code",
   "execution_count": 50,
   "id": "3dc33ba5",
   "metadata": {},
   "outputs": [
    {
     "data": {
      "image/png": "[encoded data removed]"
     },
     "execution_count": 50,
     "metadata": {},
     "output_type": "execute_result"
    }
   ],
   "source": [
    "plot(Normal(), -4, 4; label=\"\", title=\"Normal()\", xtick=-100:100)"
   ]
  },
  {
   "cell_type": "markdown",
   "id": "c1446dac",
   "metadata": {},
   "source": [
    "標準正規分布において, 値が $-1$ 以上 $1$ 以下になる確率, $-2$ 以上 $2$ 以下になる確率, $-1.96$ 以上 $1.96$ 以下になる確率はそれぞれ以下のようになる."
   ]
  },
  {
   "cell_type": "code",
   "execution_count": 51,
   "id": "badd26b3",
   "metadata": {},
   "outputs": [
    {
     "name": "stdout",
     "output_type": "stream",
     "text": [
      "cdf(Normal(), 1) - cdf(Normal(), -1) = 0.6826894921370861\n"
     ]
    },
    {
     "data": {
      "image/png": "[encoded data removed]"
     },
     "execution_count": 51,
     "metadata": {},
     "output_type": "execute_result"
    }
   ],
   "source": [
    "@show cdf(Normal(), 1) - cdf(Normal(), -1)\n",
    "plot(Normal(), -4, 4; label=\"\", title=\"Normal()\", xtick=-100:100)\n",
    "plot!(Normal(), -1, 1; label=\"\", c=1, fillrange=0, fillcolor=:red, fillalpha=0.3)"
   ]
  },
  {
   "cell_type": "code",
   "execution_count": 52,
   "id": "7c847969",
   "metadata": {},
   "outputs": [
    {
     "name": "stdout",
     "output_type": "stream",
     "text": [
      "cdf(Normal(), 2) - cdf(Normal(), -2) = 0.9544997361036416\n"
     ]
    },
    {
     "data": {
      "image/png": "[encoded data removed]"
     },
     "execution_count": 52,
     "metadata": {},
     "output_type": "execute_result"
    }
   ],
   "source": [
    "@show cdf(Normal(), 2) - cdf(Normal(), -2)\n",
    "plot(Normal(), -4, 4; label=\"\", title=\"Normal()\", xtick=-100:100)\n",
    "plot!(Normal(), -2, 2; label=\"\", c=1, fillrange=0, fillcolor=:red, fillalpha=0.3)"
   ]
  },
  {
   "cell_type": "code",
   "execution_count": 53,
   "id": "312e7962",
   "metadata": {},
   "outputs": [
    {
     "name": "stdout",
     "output_type": "stream",
     "text": [
      "cdf(Normal(), 1.96) - cdf(Normal(), -1.96) = 0.950004209703559\n"
     ]
    },
    {
     "data": {
      "image/png": "[encoded data removed]"
     },
     "execution_count": 53,
     "metadata": {},
     "output_type": "execute_result"
    }
   ],
   "source": [
    "@show cdf(Normal(), 1.96) - cdf(Normal(), -1.96)\n",
    "plot(Normal(), -4, 4; label=\"\", title=\"Normal()\", xtick=-100:100)\n",
    "plot!(Normal(), -1.96, 1.96; label=\"\", c=1, fillrange=0, fillcolor=:red, fillalpha=0.3)"
   ]
  },
  {
   "cell_type": "markdown",
   "id": "da7ee3d0",
   "metadata": {},
   "source": [
    "### 連続確率変数\n",
    "\n",
    "区間 $(a, b)$ 上の確率密度函数 $p(x)$ が与えられているとする.\n",
    "\n",
    "さらに, 区間 $(a, b)$ 上の実数値函数を __連続分布における確率変数__ と呼ぶ. (積分が定義できるような良い函数に限ることにする. 複素数値, ベクトル値, 行列値の連続確率変数を考えることもある.)\n",
    "\n",
    "たとえば, $x\\in(a,b)$ をそれ自身 $x\\in\\R$ に対応させる函数は確率変数とみなされる. 以下ではそれを $X$ と書き, 確率密度函数 $p(x)$ を持つ __連続確率変数__ と呼ぶ(確率密度函数を持つ確率変数を連続確率変数と呼ぶ).  そのとき,\n",
    "\n",
    "$$\n",
    "X \\sim p(x)\n",
    "$$\n",
    "\n",
    "と書くことがある. さらに, 確率密度函数 $p(x)$ で与えられる連続分布の名前が $\\op{Dist}$ のとき, $X$ は分布 $\\op{Dist}$ に従う確率変数であると言い(「従う」は \"follow\" の訳語), 以下のように書く:\n",
    "\n",
    "$$\n",
    "X \\sim \\op{Dist}.\n",
    "$$"
   ]
  },
  {
   "cell_type": "markdown",
   "id": "4c9e2e48",
   "metadata": {},
   "source": [
    "### 連続確率変数に関する確率とその期待値\n",
    "\n",
    "値が $a \\le c\\le d \\le b$ であると仮定する.\n",
    "\n",
    "確率密度函数 $p(x)$ を持つ確率変数 $X$ が $c$ より大きく $d$ より小さくなる確率 $P(c < X < d)$ を積分を使って\n",
    "\n",
    "$$\n",
    "P(c < X < d) = \\int_c^d p(x)\\,dx\n",
    "$$\n",
    "\n",
    "と定義する.  $c$ 以上 $d$ 以下の確率 $P(c\\le X \\le d)$ なども同じ積分の値で定義する:\n",
    "\n",
    "$$\n",
    "P(c \\le X \\le d) = \\int_c^d p(x)\\,dx.\n",
    "$$\n",
    "\n",
    "特に $X$ の値がぴったり $c$ に等しくなる確率 $P(X = c)$ は次のように $0$ になる:\n",
    "\n",
    "$$\n",
    "P(X = c) = P(c\\le X\\le c) = \\int_c^c p(x)\\,dx = 0.\n",
    "$$\n",
    "\n",
    "$x\\in(a, b)$ を含む長さ $dx$ の微小区間 $I = (x - t\\,dx, x + u\\,dx) \\subset (a, b)$ ($t,u\\ge 0$, $t+u=1$) に値が含まれる確率は\n",
    "\n",
    "$$\n",
    "P(X \\in I) = \\int_{x-t\\,dx}^{x+u\\,dx} p(x')\\,dx' \\approx p(x)\\,dx\n",
    "$$\n",
    "\n",
    "のように近似される. これが $p(x)$ が確率の密度であることの意味である.\n",
    "\n",
    "確率変数 $f(X)$ の期待値 $E[f(X)]$ が次のように定義される:\n",
    "\n",
    "$$\n",
    "E[f(X)] = \\int_a^b f(x)p(x)\\,dx.\n",
    "$$\n",
    "\n",
    "ただし, これは $\\int_a^b |f(x)|p(x)\\,dx$ が有限の値に収束する場合(積分が絶対収束する場合)にのみ定義されていると考える.\n",
    "\n",
    "$X$ の従う分布の名前が $\\op{Dist}$ のとき $E[X]$ を __分布 $\\op{Dist}$ の期待値__ と呼ぶ.\n",
    "\n",
    "期待値を __平均__ または __平均値__ と呼ぶこともあるが, あとで定義する標本の平均値と確率変数の平均＝期待値を区別する必要があるので注意が必要である.\n",
    "\n",
    "確率変数 $1_{c\\le f(X)\\le d}(X)$ を\n",
    "\n",
    "$$\n",
    "1_{c\\le f(X)\\le d}(x) = \\begin{cases}\n",
    "1 & (c\\le x\\le d) \\\\\n",
    "0 & (\\text{otherwise})\n",
    "\\end{cases}\n",
    "$$\n",
    "\n",
    "と定めると,\n",
    "\n",
    "$$\n",
    "E[1_{c\\le f(X)\\le d}(X)] = \\int_a^b 1_{c\\le f(X)\\le d}(x)p(x)\\,dx =\n",
    "\\int_c^d p(x)\\,dx = P(c\\le X\\le d).\n",
    "$$\n",
    "\n",
    "このように期待値の概念は確率の概念を含んでいると考えてよい.\n",
    "\n",
    "__再度強調:__ __確率変数の定義を期待値が定義されている変数(のようなもの)のことだと思ってもよい__ と言ってよいくらい, 期待値の概念は確率変数について基本的である.  統計学に必要な理論的な計算の多くが期待値を取る操作 $E[\\;]$ の計算に帰着されることになる."
   ]
  },
  {
   "cell_type": "markdown",
   "id": "6970df82",
   "metadata": {},
   "source": [
    "### 確率変数の確率密度函数\n",
    "\n",
    "確率変数 $Y = f(X)$ を考える. ある $y$ の確率密度函数 $p_Y(y)$ が存在して, $Y$ の函数達 $g(Y)$ について\n",
    "\n",
    "$$\n",
    "E[g(Y)] = \\int g(y)\\,p_Y(y)\\,dy\n",
    "$$\n",
    "\n",
    "と書けるとき, $Y$ は __確率密度函数 $p_Y(y)$ を持つ__ という. 右辺は定積分であることに注意せよ.  積分区間は場合ごとに異なるので表記を省略した.  この説明の曖昧さを除くために例を使って説明しよう.\n",
    "\n",
    "__例:__ $X$ は一様分布 $\\op{Uniform}(0, 2)$ に従う確率変数であるとし, $Y = X^2$ とおく.  このとき, 積分変数を $x = \\sqrt{y}$ によって変換すると, $dx = y^{-1/2}\\,dy/2$ なので\n",
    "\n",
    "$$\n",
    "E[g(Y)] = \\frac{1}{2}\\int_0^2 g(x^2) \\,dx =\n",
    "\\int_0^{\\sqrt{2}} g(y)\\,\\frac{1}{4}y^{-1/2}\\,dy.\n",
    "$$\n",
    "\n",
    "ゆえに $Y = X^2$ は確率密度函数\n",
    "\n",
    "$$\n",
    "p_Y(y) = \\frac{1}{4}y^{-1/2} \\quad \\left(0 < y < \\sqrt{2}\\right)\n",
    "$$\n",
    "\n",
    "を持つ.\n",
    "\n",
    "__例:__ $Z$ は標準正規分布に従う確率変数であるとし, $Y = Z^2$ とおく. このとき $z^2$ が $z$ の偶函数であることと, 積分の変数変換 $z = \\sqrt{y}$ によって,\n",
    "\n",
    "$$\n",
    "E[g(Y)] =\n",
    "\\frac{1}{\\sqrt{2\\pi}} \\int_{-\\infty}^\\infty g(z^2)\\,e^{-z^2/2}\\,dz =\n",
    "\\frac{2}{\\sqrt{2\\pi}} \\int_0^\\infty g(z^2)\\,e^{-z^2/2}\\,dz =\n",
    "\\frac{1}{\\sqrt{2\\pi}} \\int_0^\\infty g(y)\\,e^{-y}y^{-1/2}\\,dy.\n",
    "$$\n",
    "\n",
    "ゆえに $Y = Z^2$ は確率密度函数\n",
    "\n",
    "$$\n",
    "p_Y(y) = \\frac{1}{\\sqrt{2\\pi}} e^{-y}y^{-1/2} \\quad (y > 0)\n",
    "$$\n",
    "\n",
    "を持つ.  この確率密度函数で定義される連続分布は __自由度1のχ²分布__ (カイ二乗分布)と呼ばれている.\n",
    "\n",
    "__記号法上の注意:__ 以上における $p_Y(y)$ を単に $p(y)$ と書いて, $x$ と $y$ の変数名の違いによって, $X$ の確率密度函数 $p(x)$ と区別することもある.  そういうスタイルは初学者の混乱の原因になりえるが, 手計算をするときには非常に便利であり, 無駄な添え字を付けることを無くせるので結構便利である. 実際によく使われるので, 文献を読むときには知っておかないと困る知識でもある."
   ]
  },
  {
   "cell_type": "markdown",
   "id": "80314432",
   "metadata": {},
   "source": [
    "### 確率変数の確率質量函数\n",
    "\n",
    "連続確率変数 $X$ の函数 $Y = f(X)$ が離散確率変数になる場合もあることにも注意せよ.\n",
    "\n",
    "$Y = f(X)$ の取り得る値が離散的な $\\{b_1, b_2, b_3, \\ldots\\}$ に限り, ある確率質量函数 $P_Y(y)$ が存在して,\n",
    "\n",
    "$$\n",
    "E[g(Y)] = \\sum_i g(b_i) P_Y(b_i)\n",
    "$$\n",
    "\n",
    "が成立するとき, $Y = f(X)$ は __確率質量函数 $P_Y(y)$ を持つ__ という.\n",
    "\n",
    "__例:__ $T$ は一様分布 $\\op{Uniform}(0, 1)$ に従う連続確率変数であるとし, $X = f(T)$ を\n",
    "\n",
    "$$\n",
    "f(t) = \\begin{cases}\n",
    "1  & (t < 0.3)   \\\\\n",
    "0  & (t \\ge 0.3) \\\\\n",
    "\\end{cases}\n",
    "$$\n",
    "\n",
    "によって定義する.  このとき,\n",
    "\n",
    "$$\n",
    "E[g(X)] =\n",
    "\\int_0^1 g(f(t))\\, dt =\n",
    "\\int_0^{0.3} g(1)\\, dt + \\int_{0.3}^1 g(0)\\, dt =\n",
    "g(1)\\cdot 0.3 + g(0)\\cdot 0.7.\n",
    "$$\n",
    "\n",
    "ゆえに $X = f(T)$ は確率質量函数\n",
    "\n",
    "$$\n",
    "P_X(1) = 0.3, \\quad P_X(0) = 0.7\n",
    "$$\n",
    "\n",
    "を持つ.  この例は一様乱数からBernoulli試行を作るときにすでに登場している."
   ]
  },
  {
   "cell_type": "markdown",
   "id": "fb465539",
   "metadata": {},
   "source": [
    "### 連続分布における確率変数の期待値を取る操作の基本性質\n",
    "\n",
    "連続確率変数 $X$ の函数 $f(X)$ の期待値を取る操作(期待値汎函数) $E[f(X)]$ は以下の性質を満たしている.\n",
    "\n",
    "* 線形性: $E[\\alpha f(X) + \\beta g(X)] = \\alpha E[f(X)] + \\beta E[g(X)]$,\n",
    "* 単調性: 任意の $x = a_i$ について $f(x)\\le g(x)$ ならば $E[f(X)]\\le E[g(X)]$,\n",
    "* 規格化: $E[\\alpha] = \\alpha$.  (特に $E[1]=1$).\n",
    "\n",
    "この性質はすでに説明した離散確率変数の基本性質と完全に同じ形をしており, 離散の場合の和を積分に置き換えれば全く同じ方法で証明される."
   ]
  },
  {
   "cell_type": "markdown",
   "id": "5eaedb43",
   "metadata": {},
   "source": [
    "### 問題: Markovの不等式とChebyshevの不等式\n",
    "\n",
    "$X$ は確率密度函数または確率質量函数を持つ確率変数であるとする.\n",
    "\n",
    "$a, t > 0$ のとき, 確率変数 $Y = f(X)$ について次が成立することを示せ:\n",
    "\n",
    "$$\n",
    "P(|Y| \\ge t) \\le \\frac{1}{t^a}E[|Y|^a].\n",
    "$$\n",
    "\n",
    "この不等式の $a=1$ の場合を __Markovの不等式__ と呼び, $a=2$ の場合を __Chebyshevの不等式__ と呼ぶ.\n",
    "\n",
    "__解答例:__ 確率変数 $1_{|Y|\\ge t}(X)$ を\n",
    "\n",
    "$$\n",
    "1_{|Y|\\ge t}(x) = \\begin{cases}\n",
    "1 & (|f(x)| \\ge t) \\\\\n",
    "0 & (\\text{otherwise}) \\\\\n",
    "\\end{cases}\n",
    "$$\n",
    "\n",
    "と定めると,\n",
    "\n",
    "$$\n",
    "P(|Y| \\ge t) = E[1_{|Y|\\ge t}(X)]\n",
    "$$\n",
    "\n",
    "となるのであった. $|f(x)| \\ge t$ ならば $1_{|Y|\\ge t}(x) = 1$ となるので,\n",
    "\n",
    "$$\n",
    "|f(x)|^a \\ge t^a = t^a 1_{|Y|\\ge t}(x)\n",
    "$$\n",
    "\n",
    "となり, $|f(x)| < t$ ならば $1_{|Y|\\ge t}(x) = 0$ となるので\n",
    "\n",
    "$$\n",
    "|f(x)|^a \\ge 0 = t^a 1_{|Y|\\ge t}(x)\n",
    "$$\n",
    "\n",
    "が自明に成立する. ゆえに期待値を取る操作の単調性と線形性より,\n",
    "\n",
    "$$\n",
    "E[|Y|^a] \\ge t^a E[1_{|Y|\\ge t}(X)] = t^a P(|Y| \\ge t).\n",
    "$$\n",
    "\n",
    "両辺を $t^a$ で割れば示したい不等式が得られる.\n",
    "\n",
    "__解答終__"
   ]
  },
  {
   "cell_type": "markdown",
   "id": "60310545",
   "metadata": {},
   "source": [
    "### 問題: Jensenの不等式\n",
    "\n",
    "$y = f(x)$ は上に凸な函数であるとする. ある一次函数 $y = a(x-\\mu) + f(\\mu)$ が存在して(この一次函数は直観的には　$y = f(x)$ の接線である), $f(x) \\le a(x-\\mu) + f(\\mu)$ という不等式が成立することを認めて, 確率変数 $X$ について以下が成立することを示せ:\n",
    "\n",
    "(1) $f(x)$ が上に凸な函数ならば $E[f(X)] \\le f(E[X])$\n",
    "\n",
    "(2) $f(x)$ が下に凸な函数ならば $E[f(X)] \\ge f(E[X])$\n",
    "\n",
    "これらを __Jensenの不等式__ (イェンセンの不等式)と呼ぶ.\n",
    "\n",
    "__解答例:__ $f(x)$ は上に凸な函数であるとし, $\\mu = E[X]$ とおく. ある一次函数 $y = a(x-\\mu) + f(\\mu)$ が存在して\n",
    "\n",
    "$$\n",
    "f(x) \\le a(x-\\mu) + f(\\mu)\n",
    "$$\n",
    "\n",
    "という不等式が成立する.  この両辺の $x$ に確率変数 $X$ を代入して期待値を取ると, 期待値を取る操作の単調性より,\n",
    "\n",
    "$$\n",
    "E[f(X)] \\le E[a(X-\\mu) + f(\\mu)].\n",
    "$$\n",
    "\n",
    "右辺に期待値を取る操作の線形性と規格化条件を適用し, $\\mu = E[X]$ を代入すると,\n",
    "\n",
    "$$\n",
    "E[f(X)] \\le a(E[X]-\\mu) + f(\\mu) = f(E[X]).\n",
    "$$\n",
    "\n",
    "これで(1)が示された.  $f(x)$ が下に凸な場合には $-f(x)$ が上に凸になるので, (1)から(2)が導かれることがわかる.\n",
    "\n",
    "__解答終__\n",
    "\n",
    "__注意:__ 以上のように, Jensenの不等式は期待値を取る操作の基本性質をちょうど全部使えば証明できる.  期待値を取る操作の基本性質が十分に強力であることがこの証明から分かる."
   ]
  },
  {
   "cell_type": "markdown",
   "id": "ac3381ef",
   "metadata": {},
   "source": [
    "### 問題: 相加相乗平均の不等式\n",
    "\n",
    "Jensenの不等式を使って, $a_1,\\ldots,a_n > 0$ のとき, 次が成立することを示せ:\n",
    "\n",
    "$$\n",
    "(a_1\\cdots a_n)^{1/n} \\le \\frac{a_1+\\cdots+a_n}{n}.\n",
    "$$\n",
    "\n",
    "__解答例:__ $E[f(X)]$ を\n",
    "\n",
    "$$\n",
    "E[f(X)] = \\frac{f(a_1) + \\cdots + f(a_n)}{n}\n",
    "$$\n",
    "\n",
    "と定めると, $E[\\;]$ は期待値を取る操作の基本性質をすべて満たしており, $f(x)=\\log x$ のとき\n",
    "\n",
    "$$\n",
    "E[\\log X] = \\frac{\\log a_1 + \\cdots + \\log a_n}{n} = \\log(a_1\\cdots a_n)^{1/n}, \\quad\n",
    "E[X] = \\frac{a_1+\\cdots+a_n}{n}.\n",
    "$$\n",
    "\n",
    "ゆえに $f(x) = \\log x$ (これは上に凸)に関するJensenの不等式 $E[\\log X]\\le\\log E[X]$ より,\n",
    "\n",
    "$$\n",
    "\\log(a_1\\cdots a_n)^{1/n} \\le \\log\\frac{a_1+\\cdots+a_n}{n}.\n",
    "$$\n",
    "\n",
    "$\\log x$ 単調増加函数なので, $(a_1\\cdots a_n)^{1/n} \\le (a_1+\\cdots+a_n)/n$ が得られる.\n",
    "\n",
    "__解答終__"
   ]
  },
  {
   "cell_type": "markdown",
   "id": "6136eade",
   "metadata": {},
   "source": [
    "### 問題: Kullback-Leibler情報量とGibbsの情報不等式\n",
    "\n",
    "2つの確率密度函数 $p(x)$, $q(x)$ に対して, __Kullback-Leibler情報量__ $D(q||p)$ を\n",
    "\n",
    "$$\n",
    "D(q||p) = \\int q(x)\\log\\frac{q(x)}{p(x)}\n",
    "$$\n",
    "\n",
    "と定める.  このとき\n",
    "\n",
    "$$\n",
    "D(q||p) \\ge 0\n",
    "$$\n",
    "\n",
    "となることを示せ. この不等式を __Gibbsの情報不等式__ と呼ぶ.\n",
    "\n",
    "__解答例:__ $x>0$ について, $f(x)=x \\log x$ とおくと, $f'(x) = \\log x + 1$, $f''(x) = 1/x > 0$ なので, $f(x)$ は下に凸な函数になる. 確率密度函数 $p(x)$ で定義される分布に従う確率変数を $X$ と書き, $Y = q(x)/p(x)$ とおく. このとき,\n",
    "\n",
    "$$\n",
    "\\begin{aligned}\n",
    "&\n",
    "E[Y] = \\int \\frac{q(x)}{p(x)}\\,p(x)\\,dx = \\int q(x)\\,dx = 1,\n",
    "\\\\ &\n",
    "E[f(Y)] =\n",
    "\\int \\frac{q(x)}{p(x)}\\log\\frac{q(x)}{p(x)}\\,p(x)\\,dx =\n",
    "\\int q(x)\\log\\frac{q(x)}{p(x)}\\,dx = D(q||p).\n",
    "\\end{aligned}\n",
    "$$\n",
    "\n",
    "下の凸な函数 $f(x)$ に関するJensenの不等式より,\n",
    "\n",
    "$$\n",
    "E[f(Y)] \\ge f(E[Y]) = f(1) = 1\\log 1 = 0.\n",
    "$$\n",
    "\n",
    "以上を合わせるとGibbsの情報不等式 $D(q||p)\\ge 0$ が得られる.\n",
    "\n",
    "__解答終__\n",
    "\n",
    "__注意:__ Kullback-Leibler情報量は2つの確率質量函数 $P(x)$, $Q(x)$ についても同様に\n",
    "\n",
    "$$\n",
    "D(q||p) = \\sum_x Q(x)\\log\\frac{Q(x)}{Q(x)}\n",
    "$$\n",
    "\n",
    "と定義され, 上の証明における積分を和で置き換えれば, 全く同様にしてGibbsの情報不等式を示せる.\n",
    "\n",
    "__注意:__ Kullback-Leibler情報量は2つの確率分布の違いの大きさを測る指標として使われるので, Gibbsの情報不等式は基本的である.  ($D(q||q)=0$ となることにも注意せよ.)  Kullback-Leibler情報量の __Sanovの定理__ より, Kullback-Leibler情報量 $D(q||p)$ は分布 $p$ による分布 $q$ のMonte Carloシミュレーションの誤差の大きさの指標の1つになっていることがわかる. シミュレートする側の $p$ とされる側の $q$ の立場は非対称なので $D(q||p)$ が $p$ と $q$ の交換について不変でないことは自然である.  Kullback-Leibler情報量のこの性質は以下の2つの異なる使い方をされることがある:\n",
    "\n",
    "(1) 未知の真の分布 $q$ がそのモデル化とみなせる分布 $p$ でどれだけ近似されているかを測るための指標として使う. (汎化誤差の概念はこのようにして得られる. この考え方はモデル選択における情報量規準の理論の基礎になっている.)\n",
    "\n",
    "(2) 求めるには大量の計算が必要な分布 $p$ を計算量が少なくてすむ特殊な形の分布 $q$ で近似したいことがある. そのときに, 特殊な形の分布 $q$ で分布 $p$ から(Monte Carloシミュレーションの意味で)最も出て来やすい分布を選ぶためにはKullback-Leibler情報量 $D(q||p) を最小化すればよい. (ベイズ統計における変分推論はこの典型例になっている.)"
   ]
  },
  {
   "cell_type": "markdown",
   "id": "f3c5b674",
   "metadata": {},
   "source": [
    "### 連続分布における確率変数の分散\n",
    "\n",
    "連続確率変数 $X$ について, 確率変数 $Y = f(X)$ の期待値を\n",
    "\n",
    "$$\n",
    "\\mu_{Y} = E[Y] = E[f(X)].\n",
    "$$\n",
    "\n",
    "と書くとき, $Y = f(X)$ の __分散__(variance) $\\var(f(X))$ は次のように定義される:\n",
    "\n",
    "$$\n",
    "\\var(Y) = E\\left[(Y - \\mu_{Y})^2\\right] = \\int_a^b (f(x) - \\mu_Y)^2p(x)\\,dx.\n",
    "$$\n",
    "\n",
    "これが $\\var(Y) = E[Y^2] - E[Y]^2$ を満たすことを離散の場合と完全に同様に証明できる.\n",
    "\n",
    "連続分布における確率変数 $Y$ の場合もその標準偏差を $\\std(Y) = \\sqrt{\\var(Y)}$ と定める.\n",
    "\n",
    "$X$ の従う分布の名前が $\\op{Dist}$ のとき $\\op{var}(X)$ を __分布 $\\op{Dist}$ の分散__ と呼ぶ. 標準偏差についても同様とする.\n"
   ]
  },
  {
   "cell_type": "markdown",
   "id": "1a6bbc5e",
   "metadata": {},
   "source": [
    "### 問題: 正規分布モデルによる他の分布の最良近似\n",
    "\n",
    "$p(x)$ が平均 $\\mu$, 分散 $\\sigma^2$ を持つ正規分布の確率密度函数であるとする:\n",
    "\n",
    "$$\n",
    "p(x) = \\frac{1}{\\sqrt{2\\pi\\sigma^2}}e^{-(x-\\mu)^2/(2\\sigma^2)}.\n",
    "$$\n",
    "\n",
    "確率密度函数 $q(x)$ が定める分布の平均と分散をそれぞれ $\\mu_0$, $\\sigma_0^2$ と書こう:\n",
    "\n",
    "$$\n",
    "\\mu_0 = \\int x\\,q(x)\\,dx, \\quad \\sigma_0 = \\int (x - \\mu_0)^2\\,q(x)\\,dx.\n",
    "$$\n",
    "\n",
    "ここで $\\int\\cdots dx$ は実数直線全体での定積分を表す. このとき, 少し上の方で定義したKullback-Leibler情報量\n",
    "\n",
    "$$\n",
    "D(q||p) = \\int q(x)\\log\\frac{q(x)}{p(x)}\\,dx =\n",
    "\\int (-\\log p(x))q(x)\\,dx + \\int q(x)\\log q(x)\\,dx\n",
    "$$\n",
    "\n",
    "は次の形になることを示せ:\n",
    "\n",
    "$$\n",
    "D(q||p) =\n",
    "\\frac{\\sigma_0^2 + (\\mu-\\mu_0)^2}{2\\sigma^2} +\\log\\sigma^2 + \\log\\sqrt{2\\pi} +\n",
    "\\int q(x)\\log q(x)\\,dx.\n",
    "$$\n",
    "\n",
    "特にこの場合には, 固定された $q(x)$ に対して, $D(q||p)$ を最小にする $\\mu, \\sigma^2$ の組み合わせは $\\mu=\\mu_0$, $\\sigma^2=\\sigma_0^2$ になることを示せ.\n",
    "\n",
    "__解答例:__ $(x - \\mu)^2 = ((x-\\mu_0)-(\\mu-\\mu_0))^2 = (x-\\mu_0)^2-2(\\mu-\\mu_0)(x-\\mu_0)+(\\mu-\\mu_0)^2$ と正規分布の密度函数 $p(x)$ の定義より,\n",
    "\n",
    "$$\n",
    "\\begin{aligned}\n",
    "-\\log p(x) &=\n",
    "\\frac{(x - \\mu)^2}{2\\sigma^2} + \\log\\sigma^2 + \\log\\sqrt{2\\pi} \\\\ &=\n",
    "\\frac{(x-\\mu_0)^2 -2(\\mu-\\mu_0)(x-\\mu_0)+(\\mu-\\mu_0)^2}{2\\sigma^2} + \\frac{1}{2}\\log\\sigma^2 + \\log\\sqrt{2\\pi}\n",
    "\\end{aligned}\n",
    "$$\n",
    "\n",
    "ゆえに $\\mu_0$ と $\\sigma_0^2$ の定義を使うと,\n",
    "\n",
    "$$\n",
    "D(q||p) =\n",
    "\\frac{\\sigma_0^2 + (\\mu-\\mu_0)^2}{2\\sigma^2} + \\frac{1}{2}\\log\\sigma^2 + \\log\\sqrt{2\\pi} +\n",
    "\\int q(x)\\log q(x)\\,dx.\n",
    "$$\n",
    "\n",
    "任意に固定された $\\sigma^2>0$ について, これを最小化する $\\mu$ は $\\mu=\\mu_0$ である.  そのとき,\n",
    "\n",
    "$$\n",
    "D(q||p) =\n",
    "\\frac{1}{2}\\left(\\frac{\\sigma_0^2}{\\sigma^2} + \\log\\sigma^2\\right) + (\\text{constant of}\\; \\sigma^2)\n",
    "$$\n",
    "\n",
    "これを $\\sigma^2$ の函数とみなして増減表を書くと, これを最小化する $\\sigma^2$ は $\\sigma^2=\\sigma_0^2$ であることがわかる. 実際, $t=\\sigma^2$, $t_0 = \\sigma_0^2$, $f(t) = t_0/t + \\log t$ とおくと, $f'(t) = (t - t_0)/t^2$ なので,\n",
    "\n",
    "$$\n",
    "\\begin{array}{c|ccccc}\n",
    "t     & 0       & \\cdots   & t_0          & \\cdots   & \\infty \\\\\n",
    "\\hline\n",
    "f'(t) &         & -        & 0            & +        &        \\\\\n",
    "\\hline\n",
    "f(t)  & \\infty  & \\searrow & 1 + \\log t_0 & \\nearrow & \\infty \\\\\n",
    "\\end{array}\n",
    "$$\n",
    "\n",
    "と増減表を書ける.\n",
    "\n",
    "\n",
    "__解答終__\n",
    "\n",
    "__注意:__ 以上の結果は, 与えられた分布 $q(x)$ をKullback-Leibler情報量 $D(q||p)$ の最小化の意味で裁量近似する正規分布 $p(x)$ は $q(x)$ と同じ平均と分散を持つ正規分布になることを意味している. これ以後, 分布を定義するごとにその期待値(平均)と分散を計算して行くことになるが, そのときやっていることは本質的に「正規分布による最良近似」の計算だということになる."
   ]
  },
  {
   "cell_type": "markdown",
   "id": "9a99f30b",
   "metadata": {},
   "source": [
    "### 確率変数の一次函数による変換(アフィン変換)の期待値と分散\n",
    "\n",
    "離散および連続な確率変数 $Y$ と定数 $a$, $b$ について,\n",
    "\n",
    "$$\n",
    "E[aY + b] = a E[Y] + b, \\quad \\var(aY+b) = a^2\\var(Y) \n",
    "$$\n",
    "\n",
    "となることを以下のようにして, $E[\\;]$ の基本性質の線形性と規格化条件のみを使って示せる.\n",
    "\n",
    "$$\n",
    "\\begin{aligned}\n",
    "&\n",
    "E[aY + b] = aE[Y] + E[b] = aE[Y] + b. \n",
    "\\\\ &\n",
    "\\var(aY + b) = E[(aY + b - (aE[Y] + b))^2]\n",
    "\\\\ & \\qquad = E[a^2(Y - E[Y])^2] = a^2 E[(Y - E[Y])^2] = a^2\\var(Y).\n",
    "\\end{aligned}\n",
    "$$"
   ]
  },
  {
   "cell_type": "markdown",
   "id": "9feeedaf",
   "metadata": {},
   "source": [
    "### 分布のアフィン変換, スケール変換, 平行移動, 逆数の定義\n",
    "\n",
    "確率変数 $Y$ が分布 $D$ に従うとき, $aY+b$ ($a, b\\in\\R$, $a\\ne 0$) が従う分布を $D$ の __アフィン変換__ (affine transformation)と呼び, \n",
    "\n",
    "$$\n",
    "aD + b\n",
    "$$\n",
    "\n",
    "と書く.  $a > 0$ のとき $aD$ を $D$ の __スケール変換__ (scale transformation)と呼び, $D+b$ を分布 $D$ の __平行移動__ (translation)と呼ぶ.\n",
    "\n",
    "さらに, $1/Y$ が従う分布を\n",
    "\n",
    "$$\n",
    "1/D\n",
    "$$\n",
    "\n",
    "と書き, $D$ の __逆数__ (inverse)と呼ぶことにする."
   ]
  },
  {
   "cell_type": "markdown",
   "id": "13418602",
   "metadata": {},
   "source": [
    "### 確率変数の累積分布函数\n",
    "\n",
    "確率変数 $Y$ に対して\n",
    "\n",
    "$$\n",
    "F_Y(y) = P(Y \\le y)\n",
    "$$\n",
    "\n",
    "で定義される実数 $y$ の函数 $F_Y(y)$ を $Y$ もしくは $Y$ が従う確率分布の __累積分布函数__ (cumulative distribution function, cdf)と呼ぶ.\n",
    "\n",
    "$Y$ が連続確率変数で確率密度函数 $p_Y(y)$ を持つとき,\n",
    "\n",
    "$$\n",
    "F_Y(y) = \\int_{-\\infty}^y p_Y(y)\\,dy.\n",
    "$$\n",
    "\n",
    "ただし, 確率密度函数 $p_Y(y)$ の定義域は拡張した部分での値が $0$ になるように実数直線全体に拡張しておく. 連続分布の累積分布函数の導函数は確率密度函数になる.\n",
    "\n",
    "$Y$ が離散確率変数で取り得る値の集合が $\\{b_1, b_2, \\ldots\\}$ で確率質量函数 $P_Y(y)$ を持つとき,\n",
    "\n",
    "$$\n",
    "F_Y(y) = \\sum_{b_i \\le y} P_Y(b_i).\n",
    "$$\n",
    "\n",
    "累積分布函数 $F_Y(y)$ は $y$ について(広義)単調増加函数になり, $y\\to -\\infty$ で $0$ に収束し, $y\\to\\infty$ で $1$ に収束する. \n",
    "\n",
    "さらに, $F_Y(y)$ の定義 $P(Y\\le y)$ において不等号 $\\le$ に等号が含まれていることより, 累積分布函数 $F_Y(y)$ は $y$ について右連続になる.  すなわち, $y$ が数直線上で右から $b$ に近付くとき, $F_Y(y)$ は $F_Y(b)$ に近付く:\n",
    "\n",
    "$$\n",
    "\\lim_{y\\searrow b} F_Y(y) = F_Y(b).\n",
    "$$"
   ]
  },
  {
   "cell_type": "markdown",
   "id": "268bd8ee",
   "metadata": {},
   "source": [
    "### 分位点函数 (quantile function)\n",
    "\n",
    "確率分布の累積分布函数 $p = F_Y(y)$ の逆函数 $y = Q_Y(p)$ を __分位点函数__ (__クォンタイル函数__, quantile function)と呼ぶ.  逆函数が存在しない場合には逆函数の代わりに使える函数を適切に定義して分位点函数と呼んで利用する.\n",
    "\n",
    "分位点函数が定義されているとき, $Q_2 = Q_Y(1/2)$ は $Y$ の分布の中央値と呼ばれ, $Q_1 = Q_Y(1/4)$, $Q_3 = Q_Y(3/4)$ は $Y$ の分布の第1四分位点, 第3四分位点と呼ばれる(「四分位数」と書いてもよい). \n",
    "\n",
    "ただし, これらは確率変数もしくはそれが従う分布の中央値や四分位点であり, 標本(サンプル, データ)の中央値や四分位点とは概念的に明瞭に区別しておかなければいけない."
   ]
  },
  {
   "cell_type": "markdown",
   "id": "40de8ba4",
   "metadata": {},
   "source": [
    "### Bernoulli分布の累積分布函数\n",
    "\n",
    "Bernoulli分布 $\\op{Bernoulli}(p)$ の累積分布函数は次になる:\n",
    "\n",
    "$$\n",
    "F(x) = \\begin{cases}\n",
    "0   & (x < 0) \\\\\n",
    "1-p & (0 \\le x < 1) \\\\\n",
    "1   & (1 \\le x) \\\\\n",
    "\\end{cases}\n",
    "$$"
   ]
  },
  {
   "cell_type": "code",
   "execution_count": 54,
   "id": "225010de",
   "metadata": {},
   "outputs": [
    {
     "data": {
      "image/png": "[encoded data removed]"
     },
     "execution_count": 54,
     "metadata": {},
     "output_type": "execute_result"
    }
   ],
   "source": [
    "ber = Bernoulli(0.3)\n",
    "x = vcat([-1:0.02:-0.02; NaN], [0:0.02:0.98; NaN], 1:0.02:2)\n",
    "plot(x, x -> cdf(ber, x); label=\"\")\n",
    "title!(\"cdf of Bernoulli(0.3)\")\n",
    "plot!(; ytick = 0:0.1:1)\n",
    "scatter!(0:1, x -> cdf(ber, x - 0.02) ; label=\"\", c=:white, ms=3)\n",
    "scatter!(0:1, x -> cdf(ber, x) ; label=\"\", c=1, ms=3)"
   ]
  },
  {
   "cell_type": "markdown",
   "id": "236ed284",
   "metadata": {},
   "source": [
    "### カテゴリカル分布の累積分布函数\n",
    "\n",
    "カテゴリカル分布 $\\op{Categorical}(0.1, 0.2, 0.3, 0.4)$ の累積分布函数は次になる:\n",
    "\n",
    "$$\n",
    "F(x) = \\begin{cases}\n",
    "0 & (x < 1) \\\\\n",
    "0.1 & (1\\le x < 2) \\\\\n",
    "0.1 + 0.2 & (2\\le x < 3) \\\\\n",
    "0.1 + 0.2 + 0.3 & (3\\le x < 4) \\\\\n",
    "1 & (0.4 \\le x) \\\\\n",
    "\\end{cases}\n",
    "$$"
   ]
  },
  {
   "cell_type": "code",
   "execution_count": 55,
   "id": "a6ed0ace",
   "metadata": {},
   "outputs": [
    {
     "data": {
      "image/png": "[encoded data removed]"
     },
     "execution_count": 55,
     "metadata": {},
     "output_type": "execute_result"
    }
   ],
   "source": [
    "categ = Categorical(0.1, 0.2, 0.3, 0.4)\n",
    "x = vcat([-0.5:0.02:0.98; NaN], ([k:0.02:k+0.98; NaN] for k in 1:3)..., 4:0.02:5.5)\n",
    "plot(x, x -> cdf(categ, x); label=\"\")\n",
    "title!(\"cdf of Categorical(0.1, 0.2, 0.3, 0.4)\")\n",
    "plot!(; xtick = -1:6, ytick = 0:0.1:1)\n",
    "scatter!(1:4, x -> cdf(categ, x - 0.02) ; label=\"\", c=:white, ms=3)\n",
    "scatter!(1:4, x -> cdf(categ, x) ; label=\"\", c=1, ms=3)"
   ]
  },
  {
   "cell_type": "markdown",
   "id": "500fbbec",
   "metadata": {},
   "source": [
    "### 二項分布の累積分布函数のグラフ"
   ]
  },
  {
   "cell_type": "code",
   "execution_count": 56,
   "id": "e496fe22",
   "metadata": {
    "scrolled": true
   },
   "outputs": [
    {
     "data": {
      "image/png": "[encoded data removed]"
     },
     "execution_count": 56,
     "metadata": {},
     "output_type": "execute_result"
    }
   ],
   "source": [
    "bin = Binomial(10, 0.4)\n",
    "x = vcat([-2:0.02:-0.02; NaN], ([k:0.02:k+0.98; NaN] for k in 0:9)..., 10:0.02:12)\n",
    "plot(x, x -> cdf(bin, x); label=\"\")\n",
    "title!(\"cdf of Binomial(10, 0.4)\")\n",
    "plot!(; xtick = -2:12, ytick = 0:0.1:1)\n",
    "scatter!(0:10, x -> cdf(bin, x - 0.02) ; label=\"\", c=:white, ms=3)\n",
    "scatter!(0:10, x -> cdf(bin, x) ; label=\"\", c=1, ms=3)"
   ]
  },
  {
   "cell_type": "markdown",
   "id": "91a76849",
   "metadata": {},
   "source": [
    "### 負の二項分布の累積分布函数のグラフ"
   ]
  },
  {
   "cell_type": "code",
   "execution_count": 57,
   "id": "1dcae9e9",
   "metadata": {
    "scrolled": true
   },
   "outputs": [
    {
     "data": {
      "image/png": "[encoded data removed]"
     },
     "execution_count": 57,
     "metadata": {},
     "output_type": "execute_result"
    }
   ],
   "source": [
    "negbin = NegativeBinomial(4, 0.5)\n",
    "x = vcat([-2:0.02:-0.02; NaN], ([k:0.02:k+0.98; NaN] for k in 0:13)...)\n",
    "plot(x, x -> cdf(negbin, x); label=\"\")\n",
    "title!(\"cdf of NegativeBinomial(4, 0.5)\")\n",
    "plot!(; xtick = -2:14, ytick = 0:0.1:1)\n",
    "scatter!(0:14, x -> cdf(negbin, x - 0.02) ; label=\"\", c=:white, ms=3)\n",
    "scatter!(0:14, x -> cdf(negbin, x) ; label=\"\", c=1, ms=3)"
   ]
  },
  {
   "cell_type": "markdown",
   "id": "ca09919d",
   "metadata": {},
   "source": [
    "### 一様分布の累積分布函数\n",
    "\n",
    "$a < b$ のとき, 一様分布 $\\op{Uniform}(a, b)$ の確率密度函数は\n",
    "\n",
    "$$\n",
    "p(x) = \\begin{cases}\n",
    "1/(b-a) & (a < x < b) \\\\\n",
    "0       & (\\text{otherwise}) \\\\\n",
    "\\end{cases}\n",
    "$$\n",
    "\n",
    "である.  ゆえに, 一様分布 $\\op{Uniform}(a, b)$ の累積分布函数は\n",
    "\n",
    "$$\n",
    "F(x) = \\int_{-\\infty}^x p(x')\\,dx' =\n",
    "\\begin{cases}\n",
    "0 & (x \\le a) \\\\\n",
    "(x-a)/(b-a) & (a \\le x \\le b) \\\\\n",
    "1 & (b \\le x) \\\\\n",
    "\\end{cases}\n",
    "$$\n",
    "\n",
    "になる."
   ]
  },
  {
   "cell_type": "code",
   "execution_count": 58,
   "id": "696d2ff9",
   "metadata": {},
   "outputs": [
    {
     "data": {
      "image/png": "[encoded data removed]"
     },
     "execution_count": 58,
     "metadata": {},
     "output_type": "execute_result"
    }
   ],
   "source": [
    "plot(x -> cdf(Uniform(-1, 2), x), -2.5, 3.5; label=\"\")\n",
    "title!(\"cdf of Uniform(-1, 2)\")\n",
    "yticks!(0:0.1:1)"
   ]
  },
  {
   "cell_type": "markdown",
   "id": "54675f64",
   "metadata": {},
   "source": [
    "### 標準正規分布の累積分布函数と分位点函数\n",
    "\n",
    "誤差函数が\n",
    "\n",
    "$$\n",
    "\\op{erf}(x) = \\frac{2}{\\sqrt{\\pi}} \\int_0^x \\exp(-u^2) \\,du\n",
    "$$\n",
    "\n",
    "と定義される.  この函数はコンピュータでの基本特殊函数ライブラリに含まれており, 効率的に計算可能である. この函数を使うと, 正規分布の累積分布函数は次のように書ける: $t = \\sqrt{2}\\,u$ とおくと,\n",
    "\n",
    "$$\n",
    "\\begin{aligned}\n",
    "F(z) &=\n",
    "\\frac{1}{\\sqrt{2\\pi}} \\int_{-\\infty}^z e^{-t^2/2}\\,dt =\n",
    "\\frac{1}{2} + \\frac{1}{\\sqrt{2\\pi}} \\int_0^z e^{-t^2/2}\\,dt\n",
    "\\\\ & =\n",
    "\\frac{1}{2} + \\frac{1}{\\sqrt{\\pi}} \\int_0^{z/\\sqrt{2}} e^{-u^2}\\,du =\n",
    "\\frac{1}{2} + \\frac{1}{2} \\op{erf}\\left(\\frac{z}{\\sqrt{2}}\\right) =\n",
    "\\frac{1 + \\op{erf}(z/\\sqrt{2})}{2}.\n",
    "\\end{aligned}\n",
    "$$"
   ]
  },
  {
   "cell_type": "code",
   "execution_count": 59,
   "id": "8abeabdf",
   "metadata": {},
   "outputs": [
    {
     "data": {
      "image/png": "[encoded data removed]"
     },
     "execution_count": 59,
     "metadata": {},
     "output_type": "execute_result"
    }
   ],
   "source": [
    "plot(z -> cdf(Normal(), z), -4, 4;\n",
    "    label=\"cdf of Normal()\", legend=:topleft)\n",
    "plot!(z -> (1 + erf(z/√2))/2, -4, 4;\n",
    "    label=\"(1 + erf(z/√2))/2\", ls=:dash)\n",
    "plot!(; xtick=-5:5, ytick = 0:0.1:1,\n",
    "    xlabel=\"z\", ylabel=\"p\")\n",
    "plot!(; size=(300, 300))"
   ]
  },
  {
   "cell_type": "markdown",
   "id": "c90849e5",
   "metadata": {},
   "source": [
    "$y = \\op{erf}(x)$ の逆函数 $x = \\op{erfinv}(y)$ もコンピュータでの基本特殊函数ライブラリに含まれており, 効率的に計算可能である.  標準正規分布の累積分布函数 $p = F(z)$ の逆函数(分位点函数, quantile function)は\n",
    "\n",
    "$$\n",
    "z = Q_{\\op{Normal}()}(p) = \\sqrt{2}\\,\\op{erfinv}(2p - 1)\n",
    "$$\n",
    "\n",
    "と書ける.  標準正規分布の分位点函数は統計学で非常によく使われる.  例えば\n",
    "\n",
    "$$\n",
    "Q_{\\op{Normal}()}(0.975) \\approx 1.96\n",
    "$$\n",
    "\n",
    "は非常に有名な数値である. これは標準正規分布において値が $1.96$ 以上になる確率が $2.5\\%$ になることを意味している."
   ]
  },
  {
   "cell_type": "code",
   "execution_count": 60,
   "id": "de49d031",
   "metadata": {},
   "outputs": [
    {
     "data": {
      "text/plain": [
       "1.9599639845400576"
      ]
     },
     "execution_count": 60,
     "metadata": {},
     "output_type": "execute_result"
    }
   ],
   "source": [
    "quantile(Normal(), 0.975)"
   ]
  },
  {
   "cell_type": "code",
   "execution_count": 61,
   "id": "c939048f",
   "metadata": {},
   "outputs": [
    {
     "data": {
      "image/png": "[encoded data removed]"
     },
     "execution_count": 61,
     "metadata": {},
     "output_type": "execute_result"
    }
   ],
   "source": [
    "plot(p -> quantile(Normal(), p), 0, 1;\n",
    "    label=\"quantile function of Normal()\", legend=:topleft)\n",
    "plot!(p -> √2*erfinv(2p-1), 0, 1;\n",
    "    label=\"z = √2 erfinv(2p-1)\", ls=:dash)\n",
    "plot!(; xtick = 0:0.1:1, ytick=-5:5,\n",
    "    xlabel=\"p\", ylabel=\"z\", ylim=(-4.2, 4.2))\n",
    "plot!(; size=(300, 300))"
   ]
  },
  {
   "cell_type": "markdown",
   "id": "a286b163",
   "metadata": {},
   "source": [
    "### 問題: 標準正規分布の四分位数\n",
    "\n",
    "標準正規分布の累積分布函数と分位点函数はそれぞれ\n",
    "\n",
    "$$\n",
    "\\begin{aligned}\n",
    "&\n",
    "p = F(z) =\n",
    "\\int_{-\\infty}^z \\frac{e^{-t^2/2}}{\\sqrt{2\\pi}}\\,dt =\n",
    "\\frac{1 + \\op{erf}(z/\\sqrt{2})}{2},\n",
    "\\\\ &\n",
    "z = Q(p) = F^{-1}(p) =\n",
    "\\sqrt{2}\\,\\op{erfinv}(2p - 1)\n",
    "\\end{aligned}\n",
    "$$\n",
    "\n",
    "と書ける. 標準正規分布の四分位数 $Q(0.25)$, $Q(0.75)$ をコンピュータを使って小数点以下第2桁まで求めよ.\n",
    "\n",
    "__解答例:__ $Q(0.25) \\approx -0.6745$, $Q(0.75) \\approx 0.6745$. __解答終__"
   ]
  },
  {
   "cell_type": "code",
   "execution_count": 62,
   "id": "65e4cd33",
   "metadata": {},
   "outputs": [
    {
     "data": {
      "text/plain": [
       "(-0.6744897501960818, 0.6744897501960818)"
      ]
     },
     "execution_count": 62,
     "metadata": {},
     "output_type": "execute_result"
    }
   ],
   "source": [
    "quantile(Normal(), 0.25), quantile(Normal(), 0.75)"
   ]
  },
  {
   "cell_type": "markdown",
   "id": "0fec08f7",
   "metadata": {},
   "source": [
    "[WolframAlpha](https://www.wolframalpha.com/) を使って計算するにはこう入力すればよい:\n",
    "\n",
    "* [√2 erfinv(2 0.25 - 1)](https://www.wolframalpha.com/input?i=%E2%88%9A2+erfinv%282+0.25+-+1%29)\n",
    "* [√2 erfinv(2 0.75 - 1)](https://www.wolframalpha.com/input?i=%E2%88%9A2+erfinv%282+0.75+-+1%29)\n",
    "\n",
    "WolframAlpha にはこう聞いても答えを教えてくれる:\n",
    "\n",
    "* [quantile of standard normal distribution](https://www.wolframalpha.com/input?i=quantile+of+standard+normal+distribution)"
   ]
  },
  {
   "cell_type": "markdown",
   "id": "a83ffe0a",
   "metadata": {},
   "source": [
    "### 問題: 連続分布の累積分布函数は一様分布に従う.\n",
    "\n",
    "$X$ は連続分布に従う確率変数であるとし, その累積分布函数を $F(x) = P(X \\le x)$ と書く. このとき, 累積分布函数 $F(x)$ に確率変数 $X$ を代入してできる確率変数 $U = F(x)$ は一様分布 $\\op{Uniform}(0, 1)$ に従うことを示せ. \n",
    "\n",
    "__注意:__ このことから, $T$ を一様分布 $\\op{Uniform}(0, 1)$ に従う確率変数とするとき, $X$ が従う分布の分位点函数 $Q(t) = F^{-1}(t)$ に $T$ を代入して得られる確率変数 $Q(T) = F^{-1}(T)$ は $X$ と同じ連続分布に従うことがわかる. (後でコンピュータで数値的にこのことを確認する.)\n",
    "\n",
    "__解答例:__ $X$ は連続分布に従うと仮定していたので, $X$ は確率密度函数 $p(x) = F'(x)$ を持つ. 累積分布函数の値は0以上1以下なので, \n",
    "ゆえに,\n",
    "\n",
    "$$\n",
    "E[g(U)] = E[g(F(X))] = \\int_\\R g(F(x)) p(x)\\,dx = \\int_\\R g(F(x))\\,dF(x) = \\int_0^1 g(u)\\,du.\n",
    "$$\n",
    "\n",
    "これで $U = F(X)$ が一様分布 $\\op{Uniform}(0, 1)$ に従うことがわかった.\n",
    "\n",
    "__解答終__"
   ]
  },
  {
   "cell_type": "markdown",
   "id": "b7f6d036",
   "metadata": {},
   "source": [
    "### 分位点函数への一様乱数の代入で元の分布の乱数を作れること"
   ]
  },
  {
   "cell_type": "code",
   "execution_count": 63,
   "id": "94d820e7",
   "metadata": {},
   "outputs": [
    {
     "data": {
      "text/plain": [
       "plot_quantile_uniform (generic function with 1 method)"
      ]
     },
     "execution_count": 63,
     "metadata": {},
     "output_type": "execute_result"
    }
   ],
   "source": [
    "function plot_quantile_uniform(dist; L=10^6, tlim=(0, 1), title=\"\", kwargs...)\n",
    "    T = rand(L) # 一様乱数を大量に生成\n",
    "    X = quantile.(dist, T) # 分位点函数で一様乱数を変換\n",
    "    xlim = quantile.(Ref(X), tlim) .+ (-0.1, 0.1)\n",
    "    X = X[first(xlim) .< X .< last(xlim)]\n",
    "    if dist isa ContinuousUnivariateDistribution\n",
    "        stephist(X; norm=true, label=\"\")\n",
    "        plot!(dist, xlim...; ls=:dash, label=\"\", xlim)\n",
    "    else\n",
    "        bin = range(round.(extrema(X)) .+ (-0.5, 0.5)...; step=1)\n",
    "        stephist(X; norm=true, bin, label=\"\")\n",
    "        plot!(x -> pdf(dist, round(x)), xlim...; ls=:dash, label=\"\", xlim)\n",
    "    end\n",
    "    title!(title; kwargs...)\n",
    "end"
   ]
  },
  {
   "cell_type": "code",
   "execution_count": 64,
   "id": "c3316aeb",
   "metadata": {},
   "outputs": [
    {
     "data": {
      "image/png": "[encoded data removed]"
     },
     "execution_count": 64,
     "metadata": {},
     "output_type": "execute_result"
    }
   ],
   "source": [
    "plot(plot_quantile_uniform(Normal(); title=\"Normal(0, 1)\"),\n",
    "    plot_quantile_uniform(Gamma(2, 3); title=\"Gamma(2, 3)\", tlim=(0, 0.995));\n",
    "    size=(800, 250))"
   ]
  },
  {
   "cell_type": "code",
   "execution_count": 65,
   "id": "c98e1267",
   "metadata": {},
   "outputs": [
    {
     "data": {
      "image/png": "[encoded data removed]"
     },
     "execution_count": 65,
     "metadata": {},
     "output_type": "execute_result"
    }
   ],
   "source": [
    "plot(plot_quantile_uniform(InverseGamma(2, 3); title=\"InverseGamma(2, 3)\", tlim=(0, 0.98)),\n",
    "    plot_quantile_uniform(LogNormal(); title=\"LogNormal(0, 1)\", tlim=(0, 0.98));\n",
    "    size=(800, 250))"
   ]
  },
  {
   "cell_type": "code",
   "execution_count": 66,
   "id": "b72eaeaf",
   "metadata": {},
   "outputs": [
    {
     "data": {
      "image/png": "[encoded data removed]"
     },
     "execution_count": 66,
     "metadata": {},
     "output_type": "execute_result"
    }
   ],
   "source": [
    "plot(plot_quantile_uniform(Beta(0.5, 0.5); title=\"Beta(0.5, 0.5)\", xlim=(-0.1, 1.1), ylim=(-0.1, 4)),\n",
    "    plot_quantile_uniform(Beta(10, 30); title=\"Beta(10, 30)\", tlim=(0.005, 0.995));\n",
    "    size=(800, 250))"
   ]
  },
  {
   "cell_type": "code",
   "execution_count": 67,
   "id": "fde9655d",
   "metadata": {},
   "outputs": [
    {
     "data": {
      "image/png": "[encoded data removed]"
     },
     "execution_count": 67,
     "metadata": {},
     "output_type": "execute_result"
    }
   ],
   "source": [
    "plot(plot_quantile_uniform(Binomial(10, 0.3), title=\"Binomial(10, 0.3)\"),\n",
    "    plot_quantile_uniform(Poisson(5); title=\"Poisson(5)\");\n",
    "    size=(800, 250))"
   ]
  },
  {
   "cell_type": "markdown",
   "id": "96d35c73",
   "metadata": {},
   "source": [
    "### 一様分布の期待値と分散\n",
    "\n",
    "区間 $(a, b)$ 上の確率密度函数\n",
    "\n",
    "$$\n",
    "p(x) = \\frac{1}{b - a} \\quad (a < x < b)\n",
    "$$\n",
    "\n",
    "によって与えられる一様分布\n",
    "\n",
    "$$\n",
    "\\op{Uniform}(a, b)\n",
    "$$\n",
    "\n",
    "を考え, $X$ はこれに従う確率変数であるとする.\n",
    "\n",
    "このとき, $X$ の期待値(平均) $\\mu$ と分散 $\\sigma^2$ は以下のように計算される:\n",
    "\n",
    "$$\n",
    "\\begin{aligned}\n",
    "&\n",
    "\\mu =\n",
    "E[X] = \\int_a^b x p(x)\\,dx =\n",
    "\\frac{1}{b-a}\\int_a^b x\\,dx = \\frac{b^2 - a^2}{2(b - a)} = \\frac{a+b}{2}.\n",
    "\\\\ &\n",
    "E[X^2] = \\int_a^b x^2 p(x)\\,dx =\n",
    "\\frac{1}{b-a}\\int_a^b x^2\\,dx = \\frac{b^3 - a^3}{3(b-a)} = \\frac{a^2 + ab + b^2}{3}.\n",
    "\\\\ &\n",
    "\\var(X) = E[X^2] - E[X]^2 = \n",
    "\\frac{4(a^2+ab+b^2) - 3(a+b)^2}{12} =\n",
    "\\frac{a^2-2ab+b^2}{12} =\n",
    "\\frac{(b-a)^2}{12}.\n",
    "\\end{aligned}\n",
    "$$"
   ]
  },
  {
   "cell_type": "code",
   "execution_count": 68,
   "id": "65994a7e",
   "metadata": {},
   "outputs": [
    {
     "data": {
      "text/plain": [
       "E (generic function with 2 methods)"
      ]
     },
     "execution_count": 68,
     "metadata": {},
     "output_type": "execute_result"
    }
   ],
   "source": [
    "function E(f, dist::ContinuousUnivariateDistribution)\n",
    "    # quadgk(f, a, b)[1] は数値積分してくれる函数\n",
    "    quadgk(x -> f(x) * pdf(dist, x), extrema(dist)...)[1]\n",
    "end"
   ]
  },
  {
   "cell_type": "code",
   "execution_count": 69,
   "id": "3527ef1e",
   "metadata": {},
   "outputs": [
    {
     "data": {
      "text/plain": [
       "(1//0, 1//12)"
      ]
     },
     "execution_count": 69,
     "metadata": {},
     "output_type": "execute_result"
    }
   ],
   "source": [
    "mean(Uniform(0, 1//0)), var(Uniform(0, 1//1))"
   ]
  },
  {
   "cell_type": "code",
   "execution_count": 70,
   "id": "9d86a127",
   "metadata": {},
   "outputs": [
    {
     "data": {
      "text/plain": [
       "(0.5, 0.08333333333333331)"
      ]
     },
     "execution_count": 70,
     "metadata": {},
     "output_type": "execute_result"
    }
   ],
   "source": [
    "E(x -> x, Uniform(0, 1)), E(x -> x^2, Uniform(0, 1)) - E(x -> x, Uniform(0, 1))^2"
   ]
  },
  {
   "cell_type": "code",
   "execution_count": 71,
   "id": "2999a986",
   "metadata": {},
   "outputs": [
    {
     "data": {
      "text/plain": [
       "(5//2, 25//12)"
      ]
     },
     "execution_count": 71,
     "metadata": {},
     "output_type": "execute_result"
    }
   ],
   "source": [
    "mean(Uniform(0, 5//1)), var(Uniform(0, 5//1))"
   ]
  },
  {
   "cell_type": "code",
   "execution_count": 72,
   "id": "02d003cc",
   "metadata": {},
   "outputs": [
    {
     "data": {
      "text/plain": [
       "(2.5, 2.0833333333333357)"
      ]
     },
     "execution_count": 72,
     "metadata": {},
     "output_type": "execute_result"
    }
   ],
   "source": [
    "E(x -> x, Uniform(0, 5)), E(x -> x^2, Uniform(0, 5)) - E(x -> x, Uniform(0, 5))^2"
   ]
  },
  {
   "cell_type": "markdown",
   "id": "a914fb78",
   "metadata": {},
   "source": [
    "### 標準正規分布の期待値と分散\n",
    "\n",
    "$Z$ は標準正規分布に従う確率変数であるとする. このとき $Z$ は確率密度函数\n",
    "\n",
    "$$\n",
    "p(z) = \\frac{1}{\\sqrt{2\\pi}}e^{-z^2/2}\n",
    "$$\n",
    "\n",
    "を持つ.  このとき, $z e^{-z^2/2}$ が奇函数であり, 奇函数の $\\R$ 全体での積分は $0$ になるので,\n",
    "\n",
    "$$\n",
    "E[Z] = \\frac{1}{\\sqrt{2\\pi}} \\int_{-\\infty}^\\infty x e^{-z^2/2}\\,dz = 0.\n",
    "$$\n",
    "\n",
    "$z^2 e^{-z^2/2}$ が偶函数であることと, $z = x^{1/2}$ と変数変換すると, $dz = x^{-1/2}\\,dx/2$ となることを使うと, \n",
    "\n",
    "$$\n",
    "\\begin{aligned}\n",
    "\\var(Z) &= E[Z^2] =\n",
    "\\frac{1}{\\sqrt{2\\pi}} \\int_{-\\infty}^\\infty z^2 e^{-z^2/2}\\,dz =\n",
    "\\frac{2}{\\sqrt{2\\pi}} \\int_0^\\infty z^2 e^{-z^2/2}\\,dz\n",
    "\\\\ &=\n",
    "\\frac{2}{\\sqrt{2\\pi}} \\int_0^\\infty x e^{-x/2} \\frac{x^{-1/2}\\,dx}{2} =\n",
    "\\frac{1}{\\sqrt{2\\pi}} \\int_0^\\infty x^{1/2 - 1} e^{-x/2}\\,dx =\n",
    "\\frac{2^{1/2}\\Gamma(1/2)}{\\sqrt{2\\pi}} = 1.\n",
    "\\end{aligned}\n",
    "$$\n",
    "\n",
    "ここで, 5番目の等号では次の公式を使った:\n",
    "\n",
    "$$\n",
    "\\int_0^\\infty x^{\\alpha - 1} e^{-x/\\theta}\\,dx = \\theta^\\alpha \\Gamma(\\alpha) \\quad (\\alpha, \\theta > 0).\n",
    "$$\n",
    "\n",
    "最後の等号では $\\Gamma(1/2)=\\sqrt{\\pi}$ を使った. ガンマ函数はこれらの形で使われることが多い. これらの辺の公式については別のノートで解説することにする.\n",
    "\n",
    "平均 $\\mu$ と分散 $\\sigma^2$ を持つ正規分布に従う確率変数 $X$ は $X = \\mu + \\sigma Z$ と作れる."
   ]
  },
  {
   "cell_type": "markdown",
   "id": "41648aef",
   "metadata": {},
   "source": [
    "__注意:__ $\\op{var}(Z)=1$ は以下のようにしても示される. Gauss積分の公式\n",
    "\n",
    "$$\n",
    "\\int_{-\\infty}^\\infty e^{-x^2}\\,dx = \\sqrt{\\pi}\n",
    "$$\n",
    "\n",
    "において, $a > 0$ を任意に取って, $x = \\sqrt{a}\\,z$ とおくと,\n",
    "\n",
    "$$\n",
    "\\sqrt{a}\\int_{-\\infty}^\\infty e^{-az^2}\\,dz = \\sqrt{\\pi}, \\qquad\n",
    "\\therefore \\int_{-\\infty}^\\infty e^{-az^2}\\,dz = \\sqrt{\\pi}\\,a^{-1/2}.\n",
    "$$\n",
    "\n",
    "両辺を $a$ で微分してから $-1$ 倍して(微分と積分の順序は交換できる), $a = 1/2$ とおくと,\n",
    "\n",
    "$$\n",
    "\\int_{-\\infty}^\\infty z^2 e^{-az^2}\\,dz = \\frac{1}{2}\\sqrt{\\pi}\\,a^{-3/2}, \\quad\n",
    "\\int_{-\\infty}^\\infty z^2 e^{-z^2/2}\\,dz = \\sqrt{2\\pi}.\n",
    "$$\n",
    "\n",
    "ゆえに, $\\var(Z) = E[Z^2] = (1/\\sqrt{2\\pi})\\int_{-\\infty}^\\infty z^2 e^{-z^2/2}\\,dz = 1$."
   ]
  },
  {
   "cell_type": "code",
   "execution_count": 73,
   "id": "0f1141b1",
   "metadata": {},
   "outputs": [
    {
     "data": {
      "text/plain": [
       "(0, 1)"
      ]
     },
     "execution_count": 73,
     "metadata": {},
     "output_type": "execute_result"
    }
   ],
   "source": [
    "mean(Normal(0, 1//1)) |> Int, var(Normal(0, 1//1)) |> Int"
   ]
  },
  {
   "cell_type": "code",
   "execution_count": 74,
   "id": "981a52a5",
   "metadata": {},
   "outputs": [
    {
     "data": {
      "text/plain": [
       "(4.2013717612707503e-16, 1.0)"
      ]
     },
     "execution_count": 74,
     "metadata": {},
     "output_type": "execute_result"
    }
   ],
   "source": [
    "E(x -> x, Normal(0, 1)), E(x -> x^2, Normal(0, 1)) - E(x -> x, Normal(0, 1))^2"
   ]
  },
  {
   "cell_type": "code",
   "execution_count": 75,
   "id": "f02b3787",
   "metadata": {},
   "outputs": [
    {
     "data": {
      "text/plain": [
       "(2, 9)"
      ]
     },
     "execution_count": 75,
     "metadata": {},
     "output_type": "execute_result"
    }
   ],
   "source": [
    "mean(Normal(2, 3//1)) |> Int, var(Normal(2, 3//1)) |> Int"
   ]
  },
  {
   "cell_type": "code",
   "execution_count": 76,
   "id": "bdc52caf",
   "metadata": {},
   "outputs": [
    {
     "data": {
      "text/plain": [
       "(1.999999999999999, 9.0)"
      ]
     },
     "execution_count": 76,
     "metadata": {},
     "output_type": "execute_result"
    }
   ],
   "source": [
    "E(x -> x, Normal(2, 3)), E(x -> x^2, Normal(2, 3)) - E(x -> x, Normal(2, 3))^2"
   ]
  },
  {
   "cell_type": "markdown",
   "id": "49bdda0b",
   "metadata": {},
   "source": [
    "標準正規分布の歪度(わいど, skewness):"
   ]
  },
  {
   "cell_type": "code",
   "execution_count": 77,
   "id": "dd20dfce",
   "metadata": {},
   "outputs": [
    {
     "data": {
      "text/plain": [
       "0"
      ]
     },
     "execution_count": 77,
     "metadata": {},
     "output_type": "execute_result"
    }
   ],
   "source": [
    "skewness(Normal(0, 1//1)) |> Int"
   ]
  },
  {
   "cell_type": "code",
   "execution_count": 78,
   "id": "8bb8ba95",
   "metadata": {},
   "outputs": [
    {
     "data": {
      "text/plain": [
       "-5.974359421244178e-16"
      ]
     },
     "execution_count": 78,
     "metadata": {},
     "output_type": "execute_result"
    }
   ],
   "source": [
    "E(z -> z^3, Normal())"
   ]
  },
  {
   "cell_type": "markdown",
   "id": "6e608438",
   "metadata": {},
   "source": [
    "標準正規分布の尖度(せんど, kurtosis)に $3$ を足した値:"
   ]
  },
  {
   "cell_type": "code",
   "execution_count": 79,
   "id": "09f07372",
   "metadata": {},
   "outputs": [
    {
     "data": {
      "text/plain": [
       "3"
      ]
     },
     "execution_count": 79,
     "metadata": {},
     "output_type": "execute_result"
    }
   ],
   "source": [
    "kurtosis(Normal(0, 1//1)) + 3 |> Int"
   ]
  },
  {
   "cell_type": "code",
   "execution_count": 80,
   "id": "16b22809",
   "metadata": {},
   "outputs": [
    {
     "data": {
      "text/plain": [
       "2.999999999999997"
      ]
     },
     "execution_count": 80,
     "metadata": {},
     "output_type": "execute_result"
    }
   ],
   "source": [
    "E(z -> z^4, Normal())"
   ]
  },
  {
   "cell_type": "markdown",
   "id": "1ed3655b",
   "metadata": {},
   "source": [
    "質問: 尖度の定義でどうして $3$ を引いておくか?\n",
    "\n",
    "答え: 正規分布の尖度を $0$ にするためには4次のモーメントから $3$ を引いておく必要がある."
   ]
  },
  {
   "cell_type": "code",
   "execution_count": 81,
   "id": "6511e649",
   "metadata": {},
   "outputs": [
    {
     "data": {
      "text/latex": [
       "$\\displaystyle 1 + \\frac{t^{2}}{2} + \\frac{t^{3} κ_{3}}{6} + t^{4} \\left(\\frac{κ_{4}}{24} + \\frac{1}{8}\\right) + t^{5} \\left(\\frac{κ_{3}}{12} + \\frac{κ_{5}}{120}\\right) + O\\left(t^{6}\\right)$\n"
      ],
      "text/plain": [
       "     2    3                                         \n",
       "    t    t *κ3    4 /κ4   1\\    5 /κ3    κ5\\    / 6\\\n",
       "1 + -- + ----- + t *|-- + -| + t *|-- + ---| + O\\t /\n",
       "    2      6        \\24   8/      \\12   120/        "
      ]
     },
     "execution_count": 81,
     "metadata": {},
     "output_type": "execute_result"
    }
   ],
   "source": [
    "@syms t κ3 κ4 κ5 μ3 μ4 μ5\n",
    "series(exp(t^2//2 + κ3 * t^3//6 + κ4 * t^4//24 + κ5 * t^5//120), t)"
   ]
  },
  {
   "cell_type": "code",
   "execution_count": 82,
   "id": "7288cdd0",
   "metadata": {},
   "outputs": [
    {
     "data": {
      "text/latex": [
       "$\\displaystyle \\frac{t^{2}}{2} + \\frac{t^{3} μ_{3}}{6} + t^{4} \\left(\\frac{μ_{4}}{24} - \\frac{1}{8}\\right) + t^{5} \\left(- \\frac{μ_{3}}{12} + \\frac{μ_{5}}{120}\\right) + O\\left(t^{6}\\right)$\n"
      ],
      "text/plain": [
       " 2    3                                           \n",
       "t    t *μ3    4 /μ4   1\\    5 /  μ3    μ5\\    / 6\\\n",
       "-- + ----- + t *|-- - -| + t *|- -- + ---| + O\\t /\n",
       "2      6        \\24   8/      \\  12   120/        "
      ]
     },
     "execution_count": 82,
     "metadata": {},
     "output_type": "execute_result"
    }
   ],
   "source": [
    "series(log(1 + t^2//2 + μ3 * t^3//6 + μ4 * t^4//24 + μ5 * t^5//120), t)"
   ]
  },
  {
   "cell_type": "markdown",
   "id": "14246f4e",
   "metadata": {},
   "source": [
    "$Z\\sim\\op{Normal}()$ (標準正規分布)のとき, $E[Z^{2k}] = 1\\cdot 3\\cdots(2k-1)$ となる."
   ]
  },
  {
   "cell_type": "code",
   "execution_count": 83,
   "id": "b336a86e",
   "metadata": {},
   "outputs": [
    {
     "data": {
      "text/plain": [
       "7-element Vector{Tuple{Int64, Float64}}:\n",
       " (1, 1.0)\n",
       " (3, 2.999999999999997)\n",
       " (15, 14.999999999999998)\n",
       " (105, 105.00000000000004)\n",
       " (945, 945.0000000000093)\n",
       " (10395, 10395.000000000617)\n",
       " (135135, 135135.0000000145)"
      ]
     },
     "execution_count": 83,
     "metadata": {},
     "output_type": "execute_result"
    }
   ],
   "source": [
    "[(prod(1:2:2k-1), E(z -> z^(2k), Normal())) for k in 1:7]"
   ]
  },
  {
   "cell_type": "markdown",
   "id": "fd49cf44",
   "metadata": {},
   "source": [
    "### 一様乱数の生成の繰り返しの分布\n",
    "\n",
    "$0$ と $1$ のあいだにある $n$ 個の実数達 $t_1,\\ldots,t_n$ の組 $(t_1,\\ldots,t_n)$ に関する確率密度函数 $p(t_1,\\ldots,t_n)$ を一様分布 $\\op{Uniform}(0, 1)$ の確率密度函数\n",
    "\n",
    "$$\n",
    "p(t) = \\begin{cases}\n",
    "1 & (0 < t < 1) \\\\\n",
    "0 & (\\text{otherwise}) \\\\\n",
    "\\end{cases}\n",
    "$$\n",
    "\n",
    "の積で次のように定める: \n",
    "\n",
    "$$\n",
    "p(t_1,\\ldots,t_n) =\n",
    "p(t_1)\\cdots p(t_n) = \\begin{cases}\n",
    "1 & (0 < t_1,\\ldots,t_n < 1) \\\\\n",
    "0 & (\\text{otherwise}) \\\\\n",
    "\\end{cases}\n",
    "$$\n",
    "\n",
    "これが実際に $n$ 変数の確率密度函数になっていることは次のように確認できる:\n",
    "\n",
    "$$\n",
    "\\begin{aligned}\n",
    "\\int_{-\\infty}^\\infty\\cdots\\int_{-\\infty}^\\infty p(t_1,\\ldots,t_n)\\,dt_1\\cdots dt_n &=\n",
    "\\int_{-\\infty}^\\infty\\cdots\\int_{-\\infty}^\\infty p(t_1)\\cdots p(t_n)\\,dt_1\\cdots dt_n\n",
    "\\\\ &=\n",
    "\\int_{-\\infty}^\\infty p(t_1)\\,dt_1 \\cdots \\int_{-\\infty}^\\infty p(t_n)\\,dt_n =\n",
    "1\\cdots 1 = 1.\n",
    "\\end{aligned}\n",
    "$$\n",
    "\n",
    "この確率密度函数 $p(t_1,\\ldots,t_n)$ で定まる $\\R^n$ 上の連続確率分布($n$ 変量の連続分布)を __一様乱数の生成の繰り返しの分布__ と呼び, $\\op{Uniform}(0,1)^n$ と表す\n",
    "\n",
    "この分布はコンピュータにおける一様乱数函数 `rand()` を $n$ 回実行して得られる長さ $n$ の $0$ から $1$ のあいだの乱数の列の分布のモデル化になっている.\n",
    "\n",
    "この分布は後で別のノートで説明するように, 一様分布 $\\op{Uniform}(0,1)$ のサイズ $n$ の __標本分布__ (sample distribution)もしくは各々が一様分布 $\\op{Uniform}(0,1)$ に従う $n$ 個の __独立同分布確率変数達__ (independent and identically distributed random variables)が従う同時確率分布になっている.\n",
    "\n",
    "$(T_1,\\ldots,T_n)$ がこの分布に従う確率変数の組であるとき, その函数 $f(T_1,\\ldots,T_n)$ の期待値は\n",
    "\n",
    "$$\n",
    "E[f(T_1,\\ldots,T_n)] =\n",
    "\\int_{-\\infty}^\\infty\\cdots\\int_{-\\infty}^\\infty f(t_1,\\ldots,t_n) p(t_1,\\ldots,t_n)\\,dt_1\\cdots dt_n \n",
    "$$\n",
    "\n",
    "と定義される. $f(T_1,\\ldots,T_n)$ が $f(T_1,\\ldots,T_n)=f_1(T_1)\\ldots f_n(T_n)$ と各々の $T_i$ のみの函数の積になっている場合には\n",
    "\n",
    "$$\n",
    "\\begin{aligned}\n",
    "E[f_1(T_1)\\cdots f_n(T_n)] &=\n",
    "\\int_{-\\infty}^\\infty\\cdots\\int_{-\\infty}^\\infty f_1(t_1)\\cdots f_n(t_n) p(t_1)\\cdots p(t_n)\\,dt_1\\cdots dt_n\n",
    "\\\\ &=\n",
    "\\int_{-\\infty}^\\infty f_1(t_1)p(t_1)\\,dt_1 \\cdots \\int_{-\\infty}^\\infty f_n(t_n)p(t_n)\\,dt_n =\n",
    "E[f_1(T_1)]\\cdots E[f_n(T_n)]\n",
    "\\end{aligned}\n",
    "$$\n",
    "\n",
    "が成立する.  このように確率変数の積の期待値が各々の期待値の積に等しくなるとき, それらの確率変数は __独立__ (independent)であるという. \n",
    "\n",
    "以上のようなものは, $\\op{Uniform}(0,1)$ に限らず, 任意の確率分布について考えることができる.\n",
    "\n",
    "例えば, Bernoulli試行の確率分布はBernoulli分布の標本分布になっている."
   ]
  },
  {
   "cell_type": "code",
   "execution_count": null,
   "id": "e9c0aa36",
   "metadata": {},
   "outputs": [],
   "source": []
  }
 ],
 "metadata": {
  "@webio": {
   "lastCommId": null,
   "lastKernelId": null
  },
  "jupytext": {
   "formats": "ipynb,md"
  },
  "kernelspec": {
   "display_name": "Julia 1.7.2",
   "language": "julia",
   "name": "julia-1.7"
  },
  "language_info": {
   "file_extension": ".jl",
   "mimetype": "application/julia",
   "name": "julia",
   "version": "1.7.2"
  },
  "toc": {
   "base_numbering": 1,
   "nav_menu": {},
   "number_sections": true,
   "sideBar": true,
   "skip_h1_title": true,
   "title_cell": "目次",
   "title_sidebar": "目次",
   "toc_cell": true,
   "toc_position": {
    "height": "calc(100% - 180px)",
    "left": "10px",
    "top": "150px",
    "width": "247.639px"
   },
   "toc_section_display": true,
   "toc_window_display": false
  }
 },
 "nbformat": 4,
 "nbformat_minor": 5
}
