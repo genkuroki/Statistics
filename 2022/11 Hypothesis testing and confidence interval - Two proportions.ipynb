{
 "cells": [
  {
   "cell_type": "markdown",
   "id": "8473d27b",
   "metadata": {},
   "source": [
    "# 検定と信頼区間: 比率の比較\n",
    "\n",
    "* 黒木玄\n",
    "* 2022-06-14～2022-06-14\n",
    "\n",
    "$\n",
    "\\newcommand\\op{\\operatorname}\n",
    "\\newcommand\\R{{\\mathbb R}}\n",
    "\\newcommand\\Z{{\\mathbb Z}}\n",
    "\\newcommand\\var{\\op{var}}\n",
    "\\newcommand\\cov{\\op{cov}}\n",
    "\\newcommand\\std{\\op{std}}\n",
    "\\newcommand\\eps{\\varepsilon}\n",
    "\\newcommand\\T[1]{T_{(#1)}}\n",
    "\\newcommand\\bk{\\bar\\kappa}\n",
    "\\newcommand\\X{{\\mathscr X}}\n",
    "\\newcommand\\CP{{\\mathrm{CP}}}\n",
    "\\newcommand\\Sterne{{\\mathrm{Stern}}}\n",
    "\\newcommand\\Wilson{{\\mathrm{Wilson}}}\n",
    "\\newcommand\\Wald{{\\mathrm{Wald}}}\n",
    "\\newcommand\\LLR{{\\mathrm{LLR}}}\n",
    "\\newcommand\\pdf{\\op{pdf}}\n",
    "\\newcommand\\pmf{\\op{pmf}}\n",
    "\\newcommand\\cdf{\\op{cdf}}\n",
    "\\newcommand\\quantile{\\op{quantile}}\n",
    "\\newcommand\\Binomial{\\op{Binomial}}\n",
    "\\newcommand\\Beta{\\op{Beta}}\n",
    "\\newcommand\\Normal{\\op{Normal}}\n",
    "\\newcommand\\Chisq{\\op{Chisq}}\n",
    "\\newcommand\\Chi{\\op{Chi}}\n",
    "\\newcommand\\TDist{\\op{TDist}}\n",
    "\\newcommand\\Chisq{\\op{Chisq}}\n",
    "\\newcommand\\pvalue{\\op{pvalue}}\n",
    "\\newcommand\\confint{\\op{confint}}\n",
    "\\newcommand\\phat{\\hat{p}}\n",
    "\\newcommand\\SE{\\op{SE}}\n",
    "\\newcommand\\SEhat{\\widehat{\\SE}}\n",
    "\\newcommand\\logistic{\\op{logistic}}\n",
    "\\newcommand\\logit{\\op{logit}}\n",
    "\\newcommand\\OR{\\op{OR}}\n",
    "\\newcommand\\ORhat{\\widehat{\\op{OR}}}\n",
    "\\newcommand\\RR{\\op{RR}}\n",
    "\\newcommand\\ha{\\hat{a}}\n",
    "\\newcommand\\hb{\\hat{b}}\n",
    "\\newcommand\\hc{\\hat{c}}\n",
    "\\newcommand\\hd{\\hat{d}}\n",
    "\\newcommand\\Wald{\\op{Wald}}\n",
    "\\newcommand\\Pearson{\\op{Pearson}}\n",
    "\\newcommand\\Fisher{\\op{Fisher}}\n",
    "$\n",
    "\n",
    "\n",
    "このノートでは[Julia言語](https://julialang.org/)を使用している: \n",
    "\n",
    "* [Julia言語のインストールの仕方の一例](https://nbviewer.org/github/genkuroki/msfd28/blob/master/install.ipynb)\n",
    "\n",
    "自明な誤りを見つけたら, 自分で訂正して読んで欲しい.  大文字と小文字の混同や書き直しが不完全な場合や符号のミスは非常によくある.\n",
    "\n",
    "このノートに書いてある式を文字通りにそのまま読んで正しいと思ってしまうとひどい目に会う可能性が高い. しかし, 数が使われている文献には大抵の場合に文字通りに読むと間違っている式や主張が書いてあるので, 内容を理解した上で訂正しながら読んで利用しなければいけない. 実践的に数学を使う状況では他人が書いた式をそのまま信じていけない.\n",
    "\n",
    "このノートの内容よりもさらに詳しいノートを自分で作ると勉強になるだろう.  膨大な時間を取られることになるが, このノートの内容に関係することで飯を食っていく可能性がある人にはそのためにかけた時間は無駄にならないと思われる."
   ]
  },
  {
   "cell_type": "markdown",
   "id": "5215fcbf",
   "metadata": {
    "toc": true
   },
   "source": [
    "<h1>目次<span class=\"tocSkip\"></span></h1>\n",
    "<div class=\"toc\"><ul class=\"toc-item\"><li><span><a href=\"#比率の比較に関するP値と信頼区間\" data-toc-modified-id=\"比率の比較に関するP値と信頼区間-1\"><span class=\"toc-item-num\">1&nbsp;&nbsp;</span>比率の比較に関するP値と信頼区間</a></span><ul class=\"toc-item\"><li><span><a href=\"#比率の比較に関するP値と信頼区間を使って行いたいこと\" data-toc-modified-id=\"比率の比較に関するP値と信頼区間を使って行いたいこと-1.1\"><span class=\"toc-item-num\">1.1&nbsp;&nbsp;</span>比率の比較に関するP値と信頼区間を使って行いたいこと</a></span></li><li><span><a href=\"#2×2の分割表型データとその2つの二項分布モデル\" data-toc-modified-id=\"2×2の分割表型データとその2つの二項分布モデル-1.2\"><span class=\"toc-item-num\">1.2&nbsp;&nbsp;</span>2×2の分割表型データとその2つの二項分布モデル</a></span></li><li><span><a href=\"#比率の違いを表す2つの指標:-オッズ比-OR-とリスク比-RR\" data-toc-modified-id=\"比率の違いを表す2つの指標:-オッズ比-OR-とリスク比-RR-1.3\"><span class=\"toc-item-num\">1.3&nbsp;&nbsp;</span>比率の違いを表す2つの指標: オッズ比 OR とリスク比 RR</a></span></li><li><span><a href=\"#Wald版のオッズ比に関するP値と信頼区間の定義\" data-toc-modified-id=\"Wald版のオッズ比に関するP値と信頼区間の定義-1.4\"><span class=\"toc-item-num\">1.4&nbsp;&nbsp;</span>Wald版のオッズ比に関するP値と信頼区間の定義</a></span></li><li><span><a href=\"#Wald版のオッズ比に関するP値と信頼区間の計算例\" data-toc-modified-id=\"Wald版のオッズ比に関するP値と信頼区間の計算例-1.5\"><span class=\"toc-item-num\">1.5&nbsp;&nbsp;</span>Wald版のオッズ比に関するP値と信頼区間の計算例</a></span><ul class=\"toc-item\"><li><span><a href=\"#WolframAlphaによるWald版のP値と信頼区間の計算の仕方\" data-toc-modified-id=\"WolframAlphaによるWald版のP値と信頼区間の計算の仕方-1.5.1\"><span class=\"toc-item-num\">1.5.1&nbsp;&nbsp;</span>WolframAlphaによるWald版のP値と信頼区間の計算の仕方</a></span></li><li><span><a href=\"#Julia言語によるWald版のP値と信頼区間の計算の仕方(1)\" data-toc-modified-id=\"Julia言語によるWald版のP値と信頼区間の計算の仕方(1)-1.5.2\"><span class=\"toc-item-num\">1.5.2&nbsp;&nbsp;</span>Julia言語によるWald版のP値と信頼区間の計算の仕方(1)</a></span></li><li><span><a href=\"#Julia言語によるWald版のP値と信頼区間の計算の仕方(2)\" data-toc-modified-id=\"Julia言語によるWald版のP値と信頼区間の計算の仕方(2)-1.5.3\"><span class=\"toc-item-num\">1.5.3&nbsp;&nbsp;</span>Julia言語によるWald版のP値と信頼区間の計算の仕方(2)</a></span></li><li><span><a href=\"#R言語での計算の仕方\" data-toc-modified-id=\"R言語での計算の仕方-1.5.4\"><span class=\"toc-item-num\">1.5.4&nbsp;&nbsp;</span>R言語での計算の仕方</a></span></li></ul></li><li><span><a href=\"#Pearsonのχ²検定版のオッズ比に関するP値と信頼区間の定義\" data-toc-modified-id=\"Pearsonのχ²検定版のオッズ比に関するP値と信頼区間の定義-1.6\"><span class=\"toc-item-num\">1.6&nbsp;&nbsp;</span>Pearsonのχ²検定版のオッズ比に関するP値と信頼区間の定義</a></span></li><li><span><a href=\"#Pearsonのχ²検定版のオッズ比に関するP値と信頼区間の計算例\" data-toc-modified-id=\"Pearsonのχ²検定版のオッズ比に関するP値と信頼区間の計算例-1.7\"><span class=\"toc-item-num\">1.7&nbsp;&nbsp;</span>Pearsonのχ²検定版のオッズ比に関するP値と信頼区間の計算例</a></span><ul class=\"toc-item\"><li><span><a href=\"#WolframAlphaによるPearsonのχ²検定のP値の計算の仕方\" data-toc-modified-id=\"WolframAlphaによるPearsonのχ²検定のP値の計算の仕方-1.7.1\"><span class=\"toc-item-num\">1.7.1&nbsp;&nbsp;</span>WolframAlphaによるPearsonのχ²検定のP値の計算の仕方</a></span></li><li><span><a href=\"#Julia言語によるPearsonのχ²検定版のオッズ比に関するP値と信頼区間の計算の仕方(1)\" data-toc-modified-id=\"Julia言語によるPearsonのχ²検定版のオッズ比に関するP値と信頼区間の計算の仕方(1)-1.7.2\"><span class=\"toc-item-num\">1.7.2&nbsp;&nbsp;</span>Julia言語によるPearsonのχ²検定版のオッズ比に関するP値と信頼区間の計算の仕方(1)</a></span></li><li><span><a href=\"#Julia言語によるPearsonのχ²検定版のオッズ比に関するP値と信頼区間の計算の仕方(2)\" data-toc-modified-id=\"Julia言語によるPearsonのχ²検定版のオッズ比に関するP値と信頼区間の計算の仕方(2)-1.7.3\"><span class=\"toc-item-num\">1.7.3&nbsp;&nbsp;</span>Julia言語によるPearsonのχ²検定版のオッズ比に関するP値と信頼区間の計算の仕方(2)</a></span></li><li><span><a href=\"#R言語によるPearsonのχ²検定のP値の計算の仕方\" data-toc-modified-id=\"R言語によるPearsonのχ²検定のP値の計算の仕方-1.7.4\"><span class=\"toc-item-num\">1.7.4&nbsp;&nbsp;</span>R言語によるPearsonのχ²検定のP値の計算の仕方</a></span></li></ul></li><li><span><a href=\"#ニューサンスパラメータの問題に関する注意\" data-toc-modified-id=\"ニューサンスパラメータの問題に関する注意-1.8\"><span class=\"toc-item-num\">1.8&nbsp;&nbsp;</span>ニューサンスパラメータの問題に関する注意</a></span></li></ul></li></ul></div>"
   ]
  },
  {
   "cell_type": "code",
   "execution_count": 1,
   "id": "53e3c7d0",
   "metadata": {},
   "outputs": [],
   "source": [
    "ENV[\"LINES\"], ENV[\"COLUMNS\"] = 100, 100\n",
    "using Base.Threads\n",
    "using BenchmarkTools\n",
    "using DataFrames\n",
    "using Distributions\n",
    "using LinearAlgebra\n",
    "using Memoization\n",
    "using Printf\n",
    "using QuadGK\n",
    "using RCall\n",
    "using Random\n",
    "Random.seed!(4649373)\n",
    "using Roots\n",
    "using SpecialFunctions\n",
    "using StaticArrays\n",
    "using StatsBase\n",
    "using StatsFuns\n",
    "using StatsPlots\n",
    "default(fmt = :png, size = (400, 250),\n",
    "    titlefontsize = 10, plot_titlefontsize = 12)\n",
    "using SymPy"
   ]
  },
  {
   "cell_type": "code",
   "execution_count": 2,
   "id": "e0724638",
   "metadata": {},
   "outputs": [],
   "source": [
    "# Override the Base.show definition of SymPy.jl:\n",
    "# https://github.com/JuliaPy/SymPy.jl/blob/29c5bfd1d10ac53014fa7fef468bc8deccadc2fc/src/types.jl#L87-L105\n",
    "\n",
    "@eval SymPy function Base.show(io::IO, ::MIME\"text/latex\", x::SymbolicObject)\n",
    "    print(io, as_markdown(\"\\\\displaystyle \" *\n",
    "            sympy.latex(x, mode=\"plain\", fold_short_frac=false)))\n",
    "end\n",
    "@eval SymPy function Base.show(io::IO, ::MIME\"text/latex\", x::AbstractArray{Sym})\n",
    "    function toeqnarray(x::Vector{Sym})\n",
    "        a = join([\"\\\\displaystyle \" *\n",
    "                sympy.latex(x[i]) for i in 1:length(x)], \"\\\\\\\\\")\n",
    "        \"\"\"\\\\left[ \\\\begin{array}{r}$a\\\\end{array} \\\\right]\"\"\"\n",
    "    end\n",
    "    function toeqnarray(x::AbstractArray{Sym,2})\n",
    "        sz = size(x)\n",
    "        a = join([join(\"\\\\displaystyle \" .* map(sympy.latex, x[i,:]), \"&\")\n",
    "                for i in 1:sz[1]], \"\\\\\\\\\")\n",
    "        \"\\\\left[ \\\\begin{array}{\" * repeat(\"r\",sz[2]) * \"}\" * a * \"\\\\end{array}\\\\right]\"\n",
    "    end\n",
    "    print(io, as_markdown(toeqnarray(x)))\n",
    "end"
   ]
  },
  {
   "cell_type": "code",
   "execution_count": 3,
   "id": "390fe160",
   "metadata": {},
   "outputs": [
    {
     "data": {
      "text/plain": [
       "mykurtosis (generic function with 2 methods)"
      ]
     },
     "execution_count": 3,
     "metadata": {},
     "output_type": "execute_result"
    }
   ],
   "source": [
    "safemul(x, y) = x == 0 ? x : x*y\n",
    "safediv(x, y) = x == 0 ? x : x/y\n",
    "\n",
    "x ⪅ y = x < y || x ≈ y\n",
    "\n",
    "mypdf(dist, x) = pdf(dist, x)\n",
    "mypdf(dist::DiscreteUnivariateDistribution, x) = pdf(dist, round(Int, x))\n",
    "\n",
    "distname(dist::Distribution) = replace(string(dist), r\"{.*}\" => \"\")\n",
    "myskewness(dist) = skewness(dist)\n",
    "mykurtosis(dist) = kurtosis(dist)\n",
    "function standardized_moment(dist::ContinuousUnivariateDistribution, m)\n",
    "    μ, σ = mean(dist), std(dist)\n",
    "    quadgk(x -> (x - μ)^m * pdf(dist, x), extrema(dist)...)[1] / σ^m\n",
    "end\n",
    "myskewness(dist::MixtureModel{Univariate, Continuous}) =\n",
    "    standardized_moment(dist, 3)\n",
    "mykurtosis(dist::MixtureModel{Univariate, Continuous}) =\n",
    "    standardized_moment(dist, 4) - 3"
   ]
  },
  {
   "cell_type": "code",
   "execution_count": 4,
   "id": "d4f35707",
   "metadata": {},
   "outputs": [
    {
     "data": {
      "text/plain": [
       "confint_or_pearson (generic function with 1 method)"
      ]
     },
     "execution_count": 4,
     "metadata": {},
     "output_type": "execute_result"
    }
   ],
   "source": [
    "oddsratiohat(a, b, c, d) = safediv(a*d, b*c)\n",
    "stderr_logoddsratiohat(a, b, c, d) = √(1/a + 1/b + 1/c + 1/d)\n",
    "\n",
    "function confint_or_wald(a, b, c, d; α=0.05)\n",
    "    z = quantile(Normal(), 1-α/2)\n",
    "    ORhat = oddsratiohat(a, b, c, d)\n",
    "    SElogORhat = stderr_logoddsratiohat(a, b, c, d)\n",
    "    [exp(-z*SElogORhat)*ORhat, exp(z*SElogORhat)*ORhat]\n",
    "end\n",
    "\n",
    "function pvalue_or_wald(a, b, c, d, ω=1)\n",
    "    logORhat = log(oddsratiohat(a, b, c, d))\n",
    "    SElogORhat = stderr_logoddsratiohat(a, b, c, d)\n",
    "    2ccdf(Normal(0, 1), abs(log(ω) - logORhat)/SElogORhat)\n",
    "end\n",
    "\n",
    "function delta(a, b, c, d, ω=1)\n",
    "    A, B, C = 1-ω, a+d+ω*(b+c), a*d-ω*b*c\n",
    "    isinf(ω) ? typeof(ω)(-min(b, c)) : safediv(2C, B + √(B^2 - 4A*C))\n",
    "end\n",
    "\n",
    "# correction = 0.5 は連続性補正を与える.\n",
    "function chisqstat(a, b, c, d, ω=1; correction=0.0)\n",
    "    δ = delta(a, b, c, d, ω)\n",
    "    â, b̂, ĉ, d̂ = a-δ, b+δ, c+δ, d-δ\n",
    "    safemul(max(0, abs(δ)-correction)^2, 1/â+1/b̂+1/ĉ+1/d̂)\n",
    "end\n",
    "\n",
    "function pvalue_or_pearson(a, b, c, d, ω=1; correction=0.0)\n",
    "    χ² = chisqstat(a, b, c, d, ω; correction)\n",
    "    ccdf(Chisq(1), χ²)\n",
    "end\n",
    "\n",
    "function confint_or_pearson(a, b, c, d; α=0.05, correction=0.0)\n",
    "    ω_L, ω_U = confint_or_wald(a, b, c, d; α)\n",
    "    f(ω) = logit(pvalue_or_pearson(a, b, c, d, ω; correction)) - logit(α)\n",
    "    [find_zero(f, ω_L), find_zero(f, ω_U)]\n",
    "end"
   ]
  },
  {
   "cell_type": "code",
   "execution_count": 5,
   "id": "fc3c98de",
   "metadata": {},
   "outputs": [
    {
     "data": {
      "text/plain": [
       "(49, 965, 26, 854)"
      ]
     },
     "execution_count": 5,
     "metadata": {},
     "output_type": "execute_result"
    }
   ],
   "source": [
    "a, b, c, d = 49, 965, 26, 854"
   ]
  },
  {
   "cell_type": "code",
   "execution_count": 6,
   "id": "7afd8d2f",
   "metadata": {},
   "outputs": [
    {
     "data": {
      "text/plain": [
       "1.6678357911518533"
      ]
     },
     "execution_count": 6,
     "metadata": {},
     "output_type": "execute_result"
    }
   ],
   "source": [
    "oddsratiohat(a, b, c, d)"
   ]
  },
  {
   "cell_type": "code",
   "execution_count": 7,
   "id": "88feb228",
   "metadata": {},
   "outputs": [
    {
     "data": {
      "text/plain": [
       "3-element Vector{Float64}:\n",
       " 0.09215260921137496\n",
       " 0.09006489933310749\n",
       " 0.1149227968821219"
      ]
     },
     "execution_count": 7,
     "metadata": {},
     "output_type": "execute_result"
    }
   ],
   "source": [
    "[\n",
    "    pvalue_or_wald(a, b, c, d, 1.1)\n",
    "    pvalue_or_pearson(a, b, c, d, 1.1)\n",
    "    pvalue_or_pearson(a, b, c, d, 1.1; correction=0.5)\n",
    "]"
   ]
  },
  {
   "cell_type": "code",
   "execution_count": 8,
   "id": "4ad5a0de",
   "metadata": {},
   "outputs": [
    {
     "data": {
      "text/plain": [
       "3-element Vector{Vector{Float64}}:\n",
       " [1.0275181208761617, 2.7071797272783877]\n",
       " [1.031778110800563, 2.6957054358850328]\n",
       " [1.002870215221586, 2.7855253257917676]"
      ]
     },
     "execution_count": 8,
     "metadata": {},
     "output_type": "execute_result"
    }
   ],
   "source": [
    "[\n",
    "    confint_or_wald(a, b, c, d),\n",
    "    confint_or_pearson(a, b, c, d),\n",
    "    confint_or_pearson(a, b, c, d; correction=0.5)\n",
    "]"
   ]
  },
  {
   "cell_type": "code",
   "execution_count": 9,
   "id": "e0147185",
   "metadata": {},
   "outputs": [
    {
     "data": {
      "text/plain": [
       "3-element Vector{Vector{Float64}}:\n",
       " [0.037829803607039435, 0.5592686923030045]\n",
       " [0.04084291410483445, 0.5253472140108638]\n",
       " [0.02962955731952912, 0.6228119542455193]"
      ]
     },
     "execution_count": 9,
     "metadata": {},
     "output_type": "execute_result"
    }
   ],
   "source": [
    "# cf. Cornfeild (1956), p.139, (4.2)\n",
    "let (a, b, c, d) = (3, 11, 60, 32)\n",
    "    [\n",
    "        confint_or_wald(a, b, c, d),\n",
    "        confint_or_pearson(a, b, c, d),\n",
    "        confint_or_pearson(a, b, c, d; correction=0.5)\n",
    "    ]\n",
    "end"
   ]
  },
  {
   "cell_type": "code",
   "execution_count": 10,
   "id": "a8e8db46",
   "metadata": {},
   "outputs": [
    {
     "data": {
      "text/plain": [
       "RObject{VecSxp}\n",
       "             Outcome +    Outcome -      Total        Inc risk *        Odds\n",
       "Exposed +           49          965       1014              4.83      0.0508\n",
       "Exposed -           26          854        880              2.95      0.0304\n",
       "Total               75         1819       1894              3.96      0.0412\n",
       "\n",
       "Point estimates and 95% CIs:\n",
       "-------------------------------------------------------------------\n",
       "Inc risk ratio                                 1.6356 (1.0254, 2.6088)\n",
       "Odds ratio                                     1.6678 (1.0275, 2.7072)\n",
       "Attrib risk in the exposed *                   1.8778 (0.1475, 3.6081)\n",
       "Attrib fraction in the exposed (%)            38.8590 (2.4779, 61.6679)\n",
       "Attrib risk in the population *                1.0053 (-0.4170, 2.4276)\n",
       "Attrib fraction in the population (%)         25.3879 (-1.2434, 45.0140)\n",
       "-------------------------------------------------------------------\n",
       "Uncorrected chi2 test that OR = 1: chi2(1) = 4.368 Pr>chi2 = 0.037\n",
       "Fisher exact test that OR = 1: Pr>chi2 = 0.044\n",
       " Wald confidence limits\n",
       " CI: confidence interval\n",
       " * Outcomes per 100 population units \n"
      ]
     },
     "execution_count": 10,
     "metadata": {},
     "output_type": "execute_result"
    }
   ],
   "source": [
    "R\"\"\"\n",
    "A = matrix(c(49, 965, 26, 854), 2, 2, byrow=T)\n",
    "result = epiR::epi.2by2(A, digits=4, conf.level=0.95)\n",
    "\"\"\""
   ]
  },
  {
   "cell_type": "code",
   "execution_count": 11,
   "id": "423a0af3",
   "metadata": {},
   "outputs": [
    {
     "data": {
      "text/plain": [
       "OrderedCollections.OrderedDict{Symbol, Any} with 10 entries:\n",
       "  :method         => \"cohort.count\"\n",
       "  :n_strata       => 1\n",
       "  :digits         => 4.0\n",
       "  :conf_level     => 0.95\n",
       "  :interp         => false\n",
       "  :units          => [\"Outcomes per 100 population units\", \"per 100 population units\"]\n",
       "  :tab            => \u001b[1m3×5 DataFrame\u001b[0m…\n",
       "  :massoc_summary => \u001b[1m6×4 DataFrame\u001b[0m…\n",
       "  :massoc_interp  => \u001b[1m7×2 DataFrame\u001b[0m…\n",
       "  :massoc_detail  => OrderedCollections.OrderedDict{Symbol, Any}(:RR_strata_wald=>\u001b[1m1×3 DataFrame\u001b[…"
      ]
     },
     "execution_count": 11,
     "metadata": {},
     "output_type": "execute_result"
    }
   ],
   "source": [
    "@rget result"
   ]
  },
  {
   "cell_type": "code",
   "execution_count": 12,
   "id": "24881a3e",
   "metadata": {},
   "outputs": [
    {
     "data": {
      "text/plain": [
       "OrderedCollections.OrderedDict{Symbol, Any} with 19 entries:\n",
       "  :RR_strata_wald      => \u001b[1m1×3 DataFrame\u001b[0m…\n",
       "  :RR_strata_taylor    => \u001b[1m1×3 DataFrame\u001b[0m…\n",
       "  :RR_strata_score     => \u001b[1m1×3 DataFrame\u001b[0m…\n",
       "  :OR_strata_wald      => \u001b[1m1×3 DataFrame\u001b[0m…\n",
       "  :OR_strata_cfield    => \u001b[1m1×3 DataFrame\u001b[0m…\n",
       "  :OR_strata_score     => \u001b[1m1×3 DataFrame\u001b[0m…\n",
       "  :OR_strata_mle       => \u001b[1m1×3 DataFrame\u001b[0m…\n",
       "  :ARisk_strata_wald   => \u001b[1m1×3 DataFrame\u001b[0m…\n",
       "  :ARisk_strata_score  => \u001b[1m1×3 DataFrame\u001b[0m…\n",
       "  :NNT_strata_wald     => \u001b[1m1×3 DataFrame\u001b[0m…\n",
       "  :NNT_strata_score    => \u001b[1m1×3 DataFrame\u001b[0m…\n",
       "  :AFRisk_strata_wald  => \u001b[1m1×3 DataFrame\u001b[0m…\n",
       "  :PARisk_strata_wald  => \u001b[1m1×3 DataFrame\u001b[0m…\n",
       "  :PARisk_strata_piri  => \u001b[1m1×3 DataFrame\u001b[0m…\n",
       "  :PAFRisk_strata_wald => \u001b[1m1×3 DataFrame\u001b[0m…\n",
       "  :chi2_strata_uncor   => \u001b[1m1×5 DataFrame\u001b[0m…\n",
       "  :chi2_strata_yates   => \u001b[1m1×4 DataFrame\u001b[0m…\n",
       "  :chi2_strata_fisher  => \u001b[1m1×4 DataFrame\u001b[0m…\n",
       "  :chi2_correction     => false"
      ]
     },
     "execution_count": 12,
     "metadata": {},
     "output_type": "execute_result"
    }
   ],
   "source": [
    "md = result[:massoc_detail]"
   ]
  },
  {
   "cell_type": "code",
   "execution_count": 13,
   "id": "f0c0c5af",
   "metadata": {},
   "outputs": [
    {
     "data": {
      "text/html": [
       "<div class=\"data-frame\"><p>6 rows × 4 columns</p><table class=\"data-frame\"><thead><tr><th></th><th>var</th><th>est</th><th>lower</th><th>upper</th></tr><tr><th></th><th title=\"String\">String</th><th title=\"Float64\">Float64</th><th title=\"Float64\">Float64</th><th title=\"Float64\">Float64</th></tr></thead><tbody><tr><th>1</th><td>Inc risk ratio</td><td>1.63556</td><td>1.02541</td><td>2.60878</td></tr><tr><th>2</th><td>Odds ratio</td><td>1.66784</td><td>1.02752</td><td>2.70718</td></tr><tr><th>3</th><td>Attrib risk *</td><td>1.8778</td><td>0.147521</td><td>3.60808</td></tr><tr><th>4</th><td>Attrib fraction in exposed (%)</td><td>38.859</td><td>2.47794</td><td>61.6679</td></tr><tr><th>5</th><td>Attrib risk in population *</td><td>1.00533</td><td>-0.41699</td><td>2.42765</td></tr><tr><th>6</th><td>Attrib fraction in population (%)</td><td>25.3879</td><td>-1.2434</td><td>45.014</td></tr></tbody></table></div>"
      ],
      "text/latex": [
       "\\begin{tabular}{r|cccc}\n",
       "\t& var & est & lower & upper\\\\\n",
       "\t\\hline\n",
       "\t& String & Float64 & Float64 & Float64\\\\\n",
       "\t\\hline\n",
       "\t1 & Inc risk ratio & 1.63556 & 1.02541 & 2.60878 \\\\\n",
       "\t2 & Odds ratio & 1.66784 & 1.02752 & 2.70718 \\\\\n",
       "\t3 & Attrib risk * & 1.8778 & 0.147521 & 3.60808 \\\\\n",
       "\t4 & Attrib fraction in exposed (\\%) & 38.859 & 2.47794 & 61.6679 \\\\\n",
       "\t5 & Attrib risk in population * & 1.00533 & -0.41699 & 2.42765 \\\\\n",
       "\t6 & Attrib fraction in population (\\%) & 25.3879 & -1.2434 & 45.014 \\\\\n",
       "\\end{tabular}\n"
      ],
      "text/plain": [
       "\u001b[1m6×4 DataFrame\u001b[0m\n",
       "\u001b[1m Row \u001b[0m│\u001b[1m var                               \u001b[0m\u001b[1m est      \u001b[0m\u001b[1m lower     \u001b[0m\u001b[1m upper    \u001b[0m\n",
       "\u001b[1m     \u001b[0m│\u001b[90m String                            \u001b[0m\u001b[90m Float64  \u001b[0m\u001b[90m Float64   \u001b[0m\u001b[90m Float64  \u001b[0m\n",
       "─────┼──────────────────────────────────────────────────────────────────\n",
       "   1 │ Inc risk ratio                      1.63556   1.02541    2.60878\n",
       "   2 │ Odds ratio                          1.66784   1.02752    2.70718\n",
       "   3 │ Attrib risk *                       1.8778    0.147521   3.60808\n",
       "   4 │ Attrib fraction in exposed (%)     38.859     2.47794   61.6679\n",
       "   5 │ Attrib risk in population *         1.00533  -0.41699    2.42765\n",
       "   6 │ Attrib fraction in population (%)  25.3879   -1.2434    45.014"
      ]
     },
     "execution_count": 13,
     "metadata": {},
     "output_type": "execute_result"
    }
   ],
   "source": [
    "ms = result[:massoc_summary]"
   ]
  },
  {
   "cell_type": "markdown",
   "id": "fdc84e4c",
   "metadata": {},
   "source": [
    "## 比率の比較に関するP値と信頼区間"
   ]
  },
  {
   "cell_type": "markdown",
   "id": "cf0ea603",
   "metadata": {},
   "source": [
    "### 比率の比較に関するP値と信頼区間を使って行いたいこと\n",
    "\n",
    "(1) ウェブページのデザインAとBではどちらの側がどれだけ商品が売れ易いかを知りたい. \n",
    "\n",
    "(2) 薬Xを処方した側ではしなかった側よりも快復者の割合がどれだけ増えるかを知りたい.\n",
    "\n",
    "例えば, (1)の場合に次のようなデータが得られたとする:\n",
    "\n",
    "$$\n",
    "\\begin{array}{c|c|c|c}\n",
    "& \\text{商品を購入した} & \\text{購入しなかった} & \\text{合計} \\\\\n",
    "\\hline\n",
    "\\text{デザインA} & 49   &  965 & 1014 \\\\\n",
    "\\hline\n",
    "\\text{デザインB} & 26   &  854 &  880 \\\\\n",
    "\\hline\n",
    "\\text{合計}      & 75   & 1819 & 1894 \\\\ \n",
    "\\end{array}\n",
    "$$\n",
    "\n",
    "このデータの数値は, デザインAの側にアクセスした1014人中の49人が商品を購入し, デザインBの側にアクセスした880人中の26人が商品を購入したことを表している.\n",
    "\n",
    "このデータの数値からの印象では, デザインAの方がデザインBの方が商品の購入確率が高いように見える. 実際, デザインAでの購入者割合は $49/1014 \\approx 4.8\\%$ 程度で, デザインBでの購入者割合の $26/880 \\approx 3.0\\%$ より大きい.\n",
    "\n",
    "しかし, データの確率的揺らぎのせいで偶然に, デザインAの側がよく売れるように見えるデータの数値が得られただけなのかもしれない.  (実際には他にも様々な原因で偏ったデータが得られる場合がある.)\n",
    "\n",
    "もしもそうならば, 上のデータに基くウェブページのデザイン採用に関する意思決定は無駄に終わることになってしまう.  だから, そのようなリスクの程度を見積もる必要がある.  そのための道具がP値や信頼区間である.  \n",
    "\n",
    "このようなデータに適当な統計モデルを適用して, デザインAとデザインBでの購入確率の違いを信頼区間で表したい.\n",
    "\n",
    "そのためには以下のようにすればよい:\n",
    "\n",
    "1. 統計モデルの設定.\n",
    "2. 購入確率の違いを表す指標を導入.\n",
    "3. その指標の値が〇〇であるという仮説のP値を定義する.\n",
    "4. そのP値を使って信頼区間を定義する.\n",
    "5. 以上によって得られたP値函数や信頼区間を利用する."
   ]
  },
  {
   "cell_type": "markdown",
   "id": "2d562514",
   "metadata": {},
   "source": [
    "### 2×2の分割表型データとその2つの二項分布モデル\n",
    "\n",
    "このノートでは次の形の $2\\times2$ の分割表型のデータを扱う:\n",
    "\n",
    "$$\n",
    "\\begin{array}{c|c|c|c}\n",
    "& Y = 1 & Y = 0 & \\\\\n",
    "\\hline\n",
    "X = 1 & a & b & m = a+b \\\\\n",
    "\\hline\n",
    "X = 0 & c & d & n = c+d \\\\\n",
    "\\hline\n",
    "      & s = a+c & t = b+d & N=a+b+c+d \\\\ \n",
    "\\end{array}\n",
    "$$\n",
    "\n",
    "ここで $a,b,c,d$ は $0$ 以上の整数である.\n",
    "\n",
    "このノートでは2×2の分割表型データに関する以下のような設定の統計モデルを扱う. \n",
    "\n",
    "(1) 横方向の合計 $m=a+b$, $n=c+d$ (ゆえに全体の合計 $N=m+n$) は固定されていると仮定する.\n",
    "\n",
    "(2) $a$ は成功確率パラメータ $p$ の二項分布に従っており, $c$ は成功確率パラメータ $q$ の二項分布に従っているとし, $a$, $c$ は独立であると仮定する.  $p$, $q$ を比率と呼ぶこともある.\n",
    "\n",
    "このとき, $a,b,c,d$ の同時確率質量函数は次のように表される:\n",
    "\n",
    "$$\n",
    "\\begin{aligned}\n",
    "&\n",
    "P(a,b,c,d|m,n,p,q) =\n",
    "\\binom{m}{a}p^a(1-p)^b \\binom{n}{c}q^c(1-q)^d\n",
    "\\\\ &\n",
    "\\qquad\\qquad\n",
    "(a,b,c,d\\in\\Z_{\\ge 0},\\; a+b=m,\\; c+d=n).\n",
    "\\end{aligned}\n",
    "$$\n",
    "\n",
    "これを __2つの二項分布モデル__ と呼ぶ.\n",
    "\n",
    "(3) このモデルは上の分割表において, 以下が成立しているという設定になっている:\n",
    "\n",
    "* $X=1$ のときには $Y=1$ となる確率は $p$ である.\n",
    "* $X=0$ のときには $Y=1$ となる確率は $q$ である.\n",
    "\n",
    "そして, $X=1$ となる人達を $m$ 人選び, $X=0$ となる人を $n$ 人選んで $Y$ がどうなるかを調べた.\n",
    "\n",
    "$X$, $Y$ として以下のような場合を想定している:\n",
    "\n",
    "* $X=1,0$ はウェブページのデザインがA,Bのどちらであるかを意味し, $Y=1,0$ は商品を購入したかしないかを意味する.\n",
    "* $X=1,0$ は薬Xを処方したか否かを意味し, $Y=1,0$ は快復したか否かを意味する.\n",
    "\n",
    "__注意:__ このモデルの採用が妥当であるかどうかはデータの数値とは別の情報を使って判断しなければいけない.  例えば, 比較したい母集団とは異なる偏った母集団からの無作為抽出になってしまっている疑いが強い場合には, モデルを変更するか, データの取得の仕方を変更するか, どちらかの処置が必要になる.\n",
    "\n",
    "__注意:__ 分割表の縦方向と横方向の役割を逆転させた場合も数学的には同様である.  ただし, データの分析結果の解釈では立場を交換したことによって違いが出るので注意すること.\n",
    "\n",
    "__注意:__ 以上で説明した2つの二項分布モデル以外に, 多項分布(四項分布)モデルや4つのPoisson分布モデルも考えられるが, 以下では省略する.  実は統計モデルをそのように変更しても以下で説明するP値や信頼区間の計算の仕方はどれも同じになることが知られている.  2×2の分割表に関する統計モデルについては, [「条件付き確率分布, 尤度, 推定, 記述統計」のノート](https://nbviewer.org/github/genkuroki/Statistics/blob/master/2022/06%20Conditional%20distribution%2C%20likelihood%2C%20estimation%2C%20and%20summary.ipynb)の「2×2の分割表の分布」の節を参照せよ."
   ]
  },
  {
   "cell_type": "markdown",
   "id": "d93ed9a1",
   "metadata": {},
   "source": [
    "### 比率の違いを表す2つの指標: オッズ比 OR とリスク比 RR\n",
    "\n",
    "比率 $0<p<1$ に関する\n",
    "\n",
    "$$\n",
    "u = \\frac{p}{1 - p}\n",
    "$$\n",
    "\n",
    "を __オッズ__(odds)と呼び, 2つの比率 $0<p<1$, $0<q<1$ に関する\n",
    "\n",
    "$$\n",
    "\\OR = \\frac{p/(1-p)}{q/(1-q)} = \\frac{p(1-q)}{(1-p)q}\n",
    "$$\n",
    "\n",
    "を __オッズ比__(odds ratio, OR)と呼び, これの対数 $\\beta$ を __対数オッズ比__ (log odds ratio)と呼ぶ:\n",
    "\n",
    "$$\n",
    "\\log \\OR = \\log \\frac{p(1-q)}{(1-p)q} =\n",
    "\\log\\frac{p}{1-p} - \\log\\frac{q}{1-q}.\n",
    "$$\n",
    "\n",
    "さらにこのノートでは, 2つの比率 $0<p<1$, $0<q<1$ に関する\n",
    "\n",
    "$$\n",
    "\\RR = \\frac{p}{q}\n",
    "$$\n",
    "\n",
    "を __リスク比__(risk ratio, RR)と呼び, これの対数 $\\gamma$ を __対数リスク比__ (log risk ratio)と呼ぶ:\n",
    "\n",
    "$$\n",
    "\\log\\RR = \\log\\frac{p}{q} = \\log p - \\log q.\n",
    "$$\n",
    "\n",
    "もしも, $p,q$ の両方が $0$ に近ければ, $1-p\\approx 1$, $1-q\\approx 1$ という近似を使えるので, リスク比はオッズ比で近似される:\n",
    "\n",
    "$$\n",
    "1-p\\approx 1,\\ 1-q\\approx 1\n",
    "\\implies\n",
    "\\RR \\approx \\OR.\n",
    "$$\n",
    "\n",
    "比率 $p$ と $q$ が等しいという条件はオッズ比やリスク比を使って以下のように言い換えられる:\n",
    "\n",
    "$$\n",
    "p = q \\iff \\OR = 1 \\iff \\RR = 1.\n",
    "$$\n",
    "\n",
    "だから, $p$ と $q$ が等しいという仮説は $\\OR=1$ や $\\RR=1$ のように表現できる. (もちろん, それらの対数版である $\\log\\OR = 0$ や $\\log\\RR = 0$ を採用してもよい.)\n",
    "\n",
    "そして, オッズ比 $\\OR$ とリスク比 $\\RR$ が $1$ からどれだけどのように離れているかは, 2つの比率 $p$, $q$ の違いを表す指標として使える.  (もちろん, それらの対数版である $\\log\\OR$ や $\\log\\RR$ が $0$ からどれだけどのように 離れているかを指標として採用してもよい.)\n",
    "\n",
    "__注意:__ 他にも __比率の差__ $p - q$ も重要な指標だが, このノートでは面倒だという理由で扱わないことにする.\n",
    "\n",
    "__注意:__ オッズは賭け事ではよく使われる用語である. 例えばある勝負で $A$ が勝つことに賭けるときに\n",
    "\n",
    "$$\n",
    "\\text{勝つ確率} : \\text{負ける確率} = 1 : 4\n",
    "$$\n",
    "\n",
    "だと思っているなら, あなたはオッズは「$1$ 対 $4$」だと思っていることになる.\n",
    "\n",
    "__注意:__ 例えば確率 $p$, $q$ が「死亡確率」ならば「リスク」という呼び方は適切になる.  ここではそうでない場合も $p$, $q$ を「リスク」と呼んでしまい, $p/q$ を「リスク比」と呼ぶことにする.  具体的な応用先で, この呼び方に違和感を感じる場合には適宜別の呼び方をするようにして欲しい.\n",
    "\n",
    "__注意:__ このノートでは主にオッズ比を比率の違いを表す指標として利用する.  その理由は. 応用上の理由ではなく, 単に数学的に扱いやすいからである. そして, 以下の注意で説明するように, オッズ比を考えることは, その対数を考えることによって, ロジスティック回帰の話とも関係付けることができる.\n",
    "\n",
    "__注意:__ オッズ $u=p/(1-p)$ の対数を $x$ と書き, __対数オッズ__(log odds)と呼ぶ. このとき, 以下の公式によって $0<p<1$, $0<u<\\infty$, $-\\infty<x<\\infty$ が一対一に対応する:\n",
    "\n",
    "$$\n",
    "\\begin{aligned}\n",
    "&\n",
    "p = \\frac{u}{1+u} = \\frac{1}{1+e^{-x}} = \\logistic(x),\n",
    "\\\\ &\n",
    "u = \\frac{p}{1-p} = \\exp(x), \n",
    "\\\\ &\n",
    "x = \\log(u) = \\log \\frac{p}{1-p} = \\logit(p).\n",
    "\\end{aligned}\n",
    "$$\n",
    "\n",
    "$x$ を $p$ に対応させる函数は __ロジスティック函数__ と呼ばれ, その逆函数は __ロジット函数__ と呼ばれる. \n",
    "\n",
    "__注意:__ 対数オッズ比を $\\beta = \\log\\OR$ と書き, さらに $q$ の対数を $\\alpha=\\log q$ と書くと, $p$, $q$ の対数オッズはそれぞれ次のように表される:\n",
    "\n",
    "$$\n",
    "\\logit(p) = \\log\\frac{p}{1-p} = \\alpha + \\beta, \\quad\n",
    "\\logit(q) = \\log\\frac{q}{1-p} = \\alpha.\n",
    "$$\n",
    "\n",
    "これらは次と同値である:\n",
    "\n",
    "$$\n",
    "p = \\logistic(\\alpha + \\beta), \\quad\n",
    "q = \\logistic(\\alpha).\n",
    "$$\n",
    "\n",
    "モデルの2つの比率パラメータ $p$, $q$ をこのように表して, データの数値から $\\alpha, \\beta$ の値を推定することを __ロジスティック回帰__ (logisti regression)と呼ぶ.  (実際にはもっと一般の場合もロジスティック回帰と呼ぶ.)\n",
    "\n",
    "__注意:__ 対数リスク比を $\\beta = \\log\\RR = \\log p - \\log q$ と書き, $q$ の対数を $\\alpha=\\log q$ と書くと, $p$, $q$ の対数はそれぞれ次のように表される:\n",
    "\n",
    "$$\n",
    "\\log p = \\alpha + \\beta, \\quad\n",
    "\\log q = \\alpha.\n",
    "$$\n",
    "\n",
    "これは次と同値である:\n",
    "\n",
    "$$\n",
    "p = \\exp(\\alpha + \\beta), \\quad\n",
    "q = \\exp(\\alpha).\n",
    "$$\n",
    "\n",
    "これと上の違いは $\\logistic$ と $\\exp$ の違いになっている."
   ]
  },
  {
   "cell_type": "markdown",
   "id": "4d4aeed5",
   "metadata": {},
   "source": [
    "### Wald版のオッズ比に関するP値と信頼区間の定義\n",
    "\n",
    "__検定したい仮説:__ 検定したい仮説は\n",
    "\n",
    "$$\n",
    "\\text{オッズ比は $\\OR = \\omega$ である.}\n",
    "$$\n",
    "\n",
    "であるとする.  ここで $\\omega > 0$ は具体的な正の実数である.\n",
    "\n",
    "__正規分布近似:__ 仮に $a,b,c,d$ が2つの二項分布モデルに従う確率変数ならば, それらの __オッズ比__\n",
    "\n",
    "$$\n",
    "\\ORhat = \\frac{a/b}{c/d} = \\frac{ad}{bc}\n",
    "$$\n",
    "\n",
    "の対数 $\\log\\ORhat$ (対数オッズ比)は, 平均がモデルのパラメータの対数オッズ比\n",
    "\n",
    "$$\n",
    "\\log\\OR = \\log\\frac{p(1-q)}{(1-p)q}\n",
    "$$\n",
    "\n",
    "で, 分散が\n",
    "\n",
    "$$\n",
    "\\SEhat^2 = \\frac{1}{a} + \\frac{1}{b} + \\frac{1}{c} + \\frac{1}{d}\n",
    "$$\n",
    "\n",
    "であるような正規分布に近似的に従うことを示せる.  ゆえに, \n",
    "\n",
    "$$\n",
    "\\frac{\\log\\ORhat - \\log\\OR}{\\SEhat} \\sim\n",
    "\\Normal(0,1),\\ \\text{approximately}.\n",
    "$$\n",
    "\n",
    "([「大数の法則と中心極限定理」のノート](https://nbviewer.org/github/genkuroki/Statistics/blob/master/2022/05%20Central%20limit%20theorem.ipynb)で解説したデルタ法を使えば示せる.)\n",
    "\n",
    "__P値の構成法:__ 上の近似を使えば, 「オッズ比は $\\OR = \\omega$ である」という仮説のP値を次のように定めることができる:\n",
    "\n",
    "$$\n",
    "\\pvalue_{\\Wald}(a, b, c, d|\\OR=\\omega) =\n",
    "2\\left(1 - \\cdf\\left(\\Normal(0,1), \\frac{\\widehat{\\OR} - \\omega}{\\widehat{\\SE}}\\right)\\right)\n",
    "$$\n",
    "\n",
    "ただし, $\\log\\ORhat$ と $\\SEhat$ はデータの数値 $a,b,c,d$ から上で示した式で計算された値であるとする.\n",
    "\n",
    "__対応する信頼区間:__ このP値の定義に対応するオッズ比 $\\OR$ に関する信頼度 $1-\\alpha$ の信頼区間は次のようになる:\n",
    "\n",
    "$$\n",
    "\\confint^{\\log\\OR}_{\\Wald}(a, b, c, d|\\alpha) =\n",
    "\\left[\n",
    "\\ORhat - z_{\\alpha/2}\\SEhat,\\;\n",
    "\\ORhat + z_{\\alpha/2}\\SEhat\n",
    "\\right]\n",
    "$$\n",
    "\n",
    "対応するオッズ比 $\\OR$ の信頼区間は次のようになる:\n",
    "\n",
    "$$\n",
    "\\confint^{\\OR}_{\\Wald}(a, b, c, d|\\alpha) =\n",
    "\\left[\n",
    "\\exp\\left(-z_{\\alpha/2}\\SEhat\\right)\\ORhat,\\;\n",
    "\\exp\\left( z_{\\alpha/2}\\SEhat\\right)\\ORhat\n",
    "\\right]\n",
    "$$\n",
    "\n",
    "ここで, $z_{\\alpha/2} = \\quantile(\\Normal(0,1), 1-\\alpha/2)$ である."
   ]
  },
  {
   "cell_type": "markdown",
   "id": "e9135d1c",
   "metadata": {},
   "source": [
    "### Wald版のオッズ比に関するP値と信頼区間の計算例\n",
    "\n",
    "データが次の場合のWald版の仮説「オッズ比は $\\OR=1$ である」のP値とオッズ比 $\\OR$ の $95\\%$ 信頼区間を計算してみよう:\n",
    "\n",
    "$$\n",
    "\\begin{array}{c|c|c|c}\n",
    "& \\text{商品を購入した} & \\text{購入しなかった} & \\text{合計} \\\\\n",
    "\\hline\n",
    "\\text{デザインA} & 49   &  965 & 1014 \\\\\n",
    "\\hline\n",
    "\\text{デザインB} & 26   &  854 &  880 \\\\\n",
    "\\hline\n",
    "\\text{合計}      & 75   & 1819 & 1894 \\\\ \n",
    "\\end{array}\n",
    "$$\n",
    "\n",
    "結果は次のようになる:\n",
    "\n",
    "* (Wald版の仮説「オッズ比は $\\OR=1$ である」のP値) ≈ 3.847%\n",
    "* (Wald版のオッズ比 $\\OR$ の $95\\%$ 信頼区間) ≈ \\[1.0275, 2.7072\\]"
   ]
  },
  {
   "cell_type": "markdown",
   "id": "4cd80db5",
   "metadata": {},
   "source": [
    "#### WolframAlphaによるWald版のP値と信頼区間の計算の仕方\n",
    "\n",
    "`sqrt(1/a+1/b+1/c+1/d) where a=49.0, b=965, c=26, d=854` → [実行](https://www.wolframalpha.com/input?i=sqrt%281%2Fa%2B1%2Fb%2B1%2Fc%2B1%2Fd%29+where+a%3D49.0%2C+b%3D965%2C+c%3D26%2C+d%3D854) → 0.247137\n",
    "\n",
    "`log(a*d/(b*c))/0.247137 where a=49.0, b=965, c=26, d=854` → [実行](https://www.wolframalpha.com/input?i=log%28a*d%2F%28b*c%29%29%2F0.247137+where+a%3D49.0%2C+b%3D965%2C+c%3D26%2C+d%3D854) → 2.06981\n",
    "\n",
    "`2(1 - cdf(NormalDistrubution(0,1), 2.06981))` → [実行](https://www.wolframalpha.com/input?i=2%281+-+cdf%28NormalDistrubution%280%2C1%29%2C+2.06981%29%29) → 0.0384701 (P値)\n",
    "\n",
    "`quantile(NormalDistribution(0,1), 0.975))` → [実行](https://www.wolframalpha.com/input?i=quantile%28NormalDistribution%280%2C1%29%2C+0.975%29) → 1.95996\n",
    "\n",
    "`{exp(-0.247137z)*a*d/(b*c), exp(0.247137z)*a*d/(b*c)} where a=49.0, b=965, c=26, d=854, z=1.95996` → [実行](https://www.wolframalpha.com/input?i=%7Bexp%28-0.247137z%29*a*d%2F%28b*c%29%2C+exp%280.247137z%29*a*d%2F%28b*c%29%7D+where+a%3D49.0%2C+b%3D965%2C+c%3D26%2C+d%3D854%2C+z%3D1.95996) → {1.02752, 2.70717} (95%信頼区間)"
   ]
  },
  {
   "cell_type": "markdown",
   "id": "f544f66d",
   "metadata": {},
   "source": [
    "#### Julia言語によるWald版のP値と信頼区間の計算の仕方(1)\n",
    "\n",
    "素朴に定義通りにコードを入力すれば計算できる."
   ]
  },
  {
   "cell_type": "code",
   "execution_count": 14,
   "id": "76d730b6",
   "metadata": {},
   "outputs": [
    {
     "name": "stdout",
     "output_type": "stream",
     "text": [
      "(a, b, c, d) = (49, 965, 26, 854)\n",
      "ω = 1.0\n",
      "ORhat = (a * d) / (b * c) = 1.6678357911518533\n",
      "SEhat = √(1 / a + 1 / b + 1 / c + 1 / d) = 0.247137474584997\n",
      "pvalue = 2 * ccdf(Normal(), abs(log(ORhat) - log(ω)) / SEhat) = 0.03847043006362489\n",
      "α = 0.05\n",
      "z = quantile(Normal(), 1 - α / 2) = 1.9599639845400576\n",
      "confint = [exp(-z * SEhat) * ORhat, exp(z * SEhat) * ORhat] = [1.0275181208761617, 2.7071797272783877]\n"
     ]
    }
   ],
   "source": [
    "a, b, c, d = 49, 965, 26, 854\n",
    "@show a, b, c, d\n",
    "ω = 1.0\n",
    "@show ω\n",
    "@show ORhat = a*d/(b*c)\n",
    "@show SEhat = √(1/a + 1/b + 1/c + 1/d)\n",
    "@show pvalue = 2ccdf(Normal(), abs(log(ORhat) - log(ω))/SEhat)\n",
    "α = 0.05\n",
    "@show α\n",
    "@show z = quantile(Normal(), 1-α/2)\n",
    "@show confint = [exp(-z*SEhat)*ORhat, exp(z*SEhat)*ORhat]\n",
    ";"
   ]
  },
  {
   "cell_type": "markdown",
   "id": "945aff0d",
   "metadata": {},
   "source": [
    "#### Julia言語によるWald版のP値と信頼区間の計算の仕方(2)\n",
    "\n",
    "このノートブックの最初の方で定義した函数を使って計算."
   ]
  },
  {
   "cell_type": "code",
   "execution_count": 15,
   "id": "8598d577",
   "metadata": {},
   "outputs": [
    {
     "name": "stdout",
     "output_type": "stream",
     "text": [
      "(a, b, c, d) = (49, 965, 26, 854)\n",
      "pvalue_or_wald(a, b, c, d, 1) = 0.03847043006362489\n",
      "confint_or_wald(a, b, c, d; α = 0.05) = [1.0275181208761617, 2.7071797272783877]\n"
     ]
    }
   ],
   "source": [
    "a, b, c, d = 49, 965, 26, 854\n",
    "@show a, b, c, d\n",
    "@show pvalue_or_wald(a, b, c, d, 1)\n",
    "@show confint_or_wald(a, b, c, d; α=0.05);"
   ]
  },
  {
   "cell_type": "markdown",
   "id": "c01a15ec",
   "metadata": {},
   "source": [
    "#### R言語での計算の仕方\n",
    "\n",
    "定義通りにコードを入力すれば計算できる.\n",
    "\n",
    "```R\n",
    "a = 49\n",
    "b = 965\n",
    "c = 26\n",
    "d = 854\n",
    "omega = 1\n",
    "ORhat = a*d/(b*c)\n",
    "SEhat = sqrt(1/a + 1/b + 1/c + 1/d)\n",
    "p.value = 2*(1 - pnorm(abs(log(ORhat) - log(omega))/SEhat))\n",
    "alpha = 0.05\n",
    "z = qnorm(1 - alpha/2)\n",
    "conf.int = c(exp(-z*SEhat)*ORhat, exp(z*SEhat)*ORhat)\n",
    "\n",
    "cat(\"data: a b c d = \", a, b, c, d, \"\\n\")\n",
    "cat(\"null hypothesis: OR = \", omega, \"\\n\")\n",
    "cat(\"ORhat = \", ORhat, \"\\n\")\n",
    "cat(\"SEhat = \", SEhat, \"\\n\")\n",
    "cat(\"p.value = \", p.value, \"\\n\")\n",
    "cat(\"conf.level = \", 1 - alpha, \"\\n\")\n",
    "cat(\"conf.int = \", conf.int, \"\\n\")\n",
    "```"
   ]
  },
  {
   "cell_type": "code",
   "execution_count": 16,
   "id": "0c12dfe1",
   "metadata": {},
   "outputs": [
    {
     "name": "stdout",
     "output_type": "stream",
     "text": [
      "data: a b c d =  49 965 26 854 \n",
      "null hypothesis: OR =  1 \n",
      "ORhat =  1.667836 \n",
      "SEhat =  0.2471375 \n",
      "p.value =  0.03847043 \n",
      "conf.level =  0.95 \n",
      "conf.int =  1.027518 2.70718 \n"
     ]
    }
   ],
   "source": [
    "R\"\"\"\n",
    "a = 49\n",
    "b = 965\n",
    "c = 26\n",
    "d = 854\n",
    "omega = 1\n",
    "ORhat = a*d/(b*c)\n",
    "SEhat = sqrt(1/a + 1/b + 1/c + 1/d)\n",
    "p.value = 2*(1 - pnorm(abs(log(ORhat) - log(omega))/SEhat))\n",
    "alpha = 0.05\n",
    "z = qnorm(1 - alpha/2)\n",
    "conf.int = c(exp(-z*SEhat)*ORhat, exp(z*SEhat)*ORhat)\n",
    "\n",
    "cat(\"data: a b c d = \", a, b, c, d, \"\\n\")\n",
    "cat(\"null hypothesis: OR = \", omega, \"\\n\")\n",
    "cat(\"ORhat = \", ORhat, \"\\n\")\n",
    "cat(\"SEhat = \", SEhat, \"\\n\")\n",
    "cat(\"p.value = \", p.value, \"\\n\")\n",
    "cat(\"conf.level = \", 1 - alpha, \"\\n\")\n",
    "cat(\"conf.int = \", conf.int, \"\\n\")\n",
    "\"\"\";"
   ]
  },
  {
   "cell_type": "markdown",
   "id": "eac8d86c",
   "metadata": {},
   "source": [
    "$95\\%$ 信頼区間はepiR パッケージを使えば\n",
    "\n",
    "```R\n",
    "A = matrix(c(49, 965, 26, 854), 2, 2, byrow=T)\n",
    "result = epiR::epi.2by2(A, digits=4, conf.level=0.95)\n",
    "```\n",
    "\n",
    "で計算できる. 色々表示されるが,\n",
    "\n",
    "```\n",
    "Odds ratio                                     1.6678 (1.0275, 2.7072)\n",
    "```\n",
    "\n",
    "の行の括弧の内側にWald版の信頼区間が表示されている."
   ]
  },
  {
   "cell_type": "code",
   "execution_count": 17,
   "id": "97bb8cbd",
   "metadata": {},
   "outputs": [
    {
     "data": {
      "text/plain": [
       "RObject{VecSxp}\n",
       "             Outcome +    Outcome -      Total        Inc risk *        Odds\n",
       "Exposed +           49          965       1014              4.83      0.0508\n",
       "Exposed -           26          854        880              2.95      0.0304\n",
       "Total               75         1819       1894              3.96      0.0412\n",
       "\n",
       "Point estimates and 95% CIs:\n",
       "-------------------------------------------------------------------\n",
       "Inc risk ratio                                 1.6356 (1.0254, 2.6088)\n",
       "Odds ratio                                     1.6678 (1.0275, 2.7072)\n",
       "Attrib risk in the exposed *                   1.8778 (0.1475, 3.6081)\n",
       "Attrib fraction in the exposed (%)            38.8590 (2.4779, 61.6679)\n",
       "Attrib risk in the population *                1.0053 (-0.4170, 2.4276)\n",
       "Attrib fraction in the population (%)         25.3879 (-1.2434, 45.0140)\n",
       "-------------------------------------------------------------------\n",
       "Uncorrected chi2 test that OR = 1: chi2(1) = 4.368 Pr>chi2 = 0.037\n",
       "Fisher exact test that OR = 1: Pr>chi2 = 0.044\n",
       " Wald confidence limits\n",
       " CI: confidence interval\n",
       " * Outcomes per 100 population units \n"
      ]
     },
     "execution_count": 17,
     "metadata": {},
     "output_type": "execute_result"
    }
   ],
   "source": [
    "R\"\"\"\n",
    "A = matrix(c(49, 965, 26, 854), 2, 2, byrow=T)\n",
    "result = epiR::epi.2by2(A, digits=4, conf.level=0.95)\n",
    "\"\"\""
   ]
  },
  {
   "cell_type": "markdown",
   "id": "11417195",
   "metadata": {},
   "source": [
    "### Pearsonのχ²検定版のオッズ比に関するP値と信頼区間の定義\n",
    "\n",
    "天下り的になってしまい非常に申し訳ないのだが, オッズ比の値に関する仮説のP値のPearsonのχ²検定版を以下のように定義する.  特にP値の構成法の(1)の段階がひどく天下り的である.  しかし, それ以外の部分については計算の筋道を詳しく書いておくので, 自分の手で計算して確認して欲しい.\n",
    "\n",
    "そして, さらに, それだけだとどういうことなのか分かりにくいので, 後の方で示す具体的な数値の計算例と以下で説明する各ステップの対応を繰り返し確認して欲しい.\n",
    "\n",
    "__検定したい仮説:__ 検定したい仮説は\n",
    "\n",
    "$$\n",
    "\\text{オッズ比は $\\OR = \\omega$ である.}\n",
    "$$\n",
    "\n",
    "であるとする.  ここで $\\omega > 0$ は具体的な正の実数である.\n",
    "\n",
    "仮説が $\\OR = 1$ である場合に, 以下で定義するP値はちょうど __独立性に関するPearsonのχ²検定__ で使うP値になっている.\n",
    "\n",
    "__P値の構成法:__ オッズ比の値に関する仮説のP値のPearsonのχ²検定版の構成法は以下の通り.\n",
    "\n",
    "(1) 分割表のデータの数値 $a,b,c,d$ に対して, 次を満たす $\\delta$ を求める:\n",
    "\n",
    "$$\n",
    "\\frac{(a-\\delta)(d-\\delta)}{(b+\\delta)(c+\\delta)} = \\omega,\n",
    "\\quad -\\min(b,c) \\le \\delta \\le \\min(a,d).\n",
    "$$\n",
    "\n",
    "これの左側の等式は\n",
    "\n",
    "$$\n",
    "A = 1 - \\omega, \\quad\n",
    "B = a + d + \\omega(b + c), \\quad\n",
    "C = ad - \\omega bc\n",
    "$$\n",
    "\n",
    "とおくと, 次のように書き直される:\n",
    "\n",
    "$$\n",
    "A \\delta^2 - B \\delta + C = 0.\n",
    "$$\n",
    "\n",
    "これの解で $-\\min(b,c) \\le \\delta \\le \\min(a,d)$ を満たす側が欲しい $\\delta$ である. それは次のように表される:\n",
    "\n",
    "$$\n",
    "\\delta = \\frac{2C}{B + \\sqrt{B^2 - 4AC}}.\n",
    "$$\n",
    "\n",
    "この表示で浮動小数点数の計算をした方が安全でかつ誤差も小さくなり易い.\n",
    "\n",
    "特に $\\omega = 1$ の場合(独立性検定の場合)には, $\\delta$ を決める方程式は $-(a+b+c+d)\\delta + ad-bc=0$ になるので,\n",
    "\n",
    "$$\n",
    "\\omega = 1 \\implies \\delta = \\frac{ad-bc}{a+b+c+d} = \\frac{ad-bc}{N}.\n",
    "$$\n",
    "\n",
    "(2) $\\ha,\\hb,\\hc,\\hd$ を次のように定める:\n",
    "\n",
    "$$\n",
    "\\ha = a - \\delta, \\quad\n",
    "\\hb = b + \\delta, \\quad\n",
    "\\hc = c + \\delta, \\quad\n",
    "\\hd = d - \\delta.\n",
    "$$\n",
    "\n",
    "これが実は仮説 $\\OR=1$ 下での期待値の最尤推定値になっていることを後の方の節で説明する.\n",
    "\n",
    "特に $\\omega = 1$ の場合(独立性検定の場合)には次のようになっている:\n",
    "\n",
    "$$\n",
    "\\omega = 1 \\implies\n",
    "\\begin{cases}\n",
    "\\;\n",
    "\\ha = \\dfrac{(a+b)(a+c)}{N} = \\dfrac{ms}{N}, &\n",
    "\\hb = \\dfrac{(a+b)(b+d)}{N} = \\dfrac{mr}{N},\n",
    "\\\\ \\;\n",
    "\\hc = \\dfrac{(c+d)(a+c)}{N} = \\dfrac{ns}{N}, &\n",
    "\\hd = \\dfrac{(c+d)(b+d)}{N} = \\dfrac{nr}{N}.\n",
    "\\end{cases}\n",
    "$$\n",
    "\n",
    "(3) データの数値に対応するPearsonのχ²統計量 $\\chi^2$ の値を次のように定める:\n",
    "\n",
    "$$\n",
    "\\begin{aligned}\n",
    "\\chi^2 &=\n",
    "\\frac{(a - \\ha)^2}{\\ha} +\n",
    "\\frac{(b - \\hb)^2}{\\hb} +\n",
    "\\frac{(c - \\hc)^2}{\\hc} +\n",
    "\\frac{(d - \\hd)^2}{\\hd}\n",
    "\\\\ &=\n",
    "\\delta^2\n",
    "\\left(\\frac{1}{\\ha}+\\frac{1}{\\hb}+\\frac{1}{\\hc}+\\frac{1}{\\hd}\\right).\n",
    "\\end{aligned}\n",
    "$$\n",
    "\n",
    "この $\\chi^2$ は $a,b,c,d,\\omega$ のみを使って計算できる数値になっている.\n",
    "\n",
    "上の $\\chi^2$ に関する前者の式はPearsonのχ²統計量の一般的な表式\n",
    "\n",
    "$$\n",
    "\\chi^2 =\n",
    "\\sum \\frac{((観測値) - (帰無仮説下のモデル内での期待値))^2}{(帰無仮説下のモデル内での期待値)}\n",
    "$$\n",
    "\n",
    "の特別な場合になっていることに注意せよ. 帰無仮説下のモデル内での期待値は最尤推定値として求めたものになっている.\n",
    "\n",
    "\n",
    "特に $\\omega = 1$ の場合(独立性検定の場合)には次のようになっている:\n",
    "\n",
    "$$\n",
    "\\chi^2 = \\frac{N(ad-bc)^2}{(a+b)(c+d)(a+c)(b+d)} =\n",
    "\\frac{N(ad-bc)^2}{mnrs}\n",
    "$$\n",
    "\n",
    "これは独立性に関するPearsonのχ²統計量の公式として有名である.\n",
    "\n",
    "(4) 仮説 $\\OR = \\omega$ の下での統計モデル内で同様に定義されたPearsonのχ²統計量の値がデータから計算した $\\chi^2$ の値以上になる確率の近似値としてP値を定義したい.  (一般にP値は, 統計モデル内でデータの数値以上に極端な場合が生じる確率またはその近似値として定義されるのであった.)\n",
    "\n",
    "仮に $a,b,c,d$ が現実から得たデータの数値ではなく, 仮説 $\\OR = \\omega$ の下での統計モデル内でランダムに生成された仮想的なデータであるとき, (3)のように定義された $\\chi^2$ は $a,b,c,d$ が十分に大きなとき(実はそう大きくなくてもよい), 近似的に自由度 $1$ のχ²分布に従うことを示せる.\n",
    "\n",
    "このことを使って, 仮説 $\\OR = \\omega$ のP値を次のように定義する:\n",
    "\n",
    "$$\n",
    "\\pvalue_{\\Pearson}(a,b,c,d|\\OR=\\omega) =\n",
    "1 - \\cdf(\\Chisq(1), \\chi^2).\n",
    "$$\n",
    "\n",
    "仮説 $\\OR = \\omega$ に関するデータの数値 $a,b,c,d$ に関するPearsonのχ²統計量の値 $\\chi^2$ は $a,b,c,d,\\omega$ だけで計算される値なので, これでP値がうまく定義されている.\n",
    "\n",
    "__対応する信頼区間:__ このP値の定義に対応するオッズ比 $\\OR$ の信頼度 $1-\\alpha$ の信頼区間は次のように定義される:\n",
    "\n",
    "$$\n",
    "\\confint^{\\OR}_{\\Pearson}(a,b,c,d|\\alpha) = \n",
    "\\{\\, \\omega > 0 \\mid \\pvalue_{\\Pearson}(a,b,c,d|\\OR=\\omega) \\ge \\alpha\\,\\}.\n",
    "$$\n",
    "\n",
    "この信頼区間を計算するために使えるシンプルな公式はないように思われる.  このノートでは、$\\pvalue_{\\Pearson}(a,b,c,d|\\OR=\\omega) = \\alpha$ を満たす $\\omega$ を数値的に求めることによって信頼区間を計算している.\n",
    "\n",
    "__文献:__ この節の構成は次の論文に書いてある方法の連続補正無し版になっている:\n",
    "\n",
    "* Jerome Cornfield, A Statistical Problem Arising from Retrospective Studies, Berkeley Symposium on Mathematical Statistics and Probability, 1956: 135-148 (1956)  [link](https://projecteuclid.org/ebooks/berkeley-symposium-on-mathematical-statistics-and-probability/Proceedings%20of%20the%20Third%20Berkeley%20Symposium%20on%20Mathematical%20Statistics%20and%20Probability,%20Volume%204:%20Contributions%20to%20Biology%20and%20Problems%20of%20Health/chapter/A%20Statistical%20Problem%20Arising%20from%20Retrospective%20Studies/bsmsp/1200502552)"
   ]
  },
  {
   "cell_type": "markdown",
   "id": "7e9d84a1",
   "metadata": {},
   "source": [
    "### Pearsonのχ²検定版のオッズ比に関するP値と信頼区間の計算例\n",
    "\n",
    "データが次の場合のPearsonのχ²検定版仮説「オッズ比は $\\OR=1$ である」のP値とオッズ比 $\\OR$ の $95\\%$ 信頼区間を計算してみよう:\n",
    "\n",
    "$$\n",
    "\\begin{array}{c|c|c|c}\n",
    "& \\text{商品を購入した} & \\text{購入しなかった} & \\text{合計} \\\\\n",
    "\\hline\n",
    "\\text{デザインA} & 49   &  965 & 1014 \\\\\n",
    "\\hline\n",
    "\\text{デザインB} & 26   &  854 &  880 \\\\\n",
    "\\hline\n",
    "\\text{合計}      & 75   & 1819 & 1894 \\\\ \n",
    "\\end{array}\n",
    "$$\n",
    "\n",
    "結果は次のようになる:\n",
    "\n",
    "* (Pearsonのχ²検定版の仮説「オッズ比は $\\OR=1$ である」のP値) ≈ 3.661%\n",
    "* (Pearsonのχ²検定版のオッズ比 $\\OR$ の $95\\%$ 信頼区間) ≈ \\[1.0318, 2.6957\\]\n",
    "\n",
    "信頼区間ついてはJulia言語版の計算例のみを示す.  WolframAlphaでこの信頼区間を求めることはかなり面倒である."
   ]
  },
  {
   "cell_type": "markdown",
   "id": "7411753c",
   "metadata": {},
   "source": [
    "#### WolframAlphaによるPearsonのχ²検定のP値の計算の仕方\n",
    "\n",
    "$\\omega = 1$ の場合には, Pearsonのχ²統計量は,\n",
    "\n",
    "$$\n",
    "\\chi^2 = \\frac{(a+b+c+d)(ad-bc)^2}{(a+b)(c+d)(a+c)(b+d)}\n",
    "$$\n",
    "\n",
    "となるのであった. これを用いてP値を計算してみよう.\n",
    "\n",
    "`(a+b+c+d)(ad-bc)^2/((a+b)(c+d)(a+c)(b+d)) where a=49.0, b=965, c=26, d=854` → [実行](https://www.wolframalpha.com/input?i=%28a%2Bb%2Bc%2Bd%29%28ad-bc%29%5E2%2F%28%28a%2Bb%29%28c%2Bd%29%28a%2Bc%29%28b%2Bd%29%29+where+a%3D49.0%2C+b%3D965%2C+c%3D26%2C+d%3D854) → 4.36824 (独立性に関するPearsonのχ²統計量)\n",
    "\n",
    "`1 - cdf(ChisqDistribution(1), 4.36824)` → [実行](https://www.wolframalpha.com/input?i=1+-+cdf%28ChisqDistribution%281%29%2C+4.36824%29) → 0.0366148 (P値)"
   ]
  },
  {
   "cell_type": "markdown",
   "id": "8ae91cd0",
   "metadata": {},
   "source": [
    "#### Julia言語によるPearsonのχ²検定版のオッズ比に関するP値と信頼区間の計算の仕方(1)\n",
    "\n",
    "$\\omega = 1$ の場合のPearsonのχ²検定版のオッズ比に関するP値は, 独立性に関するPearsonのχ²検定のP値そのものになる.  それを上でやったのと同じ方法で計算する.\n",
    "\n",
    "信頼区間の側は函数の零点を見つけてくれる函数を使って求めてみよう."
   ]
  },
  {
   "cell_type": "code",
   "execution_count": 23,
   "id": "c9599fda",
   "metadata": {},
   "outputs": [
    {
     "name": "stdout",
     "output_type": "stream",
     "text": [
      "(a, b, c, d) = (49, 965, 26, 854)\n",
      "χ² = 4.368235947209686\n",
      "pvalue = ccdf(Chisq(1), χ²) = 0.03661487827607113\n",
      "α = 0.05\n",
      "confint = [1.031778110800563, 2.6957054358850328]\n"
     ]
    }
   ],
   "source": [
    "a, b, c, d = 49, 965, 26, 854\n",
    "@show a, b, c, d\n",
    "χ² = (a+b+c+d)*(a*d-b*c)^2/((a+b)*(c+d)*(a+c)*(b+d))\n",
    "@show χ²\n",
    "@show pvalue = ccdf(Chisq(1), χ²)\n",
    "α = 0.05\n",
    "@show α\n",
    "confint = find_zeros(0.5, 3.0) do ω\n",
    "    A, B, C = 1-ω, a+d+ω*(b+c), a*d-ω*b*c\n",
    "    δ = 2C/(B + √(B^2 - 4A*C))\n",
    "    χ² = δ^2 * (1/(a-δ) + 1/(b+δ) + 1/(c+δ) + 1/(d-δ))\n",
    "    ccdf(Chisq(1), χ²) - α\n",
    "end\n",
    "@show confint;"
   ]
  },
  {
   "cell_type": "markdown",
   "id": "854f5cfc",
   "metadata": {},
   "source": [
    "`f(x, y) do z ... end` 構文については\n",
    "\n",
    "* https://docs.julialang.org/en/v1/manual/functions/#Do-Block-Syntax-for-Function-Arguments\n",
    "\n",
    "を参照せよ.  `find_zeros` 函数の使い方については,\n",
    "\n",
    "* https://juliamath.github.io/Roots.jl/stable/#Basic-usage\n",
    "\n",
    "を参照せよ."
   ]
  },
  {
   "cell_type": "markdown",
   "id": "9fa396ef",
   "metadata": {},
   "source": [
    "#### Julia言語によるPearsonのχ²検定版のオッズ比に関するP値と信頼区間の計算の仕方(2)\n",
    "\n",
    "このノートブックの最初の方で定義した函数を使って計算."
   ]
  },
  {
   "cell_type": "code",
   "execution_count": 24,
   "id": "684eb1dc",
   "metadata": {},
   "outputs": [
    {
     "name": "stdout",
     "output_type": "stream",
     "text": [
      "(a, b, c, d) = (49, 965, 26, 854)\n",
      "chisqstat(a, b, c, d, 1) = 4.368235947209686\n",
      "pvalue_or_pearson(a, b, c, d, 1) = 0.03661487827607113\n",
      "confint_or_pearson(a, b, c, d; α = 0.05) = [1.031778110800563, 2.6957054358850328]\n"
     ]
    }
   ],
   "source": [
    "a, b, c, d = 49, 965, 26, 854\n",
    "@show a, b, c, d\n",
    "@show chisqstat(a, b, c, d, 1)\n",
    "@show pvalue_or_pearson(a, b, c, d, 1)\n",
    "@show confint_or_pearson(a, b, c, d; α=0.05);"
   ]
  },
  {
   "cell_type": "markdown",
   "id": "ad09fbdf",
   "metadata": {},
   "source": [
    "#### R言語によるPearsonのχ²検定のP値の計算の仕方\n",
    "\n",
    "独立性に関するPearsonのχ²検定のP値は次のようにして計算できる.\n",
    "\n",
    "```R\n",
    "A = matrix(c(49, 965, 26, 854), 2, 2, byrow=T)\n",
    "result = chisq.test(A, correct=F)\n",
    "```"
   ]
  },
  {
   "cell_type": "code",
   "execution_count": 29,
   "id": "f7613268",
   "metadata": {},
   "outputs": [
    {
     "data": {
      "text/plain": [
       "RObject{VecSxp}\n",
       "\n",
       "\tPearson's Chi-squared test\n",
       "\n",
       "data:  A\n",
       "X-squared = 4.3682, df = 1, p-value = 0.03661\n",
       "\n"
      ]
     },
     "execution_count": 29,
     "metadata": {},
     "output_type": "execute_result"
    }
   ],
   "source": [
    "R\"\"\"\n",
    "A = matrix(c(49, 965, 26, 854), 2, 2, byrow=T)\n",
    "result = chisq.test(A, correct=F)\n",
    "\"\"\""
   ]
  },
  {
   "cell_type": "markdown",
   "id": "3d7a9526",
   "metadata": {},
   "source": [
    "### ニューサンスパラメータの問題に関する注意\n",
    "\n",
    "我々が想定している統計モデルには $p$ と $q$ という2つのパラメータが含まれている. そこに仮説 $\\OR = \\omega$ によって制限を課しても, 独立なパラメータの個数は1つしか減らず, たとえば $q$ の側を自由に動けるパラメータとして採用し, 仮説 $\\OR=\\omega$ によって $p$ の値は $q$ の値から決まると考えることができる. \n",
    "\n",
    "だから, P値を定義するために必要な「仮説 $\\OR = \\omega$ の下での統計モデル内でデータの数値以上に極端な値が生じる確率」は, パラメータ $q$ の値を決めるごとに別々に決まる値になってしまう.  このような状況のとき, $q$ はニューサンスパラメータ(nuisance parameters, 局外パラメータ, 攪乱パラメータ, 迷惑パラメータ)であるという.\n",
    "\n",
    "しかし, 「データの数値以上に極端な値」の意味を, Wald的な正規分布近似を使ったり, Pearsonのχ²統計量を使ったりして定義すれば, 「仮説 $\\OR = \\omega$ の下での統計モデル内でデータの数値以上に極端な値が生じる確率」が, $a,b,c,d$ が十分に大きなとき, 近似的にパラメータ $q$ の値によらなくなることを示せる.\n",
    "\n",
    "以上で紹介したP値の定義にはこのような非常に巧妙な方法が使われている.\n",
    "\n",
    "ニューサンスパラメータの問題への対処の仕方にはそれら以外にも, 以下の節で説明する条件付き確率分布を利用する方法がある. その方法による検定は __Fisher検定__ と呼ばれている."
   ]
  },
  {
   "cell_type": "code",
   "execution_count": null,
   "id": "690b9524",
   "metadata": {},
   "outputs": [],
   "source": []
  }
 ],
 "metadata": {
  "@webio": {
   "lastCommId": null,
   "lastKernelId": null
  },
  "jupytext": {
   "formats": "ipynb,md"
  },
  "kernelspec": {
   "display_name": "Julia 1.7.3",
   "language": "julia",
   "name": "julia-1.7"
  },
  "language_info": {
   "file_extension": ".jl",
   "mimetype": "application/julia",
   "name": "julia",
   "version": "1.7.3"
  },
  "toc": {
   "base_numbering": 1,
   "nav_menu": {},
   "number_sections": true,
   "sideBar": true,
   "skip_h1_title": true,
   "title_cell": "目次",
   "title_sidebar": "目次",
   "toc_cell": true,
   "toc_position": {},
   "toc_section_display": true,
   "toc_window_display": false
  }
 },
 "nbformat": 4,
 "nbformat_minor": 5
}
