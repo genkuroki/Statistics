{
 "cells": [
  {
   "cell_type": "markdown",
   "id": "93887f79",
   "metadata": {},
   "source": [
    "# 検定と信頼区間: 比率の比較\n",
    "\n",
    "* 黒木玄\n",
    "* 2022-06-14～2022-06-15\n",
    "\n",
    "$\n",
    "\\newcommand\\op{\\operatorname}\n",
    "\\newcommand\\R{{\\mathbb R}}\n",
    "\\newcommand\\Z{{\\mathbb Z}}\n",
    "\\newcommand\\var{\\op{var}}\n",
    "\\newcommand\\cov{\\op{cov}}\n",
    "\\newcommand\\std{\\op{std}}\n",
    "\\newcommand\\eps{\\varepsilon}\n",
    "\\newcommand\\T[1]{T_{(#1)}}\n",
    "\\newcommand\\bk{\\bar\\kappa}\n",
    "\\newcommand\\X{{\\mathscr X}}\n",
    "\\newcommand\\CP{{\\mathrm{CP}}}\n",
    "\\newcommand\\Sterne{{\\mathrm{Sterne}}}\n",
    "\\newcommand\\Wilson{{\\mathrm{Wilson}}}\n",
    "\\newcommand\\Wald{{\\mathrm{Wald}}}\n",
    "\\newcommand\\LLR{{\\mathrm{LLR}}}\n",
    "\\newcommand\\pdf{\\op{pdf}}\n",
    "\\newcommand\\pmf{\\op{pmf}}\n",
    "\\newcommand\\cdf{\\op{cdf}}\n",
    "\\newcommand\\ecdf{\\op{ecdf}}\n",
    "\\newcommand\\quantile{\\op{quantile}}\n",
    "\\newcommand\\Binomial{\\op{Binomial}}\n",
    "\\newcommand\\Beta{\\op{Beta}}\n",
    "\\newcommand\\Normal{\\op{Normal}}\n",
    "\\newcommand\\Chisq{\\op{Chisq}}\n",
    "\\newcommand\\Chi{\\op{Chi}}\n",
    "\\newcommand\\TDist{\\op{TDist}}\n",
    "\\newcommand\\Chisq{\\op{Chisq}}\n",
    "\\newcommand\\pvalue{\\op{pvalue}}\n",
    "\\newcommand\\confint{\\op{confint}}\n",
    "\\newcommand\\credint{\\op{credint}}\n",
    "\\newcommand\\phat{\\hat{p}}\n",
    "\\newcommand\\SE{\\op{SE}}\n",
    "\\newcommand\\SEhat{\\widehat{\\SE}}\n",
    "\\newcommand\\logistic{\\op{logistic}}\n",
    "\\newcommand\\logit{\\op{logit}}\n",
    "\\newcommand\\OR{\\op{OR}}\n",
    "\\newcommand\\ORhat{\\widehat{\\OR}}\n",
    "\\newcommand\\RR{\\op{RR}}\n",
    "\\newcommand\\RRhat{\\widehat{\\RR}}\n",
    "\\newcommand\\ha{\\hat{a}}\n",
    "\\newcommand\\hb{\\hat{b}}\n",
    "\\newcommand\\hc{\\hat{c}}\n",
    "\\newcommand\\hd{\\hat{d}}\n",
    "\\newcommand\\ta{\\tilde{a}}\n",
    "\\newcommand\\tb{\\tilde{b}}\n",
    "\\newcommand\\tc{\\tilde{c}}\n",
    "\\newcommand\\td{\\tilde{d}}\n",
    "\\newcommand\\tx{\\tilde{x}}\n",
    "\\newcommand\\phat{\\hat{p}}\n",
    "\\newcommand\\qhat{\\hat{q}}\n",
    "\\newcommand\\ptilde{\\tilde{p}}\n",
    "\\newcommand\\qtilde{\\tilde{q}}\n",
    "\\newcommand\\Wald{\\op{Wald}}\n",
    "\\newcommand\\Pearson{\\op{Pearson}}\n",
    "\\newcommand\\Fisher{\\op{Fisher}}\n",
    "\\newcommand\\Bayes{\\op{Bayes}}\n",
    "\\newcommand\\FisherNoncentralHypergeometric{\\op{FisherNoncentralHypergeometric}}\n",
    "$\n",
    "\n",
    "\n",
    "このノートでは[Julia言語](https://julialang.org/)を使用している: \n",
    "\n",
    "* [Julia言語のインストールの仕方の一例](https://nbviewer.org/github/genkuroki/msfd28/blob/master/install.ipynb)\n",
    "\n",
    "自明な誤りを見つけたら, 自分で訂正して読んで欲しい.  大文字と小文字の混同や書き直しが不完全な場合や符号のミスは非常によくある.\n",
    "\n",
    "このノートに書いてある式を文字通りにそのまま読んで正しいと思ってしまうとひどい目に会う可能性が高い. しかし, 数が使われている文献には大抵の場合に文字通りに読むと間違っている式や主張が書いてあるので, 内容を理解した上で訂正しながら読んで利用しなければいけない. 実践的に数学を使う状況では他人が書いた式をそのまま信じていけない.\n",
    "\n",
    "このノートの内容よりもさらに詳しいノートを自分で作ると勉強になるだろう.  膨大な時間を取られることになるが, このノートの内容に関係することで飯を食っていく可能性がある人にはそのためにかけた時間は無駄にならないと思われる."
   ]
  },
  {
   "cell_type": "markdown",
   "id": "f94571d2",
   "metadata": {
    "toc": true
   },
   "source": [
    "<h1>目次<span class=\"tocSkip\"></span></h1>\n",
    "<div class=\"toc\"><ul class=\"toc-item\"><li><span><a href=\"#比率の比較に関するP値と信頼区間\" data-toc-modified-id=\"比率の比較に関するP値と信頼区間-1\"><span class=\"toc-item-num\">1&nbsp;&nbsp;</span>比率の比較に関するP値と信頼区間</a></span><ul class=\"toc-item\"><li><span><a href=\"#比率の比較に関するP値と信頼区間を使って行いたいこと\" data-toc-modified-id=\"比率の比較に関するP値と信頼区間を使って行いたいこと-1.1\"><span class=\"toc-item-num\">1.1&nbsp;&nbsp;</span>比率の比較に関するP値と信頼区間を使って行いたいこと</a></span></li><li><span><a href=\"#2×2の分割表型データとその2つの二項分布モデル\" data-toc-modified-id=\"2×2の分割表型データとその2つの二項分布モデル-1.2\"><span class=\"toc-item-num\">1.2&nbsp;&nbsp;</span>2×2の分割表型データとその2つの二項分布モデル</a></span></li><li><span><a href=\"#比率の違いを表す2つの指標:-オッズ比パラメータ-OR-とリスク比パラメータ-RR\" data-toc-modified-id=\"比率の違いを表す2つの指標:-オッズ比パラメータ-OR-とリスク比パラメータ-RR-1.3\"><span class=\"toc-item-num\">1.3&nbsp;&nbsp;</span>比率の違いを表す2つの指標: オッズ比パラメータ OR とリスク比パラメータ RR</a></span></li></ul></li><li><span><a href=\"#Wald版のオッズ比に関するP値と信頼区間\" data-toc-modified-id=\"Wald版のオッズ比に関するP値と信頼区間-2\"><span class=\"toc-item-num\">2&nbsp;&nbsp;</span>Wald版のオッズ比に関するP値と信頼区間</a></span><ul class=\"toc-item\"><li><span><a href=\"#Wald版のオッズ比に関するP値と信頼区間の定義\" data-toc-modified-id=\"Wald版のオッズ比に関するP値と信頼区間の定義-2.1\"><span class=\"toc-item-num\">2.1&nbsp;&nbsp;</span>Wald版のオッズ比に関するP値と信頼区間の定義</a></span></li><li><span><a href=\"#Wald版のオッズ比に関するP値と信頼区間の計算例\" data-toc-modified-id=\"Wald版のオッズ比に関するP値と信頼区間の計算例-2.2\"><span class=\"toc-item-num\">2.2&nbsp;&nbsp;</span>Wald版のオッズ比に関するP値と信頼区間の計算例</a></span><ul class=\"toc-item\"><li><span><a href=\"#WolframAlphaによるWald版のオッズ比に関するP値と信頼区間の計算の仕方\" data-toc-modified-id=\"WolframAlphaによるWald版のオッズ比に関するP値と信頼区間の計算の仕方-2.2.1\"><span class=\"toc-item-num\">2.2.1&nbsp;&nbsp;</span>WolframAlphaによるWald版のオッズ比に関するP値と信頼区間の計算の仕方</a></span></li><li><span><a href=\"#Julia言語によるWald版のオッズ比に関するP値と信頼区間の計算の仕方(1)\" data-toc-modified-id=\"Julia言語によるWald版のオッズ比に関するP値と信頼区間の計算の仕方(1)-2.2.2\"><span class=\"toc-item-num\">2.2.2&nbsp;&nbsp;</span>Julia言語によるWald版のオッズ比に関するP値と信頼区間の計算の仕方(1)</a></span></li><li><span><a href=\"#Julia言語によるWald版のオッズ比に関するP値と信頼区間の計算の仕方(2)\" data-toc-modified-id=\"Julia言語によるWald版のオッズ比に関するP値と信頼区間の計算の仕方(2)-2.2.3\"><span class=\"toc-item-num\">2.2.3&nbsp;&nbsp;</span>Julia言語によるWald版のオッズ比に関するP値と信頼区間の計算の仕方(2)</a></span></li><li><span><a href=\"#Julia言語によるWald版のオッズ比に関するP値函数の視覚化\" data-toc-modified-id=\"Julia言語によるWald版のオッズ比に関するP値函数の視覚化-2.2.4\"><span class=\"toc-item-num\">2.2.4&nbsp;&nbsp;</span>Julia言語によるWald版のオッズ比に関するP値函数の視覚化</a></span></li><li><span><a href=\"#R言語でのWald版のオッズ比に関するP値と信頼区間の計算の仕方\" data-toc-modified-id=\"R言語でのWald版のオッズ比に関するP値と信頼区間の計算の仕方-2.2.5\"><span class=\"toc-item-num\">2.2.5&nbsp;&nbsp;</span>R言語でのWald版のオッズ比に関するP値と信頼区間の計算の仕方</a></span></li></ul></li><li><span><a href=\"#確率変数としての対数オッズ比の分散の近似値の導出\" data-toc-modified-id=\"確率変数としての対数オッズ比の分散の近似値の導出-2.3\"><span class=\"toc-item-num\">2.3&nbsp;&nbsp;</span>確率変数としての対数オッズ比の分散の近似値の導出</a></span></li><li><span><a href=\"#問題:-対数リスク比の場合の正規分布近似\" data-toc-modified-id=\"問題:-対数リスク比の場合の正規分布近似-2.4\"><span class=\"toc-item-num\">2.4&nbsp;&nbsp;</span>問題: 対数リスク比の場合の正規分布近似</a></span></li><li><span><a href=\"#問題:-Wald版のリスク比に関するP値と信頼区間の定義\" data-toc-modified-id=\"問題:-Wald版のリスク比に関するP値と信頼区間の定義-2.5\"><span class=\"toc-item-num\">2.5&nbsp;&nbsp;</span>問題: Wald版のリスク比に関するP値と信頼区間の定義</a></span></li><li><span><a href=\"#問題:-Wald版のリスク比に関するP値と信頼区間の計算例\" data-toc-modified-id=\"問題:-Wald版のリスク比に関するP値と信頼区間の計算例-2.6\"><span class=\"toc-item-num\">2.6&nbsp;&nbsp;</span>問題: Wald版のリスク比に関するP値と信頼区間の計算例</a></span><ul class=\"toc-item\"><li><span><a href=\"#Julia言語によるWald版のリスク比に関するP値と信頼区間の計算例\" data-toc-modified-id=\"Julia言語によるWald版のリスク比に関するP値と信頼区間の計算例-2.6.1\"><span class=\"toc-item-num\">2.6.1&nbsp;&nbsp;</span>Julia言語によるWald版のリスク比に関するP値と信頼区間の計算例</a></span></li><li><span><a href=\"#Julia言語によるWald版のリスク比に関するP値函数の視覚化\" data-toc-modified-id=\"Julia言語によるWald版のリスク比に関するP値函数の視覚化-2.6.2\"><span class=\"toc-item-num\">2.6.2&nbsp;&nbsp;</span>Julia言語によるWald版のリスク比に関するP値函数の視覚化</a></span></li><li><span><a href=\"#Wald版のリスク比に関するP値と信頼区間の計算例の問題の解答例\" data-toc-modified-id=\"Wald版のリスク比に関するP値と信頼区間の計算例の問題の解答例-2.6.3\"><span class=\"toc-item-num\">2.6.3&nbsp;&nbsp;</span>Wald版のリスク比に関するP値と信頼区間の計算例の問題の解答例</a></span></li></ul></li><li><span><a href=\"#必修問題:-別の計算例\" data-toc-modified-id=\"必修問題:-別の計算例-2.7\"><span class=\"toc-item-num\">2.7&nbsp;&nbsp;</span>必修問題: 別の計算例</a></span><ul class=\"toc-item\"><li><span><a href=\"#WolframAlphaによる必修問題の解答例\" data-toc-modified-id=\"WolframAlphaによる必修問題の解答例-2.7.1\"><span class=\"toc-item-num\">2.7.1&nbsp;&nbsp;</span>WolframAlphaによる必修問題の解答例</a></span></li><li><span><a href=\"#Julia言語による必修問題の解答例\" data-toc-modified-id=\"Julia言語による必修問題の解答例-2.7.2\"><span class=\"toc-item-num\">2.7.2&nbsp;&nbsp;</span>Julia言語による必修問題の解答例</a></span></li><li><span><a href=\"#必修問題解答例\" data-toc-modified-id=\"必修問題解答例-2.7.3\"><span class=\"toc-item-num\">2.7.3&nbsp;&nbsp;</span>必修問題解答例</a></span></li></ul></li></ul></li><li><span><a href=\"#Pearsonのχ²検定版のオッズ比に関するP値と信頼区間\" data-toc-modified-id=\"Pearsonのχ²検定版のオッズ比に関するP値と信頼区間-3\"><span class=\"toc-item-num\">3&nbsp;&nbsp;</span>Pearsonのχ²検定版のオッズ比に関するP値と信頼区間</a></span><ul class=\"toc-item\"><li><span><a href=\"#Pearsonのχ²検定版のオッズ比に関するP値と信頼区間の定義\" data-toc-modified-id=\"Pearsonのχ²検定版のオッズ比に関するP値と信頼区間の定義-3.1\"><span class=\"toc-item-num\">3.1&nbsp;&nbsp;</span>Pearsonのχ²検定版のオッズ比に関するP値と信頼区間の定義</a></span></li><li><span><a href=\"#Pearsonのχ²検定版のオッズ比に関するP値と信頼区間の計算例\" data-toc-modified-id=\"Pearsonのχ²検定版のオッズ比に関するP値と信頼区間の計算例-3.2\"><span class=\"toc-item-num\">3.2&nbsp;&nbsp;</span>Pearsonのχ²検定版のオッズ比に関するP値と信頼区間の計算例</a></span><ul class=\"toc-item\"><li><span><a href=\"#WolframAlphaによるPearsonのχ²検定のP値の計算の仕方\" data-toc-modified-id=\"WolframAlphaによるPearsonのχ²検定のP値の計算の仕方-3.2.1\"><span class=\"toc-item-num\">3.2.1&nbsp;&nbsp;</span>WolframAlphaによるPearsonのχ²検定のP値の計算の仕方</a></span></li><li><span><a href=\"#Julia言語によるPearsonのχ²検定版のオッズ比に関するP値と信頼区間の計算の仕方(1)\" data-toc-modified-id=\"Julia言語によるPearsonのχ²検定版のオッズ比に関するP値と信頼区間の計算の仕方(1)-3.2.2\"><span class=\"toc-item-num\">3.2.2&nbsp;&nbsp;</span>Julia言語によるPearsonのχ²検定版のオッズ比に関するP値と信頼区間の計算の仕方(1)</a></span></li><li><span><a href=\"#Julia言語によるPearsonのχ²検定版のオッズ比に関するP値と信頼区間の計算の仕方(2)\" data-toc-modified-id=\"Julia言語によるPearsonのχ²検定版のオッズ比に関するP値と信頼区間の計算の仕方(2)-3.2.3\"><span class=\"toc-item-num\">3.2.3&nbsp;&nbsp;</span>Julia言語によるPearsonのχ²検定版のオッズ比に関するP値と信頼区間の計算の仕方(2)</a></span></li><li><span><a href=\"#Julia言語によるPearsonのχ²検定版のオッズ比に関するP値の視覚化\" data-toc-modified-id=\"Julia言語によるPearsonのχ²検定版のオッズ比に関するP値の視覚化-3.2.4\"><span class=\"toc-item-num\">3.2.4&nbsp;&nbsp;</span>Julia言語によるPearsonのχ²検定版のオッズ比に関するP値の視覚化</a></span></li><li><span><a href=\"#R言語によるPearsonのχ²検定のP値の計算の仕方\" data-toc-modified-id=\"R言語によるPearsonのχ²検定のP値の計算の仕方-3.2.5\"><span class=\"toc-item-num\">3.2.5&nbsp;&nbsp;</span>R言語によるPearsonのχ²検定のP値の計算の仕方</a></span></li></ul></li><li><span><a href=\"#「オッズ比パラメータはOR=ωである」という仮説下での最尤法との関係\" data-toc-modified-id=\"「オッズ比パラメータはOR=ωである」という仮説下での最尤法との関係-3.3\"><span class=\"toc-item-num\">3.3&nbsp;&nbsp;</span>「オッズ比パラメータはOR=ωである」という仮説下での最尤法との関係</a></span><ul class=\"toc-item\"><li><span><a href=\"#2つの二項分布モデル全体での最尤法\" data-toc-modified-id=\"2つの二項分布モデル全体での最尤法-3.3.1\"><span class=\"toc-item-num\">3.3.1&nbsp;&nbsp;</span>2つの二項分布モデル全体での最尤法</a></span></li><li><span><a href=\"#条件OR=ωで制限した2つの二項分布モデルでの最尤法\" data-toc-modified-id=\"条件OR=ωで制限した2つの二項分布モデルでの最尤法-3.3.2\"><span class=\"toc-item-num\">3.3.2&nbsp;&nbsp;</span>条件OR=ωで制限した2つの二項分布モデルでの最尤法</a></span></li><li><span><a href=\"#Wilks's-theoremの適用\" data-toc-modified-id=\"Wilks's-theoremの適用-3.3.3\"><span class=\"toc-item-num\">3.3.3&nbsp;&nbsp;</span>Wilks's theoremの適用</a></span></li></ul></li><li><span><a href=\"#問題:-「リスク比パラメータはRR=ρである」という仮説下での最尤法\" data-toc-modified-id=\"問題:-「リスク比パラメータはRR=ρである」という仮説下での最尤法-3.4\"><span class=\"toc-item-num\">3.4&nbsp;&nbsp;</span>問題: 「リスク比パラメータはRR=ρである」という仮説下での最尤法</a></span></li><li><span><a href=\"#問題:-Pearsonのχ²検定版のリスク比に関するP値と信頼区間の定義\" data-toc-modified-id=\"問題:-Pearsonのχ²検定版のリスク比に関するP値と信頼区間の定義-3.5\"><span class=\"toc-item-num\">3.5&nbsp;&nbsp;</span>問題: Pearsonのχ²検定版のリスク比に関するP値と信頼区間の定義</a></span></li><li><span><a href=\"#問題:-Pearsonのχ²検定版のリスク比に関するP値と信頼区間の計算例\" data-toc-modified-id=\"問題:-Pearsonのχ²検定版のリスク比に関するP値と信頼区間の計算例-3.6\"><span class=\"toc-item-num\">3.6&nbsp;&nbsp;</span>問題: Pearsonのχ²検定版のリスク比に関するP値と信頼区間の計算例</a></span><ul class=\"toc-item\"><li><span><a href=\"#Julia言語によるPearsonのχ²検定版のリスク比に関するP値と信頼区間の計算例\" data-toc-modified-id=\"Julia言語によるPearsonのχ²検定版のリスク比に関するP値と信頼区間の計算例-3.6.1\"><span class=\"toc-item-num\">3.6.1&nbsp;&nbsp;</span>Julia言語によるPearsonのχ²検定版のリスク比に関するP値と信頼区間の計算例</a></span></li><li><span><a href=\"#Julia言語によるPearsonのχ²検定版のリスク比に関するP値函数の視覚化\" data-toc-modified-id=\"Julia言語によるPearsonのχ²検定版のリスク比に関するP値函数の視覚化-3.6.2\"><span class=\"toc-item-num\">3.6.2&nbsp;&nbsp;</span>Julia言語によるPearsonのχ²検定版のリスク比に関するP値函数の視覚化</a></span></li><li><span><a href=\"#Pearsonのχ²検定版のリスク比に関するP値と信頼区間の計算の解答例\" data-toc-modified-id=\"Pearsonのχ²検定版のリスク比に関するP値と信頼区間の計算の解答例-3.6.3\"><span class=\"toc-item-num\">3.6.3&nbsp;&nbsp;</span>Pearsonのχ²検定版のリスク比に関するP値と信頼区間の計算の解答例</a></span></li></ul></li><li><span><a href=\"#ニューサンスパラメータの問題に関する注意\" data-toc-modified-id=\"ニューサンスパラメータの問題に関する注意-3.7\"><span class=\"toc-item-num\">3.7&nbsp;&nbsp;</span>ニューサンスパラメータの問題に関する注意</a></span></li></ul></li><li><span><a href=\"#Fisher検定版のオッズ比に関するP値と信頼区間\" data-toc-modified-id=\"Fisher検定版のオッズ比に関するP値と信頼区間-4\"><span class=\"toc-item-num\">4&nbsp;&nbsp;</span>Fisher検定版のオッズ比に関するP値と信頼区間</a></span><ul class=\"toc-item\"><li><span><a href=\"#条件付き確率分布を利用するアイデア\" data-toc-modified-id=\"条件付き確率分布を利用するアイデア-4.1\"><span class=\"toc-item-num\">4.1&nbsp;&nbsp;</span>条件付き確率分布を利用するアイデア</a></span></li><li><span><a href=\"#Sterne型のFisher検定のP値とそれに付随する信頼区間の定義\" data-toc-modified-id=\"Sterne型のFisher検定のP値とそれに付随する信頼区間の定義-4.2\"><span class=\"toc-item-num\">4.2&nbsp;&nbsp;</span>Sterne型のFisher検定のP値とそれに付随する信頼区間の定義</a></span></li><li><span><a href=\"#Clopper-Pearson型のFisher検定のP値とそれに付随する信頼区間\" data-toc-modified-id=\"Clopper-Pearson型のFisher検定のP値とそれに付随する信頼区間-4.3\"><span class=\"toc-item-num\">4.3&nbsp;&nbsp;</span>Clopper-Pearson型のFisher検定のP値とそれに付随する信頼区間</a></span></li><li><span><a href=\"#問題:-Fisher検定版のオッズ比に関するP値と信頼区間の計算例\" data-toc-modified-id=\"問題:-Fisher検定版のオッズ比に関するP値と信頼区間の計算例-4.4\"><span class=\"toc-item-num\">4.4&nbsp;&nbsp;</span>問題: Fisher検定版のオッズ比に関するP値と信頼区間の計算例</a></span><ul class=\"toc-item\"><li><span><a href=\"#Julia言語によるFisher検定版のオッズ比に関するP値と信頼区間の計算例\" data-toc-modified-id=\"Julia言語によるFisher検定版のオッズ比に関するP値と信頼区間の計算例-4.4.1\"><span class=\"toc-item-num\">4.4.1&nbsp;&nbsp;</span>Julia言語によるFisher検定版のオッズ比に関するP値と信頼区間の計算例</a></span></li><li><span><a href=\"#Julia言語によるFisher²検定のオッズ比に関するP値函数の視覚化\" data-toc-modified-id=\"Julia言語によるFisher²検定のオッズ比に関するP値函数の視覚化-4.4.2\"><span class=\"toc-item-num\">4.4.2&nbsp;&nbsp;</span>Julia言語によるFisher²検定のオッズ比に関するP値函数の視覚化</a></span></li><li><span><a href=\"#R言語によるFisher検定版のP値と信頼区間の計算の仕方\" data-toc-modified-id=\"R言語によるFisher検定版のP値と信頼区間の計算の仕方-4.4.3\"><span class=\"toc-item-num\">4.4.3&nbsp;&nbsp;</span>R言語によるFisher検定版のP値と信頼区間の計算の仕方</a></span></li><li><span><a href=\"#Fisher検定版のオッズ比に関するP値と信頼区間の計算の解答例\" data-toc-modified-id=\"Fisher検定版のオッズ比に関するP値と信頼区間の計算の解答例-4.4.4\"><span class=\"toc-item-num\">4.4.4&nbsp;&nbsp;</span>Fisher検定版のオッズ比に関するP値と信頼区間の計算の解答例</a></span></li></ul></li></ul></li><li><span><a href=\"#おまけ:-Bayes信用区間\" data-toc-modified-id=\"おまけ:-Bayes信用区間-5\"><span class=\"toc-item-num\">5&nbsp;&nbsp;</span>おまけ: Bayes信用区間</a></span><ul class=\"toc-item\"><li><span><a href=\"#オッズ比パラメータとリスク比パラメータのBayes信用区間\" data-toc-modified-id=\"オッズ比パラメータとリスク比パラメータのBayes信用区間-5.1\"><span class=\"toc-item-num\">5.1&nbsp;&nbsp;</span>オッズ比パラメータとリスク比パラメータのBayes信用区間</a></span></li><li><span><a href=\"#Bayes信用区間の計算例\" data-toc-modified-id=\"Bayes信用区間の計算例-5.2\"><span class=\"toc-item-num\">5.2&nbsp;&nbsp;</span>Bayes信用区間の計算例</a></span></li><li><span><a href=\"#Bayes信用区間に付随するP値函数\" data-toc-modified-id=\"Bayes信用区間に付随するP値函数-5.3\"><span class=\"toc-item-num\">5.3&nbsp;&nbsp;</span>Bayes信用区間に付随するP値函数</a></span></li><li><span><a href=\"#Bayes版P値函数の視覚化\" data-toc-modified-id=\"Bayes版P値函数の視覚化-5.4\"><span class=\"toc-item-num\">5.4&nbsp;&nbsp;</span>Bayes版P値函数の視覚化</a></span></li><li><span><a href=\"#問題:-別の例\" data-toc-modified-id=\"問題:-別の例-5.5\"><span class=\"toc-item-num\">5.5&nbsp;&nbsp;</span>問題: 別の例</a></span></li></ul></li></ul></div>"
   ]
  },
  {
   "cell_type": "code",
   "execution_count": 1,
   "id": "5d852e7b",
   "metadata": {},
   "outputs": [],
   "source": [
    "ENV[\"LINES\"], ENV[\"COLUMNS\"] = 100, 100\n",
    "using Base.Threads\n",
    "using BenchmarkTools\n",
    "using DataFrames\n",
    "using Distributions\n",
    "using LinearAlgebra\n",
    "using Memoization\n",
    "using Printf\n",
    "using QuadGK\n",
    "using RCall\n",
    "using Random\n",
    "Random.seed!(4649373)\n",
    "using Roots\n",
    "using SpecialFunctions\n",
    "using StaticArrays\n",
    "using StatsBase\n",
    "using StatsFuns\n",
    "using StatsPlots\n",
    "default(fmt = :png, size = (400, 250),\n",
    "    titlefontsize = 10, plot_titlefontsize = 12)\n",
    "using SymPy"
   ]
  },
  {
   "cell_type": "code",
   "execution_count": 2,
   "id": "9f39eaa0",
   "metadata": {},
   "outputs": [],
   "source": [
    "# Override the Base.show definition of SymPy.jl:\n",
    "# https://github.com/JuliaPy/SymPy.jl/blob/29c5bfd1d10ac53014fa7fef468bc8deccadc2fc/src/types.jl#L87-L105\n",
    "\n",
    "@eval SymPy function Base.show(io::IO, ::MIME\"text/latex\", x::SymbolicObject)\n",
    "    print(io, as_markdown(\"\\\\displaystyle \" *\n",
    "            sympy.latex(x, mode=\"plain\", fold_short_frac=false)))\n",
    "end\n",
    "@eval SymPy function Base.show(io::IO, ::MIME\"text/latex\", x::AbstractArray{Sym})\n",
    "    function toeqnarray(x::Vector{Sym})\n",
    "        a = join([\"\\\\displaystyle \" *\n",
    "                sympy.latex(x[i]) for i in 1:length(x)], \"\\\\\\\\\")\n",
    "        \"\"\"\\\\left[ \\\\begin{array}{r}$a\\\\end{array} \\\\right]\"\"\"\n",
    "    end\n",
    "    function toeqnarray(x::AbstractArray{Sym,2})\n",
    "        sz = size(x)\n",
    "        a = join([join(\"\\\\displaystyle \" .* map(sympy.latex, x[i,:]), \"&\")\n",
    "                for i in 1:sz[1]], \"\\\\\\\\\")\n",
    "        \"\\\\left[ \\\\begin{array}{\" * repeat(\"r\",sz[2]) * \"}\" * a * \"\\\\end{array}\\\\right]\"\n",
    "    end\n",
    "    print(io, as_markdown(toeqnarray(x)))\n",
    "end"
   ]
  },
  {
   "cell_type": "code",
   "execution_count": 3,
   "id": "21a52f4d",
   "metadata": {},
   "outputs": [
    {
     "data": {
      "text/plain": [
       "mykurtosis (generic function with 2 methods)"
      ]
     },
     "execution_count": 3,
     "metadata": {},
     "output_type": "execute_result"
    }
   ],
   "source": [
    "safemul(x, y) = x == 0 ? x : x*y\n",
    "safediv(x, y) = x == 0 ? x : x/y\n",
    "\n",
    "x ⪅ y = x < y || x ≈ y\n",
    "\n",
    "mypdf(dist, x) = pdf(dist, x)\n",
    "mypdf(dist::DiscreteUnivariateDistribution, x) = pdf(dist, round(Int, x))\n",
    "\n",
    "distname(dist::Distribution) = replace(string(dist), r\"{.*}\" => \"\")\n",
    "myskewness(dist) = skewness(dist)\n",
    "mykurtosis(dist) = kurtosis(dist)\n",
    "function standardized_moment(dist::ContinuousUnivariateDistribution, m)\n",
    "    μ, σ = mean(dist), std(dist)\n",
    "    quadgk(x -> (x - μ)^m * pdf(dist, x), extrema(dist)...)[1] / σ^m\n",
    "end\n",
    "myskewness(dist::MixtureModel{Univariate, Continuous}) =\n",
    "    standardized_moment(dist, 3)\n",
    "mykurtosis(dist::MixtureModel{Univariate, Continuous}) =\n",
    "    standardized_moment(dist, 4) - 3"
   ]
  },
  {
   "cell_type": "code",
   "execution_count": 4,
   "id": "91c2e23b",
   "metadata": {},
   "outputs": [
    {
     "data": {
      "text/plain": [
       "confint_or_wald (generic function with 1 method)"
      ]
     },
     "execution_count": 4,
     "metadata": {},
     "output_type": "execute_result"
    }
   ],
   "source": [
    "oddsratiohat(a, b, c, d) = safediv(a*d, b*c)\n",
    "stderr_logoddsratiohat(a, b, c, d) = √(1/a + 1/b + 1/c + 1/d)\n",
    "\n",
    "function pvalue_or_wald(a, b, c, d; ω=1)\n",
    "    logORhat = log(oddsratiohat(a, b, c, d))\n",
    "    SElogORhat = stderr_logoddsratiohat(a, b, c, d)\n",
    "    2ccdf(Normal(0, 1), abs(logORhat - log(ω))/SElogORhat)\n",
    "end\n",
    "\n",
    "function confint_or_wald(a, b, c, d; α=0.05)\n",
    "    z = quantile(Normal(), 1-α/2)\n",
    "    ORhat = oddsratiohat(a, b, c, d)\n",
    "    SElogORhat = stderr_logoddsratiohat(a, b, c, d)\n",
    "    [exp(-z*SElogORhat)*ORhat, exp(z*SElogORhat)*ORhat]\n",
    "end"
   ]
  },
  {
   "cell_type": "code",
   "execution_count": 5,
   "id": "1ebd9d8c",
   "metadata": {},
   "outputs": [
    {
     "data": {
      "text/plain": [
       "confint_rr_wald (generic function with 1 method)"
      ]
     },
     "execution_count": 5,
     "metadata": {},
     "output_type": "execute_result"
    }
   ],
   "source": [
    "riskratiohat(a, b, c, d) = safediv(a*(c+d), (a+b)*c)\n",
    "stderr_logriskratiohat(a, b, c, d) = √(1/a - 1/(a+b) + 1/c - 1/(c+d))\n",
    "\n",
    "function pvalue_rr_wald(a, b, c, d; ρ=1)\n",
    "    logRRhat = log(riskratiohat(a, b, c, d))\n",
    "    SElogRRhat = stderr_logriskratiohat(a, b, c, d)\n",
    "    2ccdf(Normal(0, 1), abs(logRRhat - log(ρ))/SElogRRhat)\n",
    "end\n",
    "\n",
    "function confint_rr_wald(a, b, c, d; α=0.05)\n",
    "    z = quantile(Normal(), 1-α/2)\n",
    "    RRhat = riskratiohat(a, b, c, d)\n",
    "    SElogRRhat = stderr_logriskratiohat(a, b, c, d)\n",
    "    [exp(-z*SElogRRhat)*RRhat, exp(z*SElogRRhat)*RRhat]\n",
    "end"
   ]
  },
  {
   "cell_type": "code",
   "execution_count": 6,
   "id": "57efe860",
   "metadata": {},
   "outputs": [
    {
     "data": {
      "text/plain": [
       "confint_or_pearson (generic function with 1 method)"
      ]
     },
     "execution_count": 6,
     "metadata": {},
     "output_type": "execute_result"
    }
   ],
   "source": [
    "function delta(a, b, c, d; ω=1)\n",
    "    A, B, C = 1-ω, a+d+ω*(b+c), a*d-ω*b*c\n",
    "    isinf(ω) ? typeof(ω)(-min(b, c)) : safediv(2C, B + √(B^2 - 4A*C))\n",
    "end\n",
    "\n",
    "# correction = 0.5 は連続性補正を与える.\n",
    "function _chisqstat_or(a, b, c, d, δ; correction=0.0)\n",
    "    ã, b̃, c̃, d̃ = a-δ, b+δ, c+δ, d-δ\n",
    "    safemul(max(0, abs(δ)-correction)^2, 1/ã + 1/b̃ + 1/c̃ + 1/d̃)\n",
    "end\n",
    "\n",
    "function chisqstat_or(a, b, c, d; ω=1, correction=0.0)\n",
    "    δ = delta(a, b, c, d; ω)\n",
    "    _chisqstat_or(a, b, c, d, δ; correction)\n",
    "end\n",
    "\n",
    "function pvalue_or_pearson(a, b, c, d; ω=1, correction=0.0)\n",
    "    χ² = chisqstat_or(a, b, c, d; ω, correction)\n",
    "    ccdf(Chisq(1), χ²)\n",
    "end\n",
    "\n",
    "function confint_or_pearson(a, b, c, d; α=0.05, correction=0.0)\n",
    "    ω_L, ω_U = confint_or_wald(a, b, c, d; α)\n",
    "    f(ω) = logit(pvalue_or_pearson(a, b, c, d; ω, correction)) - logit(α)\n",
    "    [find_zero(f, ω_L), find_zero(f, ω_U)]\n",
    "end"
   ]
  },
  {
   "cell_type": "code",
   "execution_count": 7,
   "id": "6ca586d5",
   "metadata": {},
   "outputs": [
    {
     "name": "stdout",
     "output_type": "stream",
     "text": [
      "confint_or_wald(a, b, c, d) = [0.037829803607039435, 0.5592686923030045]\n",
      "confint_or_pearson(a, b, c, d) = [0.04084291410483445, 0.5253472140108638]\n",
      "confint_or_pearson(a, b, c, d; correction = 0.5) = [0.02962955731952912, 0.6228119542455193]\n"
     ]
    }
   ],
   "source": [
    "# Cornfeild (1956), p.139, (4.2) と比較せよ.\n",
    "a, b, c, d = 3, 11, 60, 32\n",
    "@show confint_or_wald(a, b, c, d)\n",
    "@show confint_or_pearson(a, b, c, d)\n",
    "@show confint_or_pearson(a, b, c, d; correction=0.5);"
   ]
  },
  {
   "cell_type": "code",
   "execution_count": 8,
   "id": "200cb67b",
   "metadata": {},
   "outputs": [
    {
     "data": {
      "text/plain": [
       "confint_rr_pearson (generic function with 1 method)"
      ]
     },
     "execution_count": 8,
     "metadata": {},
     "output_type": "execute_result"
    }
   ],
   "source": [
    "function Delta(a, b, c, d; ρ=1)\n",
    "    m, n = a+b, c+d\n",
    "    A, B, C = ρ-1, n-a+ρ*(m-c), a*n-ρ*m*c\n",
    "    isinf(ρ) ? typeof(ω)(-c) : safediv(2C, B + √(B^2 - 4A*C))\n",
    "end\n",
    "\n",
    "function _chisqstat_rr(a, b, c, d, Δ)\n",
    "    m, n = a+b, c+d\n",
    "    safemul(Δ^2, safediv(b, m*(a-Δ)) + safediv(d, n*(c+Δ)))\n",
    "end\n",
    "\n",
    "function chisqstat_rr(a, b, c, d; ρ=1)\n",
    "    Δ = Delta(a, b, c, d; ρ)\n",
    "    _chisqstat_rr(a, b, c, d, Δ)\n",
    "end\n",
    "\n",
    "function pvalue_rr_pearson(a, b, c, d; ρ=1)\n",
    "    χ² = chisqstat_rr(a, b, c, d; ρ)\n",
    "    ccdf(Chisq(1), χ²)\n",
    "end\n",
    "\n",
    "function confint_rr_pearson(a, b, c, d; α=0.05)\n",
    "    ρ_L, ρ_U = confint_rr_wald(a, b, c, d; α)\n",
    "    f(ρ) = logit(pvalue_rr_pearson(a, b, c, d; ρ)) - logit(α)\n",
    "    [find_zero(f, ρ_L), find_zero(f, ρ_U)]\n",
    "end"
   ]
  },
  {
   "cell_type": "code",
   "execution_count": 9,
   "id": "a12b2821",
   "metadata": {},
   "outputs": [
    {
     "data": {
      "text/plain": [
       "confint_or_sterne (generic function with 1 method)"
      ]
     },
     "execution_count": 9,
     "metadata": {},
     "output_type": "execute_result"
    }
   ],
   "source": [
    "_pdf_le(x, (dist, y)) =  pdf(dist, x) ⪅ y\n",
    "\n",
    "function _search_boundary(f, x0, Δx, param)\n",
    "    x = x0\n",
    "    if f(x, param)\n",
    "        while f(x - Δx, param) x -= Δx end\n",
    "    else\n",
    "        x += Δx\n",
    "        while !f(x, param) x += Δx end\n",
    "    end\n",
    "    x\n",
    "end\n",
    "\n",
    "function pvalue_sterne(dist::DiscreteUnivariateDistribution, x)\n",
    "    Px = pdf(dist, x)\n",
    "    Px == 0 && return Px\n",
    "    Px == 1 && return Px\n",
    "    m = mode(dist)\n",
    "    Px ≈ pdf(dist, m) && return one(Px)\n",
    "    if x < m\n",
    "        y = _search_boundary(_pdf_le, 2m - x, 1, (dist, Px))\n",
    "        cdf(dist, x) + ccdf(dist, y-1)\n",
    "    else # x > m\n",
    "        y = _search_boundary(_pdf_le, 2m - x, -1, (dist, Px))\n",
    "        cdf(dist, y) + ccdf(dist, x-1)\n",
    "    end\n",
    "end\n",
    "\n",
    "function pvalue_or_sterne(a, b, c, d; ω=1)\n",
    "    pvalue_sterne(FisherNoncentralHypergeometric(a+b, c+d, a+c, ω), a)\n",
    "end\n",
    "\n",
    "function confint_or_sterne(a, b, c, d; α = 0.05)\n",
    "    ω_L, ω_U = confint_or_wald(a, b, c, d; α = α/10)\n",
    "    ps = find_zeros(ω_L, ω_U) do ω\n",
    "        logit(pvalue_or_sterne(a, b, c, d; ω)) - logit(α)\n",
    "    end\n",
    "    # 次の行は稀に区間にならない場合への対策\n",
    "    [first(ps), last(ps)]\n",
    "end"
   ]
  },
  {
   "cell_type": "code",
   "execution_count": 10,
   "id": "c4003e16",
   "metadata": {},
   "outputs": [
    {
     "data": {
      "text/plain": [
       "confint_or_clopper_pearson (generic function with 1 method)"
      ]
     },
     "execution_count": 10,
     "metadata": {},
     "output_type": "execute_result"
    }
   ],
   "source": [
    "function pvalue_or_clopper_pearson(a, b, c, d; ω=1)\n",
    "    fnch = FisherNoncentralHypergeometric(a+b, c+d, a+c, ω)\n",
    "    min(1, 2cdf(fnch, a), 2ccdf(fnch, a-1))\n",
    "end\n",
    "\n",
    "function confint_or_clopper_pearson(a, b, c, d; α = 0.05)\n",
    "    ω_L, ω_U = confint_or_wald(a, b, c, d; α = α/10)\n",
    "    find_zeros(ω_L, ω_U) do ω\n",
    "        logit(pvalue_or_clopper_pearson(a, b, c, d; ω)) - logit(α)\n",
    "    end\n",
    "end"
   ]
  },
  {
   "cell_type": "markdown",
   "id": "a49f5bb9",
   "metadata": {},
   "source": [
    "## 比率の比較に関するP値と信頼区間"
   ]
  },
  {
   "cell_type": "markdown",
   "id": "6be58c53",
   "metadata": {},
   "source": [
    "### 比率の比較に関するP値と信頼区間を使って行いたいこと\n",
    "\n",
    "(1) ウェブページのデザインAとBではどちらの側がどれだけ商品が売れ易いかを知りたい. \n",
    "\n",
    "(2) 薬Xを処方した側ではしなかった側よりも快復者の割合がどれだけ増えるかを知りたい.\n",
    "\n",
    "例えば, (1)の場合に次のようなデータが得られたとする:\n",
    "\n",
    "$$\n",
    "\\begin{array}{c|c|c|c}\n",
    "& \\text{商品を購入した} & \\text{購入しなかった} & \\text{合計} \\\\\n",
    "\\hline\n",
    "\\text{デザインA} & 49   &  965 & 1014 \\\\\n",
    "\\hline\n",
    "\\text{デザインB} & 26   &  854 &  880 \\\\\n",
    "\\hline\n",
    "\\text{合計}      & 75   & 1819 & 1894 \\\\ \n",
    "\\end{array}\n",
    "$$\n",
    "\n",
    "このデータの数値は, デザインAの側にアクセスした1014人中の49人が商品を購入し, デザインBの側にアクセスした880人中の26人が商品を購入したことを表している.\n",
    "\n",
    "このデータの数値からの印象では, デザインAの方がデザインBの方が商品の購入確率が高いように見える. 実際, デザインAでの購入者割合は $49/1014 \\approx 4.8\\%$ 程度で, デザインBでの購入者割合の $26/880 \\approx 3.0\\%$ より大きい.\n",
    "\n",
    "しかし, データの確率的揺らぎのせいで偶然に, デザインAの側がよく売れるように見えるデータの数値が得られただけなのかもしれない.  (実際には他にも様々な原因で偏ったデータが得られる場合がある.)\n",
    "\n",
    "もしもそうならば, 上のデータに基くウェブページのデザイン採用に関する意思決定は無駄に終わることになってしまう.  だから, そのようなリスクの程度を見積もる必要がある.  そのための道具がP値や信頼区間である.  \n",
    "\n",
    "このようなデータに適当な統計モデルを適用して, デザインAとデザインBでの購入確率の違いを信頼区間で表したい.\n",
    "\n",
    "そのためには以下のようにすればよい:\n",
    "\n",
    "1. 統計モデルの設定.\n",
    "2. 購入確率の違いを表す指標を導入.\n",
    "3. その指標の値が〇〇であるという仮説のP値を定義する.\n",
    "4. そのP値を使って信頼区間を定義する.\n",
    "5. 以上によって得られたP値函数や信頼区間を利用する."
   ]
  },
  {
   "cell_type": "markdown",
   "id": "12db5b6f",
   "metadata": {},
   "source": [
    "### 2×2の分割表型データとその2つの二項分布モデル\n",
    "\n",
    "このノートでは次の形の $2\\times2$ の分割表型のデータを扱う:\n",
    "\n",
    "$$\n",
    "\\begin{array}{c|c|c|c}\n",
    "& Y = 1 & Y = 0 & \\\\\n",
    "\\hline\n",
    "X = 1 & a & b & m = a+b \\\\\n",
    "\\hline\n",
    "X = 0 & c & d & n = c+d \\\\\n",
    "\\hline\n",
    "      & r = a+c & d = b+d & N=a+b+c+d \\\\ \n",
    "\\end{array}\n",
    "$$\n",
    "\n",
    "ここで $a,b,c,d$ は $0$ 以上の整数である.\n",
    "\n",
    "このノートでは2×2の分割表型データに関する以下のような設定の統計モデルを扱う. \n",
    "\n",
    "(1) 横方向の合計 $m=a+b$, $n=c+d$ (ゆえに全体の合計 $N=m+n$) は固定されていると仮定する.\n",
    "\n",
    "(2) $a$ は成功確率パラメータ $p$ の二項分布に従っており, $c$ は成功確率パラメータ $q$ の二項分布に従っているとし, $a$, $c$ は独立であると仮定する.  $p$, $q$ を比率と呼ぶこともある.\n",
    "\n",
    "このとき, $a,b,c,d$ の同時確率質量函数は次のように表される:\n",
    "\n",
    "$$\n",
    "\\begin{aligned}\n",
    "&\n",
    "P(a,b,c,d|m,n,p,q) =\n",
    "\\binom{m}{a}p^a(1-p)^b \\binom{n}{c}q^c(1-q)^d\n",
    "\\\\ &\n",
    "\\qquad\\qquad\n",
    "(a,b,c,d\\in\\Z_{\\ge 0},\\; a+b=m,\\; c+d=n).\n",
    "\\end{aligned}\n",
    "$$\n",
    "\n",
    "これを __2つの二項分布モデル__ と呼ぶ.\n",
    "\n",
    "(3) このモデルは上の分割表において, 以下が成立しているという設定になっている:\n",
    "\n",
    "* $X=1$ のときには $Y=1$ となる確率は $p$ である.\n",
    "* $X=0$ のときには $Y=1$ となる確率は $q$ である.\n",
    "\n",
    "そして, $X=1$ となる人達を $m$ 人選び, $X=0$ となる人を $n$ 人選んで $Y$ がどうなるかを調べた.\n",
    "\n",
    "$X$, $Y$ として以下のような場合を想定している:\n",
    "\n",
    "* $X=1,0$ はウェブページのデザインがA,Bのどちらであるかを意味し, $Y=1,0$ は商品を購入したかしないかを意味する.\n",
    "* $X=1,0$ は薬Xを処方したか否かを意味し, $Y=1,0$ は快復したか否かを意味する.\n",
    "\n",
    "__注意:__ このモデルの採用が妥当であるかどうかはデータの数値とは別の情報を使って判断しなければいけない.  例えば, 比較したい母集団とは異なる偏った母集団からの無作為抽出になってしまっている疑いが強い場合には, モデルを変更するか, データの取得の仕方を変更するか, どちらかの処置が必要になる.\n",
    "\n",
    "__注意:__ 分割表の縦方向と横方向の役割を逆転させた場合も数学的には同様である.  ただし, データの分析結果の解釈では立場を交換したことによって違いが出るので注意すること.\n",
    "\n",
    "__注意:__ 以上で説明した2つの二項分布モデル以外に, 多項分布(四項分布)モデルや4つのPoisson分布モデルも考えられるが, 以下では省略する.  実は統計モデルをそのように変更しても以下で説明するP値や信頼区間の計算の仕方はどれも同じになることが知られている.  2×2の分割表に関する統計モデルについては, [「条件付き確率分布, 尤度, 推定, 記述統計」のノート](https://nbviewer.org/github/genkuroki/Statistics/blob/master/2022/06%20Conditional%20distribution%2C%20likelihood%2C%20estimation%2C%20and%20summary.ipynb)の「2×2の分割表の分布」の節を参照せよ."
   ]
  },
  {
   "cell_type": "markdown",
   "id": "5f259706",
   "metadata": {},
   "source": [
    "### 比率の違いを表す2つの指標: オッズ比パラメータ OR とリスク比パラメータ RR\n",
    "\n",
    "比率 $0<p<1$ に関する\n",
    "\n",
    "$$\n",
    "u = \\frac{p}{1 - p}\n",
    "$$\n",
    "\n",
    "を __オッズ__(odds)と呼び, 2つの比率 $0<p<1$, $0<q<1$ に関する\n",
    "\n",
    "$$\n",
    "\\OR = \\frac{p/(1-p)}{q/(1-q)} = \\frac{p(1-q)}{(1-p)q}\n",
    "$$\n",
    "\n",
    "を __オッズ比__(odds ratio, OR)と呼び, これの対数 $\\beta$ を __対数オッズ比__ (log odds ratio)と呼ぶ:\n",
    "\n",
    "$$\n",
    "\\log \\OR = \\log \\frac{p(1-q)}{(1-p)q} =\n",
    "\\log\\frac{p}{1-p} - \\log\\frac{q}{1-q}.\n",
    "$$\n",
    "\n",
    "さらにこのノートでは, 2つの比率 $0<p<1$, $0<q<1$ に関する\n",
    "\n",
    "$$\n",
    "\\RR = \\frac{p}{q}\n",
    "$$\n",
    "\n",
    "を __リスク比__(risk ratio, RR)と呼び, これの対数 $\\gamma$ を __対数リスク比__ (log risk ratio)と呼ぶ:\n",
    "\n",
    "$$\n",
    "\\log\\RR = \\log\\frac{p}{q} = \\log p - \\log q.\n",
    "$$\n",
    "\n",
    "もしも, $p,q$ の両方が $0$ に近ければ, $1-p\\approx 1$, $1-q\\approx 1$ という近似を使えるので, リスク比はオッズ比で近似される:\n",
    "\n",
    "$$\n",
    "1-p\\approx 1,\\ 1-q\\approx 1\n",
    "\\implies\n",
    "\\RR \\approx \\OR.\n",
    "$$\n",
    "\n",
    "比率 $p$ と $q$ が等しいという条件はオッズ比やリスク比を使って以下のように言い換えられる:\n",
    "\n",
    "$$\n",
    "p = q \\iff \\OR = 1 \\iff \\RR = 1.\n",
    "$$\n",
    "\n",
    "だから, $p$ と $q$ が等しいという仮説は $\\OR=1$ や $\\RR=1$ のように表現できる. (もちろん, それらの対数版である $\\log\\OR = 0$ や $\\log\\RR = 0$ を採用してもよい.)\n",
    "\n",
    "そして, オッズ比 $\\OR$ とリスク比 $\\RR$ が $1$ からどれだけどのように離れているかは, 2つの比率 $p$, $q$ の違いを表す指標として使える.  (もちろん, それらの対数版である $\\log\\OR$ や $\\log\\RR$ が $0$ からどれだけどのように 離れているかを指標として採用してもよい.)\n",
    "\n",
    "__注意:__ 他にも __比率の差__ $p - q$ も重要な指標だが, このノートでは面倒だという理由で扱わないことにする.\n",
    "\n",
    "__注意:__ オッズは賭け事ではよく使われる用語である. 例えばある勝負で $A$ が勝つことに賭けるときに\n",
    "\n",
    "$$\n",
    "\\text{勝つ確率} : \\text{負ける確率} = 1 : 4\n",
    "$$\n",
    "\n",
    "だと思っているなら, あなたはオッズは「$1$ 対 $4$」だと思っていることになる.\n",
    "\n",
    "__注意:__ 例えば確率 $p$, $q$ が「死亡確率」ならば「リスク」という呼び方は適切になる.  ここではそうでない場合も $p$, $q$ を「リスク」と呼んでしまい, $p/q$ を「リスク比」と呼ぶことにする.  具体的な応用先で, この呼び方に違和感を感じる場合には適宜別の呼び方をするようにして欲しい.\n",
    "\n",
    "__注意:__ このノートでは主にオッズ比を比率の違いを表す指標として利用する.  その理由は. 応用上の理由ではなく, 単に数学的に扱いやすいからである. そして, 以下の注意で説明するように, オッズ比を考えることは, その対数を考えることによって, ロジスティック回帰の話とも関係付けることができる.\n",
    "\n",
    "__注意:__ オッズ $u=p/(1-p)$ の対数を $x$ と書き, __対数オッズ__(log odds)と呼ぶ. このとき, 以下の公式によって $0<p<1$, $0<u<\\infty$, $-\\infty<x<\\infty$ が一対一に対応する:\n",
    "\n",
    "$$\n",
    "\\begin{aligned}\n",
    "&\n",
    "p = \\frac{u}{1+u} = \\frac{1}{1+e^{-x}} = \\logistic(x),\n",
    "\\\\ &\n",
    "u = \\frac{p}{1-p} = \\exp(x), \n",
    "\\\\ &\n",
    "x = \\log(u) = \\log \\frac{p}{1-p} = \\logit(p).\n",
    "\\end{aligned}\n",
    "$$\n",
    "\n",
    "$x$ を $p$ に対応させる函数は __ロジスティック函数__ と呼ばれ, その逆函数は __ロジット函数__ と呼ばれる. \n",
    "\n",
    "__注意:__ 対数オッズ比を $\\beta = \\log\\OR$ と書き, さらに $q$ の対数を $\\alpha=\\log q$ と書くと, $p$, $q$ の対数オッズはそれぞれ次のように表される:\n",
    "\n",
    "$$\n",
    "\\logit(p) = \\log\\frac{p}{1-p} = \\alpha + \\beta, \\quad\n",
    "\\logit(q) = \\log\\frac{q}{1-p} = \\alpha.\n",
    "$$\n",
    "\n",
    "これらは次と同値である:\n",
    "\n",
    "$$\n",
    "p = \\logistic(\\alpha + \\beta), \\quad\n",
    "q = \\logistic(\\alpha).\n",
    "$$\n",
    "\n",
    "モデルの2つの比率パラメータ $p$, $q$ をこのように表して, データの数値から $\\alpha, \\beta$ の値を推定することを __ロジスティック回帰__ (logisti regression)と呼ぶ.  (実際にはもっと一般の場合もロジスティック回帰と呼ぶ.)\n",
    "\n",
    "__注意:__ 対数リスク比を $\\beta = \\log\\RR = \\log p - \\log q$ と書き, $q$ の対数を $\\alpha=\\log q$ と書くと, $p$, $q$ の対数はそれぞれ次のように表される:\n",
    "\n",
    "$$\n",
    "\\log p = \\alpha + \\beta, \\quad\n",
    "\\log q = \\alpha.\n",
    "$$\n",
    "\n",
    "これは次と同値である:\n",
    "\n",
    "$$\n",
    "p = \\exp(\\alpha + \\beta), \\quad\n",
    "q = \\exp(\\alpha).\n",
    "$$\n",
    "\n",
    "これと上の違いは $\\logistic$ と $\\exp$ の違いになっている."
   ]
  },
  {
   "cell_type": "markdown",
   "id": "aacdebf9",
   "metadata": {},
   "source": [
    "## Wald版のオッズ比に関するP値と信頼区間"
   ]
  },
  {
   "cell_type": "markdown",
   "id": "9a789090",
   "metadata": {},
   "source": [
    "### Wald版のオッズ比に関するP値と信頼区間の定義\n",
    "\n",
    "__検定したい仮説:__ 検定したい仮説は\n",
    "\n",
    "$$\n",
    "\\text{オッズ比パラメータは $\\OR = \\omega$ である.}\n",
    "$$\n",
    "\n",
    "であるとする.  ここで $\\omega > 0$ は具体的な正の実数である.\n",
    "\n",
    "__正規分布近似:__ 仮に $a,b,c,d$ が2つの二項分布モデルに従う確率変数ならば, それらの __オッズ比__\n",
    "\n",
    "$$\n",
    "\\ORhat = \\frac{a/b}{c/d} = \\frac{ad}{bc}\n",
    "$$\n",
    "\n",
    "の対数 $\\log\\ORhat$ (確率変数としての対数オッズ比)は, 平均がモデルのパラメータの対数オッズ比\n",
    "\n",
    "$$\n",
    "\\log\\OR = \\log\\frac{p(1-q)}{(1-p)q}\n",
    "$$\n",
    "\n",
    "で, 分散が\n",
    "\n",
    "$$\n",
    "\\SEhat_{\\log\\ORhat}^2 = \\frac{1}{a} + \\frac{1}{b} + \\frac{1}{c} + \\frac{1}{d}\n",
    "$$\n",
    "\n",
    "であるような正規分布に近似的に従うことを示せる.  ゆえに, \n",
    "\n",
    "$$\n",
    "\\frac{\\log\\ORhat - \\log\\OR}{\\SEhat_{\\log\\ORhat}} \\sim\n",
    "\\Normal(0,1),\\ \\text{approximately}.\n",
    "$$\n",
    "\n",
    "([「大数の法則と中心極限定理」のノート](https://nbviewer.org/github/genkuroki/Statistics/blob/master/2022/05%20Central%20limit%20theorem.ipynb)で解説したデルタ法を使えば示せる.  この点については後の節で説明する.)\n",
    "\n",
    "__P値の構成法:__ 上の近似を使えば, 「オッズ比パラメータは $\\OR = \\omega$ である」という仮説のP値を次のように定めることができる:\n",
    "\n",
    "$$\n",
    "\\pvalue_{\\Wald}(a, b, c, d|\\OR=\\omega) =\n",
    "2\\left(\n",
    "1 - \\cdf\\left(\\Normal(0,1), \\frac{\\left|\\log\\ORhat - \\log\\omega\\right|}{\\SEhat_{\\log\\ORhat}}\\right)\n",
    "\\right)\n",
    "$$\n",
    "\n",
    "ただし, $\\log\\ORhat$ と $\\SEhat_{\\log\\ORhat}$ はデータの数値 $a,b,c,d$ から上で示した式で計算された値であるとする.\n",
    "\n",
    "__対応する信頼区間:__ このP値の定義に対応するオッズ比パラメータ $\\OR$ に関する信頼度 $1-\\alpha$ の信頼区間は次のようになる:\n",
    "\n",
    "$$\n",
    "\\confint^{\\log\\OR}_{\\Wald}(a, b, c, d|\\alpha) =\n",
    "\\left[\n",
    "\\log\\ORhat - z_{\\alpha/2}\\SEhat_{\\log\\ORhat},\\;\n",
    "\\log\\ORhat + z_{\\alpha/2}\\SEhat_{\\log\\ORhat}\n",
    "\\right]\n",
    "$$\n",
    "\n",
    "対応するオッズ比パラメータ $\\OR$ の信頼区間は次のようになる:\n",
    "\n",
    "$$\n",
    "\\confint^{\\OR}_{\\Wald}(a, b, c, d|\\alpha) =\n",
    "\\left[\n",
    "\\exp\\left(-z_{\\alpha/2}\\SEhat_{\\log\\ORhat}\\right)\\ORhat,\\;\n",
    "\\exp\\left( z_{\\alpha/2}\\SEhat_{\\log\\ORhat}\\right)\\ORhat\n",
    "\\right]\n",
    "$$\n",
    "\n",
    "ここで, $z_{\\alpha/2} = \\quantile(\\Normal(0,1), 1-\\alpha/2)$ である."
   ]
  },
  {
   "cell_type": "markdown",
   "id": "aab52ab2",
   "metadata": {},
   "source": [
    "### Wald版のオッズ比に関するP値と信頼区間の計算例\n",
    "\n",
    "データが次の場合のWald版の仮説「オッズ比パラメータは $\\OR=1$ である」のP値とオッズ比パラメータ $\\OR$ の $95\\%$ 信頼区間を計算してみよう:\n",
    "\n",
    "$$\n",
    "\\begin{array}{c|c|c|c}\n",
    "& \\text{商品を購入した} & \\text{購入しなかった} & \\text{合計} \\\\\n",
    "\\hline\n",
    "\\text{デザインA} & 49   &  965 & 1014 \\\\\n",
    "\\hline\n",
    "\\text{デザインB} & 26   &  854 &  880 \\\\\n",
    "\\hline\n",
    "\\text{合計}      & 75   & 1819 & 1894 \\\\ \n",
    "\\end{array}\n",
    "$$\n",
    "\n",
    "結果は次のようになる:\n",
    "\n",
    "* (Wald版の仮説「オッズ比パラメータは $\\OR=1$ である」のP値) ≈ 3.847%\n",
    "* (Wald版のオッズ比パラメータ $\\OR$ の $95\\%$ 信頼区間) ≈ \\[1.0275, 2.7072\\]"
   ]
  },
  {
   "cell_type": "markdown",
   "id": "a0ccbcce",
   "metadata": {},
   "source": [
    "#### WolframAlphaによるWald版のオッズ比に関するP値と信頼区間の計算の仕方\n",
    "\n",
    "`sqrt(1/a+1/b+1/c+1/d) where a=49.0, b=965, c=26, d=854` → [実行](https://www.wolframalpha.com/input?i=sqrt%281%2Fa%2B1%2Fb%2B1%2Fc%2B1%2Fd%29+where+a%3D49.0%2C+b%3D965%2C+c%3D26%2C+d%3D854) → 0.247137\n",
    "\n",
    "`log(a*d/(b*c))/0.247137 where a=49.0, b=965, c=26, d=854` → [実行](https://www.wolframalpha.com/input?i=log%28a*d%2F%28b*c%29%29%2F0.247137+where+a%3D49.0%2C+b%3D965%2C+c%3D26%2C+d%3D854) → 2.06981\n",
    "\n",
    "`2(1 - cdf(NormalDistrubution(0,1), 2.06981))` → [実行](https://www.wolframalpha.com/input?i=2%281+-+cdf%28NormalDistrubution%280%2C1%29%2C+2.06981%29%29) → 0.0384701 (P値)\n",
    "\n",
    "`quantile(NormalDistribution(0,1), 0.975))` → [実行](https://www.wolframalpha.com/input?i=quantile%28NormalDistribution%280%2C1%29%2C+0.975%29) → 1.95996\n",
    "\n",
    "`{exp(-0.247137z)*a*d/(b*c), exp(0.247137z)*a*d/(b*c)} where a=49.0, b=965, c=26, d=854, z=1.95996` → [実行](https://www.wolframalpha.com/input?i=%7Bexp%28-0.247137z%29*a*d%2F%28b*c%29%2C+exp%280.247137z%29*a*d%2F%28b*c%29%7D+where+a%3D49.0%2C+b%3D965%2C+c%3D26%2C+d%3D854%2C+z%3D1.95996) → {1.02752, 2.70717} (95%信頼区間)"
   ]
  },
  {
   "cell_type": "markdown",
   "id": "9dad88d4",
   "metadata": {},
   "source": [
    "#### Julia言語によるWald版のオッズ比に関するP値と信頼区間の計算の仕方(1)\n",
    "\n",
    "素朴に定義通りにコードを入力すれば計算できる."
   ]
  },
  {
   "cell_type": "code",
   "execution_count": 11,
   "id": "5c9c08c1",
   "metadata": {},
   "outputs": [
    {
     "name": "stdout",
     "output_type": "stream",
     "text": [
      "(a, b, c, d) = (49, 965, 26, 854)\n",
      "ω = 1.0\n",
      "ORhat = (a * d) / (b * c) = 1.6678357911518533\n",
      "SEhat = √(1 / a + 1 / b + 1 / c + 1 / d) = 0.247137474584997\n",
      "pvalue = 2 * ccdf(Normal(), abs(log(ORhat) - log(ω)) / SEhat) = 0.03847043006362489\n",
      "α = 0.05\n",
      "z = quantile(Normal(), 1 - α / 2) = 1.9599639845400576\n",
      "confint = [exp(-z * SEhat) * ORhat, exp(z * SEhat) * ORhat] = [1.0275181208761617, 2.7071797272783877]\n"
     ]
    }
   ],
   "source": [
    "a, b, c, d = 49, 965, 26, 854\n",
    "@show a, b, c, d\n",
    "ω = 1.0\n",
    "@show ω\n",
    "@show ORhat = a*d/(b*c)\n",
    "@show SEhat = √(1/a + 1/b + 1/c + 1/d)\n",
    "@show pvalue = 2ccdf(Normal(), abs(log(ORhat) - log(ω))/SEhat)\n",
    "α = 0.05\n",
    "@show α\n",
    "@show z = quantile(Normal(), 1-α/2)\n",
    "@show confint = [exp(-z*SEhat)*ORhat, exp(z*SEhat)*ORhat]\n",
    ";"
   ]
  },
  {
   "cell_type": "markdown",
   "id": "c6c41bfb",
   "metadata": {},
   "source": [
    "#### Julia言語によるWald版のオッズ比に関するP値と信頼区間の計算の仕方(2)\n",
    "\n",
    "このノートブックの最初の方で定義した函数を使って計算."
   ]
  },
  {
   "cell_type": "code",
   "execution_count": 12,
   "id": "df3bebef",
   "metadata": {},
   "outputs": [
    {
     "name": "stdout",
     "output_type": "stream",
     "text": [
      "(a, b, c, d) = (49, 965, 26, 854)\n",
      "pvalue_or_wald(a, b, c, d; ω = 1) = 0.03847043006362489\n",
      "confint_or_wald(a, b, c, d; α = 0.05) = [1.0275181208761617, 2.7071797272783877]\n"
     ]
    }
   ],
   "source": [
    "a, b, c, d = 49, 965, 26, 854\n",
    "@show a, b, c, d\n",
    "@show pvalue_or_wald(a, b, c, d; ω=1)\n",
    "@show confint_or_wald(a, b, c, d; α=0.05);"
   ]
  },
  {
   "cell_type": "markdown",
   "id": "aa564dd8",
   "metadata": {},
   "source": [
    "#### Julia言語によるWald版のオッズ比に関するP値函数の視覚化\n",
    "\n",
    "P値函数 $\\omega\\mapsto\\pvalue_{\\Wald}(a,b,c,d|\\OR=\\omega)$ のグラフを描いてみよう."
   ]
  },
  {
   "cell_type": "code",
   "execution_count": 13,
   "id": "e2cda5ad",
   "metadata": {},
   "outputs": [
    {
     "data": {
      "image/png": "[encoded data removed]"
     },
     "execution_count": 13,
     "metadata": {},
     "output_type": "execute_result"
    }
   ],
   "source": [
    "a, b, c, d = 49, 965, 26, 854\n",
    "plot(ω -> pvalue_or_wald(a,b,c,d; ω), 0.5, 3.5; label=\"Wald's P-value func.\")\n",
    "vline!([oddsratiohat(a,b,c,d)]; label=\"ORhat = (ad)/(bc)\", ls=:dash)\n",
    "plot!(; xguide=\"OR = ω\", yguide=\"P-value\")\n",
    "plot!(; ytick=0:0.1:1)\n",
    "title!(\"a, b, c, d = $a, $b, $c, $d\")"
   ]
  },
  {
   "cell_type": "markdown",
   "id": "0bf3d734",
   "metadata": {},
   "source": [
    "このようにWald版P値函数は, $\\omega = \\ORhat = (ad)/(bc)$ で最大値の $1$ になり, 「とんがり帽子」型のグラフになる."
   ]
  },
  {
   "cell_type": "markdown",
   "id": "d317a1eb",
   "metadata": {},
   "source": [
    "#### R言語でのWald版のオッズ比に関するP値と信頼区間の計算の仕方\n",
    "\n",
    "定義通りにコードを入力すれば計算できる.\n",
    "\n",
    "```R\n",
    "a = 49\n",
    "b = 965\n",
    "c = 26\n",
    "d = 854\n",
    "omega = 1\n",
    "ORhat = a*d/(b*c)\n",
    "SEhat = sqrt(1/a + 1/b + 1/c + 1/d)\n",
    "p.value = 2*(1 - pnorm(abs(log(ORhat) - log(omega))/SEhat))\n",
    "alpha = 0.05\n",
    "z = qnorm(1 - alpha/2)\n",
    "conf.int = c(exp(-z*SEhat)*ORhat, exp(z*SEhat)*ORhat)\n",
    "\n",
    "cat(\"data: a b c d = \", a, b, c, d, \"\\n\")\n",
    "cat(\"null hypothesis: OR = \", omega, \"\\n\")\n",
    "cat(\"ORhat = \", ORhat, \"\\n\")\n",
    "cat(\"SEhat = \", SEhat, \"\\n\")\n",
    "cat(\"p.value = \", p.value, \"\\n\")\n",
    "cat(\"conf.level = \", 1 - alpha, \"\\n\")\n",
    "cat(\"conf.int = \", conf.int, \"\\n\")\n",
    "```"
   ]
  },
  {
   "cell_type": "code",
   "execution_count": 14,
   "id": "5beeb877",
   "metadata": {},
   "outputs": [
    {
     "name": "stdout",
     "output_type": "stream",
     "text": [
      "data: a b c d =  49 965 26 854 \n",
      "null hypothesis: OR =  1 \n",
      "ORhat =  1.667836 \n",
      "SEhat =  0.2471375 \n",
      "p.value =  0.03847043 \n",
      "conf.level =  0.95 \n",
      "conf.int =  1.027518 2.70718 \n"
     ]
    }
   ],
   "source": [
    "R\"\"\"\n",
    "a = 49\n",
    "b = 965\n",
    "c = 26\n",
    "d = 854\n",
    "omega = 1\n",
    "ORhat = a*d/(b*c)\n",
    "SEhat = sqrt(1/a + 1/b + 1/c + 1/d)\n",
    "p.value = 2*(1 - pnorm(abs(log(ORhat) - log(omega))/SEhat))\n",
    "alpha = 0.05\n",
    "z = qnorm(1 - alpha/2)\n",
    "conf.int = c(exp(-z*SEhat)*ORhat, exp(z*SEhat)*ORhat)\n",
    "\n",
    "cat(\"data: a b c d = \", a, b, c, d, \"\\n\")\n",
    "cat(\"null hypothesis: OR = \", omega, \"\\n\")\n",
    "cat(\"ORhat = \", ORhat, \"\\n\")\n",
    "cat(\"SEhat = \", SEhat, \"\\n\")\n",
    "cat(\"p.value = \", p.value, \"\\n\")\n",
    "cat(\"conf.level = \", 1 - alpha, \"\\n\")\n",
    "cat(\"conf.int = \", conf.int, \"\\n\")\n",
    "\"\"\";"
   ]
  },
  {
   "cell_type": "markdown",
   "id": "76f52d3c",
   "metadata": {},
   "source": [
    "$95\\%$ 信頼区間はepiR パッケージを使えば\n",
    "\n",
    "```R\n",
    "A = matrix(c(49, 965, 26, 854), 2, 2, byrow=T)\n",
    "result = epiR::epi.2by2(A, digits=4, conf.level=0.95)\n",
    "```\n",
    "\n",
    "で計算できる. 色々表示されるが,\n",
    "\n",
    "```\n",
    "Odds ratio                                     1.6678 (1.0275, 2.7072)\n",
    "```\n",
    "\n",
    "の行の括弧の内側にWald版の信頼区間が表示されている."
   ]
  },
  {
   "cell_type": "code",
   "execution_count": 15,
   "id": "61f2ea62",
   "metadata": {},
   "outputs": [
    {
     "data": {
      "text/plain": [
       "RObject{VecSxp}\n",
       "             Outcome +    Outcome -      Total        Inc risk *        Odds\n",
       "Exposed +           49          965       1014              4.83      0.0508\n",
       "Exposed -           26          854        880              2.95      0.0304\n",
       "Total               75         1819       1894              3.96      0.0412\n",
       "\n",
       "Point estimates and 95% CIs:\n",
       "-------------------------------------------------------------------\n",
       "Inc risk ratio                                 1.6356 (1.0254, 2.6088)\n",
       "Odds ratio                                     1.6678 (1.0275, 2.7072)\n",
       "Attrib risk in the exposed *                   1.8778 (0.1475, 3.6081)\n",
       "Attrib fraction in the exposed (%)            38.8590 (2.4779, 61.6679)\n",
       "Attrib risk in the population *                1.0053 (-0.4170, 2.4276)\n",
       "Attrib fraction in the population (%)         25.3879 (-1.2434, 45.0140)\n",
       "-------------------------------------------------------------------\n",
       "Uncorrected chi2 test that OR = 1: chi2(1) = 4.368 Pr>chi2 = 0.037\n",
       "Fisher exact test that OR = 1: Pr>chi2 = 0.044\n",
       " Wald confidence limits\n",
       " CI: confidence interval\n",
       " * Outcomes per 100 population units \n"
      ]
     },
     "execution_count": 15,
     "metadata": {},
     "output_type": "execute_result"
    }
   ],
   "source": [
    "R\"\"\"\n",
    "A = matrix(c(49, 965, 26, 854), 2, 2, byrow=T)\n",
    "result = epiR::epi.2by2(A, digits=4, conf.level=0.95)\n",
    "\"\"\""
   ]
  },
  {
   "cell_type": "markdown",
   "id": "c386f6e6",
   "metadata": {},
   "source": [
    "### 確率変数としての対数オッズ比の分散の近似値の導出\n",
    "\n",
    "この節では $a,b,c,d$ は2つの二項分布モデルに従う確率変数であるとし,\n",
    "\n",
    "$$\n",
    "\\phat = \\frac{a}{a+b} = \\frac{a}{m}, \\quad\n",
    "\\qhat = \\frac{c}{c+d} = \\frac{c}{n}\n",
    "$$\n",
    "\n",
    "とおく.  これの対数オッズ比\n",
    "\n",
    "$$\n",
    "\\log\\ORhat = \\log\\frac{a/b}{c/d} =\n",
    "\\log\\frac{\\phat/(1-\\phat)}{\\qhat(1-\\qhat)} =\n",
    "\\log\\frac{\\phat}{1-\\phat} + \\log\\frac{\\qhat}{1-\\qhat}\n",
    "$$\n",
    "\n",
    "の分散の近似値を求めたい. $a\\sim\\Binomial(m,p)$, $c\\sim\\Binomial(n,q)$ なので, 二項分布の中心極限定理より,\n",
    "\n",
    "$$\n",
    "\\phat \\sim \\Normal\\left(p, \\sqrt{\\frac{p(1-p)}{m}}\\right), \\quad\n",
    "\\qhat \\sim \\Normal\\left(q, \\sqrt{\\frac{q(1-q)}{n}}\\right), \\quad\\text{approximately}.\n",
    "$$\n",
    "\n",
    "$a,c$ は独立なので $\\phat,\\qhat$ も独立になる.\n",
    "\n",
    "$f(t) = \\log(t/(1-t)) = \\log(1/(1-t)-1)$ とおくと, $f'(t) = ((1-t)/t)(1/(1-t)^2) = 1/(t(1-t))$ なので,\n",
    "\n",
    "$$\n",
    "\\log\\frac{\\phat}{1-\\phat} =\n",
    "\\frac{p}{1-p} + \\frac{\\phat - p}{p(1-p)} + O((\\phat-p)^2).\n",
    "$$\n",
    "\n",
    "これより, 次の近似が得られる:\n",
    "\n",
    "$$\n",
    "\\log\\frac{\\phat}{1-\\phat} \\sim\n",
    "\\Normal\\left(\\log\\frac{p}{1-p}, \\frac{1}{\\sqrt{mp(1-p)}}\\right),\n",
    "\\quad\\text{approximately}.\n",
    "$$\n",
    "\n",
    "同様にして,\n",
    "\n",
    "$$\n",
    "\\log\\frac{\\qhat}{1-\\qhat} \\sim\n",
    "\\Normal\\left(\\log\\frac{q}{1-q}, \\frac{1}{\\sqrt{nq(1-q)}}\\right),\n",
    "\\quad\\text{approximately}.\n",
    "$$\n",
    "\n",
    "一般に $X,Y$ が独立な確率変数で $X\\sim\\Normal(\\mu_X, \\sigma_X)$, $Y\\sim\\Normal(\\mu_Y, \\sigma_Y)$ のとき, $X+Y\\sim\\Normal\\left(\\mu_X+\\mu_Y, \\sqrt{\\sigma_X^2+\\sigma_Y^2}\\right)$ となる.  そして,\n",
    "\n",
    "$$\n",
    "\\begin{aligned}\n",
    "\\left(\\frac{1}{\\sqrt{mp(1-p)}}\\right)^2 +\n",
    "\\left(\\frac{1}{\\sqrt{nq(1-q)}}\\right)^2 &=\n",
    "\\frac{1}{mp(1-p)} +\n",
    "\\frac{1}{nq(1-q)}\n",
    "\\\\ &=\n",
    "\\frac{1}{mp} + \\frac{1}{m(1-p)} + \\frac{1}{nq} + \\frac{1}{n(1-q)}\n",
    "\\end{aligned}\n",
    "$$\n",
    "\n",
    "なので, \n",
    "\n",
    "$$\n",
    "\\SE_{\\log\\ORhat} =\n",
    "\\sqrt{\\frac{1}{mp} + \\frac{1}{m(1-p)} + \\frac{1}{nq} + \\frac{1}{n(1-q)}}\n",
    "$$\n",
    "\n",
    "とおいて, $\\log\\ORhat$ の定義と\n",
    "\n",
    "$$\n",
    "\\log\\OR = \\log\\frac{p/(1-p)}{q/(1-q)} =\n",
    "\\log\\frac{p}{1-p} + \\log\\frac{q}{1-q}\n",
    "$$\n",
    "\n",
    "を使うと, \n",
    "\n",
    "$$\n",
    "\\log\\ORhat \\sim\n",
    "\\Normal\\left(\\log\\OR, \\SE_{\\log\\ORhat} \\right), \\quad\\text{approximately}\n",
    "$$\n",
    "\n",
    "となることがわかる.\n",
    "\n",
    "もしも $mp, m(1-p), nq, n(1-q)$ のそれぞれを $a,b,c,d$ で近似できるならば, $\\SE$ の中の $mp, m(1-p), nq, n(1-q)$ のそれぞれを $a,b,c,d$ で置き換えて,\n",
    "\n",
    "$$\n",
    "\\SEhat_{\\log\\ORhat} =\n",
    "\\sqrt{\\frac{1}{a} + \\frac{1}{b} + \\frac{1}{c} + \\frac{1}{d}}\n",
    "$$\n",
    "\n",
    "を作って,\n",
    "\n",
    "$$\n",
    "\\log\\ORhat \\sim\n",
    "\\Normal\\left(\\log\\OR, \\SEhat_{\\log\\ORhat} \\right), \\quad\\text{approximately}\n",
    "$$\n",
    "\n",
    "という近似が得られる.  この近似のもとで\n",
    "\n",
    "$$\n",
    "\\frac{\\log\\ORhat - \\log\\OR}{\\SEhat_{\\log\\ORhat}} \\sim \\Normal(0,1), \\quad\\text{approximately}.\n",
    "$$\n",
    "\n",
    "__注意:__ 以上のような議論ではハット付きの $\\ORhat$ とハットが付いていない $\\OR$ の区別が曖昧になると理解できなくなる. ハットが付いていない $\\OR = (p/(1-p))/(q/(1-q))$ はモデルのパラメータ $p,q$ で書かれた量であり, ハットが付いている $\\ORhat = (a/b)/(c/d)$ はモデルに従う確率変数 $a,b,c,d$ で書かれた量になっていることに注意すれば区別がし易くなるだろう.  実際にその方法で $\\SE_{\\log\\ORhat}$ と $\\SEhat_{\\log\\ORhat}$ の区別を容易にできることを確認してみよ.\n",
    "\n",
    "__注意:__ ハット付きの記号はデータの数値で表された同様の量にもそのまま流用されるので, 文脈によって, 確率変数になっているかと, データの数値から計算された数値になっているかを区別しなければいけない.  この問題はモデル内の確率変数とデータの数値から計算さらた数値を記号的にも区別できるようにすれば解決するのだが, 実際にやってみればわかるように, 記号が煩雑過ぎるという点でつらくなる場合が多数出て来る.  しかし, 初学者にとって「文脈を利用して正しく解釈すること」は難しい場合があるので, 実際に難しいと感じる人は, 文脈に頼らずに記号を見ただけで区別できるように書かれたノートを __自分で__ 作成してみるとよいだろう.  (おそらくそれを本当に実行した人は結果的に文脈を利用して正しく解釈することが楽にできるようになるだろう.)"
   ]
  },
  {
   "cell_type": "markdown",
   "id": "33492852",
   "metadata": {},
   "source": [
    "### 問題: 対数リスク比の場合の正規分布近似\n",
    "\n",
    "$a,b,c,d$ は2つの二項分布モデルに従う確率変数であるとし, $\\phat = a/m$, $\\qhat = c/n$ とおき, それらに関する確率変数としての対数リスク比を次のように定める:\n",
    "\n",
    "$$\n",
    "\\log\\RRhat = \\log\\frac{\\phat}{\\qhat} = \\log\\phat - \\log\\qhat.\n",
    "$$\n",
    "\n",
    "このとき, \n",
    "\n",
    "$$\n",
    "\\log\\RR = \\log\\frac{p}{q}, \\quad\n",
    "\\SEhat_{\\log\\RRhat} =\n",
    "\\sqrt{\\frac{1}{a} - \\frac{1}{a+b} + \\frac{1}{c} - \\frac{1}{c+d}}\n",
    "$$\n",
    "\n",
    "とおくと, 二項分布の中心極限定理を使って, 次の近似が得られることを示せ:\n",
    "\n",
    "$$\n",
    "\\log\\RRhat \\sim\n",
    "\\Normal\\left(\\log\\RR, \\SEhat_{\\log\\RRhat}\\right), \\quad\\text{approximately}.\n",
    "$$"
   ]
  },
  {
   "cell_type": "markdown",
   "id": "c8319bdd",
   "metadata": {},
   "source": [
    "__解答例:__ $f(t)=\\log t$ とおくと, $f'(t)=1/t$ なので,\n",
    "\n",
    "$$\n",
    "\\log\\phat = \\log p + \\frac{\\phat - p}{p} + O((\\phat-p)^2).\n",
    "$$\n",
    "\n",
    "これと二項分布の中心極限定理 $\\phat \\sim \\Normal\\left(p, \\sqrt{p(1-p)/m}\\right)$ をから次の近似を得る:\n",
    "\n",
    "$$\n",
    "\\log\\phat \\sim\n",
    "\\Normal\\left(\\log p, \\sqrt{\\frac{1-p}{mp}}\\right), \\quad\\text{approximately}.\n",
    "$$\n",
    "\n",
    "同様にして,\n",
    "\n",
    "$$\n",
    "\\log\\qhat \\sim\n",
    "\\Normal\\left(\\log q, \\sqrt{\\frac{1-q}{nq}}\\right), \\quad\\text{approximately}.\n",
    "$$\n",
    "\n",
    "ゆえに, $\\SE_{\\log\\RRhat}$ を\n",
    "\n",
    "$$\n",
    "\\begin{aligned}\n",
    "\\SE_{\\log\\RRhat} &=\n",
    "\\sqrt{\\frac{1-p}{mp} + \\frac{1-q}{nq}} \n",
    "\\\\ &=\n",
    "\\sqrt{\\frac{1}{mp} - \\frac{1}{m} + \\frac{1}{nq} - \\frac{1}{n}}\n",
    "\\end{aligned}\n",
    "$$\n",
    "\n",
    "と定めると,\n",
    "\n",
    "$$\n",
    "\\log\\RRhat \\sim\n",
    "\\Normal\\left(\\log\\RR, \\SE_{\\log\\RRhat}\\right), \\quad\\text{approximately}.\n",
    "$$\n",
    "\n",
    "ゆえにもしも, $mp, nq$ のそれぞれを $a,c$ で近似できるならば, $a+b=m$, $c+d=n$ も使って\n",
    "\n",
    "$$\n",
    "\\log\\RRhat \\sim\n",
    "\\Normal\\left(\\log\\RR, \\SEhat_{\\log\\RRhat}\\right), \\quad\\text{approximately}.\n",
    "$$\n",
    "\n",
    "が得られる.\n",
    "\n",
    "__解答終__"
   ]
  },
  {
   "cell_type": "markdown",
   "id": "2e614816",
   "metadata": {},
   "source": [
    "### 問題: Wald版のリスク比に関するP値と信頼区間の定義\n",
    "\n",
    "上の問題の結果を用いてWald版のリスク比に関するP値と信頼区間を適切に定義せよ.\n",
    "\n",
    "__注意:__ 数学的にややこしい事柄を理解したい場合には「定義だけは最初に覚えなければいけない」のように考えると失敗することが多い.  適切な定義を自分で作れるような考え方をした方がよい.  この問題を適切に解けた人は今度は自力でP値と信頼区間を適切に定義して自由自在に使えるようになるだろう."
   ]
  },
  {
   "cell_type": "markdown",
   "id": "654cb0e6",
   "metadata": {},
   "source": [
    "__解答例:__ 現実世界における調査によって2×2の分割表のデータの数値 $a,b,c,d$ が得られているとする. そのデータの数値の対数リスク比を次のように定める:\n",
    "\n",
    "$$\n",
    "\\log\\RRhat = \\frac{a/(a+b)}{c/(c+d)}.\n",
    "$$\n",
    "\n",
    "仮説「リスク比パラメータは $\\RR=\\rho$ である」の下での2つの二項分布モデル内でランダムに生成されたデータの対数リスク比が現実世界で得たデータの対数リスク比以上に $\\RR=\\rho$ から離れる確率の近似値として, 「リスク比パラメータは $\\RR=\\rho$ である」という仮説のP値を定める:\n",
    "\n",
    "$$\n",
    "\\pvalue_{\\Wald}(a,b,c,d|\\RR=\\rho) =\n",
    "2\\left(\n",
    "1 - \\cdf\\left(\\Normal(0,1), \\frac{\\left|\\log\\RRhat - \\log\\rho\\right|}{\\SEhat_{\\log\\RRhat}}\\right)\n",
    "\\right).\n",
    "$$\n",
    "\n",
    "ここで1つ前の問題の結果と記号\n",
    "\n",
    "$$\n",
    "\\SEhat_{\\log\\RRhat} =\n",
    "\\sqrt{\\frac{1}{a} - \\frac{1}{a+b} + \\frac{1}{c} - \\frac{1}{c+d}}\n",
    "$$\n",
    "\n",
    "を使った. このP値に定義に対応する対数リスク比パラメータ $\\log\\RR$ の信頼度 $1-\\alpha$ の信頼区間は\n",
    "\n",
    "$$\n",
    "\\confint^{\\log\\RR}_{\\Wald}(a,b,c,d|\\alpha) =\n",
    "\\left[\n",
    "\\log\\RRhat - z_{\\alpha/2}\\SEhat_{\\log\\RRhat},\\;\n",
    "\\log\\RRhat + z_{\\alpha/2}\\SEhat_{\\log\\RRhat}\n",
    "\\right]\n",
    "$$\n",
    "\n",
    "になり, リスク比パラメータ $\\RR$ の信頼度 $1-\\alpha$ の信頼区間は\n",
    "\n",
    "$$\n",
    "\\confint^{\\RR}_{\\Wald}(a,b,c,d|\\alpha) =\n",
    "\\left[\n",
    "\\exp\\left(-z_{\\alpha/2}\\SEhat_{\\log\\RRhat}\\right)\\RRhat,\\;\n",
    "\\exp\\left( z_{\\alpha/2}\\SEhat_{\\log\\RRhat}\\right)\\RRhat\n",
    "\\right]\n",
    "$$\n",
    "\n",
    "になる.  ここで $z_{\\alpha/2}=\\cdf(\\Normal(0,1), 1-\\alpha/2)$."
   ]
  },
  {
   "cell_type": "markdown",
   "id": "332070f6",
   "metadata": {},
   "source": [
    "### 問題: Wald版のリスク比に関するP値と信頼区間の計算例\n",
    "\n",
    "データが次の場合のWald版の仮説「リスク比パラメータは $\\RR=1$ である」のP値とリスク比パラメータ $\\RR$ の $95\\%$ 信頼区間を計算してみよ:\n",
    "\n",
    "$$\n",
    "\\begin{array}{c|c|c|c}\n",
    "& \\text{商品を購入した} & \\text{購入しなかった} & \\text{合計} \\\\\n",
    "\\hline\n",
    "\\text{デザインA} & 49   &  965 & 1014 \\\\\n",
    "\\hline\n",
    "\\text{デザインB} & 26   &  854 &  880 \\\\\n",
    "\\hline\n",
    "\\text{合計}      & 75   & 1819 & 1894 \\\\ \n",
    "\\end{array}\n",
    "$$"
   ]
  },
  {
   "cell_type": "markdown",
   "id": "7276b02a",
   "metadata": {},
   "source": [
    "#### Julia言語によるWald版のリスク比に関するP値と信頼区間の計算例"
   ]
  },
  {
   "cell_type": "code",
   "execution_count": 16,
   "id": "5977e0b7",
   "metadata": {},
   "outputs": [
    {
     "name": "stdout",
     "output_type": "stream",
     "text": [
      "riskratiohat(a, b, c, d) = 1.635563647397967\n",
      "pvalue_rr_wald(a, b, c, d; ρ = 1) = 0.038895117565198624\n",
      "confint_rr_wald(a, b, c, d; α = 0.05) = [1.025408984412048, 2.6087819449169145]\n"
     ]
    }
   ],
   "source": [
    "a, b, c, d = 49, 965, 26, 854\n",
    "@show riskratiohat(a, b, c, d)\n",
    "@show pvalue_rr_wald(a, b, c, d; ρ=1)\n",
    "@show confint_rr_wald(a, b, c, d; α = 0.05);"
   ]
  },
  {
   "cell_type": "markdown",
   "id": "747fbeed",
   "metadata": {},
   "source": [
    "#### Julia言語によるWald版のリスク比に関するP値函数の視覚化"
   ]
  },
  {
   "cell_type": "code",
   "execution_count": 17,
   "id": "020be898",
   "metadata": {},
   "outputs": [
    {
     "data": {
      "image/png": "[encoded data removed]"
     },
     "execution_count": 17,
     "metadata": {},
     "output_type": "execute_result"
    }
   ],
   "source": [
    "a, b, c, d = 49, 965, 26, 854\n",
    "plot(ρ -> pvalue_rr_wald(a,b,c,d; ρ), 0.5, 3.5; label=\"Wald's P-value func.\")\n",
    "vline!([riskratiohat(a,b,c,d)]; label=\"RRhat = (a/m)/(c/n)\", ls=:dash)\n",
    "plot!(; xguide=\"RR = ρ\", yguide=\"P-value\")\n",
    "plot!(; ytick=0:0.1:1)\n",
    "title!(\"a, m, c, n = $a, $(a+b), $c, $(c+d)\")"
   ]
  },
  {
   "cell_type": "markdown",
   "id": "7db6b2ce",
   "metadata": {},
   "source": [
    "#### Wald版のリスク比に関するP値と信頼区間の計算例の問題の解答例\n",
    "\n",
    "* (Wald版の仮説「リスク比パラメータは $\\RR=1$ である」のP値) ≈ 3.890%\n",
    "* (Wald版のリスク比パラメータ $\\RR$ の $95\\%$ 信頼区間) ≈ \\[1.0254, 2.6088\\]"
   ]
  },
  {
   "cell_type": "markdown",
   "id": "78a91005",
   "metadata": {},
   "source": [
    "__注意:__ この場合にはリスク比がオッズ比で近似される場合になっている."
   ]
  },
  {
   "cell_type": "code",
   "execution_count": 18,
   "id": "ed6bffd7",
   "metadata": {},
   "outputs": [
    {
     "name": "stdout",
     "output_type": "stream",
     "text": [
      "riskratiohat(a, b, c, d) = 1.635563647397967\n",
      "oddsratiohat(a, b, c, d) = 1.6678357911518533\n",
      "pvalue_rr_wald(a, b, c, d; ρ = 1) = 0.038895117565198624\n",
      "pvalue_or_wald(a, b, c, d; ω = 1) = 0.03847043006362489\n",
      "confint_rr_wald(a, b, c, d; α = 0.05) = [1.025408984412048, 2.6087819449169145]\n",
      "confint_or_wald(a, b, c, d; α = 0.05) = [1.0275181208761617, 2.7071797272783877]\n"
     ]
    }
   ],
   "source": [
    "a, b, c, d = 49, 965, 26, 854\n",
    "@show riskratiohat(a, b, c, d)\n",
    "@show oddsratiohat(a, b, c, d)\n",
    "@show pvalue_rr_wald(a, b, c, d; ρ=1)\n",
    "@show pvalue_or_wald(a, b, c, d; ω=1)\n",
    "@show confint_rr_wald(a, b, c, d; α = 0.05)\n",
    "@show confint_or_wald(a, b, c, d; α = 0.05);"
   ]
  },
  {
   "cell_type": "markdown",
   "id": "af9e96bf",
   "metadata": {},
   "source": [
    "### 必修問題: 別の計算例\n",
    "\n",
    "$$\n",
    "\\begin{array}{c|c|c|c}\n",
    "& \\text{28日以内に悪化} & \\text{悪化せず} & \\text{合計} \\\\\n",
    "\\hline\n",
    "\\text{薬Iを処方} & 100 &  579 &  679 \\\\\n",
    "\\hline\n",
    "\\text{プラセボ}  & 111 &  568 &  679 \\\\\n",
    "\\hline\n",
    "\\text{合計}      & 211 & 1147 & 1358 \\\\ \n",
    "\\end{array}\n",
    "$$\n",
    "\n",
    "この表は次の論文\n",
    "\n",
    "* Gilmar Reis, M.D., Ph.D. et al., Effect of Early Treatment with Ivermectin among Patients with Covid-19, N Engl J Med 2022; 386:1721-1731. \\[[link](https://www.nejm.org/doi/full/10.1056/NEJMoa2115869)\\]\n",
    "\n",
    "の Table 2 から [Intention-to-treat population](https://www.google.com/search?q=Intention-to-treat)の部分だけを抜き出したものである.  「28日以内に悪化」の意味などに関する詳しい説明は論文を参照せよ.\n",
    "\n",
    "上のデータについて, Wald版の以下のP値と信頼区間を計算せよ:\n",
    "\n",
    "(1) 仮説「オッズ比パラメータは $\\OR=1$ である」のP値\n",
    "\n",
    "(2) オッズ比パラメータの $95%$ 信頼区間\n",
    "\n",
    "できればこれより前の節の問題の解答例を見ながら, 以下も計算せよ.\n",
    "\n",
    "(3) 仮説「リスク比パラメータは $\\RR=1$ である」のP値\n",
    "\n",
    "(4) リスク比パラメータの $95%$ 信頼区間"
   ]
  },
  {
   "cell_type": "markdown",
   "id": "060403ac",
   "metadata": {},
   "source": [
    "#### WolframAlphaによる必修問題の解答例\n",
    "\n",
    "(1)\n",
    "\n",
    "`sqrt(1/a+1/b+1/c+1/d) where a=100.0, b=579, c=111, d=568` → [実行](https://www.wolframalpha.com/input?i=sqrt%281%2Fa%2B1%2Fb%2B1%2Fc%2B1%2Fd%29+where+a%3D100.0%2C+b%3D579%2C+c%3D111%2C+d%3D568) → 0.149989\n",
    "\n",
    "`log(a*d/(b*c))/0.149989 where a=100.0, b=579, c=111, d=568` → [実行](https://www.wolframalpha.com/input?i=log%28a*d%2F%28b*c%29%29%2F0.149989+where+a%3D100.0%2C+b%3D579%2C+c%3D111%2C+d%3D568) → -0.823668\n",
    "\n",
    "`2(1 - cdf(NormalDistrubution(0,1), 0.823668))` → [実行](https://www.wolframalpha.com/input?i=2%281+-+cdf%28NormalDistrubution%280%2C1%29%2C+0.823668%29%29) → 0.410128 ((1)のP値)\n",
    "\n",
    "(2)\n",
    "\n",
    "`quantile(NormalDistribution(0,1), 0.975)` → [実行](https://www.wolframalpha.com/input?i=quantile%28NormalDistribution%280%2C1%29%2C+0.975%29) → 1.95996\n",
    "\n",
    "`{exp(-0.149989z)*a*d/(b*c), exp(0.149989z)*a*d/(b*c)} where a=100.0, b=579, c=111, d=568, z=1.95996` → [実行](https://www.wolframalpha.com/input?i=%7Bexp%28-0.149989z%29*a*d%2F%28b*c%29%2C+exp%280.149989z%29*a*d%2F%28b*c%29%7D+where+a%3D100.0%2C+b%3D579%2C+c%3D111%2C+d%3D568%2C+z%3D1.95996) → {0.658683, 1.18582} ((2)の信頼区間)\n",
    "\n",
    "(3)\n",
    "\n",
    "`sqrt(1/a-1/(a+b)+1/c-1/(c+d)) where a=100.0, b=579, c=111, d=568` → [実行](https://www.wolframalpha.com/input?i=sqrt%281%2Fa-1%2F%28a%2Bb%29%2B1%2Fc-1%2F%28c%2Bd%29%29+where+a%3D100.0%2C+b%3D579%2C+c%3D111%2C+d%3D568) → 0.126742\n",
    "\n",
    "`log(a*(c+d)/((a+b)*c))/0.126742 where a=100.0, b=579, c=111, d=568` → [実行](https://www.wolframalpha.com/input?i=log%28a*%28c%2Bd%29%2F%28%28a%2Bb%29*c%29%29%2F0.126742+where+a%3D100.0%2C+b%3D579%2C+c%3D111%2C+d%3D568) → -0.823405\n",
    "\n",
    "`2(1 - cdf(NormalDistrubution(0,1), 0.823405))` → [実行](https://www.wolframalpha.com/input?i=2%281+-+cdf%28NormalDistrubution%280%2C1%29%2C+0.823405%29%29) → 0.410278 ((3)のP値)\n",
    "\n",
    "(4)\n",
    "\n",
    "`quantile(NormalDistribution(0,1), 0.975)` → [実行](https://www.wolframalpha.com/input?i=quantile%28NormalDistribution%280%2C1%29%2C+0.975%29) → 1.95996\n",
    "\n",
    "`{exp(-0.126742z)*a*(c+d)/((a+b)*c), exp(0.126742z)*a*(c+d)/((a+b)*c)} where a=100.0, b=579, c=111, d=568, z=1.95996` → [実行](https://www.wolframalpha.com/input?i=%7Bexp%28-0.126742z%29*a*%28c%2Bd%29%2F%28%28a%2Bb%29*c%29%2C+exp%280.126742z%29*a*%28c%2Bd%29%2F%28%28a%2Bb%29*c%29%7D+where+a%3D100.0%2C+b%3D579%2C+c%3D111%2C+d%3D568%2C+z%3D1.95996) → {0.702739, 1.15494} ((4)の信頼区間)\n"
   ]
  },
  {
   "cell_type": "markdown",
   "id": "80430514",
   "metadata": {},
   "source": [
    "#### Julia言語による必修問題の解答例\n",
    "\n",
    "各種函数の定義についてはこのノートの上の方を見よ."
   ]
  },
  {
   "cell_type": "code",
   "execution_count": 19,
   "id": "0d57e71e",
   "metadata": {},
   "outputs": [
    {
     "data": {
      "text/plain": [
       "(100, 579, 111, 568)"
      ]
     },
     "execution_count": 19,
     "metadata": {},
     "output_type": "execute_result"
    }
   ],
   "source": [
    "a, b, c, d = 100, 579, 111, 568"
   ]
  },
  {
   "cell_type": "code",
   "execution_count": 20,
   "id": "d2ef283b",
   "metadata": {},
   "outputs": [
    {
     "name": "stdout",
     "output_type": "stream",
     "text": [
      "pvalue_or_wald(a, b, c, d; ω = 1) = 0.4101283497257791\n"
     ]
    }
   ],
   "source": [
    "# (1)\n",
    "@show pvalue_or_wald(a, b, c, d; ω=1);"
   ]
  },
  {
   "cell_type": "code",
   "execution_count": 21,
   "id": "45b3a31f",
   "metadata": {},
   "outputs": [
    {
     "name": "stdout",
     "output_type": "stream",
     "text": [
      "confint_or_wald(a, b, c, d; α = 0.05) = [0.6586822480003675, 1.1858168777394855]\n"
     ]
    }
   ],
   "source": [
    "# (2)\n",
    "@show confint_or_wald(a, b, c, d; α=0.05);"
   ]
  },
  {
   "cell_type": "code",
   "execution_count": 22,
   "id": "37599973",
   "metadata": {},
   "outputs": [
    {
     "name": "stdout",
     "output_type": "stream",
     "text": [
      "pvalue_rr_wald(a, b, c, d; ρ = 1) = 0.4102771459204757\n"
     ]
    }
   ],
   "source": [
    "# (3)\n",
    "@show pvalue_rr_wald(a, b, c, d; ρ=1);"
   ]
  },
  {
   "cell_type": "code",
   "execution_count": 23,
   "id": "f5b7db92",
   "metadata": {},
   "outputs": [
    {
     "name": "stdout",
     "output_type": "stream",
     "text": [
      "confint_rr_wald(a, b, c, d; α = 0.05) = [0.7027391487578177, 1.1549412533494148]\n"
     ]
    }
   ],
   "source": [
    "# (4)\n",
    "@show confint_rr_wald(a, b, c, d; α=0.05);"
   ]
  },
  {
   "cell_type": "markdown",
   "id": "f11aa86d",
   "metadata": {},
   "source": [
    "#### 必修問題解答例\n",
    "\n",
    "(1) 41.01%\n",
    "\n",
    "(2) \\[0.6587, 1.1858\\]\n",
    "\n",
    "(3) 41.03%\n",
    "\n",
    "(4) \\[0.7027, 1.1549\\]"
   ]
  },
  {
   "cell_type": "markdown",
   "id": "e0232bc5",
   "metadata": {},
   "source": [
    "\n",
    "## Pearsonのχ²検定版のオッズ比に関するP値と信頼区間"
   ]
  },
  {
   "cell_type": "markdown",
   "id": "fed614b9",
   "metadata": {},
   "source": [
    "### Pearsonのχ²検定版のオッズ比に関するP値と信頼区間の定義\n",
    "\n",
    "天下り的になってしまい非常に申し訳ないのだが, オッズ比に関するP値のPearsonのχ²検定版を以下のように定義する.  特にP値の構成法の(1)の段階がひどく天下り的である(後でWilks' theoremへの帰着の仕方を説明する).  しかし, それ以外の部分については計算の筋道を詳しく書いておくので, 自分の手で計算して確認して欲しい.\n",
    "\n",
    "そして, さらに, それだけだとどういうことなのか分かりにくいので, 後の方で示す具体的な数値の計算例と以下で説明する各ステップの対応を繰り返し確認して欲しい.\n",
    "\n",
    "__検定したい仮説:__ 検定したい仮説は\n",
    "\n",
    "$$\n",
    "\\text{オッズ比パラメータは $\\OR = \\omega$ である.}\n",
    "$$\n",
    "\n",
    "であるとする.  ここで $\\omega > 0$ は具体的な正の実数である.\n",
    "\n",
    "仮説が $\\OR = 1$ である場合に, 以下で定義するP値はちょうど __独立性に関するPearsonのχ²検定__ で使うP値になっている.\n",
    "\n",
    "__P値の構成法:__ オッズ比パラメータの値に関する仮説のP値のPearsonのχ²検定版の構成法は以下の通り.\n",
    "\n",
    "(1) 分割表のデータの数値 $a,b,c,d$ に対して, 次を満たす $\\delta=\\delta(a,b,c,d|\\omega)$ を求める:\n",
    "\n",
    "$$\n",
    "\\frac{(a-\\delta)(d-\\delta)}{(b+\\delta)(c+\\delta)} = \\omega,\n",
    "\\quad -\\min(b,c) \\le \\delta \\le \\min(a,d).\n",
    "$$\n",
    "\n",
    "これの左側の等式は\n",
    "\n",
    "$$\n",
    "A = 1 - \\omega, \\quad\n",
    "B = a + d + \\omega(b + c), \\quad\n",
    "C = ad - \\omega bc\n",
    "$$\n",
    "\n",
    "とおくと, 次の二次方程式に書き直される:\n",
    "\n",
    "$$\n",
    "A \\delta^2 - B \\delta + C = 0.\n",
    "$$\n",
    "\n",
    "これの解で $-\\min(b,c) \\le \\delta \\le \\min(a,d)$ を満たす側が欲しい $\\delta=\\delta(a,b,c,d|\\omega)$ である. それは次のように表される:\n",
    "\n",
    "$$\n",
    "\\delta = \\delta(a,b,c,d|\\omega) = \\frac{2C}{B + \\sqrt{B^2 - 4AC}}.\n",
    "$$\n",
    "\n",
    "この表示で浮動小数点数の計算をした方が安全でかつ誤差も小さくなり易い.\n",
    "\n",
    "特に $\\omega = 1$ の場合(独立性検定の場合)には, $\\delta$ を決める方程式は $-(a+b+c+d)\\delta + ad-bc=0$ になるので,\n",
    "\n",
    "$$\n",
    "\\omega = 1 \\implies \\delta = \\delta(a,b,c,d|1) = \\frac{ad-bc}{a+b+c+d} = \\frac{ad-bc}{N}.\n",
    "$$\n",
    "\n",
    "(2) $\\ta,\\tb,\\tc,\\td$ を次のように定める:\n",
    "\n",
    "$$\n",
    "\\ta = a - \\delta, \\quad\n",
    "\\tb = b + \\delta, \\quad\n",
    "\\tc = c + \\delta, \\quad\n",
    "\\td = d - \\delta.\n",
    "$$\n",
    "\n",
    "これが実は仮説 $\\OR=1$ 下での期待値の最尤推定値になっていることを後の方の節で説明する.\n",
    "\n",
    "特に $\\omega = 1$ の場合(独立性検定の場合)には次のようになっている:\n",
    "\n",
    "$$\n",
    "\\omega = 1 \\implies\n",
    "\\begin{cases}\n",
    "\\;\n",
    "\\ta = \\dfrac{(a+b)(a+c)}{N} = \\dfrac{ms}{N}, &\n",
    "\\tb = \\dfrac{(a+b)(b+d)}{N} = \\dfrac{mr}{N},\n",
    "\\\\ \\;\n",
    "\\tc = \\dfrac{(c+d)(a+c)}{N} = \\dfrac{ns}{N}, &\n",
    "\\td = \\dfrac{(c+d)(b+d)}{N} = \\dfrac{nr}{N}.\n",
    "\\end{cases}\n",
    "$$\n",
    "\n",
    "(3) データの数値に対応するPearsonのχ²統計量 $\\chi^2 = \\chi^2(a,b,c,d|\\delta)$ の値を次のように定める:\n",
    "\n",
    "$$\n",
    "\\begin{aligned}\n",
    "\\chi^2 &= \\chi^2(a,b,c,d|\\delta) =\n",
    "\\delta^2\n",
    "\\left(\n",
    "\\frac{1}{a-\\delta} +\n",
    "\\frac{1}{b+\\delta} +\n",
    "\\frac{1}{c+\\delta} +\n",
    "\\frac{1}{d-\\delta}\n",
    "\\right)\n",
    "\\\\ &=\n",
    "\\frac{(a - \\ta)^2}{\\ta} +\n",
    "\\frac{(b - \\tb)^2}{\\tb} +\n",
    "\\frac{(c - \\tc)^2}{\\tc} +\n",
    "\\frac{(d - \\td)^2}{\\td}.\n",
    "\\end{aligned}\n",
    "$$\n",
    "\n",
    "ここで, $\\delta = \\delta(a,b,c,d|\\omega)$ は $a,b,c,d,\\omega$ のみを使って計算できる数値なので, この $\\chi^2$ = \\chi^2(a,b,c,d|\\delta)$ も $a,b,c,d,\\omega$ のみを使って計算できる数値になっている.\n",
    "\n",
    "上の $\\chi^2$ に関する後者の表示はPearsonのχ²統計量の一般的な表示\n",
    "\n",
    "$$\n",
    "\\chi^2 =\n",
    "\\sum \\frac{((観測値) - (帰無仮説下のモデル内での期待値))^2}{(帰無仮説下のモデル内での期待値)}\n",
    "$$\n",
    "\n",
    "の特別な場合になっていることに注意せよ. ただし, 「帰無仮説下のモデル内での期待値」は最尤推定値として求めたものになっている.\n",
    "\n",
    "\n",
    "特に $\\omega = 1$ の場合(独立性検定の場合)には次のようになっている:\n",
    "\n",
    "$$\n",
    "\\chi^2 = \\frac{N(ad-bc)^2}{(a+b)(c+d)(a+c)(b+d)} =\n",
    "\\frac{N(ad-bc)^2}{mnrs}\n",
    "$$\n",
    "\n",
    "これは独立性に関するPearsonのχ²統計量の公式として有名である.\n",
    "\n",
    "(4) 仮説 $\\OR = \\omega$ の下での統計モデル内で同様に定義されたPearsonのχ²統計量の値がデータから計算した $\\chi^2$ の値以上になる確率の近似値としてP値を定義したい.  (一般にP値は, 統計モデル内でデータの数値以上に極端な場合が生じる確率またはその近似値として定義されるのであった.)\n",
    "\n",
    "仮に $a,b,c,d$ が現実から得たデータの数値ではなく, 仮説 $\\OR = \\omega$ の下での統計モデル内でランダムに生成された仮想的なデータであるとき, (3)のように定義された $\\chi^2$ は $a,b,c,d$ が十分に大きなとき(実はそう大きくなくてもよい), 近似的に自由度 $1$ のχ²分布に従うことを示せる.\n",
    "\n",
    "このことを使って, 仮説 $\\OR = \\omega$ のP値を次のように定義する:\n",
    "\n",
    "$$\n",
    "\\pvalue_{\\Pearson}(a,b,c,d|\\OR=\\omega) =\n",
    "1 - \\cdf(\\Chisq(1), \\chi^2).\n",
    "$$\n",
    "\n",
    "仮説 $\\OR = \\omega$ に関するデータの数値 $a,b,c,d$ に関するPearsonのχ²統計量の値 $\\chi^2 = \\chi^2(a,b,c,d|\\delta(a,b,c,d|\\omega)$ は $a,b,c,d,\\omega$ だけで計算される数値なので, これでP値が定義されている.\n",
    "\n",
    "__対応する信頼区間:__ このP値の定義に対応するオッズ比パラメータ $\\OR$ の信頼度 $1-\\alpha$ の信頼区間は次のように定義される:\n",
    "\n",
    "$$\n",
    "\\confint^{\\OR}_{\\Pearson}(a,b,c,d|\\alpha) = \n",
    "\\{\\, \\omega > 0 \\mid \\pvalue_{\\Pearson}(a,b,c,d|\\OR=\\omega) \\ge \\alpha\\,\\}.\n",
    "$$\n",
    "\n",
    "この信頼区間を計算するために使えるシンプルな公式はないように思われる.\n",
    "\n",
    "__信頼区間の計算法1:__ $\\omega$ に関する次の方程式の解を2つ求めれば, その2つがオッズ比パラメータ $\\OR$ の信頼区間の両端の値になる:\n",
    "\n",
    "$$\n",
    "\\pvalue_{\\Pearson}(a,b,c,d|\\OR=\\omega) = \\alpha.\n",
    "$$\n",
    "\n",
    "__信頼区間の計算法2:__ まず, $\\chi^2_{\\nu,\\alpha}$ を\n",
    "\n",
    "$$\n",
    "\\chi^2_{\\nu,\\alpha} = \\quantile(\\Chisq(\\nu), 1 - \\alpha)\n",
    "$$\n",
    "\n",
    "と定める. そして, $-\\min(b,c) < \\delta < \\min(a,d)$ と次を満たす $\\delta$ を2つ求める:\n",
    "\n",
    "$$\n",
    "\\chi^2(a,b,c,d|\\delta) =\n",
    "\\delta^2\n",
    "\\left(\n",
    "\\frac{1}{a-\\delta} +\n",
    "\\frac{1}{b+\\delta} +\n",
    "\\frac{1}{c+\\delta} +\n",
    "\\frac{1}{d-\\delta}\n",
    "\\right) =\n",
    "\\chi^2_{1,\\alpha}\n",
    "$$\n",
    "\n",
    "そして, それらの $\\delta$ に対して, $\\omega$ を\n",
    "\n",
    "$$\n",
    "\\omega = \\frac{(a-\\delta)(d-\\delta)}{(b+\\delta)(c+\\delta)}\n",
    "$$\n",
    "\n",
    "によって対応させれば, 信頼区間の両端の値が得られる.\n",
    "\n",
    "__文献:__ この節の構成は次の論文に書いてある方法の連続補正無し版になっている:\n",
    "\n",
    "* Jerome Cornfield, A Statistical Problem Arising from Retrospective Studies, Berkeley Symposium on Mathematical Statistics and Probability, 1956: 135-148 (1956)  [link](https://projecteuclid.org/ebooks/berkeley-symposium-on-mathematical-statistics-and-probability/Proceedings%20of%20the%20Third%20Berkeley%20Symposium%20on%20Mathematical%20Statistics%20and%20Probability,%20Volume%204:%20Contributions%20to%20Biology%20and%20Problems%20of%20Health/chapter/A%20Statistical%20Problem%20Arising%20from%20Retrospective%20Studies/bsmsp/1200502552)"
   ]
  },
  {
   "cell_type": "markdown",
   "id": "e9091492",
   "metadata": {},
   "source": [
    "### Pearsonのχ²検定版のオッズ比に関するP値と信頼区間の計算例\n",
    "\n",
    "データが次の場合のPearsonのχ²検定版仮説「オッズ比パラメータは $\\OR=1$ である」のP値とオッズ比 $\\OR$ の $95\\%$ 信頼区間を計算してみよう:\n",
    "\n",
    "$$\n",
    "\\begin{array}{c|c|c|c}\n",
    "& \\text{商品を購入した} & \\text{購入しなかった} & \\text{合計} \\\\\n",
    "\\hline\n",
    "\\text{デザインA} & 49   &  965 & 1014 \\\\\n",
    "\\hline\n",
    "\\text{デザインB} & 26   &  854 &  880 \\\\\n",
    "\\hline\n",
    "\\text{合計}      & 75   & 1819 & 1894 \\\\ \n",
    "\\end{array}\n",
    "$$\n",
    "\n",
    "結果は次のようになる:\n",
    "\n",
    "* (Pearsonのχ²検定版の仮説「オッズ比パラメータは $\\OR=1$ である」のP値) ≈ 3.661%\n",
    "* (Pearsonのχ²検定版のオッズ比パラメータ $\\OR$ の $95\\%$ 信頼区間) ≈ \\[1.0318, 2.6957\\]\n",
    "\n",
    "信頼区間ついてはJulia言語版の計算例のみを示す.  WolframAlphaでこの信頼区間を求めることはかなり面倒である."
   ]
  },
  {
   "cell_type": "markdown",
   "id": "d13aac2b",
   "metadata": {},
   "source": [
    "#### WolframAlphaによるPearsonのχ²検定のP値の計算の仕方\n",
    "\n",
    "$\\omega = 1$ の場合には, Pearsonのχ²統計量は,\n",
    "\n",
    "$$\n",
    "\\chi^2 = \\frac{(a+b+c+d)(ad-bc)^2}{(a+b)(c+d)(a+c)(b+d)}\n",
    "$$\n",
    "\n",
    "となるのであった. これを用いてP値を計算してみよう.\n",
    "\n",
    "`(a+b+c+d)(ad-bc)^2/((a+b)(c+d)(a+c)(b+d)) where a=49.0, b=965, c=26, d=854` → [実行](https://www.wolframalpha.com/input?i=%28a%2Bb%2Bc%2Bd%29%28ad-bc%29%5E2%2F%28%28a%2Bb%29%28c%2Bd%29%28a%2Bc%29%28b%2Bd%29%29+where+a%3D49.0%2C+b%3D965%2C+c%3D26%2C+d%3D854) → 4.36824 (独立性に関するPearsonのχ²統計量)\n",
    "\n",
    "`1 - cdf(ChisqDistribution(1), 4.36824)` → [実行](https://www.wolframalpha.com/input?i=1+-+cdf%28ChisqDistribution%281%29%2C+4.36824%29) → 0.0366148 (P値)"
   ]
  },
  {
   "cell_type": "markdown",
   "id": "a074240e",
   "metadata": {},
   "source": [
    "#### Julia言語によるPearsonのχ²検定版のオッズ比に関するP値と信頼区間の計算の仕方(1)\n",
    "\n",
    "$\\omega = 1$ の場合のPearsonのχ²検定版のオッズ比に関するP値は, 独立性に関するPearsonのχ²検定のP値そのものになる.  それを上でやったのと同じ方法で計算する.\n",
    "\n",
    "信頼区間の側は函数の零点を見つけてくれる函数を使って求めてみよう."
   ]
  },
  {
   "cell_type": "code",
   "execution_count": 24,
   "id": "b56344f1",
   "metadata": {},
   "outputs": [
    {
     "name": "stdout",
     "output_type": "stream",
     "text": [
      "(a, b, c, d) = (49, 965, 26, 854)\n",
      "χ² = 4.368235947209686\n",
      "pvalue = ccdf(Chisq(1), χ²) = 0.03661487827607113\n",
      "α = 0.05\n",
      "confint = [1.031778110800563, 2.6957054358850328]\n"
     ]
    }
   ],
   "source": [
    "a, b, c, d = 49, 965, 26, 854\n",
    "@show a, b, c, d\n",
    "χ² = (a+b+c+d)*(a*d-b*c)^2/((a+b)*(c+d)*(a+c)*(b+d))\n",
    "@show χ²\n",
    "@show pvalue = ccdf(Chisq(1), χ²)\n",
    "α = 0.05\n",
    "@show α\n",
    "confint = find_zeros(0.5, 3.0) do ω\n",
    "    A, B, C = 1-ω, a+d+ω*(b+c), a*d-ω*b*c\n",
    "    δ = 2C/(B + √(B^2 - 4A*C))\n",
    "    χ² = δ^2 * (1/(a-δ) + 1/(b+δ) + 1/(c+δ) + 1/(d-δ))\n",
    "    ccdf(Chisq(1), χ²) - α\n",
    "end\n",
    "@show confint;"
   ]
  },
  {
   "cell_type": "markdown",
   "id": "86d04b84",
   "metadata": {},
   "source": [
    "`f(x, y) do z ... end` 構文については\n",
    "\n",
    "* https://docs.julialang.org/en/v1/manual/functions/#Do-Block-Syntax-for-Function-Arguments\n",
    "\n",
    "を参照せよ.  `find_zeros` 函数の使い方については,\n",
    "\n",
    "* https://juliamath.github.io/Roots.jl/stable/#Basic-usage\n",
    "\n",
    "を参照せよ."
   ]
  },
  {
   "cell_type": "markdown",
   "id": "4e821f8f",
   "metadata": {},
   "source": [
    "#### Julia言語によるPearsonのχ²検定版のオッズ比に関するP値と信頼区間の計算の仕方(2)\n",
    "\n",
    "このノートブックの最初の方で定義した函数を使って計算."
   ]
  },
  {
   "cell_type": "code",
   "execution_count": 25,
   "id": "b4c1d253",
   "metadata": {},
   "outputs": [
    {
     "name": "stdout",
     "output_type": "stream",
     "text": [
      "(a, b, c, d) = (49, 965, 26, 854)\n",
      "chisqstat_or(a, b, c, d; ω = 1) = 4.368235947209686\n",
      "pvalue_or_pearson(a, b, c, d; ω = 1) = 0.03661487827607113\n",
      "confint_or_pearson(a, b, c, d; α = 0.05) = [1.031778110800563, 2.6957054358850328]\n"
     ]
    }
   ],
   "source": [
    "a, b, c, d = 49, 965, 26, 854\n",
    "@show a, b, c, d\n",
    "@show chisqstat_or(a, b, c, d; ω=1)\n",
    "@show pvalue_or_pearson(a, b, c, d; ω=1)\n",
    "@show confint_or_pearson(a, b, c, d; α=0.05);"
   ]
  },
  {
   "cell_type": "markdown",
   "id": "1b964f26",
   "metadata": {},
   "source": [
    "#### Julia言語によるPearsonのχ²検定版のオッズ比に関するP値の視覚化\n",
    "\n",
    "まず, 次の函数のグラフを描いてみよう:\n",
    "\n",
    "$$\n",
    "\\delta \\mapsto\n",
    "\\chi^2(a,b,c,d|\\delta) =\n",
    "\\delta^2\n",
    "\\left(\n",
    "\\frac{1}{a-\\delta} +\n",
    "\\frac{1}{b+\\delta} +\n",
    "\\frac{1}{c+\\delta} +\n",
    "\\frac{1}{d-\\delta}\n",
    "\\right).\n",
    "$$"
   ]
  },
  {
   "cell_type": "code",
   "execution_count": 26,
   "id": "649e3215",
   "metadata": {},
   "outputs": [
    {
     "data": {
      "image/png": "[encoded data removed]"
     },
     "execution_count": 26,
     "metadata": {},
     "output_type": "execute_result"
    }
   ],
   "source": [
    "a, b, c, d = 49, 965, 26, 854\n",
    "plot(δ -> _chisqstat_or(a,b,c,d,δ), -12, 15; label=\"\")\n",
    "plot!(; xguide=\"δ\", yguide=\"χ²(a,b,c,d|δ)\")\n",
    "title!(\"a, b, c, d = $a, $b, $c, $d\")"
   ]
  },
  {
   "cell_type": "markdown",
   "id": "f413caf1",
   "metadata": {},
   "source": [
    "このように $\\delta\\mapsto\\chi^2(a,b,c,d|\\delta)$ は $\\delta=0$ で最小値 $0$ になるU型のグラフになる.  ゆえに, $\\delta$ に関する方程式 $\\chi^2(a,b,c,d|\\delta) = \\chi^2_{1,\\alpha}$ の $-\\min(b,c) < \\delta < \\min(a,d)$ を満たす解は負値と正値の2つになる."
   ]
  },
  {
   "cell_type": "markdown",
   "id": "6a317286",
   "metadata": {},
   "source": [
    "次に, P値函数 $\\omega\\mapsto\\pvalue(a,b,c,d|\\OR=\\omega)$ のグラフを描いてみよう."
   ]
  },
  {
   "cell_type": "code",
   "execution_count": 27,
   "id": "0b166540",
   "metadata": {},
   "outputs": [
    {
     "data": {
      "image/png": "[encoded data removed]"
     },
     "execution_count": 27,
     "metadata": {},
     "output_type": "execute_result"
    }
   ],
   "source": [
    "a, b, c, d = 49, 965, 26, 854\n",
    "plot(ω -> pvalue_or_pearson(a,b,c,d;ω), 0.5, 3.5; label=\"Pearson's P-value func.\")\n",
    "vline!([oddsratiohat(a,b,c,d)]; label=\"ORhat = (ad)/(bc)\", ls=:dash)\n",
    "plot!(; xguide=\"OR = ω\", yguide=\"P-value\")\n",
    "plot!(; ytick=0:0.1:1)\n",
    "title!(\"a, b, c, d = $a, $b, $c, $d\")"
   ]
  },
  {
   "cell_type": "markdown",
   "id": "096fd0eb",
   "metadata": {},
   "source": [
    "このようにP値函数 $\\omega\\mapsto\\pvalue(a,b,c,d|\\OR=\\omega)$ は $\\omega = \\ORhat = (ad)/(bc)$ で最大値 $1$ になり, 「とんがり帽子」の形のグラフになる."
   ]
  },
  {
   "cell_type": "markdown",
   "id": "d244c3b3",
   "metadata": {},
   "source": [
    "Wald版のP値函数のグラフと重ねてプロットすると次のようになる."
   ]
  },
  {
   "cell_type": "code",
   "execution_count": 28,
   "id": "bd7d7fbc",
   "metadata": {},
   "outputs": [
    {
     "data": {
      "image/png": "[encoded data removed]"
     },
     "execution_count": 28,
     "metadata": {},
     "output_type": "execute_result"
    }
   ],
   "source": [
    "a, b, c, d = 49, 965, 26, 854\n",
    "plot(ω -> pvalue_or_pearson(a,b,c,d; ω), 0.5, 3.5; label=\"Pearson's P-value func.\")\n",
    "plot!(ω -> pvalue_or_wald(a,b,c,d; ω), 0.5, 3.5; label=\"Wald's P-value func.\", ls=:dash)\n",
    "plot!(; xguide=\"OR = ω\", yguide=\"P-value\")\n",
    "plot!(; ytick=0:0.1:1)\n",
    "title!(\"a, b, c, d = $a, $b, $c, $d\")"
   ]
  },
  {
   "cell_type": "markdown",
   "id": "fc2d4411",
   "metadata": {},
   "source": [
    "この場合には $a,b,c,d$ が十分に大きいので, ほぼぴったり重なっている!\n",
    "\n",
    "このことから, $a,b,c,d$ が十分に大きな場合には, 計算法が複雑なPearsonのχ²検定版のP値と信頼区間を使う必要がないことがわかる. そのような場合にはWald型のP値と信頼区間で実用的には十分である.\n",
    "\n",
    "P値と $95\\%$ 信頼区間も以下のようにほぼ同じになっている:\n",
    "\n",
    "* P値の比較:\n",
    "  * (Pearsonのχ²検定版の仮説「オッズ比パラメータは $\\OR=1$ である」のP値) ≈ 3.7%\n",
    "  * (Wald版の仮説「オッズ比パラメータは $\\OR=1$ である」のP値) ≈ 3.8%\n",
    "\n",
    "* 信頼区間の比較:\n",
    "  * (Pearsonのχ²検定版のオッズ比パラメータ $\\OR$ の $95\\%$ 信頼区間) ≈ \\[1.03, 2.70\\]\n",
    "  * (Wald版のオッズ比パラメータ $\\OR$ の $95\\%$ 信頼区間) ≈ \\[1.03, 2.71\\]"
   ]
  },
  {
   "cell_type": "markdown",
   "id": "71ce52d5",
   "metadata": {},
   "source": [
    "__数学的注意:__ 数学の世界では, 定義が全く異なる2つの量がある条件のもとで近似的によく一致するというようなことが起こる.  異なる動機や思想のもとで定義された2つの量が現実世界での応用では「同じ」とみなしてよいだけ近似的によく一致することがある.  そのような場合に元の動機や思想にこだわって解釈しようとすることは誤りである."
   ]
  },
  {
   "cell_type": "markdown",
   "id": "985ac52e",
   "metadata": {},
   "source": [
    "__注意:__ $a,b,c,d$ が小さい場合には違いが大きくなる場合がある."
   ]
  },
  {
   "cell_type": "code",
   "execution_count": 29,
   "id": "936b2544",
   "metadata": {},
   "outputs": [
    {
     "name": "stdout",
     "output_type": "stream",
     "text": [
      "pvalue_or_pearson(a, b, c, d) = 0.03568232934330229\n",
      "pvalue_or_wald(a, b, c, d) = 0.05563253253702121\n",
      "\n",
      "confint_or_pearson(a, b, c, d) = [1.1871236326245318, 337.7203835779612]\n",
      "confint_or_wald(a, b, c, d) = [0.930440993688474, 429.9036722514896]\n"
     ]
    }
   ],
   "source": [
    "a, b, c, d = 4, 1, 1, 5\n",
    "@show pvalue_or_pearson(a,b,c,d)\n",
    "@show pvalue_or_wald(a,b,c,d)\n",
    "println()\n",
    "@show confint_or_pearson(a,b,c,d)\n",
    "@show confint_or_wald(a,b,c,d);"
   ]
  },
  {
   "cell_type": "markdown",
   "id": "823d3cff",
   "metadata": {},
   "source": [
    "このように $a,b,c,d$ が小さい場合に信頼区間の幅はものすごく大きくなる."
   ]
  },
  {
   "cell_type": "markdown",
   "id": "a1bdb276",
   "metadata": {},
   "source": [
    "#### R言語によるPearsonのχ²検定のP値の計算の仕方\n",
    "\n",
    "独立性に関するPearsonのχ²検定のP値は次のようにして計算できる.\n",
    "\n",
    "```R\n",
    "A = matrix(c(49, 965, 26, 854), 2, 2, byrow=T)\n",
    "result = chisq.test(A, correct=F)\n",
    "```"
   ]
  },
  {
   "cell_type": "code",
   "execution_count": 30,
   "id": "bf6cd3b6",
   "metadata": {},
   "outputs": [
    {
     "data": {
      "text/plain": [
       "RObject{VecSxp}\n",
       "\n",
       "\tPearson's Chi-squared test\n",
       "\n",
       "data:  A\n",
       "X-squared = 4.3682, df = 1, p-value = 0.03661\n",
       "\n"
      ]
     },
     "execution_count": 30,
     "metadata": {},
     "output_type": "execute_result"
    }
   ],
   "source": [
    "R\"\"\"\n",
    "A = matrix(c(49, 965, 26, 854), 2, 2, byrow=T)\n",
    "result = chisq.test(A, correct=F)\n",
    "\"\"\""
   ]
  },
  {
   "cell_type": "markdown",
   "id": "8f8d6553",
   "metadata": {},
   "source": [
    "### 「オッズ比パラメータはOR=ωである」という仮説下での最尤法との関係\n",
    "\n",
    "データの数値 $a,b,c,d$ が与えらていると仮定し, $a+b=m$, $c+d=n$ であるとする."
   ]
  },
  {
   "cell_type": "markdown",
   "id": "c9ccd6da",
   "metadata": {},
   "source": [
    "#### 2つの二項分布モデル全体での最尤法\n",
    "\n",
    "2つの二項分布モデルの対数尤度函数は\n",
    "\n",
    "$$\n",
    "\\begin{aligned}\n",
    "(p,q)\\mapsto L &= \\log P(a,b,c,d|m,n,p,q)\n",
    "\\\\ &=\n",
    "\\log\\left(\\binom{m}{a}p^a(1-p)^b \\binom{n}{c}q^c(1-q)^d\\right)\n",
    "\\\\ &=\n",
    "a\\log p + b\\log(1-p) + c\\log q + d\\log(1-q) + (\\text{constant w.r.t. $p,q$}).\n",
    "\\end{aligned}\n",
    "$$\n",
    "\n",
    "なので,\n",
    "\n",
    "$$\n",
    "\\frac{\\partial L}{\\partial p} = \\frac{a}{p} - \\frac{b}{1-p} =\n",
    "\\frac{a-(a+b)p}{p(1-p)}.\n",
    "$$\n",
    "\n",
    "これより, $\\partial L/\\partial p = 0$ と $p = \\phat := a/(a+b) = a/m$ は同値になる. 同様にして, $\\partial L/\\partial q = 0$ と $q = \\qhat := c/(c+d) = c/n$ は同値になる.  このことより, 対数尤度 $L$ を最大化する $p,q$ は $\\phat=a/m$, $\\qhat=c/n$ になることがわかる.\n",
    "\n",
    "$p=\\phat=a/m$, $q=\\qhat=c/n$ のときの2つの二項分布モデルでの期待値は\n",
    "\n",
    "$$\n",
    "m\\phat=a, \\quad m(1-\\phat)=b, \\quad n\\qhat=c, \\quad n(1-\\qhat)=d\n",
    "$$\n",
    "\n",
    "になる.  これはパラメータの動く範囲に制限を付けない2つの二項分布モデルの場合には, パラメータに最尤推定値を代入して得られる確率分布(__予測分布__ という)の期待値が, データの値 $a,b,c,d$ そのものになることを意味している.\n",
    "\n",
    "__注意:__ この性質は, 4つのPoisson分布モデルでも四項分布モデルでも成立している."
   ]
  },
  {
   "cell_type": "markdown",
   "id": "ea48bd3b",
   "metadata": {},
   "source": [
    "#### 条件OR=ωで制限した2つの二項分布モデルでの最尤法\n",
    "\n",
    "$\\omega > 0$ を任意に取って固定する.\n",
    "\n",
    "条件 $\\OR=(p/(1-p))/(q/(1-q))=\\omega$ という条件の下で対数尤度を最大化する問題をLagrangeの未定乗数法を使って解こう.  函数 $(p,q,\\delta)\\mapsto M$ を次のように定める:\n",
    "\n",
    "$$\n",
    "\\begin{aligned}\n",
    "M &= L - \\delta\\left(\\log\\OR - \\log\\omega\\right)\n",
    "\\\\ &=\n",
    "a\\log p + b\\log(1-p) + c\\log q + d\\log(1-q)\n",
    "\\\\ &-\n",
    "\\delta\\left(\\log p - \\log(1-p) - \\log q + \\log(1-q) - \\log\\omega\\right) +\n",
    "\\text{const.}\n",
    "\\end{aligned}\n",
    "$$\n",
    "\n",
    "このとき,\n",
    "\n",
    "$$\n",
    "\\begin{aligned}\n",
    "\\frac{\\partial M}{\\partial p} &=\n",
    "\\frac{a}{p} - \\frac{b}{1-p} - \\frac{\\delta}{p} - \\frac{\\delta}{1-p} =\n",
    "\\frac{a-\\delta}{p} - \\frac{b+\\delta}{1-p},\n",
    "\\\\\n",
    "\\frac{\\partial M}{\\partial q} &=\n",
    "\\frac{c}{q} - \\frac{d}{1-q} + \\frac{\\delta}{q} + \\frac{\\delta}{1-q} =\n",
    "\\frac{c+\\delta}{q} - \\frac{d-\\delta}{1-q},\n",
    "\\\\-\n",
    "\\frac{\\partial M}{\\partial \\delta} &=\n",
    "\\log\\OR - \\log\\omega =\n",
    "\\log\\frac{p/(1-p)}{q/(1-q)} - \\log\\omega.\n",
    "\\end{aligned}\n",
    "$$\n",
    "\n",
    "これらがすべて $0$ になることと次が成立することは同値である:\n",
    "\n",
    "$$\n",
    "\\frac{p}{1-p} = \\frac{a-\\delta}{b+\\delta}, \\quad\n",
    "\\frac{q}{1-q} = \\frac{c+\\delta}{d-\\delta}, \\quad\n",
    "\\OR = \\frac{(a-\\delta)(d-\\delta)}{(b+\\delta)(c+\\delta)} = \\omega.\n",
    "$$\n",
    "\n",
    "ゆえに\n",
    "\n",
    "$$\n",
    "\\frac{(a-\\delta)(d-\\delta)}{(b+\\delta)(c+\\delta)} = \\omega,\n",
    "\\quad -\\min(b,c) < \\delta < \\min(a,d)\n",
    "$$\n",
    "\n",
    "を満たすように $\\delta$ を取り, $\\ptilde, \\qtilde$ を\n",
    "\n",
    "$$\n",
    "\\frac{\\ptilde}{1-\\ptilde} = \\frac{a-\\delta}{b+\\delta}, \\quad\n",
    "\\frac{\\qtilde}{1-\\qtilde} = \\frac{c+\\delta}{d-\\delta}\n",
    "$$\n",
    "\n",
    "を満たすように\n",
    "\n",
    "$$\n",
    "\\ptilde = \\frac{\\ta}{\\ta+\\tb} = \\frac{\\ta}{m}, \\quad\n",
    "\\qtilde = \\frac{\\tc}{\\tc+\\td} = \\frac{\\tc}{n}\n",
    "$$\n",
    "\n",
    "と定めれば, $p=\\ptilde$, $q=\\qtilde$ が条件 $\\OR = \\omega$ の下での最尤推定値になる.\n",
    "\n",
    "そのとき, モデルの期待値は\n",
    "\n",
    "$$\n",
    "m\\ptilde = a - \\delta, \\quad\n",
    "m(1-\\ptilde) = b + \\delta, \\quad\n",
    "n\\qtilde = c + \\delta, \\quad\n",
    "n(1-\\qtilde) = d - \\delta\n",
    "$$\n",
    "\n",
    "になる.  __これでPearsonのχ²検定版のオッズ比に関するP値の構成法の(1)のステップが本質的に条件 $\\OR = \\omega$ の下での最尤法そのものであったことがわかった.__"
   ]
  },
  {
   "cell_type": "markdown",
   "id": "b375a030",
   "metadata": {},
   "source": [
    "#### Wilks's theoremの適用\n",
    "\n",
    "[Wilks' theorem](https://en.wikipedia.org/wiki/Wilks%27_theorem)について説明しよう.\n",
    "\n",
    "適当な緩い条件のもとで, パラメータ $\\theta$, $\\eta$ を持つ統計モデル $D(\\theta, \\eta)^n$ (ただし $\\theta=(\\theta_1,\\ldots,\\theta_\\nu)$ は $\\nu$ 個の独立なパラメータ達であるとする)について以下が成立している.\n",
    "\n",
    "$X=(X_1,\\ldots,X_n)$ は分布 $D(\\theta_0, \\eta_0)^n$ 従う確率変数であると仮定する. \n",
    "\n",
    "パラメータの動ける範囲に制限を付けないモデル $D(\\theta,\\eta)^n$ における確率変数としてのデータ $X$ から得られる最尤推定量を $\\hat\\theta$, $\\hat\\eta$ と表す.\n",
    "\n",
    "パラメータの動ける範囲に $\\theta=\\theta_0$ という制限を付けたモデル $D(\\theta,\\eta)^n$ における確率変数としてのデータ $X$ から得られる最尤推定量を $\\tilde\\theta = \\theta_0$, $\\tilde\\eta$ と表す.\n",
    "\n",
    "このとき, $n$ が大きければ, 対数尤度比は自由度 $\\nu$ のχ²分布に近似的に従う:\n",
    "\n",
    "$$\n",
    "2\\log\\frac\n",
    "{(\\text{$X$ に関する $D(\\hat\\theta, \\hat\\eta)^n$ の尤度})}\n",
    "{(\\text{$X$ に関する $D(\\theta_0, \\tilde\\eta)^n$ の尤度})}\n",
    "\\sim \\Chisq(\\nu), \\quad\\text{approximately}\n",
    "$$\n",
    "\n",
    "これがWilksの定理である.  要するにパラメータの動ける範囲を $\\nu$ 次元下げた場合の最尤法を考えると, 自然に自由度 $\\nu$ のχ²分布に近似的に従う確率変数が得られるという仕組みになっている.\n",
    "\n",
    "上の結果における左辺の対数尤度比は $n\\to\\infty$ で漸近的に同値な別の確率変数に置き換えられる.\n",
    "\n",
    "例えば, 2つの二項分布モデルで $\\nu=1$, $\\theta=\\OR$, $\\theta_0=\\omega$, $\\eta=q$ のとき, 対数尤度比は分子分母が大幅にキャンセルして次のようにシンプルな式になる:\n",
    "\n",
    "$$\n",
    "2\\log\\frac\n",
    "{(a/m)^a(b/m)^b(c/n)^c(d/n)^d}\n",
    "{(\\ta/m)^a(\\tb/m)^b(\\tc/n)^c(\\td/n)^d} =\n",
    "2a\\log\\frac{a}{\\ta} +\n",
    "2b\\log\\frac{b}{\\tb} +\n",
    "2c\\log\\frac{c}{\\tc} +\n",
    "2d\\log\\frac{d}{\\td}.\n",
    "$$\n",
    "\n",
    "これに, $f(x)=2x\\log(x/\\tx)$ のとき, $f'(x)=2\\log(x/\\tx)+2$, $f''(x)=2/x$ より,\n",
    "\n",
    "$$\n",
    "2x\\log\\frac{x}{\\tilde{x}} = 2(x-\\tx) + \\frac{(x-\\tx)^2}{\\tx} + O((x-\\tx)^2)\n",
    "$$\n",
    "\n",
    "となることを適用すると, $a+b+c+d=\\ta+\\tb+\\tc+\\td$ より,\n",
    "\n",
    "$$\n",
    "\\begin{aligned}\n",
    "&\n",
    "2a\\log\\frac{a}{\\ta} +\n",
    "2b\\log\\frac{b}{\\tb} +\n",
    "2c\\log\\frac{c}{\\tc} +\n",
    "2d\\log\\frac{d}{\\td} \n",
    "\\\\ &\\approx\n",
    "\\frac{(a-\\ta)^2}{\\ta} +\n",
    "\\frac{(b-\\tb)^2}{\\tb} +\n",
    "\\frac{(c-\\tc)^2}{\\tc} +\n",
    "\\frac{(d-\\td)^2}{\\td} =\n",
    "(\\text{Pearsonのχ²統計量})\n",
    "\\end{aligned}\n",
    "$$\n",
    "\n",
    "とPearsonのχ²統計量が得られ, \n",
    "\n",
    "$$\n",
    "(\\text{Pearsonのχ²統計量})\n",
    "\\sim \\Chisq(1), \\quad\\text{approximately}\n",
    "$$\n",
    "\n",
    "が得られる.  これがPearsonのχ²検定の基礎になる.\n",
    "\n",
    "__注意:__ 以上の話を少し一般化するとPearsonのχ²統計量の一般化である __スコア統計量__ を使ったχ²検定の構成法が得られる."
   ]
  },
  {
   "cell_type": "markdown",
   "id": "c7abac02",
   "metadata": {},
   "source": [
    "### 問題: 「リスク比パラメータはRR=ρである」という仮説下での最尤法\n",
    "\n",
    "以下示せ.\n",
    "\n",
    "$\\RR = \\rho$ という条件の下での, データの数値 $a,b,c,d$ に関する2つの二項分布モデルの最尤推定値 $\\ptilde, \\qtilde$ が\n",
    "\n",
    "$$\n",
    "\\ptilde = \\frac{a-\\Delta}{a-\\Delta+b}, \\quad\n",
    "\\qtilde = \\frac{c+\\Delta}{c+\\Delta+d}\n",
    "$$\n",
    "\n",
    "になることを示せ. ただし $\\Delta$ は次の条件で定める:\n",
    "\n",
    "$$\n",
    "\\frac{(a-\\Delta)(c+\\Delta+d)}{(a-\\Delta+b)(c+\\Delta)} = \\rho,\n",
    "\\quad -c < \\Delta < a.\n",
    "$$\n",
    "\n",
    "__注意:__ パラメータの値をその最尤推定値にしたとき, 2つの二項分布モデルの期待値は次のようになる:\n",
    "\n",
    "$$\n",
    "\\begin{alignedat}{2}\n",
    "&\n",
    "m\\ptilde = \\frac{m}{m-\\Delta}(a-\\Delta), \\quad\n",
    "& &\n",
    "m(1-\\ptilde) = \\frac{m}{m-\\Delta}b,\n",
    "\\\\ &\n",
    "n\\qtilde = \\frac{n}{n+\\Delta}(c+\\Delta), \\quad\n",
    "& &\n",
    "m(1-\\qtilde) = \\frac{n}{n+\\Delta}d.\n",
    "\\end{alignedat}\n",
    "$$"
   ]
  },
  {
   "cell_type": "markdown",
   "id": "00d01758",
   "metadata": {},
   "source": [
    "__解答例:__ Lagrangeの未定乗数法をオッズ比を扱った場合と同様に用いる.\n",
    "\n",
    "函数 $(p,q,\\Delta)\\mapsto M$ を次のように定める:\n",
    "\n",
    "$$\n",
    "\\begin{aligned}\n",
    "M &= \\log P(a,b,c,d|m,n,p,q) - \\Delta(\\log\\RR - \\log\\rho)\n",
    "\\\\ &=\n",
    "a\\log p + b\\log(1-p) + c\\log q + d\\log(1-q)\n",
    "\\\\ &-\n",
    "\\Delta(\\log p - \\log q - \\log\\rho) + \\text{const.}\n",
    "\\end{aligned}\n",
    "$$\n",
    "\n",
    "このとき,\n",
    "\n",
    "$$\n",
    "\\begin{aligned}\n",
    "\\frac{\\partial M}{\\partial p} &=\n",
    "\\frac{a}{p} - \\frac{b}{1-p} - \\frac{\\Delta}{p} =\n",
    "\\frac{a-\\Delta}{p} - \\frac{b}{1-p},\n",
    "\\\\\n",
    "\\frac{\\partial M}{\\partial q} &=\n",
    "\\frac{c}{q} - \\frac{d}{1-q} + \\frac{\\Delta}{q} =\n",
    "\\frac{c+\\delta}{q} - \\frac{d}{1-q},\n",
    "\\\\-\n",
    "\\frac{\\partial M}{\\partial \\Delta} &=\n",
    "\\log\\RR - \\log\\omega =\n",
    "\\log\\frac{p}{q} - \\log\\omega.\n",
    "\\end{aligned}\n",
    "$$\n",
    "\n",
    "これらがすべて $0$ になることと次が成立することは同値である:\n",
    "\n",
    "$$\n",
    "\\frac{p}{1-p} = \\frac{a-\\Delta}{b}, \\quad\n",
    "\\frac{q}{1-q} = \\frac{c+\\Delta}{d}, \\quad\n",
    "\\RR = \\frac{p}{q} = \\rho.\n",
    "$$\n",
    "\n",
    "さらに\n",
    "$$\n",
    "\\frac{p}{1-p} = \\frac{a-\\Delta}{b}, \\quad\n",
    "\\frac{q}{1-q} = \\frac{c+\\Delta}{d}\n",
    "$$\n",
    "\n",
    "と\n",
    "\n",
    "$$\n",
    "p = \\ptilde := \\frac{a-\\Delta}{a-\\Delta+b}, \\quad\n",
    "q = \\qtilde := \\frac{c+\\Delta}{c+\\Delta+d}\n",
    "$$\n",
    "\n",
    "は同値であり, これが成立しているとき, $\\RR = {p}/{q} = \\rho$ は\n",
    "\n",
    "$$\n",
    "\\frac{(a-\\Delta)(c+\\Delta+d)}{(a-\\Delta+b)(c+\\Delta)} = \\rho\n",
    "$$\n",
    "\n",
    "と同値である.  これと $-c<\\Delta<a$ を満たす $\\Delta$ を取って, すぐ上の式で $\\ptilde$, $\\qtilde$ を定義すると, $p=\\ptilde$, $q=\\qtilde$ が $\\RR=\\rho$ という条件の下での最尤推定量になる.\n",
    "\n",
    "__解答終__"
   ]
  },
  {
   "cell_type": "markdown",
   "id": "aa87787d",
   "metadata": {},
   "source": [
    "### 問題: Pearsonのχ²検定版のリスク比に関するP値と信頼区間の定義\n",
    "\n",
    "上の問題の結果を用いてPearsonのχ²検定版のリスク比に関するP値と信頼区間を適切に定義せよ.\n",
    "\n",
    "__注意:__ 適切な定義を自分で考えることは物事を楽に理解するために必要なことである."
   ]
  },
  {
   "cell_type": "markdown",
   "id": "54eab302",
   "metadata": {},
   "source": [
    "__解答例:__ $\\Delta$ を\n",
    "\n",
    "$$\n",
    "\\frac{(a-\\Delta)(n+\\Delta)}{(m-\\Delta)(c+\\Delta)} = \\rho,\n",
    "\\quad -c < \\Delta < a.\n",
    "$$\n",
    "\n",
    "という条件で定める. このような $\\Delta$ は\n",
    "\n",
    "$$\n",
    "A = \\rho - 1, \\quad\n",
    "B = n-a+\\rho(m-c), \\quad\n",
    "C = an-\\rho mc\n",
    "$$\n",
    "\n",
    "と置き,\n",
    "\n",
    "$$\n",
    "\\Delta = \\frac{2C}{B + \\sqrt{B^2 - 4AC}}\n",
    "$$\n",
    "\n",
    "とおけば求まる. さらに, $\\ta,\\tb,\\tc,\\td$ を次のように定める:\n",
    "\n",
    "$$\n",
    "\\begin{alignedat}{2}\n",
    "&\n",
    "\\ta = \\frac{m}{m-\\Delta}(a-\\Delta), \\quad\n",
    "& &\n",
    "\\tb = \\frac{m}{m-\\Delta}b,\n",
    "\\\\ &\n",
    "\\tc = \\frac{n}{n+\\Delta}(c+\\Delta), \\quad\n",
    "& &\n",
    "\\td = \\frac{n}{n+\\Delta}d.\n",
    "\\end{alignedat}\n",
    "$$\n",
    "\n",
    "このとき, $(\\ta/m)/(\\tc/n) = \\rho$ となっていることに注意せよ.\n",
    "\n",
    "Pearsonのχ²統計量 $\\chi^2$ を次のように定める:\n",
    "\n",
    "$$\n",
    "\\chi^2 =\n",
    "\\frac{(a-\\ta)^2}{\\ta} +\n",
    "\\frac{(b-\\tb)^2}{\\tb} +\n",
    "\\frac{(c-\\tc)^2}{\\tc} +\n",
    "\\frac{(d-\\td)^2}{\\td}.\n",
    "$$\n",
    "\n",
    "上の定義のもとで,\n",
    "\n",
    "$$\n",
    "\\begin{alignedat}{2}\n",
    "&\n",
    "a-\\ta = \\frac{b\\Delta}{m-\\Delta}, \\quad\n",
    "& &\n",
    "b-\\tb = \\frac{-b\\Delta}{m-\\Delta},\n",
    "\\\\ &\n",
    "c-\\tc = \\frac{-d\\Delta}{n+\\Delta}, \\quad\n",
    "& &\n",
    "d-\\td = \\frac{d\\Delta}{n+\\Delta}\n",
    "\\end{alignedat}\n",
    "$$\n",
    "\n",
    "でかつ\n",
    "\n",
    "$$\n",
    "\\frac{1}{\\ta}+\\frac{1}{\\tb} = \\frac{(m-\\Delta)^2}{m(a-\\Delta)b}, \\quad\n",
    "\\frac{1}{\\tc}+\\frac{1}{\\td} = \\frac{(n+\\Delta)^2}{n(c+\\Delta)d}\n",
    "$$\n",
    "\n",
    "なので,\n",
    "\n",
    "$$\n",
    "\\frac{(a-\\ta)^2}{\\ta} +\n",
    "\\frac{(b-\\tb)^2}{\\tb} =\n",
    "\\frac{b\\Delta^2}{m(a-\\Delta)}, \\quad\n",
    "\\frac{(c-\\ta)^2}{\\tc} +\n",
    "\\frac{(d-\\tb)^2}{\\td} =\n",
    "\\frac{d\\Delta^2}{n(c+\\Delta)}\n",
    "$$\n",
    "\n",
    "となることより,\n",
    "\n",
    "$$\n",
    "\\chi^2 = \\Delta^2\\left(\n",
    "\\frac{b}{m(a-\\Delta)} + \\frac{d}{n(c+\\Delta)}\n",
    "\\right).\n",
    "$$\n",
    "\n",
    "仮説「リスク比パラメータは $\\RR=\\rho$ である」のP値を次のように定めることができる:\n",
    "\n",
    "$$\n",
    "\\pvalue_{\\Pearson}(a,b,c,d|\\RR=\\rho) = 1 - \\cdf(\\Chisq(1), \\chi^2).\n",
    "$$\n",
    "\n",
    "これに対応するリスク比パラメータ $\\RR$ の信頼度 $1-\\alpha$ の信頼区間は\n",
    "\n",
    "$$\n",
    "\\confint^{\\RR}_{\\Pearson}(a,b,c,d|\\alpha) =\n",
    "\\{\\rho > 0 \\mid \\pvalue_{\\Pearson}(a,b,c,d|\\RR=\\rho) \\ge \\alpha\\,\\}.\n",
    "$$\n",
    "\n",
    "になる.\n",
    "\n",
    "__解答終__"
   ]
  },
  {
   "cell_type": "markdown",
   "id": "d20c2e8c",
   "metadata": {},
   "source": [
    "### 問題: Pearsonのχ²検定版のリスク比に関するP値と信頼区間の計算例\n",
    "\n",
    "データが次の場合のPearsonのχ²検定版の仮説「リスク比パラメータは $\\RR=1$ である」のP値とリスク比パラメータ $\\RR$ の $95\\%$ 信頼区間を計算してみよ:\n",
    "\n",
    "$$\n",
    "\\begin{array}{c|c|c|c}\n",
    "& \\text{商品を購入した} & \\text{購入しなかった} & \\text{合計} \\\\\n",
    "\\hline\n",
    "\\text{デザインA} & 49   &  965 & 1014 \\\\\n",
    "\\hline\n",
    "\\text{デザインB} & 26   &  854 &  880 \\\\\n",
    "\\hline\n",
    "\\text{合計}      & 75   & 1819 & 1894 \\\\ \n",
    "\\end{array}\n",
    "$$"
   ]
  },
  {
   "cell_type": "markdown",
   "id": "3925f215",
   "metadata": {},
   "source": [
    "#### Julia言語によるPearsonのχ²検定版のリスク比に関するP値と信頼区間の計算例"
   ]
  },
  {
   "cell_type": "code",
   "execution_count": 31,
   "id": "da5263a0",
   "metadata": {},
   "outputs": [
    {
     "name": "stdout",
     "output_type": "stream",
     "text": [
      "oddsratiohat(a, b, c, d) = 1.6678357911518533\n",
      "riskratiohat(a, b, c, d) = 1.635563647397967\n",
      "pvalue_rr_wald(a, b, c, d) = 0.038895117565198624\n",
      "pvalue_or_wald(a, b, c, d) = 0.03847043006362489\n",
      "pvalue_rr_pearson(a, b, c, d) = 0.03661487827607109\n",
      "pvalue_or_pearson(a, b, c, d) = 0.03661487827607113\n",
      "confint_rr_wald(a, b, c, d) = [1.025408984412048, 2.6087819449169145]\n",
      "confint_or_wald(a, b, c, d) = [1.0275181208761617, 2.7071797272783877]\n",
      "confint_rr_pearson(a, b, c, d) = [1.03047149323473, 2.5998459013273476]\n",
      "confint_or_pearson(a, b, c, d) = [1.031778110800563, 2.6957054358850328]\n"
     ]
    }
   ],
   "source": [
    "a, b, c, d = 49, 965, 26, 854\n",
    "@show oddsratiohat(a, b, c, d)\n",
    "@show riskratiohat(a, b, c, d)\n",
    "@show pvalue_rr_wald(a, b, c, d)\n",
    "@show pvalue_or_wald(a, b, c, d)\n",
    "@show pvalue_rr_pearson(a, b, c, d)\n",
    "@show pvalue_or_pearson(a, b, c, d)\n",
    "@show confint_rr_wald(a, b, c, d)\n",
    "@show confint_or_wald(a, b, c, d)\n",
    "@show confint_rr_pearson(a, b, c, d)\n",
    "@show confint_or_pearson(a, b, c, d);"
   ]
  },
  {
   "cell_type": "markdown",
   "id": "3ae8fae9",
   "metadata": {},
   "source": [
    "#### Julia言語によるPearsonのχ²検定版のリスク比に関するP値函数の視覚化"
   ]
  },
  {
   "cell_type": "code",
   "execution_count": 32,
   "id": "4567e9cf",
   "metadata": {},
   "outputs": [
    {
     "data": {
      "image/png": "[encoded data removed]"
     },
     "execution_count": 32,
     "metadata": {},
     "output_type": "execute_result"
    }
   ],
   "source": [
    "a, b, c, d = 49, 965, 26, 854\n",
    "plot(ρ -> pvalue_rr_pearson(a,b,c,d; ρ), 0.5, 3.5; label=\"Pearson's P-value func.\")\n",
    "plot!(ρ -> pvalue_rr_wald(a,b,c,d; ρ), 0.5, 3.5; label=\"Wald's P-value func.\", ls=:dash)\n",
    "plot!(; xguide=\"RR = ρ\", yguide=\"P-value\")\n",
    "plot!(; ytick=0:0.1:1)\n",
    "title!(\"a, b, c, d = $a, $b, $c, $d\")"
   ]
  },
  {
   "cell_type": "markdown",
   "id": "9aa93fa1",
   "metadata": {},
   "source": [
    "この場合には $a,b,c,d$ が十分に大きいので, ほぼぴったり重なっている!"
   ]
  },
  {
   "cell_type": "markdown",
   "id": "86891210",
   "metadata": {},
   "source": [
    "#### Pearsonのχ²検定版のリスク比に関するP値と信頼区間の計算の解答例\n",
    "\n",
    "* (Pearsonのχ²検定版の仮説「リスク比パラメータは $\\RR=1$ である」のP値) ≈ 3.661%\n",
    "* (Pearsonのχ²検定版のリスク比パラメータ $\\RR$ の $95\\%$ 信頼区間) ≈ \\[1.0305, 2.5998\\]"
   ]
  },
  {
   "cell_type": "markdown",
   "id": "e9a2e231",
   "metadata": {},
   "source": [
    "### ニューサンスパラメータの問題に関する注意\n",
    "\n",
    "我々が想定している統計モデルには $p$ と $q$ という2つのパラメータが含まれている. そこに仮説 $\\OR = \\omega$ によって制限を課しても, 独立なパラメータの個数は1つしか減らず, たとえば $q$ の側を自由に動けるパラメータとして採用し, 仮説 $\\OR=\\omega$ によって $p$ の値は $q$ の値から決まると考えることができる. \n",
    "\n",
    "だから, P値を定義するために必要な「仮説 $\\OR = \\omega$ の下での統計モデル内でデータの数値以上に極端な値が生じる確率」は, パラメータ $q$ の値を決めるごとに別々に決まる値になってしまう.  このような状況のとき, $q$ はニューサンスパラメータ(nuisance parameter, 局外パラメータ, 攪乱パラメータ, 迷惑パラメータ)であるという.\n",
    "\n",
    "しかし, 「データの数値以上に極端な値」の意味を, Wald的な正規分布近似を使ったり, Pearsonのχ²統計量を使ったりして定義すれば, 「仮説 $\\OR = \\omega$ の下での統計モデル内でデータの数値以上に極端な値が生じる確率」が, $a,b,c,d$ が十分に大きなとき, 近似的にパラメータ $q$ の値によらなくなることを示せる.\n",
    "\n",
    "以上で紹介したP値の定義にはこのような非常に巧妙な方法が使われている.\n",
    "\n",
    "ニューサンスパラメータの問題への対処の仕方にはそれら以外にも, 以下の節で説明する条件付き確率分布を利用する方法がある. その方法による検定は __Fisher検定__ と呼ばれている."
   ]
  },
  {
   "cell_type": "markdown",
   "id": "f4df3d30",
   "metadata": {},
   "source": [
    "## Fisher検定版のオッズ比に関するP値と信頼区間"
   ]
  },
  {
   "cell_type": "markdown",
   "id": "f568d17a",
   "metadata": {},
   "source": [
    "### 条件付き確率分布を利用するアイデア\n",
    "\n",
    "2つの二項分布モデルの確率質量函数は\n",
    "\n",
    "$$\n",
    "\\begin{aligned}\n",
    "&\n",
    "P(a,b,c,d|m,n,p,q) =\n",
    "\\binom{m}{a}p^a(1-p)^b \\binom{n}{c}q^c(1-q)^d\n",
    "\\\\ &\n",
    "\\qquad\\qquad\n",
    "(a,b,c,d\\in\\Z_{\\ge 0},\\; a+b=m,\\; c+d=n).\n",
    "\\end{aligned}\n",
    "$$\n",
    "\n",
    "と書けるのであった.  この分布を条件 $a+c=r$ (そのとき $b+d=m+n-r$)という条件で制限して得られる条件付き確率分布を求めてみよう. パラメータのオッズ比 $\\OR$ を\n",
    "\n",
    "$$\n",
    "\\OR = \\frac{p(1-q)}{(1-p)q}\n",
    "$$\n",
    "\n",
    "と定めると, 条件 $a+b=m$, $c+d=n$, $a+c=r$ の下で,\n",
    "\n",
    "$$\n",
    "\\begin{alignedat}{4}\n",
    "\\\\ & a = a, \\quad\n",
    "& &  b = m - a, \\quad\n",
    "& &  c = r - a, \\quad\n",
    "& &  d = n-r+a,\n",
    "\\\\ & a \\ge 0, \\quad\n",
    "& &  a \\le m, \\quad\n",
    "& &  a \\le r, \\quad\n",
    "& &  a \\ge r-n\n",
    "\\end{alignedat}\n",
    "$$\n",
    "\n",
    "が成立しているので, 上の確率質量函数は\n",
    "\n",
    "$$\n",
    "P(a,b,c,d|m,n,p,q) =\n",
    "\\binom{m}{a}\\binom{n}{r-a} (1-p)^m q^r (1-q)^{n-r} (\\OR)^a\n",
    "\\propto \\binom{m}{a}\\binom{n}{r-a} (\\OR)^a\n",
    "$$\n",
    "\n",
    "ゆえに\n",
    "\n",
    "$$\n",
    "Z(m,n,r,\\OR) = \\sum_a \\binom{m}{a}\\binom{n}{r-a} (\\OR)^a\n",
    "$$\n",
    "\n",
    "とおいて, 確率質量函数 $P(a|m,n,r,\\OR)$ を\n",
    "\n",
    "$$\n",
    "P(a|m,n,r,\\OR) = \\frac{1}{Z(m,n,r,\\OR)} \\binom{m}{a}\\binom{n}{r-a} (\\OR)^a\n",
    "\\quad (\\max(0,r-n)\\le a \\le \\min(m,r))\n",
    "$$\n",
    "\n",
    "と定義すると, この確率質量函数で定義される確率分布が条件 $a+c=r$ で2つの二項分布モデルを制限して得られる条件付き確率分布になる. この確率分布を __Fisherの非心超幾何分布__ (Fisher's noncentral hypergeometric distribution)と呼び,\n",
    "\n",
    "$$\n",
    "\\FisherNoncentralHypergeometric(m, n, r, \\OR)\n",
    "$$\n",
    "\n",
    "と表すことにする.\n",
    "\n",
    "このように, 条件 $a+c=r$ によって条件付き確率分布に移れば, モデルのパラメータはオッズ比パラメータ $\\OR$ だけになる.  ニューサンスパラメータ(nuisance parameter, 局外パラメータ, 攪乱パラメータ, 迷惑パラメータ)がなくなるのである!\n",
    "\n",
    "だから, 2×2の分割表のデータの数値 $a,b,c,d$ が得られたたときに, $a+b=m$, $c+d=n$, $a+c=r$, $b+d=m+n-r$ という縦と横方向のすべての合計(すべてのマージン)の値を固定することによって得られる条件付き確率分布(Fisherの非心超幾何分布)に移って, 「データの数値以上に極端な値が生じる確率」を正確に求めることによってP値が定義できることがわかる.  P値の定義の方法は二項分布モデルの場合にならえばよい.\n",
    "\n",
    "この方法には利点と欠点がある.\n",
    "\n",
    "* __利点:__　Wald版やPearsonのχ²検定版と違って, 確率の計算を近似計算にする必要がなくなる.  それによって, 第一種の過誤が起こる確率を確実に有意水準以下にできる.\n",
    "\n",
    "* __欠点:__　有限離散分布では分布によって生じる値の個数が減ると, 確率を正確に計算する方法で定義されたP値について, 第一種の過誤の確率が有意水準よりも真に小さくなってしまうことが普通になる.  しかもそれを条件付き確率分布に移ることによて行うと, 第一種の過誤の確率が有意水準よりも大幅に小さくなってしまう場合が出て来る.\n",
    "\n",
    "第一種の過誤の確率を確実に有意水準以下にしたい場合にはFisher検定は優れた方法になるが, 検出力はその分だけ下がってしまうという欠点がある.  利点と欠点を理解して, 自分の目的に合わせて適切な道具を使えばよいだろう.\n",
    "\n",
    "__注意:__ Fisherの非心超幾何分布を $\\OR=1$ に特殊化すると, 超幾何分布が得られる:\n",
    "\n",
    "$$\n",
    "P(a|m,n,r,1) = \\binom{m+n}{r}^{-1} \\binom{m}{a}\\binom{n}{r-a}\n",
    "\\quad (\\max(0,r-n)\\le a \\le \\min(m,r)).\n",
    "$$\n",
    "\n",
    "この確率は, 赤い玉が $m$ 個, 白い玉が $n$ 個入っている壺から, $r$ 個の玉を無作為に取り出すときに(非復元抽出, $r$ 個をまとめて一度に取り出す様子を想像すればよい), 取り出した $r$ 個の玉の中に含まれる赤い玉の個数が $a$ 個になる確率だと解釈される."
   ]
  },
  {
   "cell_type": "markdown",
   "id": "ae33e07d",
   "metadata": {},
   "source": [
    "### Sterne型のFisher検定のP値とそれに付随する信頼区間の定義\n",
    "\n",
    "前節の記号の下で, データの数値 $a,b,c,d$ に対して, $m=a+b$, $n=c+d$, $r=a+c$ とおき, 仮説「オッズ比パラメータは $\\OR=\\omega$ である」のSterne型のP値を次のように定める:\n",
    "\n",
    "$$\n",
    "\\pvalue_{\\Sterne}(a,b,c,d|\\OR=\\omega) =\n",
    "\\sum_{P(i|m,n,r,\\omega)\\le P(a|m,n,r,\\omega)} P(i|m,n,r,\\omega).\n",
    "$$\n",
    "\n",
    "これに対応する信頼度 $1-\\alpha$ の信頼区間を\n",
    "\n",
    "$$\n",
    "\\confint^{\\OR}_{\\Sterne}(a,b,c,d|\\alpha) =\n",
    "\\{\\, \\omega > 0 \\mid \\pvalue_{\\Sterne}(a,b,c,d|\\OR=\\omega)\\ge\\alpha\\,\\}\n",
    "$$\n",
    "\n",
    "によって定める.  もしくは, 実用的には, これの上限と下限に挟まれた区間として, $\\confint_{\\Sterne}(a,b,c,d|\\OR=\\omega)$ を定義し直したものを使用する. (このノートでの実装ではそうなっている.)"
   ]
  },
  {
   "cell_type": "markdown",
   "id": "60f77a6b",
   "metadata": {},
   "source": [
    "### Clopper-Pearson型のFisher検定のP値とそれに付随する信頼区間\n",
    "\n",
    "さらに続けて, Clopper-Pearson型のP値を次のように定める:\n",
    "\n",
    "$$\n",
    "\\pvalue_{\\CP}(a,b,c,d|\\OR=\\omega) =\n",
    "\\min\\begin{pmatrix}\n",
    "1 \\\\\n",
    "2\\cdf(\\FisherNoncentralHypergeometric(a+b, c+d, a+c, \\omega), a) \\\\\n",
    "2(1 - \\cdf(\\FisherNoncentralHypergeometric(a+b, c+d, a+c, \\omega), a-1)) \\\\\n",
    "\\end{pmatrix}\n",
    "$$\n",
    "\n",
    "これに対応する信頼度 $1-\\alpha$ の信頼区間を\n",
    "\n",
    "$$\n",
    "\\confint^{\\OR}_{\\CP}(a,b,c,d|\\alpha) =\n",
    "\\{\\, \\omega > 0 \\mid \\pvalue_{\\CP}(a,b,c,d|\\OR=\\omega)\\ge\\alpha\\,\\}\n",
    "$$\n",
    "\n",
    "によって定める."
   ]
  },
  {
   "cell_type": "markdown",
   "id": "e3c034d8",
   "metadata": {},
   "source": [
    "### 問題: Fisher検定版のオッズ比に関するP値と信頼区間の計算例\n",
    "\n",
    "以下のデータについて, Sterne型およびClopper-Pearsonの型の2種類のFisher検定のP値とそれに付随する信頼区間を計算せよ:\n",
    "\n",
    "$$\n",
    "\\begin{array}{c|c|c|c}\n",
    "& \\text{商品を購入した} & \\text{購入しなかった} & \\text{合計} \\\\\n",
    "\\hline\n",
    "\\text{デザインA} & 49   &  965 & 1014 \\\\\n",
    "\\hline\n",
    "\\text{デザインB} & 26   &  854 &  880 \\\\\n",
    "\\hline\n",
    "\\text{合計}      & 75   & 1819 & 1894 \\\\ \n",
    "\\end{array}\n",
    "$$\n",
    "\n",
    "ただし, 検定する仮説は「オッズ比パラメータ $\\OR=1$ である」であるとし(独立性に関するFisher検定の場合), 求める信頼区間は信頼度 $95\\%$ のオッズ比パラメータの信頼区間であるとする. "
   ]
  },
  {
   "cell_type": "markdown",
   "id": "84dccb51",
   "metadata": {},
   "source": [
    "#### Julia言語によるFisher検定版のオッズ比に関するP値と信頼区間の計算例"
   ]
  },
  {
   "cell_type": "code",
   "execution_count": 33,
   "id": "f4122aba",
   "metadata": {},
   "outputs": [
    {
     "name": "stdout",
     "output_type": "stream",
     "text": [
      "oddsratiohat(a, b, c, d) = 1.6678357911518533\n",
      "pvalue_or_wald(a, b, c, d) = 0.03847043006362489\n",
      "pvalue_or_pearson(a, b, c, d) = 0.03661487827607113\n",
      "pvalue_or_sterne(a, b, c, d) = 0.04407901464506375\n",
      "pvalue_or_clopper_pearson(a, b, c, d) = 0.04708076157076113\n",
      "confint_or_wald(a, b, c, d) = [1.0275181208761617, 2.7071797272783877]\n",
      "confint_or_pearson(a, b, c, d) = [1.031778110800563, 2.6957054358850328]\n",
      "confint_or_sterne(a, b, c, d) = [1.0202716568785046, 2.7656505208089848]\n",
      "confint_or_clopper_pearson(a, b, c, d) = [1.0061031380773773, 2.8212565352058787]\n"
     ]
    }
   ],
   "source": [
    "a, b, c, d = 49, 965, 26, 854\n",
    "@show oddsratiohat(a, b, c, d)\n",
    "@show pvalue_or_wald(a, b, c, d)\n",
    "@show pvalue_or_pearson(a, b, c, d)\n",
    "@show pvalue_or_sterne(a, b, c, d)\n",
    "@show pvalue_or_clopper_pearson(a, b, c, d)\n",
    "@show confint_or_wald(a, b, c, d)\n",
    "@show confint_or_pearson(a, b, c, d)\n",
    "@show confint_or_sterne(a, b, c, d)\n",
    "@show confint_or_clopper_pearson(a, b, c, d);"
   ]
  },
  {
   "cell_type": "markdown",
   "id": "5c4c06b0",
   "metadata": {},
   "source": [
    "#### Julia言語によるFisher²検定のオッズ比に関するP値函数の視覚化"
   ]
  },
  {
   "cell_type": "code",
   "execution_count": 34,
   "id": "961ea829",
   "metadata": {},
   "outputs": [
    {
     "data": {
      "image/png": "[encoded data removed]"
     },
     "execution_count": 34,
     "metadata": {},
     "output_type": "execute_result"
    }
   ],
   "source": [
    "a, b, c, d = 49, 965, 26, 854\n",
    "plot(ω -> pvalue_or_sterne(a,b,c,d; ω), 0.5, 3.5; label=\"Fisher (Sterne)\")\n",
    "plot!(ω -> pvalue_or_clopper_pearson(a,b,c,d; ω), 0.5, 3.5; label=\"Fisher (CP)\")\n",
    "plot!(ω -> pvalue_or_wald(a,b,c,d; ω), 0.5, 3.5; label=\"Wald\")\n",
    "plot!(ω -> pvalue_or_pearson(a,b,c,d; ω), 0.5, 3.5; label=\"Pearson\", ls=:dash)\n",
    "plot!(; xguide=\"OR = ω\", yguide=\"P-value\")\n",
    "plot!(; ytick=0:0.1:1)\n",
    "title!(\"a, b, c, d = $a, $b, $c, $d\")\n",
    "plot!(size=(600, 300))"
   ]
  },
  {
   "cell_type": "markdown",
   "id": "4379f763",
   "metadata": {},
   "source": [
    "Wald型とPearson型のP値函数はほぼぴったり一致している.\n",
    "\n",
    "2種のFisher検定にP値函数はそれらと一致していないが, 互いに相手を近似しあう関係になっている."
   ]
  },
  {
   "cell_type": "markdown",
   "id": "0ef75da0",
   "metadata": {},
   "source": [
    "#### R言語によるFisher検定版のP値と信頼区間の計算の仕方\n",
    "\n",
    "Sterne型の独立性検定の場合のP値とClopper-Pearson型のオッズ比の信頼区間をR言語の `fisher.test` 函数で求めることができる.\n",
    "\n",
    "```R\n",
    "A = matrix(c(49, 965, 26, 854), 2, 2, byrow=T)\n",
    "result = fisher.test(A)\n",
    "```"
   ]
  },
  {
   "cell_type": "code",
   "execution_count": 35,
   "id": "3bee9c0d",
   "metadata": {},
   "outputs": [
    {
     "data": {
      "text/plain": [
       "RObject{VecSxp}\n",
       "\n",
       "\tFisher's Exact Test for Count Data\n",
       "\n",
       "data:  A\n",
       "p-value = 0.04408\n",
       "alternative hypothesis: true odds ratio is not equal to 1\n",
       "95 percent confidence interval:\n",
       " 1.006104 2.821251\n",
       "sample estimates:\n",
       "odds ratio \n",
       "  1.667393 \n",
       "\n"
      ]
     },
     "execution_count": 35,
     "metadata": {},
     "output_type": "execute_result"
    }
   ],
   "source": [
    "R\"\"\"\n",
    "A = matrix(c(49, 965, 26, 854), 2, 2, byrow=T)\n",
    "result = fisher.test(A)\n",
    "\"\"\""
   ]
  },
  {
   "cell_type": "markdown",
   "id": "c93cb815",
   "metadata": {},
   "source": [
    "R言語の `fisher.test` では表示されるP値と信頼区間のあいだに整合性が無くなる場合が出て来てしまう."
   ]
  },
  {
   "cell_type": "code",
   "execution_count": 36,
   "id": "059401cb",
   "metadata": {},
   "outputs": [
    {
     "data": {
      "text/plain": [
       "RObject{VecSxp}\n",
       "\n",
       "\tFisher's Exact Test for Count Data\n",
       "\n",
       "data:  matrix(c(16, 4, 4, 6), 2, 2, byrow = T)\n",
       "p-value = 0.04486\n",
       "alternative hypothesis: true odds ratio is not equal to 1\n",
       "95 percent confidence interval:\n",
       "  0.8602909 44.0017191\n",
       "sample estimates:\n",
       "odds ratio \n",
       "  5.585888 \n",
       "\n"
      ]
     },
     "execution_count": 36,
     "metadata": {},
     "output_type": "execute_result"
    }
   ],
   "source": [
    "R\"\"\"\n",
    "result = fisher.test(matrix(c(16, 4, 4, 6), 2, 2, byrow=T))\n",
    "\"\"\""
   ]
  },
  {
   "cell_type": "markdown",
   "id": "5f63beb8",
   "metadata": {},
   "source": [
    "仮説「オッズ比パラメータは $1$ である」のP値が $5\\%$ を切っているのに, $95\\%$ 信頼区間に $1$ が含まれてしまっている."
   ]
  },
  {
   "cell_type": "markdown",
   "id": "f109f778",
   "metadata": {},
   "source": [
    "この問題は exact2x2 パッケージを利用すれば解決する.\n",
    "\n",
    "```R\n",
    "exact2x2::exact2x2(matrix(c(16, 4, 4, 6), 2, 2, byrow=T), plot=T)\n",
    "```\n",
    "\n",
    "```R\n",
    "exact2x2::exact2x2(matrix(c(16, 4, 4, 6), 2, 2, byrow=T), tsmethod=\"central\", plot=T)\n",
    "```\n",
    "\n",
    "`exact2x2` 函数では `tsmethod=\"minlik\"` がSterne型を意味し, `tsmethod=\"central\"` がClopper-Pearson型を意味している."
   ]
  },
  {
   "cell_type": "code",
   "execution_count": 37,
   "id": "d0146784",
   "metadata": {},
   "outputs": [
    {
     "data": {
      "image/png": "[encoded data removed]"
     },
     "metadata": {},
     "output_type": "display_data"
    },
    {
     "data": {
      "text/plain": [
       "RObject{VecSxp}\n",
       "\n",
       "\tTwo-sided Fisher's Exact Test (usual method using minimum likelihood)\n",
       "\n",
       "data:  matrix(c(16, 4, 4, 6), 2, 2, byrow = T)\n",
       "p-value = 0.04486\n",
       "alternative hypothesis: true odds ratio is not equal to 1\n",
       "95 percent confidence interval:\n",
       "  1.0549 32.6994\n",
       "sample estimates:\n",
       "odds ratio \n",
       "  5.585888 \n",
       "\n"
      ]
     },
     "execution_count": 37,
     "metadata": {},
     "output_type": "execute_result"
    }
   ],
   "source": [
    "R\"\"\"\n",
    "exact2x2::exact2x2(matrix(c(16, 4, 4, 6), 2, 2, byrow=T), plot=T)\n",
    "\"\"\""
   ]
  },
  {
   "cell_type": "code",
   "execution_count": 38,
   "id": "e4c73cde",
   "metadata": {},
   "outputs": [
    {
     "data": {
      "image/png": "[encoded data removed]"
     },
     "metadata": {},
     "output_type": "display_data"
    },
    {
     "data": {
      "text/plain": [
       "RObject{VecSxp}\n",
       "\n",
       "\tCentral Fisher's Exact Test\n",
       "\n",
       "data:  matrix(c(16, 4, 4, 6), 2, 2, byrow = T)\n",
       "p-value = 0.07742\n",
       "alternative hypothesis: true odds ratio is not equal to 1\n",
       "95 percent confidence interval:\n",
       "  0.8602909 44.0017191\n",
       "sample estimates:\n",
       "odds ratio \n",
       "  5.585888 \n",
       "\n"
      ]
     },
     "execution_count": 38,
     "metadata": {},
     "output_type": "execute_result"
    }
   ],
   "source": [
    "R\"\"\"\n",
    "exact2x2::exact2x2(matrix(c(16, 4, 4, 6), 2, 2, byrow=T), tsmethod=\"central\", plot=T)\n",
    "\"\"\""
   ]
  },
  {
   "cell_type": "code",
   "execution_count": 39,
   "id": "6b4899e1",
   "metadata": {},
   "outputs": [
    {
     "data": {
      "image/png": "[encoded data removed]"
     },
     "execution_count": 39,
     "metadata": {},
     "output_type": "execute_result"
    }
   ],
   "source": [
    "a, b, c, d = 16, 4, 4, 6\n",
    "plot(ω -> pvalue_or_sterne(a,b,c,d; ω), 0.5, 80; label=\"Fisher (Sterne)\")\n",
    "plot!(ω -> pvalue_or_clopper_pearson(a,b,c,d; ω), 0.5, 80; label=\"Fisher (CP)\")\n",
    "plot!(ω -> pvalue_or_wald(a,b,c,d; ω), 0.5, 80; label=\"Wald\")\n",
    "plot!(ω -> pvalue_or_pearson(a,b,c,d; ω), 0.5, 80; label=\"Pearson\", ls=:dash)\n",
    "plot!(; xguide=\"OR = ω\", yguide=\"P-value\")\n",
    "plot!(; ytick=0:0.1:1)\n",
    "title!(\"a, b, c, d = $a, $b, $c, $d\")\n",
    "plot!(; size=(500, 250))\n",
    "plot!(; xscale=:log, xtick=([1,2,5,10,20,50], string.([1,2,5,10,20,50])))"
   ]
  },
  {
   "cell_type": "markdown",
   "id": "c63b5358",
   "metadata": {},
   "source": [
    "#### Fisher検定版のオッズ比に関するP値と信頼区間の計算の解答例\n",
    "\n",
    "P値\n",
    "\n",
    "* (Sterne型のFisher検定版の仮説「オッズ比パラメータは $\\OR=1$ である」のP値) ≈ 4.408%\n",
    "* (Clopper-Pearson型のFisher検定版の仮説「オッズ比パラメータは $\\OR=1$ である」のP値) ≈ 4.708%\n",
    "\n",
    "95%信頼区間\n",
    "\n",
    "* (Sterne型のFisher検定版のオッズ比パラメータ $\\OR$ の $95\\%$ 信頼区間) ≈ \\[1.0202, 2.7657\\]\n",
    "* (Clopper-Pearson型のFisher検定版のオッズ比パラメータ $\\OR$ の $95\\%$ 信頼区間) ≈ \\[1.006, 2.8213\\]"
   ]
  },
  {
   "cell_type": "markdown",
   "id": "f80b3c53",
   "metadata": {},
   "source": [
    "## おまけ: Bayes信用区間"
   ]
  },
  {
   "cell_type": "markdown",
   "id": "a23bb408",
   "metadata": {},
   "source": [
    "### オッズ比パラメータとリスク比パラメータのBayes信用区間\n",
    "\n",
    "以下の手続きでオッズ比パラメータ $\\OR$ やリスク比パラメータ $\\RR$ の区間推定を行うことができる.\n",
    "\n",
    "(1) パラメータ $(p,q)$ の事前分布 $\\Beta(1,1)\\times \\Beta(1,1)$ を用意する.\n",
    "\n",
    "(2) データの数値 $a,b,c,d$ から事後分布 $\\Beta(a+1,b+1)\\times\\Beta(c+1,d+1)$ を作る.\n",
    "\n",
    "(3) 事後分布の従う乱数を独立に $M=10^6$ 個生成する. その結果を $(p_i,q_i)$ ($i=1,2,\\ldots,M$) と表す.\n",
    "\n",
    "(4) $i=1,2,\\ldots,M$ についてその乱数のオッズ比 $\\omega_i = (p_i/(1-p_i))/(q_i(1-q_i))$ とリスク比 $\\rho_i = p_i/q_i$ を計算する.\n",
    "\n",
    "(5) $\\omega_1,\\omega_2,\\ldots,\\omega_M$ の $\\alpha/2$ 分位点 $\\OR_L$ と $1-\\alpha/2$ 分位点 $\\OR_U$ を計算する:\n",
    "\n",
    "$$\n",
    "\\OR_L = \\quantile([\\omega_1,\\omega_2,\\ldots,\\omega_M], \\alpha/2), \\quad\n",
    "\\OR_U = \\quantile([\\omega_1,\\omega_2,\\ldots,\\omega_M], 1-\\alpha/2).\n",
    "$$\n",
    "\n",
    "$\\rho_1,\\rho_2,\\ldots,\\rho_M$ の $\\alpha/2$ 分位点 $\\RR_L$ と $1-\\alpha/2$ 分位点 $\\RR_U$ を計算する:\n",
    "\n",
    "$$\n",
    "\\RR_L = \\quantile([\\rho_1,\\rho_2,\\ldots,\\rho_M], \\alpha/2), \\quad\n",
    "\\RR_U = \\quantile([\\rho_1,\\rho_2,\\ldots,\\rho_M], 1-\\alpha/2).\n",
    "$$\n",
    "\n",
    "(6) 区間 $[\\OR_L, \\OR_U]$ をオッズ比パラメータ $\\OR$ の信用度 $1-\\alpha$ の __信用区間__ (確信区間, credible interval)と呼び, 区間 $[\\RR_L, \\RR_U]$ をリスク比パラメータ $\\RR$ の信用度 $1-\\alpha$ の信用区間と呼ぶ:\n",
    "\n",
    "$$\n",
    "\\begin{aligned}\n",
    "&\n",
    "\\credint^{\\OR}_{\\Bayes}(a,b,c,d|\\alpha) = [\\OR_L, \\OR_U],\n",
    "\\\\ &\n",
    "\\credint^{\\RR}_{\\Bayes}(a,b,c,d|\\alpha) = [\\RR_L, \\RR_U].\n",
    "\\end{aligned}\n",
    "$$\n",
    "\n",
    "これらの区間は乱数の出目によって確率的に少し揺らぐが $M=10^6$ が大きなおかげで毎回ほぼ同じ区間が得られる."
   ]
  },
  {
   "cell_type": "code",
   "execution_count": 40,
   "id": "4c104d4e",
   "metadata": {},
   "outputs": [
    {
     "data": {
      "text/plain": [
       "credint_rr_bayes (generic function with 1 method)"
      ]
     },
     "execution_count": 40,
     "metadata": {},
     "output_type": "execute_result"
    }
   ],
   "source": [
    "function credint_or_bayes(a, b, c, d; α=0.05, M=10^6)\n",
    "    p = rand(Beta(a+1, b+2), M)\n",
    "    q = rand(Beta(c+1, d+2), M)\n",
    "    ω = @. (p*(1-q))/((1-p)*q)\n",
    "    [quantile(ω, α/2), quantile(ω, 1-α)]\n",
    "end\n",
    "\n",
    "function credint_rr_bayes(a, b, c, d; α=0.05, M=10^6)\n",
    "    p = rand(Beta(a+1, b+2), M)\n",
    "    q = rand(Beta(c+1, d+2), M)\n",
    "    ρ = @. p/q\n",
    "    [quantile(ρ, α/2), quantile(ρ, 1-α)]\n",
    "end"
   ]
  },
  {
   "cell_type": "markdown",
   "id": "8b976f3b",
   "metadata": {},
   "source": [
    "### Bayes信用区間の計算例\n",
    "\n",
    "以下のデータについて今まで定義した信頼区間と信用区間を計算してみよう(信頼度は $95\\%$ とする).\n",
    "\n",
    "$$\n",
    "\\begin{array}{c|c|c|c}\n",
    "& \\text{商品を購入した} & \\text{購入しなかった} & \\text{合計} \\\\\n",
    "\\hline\n",
    "\\text{デザインA} & 49   &  965 & 1014 \\\\\n",
    "\\hline\n",
    "\\text{デザインB} & 26   &  854 &  880 \\\\\n",
    "\\hline\n",
    "\\text{合計}      & 75   & 1819 & 1894 \\\\ \n",
    "\\end{array}\n",
    "$$"
   ]
  },
  {
   "cell_type": "code",
   "execution_count": 41,
   "id": "6cf46fc6",
   "metadata": {},
   "outputs": [
    {
     "name": "stdout",
     "output_type": "stream",
     "text": [
      "(a, b, c, d) = (49, 965, 26, 854)\n",
      "\n",
      "confint_or_wald(a, b, c, d) = [1.0275181208761617, 2.7071797272783877]\n",
      "confint_or_pearson(a, b, c, d) = [1.031778110800563, 2.6957054358850328]\n",
      "confint_or_sterne(a, b, c, d) = [1.0202716568785046, 2.7656505208089848]\n",
      "confint_or_clopper_pearson(a, b, c, d) = [1.0061031380773773, 2.8212565352058787]\n",
      "credint_or_bayes(a, b, c, d) = [1.0305993256066324, 2.486026767187757]\n",
      "\n",
      "confint_rr_wald(a, b, c, d) = [1.025408984412048, 2.6087819449169145]\n",
      "confint_rr_pearson(a, b, c, d) = [1.03047149323473, 2.5998459013273476]\n",
      "credint_rr_bayes(a, b, c, d) = [1.029059227608632, 2.4014843593162727]\n"
     ]
    }
   ],
   "source": [
    "a, b, c, d = 49, 965, 26, 854\n",
    "@show a, b, c, d\n",
    "println()\n",
    "@show confint_or_wald(a, b, c, d)\n",
    "@show confint_or_pearson(a, b, c, d)\n",
    "@show confint_or_sterne(a, b, c, d)\n",
    "@show confint_or_clopper_pearson(a, b, c, d)\n",
    "@show credint_or_bayes(a, b, c, d)\n",
    "println()\n",
    "@show confint_rr_wald(a, b, c, d)\n",
    "@show confint_rr_pearson(a, b, c, d)\n",
    "@show credint_rr_bayes(a, b, c, d);"
   ]
  },
  {
   "cell_type": "markdown",
   "id": "241a7859",
   "metadata": {},
   "source": [
    "このようにどれも同じような区間になる."
   ]
  },
  {
   "cell_type": "markdown",
   "id": "0857bcac",
   "metadata": {},
   "source": [
    "### Bayes信用区間に付随するP値函数\n",
    "\n",
    "任意の区間推定から逆にP値函数を作れるのであった.\n",
    "\n",
    "$\\omega_1,\\omega_2,\\ldots,\\omega_M$ の中の $\\omega$ 以下の値の割合を $\\ecdf([\\omega_1,\\omega_2,\\ldots,\\omega_M], \\omega)$ と書く:\n",
    "\n",
    "$$\n",
    "\\ecdf([\\omega_1,\\omega_2,\\ldots,\\omega_M], \\omega) =\n",
    "(\\text{$\\omega_i\\le\\omega$ となる $i$ の個数})/M\n",
    "$$\n",
    "\n",
    "これを $\\omega_1,\\omega_2,\\ldots,\\omega_M$ の __経験累積分布函数__ (empirical cumulative distribution function)と呼ぶ.\n",
    "\n",
    "(7) 仮説「オッズ比パラメータは $\\OR=\\omega$ である」の __Bayes版P値__ (Bayesian P-value)を\n",
    "\n",
    "$$\n",
    "\\pvalue_{\\Bayes}(a,b,c,d|\\OR=\\omega) =\n",
    "\\min\\begin{pmatrix}\n",
    "1 \\\\\n",
    "2\\ecdf([\\omega_1,\\omega_2,\\ldots,\\omega_M], \\omega) \\\\\n",
    "2(1 - \\ecdf([\\omega_1,\\omega_2,\\ldots,\\omega_M], \\omega) \\\\\n",
    "\\end{pmatrix}\n",
    "$$\n",
    "\n",
    "と定める.  同様に, 仮説「リスク比パラメータは $\\RR=\\rho$ である」のBayes版P値を\n",
    "\n",
    "$$\n",
    "\\pvalue_{\\Bayes}(a,b,c,d|\\RR=\\rho) =\n",
    "\\min\\begin{pmatrix}\n",
    "1 \\\\\n",
    "2\\ecdf([\\rho_1,\\rho_2,\\ldots,\\rho_M], \\rho) \\\\\n",
    "2(1 - \\ecdf([\\rho_1,\\rho_2,\\ldots,\\rho_M], \\rho) \\\\\n",
    "\\end{pmatrix}\n",
    "$$\n",
    "\n",
    "と定める. "
   ]
  },
  {
   "cell_type": "code",
   "execution_count": 42,
   "id": "59ba0d72",
   "metadata": {},
   "outputs": [
    {
     "data": {
      "text/plain": [
       "plot_pvalue_functions (generic function with 1 method)"
      ]
     },
     "execution_count": 42,
     "metadata": {},
     "output_type": "execute_result"
    }
   ],
   "source": [
    "\"\"\"Bayes版P値函数達を作る函数\"\"\"\n",
    "function make_pvalue_or_rr_bayes(a, b, c, d; M=10^6)\n",
    "    p = rand(Beta(a+1, b+2), M)\n",
    "    q = rand(Beta(c+1, d+2), M)\n",
    "    ω = @. (p*(1-q))/((1-p)*q)\n",
    "    ρ = @. p/q\n",
    "    ecdf_OR = ecdf(ω)\n",
    "    ecdf_RR = ecdf(ρ)\n",
    "    pvalue_or_bayes(ω) = min(1, 2ecdf_OR(ω), 2(1-ecdf_OR(ω)))\n",
    "    pvalue_rr_bayes(ρ) = min(1, 2ecdf_RR(ρ), 2(1-ecdf_RR(ρ)))\n",
    "    pvalue_or_bayes, pvalue_rr_bayes\n",
    "end\n",
    "\n",
    "function plot_pvalue_functions(a, b, c, d; xlim=(0.5, 3.5), kwargs...)\n",
    "    pvalue_or_bayes, pvalue_rr_bayes = make_pvalue_or_rr_bayes(a, b, c, d)\n",
    "\n",
    "    P = plot()\n",
    "    plot!(ω -> pvalue_or_bayes(ω), xlim...; label=\"Bayes\")\n",
    "    plot!(ω -> pvalue_or_wald(a,b,c,d; ω), xlim...; label=\"Wald\", ls=:dashdot)\n",
    "    plot!(ω -> pvalue_or_pearson(a,b,c,d; ω), xlim...; label=\"Pearson\", ls=:dash)\n",
    "    #plot!(ω -> pvalue_or_sterne(a,b,c,d; ω), xlim...; label=\"Fisher (Sterne)\")\n",
    "    #plot!(ω -> pvalue_or_clopper_pearson(a,b,c,d; ω), xlim...; label=\"Fisher (CP)\")\n",
    "    plot!(; xguide=\"OR = ω\", yguide=\"P-value\")\n",
    "    plot!(; ytick=0:0.1:1)\n",
    "    title!(\"a, b, c, d = $a, $b, $c, $d\")\n",
    "\n",
    "    Q = plot()\n",
    "    plot!(ρ -> pvalue_rr_bayes(ρ), xlim...; label=\"Bayes\")\n",
    "    plot!(ρ -> pvalue_rr_wald(a,b,c,d; ρ), xlim...; label=\"Wald\", ls=:dashdot)\n",
    "    plot!(ρ -> pvalue_rr_pearson(a,b,c,d; ρ), xlim...; label=\"Pearson\", ls=:dash)\n",
    "    plot!(; xguide=\"RR = ρ\", yguide=\"P-value\")\n",
    "    plot!(; ytick=0:0.1:1)\n",
    "    title!(\"a, b, c, d = $a, $b, $c, $d\")\n",
    "\n",
    "    plot(P, Q; size=(800, 250),\n",
    "        leftmargin=4Plots.mm, bottommargin=4Plots.mm)\n",
    "    plot!(; kwargs...)\n",
    "end"
   ]
  },
  {
   "cell_type": "markdown",
   "id": "b532cc6b",
   "metadata": {},
   "source": [
    "### Bayes版P値函数の視覚化"
   ]
  },
  {
   "cell_type": "code",
   "execution_count": 43,
   "id": "7664d3e4",
   "metadata": {},
   "outputs": [
    {
     "data": {
      "image/png": "[encoded data removed]"
     },
     "execution_count": 43,
     "metadata": {},
     "output_type": "execute_result"
    }
   ],
   "source": [
    "a, b, c, d = 49, 965, 26, 854\n",
    "plot_pvalue_functions(a, b, c, d; xlim=(0.5, 3.5))"
   ]
  },
  {
   "cell_type": "markdown",
   "id": "a4de231b",
   "metadata": {},
   "source": [
    "このように, Bayes版P値函数は通常のWald版およびPearsonのχ²検定版のP値函数によく一致している."
   ]
  },
  {
   "cell_type": "markdown",
   "id": "f7e66a27",
   "metadata": {},
   "source": [
    "### 問題: 別の例\n",
    "\n",
    "$$\n",
    "\\begin{array}{c|c|c|c}\n",
    "& \\text{28日以内に悪化} & \\text{悪化せず} & \\text{合計} \\\\\n",
    "\\hline\n",
    "\\text{薬Iを処方} & 100 &  579 &  679 \\\\\n",
    "\\hline\n",
    "\\text{プラセボ}  & 111 &  568 &  679 \\\\\n",
    "\\hline\n",
    "\\text{合計}      & 211 & 1147 & 1358 \\\\ \n",
    "\\end{array}\n",
    "$$\n",
    "\n",
    "この既出の表は既出の論文\n",
    "\n",
    "* Gilmar Reis, M.D., Ph.D. et al., Effect of Early Treatment with Ivermectin among Patients with Covid-19, N Engl J Med 2022; 386:1721-1731. \\[[link](https://www.nejm.org/doi/full/10.1056/NEJMoa2115869)\\]\n",
    "\n",
    "の Table 2 から [Intention-to-treat population](https://www.google.com/search?q=Intention-to-treat)の部分だけを抜き出したものである.  「28日以内に悪化」の意味などに関する詳しい説明は論文を参照せよ.\n",
    "\n",
    "この論文ではリスク比の区間推定方法としてちょうど上で説明したリスク比のBayes信用区間を採用している.\n",
    "\n",
    "上の表のデータについてP値函数のグラフを描いてみよう."
   ]
  },
  {
   "cell_type": "code",
   "execution_count": 44,
   "id": "e29dca5f",
   "metadata": {},
   "outputs": [
    {
     "data": {
      "image/png": "[encoded data removed]"
     },
     "execution_count": 44,
     "metadata": {},
     "output_type": "execute_result"
    }
   ],
   "source": [
    "a, b, c, d = 100, 579, 111, 568\n",
    "plot_pvalue_functions(a, b, c, d; xlim=(0.5, 1.5))"
   ]
  },
  {
   "cell_type": "markdown",
   "id": "ece7449d",
   "metadata": {},
   "source": [
    "論文ではBayes統計の方法を使って区間推定しているが, このグラフを見れば分かるように, 通常のWald版やPearsonのχ²検定版の信頼区間を使っても同じ結果が得られる.\n",
    "\n",
    "この一致は偶然ではなく, 十分に $a,b,c,d$ が大きいがゆえに正規分布近似が有効になっているので一致している.\n",
    "\n",
    "巷に溢れる「ベイズ統計入門」の解説では「通常の統計学とは異なる主義・思想・哲学に基くベイズ統計学というものがある」のような感じのものが目立つのだが, そのような解説に騙されないように注意することが必要である.\n",
    "\n",
    "どんなに主義・思想・哲学が違っていても, 実践的には無意味な小さな違いを除いて同じ量を計算していることになっているのであれば, 主義・思想・哲学の違いは実践的には無視できるということを意味している."
   ]
  },
  {
   "cell_type": "code",
   "execution_count": null,
   "id": "f8617128",
   "metadata": {},
   "outputs": [],
   "source": []
  }
 ],
 "metadata": {
  "@webio": {
   "lastCommId": null,
   "lastKernelId": null
  },
  "jupytext": {
   "formats": "ipynb,md"
  },
  "kernelspec": {
   "display_name": "Julia 1.7.3",
   "language": "julia",
   "name": "julia-1.7"
  },
  "language_info": {
   "file_extension": ".jl",
   "mimetype": "application/julia",
   "name": "julia",
   "version": "1.7.3"
  },
  "toc": {
   "base_numbering": 1,
   "nav_menu": {},
   "number_sections": true,
   "sideBar": true,
   "skip_h1_title": true,
   "title_cell": "目次",
   "title_sidebar": "目次",
   "toc_cell": true,
   "toc_position": {},
   "toc_section_display": true,
   "toc_window_display": false
  }
 },
 "nbformat": 4,
 "nbformat_minor": 5
}
