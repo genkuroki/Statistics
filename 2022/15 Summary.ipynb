{
 "cells": [
  {
   "cell_type": "markdown",
   "id": "10af4bd9",
   "metadata": {},
   "source": [
    "# まとめ\n",
    "\n",
    "* 黒木玄\n",
    "* 2022-07-20～2022-07-23\n",
    "$\n",
    "\\newcommand\\ds{\\displaystyle}\n",
    "\\newcommand\\op{\\operatorname}\n",
    "\\newcommand\\R{{\\mathbb R}}\n",
    "\\newcommand\\Z{{\\mathbb Z}}\n",
    "\\newcommand\\var{\\op{var}}\n",
    "\\newcommand\\cov{\\op{cov}}\n",
    "\\newcommand\\std{\\op{std}}\n",
    "\\newcommand\\eps{\\varepsilon}\n",
    "\\newcommand\\T[1]{T_{(#1)}}\n",
    "\\newcommand\\bk{\\bar\\kappa}\n",
    "\\newcommand\\X{{\\mathscr X}}\n",
    "\\newcommand\\CP{{\\mathrm{CP}}}\n",
    "\\newcommand\\Sterne{{\\mathrm{Sterne}}}\n",
    "\\newcommand\\Wilson{{\\mathrm{Wilson}}}\n",
    "\\newcommand\\Wald{{\\mathrm{Wald}}}\n",
    "\\newcommand\\LLR{{\\mathrm{LLR}}}\n",
    "\\newcommand\\pdf{\\op{pdf}}\n",
    "\\newcommand\\pmf{\\op{pmf}}\n",
    "\\newcommand\\cdf{\\op{cdf}}\n",
    "\\newcommand\\ecdf{\\op{ecdf}}\n",
    "\\newcommand\\quantile{\\op{quantile}}\n",
    "\\newcommand\\Bernoulli{\\op{Bernoulli}}\n",
    "\\newcommand\\Binomial{\\op{Binomial}}\n",
    "\\newcommand\\Beta{\\op{Beta}}\n",
    "\\newcommand\\Normal{\\op{Normal}}\n",
    "\\newcommand\\MvNormal{\\op{MvNormal}}\n",
    "\\newcommand\\Chisq{\\op{Chisq}}\n",
    "\\newcommand\\Chi{\\op{Chi}}\n",
    "\\newcommand\\TDist{\\op{TDist}}\n",
    "\\newcommand\\Chisq{\\op{Chisq}}\n",
    "\\newcommand\\LogisticModel{\\op{LogisticModel}}\n",
    "\\newcommand\\pvalue{\\op{pvalue}}\n",
    "\\newcommand\\confint{\\op{confint}}\n",
    "\\newcommand\\predint{\\op{predint}}\n",
    "\\newcommand\\credint{\\op{credint}}\n",
    "\\newcommand\\phat{\\hat{p}}\n",
    "\\newcommand\\SE{\\op{SE}}\n",
    "\\newcommand\\SEhat{\\widehat{\\SE}}\n",
    "\\newcommand\\se{\\op{se}}\n",
    "\\newcommand\\sehat{\\widehat{\\se}}\n",
    "\\newcommand\\logistic{\\op{logistic}}\n",
    "\\newcommand\\logit{\\op{logit}}\n",
    "\\newcommand\\OR{\\op{OR}}\n",
    "\\newcommand\\ORhat{\\widehat{\\OR}}\n",
    "\\newcommand\\RR{\\op{RR}}\n",
    "\\newcommand\\RRhat{\\widehat{\\RR}}\n",
    "\\newcommand\\RD{\\op{RD}}\n",
    "\\newcommand\\RDhat{\\widehat{\\RD}}\n",
    "\\newcommand\\hA{\\hat{A}}\n",
    "\\newcommand\\hB{\\hat{B}}\n",
    "\\newcommand\\ha{\\hat{a}}\n",
    "\\newcommand\\hb{\\hat{b}}\n",
    "\\newcommand\\hc{\\hat{c}}\n",
    "\\newcommand\\hd{\\hat{d}}\n",
    "\\newcommand\\hp{\\hat{p}}\n",
    "\\newcommand\\hq{\\hat{q}}\n",
    "\\newcommand\\hz{\\hat{z}}\n",
    "\\newcommand\\ta{\\tilde{a}}\n",
    "\\newcommand\\tb{\\tilde{b}}\n",
    "\\newcommand\\tc{\\tilde{c}}\n",
    "\\newcommand\\td{\\tilde{d}}\n",
    "\\newcommand\\tp{\\tilde{p}}\n",
    "\\newcommand\\tq{\\tilde{q}}\n",
    "\\newcommand\\deltatilde{\\tilde{\\delta}}\n",
    "\\newcommand\\tx{\\tilde{x}}\n",
    "\\newcommand\\phat{\\hat{p}}\n",
    "\\newcommand\\qhat{\\hat{q}}\n",
    "\\newcommand\\ptilde{\\tilde{p}}\n",
    "\\newcommand\\qtilde{\\tilde{q}}\n",
    "\\newcommand\\Wald{\\op{Wald}}\n",
    "\\newcommand\\Pearson{\\op{Pearson}}\n",
    "\\newcommand\\Fisher{\\op{Fisher}}\n",
    "\\newcommand\\Bayes{\\op{Bayes}}\n",
    "\\newcommand\\Welch{\\op{Welch}}\n",
    "\\newcommand\\Student{\\op{Student}}\n",
    "\\newcommand\\FisherNoncentralHypergeometric{\\op{FisherNoncentralHypergeometric}}\n",
    "\\newcommand\\xbar{\\bar{x}}\n",
    "\\newcommand\\ybar{\\bar{y}}\n",
    "\\newcommand\\Xbar{\\bar{X}}\n",
    "\\newcommand\\Ybar{\\bar{Y}}\n",
    "\\newcommand\\dmu{{\\varDelta\\mu}}\n",
    "\\newcommand\\nuhat{\\hat\\nu}\n",
    "\\newcommand\\yhat{\\hat{y}}\n",
    "\\newcommand\\alphahat{\\hat{\\alpha}}\n",
    "\\newcommand\\betahat{\\hat{\\beta}}\n",
    "\\newcommand\\betatilde{\\tilde{\\beta}}\n",
    "\\newcommand\\muhat{\\hat{\\mu}}\n",
    "\\newcommand\\sigmahat{\\hat{\\sigma}}\n",
    "\\newcommand\\shat{\\hat{s}}\n",
    "\\newcommand\\tr{\\op{tr}}\n",
    "\\newcommand\\diag{\\op{diag}}\n",
    "\\newcommand\\pred{\\op{pred}}\n",
    "$\n",
    "\n",
    "このノートでは[Julia言語](https://julialang.org/)を使用している: \n",
    "\n",
    "* [Julia言語のインストールの仕方の一例](https://nbviewer.org/github/genkuroki/msfd28/blob/master/install.ipynb)\n",
    "\n",
    "自明な誤りを見つけたら, 自分で訂正して読んで欲しい.  大文字と小文字の混同や書き直しが不完全な場合や符号のミスは非常によくある.\n",
    "\n",
    "このノートに書いてある式を文字通りにそのまま読んで正しいと思ってしまうとひどい目に会う可能性が高い. しかし, 数が使われている文献には大抵の場合に文字通りに読むと間違っている式や主張が書いてあるので, 内容を理解した上で訂正しながら読んで利用しなければいけない. 実践的に数学を使う状況では他人が書いた式をそのまま信じていけない.\n",
    "\n",
    "このノートの内容よりもさらに詳しいノートを自分で作ると勉強になるだろう.  膨大な時間を取られることになるが, このノートの内容に関係することで飯を食っていく可能性がある人にはそのためにかけた時間は無駄にならないと思われる."
   ]
  },
  {
   "cell_type": "markdown",
   "id": "2423bba9",
   "metadata": {
    "toc": true
   },
   "source": [
    "<h1>目次<span class=\"tocSkip\"></span></h1>\n",
    "<div class=\"toc\"><ul class=\"toc-item\"><li><span><a href=\"#二項分布モデルでのClopper-Pearsonの信頼区間\" data-toc-modified-id=\"二項分布モデルでのClopper-Pearsonの信頼区間-1\"><span class=\"toc-item-num\">1&nbsp;&nbsp;</span>二項分布モデルでのClopper-Pearsonの信頼区間</a></span><ul class=\"toc-item\"><li><span><a href=\"#Clopper-Pearsonの信頼区間を例に信頼区間の解釈の仕方について説明\" data-toc-modified-id=\"Clopper-Pearsonの信頼区間を例に信頼区間の解釈の仕方について説明-1.1\"><span class=\"toc-item-num\">1.1&nbsp;&nbsp;</span>Clopper-Pearsonの信頼区間を例に信頼区間の解釈の仕方について説明</a></span></li><li><span><a href=\"#二項分布モデルのClopper-Pearsonの信頼区間の効率的な計算の仕方\" data-toc-modified-id=\"二項分布モデルのClopper-Pearsonの信頼区間の効率的な計算の仕方-1.2\"><span class=\"toc-item-num\">1.2&nbsp;&nbsp;</span>二項分布モデルのClopper-Pearsonの信頼区間の効率的な計算の仕方</a></span></li><li><span><a href=\"#二項分布モデルのBayes統計\" data-toc-modified-id=\"二項分布モデルのBayes統計-1.3\"><span class=\"toc-item-num\">1.3&nbsp;&nbsp;</span>二項分布モデルのBayes統計</a></span></li><li><span><a href=\"#P値とBayes統計の関係\" data-toc-modified-id=\"P値とBayes統計の関係-1.4\"><span class=\"toc-item-num\">1.4&nbsp;&nbsp;</span>P値とBayes統計の関係</a></span></li><li><span><a href=\"#復習:-二項分布とベータ分布の関係の証明\" data-toc-modified-id=\"復習:-二項分布とベータ分布の関係の証明-1.5\"><span class=\"toc-item-num\">1.5&nbsp;&nbsp;</span>復習: 二項分布とベータ分布の関係の証明</a></span><ul class=\"toc-item\"><li><span><a href=\"#両辺を-p--で微分して確認する方法\" data-toc-modified-id=\"両辺を-p--で微分して確認する方法-1.5.1\"><span class=\"toc-item-num\">1.5.1&nbsp;&nbsp;</span>両辺を p  で微分して確認する方法</a></span></li><li><span><a href=\"#ベータ分布の一様分布の順序統計量の分布として解釈を使う方法\" data-toc-modified-id=\"ベータ分布の一様分布の順序統計量の分布として解釈を使う方法-1.5.2\"><span class=\"toc-item-num\">1.5.2&nbsp;&nbsp;</span>ベータ分布の一様分布の順序統計量の分布として解釈を使う方法</a></span></li></ul></li></ul></li><li><span><a href=\"#P値函数について\" data-toc-modified-id=\"P値函数について-2\"><span class=\"toc-item-num\">2&nbsp;&nbsp;</span>P値函数について</a></span><ul class=\"toc-item\"><li><span><a href=\"#P値はモデルのパラメータ値とデータの数値の整合性の指標の1つとして定義される\" data-toc-modified-id=\"P値はモデルのパラメータ値とデータの数値の整合性の指標の1つとして定義される-2.1\"><span class=\"toc-item-num\">2.1&nbsp;&nbsp;</span>P値はモデルのパラメータ値とデータの数値の整合性の指標の1つとして定義される</a></span></li><li><span><a href=\"#P値は信頼区間を考えたいすべてのパラメータ値について定義されている\" data-toc-modified-id=\"P値は信頼区間を考えたいすべてのパラメータ値について定義されている-2.2\"><span class=\"toc-item-num\">2.2&nbsp;&nbsp;</span>P値は信頼区間を考えたいすべてのパラメータ値について定義されている</a></span></li><li><span><a href=\"#分割表の場合のP値函数\" data-toc-modified-id=\"分割表の場合のP値函数-2.3\"><span class=\"toc-item-num\">2.3&nbsp;&nbsp;</span>分割表の場合のP値函数</a></span></li><li><span><a href=\"#P値函数から信頼区間が定義される\" data-toc-modified-id=\"P値函数から信頼区間が定義される-2.4\"><span class=\"toc-item-num\">2.4&nbsp;&nbsp;</span>P値函数から信頼区間が定義される</a></span></li><li><span><a href=\"#2×2の分割表のP値と信頼区間とP値函数の例\" data-toc-modified-id=\"2×2の分割表のP値と信頼区間とP値函数の例-2.5\"><span class=\"toc-item-num\">2.5&nbsp;&nbsp;</span>2×2の分割表のP値と信頼区間とP値函数の例</a></span></li><li><span><a href=\"#2×2の分割表での検定ではどれを使うべきか\" data-toc-modified-id=\"2×2の分割表での検定ではどれを使うべきか-2.6\"><span class=\"toc-item-num\">2.6&nbsp;&nbsp;</span>2×2の分割表での検定ではどれを使うべきか</a></span></li><li><span><a href=\"#P値函数と最尤法の関係\" data-toc-modified-id=\"P値函数と最尤法の関係-2.7\"><span class=\"toc-item-num\">2.7&nbsp;&nbsp;</span>P値函数と最尤法の関係</a></span></li><li><span><a href=\"#以上のまとめの図\" data-toc-modified-id=\"以上のまとめの図-2.8\"><span class=\"toc-item-num\">2.8&nbsp;&nbsp;</span>以上のまとめの図</a></span></li><li><span><a href=\"#おまけ:-Bayes統計の方法を使った場合\" data-toc-modified-id=\"おまけ:-Bayes統計の方法を使った場合-2.9\"><span class=\"toc-item-num\">2.9&nbsp;&nbsp;</span>おまけ: Bayes統計の方法を使った場合</a></span></li></ul></li><li><span><a href=\"#Welchの-t-検定について\" data-toc-modified-id=\"Welchの-t-検定について-3\"><span class=\"toc-item-num\">3&nbsp;&nbsp;</span>Welchの t 検定について</a></span><ul class=\"toc-item\"><li><span><a href=\"#Welchの-t-検定のP値と信頼区間の定義\" data-toc-modified-id=\"Welchの-t-検定のP値と信頼区間の定義-3.1\"><span class=\"toc-item-num\">3.1&nbsp;&nbsp;</span>Welchの t 検定のP値と信頼区間の定義</a></span></li><li><span><a href=\"#Welchの-t-検定のP値や信頼区間の計算例\" data-toc-modified-id=\"Welchの-t-検定のP値や信頼区間の計算例-3.2\"><span class=\"toc-item-num\">3.2&nbsp;&nbsp;</span>Welchの t 検定のP値や信頼区間の計算例</a></span><ul class=\"toc-item\"><li><span><a href=\"#WolframAlphaによるWelchの-t-検定のP値と信頼区間の計算の必修問題の解答例\" data-toc-modified-id=\"WolframAlphaによるWelchの-t-検定のP値と信頼区間の計算の必修問題の解答例-3.2.1\"><span class=\"toc-item-num\">3.2.1&nbsp;&nbsp;</span>WolframAlphaによるWelchの t 検定のP値と信頼区間の計算の必修問題の解答例</a></span></li><li><span><a href=\"#Julia言語によるWelchの-t-検定のP値と信頼区間の計算の必修問題の解答例\" data-toc-modified-id=\"Julia言語によるWelchの-t-検定のP値と信頼区間の計算の必修問題の解答例-3.2.2\"><span class=\"toc-item-num\">3.2.2&nbsp;&nbsp;</span>Julia言語によるWelchの t 検定のP値と信頼区間の計算の必修問題の解答例</a></span></li></ul></li></ul></li><li><span><a href=\"#数学的な補足:-大数の法則と中心極限定理について\" data-toc-modified-id=\"数学的な補足:-大数の法則と中心極限定理について-4\"><span class=\"toc-item-num\">4&nbsp;&nbsp;</span>数学的な補足: 大数の法則と中心極限定理について</a></span><ul class=\"toc-item\"><li><span><a href=\"#二項分布の大数の法則\" data-toc-modified-id=\"二項分布の大数の法則-4.1\"><span class=\"toc-item-num\">4.1&nbsp;&nbsp;</span>二項分布の大数の法則</a></span></li><li><span><a href=\"#二項分布の中心極限定理\" data-toc-modified-id=\"二項分布の中心極限定理-4.2\"><span class=\"toc-item-num\">4.2&nbsp;&nbsp;</span>二項分布の中心極限定理</a></span></li><li><span><a href=\"#他の分布の場合\" data-toc-modified-id=\"他の分布の場合-4.3\"><span class=\"toc-item-num\">4.3&nbsp;&nbsp;</span>他の分布の場合</a></span></li><li><span><a href=\"#標本分布の場合\" data-toc-modified-id=\"標本分布の場合-4.4\"><span class=\"toc-item-num\">4.4&nbsp;&nbsp;</span>標本分布の場合</a></span></li><li><span><a href=\"#再掲:-大数の法則と中心極限定理のイメージ\" data-toc-modified-id=\"再掲:-大数の法則と中心極限定理のイメージ-4.5\"><span class=\"toc-item-num\">4.5&nbsp;&nbsp;</span>再掲: 大数の法則と中心極限定理のイメージ</a></span></li><li><span><a href=\"#統計学の基礎になる確率論の三種の神器\" data-toc-modified-id=\"統計学の基礎になる確率論の三種の神器-4.6\"><span class=\"toc-item-num\">4.6&nbsp;&nbsp;</span>統計学の基礎になる確率論の三種の神器</a></span></li></ul></li></ul></div>"
   ]
  },
  {
   "cell_type": "code",
   "execution_count": 1,
   "id": "07f75c40",
   "metadata": {},
   "outputs": [],
   "source": [
    "ENV[\"LINES\"], ENV[\"COLUMNS\"] = 100, 100\n",
    "using Base.Threads\n",
    "using BenchmarkTools\n",
    "using DataFrames\n",
    "using Distributions\n",
    "using LinearAlgebra\n",
    "using Memoization\n",
    "using Optim\n",
    "using Printf\n",
    "using QuadGK\n",
    "using RCall\n",
    "@rimport stats as R\n",
    "using Random\n",
    "Random.seed!(4649373)\n",
    "using Roots\n",
    "using SpecialFunctions\n",
    "using StaticArrays\n",
    "using StatsBase\n",
    "using StatsFuns\n",
    "using StatsPlots\n",
    "default(fmt = :png, size = (400, 250),\n",
    "    titlefontsize = 10, guidefontsize=9, plot_titlefontsize = 12)\n",
    "using SymPy"
   ]
  },
  {
   "cell_type": "code",
   "execution_count": 2,
   "id": "164289b7",
   "metadata": {},
   "outputs": [],
   "source": [
    "# Override the Base.show definition of SymPy.jl:\n",
    "# https://github.com/JuliaPy/SymPy.jl/blob/29c5bfd1d10ac53014fa7fef468bc8deccadc2fc/src/types.jl#L87-L105\n",
    "\n",
    "@eval SymPy function Base.show(io::IO, ::MIME\"text/latex\", x::SymbolicObject)\n",
    "    print(io, as_markdown(\"\\\\displaystyle \" *\n",
    "            sympy.latex(x, mode=\"plain\", fold_short_frac=false)))\n",
    "end\n",
    "@eval SymPy function Base.show(io::IO, ::MIME\"text/latex\", x::AbstractArray{Sym})\n",
    "    function toeqnarray(x::Vector{Sym})\n",
    "        a = join([\"\\\\displaystyle \" *\n",
    "                sympy.latex(x[i]) for i in 1:length(x)], \"\\\\\\\\\")\n",
    "        \"\"\"\\\\left[ \\\\begin{array}{r}$a\\\\end{array} \\\\right]\"\"\"\n",
    "    end\n",
    "    function toeqnarray(x::AbstractArray{Sym,2})\n",
    "        sz = size(x)\n",
    "        a = join([join(\"\\\\displaystyle \" .* map(sympy.latex, x[i,:]), \"&\")\n",
    "                for i in 1:sz[1]], \"\\\\\\\\\")\n",
    "        \"\\\\left[ \\\\begin{array}{\" * repeat(\"r\",sz[2]) * \"}\" * a * \"\\\\end{array}\\\\right]\"\n",
    "    end\n",
    "    print(io, as_markdown(toeqnarray(x)))\n",
    "end"
   ]
  },
  {
   "cell_type": "code",
   "execution_count": 3,
   "id": "dd271abe",
   "metadata": {},
   "outputs": [
    {
     "data": {
      "text/plain": [
       "mykurtosis (generic function with 2 methods)"
      ]
     },
     "execution_count": 3,
     "metadata": {},
     "output_type": "execute_result"
    }
   ],
   "source": [
    "safemul(x, y) = x == 0 ? x : isinf(x) ? typeof(x)(Inf) : x*y\n",
    "safediv(x, y) = x == 0 ? x : isinf(y) ? zero(y) : x/y\n",
    "\n",
    "x ⪅ y = x < y || x ≈ y\n",
    "\n",
    "mypdf(dist, x) = pdf(dist, x)\n",
    "mypdf(dist::DiscreteUnivariateDistribution, x) = pdf(dist, round(Int, x))\n",
    "\n",
    "distname(dist::Distribution) = replace(string(dist), r\"{.*}\" => \"\")\n",
    "myskewness(dist) = skewness(dist)\n",
    "mykurtosis(dist) = kurtosis(dist)\n",
    "function standardized_moment(dist::ContinuousUnivariateDistribution, m)\n",
    "    μ, σ = mean(dist), std(dist)\n",
    "    quadgk(x -> (x - μ)^m * pdf(dist, x), extrema(dist)...)[1] / σ^m\n",
    "end\n",
    "myskewness(dist::MixtureModel{Univariate, Continuous}) =\n",
    "    standardized_moment(dist, 3)\n",
    "mykurtosis(dist::MixtureModel{Univariate, Continuous}) =\n",
    "    standardized_moment(dist, 4) - 3"
   ]
  },
  {
   "cell_type": "code",
   "execution_count": 4,
   "id": "a29dee3c",
   "metadata": {},
   "outputs": [
    {
     "data": {
      "text/plain": [
       "logtick (generic function with 1 method)"
      ]
     },
     "execution_count": 4,
     "metadata": {},
     "output_type": "execute_result"
    }
   ],
   "source": [
    "function logtick(; xlim=(0.03, 30))\n",
    "    xmin, xmax = xlim\n",
    "    a = floor(Int, log10(xmin))\n",
    "    b = ceil(Int, log10(xmax))\n",
    "    nums =     [1, 2, 3, 4, 5, 6, 7, 8, 9]\n",
    "    mask = Bool[1, 1, 0, 0, 1, 0, 0, 0, 0]\n",
    "    \n",
    "    logtick = foldl(vcat, ([10.0^k*x for x in nums if xmin ≤ 10.0^k*x ≤ xmax] for k in a:b))\n",
    "    logticklabel_a = foldl(vcat,\n",
    "        ([mask[i] ? string(round(10.0^k*x; digits=-k)) : \"\"\n",
    "                for (i, x) in enumerate(nums) if xmin ≤ 10.0^k*x ≤ xmax]\n",
    "            for k in a:-1))\n",
    "    logticklabel_b = foldl(vcat,\n",
    "        ([mask[i] ? string(10^k*x) : \"\"\n",
    "                for (i, x) in enumerate(nums) if xmin ≤ 10.0^k*x ≤ xmax]\n",
    "            for k in 0:b))\n",
    "    logticklabel = vcat(logticklabel_a, logticklabel_b)\n",
    "    (logtick, logticklabel)\n",
    "end\n",
    "\n",
    "# logtick()"
   ]
  },
  {
   "cell_type": "markdown",
   "id": "828998c4",
   "metadata": {},
   "source": [
    "## 二項分布モデルでのClopper-Pearsonの信頼区間"
   ]
  },
  {
   "cell_type": "markdown",
   "id": "6f139a8f",
   "metadata": {},
   "source": [
    "### Clopper-Pearsonの信頼区間を例に信頼区間の解釈の仕方について説明\n",
    "\n",
    "「$n$ 回中 $k$ 回当たりが出た」「$n$ 人中 $k$ 人が重症化」「$n$ 人中 $k$ 人が商品を購入」などの型のデータを扱うための統計モデルとして, 成功確率パラメータ $p$ を持つ二項分布\n",
    "\n",
    "$$\n",
    "P(k|n,p) = \\binom{n}{k} p^k(1-p)^{n-k} \\quad (k=0,1,\\ldots,n)\n",
    "$$\n",
    "\n",
    "を使う状況を考える.  このとき, 仮説 $p=p_0$ のP値(データの数値とモデル＋パラメータ値の整合性の指標の1つ)を次のように定義できるのであった:\n",
    "\n",
    "$$\n",
    "\\pvalue_{\\CP}(k|n,p=p_0) =\n",
    "\\min\\begin{pmatrix}\n",
    "1 \\\\\n",
    "2\\cdf(\\Binomial(n, p_0), k) \\\\\n",
    "2(1 - \\cdf(\\Binomial(n, p_0), k-1)) \\\\\n",
    "\\end{pmatrix}\n",
    "$$\n",
    "\n",
    "これをClopper-PearsonのP値と呼ぶことにしていた.  このP値は以下の3つのうちの最小値として定義されている:\n",
    "\n",
    "* $1$\n",
    "* 仮説 $p=p_0$ の下での二項分布で $n$ 回中の当たりの回数が $k$ 回以下の確率の2倍\n",
    "* 仮説 $p=p_0$ の下での二項分布で $n$ 回中の当たりの回数が $k$ 回以上の確率の2倍\n",
    "\n",
    "本当はモデル内で仮想的に生成されたデータの値 $i$ ($n$ 回中の当たりの回数)が期待値 $np_0$ からデータの数値 $k$ 以上離れる確率をP値としたいのだが(P値の定義は仮説下のモデル内でデータの数値以上に極端な値が生成される確率またはその近似値であった), 反対側の確率を自然に決めることができないので, 2倍して反対側の確率も足し上げたことにしている.  (これは1つの処方箋に過ぎず, 別の方法もあるのであった.)\n",
    "\n",
    "これに対応する信頼度 $1-\\alpha$ の信頼区間の定義は次の通り:\n",
    "\n",
    "$$\n",
    "\\confint_{\\CP}(k|n,\\alpha) = \n",
    "\\{\\, p_0 \\in [0, 1] \\mid \\pvalue_{\\CP}(k|n,p=p_0) \\ge \\alpha\\,\\}.\n",
    "$$\n",
    "\n",
    "仮説 $p=p_0$ のP値 $\\pvalue_{\\CP}(k|n,p=p_0)$ はデータの数値「$n$ 回中 $k$ 回」とモデルのパラメータに関する仮説 $p=p_0$ の整合性の指標として使われるのであった. \n",
    "\n",
    "信頼区間を定義している条件 $\\pvalue_{\\CP}(k|n,p=p_0) \\ge \\alpha$ はその整合性の指標の値がある閾値 $\\alpha$ (この閾値は有意水準と呼ばれる)以上になっているという条件になっている.\n",
    "\n",
    "通常, 有意水準 $\\alpha$ は目的に合わせて小さな値を採用し, 検定の手続きではP値が $\\alpha$ 未満になるパラメータ値 $p=p_0$ を棄却する.\n",
    "\n",
    "信頼度 $1-\\alpha$ 信頼区間は有意水準 $\\alpha$ で棄却されないパラメータ値 $p=p_0$ 全体の集合になっている.\n",
    "\n",
    "「棄却されないこと」は「判断を保留すること」を意味する.\n",
    "\n",
    "信頼区間に含まれるパラメータ値 $p=p_0$ については判断を保留することになるが, もしも信頼区間が十分に狭くなっていれば, その外側にある大部分のパラメータ値は検定の手続きによって棄却されており, 可能性として考慮すればよいのは, 十分に狭くなっている信頼区間に含まれるパラメータ値だけになっているので, 科学的に十分に意味のある結論を出すことができる場合が出て来る.\n",
    "\n",
    "ただし, 信頼区間を使って科学的に信頼できる結論を出すためには, データの取得法が信頼できるか, 採用した統計モデルは妥当であるか, その他見落としている重要な問題はないか, などの多くの問題をクリアする必要がある.\n",
    "\n",
    "機械的に信頼区間を計算して科学的な御墨付きが得られたような態度を取ることは誤りなので注意して欲しい."
   ]
  },
  {
   "cell_type": "markdown",
   "id": "66f2d548",
   "metadata": {},
   "source": [
    "### 二項分布モデルのClopper-Pearsonの信頼区間の効率的な計算の仕方\n",
    "\n",
    "Clopper-Pearsonの信頼区間は定義をうまく変形すると以下のように書き直される:\n",
    "\n",
    "$$\n",
    "\\confint_{\\CP}(k|n,\\alpha) = [p_L, p_U].\n",
    "$$\n",
    "\n",
    "ここで, $p_L, p_U$ は次の条件で特徴付けられる値である:\n",
    "\n",
    "$$\n",
    "\\begin{aligned}\n",
    "&\n",
    "1 - \\cdf(\\Binomial(n, p_L), k-1) = \\alpha/2,\n",
    "\\\\ &\n",
    "\\cdf(\\Binomial(n, p_U), k) = \\alpha/2.\n",
    "\\end{aligned}\n",
    "$$\n",
    "\n",
    "すなわち, 小さい方の $p_L$ は $p=p_L$ の二項分布内で $n$ 回中の当たりの回数が $k$ 以上になる確率が $\\alpha/2$ になるという条件で特徴付けられ, 大きい方の $p_U$ は $p=p_U$ の二項分布内で $n$ 回中当たりの回数が $k$ 回以下になる確率が $\\alpha/2$ になるという条件で特徴付けられる.\n",
    "\n",
    "問題はこの $p_L, p_U$ をどのように計算するかである.\n",
    "\n",
    "これには二項分布とベータ分布の間の関係を使う驚くべき方法がある.\n",
    "\n",
    "二項分布の累積分布函数(cumulative distribution function, cdf)の定義は\n",
    "\n",
    "$$\n",
    "\\cdf(\\Binomial(n, p), k) =\n",
    "\\sum_{i=0}^k \\binom{n}{i} p^i(1-p)^{n-i}\n",
    "$$\n",
    "\n",
    "である.  場合によっては万単位の個数の値を足し上げる計算になる. \n",
    "\n",
    "しかし, そういう和を取る計算をコンピュータで素朴に行うのはコンピュータ資源の無駄遣いになってしまう.\n",
    "\n",
    "なぜならば, すでに説明したように非常にうまい方法があるからである.\n",
    "\n",
    "__二項分布とベータ分布の関係:__\n",
    "\n",
    "$$\n",
    "\\begin{aligned}\n",
    "&\n",
    "1 - \\cdf(\\Binomial(n, p), k-1) = \\cdf(\\Beta(k, n-k+1), p),\n",
    "\\\\ &\n",
    "\\cdf(\\Binomial(n, p), k) = 1 - \\cdf(\\Beta(k+1, n-k), p).\n",
    "\\end{aligned}\n",
    "$$\n",
    "\n",
    "後者は前者から導かれる.\n",
    "\n",
    "以下でこれの前者を $n=20$, $k=7$ の場合に数値的に確認してみよう."
   ]
  },
  {
   "cell_type": "code",
   "execution_count": 5,
   "id": "4420b515",
   "metadata": {},
   "outputs": [
    {
     "data": {
      "image/png": "[encoded data removed]"
     },
     "execution_count": 5,
     "metadata": {},
     "output_type": "execute_result"
    }
   ],
   "source": [
    "n, k = 20, 7\n",
    "plot(p -> ccdf(Binomial(n, p), k-1), 0, 1; label=\"ccdf(Binomial(n, p), k-1)\")\n",
    "plot!(p -> cdf(Beta(k, n-k+1), p); label=\"cdf(Beta(k, n-k+1), p)\", ls=:dash)\n",
    "title!(\"n = $n, k = $k\", xguide=\"p\", legend=:bottomright)"
   ]
  },
  {
   "cell_type": "markdown",
   "id": "a9c93b5b",
   "metadata": {},
   "source": [
    "2つのグラフがぴったり重なり合っている. ($\\op{ccdf}$ は $1-\\cdf$ の意味である.)"
   ]
  },
  {
   "cell_type": "markdown",
   "id": "64085d4e",
   "metadata": {},
   "source": [
    "ベータ分布の累積分布函数 $\\cdf(\\Beta(k+1, n-k), p)$ は正則化された不完全ベータ函数という名前がついている基本特殊函数になっており, その $p$ に関する逆函数(分位点函数, quantile function)もコンピュータの基本特殊函数ライブラリの中で効率的に実装されている.  だから, \n",
    "\n",
    "$$\n",
    "1 - \\cdf(\\Binomial(n, p_L), k-1) = \\cdf(\\Beta(k, n-k+1), p_L) = \\alpha/2\n",
    "$$\n",
    "\n",
    "を満たす $p_L$ は, ベータ分布の分位点函数(quantile function)を用いて,\n",
    "\n",
    "$$\n",
    "p_L = \\quantile(\\Beta(k, n-k+1), \\alpha/2)\n",
    "$$\n",
    "\n",
    "を使えばコンピュータで効率的に計算できる. 同様に\n",
    "\n",
    "$$\n",
    "\\cdf(\\Binomial(n, p_U), k) = 1 - \\cdf(\\Beta(k+1, n-k), p_U) = \\alpha/2\n",
    "$$\n",
    "\n",
    "を満たす $p_U$ は\n",
    "\n",
    "$$\n",
    "p_U = \\quantile(\\Beta(k+1, n-k), 1-\\alpha/2)\n",
    "$$\n",
    "\n",
    "を使えばコンピュータで効率的に計算できる.\n",
    "\n",
    "__まとめ:__ 二項分布モデルのでClopper-Pearsonの信頼区間 $[p_L, p_U]$ は\n",
    "\n",
    "$$\n",
    "p_L = \\quantile(\\Beta(k, n-k+1), \\alpha/2), \\quad\n",
    "p_U = \\quantile(\\Beta(k+1, n-k), 1-\\alpha/2)\n",
    "$$\n",
    "\n",
    "と計算できる.\n",
    "\n",
    "__二項分布とベータ分布の間の関係が, コンピュータ上に実装された基本特殊函数ライブラリを通して, 二項分布モデルの場合の信頼区間の効率的な計算に役に立っている!__\n",
    "\n",
    "* 異なる確率分布に間の関係に関する数学\n",
    "* 不完全ベータ函数などの基本特殊函数に関する数学\n",
    "* それをコンピュータで実装するプログラミングの技術\n",
    "\n",
    "などの多くの技術を組み合わせることによって, Clopper-Pearsonの信頼区間のシンプルで効率的な計算法が実現されている!\n",
    "\n",
    "このようなことから, __このClopper-Pearsonの信頼区間についてこのように理解することは, 高等教育を受けた人達にとっての重要な教養になり得る__ と思われる. \n",
    "\n"
   ]
  },
  {
   "cell_type": "markdown",
   "id": "d5fb9f0f",
   "metadata": {},
   "source": [
    "例えば, $n=20$, $k=7$, $\\alpha=0.05$ の場合の信頼度 $1-\\alpha$ のClopper-Pearsonの信頼区間は次のように計算される."
   ]
  },
  {
   "cell_type": "code",
   "execution_count": 6,
   "id": "97951483",
   "metadata": {},
   "outputs": [
    {
     "name": "stdout",
     "output_type": "stream",
     "text": [
      "[0.1539092047845412, 0.5921885345328282]\n"
     ]
    }
   ],
   "source": [
    "n, k, α = 20, 7, 0.05\n",
    "[quantile(Beta(k, n-k+1), α/2), quantile(Beta(k+1, n-k), 1-α/2)] |> println"
   ]
  },
  {
   "cell_type": "markdown",
   "id": "165627fc",
   "metadata": {},
   "source": [
    "R言語を使って計算した結果も同じになっている:"
   ]
  },
  {
   "cell_type": "code",
   "execution_count": 7,
   "id": "b7e75873",
   "metadata": {},
   "outputs": [
    {
     "name": "stdout",
     "output_type": "stream",
     "text": [
      "[0.15390920478454115, 0.5921885345328282]\n"
     ]
    }
   ],
   "source": [
    "rcopy(R\"\"\"binom.test(7, 20, p=0.05)\"\"\")[:conf_int] |> println"
   ]
  },
  {
   "cell_type": "markdown",
   "id": "c3fcc8fd",
   "metadata": {},
   "source": [
    "WolframAlphaでも以下のようにすれば容易に計算できる.\n",
    "\n",
    "$p_L$ → `quantile(BetaDistribution(7, 20-7+1), 0.025)` → \\[[実行](https://www.wolframalpha.com/input?i=quantile%28BetaDistribution%287%2C+20-7%2B1%29%2C+0.025%29)\\] → 0.153909\n",
    "\n",
    "$p_U$ → `quantile(BetaDistribution(7+1, 20-7), 0.975)` → \\[[実行](https://www.wolframalpha.com/input?i=quantile%28BetaDistribution%287%2B1%2C+20-7%29%2C+0.975%29)\\] → 0.592189"
   ]
  },
  {
   "cell_type": "markdown",
   "id": "b55aae56",
   "metadata": {},
   "source": [
    "### 二項分布モデルのBayes統計\n",
    "\n",
    "二項分布とベータ分布の関係は通常の検定とBayes統計の関係を理解するためにも役に立つ.\n",
    "\n",
    "二項分布のベイズ統計では先に用意した二項分布の確率質量函数 $P(k|n,p)$ だけではなく, パラメータ $p$ に関する確率密度函数 $\\varphi(p)$ を任意に与え(目的に合わせて適切に事前分布を決めることになるが, 理論的には任意でよい), $(k, p)$ に関する同時分布 (joint distribution)\n",
    "\n",
    "$$\n",
    "P(k,p|n) = P(k|n,p)\\varphi(p), \\quad \\sum_{k=0}^n \\int_0^1 P(k, p|n)\\,dp = 1\n",
    "$$\n",
    "\n",
    "を考える.  そして, 「$n$ 回中 $k$ 回」の形のデータの数値が与えられたとき, このモデルの同時確率分布を, データと同じ数値が生成されたという条件で制限して得られるパラメータ $p$ に関する条件付き確率分布 $\\varphi(p|n,k)$ を考える:\n",
    "\n",
    "$$\n",
    "\\varphi(p|n,k) = \\frac{P(k|n,p)\\varphi(p)}{\\int_0^1 P(k|n,p)\\varphi(p)\\,dp}.\n",
    "$$\n",
    "\n",
    "このとき, $\\varphi(p)$ を __事前分布__ (prioir)と呼び, $\\varphi(p|n,k)$ を __事後分布__ (posterior)と呼ぶ.\n",
    "\n",
    "条件付き確率分布については\n",
    "\n",
    "* [「条件付き確率分布, 尤度, 推定, 記述統計」のノート](https://nbviewer.org/github/genkuroki/Statistics/blob/master/2022/06%20Conditional%20distribution%2C%20likelihood%2C%20estimation%2C%20and%20summary.ipynb)\n",
    "\n",
    "に解説がある.  数学的には\n",
    "\n",
    "* 確率＝全体に対する部分の割合\n",
    "* 条件付き確率＝部分に対する部分の割合\n",
    "\n",
    "のように考えると直観的に理解し易いと思う.  上の事後分布の公式を __ベイズの定理__ と呼ぶこともあるが, ベイズの定理を知らなくても, 条件付き確率分布について理解していれば困らない.\n",
    "\n",
    "事後分布 $\\varphi(p|n,k)$ の $p=p_0$ での値 $\\varphi(p=p_0|n,k)$ はデータの数値 $p=p_0$ とデータの数値 $n,k$ の統計モデル $P(k,p|n) = P(k|n,p)\\varphi(p)$ の下での整合性の指標として利用できる. (P値とはまた別のモデルとデータの整合性の指標が得られたことになる.)\n",
    "\n",
    "さて, 例によって, 問題はどのように事後分布と呼ばれる条件付き確率分布を計算するかである.\n",
    "\n",
    "事後分布の公式を見れば分母が積分\n",
    "\n",
    "$$\n",
    "Z(k|n) := \\int_0^1 P(k|n,p)\\varphi(p)\\,dp\n",
    "$$\n",
    "\n",
    "になっていて, その積分の部分の計算が大変そうなことがわかる.  (事後分布の分母を __周辺尤度__ (marginal likelihood)と呼ぶことがある.  他にも様々な呼び方があるが, 呼び方自体は重要ではない.)\n",
    "\n",
    "二項分布の場合には, 事前分布としてベータ分布を採用すると, 事後分布もベータ分布になり, 事後分布の計算が著しく単純化される.  この事実をベータ分布は二項分布の __共役事前分布__ (conjugate prior)であるという.\n",
    "\n",
    "以下では $\\varphi(p)$ が $\\Beta(a, b)$ ($a,b>0$)の確率密度函数であると仮定する:\n",
    "\n",
    "$$\n",
    "\\varphi(p) = \\frac{p^{a-1}(1-p)^{b-1}}{B(a, b)} \\quad (0 < p < 1).\n",
    "$$\n",
    "\n",
    "このとき, 事後分布の分母は次のように計算される:\n",
    "\n",
    "$$\n",
    "\\begin{aligned}\n",
    "Z(k|n) &=\n",
    "\\int_0^1 \\binom{n}{k} p^k(1-p)^{n-k}\\frac{p^{a-1}(1-p)^{b-1}}{B(a, b)}\\,dp\n",
    "\\\\ &=\n",
    "\\binom{n}{k}\\frac{1}{B(a,b)}\\int_0^1 p^{a+k-1}(1-p)^{b+n-k}\\,dp\n",
    "\\\\ &=\n",
    "\\binom{n}{k}\\frac{B(a+k, b+n-k)}{B(a,b)}.\n",
    "\\end{aligned}\n",
    "$$\n",
    "\n",
    "ゆえに, 事後分布は次のようになる:\n",
    "\n",
    "$$\n",
    "\\begin{aligned}\n",
    "\\varphi(p|n,k) &= \\frac{P(k|n,p)\\varphi(p)}{Z(k|n)}\n",
    "\\\\ &=\n",
    "\\binom{n}{k}\\frac{1}{B(a,b)}p^{a+k-1}(1-p)^{b+n-k}\n",
    "\\times \\left(\\binom{n}{k}\\frac{B(a+k, b+n-k)}{B(a,b)}\\right)^{-1}\n",
    "\\\\ &=\n",
    "\\frac{p^{a+k-1}(1-p)^{b+n-k}}{B(a+k, b+n-k)}.\n",
    "\\end{aligned}\n",
    "$$\n",
    "\n",
    "以上によって, 事前分布が共役事前分布 $\\Beta(a,b)$ のとき, データ「$n$ 回中 $k$ 回」から得られる事後分布は $\\Beta(a+k,b+n-k)$ になることがわかった.\n",
    "\n",
    "$a,b>0$ と仮定していたが, $a=0$ または $b=0$ の場合にも, $a+k$ と $b+n-k$ が共に正になるならば, 事後分布は $\\Beta(a+k, b+n-k)$ はうまく定義されている.  このような場合のうまく定義されていない事前分布は __improper事前分布__ (improper prior)と呼ばれている.\n",
    "\n",
    "この節の事柄については\n",
    "\n",
    "* [「例：ベータ函数と二項分布の関係とその応用」のノート](https://nbviewer.org/github/genkuroki/Statistics/blob/master/2022/07-1%20Relationship%20between%20beta%20and%20binomial%20distributions.ipynb)\n",
    "\n",
    "の最後の方にも解説がある."
   ]
  },
  {
   "cell_type": "markdown",
   "id": "8f253a28",
   "metadata": {},
   "source": [
    "### P値とBayes統計の関係\n",
    "\n",
    "二項分布とベータ分布の累積分布函数の間には以下の関係があるのであった:\n",
    "\n",
    "$$\n",
    "\\begin{aligned}\n",
    "&\n",
    "1 - \\cdf(\\Binomial(n, p_0), k-1) = \\cdf(\\Beta(k, n-k+1), p_0),\n",
    "\\\\ &\n",
    "\\cdf(\\Binomial(n, p_0), k) = 1 - \\cdf(\\Beta(k+1, n-k), p_0).\n",
    "\\end{aligned}\n",
    "$$\n",
    "\n",
    "一般に分布 $D$ について累積分布函数 $\\cdf(D, x)$ は分布 $D$ に従う確率変数 $X$ が $x$ 以下になる確率を意味することに注意せよ.\n",
    "\n",
    "ゆえに上の公式の前者の両辺は以下のような解釈を持つ:\n",
    "\n",
    "* $1 - \\cdf(\\Binomial(n, p_0), k-1)$ (分布 $\\Binomial(n, p_0)$ で $k$ 以上になる確率)は仮説 $p\\le p_0$ に関する片側検定のP値である.\n",
    "* $\\cdf(\\Beta(k, n-k+1), p_0)$ はimproper事前分布 $\\Beta(0,1)$ の下での事後分布 $\\Beta(k, n-k+1)$ において仮説 $p\\le p_0$ が成立する確率である.\n",
    "\n",
    "このように, 仮説 $p\\le p_0$ の片側検定のP値はBayes統計での事後分布において仮説 $p\\le p_0$ が成立する確率に一致する. 同様に, \n",
    "\n",
    "* $\\cdf(\\Binomial(n, p_0), k)$ (分布 $\\Binomial(n, p_0)$ で $k$ 以下になる確率)は仮説 $p\\ge p_0$ に関する片側検定のP値である.\n",
    "* $1 - \\cdf(\\Beta(k+1, n-k), p_0)$ はimproper事前分布 $\\Beta(1,0)$ の下での事後分布 $\\Beta(k+1, n-k+1)$ において仮説 $p\\ge p_0$ が成立する確率である.\n",
    "\n",
    "ゆえに, 仮説 $p\\ge p_0$ の片側検定のP値はBayes統計での事後分布において仮説 $p\\ge p_0$ が成立する確率に一致する.\n",
    "\n",
    "このように, 数学的にはP値とBayes統計のあいだにexactな関係が付けられる場合もある.\n",
    "\n",
    "__P値を使う統計学とBayes統計は決して水と油ではない.__\n",
    "\n",
    "以上によって, 片側検定のP値については, Bayes統計でのexactな解釈が得られたことになる.\n",
    "\n",
    "しかし, 通常使われるP値は両側検定のP値(Clopper-Pearson型のP値では片側検定のP値の2倍を両側検定のP値として採用する)とBayes統計の関係はどうなっているのだろうか?\n",
    "\n",
    "Clopper-Pearson型のP値のBayes統計での類似物を構成するには, 上の片側検定の場合に関する結果を利用すればよい.\n",
    "\n",
    "そのときに問題になることは, 片側検定の向きを変えると, 使用する(improper)事前分布が $\\Beta(0,1)$ と $\\Beta(1,0)$ のあいだで変化してしまうことである.\n",
    "\n",
    "そこで, 両側検定のP値のBayes統計によるexactな解釈を作ることはあきらめて, 近似的な関係を得ることを目標にしよう.\n",
    "\n",
    "そのためには事前分布として $\\Beta(0,1)$ と $\\Beta(1,0)$ の中間に位置する $\\Beta(1/2,1/2)$ を採用すると良さそうであると予想され, 実際にそうであることが計算によって確認可能である.\n",
    "\n",
    "$\\Beta(1/2,1/2)$ は二項分布の __Jeffreys事前分布__ と呼ばれる.\n",
    "\n",
    "他の選択肢として, 事前分布として平坦事前分布 $\\Beta(1,1)$ を採用することも考えられる. ($\\Beta(1,1)$ の確率密度函数は $\\varphi(p)=1$ ($0<p<1$) となるので, __平坦事前分布__ または __一様事前分布__ と呼んだりする.)\n",
    "\n",
    "事前分布として平坦事前分布を採用すると, 両側検定のP値との対応において, Jeffreys事前分布を採用した場合よりも誤差が増えるが, $k$ と $n-k$ が大きければ, $\\Beta(k+1/2, n-k+1/2)$ と $\\Beta(k+1,n-k+1)$ の違いは小さくなるので, 実践的な応用の場面では問題でなくなる.\n",
    "\n",
    "以下では, 事前分布が $\\Beta(a,a)$ である場合を考える.\n",
    "\n",
    "このとき, 事後分布は $\\Beta(k+a, n-k+a)$ になる. \n",
    "\n",
    "この事後分布における仮説 $p=p_0$ の両側検定に関するClopper-Pearson型のP値函数の類似物は次のように定義される:\n",
    "\n",
    "$$\n",
    "\\pvalue_{\\Bayes}(k|n,p=p_0) =\n",
    "\\min\\begin{pmatrix}\n",
    "1 \\\\\n",
    "2\\cdf(\\Beta(k+a, n-k+a), p_0) \\\\\n",
    "2(1 - \\cdf(\\Beta(k+a, n-k+a), p_0)) \\\\\n",
    "\\end{pmatrix}.\n",
    "$$\n",
    "\n",
    "これは, 二項分布に関するClopper-Pearson型のP値をそのままベータ分布に一般化しただけの定義になっている.\n",
    "\n",
    "さらに, 通常のP値として, Clopper-Pearson型のP値だけではなく, 正規分布近似(中心極限定理)を使ったWilson型のP値函数も考えることにしよう:\n",
    "\n",
    "$$\n",
    "\\pvalue_{\\Wilson}(k|n,p=p_0) =\n",
    "2\\left(1 - \\cdf\\left(\\Normal(0,1), \\frac{|k - np_0|}{\\sqrt{np_0(1-p_0)}}\\right)\\right).\n",
    "$$\n",
    "\n",
    "このとき, 次が成立している.\n",
    "\n",
    "__結論:__ $k$ と $n-k$ が大きければ, 以上の3つのP値 $\\pvalue_{\\CP}(k|n,p=p_0)$, $\\pvalue_{\\Bayes}(k|n,p=p_0)$, $\\pvalue_{\\Wilson}(k|n,p=p_0)$ は近似的に一致する.\n",
    "\n",
    "要するに, 両側検定の通常使われるP値についても, Bayes統計での近似的な解釈が存在する.\n",
    "\n",
    "これを $n=100$, $k=30$ の場合に数値的に確認してみよう."
   ]
  },
  {
   "cell_type": "code",
   "execution_count": 8,
   "id": "0e8fb20a",
   "metadata": {},
   "outputs": [
    {
     "data": {
      "text/plain": [
       "pvalue_wald (generic function with 1 method)"
      ]
     },
     "execution_count": 8,
     "metadata": {},
     "output_type": "execute_result"
    }
   ],
   "source": [
    "# 上に書いてある通りのP値の定義\n",
    "\n",
    "function pvalue_cp(k, n, p)\n",
    "    bin = Binomial(n, p)\n",
    "    min(1, 2cdf(bin, k), 2ccdf(bin, k-1))\n",
    "end\n",
    "\n",
    "function pvalue_wilson(k, n, p)\n",
    "    z = (k - n*p)/√(n*p*(1-p))\n",
    "    2ccdf(Normal(0, 1), abs(z))\n",
    "end\n",
    "\n",
    "function pvalue_bayes(k, n, p; a=1/2)\n",
    "    beta = Beta(k+a, n-k+a)\n",
    "    min(1, 2cdf(beta, p), 2ccdf(beta, p))\n",
    "end\n",
    "\n",
    "# 後で使うための別のP値の定義\n",
    "\n",
    "function pvalue_sterne(k, n, p)\n",
    "    bin = Binomial(n, p)\n",
    "    # 次はnaiveな定義で計算効率は非常に悪い\n",
    "    sum(pdf(bin, i) for i in support(bin) if pdf(bin, i) ⪅ pdf(bin, k))\n",
    "end\n",
    "\n",
    "function pvalue_wald(k, n, p)\n",
    "    phat = k/n\n",
    "    z = (k - n*p)/√(n*phat*(1-phat))\n",
    "    2ccdf(Normal(0, 1), abs(z))\n",
    "end"
   ]
  },
  {
   "cell_type": "code",
   "execution_count": 9,
   "id": "a49a655d",
   "metadata": {},
   "outputs": [
    {
     "data": {
      "image/png": "[encoded data removed]"
     },
     "execution_count": 9,
     "metadata": {},
     "output_type": "execute_result"
    }
   ],
   "source": [
    "n, k, a = 100, 30, 1/2\n",
    "xlim = (0.1, 0.5)\n",
    "P1 = plot(p -> pvalue_cp(k, n, p), xlim...; label=\"Clopper-Pearson\")\n",
    "P2 = plot(p -> pvalue_wilson(k, n, p), xlim...; label=\"Wilson\", c=2, ls=:dash)\n",
    "P3 = plot(p -> pvalue_bayes(k, n, p; a), xlim...; label=\"Bayes(a=$a)\", c=3, ls=:dashdot)\n",
    "P4 = plot(p -> pvalue_cp(k, n, p), xlim...; label=\"Clopper-Pearson\")\n",
    "plot!(p -> pvalue_wilson(k, n, p), xlim...; label=\"Wilson\", c=2, ls=:dash)\n",
    "plot!(p -> pvalue_bayes(k, n, p; a), xlim...; label=\"Bayes(a=$a)\", c=3, ls=:dashdot)\n",
    "\n",
    "plot(P1, P2, P3, P4; size=(800, 500))"
   ]
  },
  {
   "cell_type": "markdown",
   "id": "45e1a4f5",
   "metadata": {},
   "source": [
    "3つのP値函数が近似的に一致しており, 特にJeffreys事前分布でのBayes版のP値函数は正規分布近似を使って定義されたWilson版のP値函数と非常によく一致している."
   ]
  },
  {
   "cell_type": "code",
   "execution_count": 10,
   "id": "f41436c5",
   "metadata": {},
   "outputs": [
    {
     "data": {
      "image/png": "[encoded data removed]"
     },
     "execution_count": 10,
     "metadata": {},
     "output_type": "execute_result"
    }
   ],
   "source": [
    "n, k, a = 100, 30, 1\n",
    "xlim = (0.1, 0.5)\n",
    "P1 = plot(p -> pvalue_cp(k, n, p), xlim...; label=\"Clopper-Pearson\")\n",
    "P2 = plot(p -> pvalue_wilson(k, n, p), xlim...; label=\"Wilson\", c=2, ls=:dash)\n",
    "P3 = plot(p -> pvalue_bayes(k, n, p; a), xlim...; label=\"Bayes(a=$a)\", c=3, ls=:dashdot)\n",
    "P4 = plot(p -> pvalue_cp(k, n, p), xlim...; label=\"Clopper-Pearson\")\n",
    "plot!(p -> pvalue_wilson(k, n, p), xlim...; label=\"Wilson\", c=2, ls=:dash)\n",
    "plot!(p -> pvalue_bayes(k, n, p; a), xlim...; label=\"Bayes(a=$a)\", c=3, ls=:dashdot)\n",
    "\n",
    "plot(P1, P2, P3, P4; size=(800, 500))"
   ]
  },
  {
   "cell_type": "markdown",
   "id": "e52dc78d",
   "metadata": {},
   "source": [
    "平坦事前分布の場合にも, Bayes版のP値函数はWilson型のP値函数とよく一致している."
   ]
  },
  {
   "cell_type": "markdown",
   "id": "b3bc2729",
   "metadata": {},
   "source": [
    "以上のグラフを見ても, P値を使う統計学とBayes統計が水と油だと考えることはバカげているように思われる."
   ]
  },
  {
   "cell_type": "markdown",
   "id": "e5408546",
   "metadata": {},
   "source": [
    "### 復習: 二項分布とベータ分布の関係の証明\n",
    "\n",
    "以上を理解できた人は二項分布とベータ分布の累積分布函数の関係を完璧に理解しておくことの価値は大きいと感じると思われる.\n",
    "\n",
    "以下では, 再度, 二項分布とベータ分布の累積分布函数の関係を証明しておく.\n",
    "\n",
    "__大事なことは何度でも証明しておいた方がよい.__"
   ]
  },
  {
   "cell_type": "markdown",
   "id": "d0a2e803",
   "metadata": {},
   "source": [
    "#### 両辺を p  で微分して確認する方法\n",
    "\n",
    "証明したい公式\n",
    "\n",
    "$$\n",
    "1 - \\cdf(\\Binomial(n, p), k-1) = \\cdf(\\Beta(k, n-k+1), p)\n",
    "\\quad (k=1,2,\\ldots,n)\n",
    "$$\n",
    "\n",
    "の両辺を具体的に書き下すと以下のようになる:\n",
    "\n",
    "$$\n",
    "\\sum_{i=k}^n \\binom{n}{i} p^i (1-p)^{n-i} = \\frac{\\int_0^p t^{k-1}(1-t)^{n-k}\\,dt}{B(k, n-k+1)}\n",
    "\\quad (k=1,2,\\ldots,n).\n",
    "\\tag{$*$}\n",
    "$$\n",
    "\n",
    "$p=0$ のとき, $k\\ge 1$ より($*$)の左辺は $0$ になり, ($*$)の右辺も $0$ になる. \n",
    "\n",
    "($*$)の左辺を $p$ で微分すると,\n",
    "\n",
    "$$\n",
    "\\begin{aligned}\n",
    "\\frac{\\partial}{\\partial p}(\\text{($*$)の左辺}) &=\n",
    "\\sum_{i\\ge k} \\frac{n!}{i!(n-i)!}i p^{i-1}(1-p)^{n-i} -\n",
    "\\sum_{i\\ge k} \\frac{n!}{i!(n-i)!}(n-i) p^i(1-p)^{n-i-1}\n",
    "\\\\ &=\n",
    "\\sum_{i\\ge k} \\frac{n!}{(i-1)!(n-i)!} p^{i-1}(1-p)^{n-i} -\n",
    "\\sum_{i\\ge k} \\frac{n!}{i!(n-i-1)!} p^i(1-p)^{n-i-1}\n",
    "\\\\ &=\n",
    "\\sum_{i\\ge k} \\frac{n!}{(i-1)!(n-i)!} p^{i-1}(1-p)^{n-i} -\n",
    "\\sum_{i\\ge k+1} \\frac{n!}{(i-1)!(n-i)!} p^{i-1}(1-p)^{n-i}\n",
    "\\\\ &\n",
    "\\frac{n!}{(k-1)!(n-k)!} p^{k-1}(1-p)^{n-k}.\n",
    "\\end{aligned}\n",
    "$$\n",
    "\n",
    "3つめの等号は2つめの和の項のインデックスの $i$ を $i-1$ で置き換えることによって得られる. \n",
    "\n",
    "一方, $\\Gamma(i+1)=i!$ ($i=0,1,2,\\ldots$)より,\n",
    "\n",
    "$$\n",
    "\\frac{1}{B(k, n-k+1)} = \\frac{\\Gamma(n+1)}{\\Gamma(k)\\Gamma(n-k+1)} =\n",
    "\\frac{n!}{(k-1)!(n-k)!}\n",
    "$$\n",
    "\n",
    "なので, ($*$)の右辺を $p$ で微分すると,\n",
    "\n",
    "$$\n",
    "\\frac{\\partial}{\\partial p}(\\text{($*$)の右辺}) =\n",
    "\\frac{n!}{(k-1)!(n-k)!} p^{k-1}(1-p)^{n-k}.\n",
    "$$\n",
    "\n",
    "($*$)の両辺は $p=0$ のとき互いに等しく, 導函数も互いに等しい.  ゆえに($*$)の左辺と右辺は等しい."
   ]
  },
  {
   "cell_type": "markdown",
   "id": "50512d8e",
   "metadata": {},
   "source": [
    "#### ベータ分布の一様分布の順序統計量の分布として解釈を使う方法\n",
    "\n",
    "前節での($*$)の証明法では公式($*$)が成立する理由はよくわからないので, この節では一様分布の順序統計量としてベータ分布が解釈できることを使った照明を紹介しよう.\n",
    "\n",
    "$T_1,\\ldots,T_n$ は $0$ から $1$ のあいだの $n$ 個の独立な一様乱数であるとし, その中で $k$ 番目に小さなものを $\\T{k}$ と書く($\\T{k}$ を一様分布の順序統計量と呼ぶ).\n",
    "\n",
    "このとき, $\\T{k}\\le p$ となることと, $T_1,\\ldots,T_n$ の中に $p$ 以下のものが $k$ 個以上あることは同値である. 各々の $T_i$ が $p$ 以下になる確率は $p$ なので, $T_1,\\ldots,T_n$ の中に含まれる $p$ 以下のものの個数は二項分布 $\\Binomial(n, p)$ に従う. したがって, \n",
    "\n",
    "$$\n",
    "(\\text{$\\T{k}\\le p$ となる確率}) =\n",
    "(\\text{二項分布 $\\Binomial(n, p)$ において $k$ 以上になる確率}) =\n",
    "\\sum_{i\\ge k} \\binom{n}{i} p^i (1-p)^{n-i}.\n",
    "$$\n",
    "\n",
    "一方, $t \\le \\T{k} \\le t + dt$ となる確率は\n",
    "\n",
    "$$\n",
    "\\begin{aligned}\n",
    "&\n",
    "(\\text{$t \\le \\T{k} \\le t + dt$ となる確率})\n",
    "\\\\ &=\n",
    "(\\text{$\\T{1}\\le\\cdots\\le\\T{k-1}\\le\\T{k}\\le t+dt$ かつ $t\\le\\T{k}\\le\\T{k+1}\\le\\cdots\\le\\T{n}$ となる確率})\n",
    "\\\\ &\\approx\n",
    "(\\text{$\\T{1}\\le\\cdots\\le\\T{k-1}\\le t\\le\\T{k}\\le t+dt\\le\\T{k+1}\\le\\cdots\\le\\T{n}$ となる確率})\n",
    "\\\\ &=\n",
    "(\\text{$T_1,\\ldots,T_n$ のうち $k-1$ 個が $t$ 以下で, 1個が $[t, t+dt]$ に含まれ, $n-k$ 個が $t+dt$ 以上の確率})\n",
    "\\\\ &=\n",
    "\\frac{n!}{(k-1)!1!(n-k)!} t^{k-1}\\,dt\\,(1-t)^{n-k}\n",
    "\\end{aligned}\n",
    "$$\n",
    "\n",
    "と近似され, 誤差は $dt$ より高次の微小量になる.  $\\T{1}\\le\\T{2}\\le\\cdots\\le\\T{n}$ が $T_i$ 達を小さな順序に並べたものになっていることおよび, $n!/((k-1)!1!(n-k)!)$ が $n$ 個の $T_1,\\dots,T_n$ を $k-1$ 個, $1$ 個, $n-k$ 個にグループ分けする方法全体の個数(多項係数の特別な場合)になっていることに注意せよ. そして, \n",
    "\n",
    "$$\n",
    "\\frac{n!}{(k-1)!1!(n-k)!} =\n",
    "\\frac{\\Gamma(n+1)}{\\Gamma(k)\\Gamma(n-k+1)} =\n",
    "\\frac{1}{B(k, n-k+1)}\n",
    "$$\n",
    "\n",
    "なので, $\\T{k}$ が従う分布の確率密度函数はベータ分布 $\\Beta(k, n-k+1)$ の密度函数\n",
    "\n",
    "$$\n",
    "p(t) = \\frac{t^{k-1}(1-t)^{n-k}}{B(k, n-k+1)}\n",
    "$$\n",
    "\n",
    "に一致することがわかる. したがって,\n",
    "\n",
    "$$\n",
    "(\\text{$\\T{k}\\le p$ となる確率}) =\n",
    "\\int_0^p p(t)\\,dt =\n",
    "\\frac{\\int_0^p t^{k-1}(1-t)^{n-k}\\,dt}{B(k, n-k+1)}.\n",
    "$$\n",
    "\n",
    "これを上で示した結果と比較することによって次が得られる:\n",
    "\n",
    "$$\n",
    "\\sum_{i=k}^n \\binom{n}{i} p^i (1-p)^{n-i} = \\frac{\\int_0^p t^{k-1}(1-t)^{n-k}\\,dt}{B(k, n-k+1)}.\n",
    "$$"
   ]
  },
  {
   "cell_type": "markdown",
   "id": "adef601d",
   "metadata": {},
   "source": [
    "## P値函数について\n",
    "\n",
    "P値函数に関する考え方の簡潔な説明については次の論文を参照せよ:\n",
    "\n",
    "* Valentin Amrhein and Sander Greenland, Discuss practical importance of results based on interval estimates and p-value functions, not only on point estimates and null p-values, Journal of Information Technology, First Published June 3, 2022. \\[[doi](https://doi.org/10.1177%2F02683962221105904)\\]"
   ]
  },
  {
   "cell_type": "markdown",
   "id": "871c9950",
   "metadata": {},
   "source": [
    "### P値はモデルのパラメータ値とデータの数値の整合性の指標の1つとして定義される\n",
    "\n",
    "我々は, データとそれの生成のされ方を確率分布でモデル化し, そのとき使われたパラメータ付きの確率分布を統計モデルと呼ぶのであった.\n",
    "\n",
    "例えば, 「$n$ 回中 $k$ 回当たりが出た」の形のデータの生成のされ方の統計モデルの代表例は二項分布モデル $\\Binomial(n,p)$ であり, 当たりが出る確率は成功確率パラメータ $p$ でモデル化される.\n",
    "\n",
    "以下では, データの数値 $x$ の生成のされ方をパラメータ $\\theta$ を持つ統計モデル $M(\\theta)$ でモデル化している状況を考える.\n",
    "\n",
    "そしてさらに, データの数値 $x$ に関する仮説 $\\theta=\\theta_0$ のP値 $\\pvalue(x|\\theta=\\theta_0)$ が適切に定義されている状況を考える.\n",
    "\n",
    "P値は, データの数値 $x$ と仮説 $\\theta=\\theta_0$ の下での統計モデル $M(\\theta=\\theta_0)$ の整合性の指標の1つである. \n",
    "\n",
    "ここでの整合性は英語では compatibility や consititency という意味である.\n",
    "\n",
    "例えば, 上の二項分布モデルの場合には, 「$100$ 回中 $40$ 回当たりが出た」というデータが得られたとき, 仮説 $p=1/2$ のP値(Clopper-Pearsonの信頼区間を与えるP値)は約 $5.7\\%$ になる. \n",
    "\n",
    "__その $5.7\\%$ というP値は「$100$ 回中 $40$ 回当たりが出た」というデータと「当たりが出る確率は $p=1/2$ である」という仮説の整合性の指標として使われることになる.__\n",
    "\n",
    "そのとき, 背景にある統計モデルの妥当性に注意を払う必要がある.\n",
    "\n",
    "P値の定義の仕方によって, その値は微妙に異なった値になる. そういう細かな違いに結果が影響されないような頑健な議論を目指すべきである."
   ]
  },
  {
   "cell_type": "code",
   "execution_count": 11,
   "id": "a7a115d7",
   "metadata": {},
   "outputs": [
    {
     "name": "stdout",
     "output_type": "stream",
     "text": [
      "(k, n, p) = (40, 100, 1 / 2) = (40, 100, 0.5)\n",
      "pvalue_cp(k, n, p) = 0.05688793364098078\n",
      "pvalue_sterne(k, n, p) = 0.05688793364098067\n",
      "pvalue_wilson(k, n, p) = 0.04550026389635841\n",
      "pvalue_wald(k, n, p) = 0.041226833337163676\n"
     ]
    }
   ],
   "source": [
    "@show k, n, p = 40, 100, 1/2\n",
    "@show pvalue_cp(k, n, p)\n",
    "@show pvalue_sterne(k, n, p)\n",
    "@show pvalue_wilson(k, n, p)\n",
    "@show pvalue_wald(k, n, p);"
   ]
  },
  {
   "cell_type": "markdown",
   "id": "7ccd1cf2",
   "metadata": {},
   "source": [
    "### P値は信頼区間を考えたいすべてのパラメータ値について定義されている\n",
    "\n",
    "二項分布モデルの場合には仮説 $p=1/2$ に限らず, $0$ から $1$ のあいだの任意の数値 $p_0$ について, 仮説 $p=p_0$ についてP値が定義されている.\n",
    "\n",
    "それによって, 「$100$ 回中 $40$ 回当たりが出た」というデータが得られたとき, 仮説 $p=p_0$ における $p_0$ を動かしながらP値を計算することによって, $p=1/2$ の場合以外についても仮説 $p=p_0$ と「$100$ 回中 $40$ 回当たりが出た」というデータの整合性達がどうなっているかを知ることができる.\n",
    "\n",
    "一般に, 値 $p_0$ に対して, データ $x$ に関する仮説 $p=p_0$ のP値を対応させる函数を __P値函数__ (P-value function)と呼ぶ.\n",
    "\n",
    "P値函数は, 統計モデルについて, データの数値とパラメータ値のあいだの整合性(相性)の様子全体の情報を持っている重要な函数である.\n",
    "\n",
    "以下で4種のP値函数のグラフをプロットしてみよう."
   ]
  },
  {
   "cell_type": "code",
   "execution_count": 12,
   "id": "50dd0cf6",
   "metadata": {},
   "outputs": [
    {
     "data": {
      "image/png": "[encoded data removed]"
     },
     "execution_count": 12,
     "metadata": {},
     "output_type": "execute_result"
    }
   ],
   "source": [
    "k, n = 40, 100\n",
    "xlim = (0.2, 0.6)\n",
    "P1 = plot(p -> pvalue_cp(k, n, p), xlim...;\n",
    "    label=\"\", title=\"Clopper-Pearson (n = $n, k = $k)\")\n",
    "P2 = plot(p -> pvalue_sterne(k, n, p), xlim...;\n",
    "    label=\"\", title=\"Sterne (n = $n, k = $k)\", c=2)\n",
    "P3 = plot(p -> pvalue_wald(k, n, p), xlim...;\n",
    "    label=\"\", title=\"Wald (n = $n, k = $k)\", c=3)\n",
    "P4 = plot(p -> pvalue_wilson(k, n, p), xlim...;\n",
    "    label=\"\", title=\"Wilson (n = $n, k = $k)\", c=4)\n",
    "plot(P1, P2, P3, P4; xguide=\"p = p₀\", yguide=\"P-value\", size=(800, 500))"
   ]
  },
  {
   "cell_type": "markdown",
   "id": "00e781a9",
   "metadata": {},
   "source": [
    "近似的にはどれもほぼ同じ形をしている."
   ]
  },
  {
   "cell_type": "markdown",
   "id": "e01a946a",
   "metadata": {},
   "source": [
    "### 分割表の場合のP値函数\n",
    "\n",
    "「Aでは $m=a+b$ 回中 $a$ 回当たりが出て, Bでは $n=c+d$ 回中 $c$ 回当たりが出た」の形式のデータを\n",
    "\n",
    "$$\n",
    "\\begin{array}{|c|cc|c|}\n",
    "\\hline\n",
    "& \\text{当たり} & \\text{はずれ} & \\text{合計} \\\\\n",
    "\\hline\n",
    "\\text{A} & a & b & m \\\\\n",
    "\\text{B} & c & d & n \\\\\n",
    "\\hline\n",
    "\\end{array}\n",
    "$$\n",
    "\n",
    "のように $2\\times 2$ の分割表で表すのであった.\n",
    "\n",
    "このようなデータの生成のされ方の統計モデルとして, 2つの二項分布モデル $\\Binomial(m,p)\\times\\Binomial(n,q)$ を採用しよう.\n",
    "\n",
    "このモデル内で, $a$ の値は分布 $\\Binomial(m,p)$ に従ってランダムに決まり, $c$ の値はそれとは独立に分布 $\\Binomial(n,q)$ に従ってランダムに決まっていると考える.  $a+b=m$, $c+d=n$ は固定されているので, $a,c$ から $b,d$ が自動的に決まる.\n",
    "\n",
    "応用時に重要になるのは, $p$ と $q$ の違いである.\n",
    "\n",
    "__入門的な多くの教科書では非常に残念なことに, 仮説 $p=q$ のP値の定義しか書かれておらず, $p$ と $q$ の違いの大きさを表す指標の信頼区間の定義が書かれていない.__\n",
    "\n",
    "これが前節で, __P値は信頼区間を考えたいすべてのパラメータ値について定義されている__ と強調したくなった理由である.\n",
    "\n",
    "しかし, 我々はすでに\n",
    "\n",
    "* [「検定と信頼区間: 比率の比較」のノート](https://nbviewer.org/github/genkuroki/Statistics/blob/master/2022/11%20Hypothesis%20testing%20and%20confidence%20interval%20-%20Two%20proportions.ipynb)\n",
    "\n",
    "で $p$ と $q$ の違いを表す3つの指標についてP値と信頼区間を定義している:\n",
    "\n",
    "* オッズ比パラメータ $\\ds \\OR = \\frac{p/(1-p)}{q/(1-q)} = \\frac{p(1-q)}{(1-p)q}$,\n",
    "* リスク比パラメータ $\\ds \\RR = \\frac{p}{q}$,\n",
    "* リスク差パラメータ $\\ds \\RD = p - q$.\n",
    "\n",
    "この点は入門的な教科書の多くとは一線を画する点である. この点に関しては, Rothmanさん達の有名な疫学の教科書\n",
    "\n",
    "* Rothman, Lash, and Greenland, Modern Epidemiology \\[[Googleで検索](https://www.google.com/search?q=Rothman+Lash+Greenland+Modern+Epidemiology)\\]\n",
    "\n",
    "が詳しい. 講義動画\n",
    "\n",
    "* 佐藤俊哉, 臨床研究者のための生物統計学「回帰モデルと傾向スコア」2019年2月21日 \\[[YouTube](https://youtu.be/cOHN444kBlo)\\]\n",
    "\n",
    "も参照せよ. 8:30以降の「変換しない場合」がリスク差パラメータを $p$ と $q$ の違いの指標として採用した場合に対応しており, 10:30以降の「対数変換の場合」がリスク比パラメータを $p$ と $q$ の違いの指標として採用した場合に対応しており, 12:00以降の「ロジット変換の場合」がオッズ比パラメータ(正確にはその対数)を $p$ と $q$ の違いの指標として採用した場合に対応している.  「ロジット変換の場合」はロジスティック回帰の話になっている.  ただし, 複数の分割表のデータを扱うより複雑な場合を扱っている."
   ]
  },
  {
   "cell_type": "markdown",
   "id": "137a2831",
   "metadata": {},
   "source": [
    "### P値函数から信頼区間が定義される\n",
    "\n",
    "P値が信頼区間を考えたいすべてのパラメータ値について定義されていることの利点は, 言うまでもないことだが, 信頼区間を定義できることである.\n",
    "\n",
    "一般に, データ $x$ の生成のされ方に関する統計モデル $M(\\theta)$ に関するP値函数 $\\pvalue(x|\\theta=\\theta_0)$ が与えられているとき, パラメータ $\\theta$ に関する信頼度 $1-\\alpha$ の信頼区間 ($100(1-\\alpha)\\%$ 信頼区間)は次のように定義される:\n",
    "\n",
    "$$\n",
    "\\confint^\\theta(x|\\alpha) =\n",
    "\\{\\, \\theta_0 \\mid \\pvalue(x|\\theta=\\theta_0) \\ge \\alpha\\,\\}.\n",
    "$$\n",
    "\n",
    "すなわち, データの数値 $x$ について仮説 $\\theta = \\theta_0$ のP値が $\\alpha$ 以上になるような $\\theta_0$ 全体の集合が信頼区間になる.\n",
    "\n",
    "ここで使われている閾値 $\\alpha$ は有意水準と呼ばれることがある.\n",
    "\n",
    "コンピュータで計算するときには, $\\pvalue(x|\\theta=\\theta_0)=\\alpha$ を満たす $\\theta_0$ の値を2分法やNewton法などで計算すれば, 一般的な場合にも信頼区間を概ね計算できる.\n",
    "\n",
    "しかし, それだとバグも発生し易くなるし, 計算効率も悪くなりがちなので, 信頼区間を直接できるシンプルな公式がある場合にはそれを使うことになる."
   ]
  },
  {
   "cell_type": "markdown",
   "id": "8058e4f1",
   "metadata": {},
   "source": [
    "### 2×2の分割表のP値と信頼区間とP値函数の例\n",
    "\n",
    "以下では2×2の分割表のデータの数値\n",
    "\n",
    "$$\n",
    "\\begin{array}{|c|cc|c|}\n",
    "\\hline\n",
    "& \\text{当たり} & \\text{はずれ} \\\\\n",
    "\\hline\n",
    "\\text{A} & a=30 & b=70 \\\\\n",
    "\\text{B} & c=20 & d=80 \\\\\n",
    "\\hline\n",
    "\\end{array}\n",
    "$$\n",
    "\n",
    "に関するP値と信頼区間の例を示そう.\n",
    "\n",
    "簡単のためオッズ比パラメータ $\\OR$ の場合(実際には対数オッズ比パラメータ $\\log\\OR$ を扱う場合)のWald型のP値函数のみを扱う.\n",
    "\n",
    "$a+b=m$, $c+d=n$ が十分に大きければ, 仮説 $\\OR=\\omega$ の統計モデル内で, モデル内での仮想的データの数値の対数オッズ比が次のように近似的に正規分布に従うことを示せる:\n",
    "\n",
    "$$\n",
    "\\log\\ORhat = \\log\\frac{ad}{bc} \\sim\n",
    "\\Normal\\left(\\log\\omega, \\SEhat_{\\log\\ORhat}\\right), \n",
    "\\ \\text{approximately}.\n",
    "$$\n",
    "\n",
    "ここで,\n",
    "\n",
    "$$\n",
    "\\SEhat_{\\log\\ORhat} = \\sqrt{\\frac{1}{a}+\\frac{1}{b}+\\frac{1}{c}+\\frac{1}{d}}\n",
    "$$\n",
    "\n",
    "この近似については\n",
    "\n",
    "* [「検定と信頼区間: 比率の比較」のノート](https://nbviewer.org/github/genkuroki/Statistics/blob/master/2022/11%20Hypothesis%20testing%20and%20confidence%20interval%20-%20Two%20proportions.ipynb)\n",
    "\n",
    "の「Wald版のオッズ比に関するP値と信頼区間の定義」に関する節を参照せよ.\n",
    "\n",
    "これによって, 以下のように仮説 $\\OR=\\omega$ のP値と $\\OR$ の信頼区間が定義される:\n",
    "\n",
    "$$\n",
    "\\begin{aligned}\n",
    "&\n",
    "\\pvalue_{\\Wald}(a, b, c, d|\\OR=\\omega) =\n",
    "2\\left(\n",
    "1 - \\cdf\\left(\\Normal(0,1), \\frac{\\left|\\log\\ORhat - \\log\\omega\\right|}{\\SEhat_{\\log\\ORhat}}\\right)\n",
    "\\right),\n",
    "\\\\ &\n",
    "\\confint^{\\OR}_{\\Wald}(a, b, c, d|\\alpha) =\n",
    "\\left[\n",
    "\\exp\\left(-z_{\\alpha/2}\\SEhat_{\\log\\ORhat}\\right)\\ORhat,\\;\n",
    "\\exp\\left( z_{\\alpha/2}\\SEhat_{\\log\\ORhat}\\right)\\ORhat\n",
    "\\right].\n",
    "\\end{aligned}\n",
    "$$\n",
    "\n",
    "ここで, $z_{\\alpha/2} = \\quantile(\\Normal(0,1), 1-\\alpha/2)$."
   ]
  },
  {
   "cell_type": "code",
   "execution_count": 13,
   "id": "b1bf422b",
   "metadata": {},
   "outputs": [
    {
     "data": {
      "text/plain": [
       "confint_or_wald (generic function with 1 method)"
      ]
     },
     "execution_count": 13,
     "metadata": {},
     "output_type": "execute_result"
    }
   ],
   "source": [
    "# 上の定義通りのP値函数と信頼区間函数の定義\n",
    "\n",
    "oddsratiohat(a, b, c, d) = safediv(a*d, b*c)\n",
    "stderrhat_logoddsratiohat(a, b, c, d) = √(1/a + 1/b + 1/c + 1/d)\n",
    "\n",
    "function pvalue_or_wald(a, b, c, d; ω=1)\n",
    "    logORhat = log(oddsratiohat(a, b, c, d))\n",
    "    SEhat_logORhat = stderrhat_logoddsratiohat(a, b, c, d)\n",
    "    2ccdf(Normal(0, 1), safediv(abs(logORhat - log(ω)), SEhat_logORhat))\n",
    "end\n",
    "\n",
    "function confint_or_wald(a, b, c, d; α=0.05)\n",
    "    z = quantile(Normal(), 1-α/2)\n",
    "    ORhat = oddsratiohat(a, b, c, d)\n",
    "    SEhat_logORhat = stderrhat_logoddsratiohat(a, b, c, d)\n",
    "    [safemul(exp(-z*SEhat_logORhat), ORhat), safemul(exp(z*SEhat_logORhat), ORhat)]\n",
    "end"
   ]
  },
  {
   "cell_type": "code",
   "execution_count": 14,
   "id": "68c745c7",
   "metadata": {},
   "outputs": [
    {
     "data": {
      "text/plain": [
       "plot_pvalue_function_of_or_wald (generic function with 1 method)"
      ]
     },
     "execution_count": 14,
     "metadata": {},
     "output_type": "execute_result"
    }
   ],
   "source": [
    "# グラフのプロット用の函数\n",
    "# この手の函数は計算用の函数よりも複雑になりがち\n",
    "\n",
    "function plot_pvalue_function_of_or_wald(;\n",
    "        a=30, b=70, c=20, d=80, ω = 1.0, α = 0.05,\n",
    "        xlim = confint_or_wald(a, b, c, d; α=1e-3)\n",
    "    )\n",
    "    @show α\n",
    "    @show ω\n",
    "    @show z = quantile(Normal(0, 1), 1 - α/2)\n",
    "    println()\n",
    "    @show ORhat = oddsratiohat(a, b, c, d)\n",
    "    @show exp(z *stderrhat_logoddsratiohat(a, b, c, d))\n",
    "    println()\n",
    "    @show P_value = pvalue_or_wald(a, b, c, d; ω)\n",
    "    @show CI = confint_or_wald(a, b, c, d; α)\n",
    "    \n",
    "    plot(ω -> pvalue_or_wald(a, b, c, d; ω), xlim...;\n",
    "        label=\"P-value function (Wald)\", c=:black)\n",
    "    vline!([ORhat]; label=\"ORhat = $(round(ORhat; digits=5))\", ls=:dash, c=2)\n",
    "    plot!(CI, fill(α, 2); label=\"$(100(1-α))% CI\", lw=2, c=3)\n",
    "    scatter!([ω], [α]; label=\"significance level α = $(100α)%\", c=3, msc=:auto)\n",
    "    vline!([ω]; label=\"\", c=:black, lw=0.5)\n",
    "    scatter!([ω], [P_value]; label=\"P-value of OR = $ω\", c=:red, msc=:auto)\n",
    "    plot!(xguide=\"OR = ω     (log scale)\", yguide=\"P-value\")\n",
    "    plot!(xscale=:log, xtick=logtick(; xlim), ytick=0:0.05:1)\n",
    "    title!(\"a, b, c, d = $a, $b, $c, $d\")\n",
    "    plot!(size=(720, 350))\n",
    "end"
   ]
  },
  {
   "cell_type": "code",
   "execution_count": 15,
   "id": "8a3587b0",
   "metadata": {},
   "outputs": [
    {
     "name": "stdout",
     "output_type": "stream",
     "text": [
      "α = 0.05\n",
      "ω = 1.0\n",
      "z = quantile(Normal(0, 1), 1 - α / 2) = 1.9599639845400576\n",
      "\n",
      "ORhat = oddsratiohat(a, b, c, d) = 1.7142857142857142\n",
      "exp(z * stderrhat_logoddsratiohat(a, b, c, d)) = 1.9163037024703367\n",
      "\n",
      "P_value = pvalue_or_wald(a, b, c, d; ω) = 0.10432099005636014\n",
      "CI = confint_or_wald(a, b, c, d; α) = [0.8945793467266185, 3.28509206137772]\n"
     ]
    },
    {
     "data": {
      "image/png": "[encoded data removed]"
     },
     "execution_count": 15,
     "metadata": {},
     "output_type": "execute_result"
    }
   ],
   "source": [
    "a, b, c, d = 30, 70, 20, 80\n",
    "graph_of_pvalue_function =\n",
    "    plot_pvalue_function_of_or_wald(; a, b, c, d, ω = 1.0, α = 0.05)"
   ]
  },
  {
   "cell_type": "markdown",
   "id": "8be930bf",
   "metadata": {},
   "source": [
    "仮説 $\\OR=1$ すなわち「AとBで当たりが出る確率は同じ」という仮説のP値は $10.4\\%$ 程度になっている.\n",
    "\n",
    "これが意味するところは以下の通り. データの数値\n",
    "\n",
    "$$\n",
    "\\begin{array}{|c|cc|c|}\n",
    "\\hline\n",
    "& \\text{当たり} & \\text{はずれ} \\\\\n",
    "\\hline\n",
    "\\text{A} & a=30 & b=70 \\\\\n",
    "\\text{B} & c=20 & d=80 \\\\\n",
    "\\hline\n",
    "\\end{array}\n",
    "$$\n",
    "\n",
    "を見ると, Aの方がBよりも当たりが出る確率が高そうに見えるが, 統計モデル内ではAとBで当たりが出る確率が同じであったとしても, モデル内でこのデータの数値以上に偏った値が生じる確率は約 $10.4\\%$ もある."
   ]
  },
  {
   "cell_type": "markdown",
   "id": "160129c7",
   "metadata": {},
   "source": [
    "さらに, 上のグラフを見ると, 仮説 $\\OR=4$ のP値は $1\\%$ 程度に見えるが, 実際に計算してもその程度の値になる."
   ]
  },
  {
   "cell_type": "code",
   "execution_count": 16,
   "id": "6d4e8cc9",
   "metadata": {},
   "outputs": [
    {
     "data": {
      "text/plain": [
       "0.010670206411228012"
      ]
     },
     "execution_count": 16,
     "metadata": {},
     "output_type": "execute_result"
    }
   ],
   "source": [
    "pval4 = pvalue_or_wald(a, b, c, d; ω=4)"
   ]
  },
  {
   "cell_type": "markdown",
   "id": "e780332c",
   "metadata": {},
   "source": [
    "WolframAlphaでも仮説 $\\OR=4$ のP値を計算してみよう.\n",
    "\n",
    "$\\SEhat_{\\log\\ORhat}$ → `sqrt(1/a + 1/b + 1/c + 1/d) where a=30.0, b=70, c=20, d=80` → \\[[実行](https://www.wolframalpha.com/input?i=sqrt%281%2Fa+%2B+1%2Fb+%2B+1%2Fc+%2B+1%2Fd%29+where+a%3D30.0%2C+b%3D70%2C+c%3D20%2C+d%3D80)\\] → 0.331842\n",
    "\n",
    "$\\log\\ORhat - \\log\\omega$ → `log((a d)/(b c)) - log(4) where a=30.0, b=70, c=20, d=80` → \\[[実行](https://www.wolframalpha.com/input?i=log%28%28a+d%29%2F%28b+c%29%29+-+log%284%29+where+a%3D30.0%2C+b%3D70%2C+c%3D20%2C+d%3D80)\\] → -0.847298\n",
    "\n",
    "$(\\log\\ORhat - \\log\\omega)/\\SEhat_{\\log\\ORhat}$ → `0.847298/0.331842` → \\[[実行](https://www.wolframalpha.com/input?i=0.847298%2F0.331842)\\] → 2.55332\n",
    "\n",
    "P値 → `2(1 - cdf(NormalDistribution(0,1), 2.55332))` → \\[[実行](https://www.wolframalpha.com/input?i=2%281+-+cdf%28NormalDistribution%280%2C1%29%2C+2.55332%29%29)\\] → 0.0106701"
   ]
  },
  {
   "cell_type": "code",
   "execution_count": 17,
   "id": "d63e96c5",
   "metadata": {},
   "outputs": [
    {
     "data": {
      "text/plain": [
       "-9.972743160724384e-6"
      ]
     },
     "execution_count": 17,
     "metadata": {},
     "output_type": "execute_result"
    }
   ],
   "source": [
    "# WolframAlphaで求めたP値のJuliaで求めたP値に対する相対誤差が小さいことの確認\n",
    "0.0106701/pval4 - 1"
   ]
  },
  {
   "cell_type": "markdown",
   "id": "bf24c387",
   "metadata": {},
   "source": [
    "WolframAlphaでも $\\OR$ の $95\\%$ 信頼区間を求めてみよう.\n",
    "\n",
    "$z_{\\alpha/2}$ → `quantile(Normal(0,1), 0.975)` → \\[[実行](https://www.wolframalpha.com/input?i=quantile%28Normal%280%2C1%29%2C+0.975%29)\\] → 1.95996\n",
    "\n",
    "信頼区間 → `{exp(-1.95996*0.331842) (a d)/(b c),  exp(1.95996*0.331842) (a d)/(b c)} where a=30.0, b=70, c=20, d=80` → \\[[実行](https://www.wolframalpha.com/input?i=%7Bexp%28-1.95996*0.331842%29+%28a+d%29%2F%28b+c%29%2C++exp%281.95996*0.331842%29+%28a+d%29%2F%28b+c%29%7D+where+a%3D30.0%2C+b%3D70%2C+c%3D20%2C+d%3D80)\\] → {0.89458, 3.28509}"
   ]
  },
  {
   "cell_type": "code",
   "execution_count": 18,
   "id": "3eacc1fd",
   "metadata": {},
   "outputs": [
    {
     "data": {
      "text/plain": [
       "2-element Vector{Float64}:\n",
       "  7.302576165990615e-7\n",
       " -6.274946581230623e-7"
      ]
     },
     "execution_count": 18,
     "metadata": {},
     "output_type": "execute_result"
    }
   ],
   "source": [
    "# WolframAlphaで求めた信頼区間のJuliaで求めた信頼区間に対する相対誤差が小さいことの確認\n",
    "[0.89458, 3.28509] ./ confint_or_wald(a, b, c, d; α=0.05) .- 1"
   ]
  },
  {
   "cell_type": "markdown",
   "id": "2e76ced7",
   "metadata": {},
   "source": [
    "### 2×2の分割表での検定ではどれを使うべきか\n",
    "\n",
    "以上においては計算の仕方がシンプルだという理由でWald型のP値函数と信頼区間を扱ったが, 標本サイズが小さいときに誤差が大きくなるという欠点がある.  他にも以下の選択肢がある:\n",
    "\n",
    "(1) Pearsonの $\\chi^2$ 検定 (ただし扱う仮説を $\\OR=\\omega$ と $\\RR=\\rho$ の場合に一般化しておくこと, 連続性補正はかけない)\n",
    "\n",
    "(2) Fisher検定 (ただし扱う仮説を $\\OR=\\omega$ の場合に一般化しておくこと)\n",
    "\n",
    "(3) $p$ と $q$ の違いの指標としてそれらの差 $p-q$ を扱う場合には Zou-Donner 2004 の方法が使える. ([Julia言語による実装例](https://github.com/genkuroki/public/blob/main/0033/probability%20of%20alpha%20error%20of%20Zou-Donner.ipynb))\n",
    "\n",
    "それぞれ長所と短所があるので目的に合わせて適当に使い分ければよい.  標本サイズが十分に大きい場合にはWald型のP値函数と信頼区間も十分な精度を持ち, 問題なく使える.\n",
    "\n",
    "\n",
    "\n",
    "__注意:__ よく使われているのは, Pearsonの $\\chi^2$ 検定とFisher検定である.  標本サイズが小さい場合にはFisher検定を使えと解説されている場合もあるようだが, 実際に色々計算するとそれは誤りだと分かる.  実際には標本サイズが小さなとき, Fisher検定には過剰にP値が大きくなり過ぎるという欠点がある. しかし, その欠点は「第一種の過誤の確率が常に有意水準以下である」というFisher検定の優れた性質の裏返しなので, どの条件を重視するかによって, (Yatesの連続性補正をかけない)Pearsonの $\\chi^2$ 検定と使い分けるとよいと思われる.  次の解説も参考になる:\n",
    "\n",
    "* 朝倉こう子, 濱﨑俊光, 連載 第3回　医学データの統計解析の基本　２つの割合の比較　\\[[PDF](https://www.jstage.jst.go.jp/article/dds/30/3/30_235/_pdf)\\]\n",
    "\n",
    "第一種の過誤の確率を確実に名目有意水準以下にしたければFisher検定を使う方がよいし, 平均的により高い検出力を得たいならば(連続補正されていない)Pearsonの $\\chi^2$ 検定を使えばよいだろう."
   ]
  },
  {
   "cell_type": "markdown",
   "id": "493807ad",
   "metadata": {},
   "source": [
    "### P値函数と最尤法の関係\n",
    "\n",
    "2×2の分割表のデータの数値\n",
    "\n",
    "$$\n",
    "\\begin{array}{|c|cc|c|}\n",
    "\\hline\n",
    "& \\text{当たり} & \\text{はずれ} \\\\\n",
    "\\hline\n",
    "\\text{A} & a=30 & b=70 \\\\\n",
    "\\text{B} & c=20 & d=80 \\\\\n",
    "\\hline\n",
    "\\end{array}\n",
    "$$\n",
    "\n",
    "に関するP値函数などは1つのグラフの中に以下のようにプロットされるのであった."
   ]
  },
  {
   "cell_type": "code",
   "execution_count": 19,
   "id": "1aadd0be",
   "metadata": {},
   "outputs": [
    {
     "data": {
      "image/png": "[encoded data removed]"
     },
     "execution_count": 19,
     "metadata": {},
     "output_type": "execute_result"
    }
   ],
   "source": [
    "graph_of_pvalue_function"
   ]
  },
  {
   "cell_type": "markdown",
   "id": "9beb31a6",
   "metadata": {},
   "source": [
    "このグラフにおけるデータの数値のオッズ比\n",
    "\n",
    "$$\n",
    "\\ORhat = \\frac{ad}{bc} = \\frac{30\\cdot 80}{70\\cdot 20} =\n",
    "\\frac{12}{7} \\approx 1.7142857142857142\n",
    "$$\n",
    "\n",
    "の値でP値函数が最大値の $1$ になっていることに注意せよ.  P値函数の定義\n",
    "\n",
    "$$\n",
    "\\pvalue_{\\Wald}(a, b, c, d|\\OR=\\omega) =\n",
    "2\\left(\n",
    "1 - \\cdf\\left(\\Normal(0,1), \\frac{\\left|\\log\\ORhat - \\log\\omega\\right|}{\\SEhat_{\\log\\ORhat}}\\right)\n",
    "\\right)\n",
    "$$\n",
    "\n",
    "を見れば, $\\omega = \\ORhat$ のとき最大値 $1$ になることはすぐにわかる.\n",
    "\n",
    "実はこのデータの数値のオッズ比 $\\OR = (ad)/(bc)$ は2つの二項分布モデルにおける最尤法(さいゆうほう)の解\n",
    "\n",
    "$$\n",
    "\\phat = \\frac{a}{a+b}, \\quad \\qhat = \\frac{c}{c+d}\n",
    "\\quad\\left(\n",
    "\\text{このとき}\\ 1-\\phat = \\frac{b}{a+b}, \\quad 1-\\qhat = \\frac{d}{c+d}\n",
    "\\right)\n",
    "$$\n",
    "\n",
    "のオッズ比になっている:\n",
    "\n",
    "$$\n",
    "\\frac{\\phat(1 - \\qhat)}{(1-\\phat)\\qhat} = \\frac{ad}{bc} = \\ORhat.\n",
    "$$\n",
    "\n",
    "この場合に限らず, __多くの場合にP値函数が最大になるパラメータ値は最尤法の解に対応する値になっている.__\n",
    "\n",
    "少なくとも, 近似的にはP値函数を最大化するパラメータ値は最尤法の解に対応する値だと考えてよい.\n",
    "\n",
    "データの数値 $x$ に関する仮説 $\\theta=\\theta_0$ のP値は, 統計モデルを前提にしたときの仮説 $\\theta=\\theta_0$ とデータの数値 $x$ の整合性の指標の1つであった.\n",
    "\n",
    "ゆえに, 以上で述べたことは, __最尤法の解に対応するパラメータ値はデータの数値との整合性が最も高いパラメータ値である__ とみなせる.\n",
    "\n",
    "最尤法による点推定にはこのような解釈がある.\n",
    "\n",
    "__注意・警告:__ 統計学を実践的に使う場合には, 最尤法による点推定の結果のみを報告せずに, 信頼区間などの区間推定の結果も報告する習慣になっている.  点推定の値は単に統計モデルの前提の下でデータの数値と最も整合性が高いパラメータ値を計算したにすぎず, 確率的な揺らぎが考慮されていない.  確率的揺らぎの影響に配慮した区間推定の結果も報告しないと, 点推定の値がどこまで正確な推定値だと考えられるかが全くわからなくなってしまう.\n",
    "\n",
    "__注意:__ 尤度(ゆうど, likelihood)については\n",
    "\n",
    "* [「条件付き確率分布, 尤度, 推定, 記述統計」に関するノート](https://nbviewer.org/github/genkuroki/Statistics/blob/master/2022/06%20Conditional%20distribution%2C%20likelihood%2C%20estimation%2C%20and%20summary.ipynb)\n",
    "\n",
    "における「尤度 (ゆうど)と推定」の節を参照せよ.  尤度の定義は __統計モデル内でデータと同じ数値が生成される確率もしくは確率の密度__ であり,  モデルのデータの数値への適合度の指標としては使えるが, 「もっともらしさ」の指標としては不適切であることに注意せよ."
   ]
  },
  {
   "attachments": {},
   "cell_type": "markdown",
   "id": "b8da1153",
   "metadata": {},
   "source": [
    "### 以上のまとめの図\n",
    "\n",
    "以下の図のように, P値函数全体の形を見れば多くのことを一目で確認できる.\n",
    "\n",
    "<img src=\"https://github.com/genkuroki/Statistics/raw/master/2022/images/P-value_function_and_etc.jpg\" width=60%>"
   ]
  },
  {
   "cell_type": "markdown",
   "id": "dad889ca",
   "metadata": {},
   "source": [
    "__注意:__ Bayes統計における事後分布も以上で説明したP値函数とほぼ同じ使い方をできる.  P値函数について十分に理解しておけば, Bayes統計について学習するときにも役に立つだろう."
   ]
  },
  {
   "cell_type": "markdown",
   "id": "0fdc8054",
   "metadata": {},
   "source": [
    "### おまけ: Bayes統計の方法を使った場合\n",
    "\n",
    "このノート群の中ではできるだけBayes統計の方法には触れないように気を使ったが, 何も触れないわけには行かなかった. 現代においては, P値函数を使う方法だけではなく, Bayes統計の方法も「統計学の道具箱」の中に入れておいた方がよいと思われる."
   ]
  },
  {
   "cell_type": "markdown",
   "id": "c180180f",
   "metadata": {},
   "source": [
    "2つの二項分布モデル $\\Binomial(m, p)\\times\\Binomial(n, q)$ の事前分布として, 2つのJeffreya事前分布 $\\Beta(1/2, 1/2)\\times\\Beta(1/2, 1/2)$ を採用する. \n",
    "\n",
    "このとき, 2×2の分割表のデータの数値\n",
    "\n",
    "$$\n",
    "\\begin{array}{|c|cc|c|}\n",
    "\\hline\n",
    "& \\text{当たり} & \\text{はずれ} \\\\\n",
    "\\hline\n",
    "\\text{A} & a=30 & b=70 \\\\\n",
    "\\text{B} & c=20 & d=80 \\\\\n",
    "\\hline\n",
    "\\end{array}\n",
    "$$\n",
    "\n",
    "から得られる事後分布は, $\\Beta(30+1/2, 70+1/2)\\times\\Beta(20+1/2, 80+1/2)$ になる."
   ]
  },
  {
   "cell_type": "code",
   "execution_count": 20,
   "id": "11a086b0",
   "metadata": {},
   "outputs": [
    {
     "data": {
      "text/plain": [
       "Product{Continuous, Beta{Float64}, Vector{Beta{Float64}}}(v=Beta{Float64}[Beta{Float64}(α=30.5, β=70.5), Beta{Float64}(α=20.5, β=80.5)])"
      ]
     },
     "execution_count": 20,
     "metadata": {},
     "output_type": "execute_result"
    }
   ],
   "source": [
    "a, b, c, d = 30, 70, 20, 80\n",
    "posterior = product_distribution([Beta(a+1/2, b+1/2), Beta(c+1/2, d+1/2)])"
   ]
  },
  {
   "cell_type": "markdown",
   "id": "1f4301f1",
   "metadata": {},
   "source": [
    "事後分布のサイズ100万のサンプルを作る."
   ]
  },
  {
   "cell_type": "code",
   "execution_count": 21,
   "id": "1c825ad9",
   "metadata": {},
   "outputs": [
    {
     "data": {
      "text/plain": [
       "2×1000000 Matrix{Float64}:\n",
       " 0.324564  0.249517  0.279684  0.293979  0.26615   …  0.264104  0.267631  0.360962  0.289852\n",
       " 0.222686  0.16415   0.198842  0.255289  0.244109     0.193823  0.222817  0.218     0.202151"
      ]
     },
     "execution_count": 21,
     "metadata": {},
     "output_type": "execute_result"
    }
   ],
   "source": [
    "sample_of_posterior = rand(posterior, 10^6)"
   ]
  },
  {
   "cell_type": "markdown",
   "id": "58b6f930",
   "metadata": {},
   "source": [
    "事後分布でのオッズ比のサンプルを構成する."
   ]
  },
  {
   "cell_type": "code",
   "execution_count": 22,
   "id": "8074fcaa",
   "metadata": {},
   "outputs": [
    {
     "data": {
      "text/plain": [
       "1×1000000 adjoint(::Vector{Float64}) with eltype Float64:\n",
       " 1.67733  1.69297  1.56442  1.21465  1.12304  …  2.65816  1.49274  1.27462  2.02621  1.61092"
      ]
     },
     "execution_count": 22,
     "metadata": {},
     "output_type": "execute_result"
    }
   ],
   "source": [
    "@views p, q = sample_of_posterior[1,:], sample_of_posterior[2,:]\n",
    "sample_of_posterior_odds_ratio = @. (p*(1-q))/((1-p)*q)\n",
    "sample_of_posterior_odds_ratio'"
   ]
  },
  {
   "cell_type": "markdown",
   "id": "cc056aa6",
   "metadata": {},
   "source": [
    "オッズ比の点推定値として, 事後分布での中央値を採用しよう."
   ]
  },
  {
   "cell_type": "code",
   "execution_count": 23,
   "id": "e07cf3e3",
   "metadata": {},
   "outputs": [
    {
     "data": {
      "text/plain": [
       "1.7117354764696162"
      ]
     },
     "execution_count": 23,
     "metadata": {},
     "output_type": "execute_result"
    }
   ],
   "source": [
    "ORhat_posterior_median = median(sample_of_posterior_odds_ratio)"
   ]
  },
  {
   "cell_type": "code",
   "execution_count": 24,
   "id": "2499b2ee",
   "metadata": {},
   "outputs": [
    {
     "data": {
      "text/plain": [
       "1.7142857142857142"
      ]
     },
     "execution_count": 24,
     "metadata": {},
     "output_type": "execute_result"
    }
   ],
   "source": [
    "ORhat = oddsratiohat(a, b, c, d) # 最尤推定値"
   ]
  },
  {
   "cell_type": "markdown",
   "id": "d634dbf6",
   "metadata": {},
   "source": [
    "最尤推定値の `ORhat` との違いは小さい."
   ]
  },
  {
   "cell_type": "code",
   "execution_count": 25,
   "id": "14fdb01d",
   "metadata": {},
   "outputs": [
    {
     "data": {
      "text/plain": [
       "-0.0014876387260571722"
      ]
     },
     "execution_count": 25,
     "metadata": {},
     "output_type": "execute_result"
    }
   ],
   "source": [
    "ORhat_posterior_median / ORhat - 1"
   ]
  },
  {
   "cell_type": "markdown",
   "id": "0ada73f8",
   "metadata": {},
   "source": [
    "オッズ比の区間推定として, 事後分布での $2.5\\%$ と $97.5\\%$ 分位点の間を採用しよう.\n",
    "\n",
    "これを $95\\%$ 信用区間(確信区間, credible interval)と呼ぶ."
   ]
  },
  {
   "cell_type": "code",
   "execution_count": 26,
   "id": "50d1b99f",
   "metadata": {},
   "outputs": [
    {
     "name": "stdout",
     "output_type": "stream",
     "text": [
      "[0.8986357079398595, 3.3064452661370107]"
     ]
    }
   ],
   "source": [
    "credible_interval = quantile.(Ref(sample_of_posterior_odds_ratio), [0.025, 0.975])\n",
    "print(credible_interval)"
   ]
  },
  {
   "cell_type": "code",
   "execution_count": 27,
   "id": "20475cce",
   "metadata": {},
   "outputs": [
    {
     "name": "stdout",
     "output_type": "stream",
     "text": [
      "[0.8945793467266185, 3.28509206137772]"
     ]
    }
   ],
   "source": [
    "confidence_interval = confint_or_wald(a, b, c, d; α=0.05)\n",
    "print(confidence_interval)"
   ]
  },
  {
   "cell_type": "markdown",
   "id": "628a0a6d",
   "metadata": {},
   "source": [
    "信頼区間(confidence interval)と信用区間(credible interval)の違いは小さい."
   ]
  },
  {
   "cell_type": "code",
   "execution_count": 28,
   "id": "8250fcc9",
   "metadata": {},
   "outputs": [
    {
     "name": "stdout",
     "output_type": "stream",
     "text": [
      "[0.004534378340036227, 0.0065000323766681856]"
     ]
    }
   ],
   "source": [
    "credible_interval ./ confidence_interval .- 1 |> print"
   ]
  },
  {
   "cell_type": "markdown",
   "id": "4a878ea6",
   "metadata": {},
   "source": [
    "オッズ比パラメータが $1$ という仮説のP値のBayes的代替物として, 事後分布で $1$ 以下になる確率と $1$ 以上になる確率の小さい方の2倍(と $1$ の小さい方)を採用する.  (これはClopper-Pearson型のP値函数の定義の類似になっている.)"
   ]
  },
  {
   "cell_type": "code",
   "execution_count": 29,
   "id": "80e44fdb",
   "metadata": {},
   "outputs": [
    {
     "data": {
      "text/plain": [
       "0.101846"
      ]
     },
     "execution_count": 29,
     "metadata": {},
     "output_type": "execute_result"
    }
   ],
   "source": [
    "ecdf_OR = ecdf(sample_of_posterior_odds_ratio)\n",
    "pvalue_or_bayesian = ω -> min(1, 2ecdf_OR(ω), 2(1 - ecdf_OR(ω)))\n",
    "P_value_Bayesian = pvalue_or_bayesian(1)"
   ]
  },
  {
   "cell_type": "code",
   "execution_count": 30,
   "id": "0a3609a3",
   "metadata": {},
   "outputs": [
    {
     "data": {
      "text/plain": [
       "0.10432099005636014"
      ]
     },
     "execution_count": 30,
     "metadata": {},
     "output_type": "execute_result"
    }
   ],
   "source": [
    "Pvalue_Wald = pvalue_or_wald(a, b, c, d; ω=1)"
   ]
  },
  {
   "cell_type": "markdown",
   "id": "ec0a9775",
   "metadata": {},
   "source": [
    "通常のP値とそのBayes的類似の違いは小さい."
   ]
  },
  {
   "cell_type": "code",
   "execution_count": 31,
   "id": "aa730fa0",
   "metadata": {},
   "outputs": [
    {
     "data": {
      "text/plain": [
       "-0.023724756207001096"
      ]
     },
     "execution_count": 31,
     "metadata": {},
     "output_type": "execute_result"
    }
   ],
   "source": [
    "P_value_Bayesian/Pvalue_Wald - 1"
   ]
  },
  {
   "cell_type": "markdown",
   "id": "fd6ffe20",
   "metadata": {},
   "source": [
    "以上をまとめてプロットしてみよう."
   ]
  },
  {
   "cell_type": "code",
   "execution_count": 32,
   "id": "25ddac0e",
   "metadata": {},
   "outputs": [
    {
     "name": "stdout",
     "output_type": "stream",
     "text": [
      "(ecdf_OR(bin[imin]), ecdf_OR(bin[imax])) = (0.024634, 0.975766)\n"
     ]
    },
    {
     "data": {
      "image/png": "[encoded data removed]"
     },
     "execution_count": 32,
     "metadata": {},
     "output_type": "execute_result"
    }
   ],
   "source": [
    "ORs = sample_of_posterior_odds_ratio\n",
    "CI = credible_interval\n",
    "α = 0.05\n",
    "\n",
    "xlim = quantile.(Ref(ORs), (1e-4, 1-1e-4))\n",
    "bin = range(xlim..., 201)\n",
    "h = Plots._make_hist((ORs,), bin, normed=true)\n",
    "y = h.weights\n",
    "\n",
    "plot(bin, y; seriestype=:stepbins)\n",
    "stephist(ORs; norm=true, bin,\n",
    "    label=\"posterior of odds ratio\")\n",
    "vline!([ORhat_posterior_median];\n",
    "    label=\"median = $(round(ORhat_posterior_median; digits=5))\", ls=:dash, c=2)\n",
    "plot!(xguide=\"OR = ω\", yguide=\"P-value\")\n",
    "plot!(xtick=0:0.5:10, ytick=0:0.05:1)\n",
    "title!(\"data: a, b, c, d = $a, $b, $c, $d,     prior = Jeffreys\")\n",
    "plot!(size=(720, 350))\n",
    "\n",
    "imin = findlast(i -> ecdf_OR(bin[i]) < 0.025, eachindex(bin))\n",
    "imax = findlast(i -> ecdf_OR(bin[i]) > 0.975, reverse(eachindex(bin)))\n",
    "@show ecdf_OR(bin[imin]), ecdf_OR(bin[imax])\n",
    "\n",
    "plot!(CI, fill(α, 2); label=\"$(100(1-α))% credible interval (Bayesian CI)\", lw=2, c=3)\n",
    "plot!(bin[begin:imin], y[begin:imin-1]; seriestype=:stepbins,\n",
    "    label=\"probability = 2.5%\", c=4, fillrange=0, alpha=0.5)\n",
    "plot!(bin[imax:end], y[imax:end]; seriestype=:stepbins,\n",
    "    label=\"probability = 2.5%\", c=5, fillrange=0, alpha=0.5)"
   ]
  },
  {
   "cell_type": "code",
   "execution_count": 33,
   "id": "67790bc6",
   "metadata": {},
   "outputs": [
    {
     "data": {
      "image/png": "[encoded data removed]"
     },
     "execution_count": 33,
     "metadata": {},
     "output_type": "execute_result"
    }
   ],
   "source": [
    "plot(bin, y; seriestype=:stepbins)\n",
    "stephist(ORs; norm=true, bin,\n",
    "    label=\"posterior of odds ratio\")\n",
    "vline!([ORhat_posterior_median];\n",
    "    label=\"median = $(round(ORhat_posterior_median; digits=5))\", ls=:dash, c=2)\n",
    "plot!(xguide=\"OR = ω\", yguide=\"P-value\")\n",
    "plot!(xtick=0:0.5:10, ytick=0:0.05:1)\n",
    "title!(\"data: a, b, c, d = $a, $b, $c, $d,     prior = Jeffreys\")\n",
    "plot!(size=(720, 350))\n",
    "\n",
    "inull = findlast(i -> bin[i] < 1, eachindex(bin)) + 1\n",
    "\n",
    "plot!(bin[begin:inull], y[begin:inull-1]; seriestype=:stepbins,\n",
    "    label=\"half of P-value = $(round(P_value_Bayesian; digits=5))/2\", c=6, fillrange=0, alpha=0.5)"
   ]
  },
  {
   "cell_type": "markdown",
   "id": "19d662ed",
   "metadata": {},
   "source": [
    "通常のP値函数(Wald)とBayes的なP値函数の類似物のグラフを同時に描くとほぼぴったり重なる."
   ]
  },
  {
   "cell_type": "code",
   "execution_count": 34,
   "id": "1fa3fad8",
   "metadata": {},
   "outputs": [
    {
     "data": {
      "image/png": "[encoded data removed]"
     },
     "execution_count": 34,
     "metadata": {},
     "output_type": "execute_result"
    }
   ],
   "source": [
    "a, b, c, d = 30, 70, 20, 80\n",
    "plot(ω -> pvalue_or_wald(a, b, c, d; ω);\n",
    "    label=\"P-value function (Wald)\")\n",
    "plot!(ω -> pvalue_or_bayesian(ω);\n",
    "    label=\"P-value function (Bayesian analogue)\", ls=:dash)\n",
    "plot!(xtick=0:0.5:10, ytick=0:0.05:1)\n",
    "title!(\"data: a, b, c, d = $a, $b, $c, $d,     prior = Jeffreys\")\n",
    "plot!(size=(720, 350))"
   ]
  },
  {
   "cell_type": "markdown",
   "id": "68385c27",
   "metadata": {},
   "source": [
    "サンプルサイズがもっと小さいな場合にはここまでぴったり一致しないが, この場合には非常によく一致している.\n",
    "\n",
    "この一致を見てしまった人が, 「ベイズ統計とP値を使う統計学は水と油である」のような考え方をすることは難しいように思われる.\n",
    "\n",
    "以上によって, 通常のP値を使った統計分析をBayes統計の方法でどのようにすれば置き換えることができるかがわかった.\n",
    "\n",
    "Bayes統計の方法では事前分布(prior)という新しい道具を使えるので, 別の新しいことも可能になる.\n",
    "\n",
    "次の論文では以上と本質的に同じ方法をオッズ比ではなくリスク比の場合に適用して, Bayes統計の方法を使って統計分析を行っている:\n",
    "\n",
    "* https://www.nejm.org/doi/full/10.1056/NEJMoa2115869\n",
    "\n",
    "この論文ではBayes統計の方法を使っているが, 通常のP値を使う方法でも実質的に同じ結果が得られる."
   ]
  },
  {
   "cell_type": "markdown",
   "id": "e90de10d",
   "metadata": {},
   "source": [
    "## Welchの t 検定について\n",
    "\n",
    "2つの群の平均の差に関するWelchの $t$ 検定に付随するP値と信頼区間については\n",
    "\n",
    "* [「検定と信頼区間: 平均の比較」に関するノート](https://nbviewer.org/github/genkuroki/Statistics/blob/master/2022/12%20Hypothesis%20testing%20and%20confidence%20interval%20-%20Two%20means.ipynb)\n",
    "\n",
    "で非常に詳しく解説したが, 手続きが複雑なので以下で再度まとめておくことにする."
   ]
  },
  {
   "cell_type": "markdown",
   "id": "afd0d008",
   "metadata": {},
   "source": [
    "### Welchの t 検定のP値と信頼区間の定義\n",
    "\n",
    "データは別の母集団Aから抽出されたサイズ $m$ の標本 $x_1,\\ldots,x_m$ と別の母集団Bから抽出されたサイズ $n$ の標本 $y_1,\\ldots,y_n$ であると仮定する.\n",
    "\n",
    "母集団Aからのサイズ $m$ の標本についてその標本平均が従う分布は中心極限定理によって正規分布で十分に近似されていると仮定する.  母集団Bとサイズ $n$ についても同様であると仮定しておく.\n",
    "\n",
    "母集団Aの(真の)平均を $\\mu_x$ と書き, 母集団Bの(真の)平均を $\\mu_y$ と書く.\n",
    "\n",
    "標本 $x_1,\\ldots,x_m$ の標本平均を $\\xbar$ と書き, 標本 $y_1,\\ldots,y_n$ の標本平均を $\\ybar$ と書く.\n",
    "\n",
    "母集団Aから一意的に決まっている定数 $\\mu_x$ と標本を取り直すごとに確率的に変化する標本平均 $\\xbar$ を混同しないように注意せよ.  $\\mu_y$ と $\\ybar$ についても同様に混同しないようにして欲しい.\n",
    "\n",
    "さらに, 標本 $x_1,\\ldots,x_m$ の不偏分散を $s_x^2$ と書き, 標本 $y_1,\\ldots,y_n$ の不偏分散を $s_y^2$ と書く:\n",
    "\n",
    "$$\n",
    "s_x^2 = \\frac{1}{m-1}\\sum_{i=1}^m (x_i - \\xbar)^2, \\quad\n",
    "s_y^2 = \\frac{1}{n-1}\\sum_{j=1}^n (y_j - \\ybar)^2.\n",
    "$$\n",
    "\n",
    "これらを, 母集団Aの(真の)分散 $\\sigma_x^2$ と母集団Bの(真の)分散 $\\sigma_y^2$ と混同しないように注意せよ.\n",
    "\n",
    "以上の状況で, 任意に与えられた実数 $\\dmu$ に対して, $\\mu_x - \\mu_y = \\dmu$ という仮説のP値を定義しよう.\n",
    "\n",
    "まず, $t$ 統計量 $t = t(\\dmu)$ を次のように定義する:\n",
    "\n",
    "$$\n",
    "t = t(\\dmu) =\n",
    "\\frac\n",
    "{(\\xbar - \\ybar) - \\dmu}\n",
    "{\\ds \\sqrt{\\frac{s_x^2}{m} + \\frac{s_y^2}{n}}}.\n",
    "$$\n",
    "\n",
    "さらに, 自由度と呼ばれる統計量 $\\nu$ を次のように定義する:\n",
    "\n",
    "$$\n",
    "\\nu =\n",
    "\\frac\n",
    "{\\ds \\left(s_x^2/m + s_y^2/n\\right)^2}\n",
    "{\\ds \\frac{(s_x^2/m)^2}{m-1} + \\frac{(s_y^2/n)^2}{n-1}}.\n",
    "$$\n",
    "\n",
    "そして, P値を次のように定義する:\n",
    "\n",
    "$$\n",
    "\\pvalue_{\\Welch}(\\xbar, \\ybar, s_x^2, s_y^2|m,n, \\mu_x-\\mu_y=\\dmu) =\n",
    "2(1-\\cdf(\\TDist(\\nu), |t(\\dmu)|)).\n",
    "$$\n",
    "\n",
    "ここで, $\\cdf(\\TDist(\\nu), x)$ は自由度 $\\nu$ の $t$ 分布の累積分布函数(cumulative distribution function, cdf)である.\n",
    "\n",
    "以上に対応する平均の差 $\\mu_x - \\mu_y$ に関する信頼度 $1-\\alpha$ の信頼区間は次のようになる:\n",
    "\n",
    "$$\n",
    "\\begin{aligned}\n",
    "&\n",
    "\\confint_{\\Welch}(\\xbar, \\ybar, s_x^2, s_y^2|m,n,\\alpha)\n",
    "\\\\ &=\n",
    "\\left[\n",
    "\\xbar - \\ybar - t_{\\nu,\\alpha/2}\\sqrt{\\frac{s_x^2}{m} + \\frac{s_y^2}{n}},\\;\n",
    "\\xbar - \\ybar + t_{\\nu,\\alpha/2}\\sqrt{\\frac{s_x^2}{m} + \\frac{s_y^2}{n}}\\;\n",
    "\\right].\n",
    "\\end{aligned}\n",
    "$$\n",
    "\n",
    "ここで, $t_{\\nu,\\alpha/2} = \\quantile(\\TDist(\\nu), 1-\\alpha/2)$.  ただし, $\\quantile(\\TDist(\\nu), p)$ は自由度 $\\nu$ の $t$ 分布の分位点函数(quantile function, 累積分布函数の逆函数)である."
   ]
  },
  {
   "cell_type": "markdown",
   "id": "cc008419",
   "metadata": {},
   "source": [
    "__注意:__ 自由度 $\\nu$ をそのように定義する理由については\n",
    "\n",
    "* [「検定と信頼区間: 平均の比較」のノート](https://nbviewer.org/github/genkuroki/Statistics/blob/master/2022/12%20Hypothesis%20testing%20and%20confidence%20interval%20-%20Two%20means.ipynb)\n",
    "\n",
    "の「Welchの t 検定で使う自由度の式の導出」の節を参照せよ. さらにその「Studentの t 検定とWelchの t 検定で使用する t 分布の自由度の比較」の節では\n",
    "\n",
    "$$\n",
    "(m+n-2) - \\nu =\n",
    "\\frac\n",
    "{\\left(s_x^2/(m(m-1)) - s_y^2/(n(n-1))\\right)^2}\n",
    "{\\ds \\frac{(s_x^2/(m(m-1)))^2}{n-1} + \\frac{(s_y^2/(n(n-1)))^2}{m-1}}\n",
    "\\ge 0\n",
    "$$\n",
    "\n",
    "となることも注意している. これより $\\nu \\le m+n-2$ となっている."
   ]
  },
  {
   "cell_type": "code",
   "execution_count": 35,
   "id": "7a2cf545",
   "metadata": {},
   "outputs": [
    {
     "name": "stdout",
     "output_type": "stream",
     "text": [
      "(lhs - rhsnum / rhsden).simplify() = 0\n"
     ]
    },
    {
     "data": {
      "text/latex": [
       "$\\displaystyle m + n - \\frac{\\left(\\frac{s²_{y}}{n} + \\frac{s²_{x}}{m}\\right)^{2}}{\\frac{s²_{y}^{2}}{n^{2} \\left(n - 1\\right)} + \\frac{s²_{x}^{2}}{m^{2} \\left(m - 1\\right)}} - 2 = \\frac{\\left(- \\frac{s²_{y}}{n \\left(n - 1\\right)} + \\frac{s²_{x}}{m \\left(m - 1\\right)}\\right)^{2}}{\\frac{s²_{y}^{2}}{n^{2} \\left(m - 1\\right) \\left(n - 1\\right)^{2}} + \\frac{s²_{x}^{2}}{m^{2} \\left(m - 1\\right)^{2} \\left(n - 1\\right)}}$\n"
      ],
      "text/plain": [
       "                          2                                            2      \n",
       "             /s²_y   s²_x\\                    /     s²_y        s²_x  \\       \n",
       "             |---- + ----|                    |- --------- + ---------|       \n",
       "             \\ n      m  /                    \\  n*(n - 1)   m*(m - 1)/       \n",
       "m + n - ----------------------- - 2 = ----------------------------------------\n",
       "              2            2                     2                     2      \n",
       "          s²_y         s²_x                  s²_y                  s²_x       \n",
       "        ---------- + ----------       ------------------- + ------------------\n",
       "         2            2                2                2    2        2       \n",
       "        n *(n - 1)   m *(m - 1)       n *(m - 1)*(n - 1)    m *(m - 1) *(n - 1\n",
       "\n",
       " \n",
       " \n",
       " \n",
       " \n",
       "-\n",
       " \n",
       " \n",
       "-\n",
       " \n",
       ")"
      ]
     },
     "execution_count": 35,
     "metadata": {},
     "output_type": "execute_result"
    }
   ],
   "source": [
    "@vars s²_x s²_y m n ν\n",
    "ν = (s²_x/m + s²_y/n)^2/((s²_x/m)^2/(m-1) + (s²_y/n)^2/(n-1))\n",
    "lhs = (m+n-2) - ν\n",
    "rhsnum = (s²_x/(m*(m-1)) - s²_y/(n*(n-1)))^2\n",
    "rhsden = (s²_x/(m*(m-1)))^2/(n-1) + (s²_y/(n*(n-1)))^2/(m-1)\n",
    "@show (lhs - rhsnum/rhsden).simplify()\n",
    "Eq(lhs, rhsnum/rhsden)"
   ]
  },
  {
   "cell_type": "markdown",
   "id": "d87b8034",
   "metadata": {},
   "source": [
    "__注意:__ $X_1,\\ldots,X_n$ は分散 $\\sigma^2$ を持つ分布の標本で, $\\Xbar$ はその標本平均であるとする.  このとき, 不偏分散を計算するときに $n$ ではなく, $n-1$ で割る理由は単に\n",
    "\n",
    "$$\n",
    "E\\left[\\sum_{i=1}^n (X_i - \\Xbar)^2\\right] = (n-1)\\sigma^2\n",
    "$$\n",
    "\n",
    "となるからである.  両辺を $n$ ではなく, $n-1$ で割らないと $\\sigma^2$ が期待値として得られない. このような事実に関するより深い理解は __線形回帰が直交射影そのものであること__ を学べば得られる.  線形回帰に一般化された場合の不偏分散は, $n$ 次元空間の中の $r$ 次元部分空間の直交補空間の次元 $n-r$ で割ることによって得られる. 詳しい説明は\n",
    "\n",
    "* [「回帰 (regression)」に関するノート](https://nbviewer.org/github/genkuroki/Statistics/blob/master/2022/14%20Regression.ipynb)\n",
    "\n",
    "の「βとσ²の不偏推定量」の節にある.  通常の標本の不偏分散は部分空間が1次元の $\\{\\,(t,t,\\ldots,t)\\mid t\\in\\R\\,\\}$ の場合になっている."
   ]
  },
  {
   "cell_type": "markdown",
   "id": "87b1df60",
   "metadata": {},
   "source": [
    "### Welchの t 検定のP値や信頼区間の計算例\n",
    "\n",
    "以下の例は\n",
    "\n",
    "* [「検定と信頼区間: 平均の比較」に関するノート](https://nbviewer.org/github/genkuroki/Statistics/blob/master/2022/12%20Hypothesis%20testing%20and%20confidence%20interval%20-%20Two%20means.ipynb#Welch%E3%81%AE-t-%E6%A4%9C%E5%AE%9A%E3%81%AEP%E5%80%A4%E3%81%A8%E4%BF%A1%E9%A0%BC%E5%8C%BA%E9%96%93%E3%81%AE%E8%A8%88%E7%AE%97%E3%81%AE%E5%BF%85%E4%BF%AE%E5%95%8F%E9%A1%8C%E3%81%AE%E8%A7%A3%E7%AD%94%E4%BE%8B)\n",
    "\n",
    "における\n",
    "\n",
    "* [必修問題: Welchの t 検定のP値と信頼区間の計算](https://nbviewer.org/github/genkuroki/Statistics/blob/master/2022/12%20Hypothesis%20testing%20and%20confidence%20interval%20-%20Two%20means.ipynb#%E5%BF%85%E4%BF%AE%E5%95%8F%E9%A1%8C:-Welch%E3%81%AE-t-%E6%A4%9C%E5%AE%9A%E3%81%AEP%E5%80%A4%E3%81%A8%E4%BF%A1%E9%A0%BC%E5%8C%BA%E9%96%93%E3%81%AE%E8%A8%88%E7%AE%97)\n",
    "\n",
    "の再掲である. \n",
    "\n",
    "サイズが `m = 20`, `n = 30` のデータ\n",
    "\n",
    "```julia\n",
    "x = [19.2, 22.7, 7.8, 138.5, 70.5, 44.3, 84.0, 35.6, 72.4, 23.9,\n",
    "    11.7, 26.6, 73.8, 118.3, 54.2, 57.6, 40.5, 117.4, 102.3, 67.6]\n",
    "\n",
    "y = [44.3, 66.9, 62.9, 78.4, 71.2, 32.5, 111.4, 38.2, 68.2, 50.7,\n",
    "    74.5, 46.2, 65.7, 58.7, 42.5, 57.4, 63.0, 67.9, 72.1, 117.7,\n",
    "    124.1, 48.9, 91.8, 80.8, 60.2, 76.8, 76.3, 59.9, 70.7, 46.4]\n",
    "```\n",
    "\n",
    "について以下を求めよ.\n",
    "\n",
    "(1) 仮説 $\\mu_x − \\mu_y = 0$ のP値.\n",
    "\n",
    "(2) 仮説 $\\mu_x − \\mu_y = −30$ のP値.\n",
    "\n",
    "(3) Welchの t 検定に付随する 95% 信頼区間."
   ]
  },
  {
   "cell_type": "markdown",
   "id": "2af28a07",
   "metadata": {},
   "source": [
    "#### WolframAlphaによるWelchの t 検定のP値と信頼区間の計算の必修問題の解答例\n",
    "\n",
    "WoldramAlphaで標本の標本平均は `mean {a, b, c, …}` のように入力すれば計算できる.\n",
    "\n",
    "WoldramAlphaで標本の不偏分散は `var {a, b, c, …}` のように入力すれば計算できる. \n",
    "\n",
    "__注意:__ 統計学の慣習では, 標本の分散は $n$ ではなく $n-1$ で割る方の不偏分散を意味することが多く, ソフトウェア側でもその慣習に従っていることが多い.  WoldramAlphaやJuliaやRの `var` はデフォルトで不偏分散を計算するが, Pythonのnumpyの `np.var` はそうではないので注意せよ. `np.var(x, ddof=1)` のように `ddof=1` が必要になる. 詳しくは公式ドキュメントの\n",
    "\n",
    "* https://numpy.org/doc/stable/reference/generated/numpy.var.html\n",
    "\n",
    "を参照せよ.  コンピュータで標本の分散の値を計算する場合にはそのための函数の仕様を確認しておいた方がよい. __注意終__\n",
    "\n",
    "$\\xbar$ → `mean {19.2, 22.7, 7.8, 138.5, 70.5, 44.3, 84.0, 35.6, 72.4, 23.9, 11.7, 26.6, 73.8, 118.3, 54.2, 57.6, 40.5, 117.4, 102.3, 67.6}` → [実行](https://www.wolframalpha.com/input?i=mean+%7B19.2%2C+22.7%2C+7.8%2C+138.5%2C+70.5%2C+44.3%2C+84.0%2C+35.6%2C+72.4%2C+23.9%2C+11.7%2C+26.6%2C+73.8%2C+118.3%2C+54.2%2C+57.6%2C+40.5%2C+117.4%2C+102.3%2C+67.6%7D) → 59.445\n",
    "\n",
    "$s_x^2$ → `var {19.2, 22.7, 7.8, 138.5, 70.5, 44.3, 84.0, 35.6, 72.4, 23.9, 11.7, 26.6, 73.8, 118.3, 54.2, 57.6, 40.5, 117.4, 102.3, 67.6}` → [実行](https://www.wolframalpha.com/input?i=var+%7B19.2%2C+22.7%2C+7.8%2C+138.5%2C+70.5%2C+44.3%2C+84.0%2C+35.6%2C+72.4%2C+23.9%2C+11.7%2C+26.6%2C+73.8%2C+118.3%2C+54.2%2C+57.6%2C+40.5%2C+117.4%2C+102.3%2C+67.6%7D) → 1448.48\n",
    "\n",
    "$\\ybar$ → `mean {44.3, 66.9, 62.9, 78.4, 71.2, 32.5, 111.4, 38.2, 68.2, 50.7, 74.5, 46.2, 65.7, 58.7, 42.5, 57.4, 63.0, 67.9, 72.1, 117.7, 124.1, 48.9, 91.8, 80.8, 60.2, 76.8, 76.3, 59.9, 70.7, 46.4}` → [実行](https://www.wolframalpha.com/input?i=mean+%7B44.3%2C+66.9%2C+62.9%2C+78.4%2C+71.2%2C+32.5%2C+111.4%2C+38.2%2C+68.2%2C+50.7%2C+74.5%2C+46.2%2C+65.7%2C+58.7%2C+42.5%2C+57.4%2C+63.0%2C+67.9%2C+72.1%2C+117.7%2C+124.1%2C+48.9%2C+91.8%2C+80.8%2C+60.2%2C+76.8%2C+76.3%2C+59.9%2C+70.7%2C+46.4%7D) → 67.5433\n",
    "\n",
    "$s_y^2$ → `var {44.3, 66.9, 62.9, 78.4, 71.2, 32.5, 111.4, 38.2, 68.2, 50.7, 74.5, 46.2, 65.7, 58.7, 42.5, 57.4, 63.0, 67.9, 72.1, 117.7, 124.1, 48.9, 91.8, 80.8, 60.2, 76.8, 76.3, 59.9, 70.7, 46.4}` → [実行](https://www.wolframalpha.com/input?i=var+%7B44.3%2C+66.9%2C+62.9%2C+78.4%2C+71.2%2C+32.5%2C+111.4%2C+38.2%2C+68.2%2C+50.7%2C+74.5%2C+46.2%2C+65.7%2C+58.7%2C+42.5%2C+57.4%2C+63.0%2C+67.9%2C+72.1%2C+117.7%2C+124.1%2C+48.9%2C+91.8%2C+80.8%2C+60.2%2C+76.8%2C+76.3%2C+59.9%2C+70.7%2C+46.4%7D) → 479.481\n",
    "\n",
    "以下において, `x`, `v`, `y`, `w` はそれぞれ $\\xbar$, $s_x^2$, $\\ybar$, $s_y^2$ を意味する.\n",
    "\n",
    "自由度 $\\nu$ → `(v/m+w/n)^2/((v/m)^2/(m-1)+(w/n)^2/(n-1)) where {m=20, x=59.445, v=1448.48, n=30, y=67.5433, w=479.481}` → [実行](https://www.wolframalpha.com/input?i=%28v%2Fm%2Bw%2Fn%29%5E2%2F%28%28v%2Fm%29%5E2%2F%28m-1%29%2B%28w%2Fn%29%5E2%2F%28n-1%29%29+where+%7Bm%3D20%2C+x%3D59.445%2C+v%3D1448.48%2C+n%3D30%2C+y%3D67.5433%2C+w%3D479.481%7D) → 27.4358\n",
    "\n",
    "(1)\n",
    "\n",
    "仮説 $\\mu_x-\\mu_y = 0$ の $t$ 値 → `(x-y-0)/sqrt(v/m+w/n) where {m=20, x=59.445, v=1448.48, n=30, y=67.5433, w=479.481}` → [実行](https://www.wolframalpha.com/input?i=%28x-y-0%29%2Fsqrt%28v%2Fm%2Bw%2Fn%29+where+%7Bm%3D20%2C+x%3D59.445%2C+v%3D1448.48%2C+n%3D30%2C+y%3D67.5433%2C+w%3D479.481%7D) → -0.861294\n",
    "\n",
    "仮説 $\\mu_x-\\mu_y = 0$ のP値 → `2(1 - cdf(TDistribution(27.4358), 0.861294))` → [実行](https://www.wolframalpha.com/input?i=2%281+-+cdf%28TDistribution%2827.4358%29%2C+0.861294%29%29) → 0.396541\n",
    "\n",
    "(2)\n",
    "\n",
    "仮説 $\\mu_x-\\mu_y = -30$ の $t$ 値 → `(x-y+30)/sqrt(v/m+w/n) where {m=20, x=59.445, v=1448.48, n=30, y=67.5433, w=479.481}` → [実行](https://www.wolframalpha.com/input?i=%28x-y%2B30%29%2Fsqrt%28v%2Fm%2Bw%2Fn%29+where+%7Bm%3D20%2C+x%3D59.445%2C+v%3D1448.48%2C+n%3D30%2C+y%3D67.5433%2C+w%3D479.481%7D) → 2.32935\n",
    "\n",
    "仮説 $\\mu_x-\\mu_y = -30$ のP値 → `2(1 - cdf(TDistribution(27.4358), 2.32935))` → [実行](https://www.wolframalpha.com/input?i=2%281+-+cdf%28TDistribution%2827.4358%29%2C+2.32935%29%29) → 0.0274389\n",
    "\n",
    "(3)\n",
    "\n",
    "$\\alpha=0.05$ のときの $t_{\\nu, \\alpha/2}$ → `quantile(TDistribution(27.4358), 0.975)` → [実行](https://www.wolframalpha.com/input?i=quantile%28TDistribution%2827.4358%29%2C+0.975%29) → 2.05031\n",
    "\n",
    "$\\mu_x - \\mu_y$ の $95\\%$ 信頼区間 → `{x-y-2.05031*sqrt(v/m+w/n), x-y+2.05031*sqrt(v/m+w/n)} where {m=20, x=59.445, v=1448.48, n=30, y=67.5433, w=479.481}` → [実行](https://www.wolframalpha.com/input?i=%7Bx-y-2.05031*sqrt%28v%2Fm%2Bw%2Fn%29%2C+x-y%2B2.05031*sqrt%28v%2Fm%2Bw%2Fn%29%7D+where+%7Bm%3D20%2C+x%3D59.445%2C+v%3D1448.48%2C+n%3D30%2C+y%3D67.5433%2C+w%3D479.481%7D) → {-27.3763, 11.1797}"
   ]
  },
  {
   "cell_type": "markdown",
   "id": "1a9a3438",
   "metadata": {},
   "source": [
    "#### Julia言語によるWelchの t 検定のP値と信頼区間の計算の必修問題の解答例\n",
    "\n",
    "まず, 定義通りにJulia言語のコードで必要な函数を書く.\n",
    "\n",
    "Julia言語対応環境において\n",
    "\n",
    "* `x̄` は `x\\bar` と入力してタブキーを押せば入力できる.\n",
    "* `sx²` は `sx\\^2` と入力してタブキーを押せば入力できる.\n",
    "* `Δ` は `\\Delta` と入力してタブキーを押せば入力できる.\n",
    "* `ν` は `\\nu` と入力してタブキーを押せば入力できる.\n",
    "* `√` は `\\sqrt` と入力してタブキーを押せば入力できる.\n",
    "\n",
    "ユニコードの文字をプログラムのコードとして使いたくない人は `x̄` や `sx²` の代わりに `xbar`, `sx2` のように書いても全然問題ない.\n",
    "\n",
    "以下ではほとんど数式通りにコードが書かれている"
   ]
  },
  {
   "cell_type": "code",
   "execution_count": 36,
   "id": "3a66c7c1",
   "metadata": {},
   "outputs": [
    {
     "data": {
      "text/plain": [
       "confint_welch (generic function with 2 methods)"
      ]
     },
     "execution_count": 36,
     "metadata": {},
     "output_type": "execute_result"
    }
   ],
   "source": [
    "# 確率分布を扱う場合には常に以下を前もって実行しておく.\n",
    "\n",
    "using Distributions\n",
    "\n",
    "# t値の計算の仕方 (デフォルトで Δμ = 0 にしておく)\n",
    "\n",
    "function tvalue_welch(m, x̄, sx², n, ȳ, sy²; Δμ=0)\n",
    "    (x̄ - ȳ - Δμ) / √(sx²/m + sy²/n)\n",
    "end\n",
    "\n",
    "function tvalue_welch(x, y; Δμ=0)\n",
    "    m, x̄, sx² = length(x), mean(x), var(x)\n",
    "    n, ȳ, sy² = length(y), mean(y), var(y)\n",
    "    tvalue_welch(m, x̄, sx², n, ȳ, sy²; Δμ)\n",
    "end\n",
    "\n",
    "# 自由度 ν の計算の仕方\n",
    "\n",
    "function degree_of_freedom_welch(m, sx², n, sy²)\n",
    "    (sx²/m + sy²/n)^2 / ((sx²/m)^2/(m-1) + (sy²/n)^2/(n-1))\n",
    "end\n",
    "\n",
    "function degree_of_freedom_welch(x, y)\n",
    "    m, sx² = length(x), var(x)\n",
    "    n, sy² = length(y), var(y)\n",
    "    degree_of_freedom_welch(m, sx², n, sy²)\n",
    "end\n",
    "\n",
    "# P値の計算の仕方\n",
    "\n",
    "function pvalue_welch(m, x̄, sx², n, ȳ, sy²; Δμ=0)\n",
    "    t = tvalue_welch(m, x̄, sx², n, ȳ, sy²; Δμ)\n",
    "    ν = degree_of_freedom_welch(m, sx², n, sy²)\n",
    "    2ccdf(TDist(ν), abs(t))\n",
    "end\n",
    "\n",
    "function pvalue_welch(x, y; Δμ=0)\n",
    "    m, x̄, sx² = length(x), mean(x), var(x)\n",
    "    n, ȳ, sy² = length(y), mean(y), var(y)\n",
    "    pvalue_welch(m, x̄, sx², n, ȳ, sy²; Δμ)\n",
    "end\n",
    "\n",
    "# 信頼区間の計算の仕方 (デフォルトでは α = 0.05 にしておく)\n",
    "\n",
    "function confint_welch(m, x̄, sx², n, ȳ, sy²; α=0.05)\n",
    "    ν = degree_of_freedom_welch(m, sx², n, sy²)\n",
    "    c = quantile(TDist(ν), 1-α/2)\n",
    "    SEhat = √(sx²/m + sy²/n)\n",
    "    [x̄-ȳ-c*SEhat, x̄-ȳ+c*SEhat]\n",
    "end\n",
    "\n",
    "function confint_welch(x, y; α=0.05)\n",
    "    m, x̄, sx² = length(x), mean(x), var(x)\n",
    "    n, ȳ, sy² = length(y), mean(y), var(y)\n",
    "    confint_welch(m, x̄, sx², n, ȳ, sy²; α)\n",
    "end"
   ]
  },
  {
   "cell_type": "markdown",
   "id": "c9b34add",
   "metadata": {},
   "source": [
    "以上のコードを何も考えずにコピー＆ペーストして使っても勉強にならない.\n",
    "\n",
    "可能ならば全部自分で書き直してみるべきである.\n",
    "\n",
    "そのためには, 出て来たビルトイン函数のすべてについて公式ドキュメントを参照した方がよい. \n",
    "\n",
    "Juliaの場合には公式ドキュメントはほぼ `?` で表示されるドキュメントに等しい.\n",
    "\n",
    "Julia対応環境では例えば `?TDist` と入力すれば `TDist` のドキュメントを読むことができる."
   ]
  },
  {
   "cell_type": "code",
   "execution_count": 37,
   "id": "932ea21c",
   "metadata": {},
   "outputs": [
    {
     "name": "stdout",
     "output_type": "stream",
     "text": [
      "search: \u001b[0m\u001b[1mT\u001b[22m\u001b[0m\u001b[1mD\u001b[22m\u001b[0m\u001b[1mi\u001b[22m\u001b[0m\u001b[1ms\u001b[22m\u001b[0m\u001b[1mt\u001b[22m \u001b[0m\u001b[1mt\u001b[22m\u001b[0m\u001b[1md\u001b[22m\u001b[0m\u001b[1mi\u001b[22m\u001b[0m\u001b[1ms\u001b[22m\u001b[0m\u001b[1mt\u001b[22mpdf \u001b[0m\u001b[1mt\u001b[22m\u001b[0m\u001b[1md\u001b[22m\u001b[0m\u001b[1mi\u001b[22m\u001b[0m\u001b[1ms\u001b[22m\u001b[0m\u001b[1mt\u001b[22mcdf \u001b[0m\u001b[1mt\u001b[22m\u001b[0m\u001b[1md\u001b[22m\u001b[0m\u001b[1mi\u001b[22m\u001b[0m\u001b[1ms\u001b[22m\u001b[0m\u001b[1mt\u001b[22mccdf \u001b[0m\u001b[1mt\u001b[22m\u001b[0m\u001b[1md\u001b[22m\u001b[0m\u001b[1mi\u001b[22m\u001b[0m\u001b[1ms\u001b[22m\u001b[0m\u001b[1mt\u001b[22mlogpdf \u001b[0m\u001b[1mt\u001b[22m\u001b[0m\u001b[1md\u001b[22m\u001b[0m\u001b[1mi\u001b[22m\u001b[0m\u001b[1ms\u001b[22m\u001b[0m\u001b[1mt\u001b[22mlogcdf \u001b[0m\u001b[1mt\u001b[22m\u001b[0m\u001b[1md\u001b[22m\u001b[0m\u001b[1mi\u001b[22m\u001b[0m\u001b[1ms\u001b[22m\u001b[0m\u001b[1mt\u001b[22minvcdf\n",
      "\n"
     ]
    },
    {
     "data": {
      "text/latex": [
       "\\begin{verbatim}\n",
       "TDist(ν)\n",
       "\\end{verbatim}\n",
       "The \\emph{Students T distribution} with \\texttt{ν} degrees of freedom has probability density function\n",
       "\n",
       "$$f(x; \\nu) = \\frac{1}{\\sqrt{\\nu} B(1/2, \\nu/2)}\n",
       "\\left( 1 + \\frac{x^2}{\\nu} \\right)^{-\\frac{\\nu + 1}{2}}$$\n",
       "\\begin{verbatim}\n",
       "TDist(d)      # t-distribution with ν degrees of freedom\n",
       "\n",
       "params(d)     # Get the parameters, i.e. (ν,)\n",
       "dof(d)        # Get the degrees of freedom, i.e. ν\n",
       "\\end{verbatim}\n",
       "External links\n",
       "\n",
       "\\href{https://en.wikipedia.org/wiki/Student%27s_t-distribution}{Student's T distribution on Wikipedia}\n",
       "\n"
      ],
      "text/markdown": [
       "```\n",
       "TDist(ν)\n",
       "```\n",
       "\n",
       "The *Students T distribution* with `ν` degrees of freedom has probability density function\n",
       "\n",
       "$$\n",
       "f(x; \\nu) = \\frac{1}{\\sqrt{\\nu} B(1/2, \\nu/2)}\n",
       "\\left( 1 + \\frac{x^2}{\\nu} \\right)^{-\\frac{\\nu + 1}{2}}\n",
       "$$\n",
       "\n",
       "```julia\n",
       "TDist(d)      # t-distribution with ν degrees of freedom\n",
       "\n",
       "params(d)     # Get the parameters, i.e. (ν,)\n",
       "dof(d)        # Get the degrees of freedom, i.e. ν\n",
       "```\n",
       "\n",
       "External links\n",
       "\n",
       "[Student's T distribution on Wikipedia](https://en.wikipedia.org/wiki/Student%27s_t-distribution)\n"
      ],
      "text/plain": [
       "\u001b[36m  TDist(ν)\u001b[39m\n",
       "\n",
       "  The \u001b[4mStudents T distribution\u001b[24m with \u001b[36mν\u001b[39m degrees of freedom has probability density function\n",
       "\n",
       "\u001b[35m  f(x; \\nu) = \\frac{1}{\\sqrt{\\nu} B(1/2, \\nu/2)}\u001b[39m\n",
       "\u001b[35m\\left( 1 + \\frac{x^2}{\\nu} \\right)^{-\\frac{\\nu + 1}{2}}\u001b[39m\n",
       "\n",
       "\u001b[36m  TDist(d)      # t-distribution with ν degrees of freedom\u001b[39m\n",
       "\u001b[36m  \u001b[39m\n",
       "\u001b[36m  params(d)     # Get the parameters, i.e. (ν,)\u001b[39m\n",
       "\u001b[36m  dof(d)        # Get the degrees of freedom, i.e. ν\u001b[39m\n",
       "\n",
       "  External links\n",
       "\n",
       "  Student's T distribution on Wikipedia (https://en.wikipedia.org/wiki/Student%27s_t-distribution)"
      ]
     },
     "execution_count": 37,
     "metadata": {},
     "output_type": "execute_result"
    }
   ],
   "source": [
    "?TDist"
   ]
  },
  {
   "cell_type": "code",
   "execution_count": 38,
   "id": "6b42715b",
   "metadata": {},
   "outputs": [],
   "source": [
    "# x, y に標本の値を代入する.\n",
    "x = [19.2, 22.7, 7.8, 138.5, 70.5, 44.3, 84.0, 35.6, 72.4, 23.9,\n",
    "    11.7, 26.6, 73.8, 118.3, 54.2, 57.6, 40.5, 117.4, 102.3, 67.6];\n",
    "y = [44.3, 66.9, 62.9, 78.4, 71.2, 32.5, 111.4, 38.2, 68.2, 50.7,\n",
    "    74.5, 46.2, 65.7, 58.7, 42.5, 57.4, 63.0, 67.9, 72.1, 117.7,\n",
    "    124.1, 48.9, 91.8, 80.8, 60.2, 76.8, 76.3, 59.9, 70.7, 46.4];"
   ]
  },
  {
   "cell_type": "code",
   "execution_count": 39,
   "id": "d9de83e2",
   "metadata": {},
   "outputs": [
    {
     "data": {
      "text/plain": [
       "0.39653998689489345"
      ]
     },
     "execution_count": 39,
     "metadata": {},
     "output_type": "execute_result"
    }
   ],
   "source": [
    "# (1)\n",
    "pval1 = pvalue_welch(x, y; Δμ = 0)"
   ]
  },
  {
   "cell_type": "markdown",
   "id": "3f841eb1",
   "metadata": {},
   "source": [
    "統計学関係のコードを自分で書いた場合には, 何らかの方法で実装を間違っていないことを確認した方がよい. そのための1つの方法は別の方法で計算して確認することである.  例えばR言語で計算し直すと次のようになる."
   ]
  },
  {
   "cell_type": "code",
   "execution_count": 40,
   "id": "5486b725",
   "metadata": {},
   "outputs": [
    {
     "data": {
      "text/plain": [
       "0.3965399868948938"
      ]
     },
     "execution_count": 40,
     "metadata": {},
     "output_type": "execute_result"
    }
   ],
   "source": [
    "@rput x y\n",
    "pval1_R = rcopy(R\"\"\"t.test(x, y, mu = 0)\"\"\")[:p_value]"
   ]
  },
  {
   "cell_type": "markdown",
   "id": "8cae7261",
   "metadata": {},
   "source": [
    "浮動小数点計算で生じる微小な誤差を除いてよく一致している."
   ]
  },
  {
   "cell_type": "code",
   "execution_count": 41,
   "id": "e45b2594",
   "metadata": {},
   "outputs": [
    {
     "data": {
      "text/plain": [
       "-3.3306690738754696e-16"
      ]
     },
     "execution_count": 41,
     "metadata": {},
     "output_type": "execute_result"
    }
   ],
   "source": [
    "pval1 - pval1_R"
   ]
  },
  {
   "cell_type": "markdown",
   "id": "5552c2b7",
   "metadata": {},
   "source": [
    "__注意:__ Julia言語から[R言語](https://cran.r-project.org/)を使うためには, 自分のパソコンにR言語一式をインストールし, さらにJulia言語の側で\n",
    "\n",
    "* https://github.com/JuliaInterop/RCall.jl\n",
    "\n",
    "をインストールしておく必要がある.\n",
    "\n",
    "統計学を勉強するためには, 自分のパソコンで Julia, Python, R の3つを使えるようにしておくと非常に便利である.  しかし, そのためにはまた別のスキルが必要になる.  数年計画で身に付けるようにしておくとよいと思われる.  トラブルに出会ったら, 表示されたエラーメッセージをインターネットで検索してみるとよい.  コンピュータやプログラミングでは英語で書かれたトラブルの解決法を読むことは普通であり, そのために英語にも慣れておくことが必要になる.  結局のところ, __統計学を十分にマスターするために, コンピュータの使い方と技術英語もマスターする必要が生じる.__  しかし, 統計学を含めたそれら諸々のスキルを身に付けた人達は我々の社会の中で少数派であり, 学生時代のうちに身に付けることに成功した人達は相当に自信を持ってよいと思う.  繰り返しになるが, 数年計画で無理せずに身に付ければ十分である.  あせる必要はない.  就職した後にも勉強を続けることが普通である. __注意終__"
   ]
  },
  {
   "cell_type": "markdown",
   "id": "e8519523",
   "metadata": {},
   "source": [
    "WolframAlphaで求めた値の相対誤差が十分に小さいことの確認."
   ]
  },
  {
   "cell_type": "code",
   "execution_count": 42,
   "id": "b4aae9a1",
   "metadata": {},
   "outputs": [
    {
     "data": {
      "text/plain": [
       "2.5548624098536976e-6"
      ]
     },
     "execution_count": 42,
     "metadata": {},
     "output_type": "execute_result"
    }
   ],
   "source": [
    "0.396541/pval1 - 1"
   ]
  },
  {
   "cell_type": "code",
   "execution_count": 43,
   "id": "9bfba9db",
   "metadata": {},
   "outputs": [
    {
     "data": {
      "text/plain": [
       "0.027439073239531347"
      ]
     },
     "execution_count": 43,
     "metadata": {},
     "output_type": "execute_result"
    }
   ],
   "source": [
    "# (2)\n",
    "pval2 = pvalue_welch(x, y; Δμ = -30)"
   ]
  },
  {
   "cell_type": "markdown",
   "id": "1275020e",
   "metadata": {},
   "source": [
    "R言語で計算し直すと次のようになる."
   ]
  },
  {
   "cell_type": "code",
   "execution_count": 44,
   "id": "f7413dcb",
   "metadata": {},
   "outputs": [
    {
     "data": {
      "text/plain": [
       "0.027439073239531344"
      ]
     },
     "execution_count": 44,
     "metadata": {},
     "output_type": "execute_result"
    }
   ],
   "source": [
    "@rput x y\n",
    "pval2_R = rcopy(R\"\"\"t.test(x, y, mu = -30)\"\"\")[:p_value]"
   ]
  },
  {
   "cell_type": "code",
   "execution_count": 45,
   "id": "3f9c6c17",
   "metadata": {},
   "outputs": [
    {
     "data": {
      "text/plain": [
       "3.469446951953614e-18"
      ]
     },
     "execution_count": 45,
     "metadata": {},
     "output_type": "execute_result"
    }
   ],
   "source": [
    "pval2 - pval2_R"
   ]
  },
  {
   "cell_type": "markdown",
   "id": "9704c20d",
   "metadata": {},
   "source": [
    "WolframAlphaで求めた値の相対誤差が十分に小さいことの確認."
   ]
  },
  {
   "cell_type": "code",
   "execution_count": 46,
   "id": "905efb60",
   "metadata": {},
   "outputs": [
    {
     "data": {
      "text/plain": [
       "-6.313607235797214e-6"
      ]
     },
     "execution_count": 46,
     "metadata": {},
     "output_type": "execute_result"
    }
   ],
   "source": [
    "0.0274389/pval2 - 1"
   ]
  },
  {
   "cell_type": "code",
   "execution_count": 47,
   "id": "b6bc3466",
   "metadata": {},
   "outputs": [
    {
     "name": "stdout",
     "output_type": "stream",
     "text": [
      "[-27.376321534615272, 11.179654867948585]"
     ]
    }
   ],
   "source": [
    "# (3)\n",
    "ci3 = confint_welch(x, y; α = 0.05)\n",
    "print(ci3)"
   ]
  },
  {
   "cell_type": "markdown",
   "id": "2f07473b",
   "metadata": {},
   "source": [
    "R言語で計算し直すと次のようになる."
   ]
  },
  {
   "cell_type": "code",
   "execution_count": 48,
   "id": "59adc97a",
   "metadata": {},
   "outputs": [
    {
     "name": "stdout",
     "output_type": "stream",
     "text": [
      "[-27.376321534615265, 11.179654867948592]"
     ]
    }
   ],
   "source": [
    "@rput x y\n",
    "ci3_R = rcopy(R\"\"\"t.test(x, y, conf.level = 0.95)\"\"\")[:conf_int]\n",
    "print(ci3_R)"
   ]
  },
  {
   "cell_type": "code",
   "execution_count": 49,
   "id": "cb4b3b91",
   "metadata": {},
   "outputs": [
    {
     "name": "stdout",
     "output_type": "stream",
     "text": [
      "[-7.105427357601002e-15, -7.105427357601002e-15]"
     ]
    }
   ],
   "source": [
    "ci3 - ci3_R |> print"
   ]
  },
  {
   "cell_type": "markdown",
   "id": "dfe0445e",
   "metadata": {},
   "source": [
    "WolframAlphaで求めた値の相対誤差が十分に小さいことの確認."
   ]
  },
  {
   "cell_type": "code",
   "execution_count": 50,
   "id": "a6ccfa04",
   "metadata": {},
   "outputs": [
    {
     "name": "stdout",
     "output_type": "stream",
     "text": [
      "[-7.866146386481532e-7, 4.036980743027385e-6]"
     ]
    }
   ],
   "source": [
    "[-27.3763, 11.1797] ./ ci3 .- 1 |> print"
   ]
  },
  {
   "cell_type": "markdown",
   "id": "646b8c44",
   "metadata": {},
   "source": [
    "Julia言語では要素ごとの演算(broadcast)にするためにはこのように演算記号に `.` を付ける."
   ]
  },
  {
   "cell_type": "markdown",
   "id": "b52f320a",
   "metadata": {},
   "source": [
    "せっかくなのでP値函数もプロットしておこう."
   ]
  },
  {
   "cell_type": "code",
   "execution_count": 51,
   "id": "c2ec1292",
   "metadata": {},
   "outputs": [
    {
     "name": "stdout",
     "output_type": "stream",
     "text": [
      "xlim = confint_welch(x, y; α = 0.001) = [-42.723955601987406, 26.52728893532072]\n"
     ]
    },
    {
     "data": {
      "image/png": "[encoded data removed]"
     },
     "execution_count": 51,
     "metadata": {},
     "output_type": "execute_result"
    }
   ],
   "source": [
    "@show xlim = confint_welch(x, y; α=1e-3)\n",
    "plot(Δμ -> pvalue_welch(x, y; Δμ), xlim...; label=\"P-value function\", c=:black)\n",
    "vline!([mean(x) - mean(y)]; label=\"Δμ = x̄ - ȳ\", ls=:dash, c=2)\n",
    "plot!(ci3, fill(0.05, 2); label=\"95% conf. int.\", lw=2, c=3)\n",
    "scatter!([0], [0.05]; label=\"sig. level α = 5%\", c=3, msc=:auto)\n",
    "vline!([0]; label=\"\", lw=0.5, c=:black)\n",
    "scatter!([0], [pval1]; label=\"P-value of Δμ = 0\", c=:red, msc=:auto)\n",
    "plot!(xguide=\"μ_x - μ_y = Δμ\", yguide=\"P-value\")\n",
    "plot!(ytick=0:0.05:1)\n",
    "plot!(size=(640, 350))"
   ]
  },
  {
   "cell_type": "markdown",
   "id": "aed50a25",
   "metadata": {},
   "source": [
    "これと以下を比較せよ.\n",
    "\n",
    "<img src=\"https://github.com/genkuroki/Statistics/raw/master/2022/images/P-value_function_and_etc.jpg\" width=60%>"
   ]
  },
  {
   "cell_type": "markdown",
   "id": "0675c0d3",
   "metadata": {},
   "source": [
    "上のWelchの $t$ 検定でのP値函数のグラフでは, パラメータ $\\theta$ は2つの群の平均の差を意味する $\\dmu$ になっている. \n",
    "\n",
    "そして, 点推定値は $\\dmu = \\xbar - \\ybar$ になっている.  (この点推定値は正規分布の標本分布モデルにおける最尤推定値にもなっている.)\n",
    "\n",
    "母集団からの標本の無作為抽出(random samplping, ランダム・サンプリング)を行うごとに変化するデータの数値の確率的揺らぎも考慮すると, 標本を取得した2つの母集団の平均の差 $\\mu_x - \\mu_y$ (これの値は未知)がぴったり点推定値 $\\xbar - \\ybar$ になっているとは考えられないことに注意せよ.\n",
    "\n",
    "データの数値と $\\mu_x - \\mu_y = \\dmu$ という仮説の整合性がP値函数のグラフを見ればわかる.\n",
    "\n",
    "大雑把に, $\\dmu$ の値が $-43$ 未満だったり, $27$ より大きいとき, $\\mu_x - \\mu_y = \\dmu$ という仮説とデータの整合性はほぼないように見える. (この判断は有意水準を $\\alpha=0.1\\%$ とした場合に相当している.)\n",
    "\n",
    "さらに大雑把に閾値 $\\alpha = 5\\%$ で切断した場合の信頼区間は大体 $[-27, 11]$ でそれよりは狭くなっている."
   ]
  },
  {
   "cell_type": "markdown",
   "id": "cf838980",
   "metadata": {},
   "source": [
    "## 数学的な補足: 大数の法則と中心極限定理について\n",
    "\n",
    "以下で $f(x)$ は有界な連続函数であると仮定する."
   ]
  },
  {
   "cell_type": "markdown",
   "id": "b8ab714d",
   "metadata": {},
   "source": [
    "### 二項分布の大数の法則\n",
    "\n",
    "二項分布\n",
    "\n",
    "$$\n",
    "P(k|n,p) = \\binom{n}{k} p^k (1-p)^{n-k} \\quad (k=0,1,\\ldots,n)\n",
    "$$\n",
    "\n",
    "に関する大数の法則は, $n$ が大きなとき, $k/n$ の分布が $p$ の近くに集中することを意味する. これは\n",
    "\n",
    "$$\n",
    "\\lim_{n\\to\\infty}\n",
    "\\sum_{k=0}^n f\\left(\\frac{k}{n}\\right) \\binom{n}{k} p^k (1-p)^{n-k} = f(p)\n",
    "$$\n",
    "\n",
    "が成立することを意味している. \n",
    "\n",
    "__注意:__ この結果の厳密な直接的証明は\n",
    "\n",
    "* 高木貞治『解析概論』岩波書店\n",
    "\n",
    "の「§78. Weierstrassの定理」の節にある.  そこの式(8)を見よ.  すなわち, 閉区間上の連続函数が多項式函数で一様近似できるというWeierstrassの定理は二項分布の大数の法則(の精密化)から得られる.  この方法は Serge Bernstein による.  __注意終__"
   ]
  },
  {
   "cell_type": "markdown",
   "id": "f7b5d884",
   "metadata": {},
   "source": [
    "$f(x)=\\cos(\\pi x)$, $p=1/3$ の場合について, 二項分布の大数の法則を数値的に確認してみよう."
   ]
  },
  {
   "cell_type": "code",
   "execution_count": 52,
   "id": "a220ac71",
   "metadata": {},
   "outputs": [
    {
     "name": "stdout",
     "output_type": "stream",
     "text": [
      "bin = Binomial(n, p) = Binomial{Float64}(n=1000000, p=0.3333333333333333)\n",
      "LHS = sum((f(k / n) * pdf(bin, k) for k = support(bin))) = 0.49999945169316323\n",
      "RHS = f(p) = 0.5\n",
      "LHS / RHS - 1 = -1.096613673534641e-6\n"
     ]
    }
   ],
   "source": [
    "f(x) = cospi(x)\n",
    "n, p = 10^6, 1/3\n",
    "@show bin = Binomial(n, p)\n",
    "@show LHS = sum(f(k/n)*pdf(bin, k) for k in support(bin))\n",
    "@show RHS = f(p)\n",
    "@show LHS/RHS - 1;"
   ]
  },
  {
   "cell_type": "markdown",
   "id": "7fe65e13",
   "metadata": {},
   "source": [
    "### 二項分布の中心極限定理\n",
    "\n",
    "二項分布\n",
    "\n",
    "$$\n",
    "P(k|n,p) = \\binom{n}{k} p^k (1-p)^{n-k} \\quad (k=0,1,\\ldots,n)\n",
    "$$\n",
    "\n",
    "に関する大数の法則は, $n$ が大きなとき, $k$ の分布が二項分布と同じ平均 $np$ と分散 $np(1-p)$ を持つ正規分布で近似されることを意味する.  すなわち, $n$ が大きなとき, \n",
    "\n",
    "$$\n",
    "z = \\frac{k - np}{\\sqrt{np(1-p)}}\n",
    "$$\n",
    "\n",
    "の分布が標準正規分布で近似されることを意味する.  このことは次が成立することを意味する:\n",
    "\n",
    "$$\n",
    "\\lim_{n\\to\\infty}\n",
    "\\sum_{k=0}^n f\\left(\\frac{k-np}{\\sqrt{np(1-p)}}\\right) \\binom{n}{k} p^k (1-p)^{n-k} =\n",
    "\\int_{-\\infty}^\\infty f(z) \\frac{e^{-z^2/2}}{\\sqrt{2\\pi}}\\,dz.\n",
    "$$"
   ]
  },
  {
   "cell_type": "markdown",
   "id": "33f84a0a",
   "metadata": {},
   "source": [
    "$f(x)=\\cos(x)$, $p=1/3$ の場合について, 二項分布の中心極限定理を数値的に確認してみよう."
   ]
  },
  {
   "cell_type": "code",
   "execution_count": 53,
   "id": "6914d7f7",
   "metadata": {},
   "outputs": [
    {
     "name": "stdout",
     "output_type": "stream",
     "text": [
      "bin = Binomial(n, p) = Binomial{Float64}(n=1000000, p=0.3333333333333333)\n",
      "LHS = sum((f((k - n * p) / √(n * p * (1 - p))) * pdf(bin, k) for k = support(bin))) = 0.606530617597576\n",
      "RHS = (quadgk(g, -Inf, Inf))[1] = 0.606530659712633\n",
      "LHS / RHS - 1 = -6.94359902908559e-8\n"
     ]
    }
   ],
   "source": [
    "f(x) = cos(x)\n",
    "n, p = 10^6, 1/3\n",
    "@show bin = Binomial(n, p)\n",
    "@show LHS = sum(f((k-n*p)/√(n*p*(1-p)))*pdf(bin, k) for k in support(bin))\n",
    "g(z) = f(z) * pdf(Normal(0, 1), z)\n",
    "@show RHS = quadgk(g, -Inf, Inf)[1] # using QuadGK すると使える数値積分函数\n",
    "@show LHS/RHS - 1;"
   ]
  },
  {
   "cell_type": "markdown",
   "id": "393dee64",
   "metadata": {},
   "source": [
    "実は次が成立している:\n",
    "\n",
    "$$\n",
    "\\int_{-\\infty}^\\infty \\cos(tz) \\frac{e^{-z^2/2}}{\\sqrt{2\\pi}}\\,dz =\n",
    "\\int_{-\\infty}^\\infty e^{itz} \\frac{e^{-z^2/2}}{\\sqrt{2\\pi}}\\,dz =\n",
    "E\\left[e^{itZ}\\right] =\n",
    "e^{-t^2/2}.\n",
    "$$\n",
    "\n",
    "ここで $Z$ は標準正規分布に従う確率変数である."
   ]
  },
  {
   "cell_type": "code",
   "execution_count": 54,
   "id": "84659119",
   "metadata": {},
   "outputs": [
    {
     "data": {
      "text/latex": [
       "$\\displaystyle \\int\\limits_{-\\infty}^{\\infty} \\frac{\\sqrt{2} e^{- \\frac{z^{2}}{2}} \\cos{\\left(t z \\right)}}{2 \\sqrt{\\pi}}\\, dz = e^{- \\frac{t^{2}}{2}}$\n"
      ],
      "text/plain": [
       " oo                                \n",
       "  /                                \n",
       " |                                 \n",
       " |           2                     \n",
       " |         -z                    2 \n",
       " |         ----                -t  \n",
       " |    ___   2                  ----\n",
       " |  \\/ 2 *e    *cos(t*z)        2  \n",
       " |  -------------------- dz = e    \n",
       " |            ____                 \n",
       " |        2*\\/ pi                  \n",
       " |                                 \n",
       "/                                  \n",
       "-oo                                "
      ]
     },
     "execution_count": 54,
     "metadata": {},
     "output_type": "execute_result"
    }
   ],
   "source": [
    "@vars z t real=true\n",
    "g_sym(z) = cos(t*z) * exp(-z^2/2)/√(2Sym(π))\n",
    "expr = sympy.Integral(g_sym(z), (z, -oo, oo))\n",
    "sol_exact = expr.doit()\n",
    "Eq(expr, sol_exact)"
   ]
  },
  {
   "cell_type": "code",
   "execution_count": 55,
   "id": "66197c39",
   "metadata": {},
   "outputs": [
    {
     "name": "stdout",
     "output_type": "stream",
     "text": [
      "sol_numeriacal = float(sol_exact(t => 1)) = 0.6065306597126334\n",
      "RHS / sol_numeriacal - 1 = -7.771561172376096e-16\n"
     ]
    }
   ],
   "source": [
    "@show sol_numeriacal = float(sol_exact(t=>1))\n",
    "@show RHS/sol_numeriacal - 1;"
   ]
  },
  {
   "cell_type": "markdown",
   "id": "ce6d8d3b",
   "metadata": {},
   "source": [
    "### 他の分布の場合\n",
    "\n",
    "正規分布で近似される他の分布の場合にも同様の結果が成立している.\n",
    "\n",
    "__例:__ Poisson分布\n",
    "\n",
    "$$\n",
    "P(k|\\lambda) = \\frac{e^{-\\lambda}\\lambda^k}{k!} \\quad (k=0,1,2,\\ldots)\n",
    "$$\n",
    "\n",
    "の平均と分散は共に $\\lambda$ であり, $\\lambda$ が大きなとき同じ平均と分散を持つ正規分布で近似されるので,\n",
    "\n",
    "$$\n",
    "\\lim_{\\lambda\\to\\infty}\n",
    "\\sum_{k=0}^\\infty\n",
    "f\\left(\\frac{k-\\lambda}{\\sqrt{\\lambda}}\\right)\n",
    "\\frac{e^{-\\lambda}\\lambda^k}{k!} =\n",
    "\\int_{-\\infty}^\\infty f(z) \\frac{e^{-z^2/2}}{\\sqrt{2\\pi}}\\,dz.\n",
    "$$"
   ]
  },
  {
   "cell_type": "code",
   "execution_count": 56,
   "id": "5ea18fac",
   "metadata": {},
   "outputs": [
    {
     "name": "stdout",
     "output_type": "stream",
     "text": [
      "poi = Poisson(λ) = Poisson{Float64}(λ=1.0e6)\n",
      "LHS = sum((f((k - λ) / √λ) * pdf(poi, k) for k = supp)) = 0.6065306741542528\n",
      "RHS = (quadgk(g, -Inf, Inf))[1] = 0.606530659712633\n",
      "LHS / RHS - 1 = 2.3810205806995555e-8\n"
     ]
    }
   ],
   "source": [
    "f(x) = cos(x)\n",
    "λ = 10^6\n",
    "@show poi = Poisson(λ)\n",
    "m, s = mean(poi), std(poi)\n",
    "supp = max(0, round(Int, m-6s)):round(Int, m+6s)\n",
    "@show LHS = sum(f((k-λ)/√λ) * pdf(poi, k) for k in supp)\n",
    "g(z) = f(z) * pdf(Normal(0, 1), z)\n",
    "@show RHS = quadgk(g, -Inf, Inf)[1] # using QuadGK すると使える数値積分函数\n",
    "@show LHS/RHS - 1;"
   ]
  },
  {
   "cell_type": "markdown",
   "id": "35297917",
   "metadata": {},
   "source": [
    "__例:__ Gamma分布\n",
    "\n",
    "$$\n",
    "p(x|\\alpha,\\theta) = \\frac{e^{-x/\\theta}x^{\\alpha-1}}{\\theta^\\alpha\\Gamma(\\alpha)}\n",
    "$$\n",
    "\n",
    "は 平均 $\\alpha\\theta$, 分散 $\\alpha\\theta^2$ を持ち, $\\alpha$ が大きなとき同じ平均と分散を持つ正規分布で近似されるので,\n",
    "\n",
    "$$\n",
    "\\lim_{\\lambda\\to\\infty}\n",
    "\\int_0^\\infty\n",
    "f\\left(\\frac{x-\\alpha\\lambda}{\\sqrt{\\alpha\\theta^2}}\\right)\n",
    "\\frac{e^{-x/\\theta}x^{\\alpha-1}}{\\theta^\\alpha\\Gamma(\\alpha)}\n",
    "\\,dx =\n",
    "\\int_{-\\infty}^\\infty f(z) \\frac{e^{-z^2/2}}{\\sqrt{2\\pi}}\\,dz.\n",
    "$$"
   ]
  },
  {
   "cell_type": "code",
   "execution_count": 57,
   "id": "35650cbb",
   "metadata": {},
   "outputs": [
    {
     "name": "stdout",
     "output_type": "stream",
     "text": [
      "gam = Gamma(α, θ) = Gamma{Float64}(α=1.0e6, θ=2.0)\n",
      "LHS = (quadgk(F, a, b))[1] = 0.6065305209355965\n",
      "RHS = (quadgk(g, -Inf, Inf))[1] = 0.606530659712633\n",
      "LHS / RHS - 1 = -2.2880465200270095e-7\n"
     ]
    }
   ],
   "source": [
    "f(x) = cos(x)\n",
    "α, θ = 10^6, 2\n",
    "@show gam = Gamma(α, θ)\n",
    "F(x) = f((x - α*θ)/√(α*θ^2)) * pdf(gam, x)\n",
    "m, s = mean(gam), std(gam)\n",
    "a, b = m-5s, m+5s\n",
    "@show LHS = quadgk(F, a, b)[1]\n",
    "g(z) = f(z) * pdf(Normal(0, 1), z)\n",
    "@show RHS = quadgk(g, -Inf, Inf)[1] # using QuadGK すると使える数値積分函数\n",
    "@show LHS/RHS - 1;"
   ]
  },
  {
   "cell_type": "markdown",
   "id": "b7e39080",
   "metadata": {},
   "source": [
    "### 標本分布の場合\n",
    "\n",
    "平均 $\\mu$, 分散 $\\sigma^2$ を持つ分布 $D$ の標本分布 $D^n$ に従う確率変数 $(X_1,\\ldots,X_n)$ について,\n",
    "\n",
    "$$\n",
    "\\Xbar_n = \\frac{1}{n}\\sum_{i=1}^n X_i\n",
    "$$\n",
    "\n",
    "は平均 $\\mu$, 分散 $\\sigma^2/n$ を持ち, 大数の法則より, $n$ が大きなとき $\\mu$ の近くにその分布は集中する.  このことは次が成立することを意味している:\n",
    "\n",
    "$$\n",
    "\\lim_{n\\to\\infty} E[f(\\Xbar_n)] = f(\\mu).\n",
    "$$\n",
    "\n",
    "さらに, 中心極限定理より, $\\Xbar_n$ は$n$ が大きなとき同じ平均と分散を持つ正規分布に近似的に従う.  すなわち,\n",
    "\n",
    "$$\n",
    "Z_n = \\frac{\\Xbar_n - \\mu}{\\sqrt{\\sigma^2/n}} =\n",
    "\\frac{\\sqrt{n}\\,(\\Xbar_n - \\mu)}{\\sigma}\n",
    "$$\n",
    "\n",
    "は $n$ が大きなとき近似的に標準正規分布に従う.  このことは次が成立することを意味している:\n",
    "\n",
    "$$\n",
    "\\lim_{n\\to\\infty} E[f(Z_n)] = \\int_{-\\infty}^\\infty f(z) \\frac{e^{-z^2/2}}{\\sqrt{2\\pi}}\\,dz.\n",
    "$$"
   ]
  },
  {
   "cell_type": "markdown",
   "id": "df8b0969",
   "metadata": {},
   "source": [
    "### 再掲: 大数の法則と中心極限定理のイメージ\n",
    "\n",
    "以下の図は\n",
    "\n",
    "* [「大数の法則と中心極限定理」に関するノート](https://nbviewer.org/github/genkuroki/Statistics/blob/master/2022/05%20Central%20limit%20theorem.ipynb)\n",
    "\n",
    "にあった図の再掲である.\n",
    "\n",
    "確率統計に関する入門的教科書の中には, 大数の法則や中心極限定理について説明するために, 確率変数や確率分布に関する様々な種類の収束性の数学的に正確な定義を説明しているものが結構ある.\n",
    "\n",
    "この一連のノート群においては, そのような説明を意図的に避けた.\n",
    "\n",
    "なぜならば, 統計学を実践的に使うことが目標の人は以下のイメージを大事した方がよいように思われるからである.\n",
    "\n",
    "数学的に正確な理解を目指す場合であっても, 最初のうちは以下の図のようなイメージを大事にして, むしろこのイメージを元に, 確率変数や確率分布の収束に関する数学的に適切な定義について, 自分で考えるようにした方が良いように思われる.\n",
    "\n",
    "教科書に書いてある天下り的な定義から出発しようとすると数学の理解は苦しくなることが多い.\n",
    "\n",
    "自分の力で適切な定義を作るために十分な「論理的スキル」と「健全な直観」の組み合わせの習得を目指す方が楽に理解できる可能性が増えるように思われる."
   ]
  },
  {
   "cell_type": "markdown",
   "id": "e3b0a77a",
   "metadata": {},
   "source": [
    "<img src=\"https://github.com/genkuroki/Statistics/raw/master/2022/images/CTL.png\" width=90%>"
   ]
  },
  {
   "cell_type": "markdown",
   "id": "9004e22f",
   "metadata": {},
   "source": [
    "### 統計学の基礎になる確率論の三種の神器\n",
    "\n",
    "これは筆者の個人的な意見に過ぎないのだが, 統計学の基礎になる確率論の三種の神器は次の3つである:\n",
    "\n",
    "* 大数の法則\n",
    "* 中心極限定理\n",
    "* Kullback-Leibler情報量に関するSanovの定理\n",
    "\n",
    "この一連のノート群で3つ目の __Kullback-Leibler情報量に関するSanovの定理__ にはほとんど触れることができなかった.\n",
    "\n",
    "Kullback-Leibler情報量のSanovの定理については\n",
    "\n",
    "* [「大数の法則と中心極限定理」に関するノート](https://nbviewer.org/github/genkuroki/Statistics/blob/master/2022/01%20Bernoulli%20trial%20and%20related%20distributions.ipynb)\n",
    "\n",
    "の「問題: Kullback-Leibler情報量とGibbsの情報不等式」と\n",
    "\n",
    "* [「大数の法則と中心極限定理」に関するノート](https://nbviewer.org/github/genkuroki/Statistics/blob/master/2022/05%20Central%20limit%20theorem.ipynb)\n",
    "\n",
    "の「注意: Kullback-Leibler情報量とSanovの定理との関係」で簡単に触れただけで終わった.\n",
    "\n",
    "Kullback-Leibler情報量のSanovの定理は __大偏差原理__ (large deviation principle)の特別な場合になっているので, 三種の神器の3番目は「大偏差原理」に一般化しておいてもよい.  大偏差原理は統計力学的な意味でのエントロピーや除法理論における情報量の概念を扱う話だと思ってよい.\n",
    "\n",
    "Kullback-Leibler情報量のSanovの定理は赤池情報量規準(AIC)などの情報量規準の基礎になる.\n",
    "\n",
    "Sanovの定理の易しい解説が以下の場所にある:\n",
    "\n",
    "* [Kullback-Leibler情報量とSanovの定理](https://genkuroki.github.io/documents/20160616KullbackLeibler.pdf)\n",
    "\n",
    "確率論で役に立つ解析学については次のノートも参考になるかもしれない:\n",
    "\n",
    "* [ガンマ分布の中心極限定理とStirlingの公式](https://genkuroki.github.io/documents/20160501StirlingFormula.pdf)\n",
    "\n",
    "ついでに紹介しておくと, ガンマ函数やベータ函数などについては次の場所にあるノート群が詳しい:\n",
    "\n",
    "* [「微分積分学」に関するノート群](https://github.com/genkuroki/Calculus)\n",
    "\n",
    "さらに, 図書館で次の文献も参照できれば, 統計学の基礎になる確率論の三種の神器について理解を深め易いと思われる:\n",
    "\n",
    "* 高橋陽一郎, 確率論の広がり, 数学のたのしみ, no.8 (1998) pp.26-35　([関連情報を検索](https://www.google.com/search?q=%E9%AB%98%E6%A9%8B%E9%99%BD%E4%B8%80%E9%83%8E+%E7%A2%BA%E7%8E%87%E8%AB%96%E3%81%AE%E5%BA%83%E3%81%8C%E3%82%8A+%E6%95%B0%E5%AD%A6%E3%81%AE%E3%81%9F%E3%81%AE%E3%81%97%E3%81%BF+1998))\n",
    "\n",
    "__面白いことはたくさんある(ありすぎる).__\n",
    "\n",
    "__あせらずに楽しみながら勉強して欲しいと思います.__"
   ]
  },
  {
   "cell_type": "code",
   "execution_count": null,
   "id": "3ab2df6a",
   "metadata": {},
   "outputs": [],
   "source": []
  }
 ],
 "metadata": {
  "@webio": {
   "lastCommId": null,
   "lastKernelId": null
  },
  "jupytext": {
   "formats": "ipynb,md"
  },
  "kernelspec": {
   "display_name": "Julia 1.7.3",
   "language": "julia",
   "name": "julia-1.7"
  },
  "language_info": {
   "file_extension": ".jl",
   "mimetype": "application/julia",
   "name": "julia",
   "version": "1.7.3"
  },
  "toc": {
   "base_numbering": 1,
   "nav_menu": {},
   "number_sections": true,
   "sideBar": true,
   "skip_h1_title": true,
   "title_cell": "目次",
   "title_sidebar": "目次",
   "toc_cell": true,
   "toc_position": {},
   "toc_section_display": true,
   "toc_window_display": false
  }
 },
 "nbformat": 4,
 "nbformat_minor": 5
}
