{
 "cells": [
  {
   "cell_type": "markdown",
   "id": "bc036ebf",
   "metadata": {},
   "source": [
    "# 検定と信頼区間: 一般論\n",
    "\n",
    "* 黒木玄\n",
    "* 2022-05-31～2022-06-02\n",
    "\n",
    "$\n",
    "\\newcommand\\op{\\operatorname}\n",
    "\\newcommand\\R{{\\mathbb R}}\n",
    "\\newcommand\\Z{{\\mathbb Z}}\n",
    "\\newcommand\\var{\\op{var}}\n",
    "\\newcommand\\cov{\\op{cov}}\n",
    "\\newcommand\\std{\\op{std}}\n",
    "\\newcommand\\eps{\\varepsilon}\n",
    "\\newcommand\\T[1]{T_{(#1)}}\n",
    "\\newcommand\\bk{\\bar\\kappa}\n",
    "\\newcommand\\X{{\\mathscr X}}\n",
    "\\newcommand\\pvalue{\\op{pvalue}}\n",
    "$\n",
    "\n",
    "このノートでは[Julia言語](https://julialang.org/)を使用している: \n",
    "\n",
    "* [Julia言語のインストールの仕方の一例](https://nbviewer.org/github/genkuroki/msfd28/blob/master/install.ipynb)\n",
    "\n",
    "自明な誤りを見つけたら, 自分で訂正して読んで欲しい.  大文字と小文字の混同や書き直しが不完全な場合や符号のミスは非常によくある.\n",
    "\n",
    "このノートに書いてある式を文字通りにそのまま読んで正しいと思ってしまうとひどい目に会う可能性が高い. しかし, 数が使われている文献には大抵の場合に文字通りに読むと間違っている式や主張が書いてあるので, 内容を理解した上で訂正しながら読んで利用しなければいけない. 実践的に数学を使う状況では他人が書いた式をそのまま信じていけない.\n",
    "\n",
    "このノートの内容よりもさらに詳しいノートを自分で作ると勉強になるだろう.  膨大な時間を取られることになるが, このノートの内容に関係することで飯を食っていく可能性がある人にはそのためにかけた時間は無駄にならないと思われる."
   ]
  },
  {
   "cell_type": "markdown",
   "id": "84af539e",
   "metadata": {
    "toc": true
   },
   "source": [
    "<h1>目次<span class=\"tocSkip\"></span></h1>\n",
    "<div class=\"toc\"><ul class=\"toc-item\"><li><span><a href=\"#お勧め解説動画\" data-toc-modified-id=\"お勧め解説動画-1\"><span class=\"toc-item-num\">1&nbsp;&nbsp;</span>お勧め解説動画</a></span></li><li><span><a href=\"#まとめ\" data-toc-modified-id=\"まとめ-2\"><span class=\"toc-item-num\">2&nbsp;&nbsp;</span>まとめ</a></span><ul class=\"toc-item\"><li><span><a href=\"#P値\" data-toc-modified-id=\"P値-2.1\"><span class=\"toc-item-num\">2.1&nbsp;&nbsp;</span>P値</a></span></li><li><span><a href=\"#検定\" data-toc-modified-id=\"検定-2.2\"><span class=\"toc-item-num\">2.2&nbsp;&nbsp;</span>検定</a></span></li><li><span><a href=\"#信頼区間\" data-toc-modified-id=\"信頼区間-2.3\"><span class=\"toc-item-num\">2.3&nbsp;&nbsp;</span>信頼区間</a></span></li><li><span><a href=\"#nuisanceパラメータがある場合\" data-toc-modified-id=\"nuisanceパラメータがある場合-2.4\"><span class=\"toc-item-num\">2.4&nbsp;&nbsp;</span>nuisanceパラメータがある場合</a></span></li></ul></li><li><span><a href=\"#P値の定義\" data-toc-modified-id=\"P値の定義-3\"><span class=\"toc-item-num\">3&nbsp;&nbsp;</span>P値の定義</a></span><ul class=\"toc-item\"><li><span><a href=\"#統計モデルの設定\" data-toc-modified-id=\"統計モデルの設定-3.1\"><span class=\"toc-item-num\">3.1&nbsp;&nbsp;</span>統計モデルの設定</a></span></li><li><span><a href=\"#P値の定義\" data-toc-modified-id=\"P値の定義-3.2\"><span class=\"toc-item-num\">3.2&nbsp;&nbsp;</span>P値の定義</a></span></li><li><span><a href=\"#データの数値以上に極端な値の定義の仕方\" data-toc-modified-id=\"データの数値以上に極端な値の定義の仕方-3.3\"><span class=\"toc-item-num\">3.3&nbsp;&nbsp;</span>データの数値以上に極端な値の定義の仕方</a></span><ul class=\"toc-item\"><li><span><a href=\"#例(二項分布モデル)の場合\" data-toc-modified-id=\"例(二項分布モデル)の場合-3.3.1\"><span class=\"toc-item-num\">3.3.1&nbsp;&nbsp;</span>例(二項分布モデル)の場合</a></span></li><li><span><a href=\"#例(正規分布の標本分布モデル)の場合\" data-toc-modified-id=\"例(正規分布の標本分布モデル)の場合-3.3.2\"><span class=\"toc-item-num\">3.3.2&nbsp;&nbsp;</span>例(正規分布の標本分布モデル)の場合</a></span></li></ul></li></ul></li><li><span><a href=\"#P値を使った検定\" data-toc-modified-id=\"P値を使った検定-4\"><span class=\"toc-item-num\">4&nbsp;&nbsp;</span>P値を使った検定</a></span></li><li><span><a href=\"#P値函数を使った信頼区間\" data-toc-modified-id=\"P値函数を使った信頼区間-5\"><span class=\"toc-item-num\">5&nbsp;&nbsp;</span>P値函数を使った信頼区間</a></span></li><li><span><a href=\"#信頼区間と検定の表裏一体性\" data-toc-modified-id=\"信頼区間と検定の表裏一体性-6\"><span class=\"toc-item-num\">6&nbsp;&nbsp;</span>信頼区間と検定の表裏一体性</a></span></li><li><span><a href=\"#P値函数が「よい」かどうかの判断基準達\" data-toc-modified-id=\"P値函数が「よい」かどうかの判断基準達-7\"><span class=\"toc-item-num\">7&nbsp;&nbsp;</span>P値函数が「よい」かどうかの判断基準達</a></span></li><li><span><a href=\"#Neyman-Pearsonの補題\" data-toc-modified-id=\"Neyman-Pearsonの補題-8\"><span class=\"toc-item-num\">8&nbsp;&nbsp;</span>Neyman-Pearsonの補題</a></span></li><li><span><a href=\"#よくある誤解\" data-toc-modified-id=\"よくある誤解-9\"><span class=\"toc-item-num\">9&nbsp;&nbsp;</span>よくある誤解</a></span></li></ul></div>"
   ]
  },
  {
   "cell_type": "code",
   "execution_count": 1,
   "id": "169d3d3a",
   "metadata": {},
   "outputs": [],
   "source": [
    "ENV[\"LINES\"], ENV[\"COLUMNS\"] = 100, 100\n",
    "using BenchmarkTools\n",
    "using Distributions\n",
    "using LinearAlgebra\n",
    "using Printf\n",
    "using QuadGK\n",
    "using Random\n",
    "Random.seed!(4649373)\n",
    "using Roots\n",
    "using SpecialFunctions\n",
    "using StaticArrays\n",
    "using StatsBase\n",
    "using StatsFuns\n",
    "using StatsPlots\n",
    "default(fmt = :png, titlefontsize = 10, size = (400, 250))\n",
    "using SymPy"
   ]
  },
  {
   "cell_type": "code",
   "execution_count": 2,
   "id": "65b166ee",
   "metadata": {},
   "outputs": [],
   "source": [
    "# Override the Base.show definition of SymPy.jl:\n",
    "# https://github.com/JuliaPy/SymPy.jl/blob/29c5bfd1d10ac53014fa7fef468bc8deccadc2fc/src/types.jl#L87-L105\n",
    "\n",
    "@eval SymPy function Base.show(io::IO, ::MIME\"text/latex\", x::SymbolicObject)\n",
    "    print(io, as_markdown(\"\\\\displaystyle \" * sympy.latex(x, mode=\"plain\", fold_short_frac=false)))\n",
    "end\n",
    "@eval SymPy function Base.show(io::IO, ::MIME\"text/latex\", x::AbstractArray{Sym})\n",
    "    function toeqnarray(x::Vector{Sym})\n",
    "        a = join([\"\\\\displaystyle \" * sympy.latex(x[i]) for i in 1:length(x)], \"\\\\\\\\\")\n",
    "        \"\"\"\\\\left[ \\\\begin{array}{r}$a\\\\end{array} \\\\right]\"\"\"\n",
    "    end\n",
    "    function toeqnarray(x::AbstractArray{Sym,2})\n",
    "        sz = size(x)\n",
    "        a = join([join(\"\\\\displaystyle \" .* map(sympy.latex, x[i,:]), \"&\") for i in 1:sz[1]], \"\\\\\\\\\")\n",
    "        \"\\\\left[ \\\\begin{array}{\" * repeat(\"r\",sz[2]) * \"}\" * a * \"\\\\end{array}\\\\right]\"\n",
    "    end\n",
    "    print(io, as_markdown(toeqnarray(x)))\n",
    "end"
   ]
  },
  {
   "cell_type": "code",
   "execution_count": 3,
   "id": "6ea76ca2",
   "metadata": {},
   "outputs": [
    {
     "data": {
      "text/plain": [
       "mykurtosis (generic function with 2 methods)"
      ]
     },
     "execution_count": 3,
     "metadata": {},
     "output_type": "execute_result"
    }
   ],
   "source": [
    "safemul(x, y) = x == 0 ? x : x*y\n",
    "safediv(x, y) = x == 0 ? x : x/y\n",
    "\n",
    "x ⪅ y = x < y || x ≈ y\n",
    "\n",
    "mypdf(dist, x) = pdf(dist, x)\n",
    "mypdf(dist::DiscreteUnivariateDistribution, x) = pdf(dist, round(Int, x))\n",
    "\n",
    "distname(dist::Distribution) = replace(string(dist), r\"{.*}\" => \"\")\n",
    "myskewness(dist) = skewness(dist)\n",
    "mykurtosis(dist) = kurtosis(dist)\n",
    "function standardized_moment(dist::ContinuousUnivariateDistribution, m)\n",
    "    μ, σ = mean(dist), std(dist)\n",
    "    quadgk(x -> (x - μ)^m * pdf(dist, x), extrema(dist)...)[1] / σ^m\n",
    "end\n",
    "myskewness(dist::MixtureModel{Univariate, Continuous}) = standardized_moment(dist, 3)\n",
    "mykurtosis(dist::MixtureModel{Univariate, Continuous}) = standardized_moment(dist, 4) - 3"
   ]
  },
  {
   "cell_type": "markdown",
   "id": "30b78a9f",
   "metadata": {},
   "source": [
    "## お勧め解説動画\n",
    "\n",
    "P値と検定と信頼区間については次のリンク先の動画での解説が素晴らしいので, 閲覧を推奨する:\n",
    "\n",
    "* 京都大学大学院医学研究科 聴講コース<br>臨床研究者のための生物統計学「仮説検定とP値の誤解」<br>佐藤 俊哉 医学研究科教授<br>[https://youtu.be/vz9cZnB1d1c](https://youtu.be/vz9cZnB1d1c)\n",
    "\n",
    "信頼区間の解説は40分あたり以降にある.  多くの入門的な解説が抱えているP値, 検定, 信頼区間の解説の難点は以下の2つに要約される:\n",
    "\n",
    "* 複雑な現実と統計モデルを混同させるような解説が伝統的に普通になってしまっていること.\n",
    "* 検定と信頼区間の表裏一体性(双対性)が解説されていないこと.\n",
    "\n",
    "このことが原因がP値も $95\\%$ 信頼区間の $95\\%$ も数学的フィクションである統計モデル内での確率であることがクリアに説明されておらず, そのせいでP値と $95\\%$ 信頼区間の $95\\%$ についてまっとうな理解が得られ難くなっている.  上で紹介した動画は教科書の説明がまずいことについて明瞭に言及しながら, 伝統的な入門的解説が抱えている問題を解消しようとしている.\n",
    "\n",
    "__注意:__ 上の解説動画内で説明されている事柄を理解すれば, P値と検定と信頼区間について広まってしまった誤解を避けることができる.  そして, その後は個別の場合について詳しく勉強するだけの問題になるだろう."
   ]
  },
  {
   "cell_type": "markdown",
   "id": "46c9c98e",
   "metadata": {},
   "source": [
    "## まとめ\n",
    "\n",
    "以下のまとめは「理解が進むたびに何度もこのまとめに戻る」というような使い方をして欲しい."
   ]
  },
  {
   "cell_type": "markdown",
   "id": "94c430f7",
   "metadata": {},
   "source": [
    "### P値\n",
    "\n",
    "__P値__ (P-value)は以下を与えることによって定義される:\n",
    "\n",
    "* 現実世界におけるデータの数値 $x$ の生成のされ方に関するパラメータ $\\theta$ を持つ統計モデル,\n",
    "* 「データの数値以上に極端な」の意味の定義,\n",
    "* さらに必要ならば近似計算法.\n",
    "\n",
    "データの数値 $x$ とパラメータの値 $\\theta=\\theta_0$ が与えらえたとき, P値は\n",
    "\n",
    "* データの数値 $x$ 以上に極端な値が条件 $\\theta=\\theta_0$ の下での統計モデル内で生じる確率もしくはその近似値\n",
    "\n",
    "と定義される. このとき, 条件 $\\theta=\\theta_0$ は __帰無仮説__ (null hypothesis)と呼ばれることがある. (「データの数値以上に極端な」の定義は __対立仮説__ (alternative hypothesis)の __集まり__ を与えることによって与えらえると考えられる.)\n",
    "\n",
    "このノートでは以上のように定義されたP値を\n",
    "\n",
    "* データの数値 $x$ に関する仮説 $\\theta=\\theta_0$ のP値\n",
    "\n",
    "と呼ぶことにする.\n",
    "\n",
    "P値は以下の2つの整合性の指標として使われる:\n",
    "\n",
    "* 現実世界から得たデータの数値 $x$,\n",
    "* 統計モデル＋パラメータの値 $\\theta=\\theta_0$.\n",
    "\n",
    "P値が小さいほど, 統計モデル＋パラメータの値 $\\theta$ は現実世界から得たデータの数値 $x$ と整合していないと考える."
   ]
  },
  {
   "cell_type": "markdown",
   "id": "b8fdf598",
   "metadata": {},
   "source": [
    "### 検定\n",
    "\n",
    "__有意水準__ と呼ばれる閾値(いきち, しきいち) $0<\\alpha<1$ が与えられたとき, P値が $\\alpha$ 未満ならば, \n",
    "\n",
    "* 統計モデル＋パラメータの値は現実世界から得たデータの数値と整合性がない\n",
    "\n",
    "とみなす. このとき\n",
    "\n",
    "* 統計モデル＋パラメータの値は現実世界から得たデータによって __棄却__ (reject)されたという.\n",
    "\n",
    "この手続きを __検定__ (test, testing, hypothesis testing)と呼ぶ.  (P値が有意水準 $\\alpha$ 以上になるとき, 「受容 (accept)された」ということがあるが, 混乱の原因になるので, このノートでは用いない.  このノートでは「棄却された」「棄却されなかった」の組み合わせを一貫して使うことにする.)\n",
    "\n",
    "棄却されなかった統計モデルとパラメータの値の組み合わせについては強い結論は何も出せない. 棄却されずにすんだ統計モデルとパラメータの値の組み合わせは単に閾値 $\\alpha$ の設定で捨てられずにすんだだけなので, 「棄却されなかった統計モデルとパラメータの値の組み合わせは正しいと考えてよい」と考えることは典型的な誤解になる.\n",
    "\n",
    "有意水準 $\\alpha$ として $5\\%$ が非常によく使われているが, それは単に慣習的にそうなっているだけのことで, $5\\%$ の有意水準を使うことに科学的な合理性はない. \n",
    "\n",
    "$5\\%$ の有意水準の下での結果に一喜一憂することは非科学的な考え方である.\n",
    "\n",
    "__検定の手続きは「科学的お墨付きを得るための手段」ではない!__\n",
    "\n",
    "同じことは次の節で説明する信頼区間についても言える."
   ]
  },
  {
   "cell_type": "markdown",
   "id": "39a4617f",
   "metadata": {},
   "source": [
    "### 信頼区間\n",
    "\n",
    "__信頼区間__ (confidence interval)の文脈で $1 - \\alpha$ は __信頼度__ (信頼係数)と呼ばれる.\n",
    "\n",
    "統計モデルが実数パラメータ $\\theta$ を持つとき, データの数値 $x$ から決まる信頼度 $1-\\alpha$ の信頼区間は\n",
    "\n",
    "* データの数値 $x$ と有意水準 $\\alpha$ で棄却されない統計モデルのパラメータ値 $\\theta$ 全体の集合\n",
    "\n",
    "として定義される.  (この集合が区間にならない場合には信頼領域(confidence region)と呼んだりする.  その集合を含む最小の区間を考える場合もある.)\n",
    "\n",
    "信頼区間を使うことは, 検定の手続きを無数のパラメータ値 $\\theta$ 達に対して適用することと同じである.\n",
    "\n",
    "検定で棄却されなかった場合については強い結論は何も出せないので, 信頼区間は\n",
    "\n",
    "* 正しさについて判断を保留するべきパラメータ値全体の集合\n",
    "\n",
    "だとみなされる."
   ]
  },
  {
   "cell_type": "markdown",
   "id": "d6a1eb16",
   "metadata": {},
   "source": [
    "### nuisanceパラメータがある場合\n",
    "\n",
    "__注意:__ この節の内容はこのノートの内容を超えて先走っている.\n",
    "\n",
    "実際には統計モデルは興味があるパラメータ $\\theta$ 以外にパラメータ $\\eta$ を含んでいることがある. (例えば平均パラメータ $\\mu$ のみに興味があるときの正規分布 $\\op{Normal}(\\mu,\\sigma)$ における標準偏差パラメータ $\\sigma$.)\n",
    "\n",
    "その場合にはパラメータ $\\theta$ の値を決めても, 統計モデルの確率分布は唯一つに決まらず, パラメータ $\\eta$ の分だけ不定になる.\n",
    "\n",
    "P値の定義は「データの数値 $x$ 以上に極端な値が帰無仮説 $\\theta=\\theta_0$ の下での統計モデル内で生じる確率もしくはその近似値」であった.  帰無仮説 $\\theta=\\theta_0$ で統計モデルの確率分布が唯一つに決まらない場合にはこのP値の定義を単純に適用することが不可能になる.\n",
    "\n",
    "このような状況のときに, 余計なパラメータ $\\eta$ を __nuisanceパラメータ__ (ニューサンスパラメータ, 局外パラメータ,　撹乱パラメータ, 迷惑パラメータ)と呼ぶ(nuisanceは迷惑や妨害を意味する名詞). \n",
    "\n",
    "大抵の場合にnuisanceパラメータが存在しているという問題は, P値を使う統計分析の基礎付けが複雑になる主な原因の1つになっている.\n",
    "\n",
    "nuisanceパラメータへの対処法には例えば以下がある:\n",
    "\n",
    "* nuisanceパラメータを動かして上限(supremum)を考える.\n",
    "* 条件付き確率分布に移ってnuisanceパラメータの自由度を消す.\n",
    "* 最尤法の漸近論を使ってnuisanceパラメータによらずに成立する近似を得る.\n",
    "* Bayes法を使う."
   ]
  },
  {
   "cell_type": "markdown",
   "id": "57683751",
   "metadata": {},
   "source": [
    "## P値の定義"
   ]
  },
  {
   "cell_type": "markdown",
   "id": "6ffe09f8",
   "metadata": {},
   "source": [
    "### 統計モデルの設定\n",
    "\n",
    "現実世界のデータの生じ方のモデル化として使用される統計モデルを考える.\n",
    "\n",
    "__例 (二項分布モデル):__\n",
    "\n",
    "* 現実世界のデータ: 当たりとはずれが出るルーレットを $n$ 回まわしたときの当たりの回数 $k$\n",
    "* 統計モデル: 二項分布モデル $\\op{Binomial}(n, p)$\n",
    "\n",
    "__例 (正規分布の標本分布モデル):__\n",
    "\n",
    "* 現実世界のデータ: S市の中学3年生男子全体から $n$ 人を無作為抽出して測った身長 $x_1,\\ldots,x_n$\n",
    "* 統計モデル: 正規分布のサイズ $n$ の標本分布モデル $\\op{Normal}(\\mu,\\sigma)^n$\n",
    "\n",
    "このように統計モデルはパラメータ付きの確率分布として与えられる."
   ]
  },
  {
   "cell_type": "markdown",
   "id": "42bac00c",
   "metadata": {},
   "source": [
    "### P値の定義\n",
    "\n",
    "データ $x$ のモデル化になっているパラメータ $\\theta$ を持つ統計モデルが与えられていると仮定する.\n",
    "\n",
    "データの数値 $x_0$ とパラメータの数値 $\\theta = \\theta_0$ が与えられたとき, \n",
    "\n",
    "* データの数値 $x_0$ から定まる仮説 $\\theta = \\theta_0$ のP値\n",
    "\n",
    "を次によって定める:\n",
    "\n",
    "* データの数値 $x$ 以上に極端な値が仮説 $\\theta=\\theta_0$ 下の統計モデル内で生じる確率もしくはその近似値.\n",
    "\n",
    "「仮説 $\\theta=\\theta_0$ 下の統計モデル内におけるデータの数値 $x$ 以上に極端な値」の定義は目的ごとに別に与えられる.  その概略については次の節を見よ."
   ]
  },
  {
   "cell_type": "markdown",
   "id": "1b2b7b57",
   "metadata": {},
   "source": [
    "### データの数値以上に極端な値の定義の仕方\n",
    "\n",
    "データの数値 $x_0$ とパラメータの数値 $\\theta = \\theta_0$ が与えられたとき, 統計モデルとそのパラメータ値が与える確率分布において, $x$ がデータの数値 $x_0$ 以上に極端な値であることに定義を目的に合わせて適切に定義する.\n",
    "\n",
    "以下の条件が「仮説 $\\theta=\\theta_0$ の下で $x$ がデータの数値 $x_0$ 以上に極端な値であること」の定義としてよく使われる:\n",
    "\n",
    "* $x$ はデータの数値 $x_0$ 以上(または以下)である.\n",
    "* $x$ が統計モデルの確率で生じる確率(もしくはその密度)がデータの数値 $x_0$ 以下である.\n",
    "\n",
    "$x$ が実数値の変数ではなく, $\\R^n$ に属する変数の場合には, $x$ の実数値函数 $S(x|\\theta)$ を用意して,\n",
    "\n",
    "* $S(x|\\theta_0)$ はデータの数値での値 $S(x_0|\\theta_0)$ 以上(もしくは以下)である.\n",
    "\n",
    "という条件で「仮説 $\\theta=\\theta_0$ の下で $x$ がデータの数値 $x_0$ 以上に極端な値であること」を定義することが多い. 函数 $S(x|\\theta_0)$ は __検定統計量__ と呼ばれ, 目的ごとに適切に選択する必要がある."
   ]
  },
  {
   "cell_type": "markdown",
   "id": "647b1854",
   "metadata": {},
   "source": [
    "#### 例(二項分布モデル)の場合\n",
    "\n",
    "データの数値「$n$ 回中 $k_0$ 回成功」と成功確率パラメータの数値 $p=p_0$ が与えられているとする.  このとき, 「仮説 $p=p_0$ の下での二項分布モデル内での成功回数 $k$ がデータの数値 $k_0$ 以上に極端であること」を以下のように様々な方法で定義できる:\n",
    "\n",
    "(1) $k \\ge k_0$ (または $k\\le k_0$).  (これの変種でClopper-Pearsonの信頼区間が得られる.)\n",
    "\n",
    "(2) $P(k|n,p_0)$ を二項分布の確率質量函数とするとき, $P(k|n,p_0)\\le P(k_0|n,p_0)$ (Sterneの信頼区間の場合).\n",
    "\n",
    "この他にも正規分布近似(中心極限定理)を使って定義することもできる.\n",
    "\n",
    "(3) 二項分布 $\\op{Binomial}(m, p)$ に関する中心極限定理によれば, $(k - np)/\\sqrt{np(1-p)}$ に対応する確率変数は近似的に標準正規分布に従う.  「標準正規分布 $\\op{Normal}(0, 1)$ に従う確率変数 $Z$ の値がデータの数値 $k_0$ 以上に極端であること」を\n",
    "\n",
    "$$\n",
    "|Z| \\ge \\frac{|k_0 - np_0|}{\\sqrt{np_0(1-p_0)}}\n",
    "$$\n",
    "\n",
    "という条件で定め, こうなる確率を標準正規分布を使って計算する(近似の一種, Wilsonの信頼区間の場合).\n",
    "\n",
    "(3)' 上と同値な次の条件を使うこともある:\n",
    "\n",
    "$$\n",
    "Z^2 \\ge\n",
    "\\frac{(k_0 - np_0)^2}{np_0(1-p_0)}.\n",
    "$$\n",
    "\n",
    "$Z\\sim\\op{Normal}(0,1)$ のとき, $Z^2$ は自由度 $1$ のχ²分布に従うので, こうなる確率を自由度 $1$ のχ²分布を用いて計算する(これも近似の一種).  さらに上の条件は次とも同値である(Pearsonのχ²検定の場合):\n",
    "\n",
    "$$\n",
    "Z^2 \\ge\n",
    "\\frac{(k_0 - np_0)^2}{np_0} + \\frac{((n-k_0) - n(1-p_0))^2}{n(1-p_0)}.\n",
    "$$\n",
    "\n",
    "これの不等式の右辺を __Pearsonのχ²統計量__ と呼ぶ.  これはそのように呼ばれる検定統計量達\n",
    "\n",
    "$$\n",
    "\\chi^2 = \\sum \\frac{(\\text{観測値} - \\text{期待値})^2}{\\text{期待値}}\n",
    "$$\n",
    "\n",
    "の特別な場合に過ぎない.\n",
    "\n",
    "(4) 上の(3)における右辺の分母の $p_0$ を $\\hat{p} = k_0/n$ で置き換えて得られる次の条件で定義することもある(Waldの信頼区間の場合):\n",
    "\n",
    "$$\n",
    "|Z| \\ge\n",
    "\\frac{|k_0 - np_0|}{\\sqrt{n\\hat{p}(1-\\hat{p})}}.\n",
    "$$\n",
    "\n",
    "以上のように, 同じ二項分布モデルのP値の定義の仕方も沢山ある.  基本的にどれを使ってもよい.  ユーザー側は自分の目的に合わせて合理的だと考えられるものを自由に使えばよい."
   ]
  },
  {
   "cell_type": "markdown",
   "id": "0d5dee02",
   "metadata": {},
   "source": [
    "#### 例(正規分布の標本分布モデル)の場合\n",
    "\n",
    "__注意:__ この節の内容は別のノートで詳しく説明する. この段階では以下で説明する複雑な式を覚える必要はない.\n",
    "\n",
    "データの数値 $x_0 = \\left(x^{(0)}_1,\\ldots,x_n^{(0)}\\right) \\in \\R^n$ と興味があるパラメータの数値 $\\mu=\\mu_0$ が与えられているとする. このとき, 「仮説 $\\mu = \\mu_0$ の下での正規分布の標本分布モデル内での $x\\in\\R^n$ の値がデータの数値 $x_0$ 以上に極端であること」を以下の方法で定義すると便利であることが知られている.\n",
    "\n",
    "まず, $T$ 統計量 $T(x|\\mu)$ を次のように定める:\n",
    "\n",
    "$$\n",
    "T(x|\\mu) = \\frac{\\bar{x} - \\mu}{\\sqrt{s^2/n}}, \\quad\n",
    "\\bar{x} = \\frac{1}{n}\\sum_{i=1}^n x_i, \\quad\n",
    "s^2 = \\frac{1}{n-1}\\sum_{i=1}^n \\left(x_i - \\bar{x}\\right)^2.\n",
    "$$\n",
    "\n",
    "そして, 「仮説 $\\mu = \\mu_0$ の下で, $x$ の値がデータの数値 $x_0$ 以上に極端であること」を\n",
    "\n",
    "$$\n",
    "\\left|T(x|\\mu_0)\\right| \\ge \\left|T(x_0|\\mu_0)\\right| \n",
    "$$\n",
    "\n",
    "という条件で定める. これは大雑把に言って,\n",
    "\n",
    "* $x$ が $(\\mu_0,\\ldots,\\mu_0)$ からデータの数値 $x_0$ 以上に離れている.\n",
    "\n",
    "という意味の条件になっている.\n",
    "\n",
    "これが便利なのは, 仮説 $\\mu = \\mu_0$ の下での正規分布の標本分布モデル内で $T(x|\\mu_0)$ に対応する確率変数が自由度 $n-1$ の $t$ 分布に従うからである."
   ]
  },
  {
   "cell_type": "markdown",
   "id": "d28694bf",
   "metadata": {},
   "source": [
    "## P値を使った検定"
   ]
  },
  {
   "cell_type": "markdown",
   "id": "e60ee77c",
   "metadata": {},
   "source": [
    "## P値函数を使った信頼区間"
   ]
  },
  {
   "cell_type": "markdown",
   "id": "0bceab07",
   "metadata": {},
   "source": [
    "## 信頼区間と検定の表裏一体性"
   ]
  },
  {
   "cell_type": "markdown",
   "id": "86904d7e",
   "metadata": {},
   "source": [
    "## P値函数が「よい」かどうかの判断基準達"
   ]
  },
  {
   "cell_type": "markdown",
   "id": "bd66eaf6",
   "metadata": {},
   "source": [
    "## Neyman-Pearsonの補題"
   ]
  },
  {
   "cell_type": "markdown",
   "id": "d204108f",
   "metadata": {},
   "source": [
    "## よくある誤解"
   ]
  },
  {
   "cell_type": "markdown",
   "id": "3c22accd",
   "metadata": {},
   "source": [
    "$\\sqrt{x}/\\sqrt{2}$"
   ]
  },
  {
   "cell_type": "code",
   "execution_count": null,
   "id": "126b56db",
   "metadata": {},
   "outputs": [],
   "source": []
  }
 ],
 "metadata": {
  "@webio": {
   "lastCommId": null,
   "lastKernelId": null
  },
  "jupytext": {
   "formats": "ipynb,md"
  },
  "kernelspec": {
   "display_name": "Julia 1.7.3",
   "language": "julia",
   "name": "julia-1.7"
  },
  "language_info": {
   "file_extension": ".jl",
   "mimetype": "application/julia",
   "name": "julia",
   "version": "1.7.3"
  },
  "toc": {
   "base_numbering": 1,
   "nav_menu": {},
   "number_sections": true,
   "sideBar": true,
   "skip_h1_title": true,
   "title_cell": "目次",
   "title_sidebar": "目次",
   "toc_cell": true,
   "toc_position": {},
   "toc_section_display": true,
   "toc_window_display": false
  }
 },
 "nbformat": 4,
 "nbformat_minor": 5
}
