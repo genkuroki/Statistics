{
 "cells": [
  {
   "cell_type": "markdown",
   "id": "ae7aaa69",
   "metadata": {},
   "source": [
    "数値の値\n",
    "\n",
    "$\\text{数値の値}$"
   ]
  },
  {
   "cell_type": "markdown",
   "id": "f1f73378",
   "metadata": {},
   "source": [
    "# 検定と信頼区間: 一般論\n",
    "\n",
    "* 黒木玄\n",
    "* 2022-05-31～2022-05-31\n",
    "\n",
    "$\n",
    "\\newcommand\\op{\\operatorname}\n",
    "\\newcommand\\R{{\\mathbb R}}\n",
    "\\newcommand\\Z{{\\mathbb Z}}\n",
    "\\newcommand\\var{\\op{var}}\n",
    "\\newcommand\\cov{\\op{cov}}\n",
    "\\newcommand\\std{\\op{std}}\n",
    "\\newcommand\\eps{\\varepsilon}\n",
    "\\newcommand\\T[1]{T_{(#1)}}\n",
    "\\newcommand\\bk{\\bar\\kappa}\n",
    "\\newcommand\\X{{\\mathscr X}}\n",
    "\\newcommand\\pvalue{\\op{pvalue}}\n",
    "$\n",
    "\n",
    "このノートでは[Julia言語](https://julialang.org/)を使用している: \n",
    "\n",
    "* [Julia言語のインストールの仕方の一例](https://nbviewer.org/github/genkuroki/msfd28/blob/master/install.ipynb)\n",
    "\n",
    "自明な誤りを見つけたら, 自分で訂正して読んで欲しい.  大文字と小文字の混同や書き直しが不完全な場合や符号のミスは非常によくある.\n",
    "\n",
    "このノートに書いてある式を文字通りにそのまま読んで正しいと思ってしまうとひどい目に会う可能性が高い. しかし, 数が使われている文献には大抵の場合に文字通りに読むと間違っている式や主張が書いてあるので, 内容を理解した上で訂正しながら読んで利用しなければいけない. 実践的に数学を使う状況では他人が書いた式をそのまま信じていけない.\n",
    "\n",
    "このノートの内容よりもさらに詳しいノートを自分で作ると勉強になるだろう.  膨大な時間を取られることになるが, このノートの内容に関係することで飯を食っていく可能性がある人にはそのためにかけた時間は無駄にならないと思われる."
   ]
  },
  {
   "cell_type": "markdown",
   "id": "8f93d688",
   "metadata": {
    "toc": true
   },
   "source": [
    "<h1>目次<span class=\"tocSkip\"></span></h1>\n",
    "<div class=\"toc\"><ul class=\"toc-item\"><li><span><a href=\"#お勧め解説動画\" data-toc-modified-id=\"お勧め解説動画-1\"><span class=\"toc-item-num\">1&nbsp;&nbsp;</span>お勧め解説動画</a></span></li><li><span><a href=\"#まとめ\" data-toc-modified-id=\"まとめ-2\"><span class=\"toc-item-num\">2&nbsp;&nbsp;</span>まとめ</a></span><ul class=\"toc-item\"><li><span><a href=\"#P値\" data-toc-modified-id=\"P値-2.1\"><span class=\"toc-item-num\">2.1&nbsp;&nbsp;</span>P値</a></span></li><li><span><a href=\"#検定\" data-toc-modified-id=\"検定-2.2\"><span class=\"toc-item-num\">2.2&nbsp;&nbsp;</span>検定</a></span></li><li><span><a href=\"#信頼区間\" data-toc-modified-id=\"信頼区間-2.3\"><span class=\"toc-item-num\">2.3&nbsp;&nbsp;</span>信頼区間</a></span></li><li><span><a href=\"#nuisanceパラメータがある場合\" data-toc-modified-id=\"nuisanceパラメータがある場合-2.4\"><span class=\"toc-item-num\">2.4&nbsp;&nbsp;</span>nuisanceパラメータがある場合</a></span></li></ul></li><li><span><a href=\"#P値の定義\" data-toc-modified-id=\"P値の定義-3\"><span class=\"toc-item-num\">3&nbsp;&nbsp;</span>P値の定義</a></span><ul class=\"toc-item\"><li><span><a href=\"#統計モデルの設定\" data-toc-modified-id=\"統計モデルの設定-3.1\"><span class=\"toc-item-num\">3.1&nbsp;&nbsp;</span>統計モデルの設定</a></span></li></ul></li><li><span><a href=\"#P値を使った検定\" data-toc-modified-id=\"P値を使った検定-4\"><span class=\"toc-item-num\">4&nbsp;&nbsp;</span>P値を使った検定</a></span></li><li><span><a href=\"#P値函数を使った信頼区間\" data-toc-modified-id=\"P値函数を使った信頼区間-5\"><span class=\"toc-item-num\">5&nbsp;&nbsp;</span>P値函数を使った信頼区間</a></span></li><li><span><a href=\"#信頼区間と検定の表裏一体性\" data-toc-modified-id=\"信頼区間と検定の表裏一体性-6\"><span class=\"toc-item-num\">6&nbsp;&nbsp;</span>信頼区間と検定の表裏一体性</a></span></li><li><span><a href=\"#P値函数が「よい」かどうかの判断基準達\" data-toc-modified-id=\"P値函数が「よい」かどうかの判断基準達-7\"><span class=\"toc-item-num\">7&nbsp;&nbsp;</span>P値函数が「よい」かどうかの判断基準達</a></span></li><li><span><a href=\"#Neyman-Pearsonの補題\" data-toc-modified-id=\"Neyman-Pearsonの補題-8\"><span class=\"toc-item-num\">8&nbsp;&nbsp;</span>Neyman-Pearsonの補題</a></span></li><li><span><a href=\"#よくある誤解\" data-toc-modified-id=\"よくある誤解-9\"><span class=\"toc-item-num\">9&nbsp;&nbsp;</span>よくある誤解</a></span></li></ul></div>"
   ]
  },
  {
   "cell_type": "code",
   "execution_count": 1,
   "id": "8582b231",
   "metadata": {},
   "outputs": [],
   "source": [
    "ENV[\"LINES\"], ENV[\"COLUMNS\"] = 100, 100\n",
    "using BenchmarkTools\n",
    "using Distributions\n",
    "using LinearAlgebra\n",
    "using Printf\n",
    "using QuadGK\n",
    "using Random\n",
    "Random.seed!(4649373)\n",
    "using Roots\n",
    "using SpecialFunctions\n",
    "using StaticArrays\n",
    "using StatsBase\n",
    "using StatsFuns\n",
    "using StatsPlots\n",
    "default(fmt = :png, titlefontsize = 10, size = (400, 250))\n",
    "using SymPy"
   ]
  },
  {
   "cell_type": "code",
   "execution_count": 2,
   "id": "b231e1c6",
   "metadata": {},
   "outputs": [],
   "source": [
    "# Override the Base.show definition of SymPy.jl:\n",
    "# https://github.com/JuliaPy/SymPy.jl/blob/29c5bfd1d10ac53014fa7fef468bc8deccadc2fc/src/types.jl#L87-L105\n",
    "\n",
    "@eval SymPy function Base.show(io::IO, ::MIME\"text/latex\", x::SymbolicObject)\n",
    "    print(io, as_markdown(\"\\\\displaystyle \" * sympy.latex(x, mode=\"plain\", fold_short_frac=false)))\n",
    "end\n",
    "@eval SymPy function Base.show(io::IO, ::MIME\"text/latex\", x::AbstractArray{Sym})\n",
    "    function toeqnarray(x::Vector{Sym})\n",
    "        a = join([\"\\\\displaystyle \" * sympy.latex(x[i]) for i in 1:length(x)], \"\\\\\\\\\")\n",
    "        \"\"\"\\\\left[ \\\\begin{array}{r}$a\\\\end{array} \\\\right]\"\"\"\n",
    "    end\n",
    "    function toeqnarray(x::AbstractArray{Sym,2})\n",
    "        sz = size(x)\n",
    "        a = join([join(\"\\\\displaystyle \" .* map(sympy.latex, x[i,:]), \"&\") for i in 1:sz[1]], \"\\\\\\\\\")\n",
    "        \"\\\\left[ \\\\begin{array}{\" * repeat(\"r\",sz[2]) * \"}\" * a * \"\\\\end{array}\\\\right]\"\n",
    "    end\n",
    "    print(io, as_markdown(toeqnarray(x)))\n",
    "end"
   ]
  },
  {
   "cell_type": "code",
   "execution_count": 3,
   "id": "c0ab4283",
   "metadata": {},
   "outputs": [
    {
     "data": {
      "text/plain": [
       "mykurtosis (generic function with 2 methods)"
      ]
     },
     "execution_count": 3,
     "metadata": {},
     "output_type": "execute_result"
    }
   ],
   "source": [
    "safemul(x, y) = x == 0 ? x : x*y\n",
    "safediv(x, y) = x == 0 ? x : x/y\n",
    "\n",
    "x ⪅ y = x < y || x ≈ y\n",
    "\n",
    "mypdf(dist, x) = pdf(dist, x)\n",
    "mypdf(dist::DiscreteUnivariateDistribution, x) = pdf(dist, round(Int, x))\n",
    "\n",
    "distname(dist::Distribution) = replace(string(dist), r\"{.*}\" => \"\")\n",
    "myskewness(dist) = skewness(dist)\n",
    "mykurtosis(dist) = kurtosis(dist)\n",
    "function standardized_moment(dist::ContinuousUnivariateDistribution, m)\n",
    "    μ, σ = mean(dist), std(dist)\n",
    "    quadgk(x -> (x - μ)^m * pdf(dist, x), extrema(dist)...)[1] / σ^m\n",
    "end\n",
    "myskewness(dist::MixtureModel{Univariate, Continuous}) = standardized_moment(dist, 3)\n",
    "mykurtosis(dist::MixtureModel{Univariate, Continuous}) = standardized_moment(dist, 4) - 3"
   ]
  },
  {
   "cell_type": "markdown",
   "id": "a687f315",
   "metadata": {},
   "source": [
    "## お勧め解説動画\n",
    "\n",
    "P値と検定と信頼区間については次のリンク先の動画での解説が素晴らしいので, 閲覧を推奨する:\n",
    "\n",
    "* 京都大学大学院医学研究科 聴講コース 臨床研究者のための生物統計学「仮説検定とP値の誤解」佐藤 俊哉 医学研究科教授 [https://youtu.be/vz9cZnB1d1c](https://youtu.be/vz9cZnB1d1c)\n",
    "\n",
    "信頼区間の解説は40分あたり以降にある.  多くの入門的な解説が抱えているP値, 検定, 信頼区間の解説の難点は以下の2つに要約される:\n",
    "\n",
    "* 複雑な現実と統計モデルを混同させるような解説が伝統的に普通になってしまっていること.\n",
    "* 検定と信頼区間の表裏一体性(双対性)が解説されていないこと.\n",
    "\n",
    "このことが原因がP値も $95\\%$ 信頼区間の $95\\%$ も数学的フィクションである統計モデル内での確率であることがクリアに説明されておらず, そのせいでP値と $95\\%$ 信頼区間の $95\\%$ についてまっとうな理解が得られ難くなっている.  上で紹介した動画は教科書の説明がまずいことについて明瞭に言及しながら, 伝統的な入門的解説が抱えている問題を解消しようとしている."
   ]
  },
  {
   "cell_type": "markdown",
   "id": "0a64e039",
   "metadata": {},
   "source": [
    "## まとめ"
   ]
  },
  {
   "cell_type": "markdown",
   "id": "6898928f",
   "metadata": {},
   "source": [
    "### P値\n",
    "\n",
    "__P値__ (P-value)は以下を与えることによって定義される:\n",
    "\n",
    "* 現実世界におけるデータの数値 $x$ の生成のされ方に関するパラメータ $\\theta$ を持つ統計モデル,\n",
    "* 「データの数値以上に極端な」の意味の定義,\n",
    "* さらに必要ならば近似計算法.\n",
    "\n",
    "データの数値 $x$ とパラメータの値 $\\theta=\\theta_0$ が与えらえたとき, P値は\n",
    "\n",
    "* データの数値 $x$ 以上に極端な値が条件 $\\theta=\\theta_0$ の下での統計モデル内で生じる確率もしくはその近似値\n",
    "\n",
    "と定義される. このとき, 条件 $\\theta=\\theta_0$ は __帰無仮説__ (null hypothesis)と呼ばれることがある. (「データの数値以上に極端な」の定義は __対立仮説__ (alternative hypothesis)の __集まり__ を与えることによって与えらえると考えられる.)\n",
    "\n",
    "このノートでは以上のように定義されたP値を\n",
    "\n",
    "* データの数値 $x$ に関する仮説 $\\theta=\\theta_0$ のP値\n",
    "\n",
    "と呼ぶことにする.\n",
    "\n",
    "P値は以下の2つの整合性の指標として使われる:\n",
    "\n",
    "* 現実世界から得たデータの数値 $x$,\n",
    "* 統計モデル＋パラメータの値 $\\theta=\\theta_0$.\n",
    "\n",
    "P値が小さいほど, 統計モデル＋パラメータの値 $\\theta$ は現実世界から得たデータの数値 $x$ と整合していないと考える."
   ]
  },
  {
   "cell_type": "markdown",
   "id": "3dd091d9",
   "metadata": {},
   "source": [
    "### 検定\n",
    "\n",
    "__有意水準__ と呼ばれる閾値(いきち, しきいち) $0<\\alpha<1$ が与えられたとき, P値が $\\alpha$ 未満ならば, \n",
    "\n",
    "* 統計モデル＋パラメータの値は現実世界から得たデータの数値と整合性がない\n",
    "\n",
    "とみなす. このとき\n",
    "\n",
    "* 統計モデル＋パラメータの値は現実世界から得たデータによって __棄却__ (reject)されたという.\n",
    "\n",
    "この手続きを __検定__ (test, testing, hypothesis testing)と呼ぶ.  (P値が有意水準 $\\alpha$ 以上になるとき, 「受容 (accept)された」ということがあるが, 混乱の原因になるので, このノートでは用いない.  このノートでは「棄却された」「棄却されなかった」の組み合わせを一貫して使うことにする.)\n",
    "\n",
    "棄却されなかった統計モデルとパラメータの値の組み合わせについては強い結論は何も出せない. 棄却されずにすんだ統計モデルとパラメータの値の組み合わせは単に閾値 $\\alpha$ の設定で捨てられずにすんだだけなので, 「棄却されなかった統計モデルとパラメータの値の組み合わせは正しいと考えてよい」と考えることは典型的な誤解になる.\n",
    "\n",
    "有意水準 $\\alpha$ として $5\\%$ が非常によく使われているが, それは単に慣習的にそうなっているだけのことで, $5\\%$ の有意水準を使うことに科学的な合理性はない. \n",
    "\n",
    "$5\\%$ の有意水準の下での結果に一喜一憂することは非科学的な考え方である.\n",
    "\n",
    "__検定の手続きは「科学的お墨付きを得るための手段」ではない!__\n",
    "\n",
    "同じことは次の節で説明する信頼区間についても言える."
   ]
  },
  {
   "cell_type": "markdown",
   "id": "feb0b63e",
   "metadata": {},
   "source": [
    "### 信頼区間\n",
    "\n",
    "__信頼区間__ (confidence interval)の文脈で $1 - \\alpha$ は __信頼度__ (信頼係数)と呼ばれる.\n",
    "\n",
    "統計モデルが実数パラメータ $\\theta$ を持つとき, データの数値 $x$ から決まる信頼度 $1-\\alpha$ の信頼区間は\n",
    "\n",
    "* データの数値 $x$ と有意水準 $\\alpha$ で棄却されない統計モデルのパラメータ値 $\\theta$ 全体の集合\n",
    "\n",
    "として定義される.  (この集合が区間にならない場合には信頼領域(confidence region)と呼んだりする.  その集合を含む最小の区間を考える場合もある.)\n",
    "\n",
    "信頼区間を使うことは, 検定の手続きを無数のパラメータ値 $\\theta$ 達に対して適用することと同じである.\n",
    "\n",
    "検定で棄却されなかった場合については強い結論は何も出せないので, 信頼区間は\n",
    "\n",
    "* 正しさについて判断を保留するべきパラメータ値全体の集合\n",
    "\n",
    "だとみなされる."
   ]
  },
  {
   "cell_type": "markdown",
   "id": "5b69e314",
   "metadata": {},
   "source": [
    "### nuisanceパラメータがある場合\n",
    "\n",
    "実際には統計モデルは興味があるパラメータ $\\theta$ 以外にパラメータ $\\eta$ を含んでいることがある. (例えば平均パラメータ $\\mu$ のみに興味があるときの正規分布 $\\op{Normal}(\\mu,\\sigma)$ における標準偏差パラメータ $\\sigma$.)\n",
    "\n",
    "その場合にはパラメータ $\\theta$ の値を決めても, 統計モデルの確率分布は唯一つに決まらず, パラメータ $\\eta$ の分だけ不定になる.\n",
    "\n",
    "P値の定義は「データの数値 $x$ 以上に極端な値が帰無仮説 $\\theta=\\theta_0$ の下での統計モデル内で生じる確率もしくはその近似値」であった.  帰無仮説 $\\theta=\\theta_0$ で統計モデルの確率分布が唯一つに決まらない場合にはこのP値の定義を単純に適用することが不可能になる.\n",
    "\n",
    "このような状況のときに, 余計なパラメータ $\\eta$ を __nuisanceパラメータ__ (ニューサンスパラメータ, 局外パラメータ,　撹乱パラメータ, 迷惑パラメータ)と呼ぶ(nuisanceは迷惑や妨害を意味する名詞). \n",
    "\n",
    "大抵の場合にnuisanceパラメータが存在しているという問題は, P値を使う統計分析の基礎付けが複雑になる主な原因の1つになっている.\n",
    "\n",
    "nuisanceパラメータへの対処法には例えば以下がある:\n",
    "\n",
    "* 条件付き確率分布に移ってnuisanceパラメータの自由度を消す.\n",
    "* 最尤法の漸近論を使ってnuisanceパラメータによらずに成立する近似を得る.\n",
    "* Bayes法を使う."
   ]
  },
  {
   "cell_type": "markdown",
   "id": "bec0efdc",
   "metadata": {},
   "source": [
    "## P値の定義"
   ]
  },
  {
   "cell_type": "markdown",
   "id": "a5f1224b",
   "metadata": {},
   "source": [
    "### 統計モデルの設定\n",
    "\n",
    "現実世界のデータの生じ方のモデル化として使用される統計モデルを考える.\n",
    "\n",
    "__例 (二項分布モデル):__\n",
    "\n",
    "* 現実世界のデータ: 当たりとはずれが出るルーレットを $n$ 回まわしたときの当たりの回数 $k$\n",
    "* 統計モデル: 二項分布モデル $\\op{Binomial}(n, p)$\n",
    "\n",
    "__例 (正規分布の標本分布モデル):__\n",
    "\n",
    "* 現実世界のデータ: S市の中学3年生男子全体から $n$ 人を無作為抽出して測った身長 $x_1,\\ldots,x_n$\n",
    "* 統計モデル: 正規分布のサイズ $n$ の標本分布モデル $\\op{Normal}(\\mu,\\sigma)^n$"
   ]
  },
  {
   "cell_type": "markdown",
   "id": "74ea2dbb",
   "metadata": {},
   "source": [
    "## P値を使った検定"
   ]
  },
  {
   "cell_type": "markdown",
   "id": "1d510468",
   "metadata": {},
   "source": [
    "## P値函数を使った信頼区間"
   ]
  },
  {
   "cell_type": "markdown",
   "id": "032cab80",
   "metadata": {},
   "source": [
    "## 信頼区間と検定の表裏一体性"
   ]
  },
  {
   "cell_type": "markdown",
   "id": "4266cbb0",
   "metadata": {},
   "source": [
    "## P値函数が「よい」かどうかの判断基準達"
   ]
  },
  {
   "cell_type": "markdown",
   "id": "92385fbf",
   "metadata": {},
   "source": [
    "## Neyman-Pearsonの補題"
   ]
  },
  {
   "cell_type": "markdown",
   "id": "b4b175d9",
   "metadata": {},
   "source": [
    "## よくある誤解"
   ]
  },
  {
   "cell_type": "markdown",
   "id": "be914f57",
   "metadata": {},
   "source": [
    "$\\sqrt{x}/\\sqrt{2}$"
   ]
  },
  {
   "cell_type": "code",
   "execution_count": null,
   "id": "9ff57c88",
   "metadata": {},
   "outputs": [],
   "source": []
  }
 ],
 "metadata": {
  "@webio": {
   "lastCommId": null,
   "lastKernelId": null
  },
  "jupytext": {
   "formats": "ipynb,md"
  },
  "kernelspec": {
   "display_name": "Julia 1.7.3",
   "language": "julia",
   "name": "julia-1.7"
  },
  "language_info": {
   "file_extension": ".jl",
   "mimetype": "application/julia",
   "name": "julia",
   "version": "1.7.3"
  },
  "toc": {
   "base_numbering": 1,
   "nav_menu": {},
   "number_sections": true,
   "sideBar": true,
   "skip_h1_title": true,
   "title_cell": "目次",
   "title_sidebar": "目次",
   "toc_cell": true,
   "toc_position": {},
   "toc_section_display": true,
   "toc_window_display": false
  }
 },
 "nbformat": 4,
 "nbformat_minor": 5
}
