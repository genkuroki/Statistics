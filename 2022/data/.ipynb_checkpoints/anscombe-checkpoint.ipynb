{
 "cells": [
  {
   "cell_type": "code",
   "execution_count": 3,
   "id": "bb6df6e1-70c2-407f-84e9-df9581309dba",
   "metadata": {},
   "outputs": [],
   "source": [
    "using RDatasets\n",
    "using CSV"
   ]
  },
  {
   "cell_type": "code",
   "execution_count": 2,
   "id": "2e0a6fad-b5d0-4247-ba32-fee494067020",
   "metadata": {},
   "outputs": [
    {
     "data": {
      "text/html": [
       "<div class=\"data-frame\"><p>11 rows × 8 columns</p><table class=\"data-frame\"><thead><tr><th></th><th>X1</th><th>X2</th><th>X3</th><th>X4</th><th>Y1</th><th>Y2</th><th>Y3</th><th>Y4</th></tr><tr><th></th><th title=\"Int64\">Int64</th><th title=\"Int64\">Int64</th><th title=\"Int64\">Int64</th><th title=\"Int64\">Int64</th><th title=\"Float64\">Float64</th><th title=\"Float64\">Float64</th><th title=\"Float64\">Float64</th><th title=\"Float64\">Float64</th></tr></thead><tbody><tr><th>1</th><td>10</td><td>10</td><td>10</td><td>8</td><td>8.04</td><td>9.14</td><td>7.46</td><td>6.58</td></tr><tr><th>2</th><td>8</td><td>8</td><td>8</td><td>8</td><td>6.95</td><td>8.14</td><td>6.77</td><td>5.76</td></tr><tr><th>3</th><td>13</td><td>13</td><td>13</td><td>8</td><td>7.58</td><td>8.74</td><td>12.74</td><td>7.71</td></tr><tr><th>4</th><td>9</td><td>9</td><td>9</td><td>8</td><td>8.81</td><td>8.77</td><td>7.11</td><td>8.84</td></tr><tr><th>5</th><td>11</td><td>11</td><td>11</td><td>8</td><td>8.33</td><td>9.26</td><td>7.81</td><td>8.47</td></tr><tr><th>6</th><td>14</td><td>14</td><td>14</td><td>8</td><td>9.96</td><td>8.1</td><td>8.84</td><td>7.04</td></tr><tr><th>7</th><td>6</td><td>6</td><td>6</td><td>8</td><td>7.24</td><td>6.13</td><td>6.08</td><td>5.25</td></tr><tr><th>8</th><td>4</td><td>4</td><td>4</td><td>19</td><td>4.26</td><td>3.1</td><td>5.39</td><td>12.5</td></tr><tr><th>9</th><td>12</td><td>12</td><td>12</td><td>8</td><td>10.84</td><td>9.13</td><td>8.15</td><td>5.56</td></tr><tr><th>10</th><td>7</td><td>7</td><td>7</td><td>8</td><td>4.82</td><td>7.26</td><td>6.42</td><td>7.91</td></tr><tr><th>11</th><td>5</td><td>5</td><td>5</td><td>8</td><td>5.68</td><td>4.74</td><td>5.73</td><td>6.89</td></tr></tbody></table></div>"
      ],
      "text/latex": [
       "\\begin{tabular}{r|cccccccc}\n",
       "\t& X1 & X2 & X3 & X4 & Y1 & Y2 & Y3 & Y4\\\\\n",
       "\t\\hline\n",
       "\t& Int64 & Int64 & Int64 & Int64 & Float64 & Float64 & Float64 & Float64\\\\\n",
       "\t\\hline\n",
       "\t1 & 10 & 10 & 10 & 8 & 8.04 & 9.14 & 7.46 & 6.58 \\\\\n",
       "\t2 & 8 & 8 & 8 & 8 & 6.95 & 8.14 & 6.77 & 5.76 \\\\\n",
       "\t3 & 13 & 13 & 13 & 8 & 7.58 & 8.74 & 12.74 & 7.71 \\\\\n",
       "\t4 & 9 & 9 & 9 & 8 & 8.81 & 8.77 & 7.11 & 8.84 \\\\\n",
       "\t5 & 11 & 11 & 11 & 8 & 8.33 & 9.26 & 7.81 & 8.47 \\\\\n",
       "\t6 & 14 & 14 & 14 & 8 & 9.96 & 8.1 & 8.84 & 7.04 \\\\\n",
       "\t7 & 6 & 6 & 6 & 8 & 7.24 & 6.13 & 6.08 & 5.25 \\\\\n",
       "\t8 & 4 & 4 & 4 & 19 & 4.26 & 3.1 & 5.39 & 12.5 \\\\\n",
       "\t9 & 12 & 12 & 12 & 8 & 10.84 & 9.13 & 8.15 & 5.56 \\\\\n",
       "\t10 & 7 & 7 & 7 & 8 & 4.82 & 7.26 & 6.42 & 7.91 \\\\\n",
       "\t11 & 5 & 5 & 5 & 8 & 5.68 & 4.74 & 5.73 & 6.89 \\\\\n",
       "\\end{tabular}\n"
      ],
      "text/plain": [
       "\u001b[1m11×8 DataFrame\u001b[0m\n",
       "\u001b[1m Row \u001b[0m│\u001b[1m X1    \u001b[0m\u001b[1m X2    \u001b[0m\u001b[1m X3    \u001b[0m\u001b[1m X4    \u001b[0m\u001b[1m Y1      \u001b[0m\u001b[1m Y2      \u001b[0m\u001b[1m Y3      \u001b[0m\u001b[1m Y4      \u001b[0m\n",
       "\u001b[1m     \u001b[0m│\u001b[90m Int64 \u001b[0m\u001b[90m Int64 \u001b[0m\u001b[90m Int64 \u001b[0m\u001b[90m Int64 \u001b[0m\u001b[90m Float64 \u001b[0m\u001b[90m Float64 \u001b[0m\u001b[90m Float64 \u001b[0m\u001b[90m Float64 \u001b[0m\n",
       "─────┼────────────────────────────────────────────────────────────────\n",
       "   1 │    10     10     10      8     8.04     9.14     7.46     6.58\n",
       "   2 │     8      8      8      8     6.95     8.14     6.77     5.76\n",
       "   3 │    13     13     13      8     7.58     8.74    12.74     7.71\n",
       "   4 │     9      9      9      8     8.81     8.77     7.11     8.84\n",
       "   5 │    11     11     11      8     8.33     9.26     7.81     8.47\n",
       "   6 │    14     14     14      8     9.96     8.1      8.84     7.04\n",
       "   7 │     6      6      6      8     7.24     6.13     6.08     5.25\n",
       "   8 │     4      4      4     19     4.26     3.1      5.39    12.5\n",
       "   9 │    12     12     12      8    10.84     9.13     8.15     5.56\n",
       "  10 │     7      7      7      8     4.82     7.26     6.42     7.91\n",
       "  11 │     5      5      5      8     5.68     4.74     5.73     6.89"
      ]
     },
     "execution_count": 2,
     "metadata": {},
     "output_type": "execute_result"
    }
   ],
   "source": [
    "anscombe = dataset(\"datasets\", \"anscombe\")"
   ]
  },
  {
   "cell_type": "code",
   "execution_count": 13,
   "id": "f8814ab5-3111-4120-a628-5def66ef2639",
   "metadata": {},
   "outputs": [
    {
     "data": {
      "text/plain": [
       "\"data/anscombe.csv\""
      ]
     },
     "execution_count": 13,
     "metadata": {},
     "output_type": "execute_result"
    }
   ],
   "source": [
    "CSV.write(\"data/anscombe.csv\", anscombe)"
   ]
  },
  {
   "cell_type": "code",
   "execution_count": 17,
   "id": "d840c531-79b8-45c7-b9a9-d0ad2fb57119",
   "metadata": {},
   "outputs": [
    {
     "data": {
      "text/html": [
       "<div class=\"data-frame\"><p>11 rows × 9 columns</p><table class=\"data-frame\"><thead><tr><th></th><th>X1</th><th>X2</th><th>X3</th><th>X4</th><th>Y1</th><th>Y2</th><th>Y3</th><th>Y4</th><th>number</th></tr><tr><th></th><th title=\"Int64\">Int64</th><th title=\"Int64\">Int64</th><th title=\"Int64\">Int64</th><th title=\"Int64\">Int64</th><th title=\"Float64\">Float64</th><th title=\"Float64\">Float64</th><th title=\"Float64\">Float64</th><th title=\"Float64\">Float64</th><th title=\"String\">String</th></tr></thead><tbody><tr><th>1</th><td>10</td><td>10</td><td>10</td><td>8</td><td>8.04</td><td>9.14</td><td>7.46</td><td>6.58</td><td>1</td></tr><tr><th>2</th><td>8</td><td>8</td><td>8</td><td>8</td><td>6.95</td><td>8.14</td><td>6.77</td><td>5.76</td><td>2</td></tr><tr><th>3</th><td>13</td><td>13</td><td>13</td><td>8</td><td>7.58</td><td>8.74</td><td>12.74</td><td>7.71</td><td>3</td></tr><tr><th>4</th><td>9</td><td>9</td><td>9</td><td>8</td><td>8.81</td><td>8.77</td><td>7.11</td><td>8.84</td><td>4</td></tr><tr><th>5</th><td>11</td><td>11</td><td>11</td><td>8</td><td>8.33</td><td>9.26</td><td>7.81</td><td>8.47</td><td>5</td></tr><tr><th>6</th><td>14</td><td>14</td><td>14</td><td>8</td><td>9.96</td><td>8.1</td><td>8.84</td><td>7.04</td><td>6</td></tr><tr><th>7</th><td>6</td><td>6</td><td>6</td><td>8</td><td>7.24</td><td>6.13</td><td>6.08</td><td>5.25</td><td>7</td></tr><tr><th>8</th><td>4</td><td>4</td><td>4</td><td>19</td><td>4.26</td><td>3.1</td><td>5.39</td><td>12.5</td><td>8</td></tr><tr><th>9</th><td>12</td><td>12</td><td>12</td><td>8</td><td>10.84</td><td>9.13</td><td>8.15</td><td>5.56</td><td>9</td></tr><tr><th>10</th><td>7</td><td>7</td><td>7</td><td>8</td><td>4.82</td><td>7.26</td><td>6.42</td><td>7.91</td><td>10</td></tr><tr><th>11</th><td>5</td><td>5</td><td>5</td><td>8</td><td>5.68</td><td>4.74</td><td>5.73</td><td>6.89</td><td>11</td></tr></tbody></table></div>"
      ],
      "text/latex": [
       "\\begin{tabular}{r|ccccccccc}\n",
       "\t& X1 & X2 & X3 & X4 & Y1 & Y2 & Y3 & Y4 & number\\\\\n",
       "\t\\hline\n",
       "\t& Int64 & Int64 & Int64 & Int64 & Float64 & Float64 & Float64 & Float64 & String\\\\\n",
       "\t\\hline\n",
       "\t1 & 10 & 10 & 10 & 8 & 8.04 & 9.14 & 7.46 & 6.58 & 1 \\\\\n",
       "\t2 & 8 & 8 & 8 & 8 & 6.95 & 8.14 & 6.77 & 5.76 & 2 \\\\\n",
       "\t3 & 13 & 13 & 13 & 8 & 7.58 & 8.74 & 12.74 & 7.71 & 3 \\\\\n",
       "\t4 & 9 & 9 & 9 & 8 & 8.81 & 8.77 & 7.11 & 8.84 & 4 \\\\\n",
       "\t5 & 11 & 11 & 11 & 8 & 8.33 & 9.26 & 7.81 & 8.47 & 5 \\\\\n",
       "\t6 & 14 & 14 & 14 & 8 & 9.96 & 8.1 & 8.84 & 7.04 & 6 \\\\\n",
       "\t7 & 6 & 6 & 6 & 8 & 7.24 & 6.13 & 6.08 & 5.25 & 7 \\\\\n",
       "\t8 & 4 & 4 & 4 & 19 & 4.26 & 3.1 & 5.39 & 12.5 & 8 \\\\\n",
       "\t9 & 12 & 12 & 12 & 8 & 10.84 & 9.13 & 8.15 & 5.56 & 9 \\\\\n",
       "\t10 & 7 & 7 & 7 & 8 & 4.82 & 7.26 & 6.42 & 7.91 & 10 \\\\\n",
       "\t11 & 5 & 5 & 5 & 8 & 5.68 & 4.74 & 5.73 & 6.89 & 11 \\\\\n",
       "\\end{tabular}\n"
      ],
      "text/plain": [
       "\u001b[1m11×9 DataFrame\u001b[0m\n",
       "\u001b[1m Row \u001b[0m│\u001b[1m X1    \u001b[0m\u001b[1m X2    \u001b[0m\u001b[1m X3    \u001b[0m\u001b[1m X4    \u001b[0m\u001b[1m Y1      \u001b[0m\u001b[1m Y2      \u001b[0m\u001b[1m Y3      \u001b[0m\u001b[1m Y4      \u001b[0m\u001b[1m number \u001b[0m\n",
       "\u001b[1m     \u001b[0m│\u001b[90m Int64 \u001b[0m\u001b[90m Int64 \u001b[0m\u001b[90m Int64 \u001b[0m\u001b[90m Int64 \u001b[0m\u001b[90m Float64 \u001b[0m\u001b[90m Float64 \u001b[0m\u001b[90m Float64 \u001b[0m\u001b[90m Float64 \u001b[0m\u001b[90m String \u001b[0m\n",
       "─────┼────────────────────────────────────────────────────────────────────────\n",
       "   1 │    10     10     10      8     8.04     9.14     7.46     6.58  1\n",
       "   2 │     8      8      8      8     6.95     8.14     6.77     5.76  2\n",
       "   3 │    13     13     13      8     7.58     8.74    12.74     7.71  3\n",
       "   4 │     9      9      9      8     8.81     8.77     7.11     8.84  4\n",
       "   5 │    11     11     11      8     8.33     9.26     7.81     8.47  5\n",
       "   6 │    14     14     14      8     9.96     8.1      8.84     7.04  6\n",
       "   7 │     6      6      6      8     7.24     6.13     6.08     5.25  7\n",
       "   8 │     4      4      4     19     4.26     3.1      5.39    12.5   8\n",
       "   9 │    12     12     12      8    10.84     9.13     8.15     5.56  9\n",
       "  10 │     7      7      7      8     4.82     7.26     6.42     7.91  10\n",
       "  11 │     5      5      5      8     5.68     4.74     5.73     6.89  11"
      ]
     },
     "execution_count": 17,
     "metadata": {},
     "output_type": "execute_result"
    }
   ],
   "source": [
    "dftmp = anscombe\n",
    "dftmp.number = string.(1:11)\n",
    "dftmp"
   ]
  },
  {
   "cell_type": "code",
   "execution_count": 21,
   "id": "4c8539a6-3541-4998-84b8-899e45cb0da2",
   "metadata": {},
   "outputs": [
    {
     "data": {
      "text/html": [
       "<div class=\"data-frame\"><p>8 rows × 12 columns (omitted printing of 3 columns)</p><table class=\"data-frame\"><thead><tr><th></th><th>name</th><th>1</th><th>2</th><th>3</th><th>4</th><th>5</th><th>6</th><th>7</th><th>8</th></tr><tr><th></th><th title=\"String\">String</th><th title=\"Float64\">Float64</th><th title=\"Float64\">Float64</th><th title=\"Float64\">Float64</th><th title=\"Float64\">Float64</th><th title=\"Float64\">Float64</th><th title=\"Float64\">Float64</th><th title=\"Float64\">Float64</th><th title=\"Float64\">Float64</th></tr></thead><tbody><tr><th>1</th><td>X1</td><td>10.0</td><td>8.0</td><td>13.0</td><td>9.0</td><td>11.0</td><td>14.0</td><td>6.0</td><td>4.0</td></tr><tr><th>2</th><td>X2</td><td>10.0</td><td>8.0</td><td>13.0</td><td>9.0</td><td>11.0</td><td>14.0</td><td>6.0</td><td>4.0</td></tr><tr><th>3</th><td>X3</td><td>10.0</td><td>8.0</td><td>13.0</td><td>9.0</td><td>11.0</td><td>14.0</td><td>6.0</td><td>4.0</td></tr><tr><th>4</th><td>X4</td><td>8.0</td><td>8.0</td><td>8.0</td><td>8.0</td><td>8.0</td><td>8.0</td><td>8.0</td><td>19.0</td></tr><tr><th>5</th><td>Y1</td><td>8.04</td><td>6.95</td><td>7.58</td><td>8.81</td><td>8.33</td><td>9.96</td><td>7.24</td><td>4.26</td></tr><tr><th>6</th><td>Y2</td><td>9.14</td><td>8.14</td><td>8.74</td><td>8.77</td><td>9.26</td><td>8.1</td><td>6.13</td><td>3.1</td></tr><tr><th>7</th><td>Y3</td><td>7.46</td><td>6.77</td><td>12.74</td><td>7.11</td><td>7.81</td><td>8.84</td><td>6.08</td><td>5.39</td></tr><tr><th>8</th><td>Y4</td><td>6.58</td><td>5.76</td><td>7.71</td><td>8.84</td><td>8.47</td><td>7.04</td><td>5.25</td><td>12.5</td></tr></tbody></table></div>"
      ],
      "text/latex": [
       "\\begin{tabular}{r|cccccccccc}\n",
       "\t& name & 1 & 2 & 3 & 4 & 5 & 6 & 7 & 8 & \\\\\n",
       "\t\\hline\n",
       "\t& String & Float64 & Float64 & Float64 & Float64 & Float64 & Float64 & Float64 & Float64 & \\\\\n",
       "\t\\hline\n",
       "\t1 & X1 & 10.0 & 8.0 & 13.0 & 9.0 & 11.0 & 14.0 & 6.0 & 4.0 & $\\dots$ \\\\\n",
       "\t2 & X2 & 10.0 & 8.0 & 13.0 & 9.0 & 11.0 & 14.0 & 6.0 & 4.0 & $\\dots$ \\\\\n",
       "\t3 & X3 & 10.0 & 8.0 & 13.0 & 9.0 & 11.0 & 14.0 & 6.0 & 4.0 & $\\dots$ \\\\\n",
       "\t4 & X4 & 8.0 & 8.0 & 8.0 & 8.0 & 8.0 & 8.0 & 8.0 & 19.0 & $\\dots$ \\\\\n",
       "\t5 & Y1 & 8.04 & 6.95 & 7.58 & 8.81 & 8.33 & 9.96 & 7.24 & 4.26 & $\\dots$ \\\\\n",
       "\t6 & Y2 & 9.14 & 8.14 & 8.74 & 8.77 & 9.26 & 8.1 & 6.13 & 3.1 & $\\dots$ \\\\\n",
       "\t7 & Y3 & 7.46 & 6.77 & 12.74 & 7.11 & 7.81 & 8.84 & 6.08 & 5.39 & $\\dots$ \\\\\n",
       "\t8 & Y4 & 6.58 & 5.76 & 7.71 & 8.84 & 8.47 & 7.04 & 5.25 & 12.5 & $\\dots$ \\\\\n",
       "\\end{tabular}\n"
      ],
      "text/plain": [
       "\u001b[1m8×12 DataFrame\u001b[0m\n",
       "\u001b[1m Row \u001b[0m│\u001b[1m name   \u001b[0m\u001b[1m 1       \u001b[0m\u001b[1m 2       \u001b[0m\u001b[1m 3       \u001b[0m\u001b[1m 4       \u001b[0m\u001b[1m 5       \u001b[0m\u001b[1m 6       \u001b[0m\u001b[1m 7       \u001b[0m\u001b[1m \u001b[0m ⋯\n",
       "\u001b[1m     \u001b[0m│\u001b[90m String \u001b[0m\u001b[90m Float64 \u001b[0m\u001b[90m Float64 \u001b[0m\u001b[90m Float64 \u001b[0m\u001b[90m Float64 \u001b[0m\u001b[90m Float64 \u001b[0m\u001b[90m Float64 \u001b[0m\u001b[90m Float64 \u001b[0m\u001b[90m \u001b[0m ⋯\n",
       "─────┼──────────────────────────────────────────────────────────────────────────\n",
       "   1 │ X1        10.0      8.0     13.0      9.0     11.0     14.0      6.0    ⋯\n",
       "   2 │ X2        10.0      8.0     13.0      9.0     11.0     14.0      6.0\n",
       "   3 │ X3        10.0      8.0     13.0      9.0     11.0     14.0      6.0\n",
       "   4 │ X4         8.0      8.0      8.0      8.0      8.0      8.0      8.0\n",
       "   5 │ Y1         8.04     6.95     7.58     8.81     8.33     9.96     7.24   ⋯\n",
       "   6 │ Y2         9.14     8.14     8.74     8.77     9.26     8.1      6.13\n",
       "   7 │ Y3         7.46     6.77    12.74     7.11     7.81     8.84     6.08\n",
       "   8 │ Y4         6.58     5.76     7.71     8.84     8.47     7.04     5.25\n",
       "\u001b[36m                                                               4 columns omitted\u001b[0m"
      ]
     },
     "execution_count": 21,
     "metadata": {},
     "output_type": "execute_result"
    }
   ],
   "source": [
    "df = permutedims(dftmp, \"number\", \"name\")"
   ]
  },
  {
   "cell_type": "code",
   "execution_count": 20,
   "id": "1783e05d-c5ed-4444-bf22-4571ee78313e",
   "metadata": {},
   "outputs": [
    {
     "data": {
      "text/plain": [
       "\"data/anscombe_transposed.csv\""
      ]
     },
     "execution_count": 20,
     "metadata": {},
     "output_type": "execute_result"
    }
   ],
   "source": [
    "CSV.write(\"data/anscombe_transposed.csv\", df)"
   ]
  },
  {
   "cell_type": "code",
   "execution_count": null,
   "id": "73709e55-3cbb-4c8c-82c6-fbe43d54c023",
   "metadata": {},
   "outputs": [],
   "source": []
  }
 ],
 "metadata": {
  "kernelspec": {
   "display_name": "Julia 1.7.2",
   "language": "julia",
   "name": "julia-1.7"
  },
  "language_info": {
   "file_extension": ".jl",
   "mimetype": "application/julia",
   "name": "julia",
   "version": "1.7.2"
  }
 },
 "nbformat": 4,
 "nbformat_minor": 5
}
