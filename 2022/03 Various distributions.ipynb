{
 "cells": [
  {
   "cell_type": "markdown",
   "id": "a75fe2ad",
   "metadata": {},
   "source": [
    "# 色々な確率分布\n",
    "\n",
    "* 黒木玄\n",
    "* 2022-04-11～2022-04-12\n",
    "$\n",
    "\\newcommand\\op{\\operatorname}\n",
    "\\newcommand\\R{{\\mathbb R}}\n",
    "\\newcommand\\Z{{\\mathbb Z}}\n",
    "\\newcommand\\var{\\op{var}}\n",
    "\\newcommand\\std{\\op{std}}\n",
    "\\newcommand\\eps{\\varepsilon}\n",
    "$\n",
    "\n",
    "このノートでは[Julia言語](https://julialang.org/)を使用している: \n",
    "\n",
    "* [Julia言語のインストールの仕方の一例](https://nbviewer.org/github/genkuroki/msfd28/blob/master/install.ipynb)\n",
    "\n",
    "自明な誤りを見つけたら, 自分で訂正して読んで欲しい.  大文字と小文字の混同や書き直しが不完全な場合や符号のミスは非常によくある.\n",
    "\n",
    "このノートの内容よりもさらに詳しいノートを自分で作ると勉強になるだろう.  膨大な時間を取られることになるが, このノートの内容に関係することで飯を食っていく可能性がある人にはそのためにかけた時間は無駄にならないと思われる."
   ]
  },
  {
   "cell_type": "markdown",
   "id": "016ce9e6",
   "metadata": {
    "toc": true
   },
   "source": [
    "<h1>目次<span class=\"tocSkip\"></span></h1>\n",
    "<div class=\"toc\"><ul class=\"toc-item\"><li><span><a href=\"#正規分布\" data-toc-modified-id=\"正規分布-1\"><span class=\"toc-item-num\">1&nbsp;&nbsp;</span>正規分布</a></span><ul class=\"toc-item\"><li><span><a href=\"#正規分布のロケーションスケール変換も正規分布\" data-toc-modified-id=\"正規分布のロケーションスケール変換も正規分布-1.1\"><span class=\"toc-item-num\">1.1&nbsp;&nbsp;</span>正規分布のロケーションスケール変換も正規分布</a></span></li><li><span><a href=\"#問題:-正規分布の平均と分散\" data-toc-modified-id=\"問題:-正規分布の平均と分散-1.2\"><span class=\"toc-item-num\">1.2&nbsp;&nbsp;</span>問題: 正規分布の平均と分散</a></span></li><li><span><a href=\"#問題:-正規分布に従う独立な確率変数達の和も正規分布に従う\" data-toc-modified-id=\"問題:-正規分布に従う独立な確率変数達の和も正規分布に従う-1.3\"><span class=\"toc-item-num\">1.3&nbsp;&nbsp;</span>問題: 正規分布に従う独立な確率変数達の和も正規分布に従う</a></span></li><li><span><a href=\"#問題:-正規分布における確率がほぼ95%または99%になる区間\" data-toc-modified-id=\"問題:-正規分布における確率がほぼ95%または99%になる区間-1.4\"><span class=\"toc-item-num\">1.4&nbsp;&nbsp;</span>問題: 正規分布における確率がほぼ95%または99%になる区間</a></span></li><li><span><a href=\"#問題:-正規分布のモーメント母函数とキュムラント母函数\" data-toc-modified-id=\"問題:-正規分布のモーメント母函数とキュムラント母函数-1.5\"><span class=\"toc-item-num\">1.5&nbsp;&nbsp;</span>問題: 正規分布のモーメント母函数とキュムラント母函数</a></span></li><li><span><a href=\"#問題:-キュムラント母函数と期待値と分散\" data-toc-modified-id=\"問題:-キュムラント母函数と期待値と分散-1.6\"><span class=\"toc-item-num\">1.6&nbsp;&nbsp;</span>問題: キュムラント母函数と期待値と分散</a></span></li><li><span><a href=\"#問題:-対数正規分布の確率密度函数\" data-toc-modified-id=\"問題:-対数正規分布の確率密度函数-1.7\"><span class=\"toc-item-num\">1.7&nbsp;&nbsp;</span>問題: 対数正規分布の確率密度函数</a></span></li><li><span><a href=\"#問題:-対数正規分布の期待値と分散\" data-toc-modified-id=\"問題:-対数正規分布の期待値と分散-1.8\"><span class=\"toc-item-num\">1.8&nbsp;&nbsp;</span>問題: 対数正規分布の期待値と分散</a></span></li></ul></li><li><span><a href=\"#Poisson分布\" data-toc-modified-id=\"Poisson分布-2\"><span class=\"toc-item-num\">2&nbsp;&nbsp;</span>Poisson分布</a></span><ul class=\"toc-item\"><li><span><a href=\"#Poisson分布の定義\" data-toc-modified-id=\"Poisson分布の定義-2.1\"><span class=\"toc-item-num\">2.1&nbsp;&nbsp;</span>Poisson分布の定義</a></span></li><li><span><a href=\"#問題:-Poisson分布のキュムラント母函数と期待値と分散\" data-toc-modified-id=\"問題:-Poisson分布のキュムラント母函数と期待値と分散-2.2\"><span class=\"toc-item-num\">2.2&nbsp;&nbsp;</span>問題: Poisson分布のキュムラント母函数と期待値と分散</a></span></li><li><span><a href=\"#二項分布の連続時間極限\" data-toc-modified-id=\"二項分布の連続時間極限-2.3\"><span class=\"toc-item-num\">2.3&nbsp;&nbsp;</span>二項分布の連続時間極限</a></span></li></ul></li><li><span><a href=\"#ガンマ分布\" data-toc-modified-id=\"ガンマ分布-3\"><span class=\"toc-item-num\">3&nbsp;&nbsp;</span>ガンマ分布</a></span><ul class=\"toc-item\"><li><span><a href=\"#負の二項分布の連続時間極限\" data-toc-modified-id=\"負の二項分布の連続時間極限-3.1\"><span class=\"toc-item-num\">3.1&nbsp;&nbsp;</span>負の二項分布の連続時間極限</a></span></li><li><span><a href=\"#χ²分布\" data-toc-modified-id=\"χ²分布-3.2\"><span class=\"toc-item-num\">3.2&nbsp;&nbsp;</span>χ²分布</a></span></li></ul></li><li><span><a href=\"#ベータ分布\" data-toc-modified-id=\"ベータ分布-4\"><span class=\"toc-item-num\">4&nbsp;&nbsp;</span>ベータ分布</a></span><ul class=\"toc-item\"><li><span><a href=\"#一様分布の順序統計量\" data-toc-modified-id=\"一様分布の順序統計量-4.1\"><span class=\"toc-item-num\">4.1&nbsp;&nbsp;</span>一様分布の順序統計量</a></span></li><li><span><a href=\"#t分布\" data-toc-modified-id=\"t分布-4.2\"><span class=\"toc-item-num\">4.2&nbsp;&nbsp;</span>t分布</a></span></li><li><span><a href=\"#F分布\" data-toc-modified-id=\"F分布-4.3\"><span class=\"toc-item-num\">4.3&nbsp;&nbsp;</span>F分布</a></span></li><li><span><a href=\"#二項分布とベータ分布の累積分布函数の関係\" data-toc-modified-id=\"二項分布とベータ分布の累積分布函数の関係-4.4\"><span class=\"toc-item-num\">4.4&nbsp;&nbsp;</span>二項分布とベータ分布の累積分布函数の関係</a></span></li></ul></li></ul></div>"
   ]
  },
  {
   "cell_type": "code",
   "execution_count": 1,
   "id": "b29e1b45",
   "metadata": {},
   "outputs": [],
   "source": [
    "ENV[\"LINES\"], ENV[\"COLUMNS\"] = 100, 100\n",
    "using BenchmarkTools\n",
    "using Distributions\n",
    "using Printf\n",
    "using QuadGK\n",
    "using Random\n",
    "Random.seed!(4649373)\n",
    "using Roots\n",
    "using SpecialFunctions\n",
    "using StatsBase\n",
    "using StatsFuns\n",
    "using StatsPlots\n",
    "default(fmt = :png, titlefontsize = 10, size = (400, 250))\n",
    "using SymPy"
   ]
  },
  {
   "cell_type": "markdown",
   "id": "edad3d3b",
   "metadata": {},
   "source": [
    "## 正規分布\n",
    "\n",
    "$\\mu, \\sigma\\in\\R$, $\\sigma > 0$ と仮定する.  確率密度函数\n",
    "\n",
    "$$\n",
    "p(x|\\mu,\\sigma) = \\frac{1}{\\sqrt{2\\pi\\sigma^2}}\\exp\\left(-\\frac{(x-\\mu)^2}{2\\sigma^2}\\right)\n",
    "$$\n",
    "\n",
    "で定義される連続分布を平均 $\\mu$, 分散 $\\sigma^2$ (標準偏差 $\\sigma$)の __正規分布__ (normal distribution)と呼び, $\\op{Normal}(\\mu,\\sigma)$ と書くのであった.\n",
    "\n",
    "さらに, 平均 $0$, 分散 $1^2$ の正規分布を __標準正規分布__ (standard normal distribution)と呼び, $\\op{Normal}()$ と書くのであった. 標準正規分布の密度函数は次の形になる:\n",
    "\n",
    "$$\n",
    "p(z) = \\frac{e^{-z^2/2}}{\\sqrt{2\\pi}}.\n",
    "$$"
   ]
  },
  {
   "cell_type": "markdown",
   "id": "0321460a",
   "metadata": {},
   "source": [
    "### 正規分布のロケーションスケール変換も正規分布\n",
    "\n",
    "$a,b\\in\\R$, $a\\ne 0$ と仮定する. 一般に確率変数 $X$ について,\n",
    "\n",
    "$$\n",
    "E[aX+b] = aE[X]+b, \\quad \\var(aX+b) = a^2\\var(X)\n",
    "$$\n",
    "\n",
    "が成立するのであった.  $X$ が正規分布に従う確率変数の場合には $aX+b$ も正規分布に従うことを示せる. 実際, $X\\sim\\op{Normal}(\\mu,\\sigma)$ のとき, $y = ax + b$ すなわち $x = (y - b)/a$ とおくと,\n",
    "\n",
    "$$\n",
    "\\begin{aligned}\n",
    "E[f(aX+b)] &=\n",
    "\\frac{1}{\\sqrt{2\\pi\\sigma^2}}\n",
    "\\int_{-\\infty}^\\infty f(ax+b) \\exp\\left(-\\frac{(x-\\mu)^2}{2\\sigma^2}\\right)\\,dx\n",
    "\\\\ &=\n",
    "\\frac{1}{\\sqrt{2\\pi\\sigma^2}}\n",
    "\\int_{-\\infty}^\\infty f(y) \\exp\\left(-\\frac{((y-b)/a-\\mu)^2}{2\\sigma^2}\\right)\\,\\frac{dy}{|a|}\n",
    "\\\\ &=\n",
    "\\frac{1}{\\sqrt{2\\pi(a^2\\sigma)^2}}\n",
    "\\int_{-\\infty}^\\infty f(y) \\exp\\left(-\\frac{(y-(a\\mu+b))^2}{2a^2\\sigma^2}\\right)\\,dy\n",
    "\\end{aligned}\n",
    "$$\n",
    "\n",
    "なので, $aX+b$ は平均 $a\\mu+b$, 分散 $a^2\\sigma^2$ の正規分布に従う: $aX+b\\sim\\op{Normal}(a\\mu + b, |a|\\sigma)$."
   ]
  },
  {
   "cell_type": "markdown",
   "id": "3c93842c",
   "metadata": {},
   "source": [
    "### 問題: 正規分布の平均と分散\n",
    "\n",
    "分布 $\\op{Normal}(\\mu, \\sigma)$ の平均と分散がそれぞれ $\\mu$, $\\sigma^2$ になることを示せ.\n",
    "\n",
    "__解答例1:__ すでに標準正規分布 $\\op{Normal}(0,1)$ の平均と分散がそれぞれ $0$ と $1^2$ になることは示してある. $X \\sim \\op{Normal}(\\mu, \\sigma)$ のとき, $Z = (X - \\mu)/\\sigma$ とおくと $Z\\sim\\op{Normal}((\\mu-\\mu)/\\sigma, \\sigma/\\sigma) = \\op{Normal}(0, 1)$ となるので, $X = \\sigma Z + \\mu$ の平均と分散はそれぞれ $\\sigma\\cdot0+\\mu=\\mu$, $\\sigma^2\\cdot 1^2 = \\sigma^2$ になる.\n",
    "\n",
    "__解答終__\n",
    "\n",
    "__解答例2:__ 直接的に計算してみよう. $X \\sim \\op{Normal}(\\mu, \\sigma)$ のとき, 積分変数を $x = \\sigma z + \\mu$ と変換すると,\n",
    "\n",
    "$$\n",
    "E[X] =\n",
    "\\frac{1}{\\sqrt{2\\pi\\sigma^2}}\\int_{-\\infty}^\\infty x e^{-(x-\\mu)^2/(2\\sigma^2)}\\,dx =\n",
    "\\frac{1}{\\sqrt{2\\pi}}\\int_{-\\infty}^\\infty (\\sigma z+\\mu) e^{-z^2/2}\\,dz =\n",
    "\\mu.\n",
    "$$\n",
    "最後の等号で $\\int_{-\\infty}^\\infty z e^{-z^2/2}\\,dz = 0$ と $\\int_{-\\infty}^\\infty e^{-z^2/2}\\,dy = \\sqrt{2\\pi}$ を使った.  この結果を使うと,\n",
    "\n",
    "$$\n",
    "\\op{var}(X) = E[(X-\\mu)^2] =\n",
    "\\frac{1}{\\sqrt{2\\pi\\sigma^2}}\\int_{-\\infty}^\\infty (x-\\mu)^2 e^{-(x-\\mu)^2/(2\\sigma^2)}\\,dx =\n",
    "\\frac{1}{\\sqrt{2\\pi}}\\int_{-\\infty}^\\infty \\sigma^2 z^2 e^{-z^2/2}\\,dx = \\sigma^2.\n",
    "$$\n",
    "\n",
    "最後の等号で $\\int_{-\\infty}^\\infty z^2 e^{-z^2/2}\\,dz = \\sqrt{2\\pi}$ を使った. この結果は\n",
    "\n",
    "$$\n",
    "\\int_{-\\infty}^\\infty e^{-\\alpha z^2}\\,dz = \\sqrt{\\pi}\\,\\alpha^{-1/2}\n",
    "$$\n",
    "\n",
    "の両辺を $\\alpha$ で微分して $-1$ 倍して $\\alpha=1/2$ とおいても得られるし, ガンマ函数に帰着する方法でも得られる.\n",
    "\n",
    "__解答終__"
   ]
  },
  {
   "cell_type": "markdown",
   "id": "0c2a1712",
   "metadata": {},
   "source": [
    "### 問題: 正規分布に従う独立な確率変数達の和も正規分布に従う\n",
    "\n",
    "$X$, $Y$ はともに正規分布に従う独立な確率変数達であるとき, $X+Y$ も正規分布に従うことを示せ.  $X+Y$ の平均と分散は $X$, $Y$ の平均と分散でどのように表されるか?\n",
    "\n",
    "__解答例:__ $X\\sim\\op{Normal}(\\mu_X, \\sigma_X)$, $Y\\sim\\op{Normal}(\\mu_Y, \\sigma_Y)$ でかつ $X,Y$ は独立であると仮定する.\n",
    "\n",
    "$X,Y$ は独立なので $X+Y$ の平均と分散はそれぞれ $\\mu_X + \\mu_Y$, $\\sigma_X^2 + \\sigma_Y^2$ になる.\n",
    "\n",
    "$X'=X-\\mu_X$, $Y'=Y-\\mu_Y$ とおくと, $X'\\sim\\op{Normal}(0,\\sigma_X)$, $Y\\sim\\op{Normal}(0,\\sigma_Y)$, $X+Y = (X'+Y') + (\\mu_X+\\mu_Y)$ となるので, $X'+Y'$ が正規分布に従うことを示せば十分である.  ゆえに $\\mu_X=0$, $\\mu_Y=0$ と仮定してよいので, そのように仮定する. \n",
    "\n",
    "$X+Y$ の確率密度函数を計算して, それが正規分布の密度函数になっていることを示せばよい. \n",
    "\n",
    "$$\n",
    "E[f(X+Y)] =\n",
    "\\frac{1}{\\sqrt{(2\\pi)^2\\sigma_X^2\\sigma_Y^2}}\n",
    "\\iint_{\\R^2} f(x+y) \\exp\\left(-\\frac{1}{2}\\left(\n",
    "\\frac{x^2}{\\sigma_X^2}+\\frac{y^2}{\\sigma_Y^2}\n",
    "\\right)\\right)\\,dx\\,dy\n",
    "$$\n",
    "\n",
    "であり, $x = x + y$ すなわち $y = z - x$ とおいて, $x$ について平方完成すると,\n",
    "\n",
    "$$\n",
    "\\frac{x^2}{\\sigma_X^2}+\\frac{y^2}{\\sigma_Y^2} =\n",
    "\\frac{x^2}{\\sigma_X^2}+\\frac{(z-x)^2}{\\sigma_Y^2} =\n",
    "\\frac{\\sigma_X^2+\\sigma_Y^2}{\\sigma_X^2\\sigma_Y^2}\n",
    "\\left(x - \\frac{\\sigma_X^2 z}{\\sigma_X^2+\\sigma_Y^2}\\right)^2 +\n",
    "\\frac{z^2}{\\sigma_X^2 + \\sigma_Y^2}.\n",
    "$$\n",
    "\n",
    "となる(この計算を自分で実行してみること).  ゆえに,\n",
    "\n",
    "$$\n",
    "\\begin{aligned}\n",
    "&\n",
    "E[f(X+Y)]\n",
    "\\\\ &=\n",
    "\\frac{1}{\\sqrt{(2\\pi)^2\\sigma_X^2\\sigma_Y^2}}\n",
    "\\int_\\R\\left(\\int_\\R f(z) \\exp\\left(-\n",
    "\\frac{\\sigma_X^2+\\sigma_Y^2}{2\\sigma_X^2\\sigma_Y^2}\n",
    "\\left(x - \\frac{\\sigma_X^2 z}{\\sigma_X^2+\\sigma_Y^2}\\right)^2 -\n",
    "\\frac{z^2}{2(\\sigma_X^2 + \\sigma_Y^2)}\n",
    "\\right)\\,dx\\right)\\,dz\n",
    "\\\\ &=\n",
    "\\frac{1}{\\sqrt{(2\\pi)^2\\sigma_X^2\\sigma_Y^2}}\n",
    "\\sqrt{\\frac{2\\pi\\sigma_X^2\\sigma_Y^2}{\\sigma_X^2+\\sigma_Y^2}}\n",
    "\\int_\\R f(z) \\exp\\left( -\\frac{z^2}{2(\\sigma_X^2 + \\sigma_Y^2)} \\right)\\,dz\n",
    "\\\\ &=\n",
    "\\frac{1}{\\sqrt{2\\pi(\\sigma_X^2+\\sigma_Y^2)}}\n",
    "\\int_\\R f(z) \\exp\\left( -\\frac{z^2}{2(\\sigma_X^2 + \\sigma_Y^2)} \\right)\\,dz\n",
    "\\end{aligned}\n",
    "$$\n",
    "\n",
    "以上によって $X+Y\\sim\\op{Normal}(\\mu_X + \\mu_Y, \\sigma_X^2 + \\sigma_Y^2)$ を示せた.\n",
    "\n",
    "$z = x + y$, $y = z - x$ とおくと密度函数中の指数函数の中身が $z$ についでの二次式になることから, $Z = X+Y$ が正規分布に従うことは計算しなくても明らかだと考えることもできる. 上のように $z$ 以外の変数は積分して消せる.  そして, $Z=X+Y$ の期待値は $X,Y$ の期待値の和になり, $X,Y$ が独立という仮定からそれらは無相関になるので $Z=X+Y$ の分散は $X,Y$ の分散の和になることもわかる. これだけで $X+Y\\sim\\op{Normal}(\\mu_X + \\mu_Y, \\sigma_X^2 + \\sigma_Y^2)$ を証明でいたともみなせる.\n",
    "\n",
    "__解答終__"
   ]
  },
  {
   "cell_type": "markdown",
   "id": "10db7b2b",
   "metadata": {},
   "source": [
    "上の解答中の最も面倒な部分の計算が正しいことはコンピュータで以下のように確認できる.\n",
    "\n",
    "$a=\\sigma_X^2$, $b=\\sigma_Y^2$ とおくと,"
   ]
  },
  {
   "cell_type": "code",
   "execution_count": 2,
   "id": "8d80b75c",
   "metadata": {},
   "outputs": [
    {
     "data": {
      "text/latex": [
       "$0$"
      ],
      "text/plain": [
       "0"
      ]
     },
     "execution_count": 2,
     "metadata": {},
     "output_type": "execute_result"
    }
   ],
   "source": [
    "@vars a b x z\n",
    "(a+b)/(a*b)*(x - a*z/(a+b))^2 + z^2/(a+b) - x^2/a - (z-x)^2/b |> simplify"
   ]
  },
  {
   "cell_type": "markdown",
   "id": "e582f88d",
   "metadata": {},
   "source": [
    "以下のように素朴に計算することもできる."
   ]
  },
  {
   "cell_type": "code",
   "execution_count": 3,
   "id": "6b0ad8b7",
   "metadata": {},
   "outputs": [
    {
     "data": {
      "text/latex": [
       "$\\frac{y^{2}}{b} + \\frac{x^{2}}{a}$"
      ],
      "text/plain": [
       " 2    2\n",
       "y    x \n",
       "-- + --\n",
       "b    a "
      ]
     },
     "execution_count": 3,
     "metadata": {},
     "output_type": "execute_result"
    }
   ],
   "source": [
    "@vars a b positive=true\n",
    "@vars x y z t\n",
    "expr = x^2/a + y^2/b"
   ]
  },
  {
   "cell_type": "code",
   "execution_count": 4,
   "id": "8b695b58",
   "metadata": {},
   "outputs": [
    {
     "data": {
      "text/latex": [
       "$\\frac{x^{2}}{b} - \\frac{2 x z}{b} + \\frac{z^{2}}{b} + \\frac{x^{2}}{a}$"
      ],
      "text/plain": [
       " 2            2    2\n",
       "x    2*x*z   z    x \n",
       "-- - ----- + -- + --\n",
       "b      b     b    a "
      ]
     },
     "execution_count": 4,
     "metadata": {},
     "output_type": "execute_result"
    }
   ],
   "source": [
    "expr = expr(y=>z-x).expand()"
   ]
  },
  {
   "cell_type": "code",
   "execution_count": 5,
   "id": "21b69c56",
   "metadata": {},
   "outputs": [
    {
     "data": {
      "text/latex": [
       "$\\operatorname{Poly}{\\left( \\frac{a + b}{a b} t^{2} + \\frac{z^{2}}{a + b}, t, domain=\\mathbb{Z}\\left(z, a, b\\right) \\right)}$"
      ],
      "text/plain": [
       "Poly((a + b)/(a*b)*t**2 + z**2/(a + b), t, domain='ZZ(z,a,b)')"
      ]
     },
     "execution_count": 5,
     "metadata": {},
     "output_type": "execute_result"
    }
   ],
   "source": [
    "A, B = 1/a+1/b, z/b\n",
    "expr = sympy.poly(expr(x => t + B/A), t) "
   ]
  },
  {
   "cell_type": "code",
   "execution_count": 6,
   "id": "78321232",
   "metadata": {},
   "outputs": [],
   "source": [
    "# 以下のセルでの説明で使う図の準備\n",
    "\n",
    "μ, σ, c = 2, 3, 1.5\n",
    "normal = Normal(μ, σ)\n",
    "\n",
    "P1 = plot(normal, μ - 4σ, μ + 4σ; label=\"Normal(μ,σ)\", xlabel=\"x = σz + μ\")\n",
    "vline!([μ]; label=\"x=μ\", xtick = ([μ-c*σ, μ, μ+c*σ], [\"μ-cσ\", \"μ\", \"μ+cσ\"]), ytick=false)\n",
    "plot!(normal, μ - 4σ, μ - c*σ; label=\"\", c=1, frange=0, fc=:red, fa=0.5)\n",
    "plot!(normal, μ + c*σ, μ + 4σ; label=\"\", c=1, frange=0, fc=:red, fa=0.5)\n",
    "annotate!(μ - 1.3c*σ, 0.8pdf(normal, μ - c*σ), (\"P(X≤μ-cσ)\", 10, :red, :right))\n",
    "annotate!(μ - 1.5c*σ, 0.5pdf(normal, μ - c*σ), (\"= α/2\", 10, :red, :right))\n",
    "annotate!(μ + 1.5c*σ, 0.5pdf(normal, μ + c*σ), (\"= α/2\", 10, :red, :left))\n",
    "annotate!(μ + 1.3c*σ, 0.8pdf(normal, μ + c*σ), (\"1-P(X≥μ+cσ)\", 10, :red, :left))\n",
    "\n",
    "P2 = plot(Normal(), -4, 4; label=\"Normal(0,1)\", xlabel=\"z = (x - μ)/σ\")\n",
    "vline!([0]; label=\"z=0\", xtick = ([-c, 0, c], [\"-c\", \"0\", \"c\"]), ytick=false)\n",
    "plot!(Normal(), -4, -c; label=\"\", c=1, frange=0, fc=:red, fa=0.5)\n",
    "plot!(Normal(),  c,  4; label=\"\", c=1, frange=0, fc=:red, fa=0.5)\n",
    "annotate!(-1.3c, 0.8pdf(Normal(), -c), (\"P(Z≤-c)\", 10, :red, :right))\n",
    "annotate!(-1.5c, 0.5pdf(Normal(), -c), (\"= α/2\", 10, :red, :right))\n",
    "annotate!( 1.5c, 0.5pdf(Normal(),  c), (\"= α/2\", 10, :red, :left))\n",
    "annotate!( 1.3c, 0.8pdf(Normal(),  c), (\"1-P(Z≥c)\", 10, :red, :left))\n",
    "\n",
    "var\"P(μ-cσ ≤ X ≤ μ+cσ) = 1-α ⟺ 1 - P(Z ≤ c) = α/2\" =\n",
    "    plot(P1, P2; size=(800, 250), bottommargin=4Plots.mm);"
   ]
  },
  {
   "cell_type": "markdown",
   "id": "ae1d9221",
   "metadata": {},
   "source": [
    "### 問題: 正規分布における確率がほぼ95%または99%になる区間\n",
    "\n",
    "$X \\sim \\op{Normal}(\\mu, \\sigma)$ であると仮定する.  このとき, $X$ が区間 $[\\mu-c\\sigma, \\mu+c\\sigma]$ に含まれる確率\n",
    "\n",
    "$$\n",
    "P(\\mu-c\\sigma \\le X \\le \\mu+c\\sigma)\n",
    "$$\n",
    "\n",
    "が $95\\%$ になる $c$ と $99\\%$ になる $c$ を小数点以下第2桁目まで求めよ.\n",
    "\n",
    "__解答例:__ 標準正規分布の場合の計算に帰着することを考えよう.\n",
    "\n",
    "$Z = (X - \\mu)/\\sigma$ とおくと $Z$ は標準正規分布に従うのであった: $Z \\sim \\op{Normal}(0,1)$. このとき,\n",
    "\n",
    "$$\n",
    "\\mu-c\\sigma \\le X \\le \\mu+c\\sigma \\iff -c \\le Z = \\frac{X-\\mu}{\\sigma} \\le c\n",
    "$$\n",
    "\n",
    "なので, 標準正規分布に従う確率変数 $Z$ について $P(-c \\le Z \\le c)$ が $95\\%$ になる $c$ と $99\\%$ になる $c$ を求めればよい.  正規分布は左右対称なので, $P(-c \\le Z \\le c) = 1 - \\alpha$ となることと, $1 - P(Z \\le c) = \\alpha/2$ すなわち\n",
    "\n",
    "$$\n",
    "P(Z \\le c) = 1 - \\alpha/2\n",
    "$$\n",
    "\n",
    "となることは同値である. 下の図を見よ."
   ]
  },
  {
   "cell_type": "code",
   "execution_count": 7,
   "id": "9c0255bd",
   "metadata": {
    "scrolled": true
   },
   "outputs": [
    {
     "data": {
      "image/png": "[encoded data removed]"
     },
     "execution_count": 7,
     "metadata": {},
     "output_type": "execute_result"
    }
   ],
   "source": [
    "var\"P(μ-cσ ≤ X ≤ μ+cσ) = 1-α ⟺ 1 - P(Z ≤ c) = α/2\""
   ]
  },
  {
   "cell_type": "markdown",
   "id": "0da2d3ea",
   "metadata": {},
   "source": [
    "$F(z) = P(Z \\le z)$ は標準正規分布の累積分布函数である. 標準正規分布の累積分布函数はコンピュータでの基本特殊函数ライブラリに含まれている誤差函数\n",
    "\n",
    "$$\n",
    "\\op{erf}(x) = \\frac{2}{\\sqrt{\\pi}} \\int_0^x \\exp(-u^2) \\,du\n",
    "$$\n",
    "\n",
    "を使えば\n",
    "\n",
    "$$\n",
    "F(z) = \\frac{1 + \\op{erf}(z/\\sqrt{2})}{2}.\n",
    "$$\n",
    "\n",
    "と書けるのであった. ゆえに誤差函数の逆函数 $\\op{erfinv}(y)$ (この函数のコンピュータでの基本特殊函数ライブラリに含まれている)を使えば, 標準正規分布の累積分布函数 $F(z)$ の逆函数(分位点函数)は\n",
    "\n",
    "$$\n",
    "Q(p) = F^{-1}(p) = \\sqrt{2}\\,\\op{erfinv}(2p - 1)\n",
    "$$\n",
    "\n",
    "と書ける.  これを使えば $P(Z \\le c) = 1 - \\alpha/2$ となる $c$ を\n",
    "\n",
    "$$\n",
    "c = Q(1 - \\alpha/2) = \\sqrt{2}\\,\\op{erfinv}(1 - \\alpha)\n",
    "$$\n",
    "\n",
    "と求めることができる.\n",
    "\n",
    "* $1-\\alpha=95\\%$ のとき, $c = \\sqrt{2}\\,\\op{erfinv}(1 - \\alpha) \\approx 1.96$\n",
    "* $1-\\alpha=99\\%$ のとき, $c = \\sqrt{2}\\,\\op{erfinv}(1 - \\alpha) \\approx 2.58$\n",
    "\n",
    "__解答終__"
   ]
  },
  {
   "cell_type": "markdown",
   "id": "eb4bd3f3",
   "metadata": {},
   "source": [
    "[Julia言語](https://julialang.org/)では以下のように計算できる. (ただし, `using SpecialFunctions, Distributions` が必要.)"
   ]
  },
  {
   "cell_type": "code",
   "execution_count": 8,
   "id": "a30216c7",
   "metadata": {},
   "outputs": [
    {
     "data": {
      "text/plain": [
       "(1.9599639845400576, 1.9599639845400576)"
      ]
     },
     "execution_count": 8,
     "metadata": {},
     "output_type": "execute_result"
    }
   ],
   "source": [
    "√2 * erfinv(0.95), quantile(Normal(), 0.975)"
   ]
  },
  {
   "cell_type": "code",
   "execution_count": 9,
   "id": "5bfd6101",
   "metadata": {},
   "outputs": [
    {
     "data": {
      "text/plain": [
       "(2.5758293035489053, 2.5758293035489053)"
      ]
     },
     "execution_count": 9,
     "metadata": {},
     "output_type": "execute_result"
    }
   ],
   "source": [
    "√2 * erfinv(0.99), quantile(Normal(), 0.995)"
   ]
  },
  {
   "cell_type": "markdown",
   "id": "94e66bad",
   "metadata": {},
   "source": [
    "[WolframAlpha](https://www.wolframalpha.com/)では以下のように計算できる.\n",
    "\n",
    "* [√2 erfinv(0.95)](https://www.wolframalpha.com/input?i=%E2%88%9A2+erfinv%280.95%29), [quantile(NormalDistribution(0,1), 0.975)](https://www.wolframalpha.com/input?i=quantile%28NormalDistribution%280%2C1%29%2C+0.975%2)\n",
    "* [√2 erfinv(0.99)](https://www.wolframalpha.com/input?i=%E2%88%9A2+erfinv%280.99%29), [quantile(NormalDistribution(0,1), 0.995)](https://www.wolframalpha.com/input?i=quantile%28NormalDistribution%280%2C1%29%2C+0.995%29)"
   ]
  },
  {
   "cell_type": "markdown",
   "id": "e9c4e9ac",
   "metadata": {},
   "source": [
    "### 問題: 正規分布のモーメント母函数とキュムラント母函数\n",
    "\n",
    "$X \\sim \\op{Normal}(\\mu, \\sigma)$ のとき次が成立することを示せ:\n",
    "\n",
    "$$\n",
    "E[e^{tX}] = e^{\\mu t + \\sigma^2 t^2/2}, \\quad\n",
    "\\log E[e^{tX}] = \\mu t + \\sigma^2 \\frac{t^2}{2}.\n",
    "$$\n",
    "\n",
    "__注意:__ 一般に確率変数 $X$ に対して, $E[e^{tX}]$ を $X$ の __モーメント母函数__ (moment generating function, mgf)と呼び, $\\log E[e^{tX}]$ を $X$ の __キュムラント母函数__ (cumulant generating function, cgf)と呼ぶ. \n",
    "\n",
    "__注意:__ 正規分布のキュムラント母函数は上のように非常に単純な形になる. キュムラント母函数が $t$ について2次式になることと分布が正規分布であることは同値であり, キュムラント母函数中の $t$ について3次以上の項は分布が正規分布とどのように違うかを表している.  特にそのうちの最初の2つである $t^3/3!$ と $t^4/4!$ の係数はそれぞれ __歪度__ (わいど, skewness) と __尖度__ (せんど, kurtosis)と呼ばれている.\n",
    "\n",
    "__注意:__ モーメント母函数とキュムラント母函数は物理での統計力学での分配函数と自由エネルギーの統計学での類似物になっており, 極めて便利な母函数になっている. 上の $t$ は物理的には逆温度 $\\beta$ の $-1$ 倍の $-\\beta$ に対応している.\n",
    "\n",
    "__解答例:__ \n",
    "\n",
    "$$\n",
    "\\begin{aligned}\n",
    "tx - \\frac{(x-\\mu)^2}{2\\sigma^2} &= -\n",
    "\\frac{(x-\\mu)^2 - 2\\sigma^2 tx}{2\\sigma^2} = -\n",
    "\\frac{x^2 - 2(\\mu + \\sigma^2 t) x + \\mu^2}{2\\sigma^2} \\\\ &= -\n",
    "\\frac{(x - (\\mu + \\sigma^2 t))^2 + \\mu^2 - (\\mu + \\sigma^2 t)^2}{2\\sigma^2} \\\\ &= -\n",
    "\\frac{(x - (\\mu + \\sigma^2 t))^2 - 2\\sigma^2\\mu t + \\sigma^4 t^2}{2\\sigma^2} \\\\ &= -\n",
    "\\frac{(x - (\\mu + \\sigma^2 t))^2}{2\\sigma^2} + \\mu t + \\sigma^2\\frac{t^2}{2}\n",
    "\\end{aligned}\n",
    "$$\n",
    "\n",
    "より\n",
    "\n",
    "$$\n",
    "\\begin{aligned}\n",
    "E[e^{tX}] &=\n",
    "\\frac{1}{\\sqrt{2\\pi\\sigma^2}}\n",
    "\\int_{-\\infty}^\\infty e^{tx} e^{-(x-\\mu)^2)/(2\\sigma^2)}\\,dx \\\\ &=\n",
    "\\frac{e^{\\mu t+\\sigma^2 t^2/2}}{\\sqrt{2\\pi\\sigma^2}}\n",
    "\\int_{-\\infty}^\\infty e^{-(x-(\\mu+\\sigma^2 t))^2)/(2\\sigma^2)}\\,dx =\n",
    "e^{\\mu t+\\sigma^2 t^2/2}.\n",
    "\\end{aligned}\n",
    "$$\n",
    "\n",
    "こらから $\\log E[e^{tX}] = \\mu t + \\sigma^2 t^2/2$ はただちに得られる.\n",
    "\n",
    "__解答終__"
   ]
  },
  {
   "cell_type": "markdown",
   "id": "6a51be9e",
   "metadata": {},
   "source": [
    "### 問題: キュムラント母函数と期待値と分散\n",
    "\n",
    "期待値 $\\mu$ と分散 $\\sigma$ を持つ確率変数 $X$ について次が成立することを示せ:\n",
    "\n",
    "$$\n",
    "\\log E[e^{tX}] = \\mu t + \\sigma^2\\frac{t^2}{2} + O(t^3)\n",
    "$$\n",
    "\n",
    "この結果は期待値と分散の計算に有用な場合がある.  この結果は今後空気のごとく使われる.\n",
    "\n",
    "__解答例:__ $e^{tX} = 1 + X t + X^2 t^2/2 + O(t^3)$ より,\n",
    "\n",
    "$$\n",
    "E[e^{tX}] = 1 + E[X] t + E[X^2] \\frac{t^2}{2} + O(t^3).\n",
    "$$\n",
    "\n",
    "$\\log(1 + a) = a - a^2/2 + O(a^3)$ を使うと,\n",
    "\n",
    "$$\n",
    "\\begin{aligned}\n",
    "\\log E[e^{tX}] &=\n",
    "E[X] t + E[X^2] \\frac{t^2}{2} - \\frac{E[X] t)^2}{2} + O(t^3) \\\\ &=\n",
    "E[X] t + (E[X^2] - E[X]^2) \\frac{t^2}{2} + O(t^3) =\n",
    "\\mu t + \\sigma^2 \\frac{t^2}{2} + O(t^3).\n",
    "\\end{aligned}\n",
    "$$\n",
    "\n",
    "__解答終__"
   ]
  },
  {
   "cell_type": "markdown",
   "id": "19515581",
   "metadata": {},
   "source": [
    "### 問題: 対数正規分布の確率密度函数\n",
    "\n",
    "$X \\sim \\op{Normal}(\\mu, \\sigma)$ のときの $Y = e^X$ が従う分布を対数正規分布と呼び,\n",
    "\n",
    "$$\n",
    "\\op{LogNormal}(\\mu, \\sigma)\n",
    "$$\n",
    "\n",
    "と表す. 対数正規分布の確率密度函数を求めよ.\n",
    "\n",
    "__解答例:__ $x = \\log y$ と積分変数を変換すると, $dx = dy/y$ なので,\n",
    "\n",
    "$$\n",
    "E[f(Y)] =\n",
    "\\frac{1}{\\sqrt{2\\pi\\sigma^2}}\\int_{-\\infty}^\\infty\n",
    "f(e^x) \\exp\\left(-\\frac{(x-\\mu)^2}{2\\sigma^2}\\right)\\,dx =\n",
    "\\frac{1}{\\sqrt{2\\pi\\sigma^2}}\\int_{-\\infty}^\\infty\n",
    "f(y) \\exp\\left(-\\frac{(\\log y-\\mu)^2}{2\\sigma^2}\\right)\\,\\frac{dy}{y}.\n",
    "$$\n",
    "\n",
    "ゆえに対数正規分布の確率密度函数は次の形になる:\n",
    "\n",
    "$$\n",
    "p(y) = \\frac{1}{\\sqrt{2\\pi\\sigma^2}\\,y}\n",
    "\\exp\\left(-\\frac{(\\log y-\\mu)^2}{2\\sigma^2}\\right).\n",
    "$$\n",
    "\n",
    "__解答終__"
   ]
  },
  {
   "cell_type": "code",
   "execution_count": 10,
   "id": "736501fb",
   "metadata": {},
   "outputs": [
    {
     "data": {
      "image/png": "[encoded data removed]"
     },
     "execution_count": 10,
     "metadata": {},
     "output_type": "execute_result"
    }
   ],
   "source": [
    "plot(LogNormal(0, 1), 0, 8; label=\"\", title=\"LogNormal(0, 1)\")"
   ]
  },
  {
   "cell_type": "markdown",
   "id": "503e434e",
   "metadata": {},
   "source": [
    "### 問題: 対数正規分布の期待値と分散\n",
    "\n",
    "$Y \\sim \\op{LogNormal}(\\mu,\\sigma)$ のとき次が成立することを示せ:\n",
    "\n",
    "$$\n",
    "E[Y^m] = e^{m\\mu+m^2\\sigma^2/2}, \\quad\n",
    "E[Y] = e^{\\mu + \\sigma^2/2}, \\quad\n",
    "\\op{var}(Y) = e^{2\\mu + \\sigma^2}(e^{\\sigma^2} - 1).\n",
    "$$\n",
    "\n",
    "__解答例:__ $X = \\log Y \\sim \\op{Normal}(\\mu, \\sigma)$ となるので, $E[Y^m]$ の計算で正規分布のモーメント母函数に関する結果を使え, 次が得られる:\n",
    "\n",
    "$$\n",
    "E[Y^m] = E[e^{mX}] = e^{m\\mu+m^2\\sigma^2/2}.\n",
    "$$\n",
    "\n",
    "ゆえに\n",
    "\n",
    "$$\n",
    "\\begin{aligned}\n",
    "&\n",
    "E[Y] = e^{\\mu + \\sigma^2/2},\n",
    "\\\\ &\n",
    "\\op{var}(Y) = E[Y^2] - E[Y]^2 =\n",
    "e^{2\\mu + 2\\sigma^2} - e^{2\\mu + \\sigma^2} =\n",
    "e^{2\\mu + \\sigma^2}(e^{\\sigma^2} - 1).\n",
    "\\end{aligned}\n",
    "$$\n",
    "\n",
    "__解答終__"
   ]
  },
  {
   "cell_type": "markdown",
   "id": "be73290e",
   "metadata": {},
   "source": [
    "## Poisson分布"
   ]
  },
  {
   "cell_type": "markdown",
   "id": "d6d93767",
   "metadata": {},
   "source": [
    "### Poisson分布の定義\n",
    "\n",
    "$\\lambda > 0$ と仮定する. 確率質量函数\n",
    "\n",
    "$$\n",
    "p(k|\\lambda) = e^{-\\lambda}\\frac{\\lambda^k}{k!}\n",
    "\\quad (k = 0,1,2,\\ldots)\n",
    "$$\n",
    "\n",
    "で定義される無限離散分布を __Poisson分布__ (ポアソン分布)と呼び, 次のように表すことにする:\n",
    "\n",
    "$$\n",
    "\\op{Poisson}(\\lambda).\n",
    "$$\n",
    "\n",
    "Poisson分布は一定期間に起こるイベントの回数の分布のモデル化としてよく使われている. "
   ]
  },
  {
   "cell_type": "code",
   "execution_count": 11,
   "id": "371a1695",
   "metadata": {},
   "outputs": [
    {
     "data": {
      "image/png": "[encoded data removed]"
     },
     "execution_count": 11,
     "metadata": {},
     "output_type": "execute_result"
    }
   ],
   "source": [
    "PP = []\n",
    "for λ in (1, 3, 10, 30)\n",
    "    P = bar(0:λ+6√λ, k -> pdf(Poisson(λ), k);\n",
    "        alpha=0.3, label=\"\", title=\"Poisson($λ)\")\n",
    "    push!(PP, P)\n",
    "end\n",
    "plot(PP...; size=(800, 150), layout=(1, 4))"
   ]
  },
  {
   "cell_type": "markdown",
   "id": "959357d7",
   "metadata": {},
   "source": [
    "### 問題: Poisson分布のキュムラント母函数と期待値と分散\n",
    "　」\n",
    "$K \\sim \\op{Poisson}(\\lambda)$ のとき次が成立することを示せ:\n",
    "\n",
    "$$\n",
    "\\log E[e^{tK}] = \\lambda(e^t - 1), \\quad\n",
    "E[K] = \\op{var}(K) = \\lambda.\n",
    "$$\n",
    "\n",
    "さらに $K$ の標準化 $Z$ を $Z = (K - \\lambda)/\\sqrt{\\lambda}$ と定めると成立することも示せ:\n",
    "\n",
    "$$\n",
    "\\log E[e^{tZ}] = \\frac{t^2}{2} + O(\\lambda^{-1/2}).\n",
    "$$\n",
    "\n",
    "__注意:__ 一般に期待値 $\\mu$, 標準偏差 $\\sigma$ を持つ確率変数 $X$ の __標準化__ $Z$ は $Z=(X-\\mu)/\\sigma$ と定義される. そのとき $\\log E[e^{tZ}]$ を $X$ の標準化キュムラント母函数と呼ぶ. 標準化キュムラント母函数が $t^2/2$ にどれだけ近いかはその分布がどれだけ正規分布に近いかを表していると考えられる. 上の問題の結果より, $\\lambda$ を大きくすると, Poisson分布は正規分布に近付くことがわかる.\n",
    "\n",
    "__解答例:__\n",
    "\n",
    "$$\n",
    "\\begin{aligned}\n",
    "&\n",
    "E[e^{tK}] =\n",
    "e^{-\\lambda}\\sum_{k=0}^\\infty e^{tk}\\frac{\\lambda^k}{k!} =\n",
    "e^{-\\lambda}\\sum_{k=0}^\\infty \\frac{(\\lambda e^t)^k}{k!} =\n",
    "e^{\\lambda(e^t - 1)},\n",
    "\\\\ &\n",
    "\\log E[e^{tK}] = \\lambda(e^t - 1) =\n",
    "\\lambda\\left(t + \\frac{t^2}{2} + O(t^3)\\right) =\n",
    "\\lambda t + \\lambda \\frac{t^2}{2} + O(t^3).\n",
    "\\end{aligned}\n",
    "$$\n",
    "\n",
    "$\\log E[e^{tK}]$ の展開における $t$, $t^2/2$ の係数がそれぞれ $X$ の期待値, 分散になるので\n",
    "\n",
    "$$\n",
    "E[K] = \\op{var}(K) = \\lambda.\n",
    "$$\n",
    "\n",
    "さらに, $Z = (K - \\lambda)/\\sqrt{\\lambda})$ について\n",
    "\n",
    "$$\n",
    "\\begin{aligned}\n",
    "\\log E[e^{tZ}] &=\n",
    "\\log\\left(e^{-\\sqrt{\\lambda}\\, t)} E\\left[e^{(t/\\sqrt{\\lambda})X}\\right]\\right) =\n",
    "\\log E\\left[e^{(t/\\sqrt{\\lambda})X}\\right] - \\sqrt{\\lambda}\\, t) \\\\ &=\n",
    "\\lambda(e^{t/\\sqrt{\\lambda}} - 1) - \\sqrt{\\lambda}\\, t) =\n",
    "\\lambda\\left(\\frac{t}{\\sqrt{\\lambda}} + \\frac{t^2}{2\\lambda} + O(\\lambda^{-3/2})\\right) - \\sqrt{\\lambda}\\,t \\\\ &=\n",
    "\\left(\\sqrt{\\lambda}\\, t  + \\frac{t^2}{2} + O(\\lambda^{-1/2})\\right) - \\sqrt{\\lambda}\\,t =\n",
    "\\frac{t^2}{2} + O(\\lambda^{-1/2}).\n",
    "\\end{aligned}\n",
    "$$\n",
    "\n",
    "__解答終__"
   ]
  },
  {
   "cell_type": "code",
   "execution_count": 12,
   "id": "221a390f",
   "metadata": {},
   "outputs": [
    {
     "data": {
      "image/png": "[encoded data removed]"
     },
     "execution_count": 12,
     "metadata": {},
     "output_type": "execute_result"
    }
   ],
   "source": [
    "λ = 30\n",
    "bar(0:λ+6√λ, k -> pdf(Poisson(λ), k);\n",
    "    alpha=0.3, label=\"\", title=\"Poisson($λ)\")\n",
    "plot!(Normal(λ, √λ); label=\"normal approx.\", lw=2)"
   ]
  },
  {
   "cell_type": "markdown",
   "id": "84e5adc3",
   "metadata": {},
   "source": [
    "### 二項分布の連続時間極限"
   ]
  },
  {
   "cell_type": "markdown",
   "id": "e7babbb8",
   "metadata": {},
   "source": [
    "## ガンマ分布"
   ]
  },
  {
   "cell_type": "markdown",
   "id": "5aeaa7e1",
   "metadata": {},
   "source": [
    "### 負の二項分布の連続時間極限"
   ]
  },
  {
   "cell_type": "markdown",
   "id": "b53ef094",
   "metadata": {},
   "source": [
    "### χ²分布"
   ]
  },
  {
   "cell_type": "markdown",
   "id": "1092311a",
   "metadata": {},
   "source": [
    "## ベータ分布"
   ]
  },
  {
   "cell_type": "markdown",
   "id": "310f9c6f",
   "metadata": {},
   "source": [
    "### 一様分布の順序統計量"
   ]
  },
  {
   "cell_type": "markdown",
   "id": "448c490b",
   "metadata": {},
   "source": [
    "### t分布"
   ]
  },
  {
   "cell_type": "markdown",
   "id": "a583c8f2",
   "metadata": {},
   "source": [
    "### F分布"
   ]
  },
  {
   "cell_type": "markdown",
   "id": "4b146fb9",
   "metadata": {},
   "source": [
    "### 二項分布とベータ分布の累積分布函数の関係"
   ]
  },
  {
   "cell_type": "code",
   "execution_count": null,
   "id": "7146cf34",
   "metadata": {},
   "outputs": [],
   "source": []
  }
 ],
 "metadata": {
  "@webio": {
   "lastCommId": null,
   "lastKernelId": null
  },
  "jupytext": {
   "formats": "ipynb,md"
  },
  "kernelspec": {
   "display_name": "Julia 1.7.2",
   "language": "julia",
   "name": "julia-1.7"
  },
  "language_info": {
   "file_extension": ".jl",
   "mimetype": "application/julia",
   "name": "julia",
   "version": "1.7.2"
  },
  "toc": {
   "base_numbering": 1,
   "nav_menu": {},
   "number_sections": true,
   "sideBar": true,
   "skip_h1_title": true,
   "title_cell": "目次",
   "title_sidebar": "目次",
   "toc_cell": true,
   "toc_position": {},
   "toc_section_display": true,
   "toc_window_display": false
  }
 },
 "nbformat": 4,
 "nbformat_minor": 5
}
